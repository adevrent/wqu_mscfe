{
 "cells": [
  {
   "cell_type": "markdown",
   "metadata": {},
   "source": [
    "# Step 5"
   ]
  },
  {
   "cell_type": "code",
   "execution_count": 1,
   "metadata": {},
   "outputs": [
    {
     "name": "stdout",
     "output_type": "stream",
     "text": [
      "500 Credit Limit has been assigned\n"
     ]
    },
    {
     "data": {
      "text/plain": [
       "500"
      ]
     },
     "execution_count": 1,
     "metadata": {},
     "output_type": "execute_result"
    }
   ],
   "source": [
    "def information_validation(first_name,last_name,salary,age):\n",
    "    assert isinstance(first_name,str),'first_name should be string'\n",
    "    assert isinstance(last_name,str),'last_name should be string'\n",
    "    assert isinstance(salary,int),'salary should be int'\n",
    "    assert isinstance(age,int),'age should be int'\n",
    "\n",
    "def inputs_modeling(first_name,last_name,salary,age):\n",
    "    try:\n",
    "        information_validation(first_name,last_name,salary,age)\n",
    "        if age<18:\n",
    "            return 'Reject'\n",
    "        elif salary==0:\n",
    "            return 'Reject'\n",
    "        else:\n",
    "            max_limit=salary//2\n",
    "            print(f'{max_limit} Credit Limit has been assigned')\n",
    "            return max_limit\n",
    "    except:\n",
    "        print('Information Provided in incorrect')\n",
    "    \n",
    "\n",
    "fname='Totto'\n",
    "lname='Alex'\n",
    "salary=1000\n",
    "age=18\n",
    "\n",
    "inputs_modeling(fname,lname,salary,age)"
   ]
  },
  {
   "cell_type": "markdown",
   "metadata": {},
   "source": [
    "![Image Caption](Step5.png)"
   ]
  },
  {
   "cell_type": "markdown",
   "metadata": {},
   "source": [
    "The purpose of this document is to outline risks related with credit card lending activities. We are overviewing a lending scenario in which, upon a users request, the decision to lend money or to refuse lending is made. Diagram representation is suited best as it allows for clear visualization of steps related to the decision making process of money lending during the credit card request by the user. Each request ends with approval or denial which follows either by issuance of the credit limit or by refusal sent to the customer. \n",
    "\n",
    "In this procedure we have identified two major risks associated with credit card limit approval and credit card issuance. First risk is age. Model parameters are tuned in such a way that anyone below age of 18 will not be granted permission to obtain a credit card limit. Main reason for this is that young adults/teenagers below the age of 18 do not have steady jobs and do take responsibility seriously. As collected data on credit card delinquencies shows people younger than 18 years do show a higher tendency to default in their minimum monthly payments required to maintain a fixed monthly interest rate. Another risk associated with credit card limit approval and credit card issuance is risk related to monthly salary. Our model is tuned in such a way that it will refuse anyone without a salary to obtain a credit limit. \n",
    "\n",
    "Once user is qualified (i.e. user is 18 or older and has a salary above 0), the model assigns a potential credit limit. This limit is set to the half of the monthly salary. Once the approval succeeds, credit is issued and card is either sent out or current limit on the current card is increased. \n",
    "\n",
    "In case credit limit is not approved, model returns ‘Rejected’ in which case customer receives a notification that no credit limit has been granted as per request."
   ]
  },
  {
   "cell_type": "markdown",
   "metadata": {},
   "source": [
    "# Step 6"
   ]
  },
  {
   "cell_type": "markdown",
   "metadata": {},
   "source": [
    "![Image Caption](Step6.png)"
   ]
  },
  {
   "cell_type": "code",
   "execution_count": 2,
   "metadata": {},
   "outputs": [],
   "source": [
    "class SecurityLending:\n",
    "    def __init__(self,accounts,securities) -> None:\n",
    "        self.accounts=accounts\n",
    "        self.securities=securities\n",
    "\n",
    "    def check_if_margin_sufficient(self,account_number,security):\n",
    "        security_margin_required=self.securities.get(security,None)\n",
    "        account_margin=self.accounts.get(account_number,0)\n",
    "\n",
    "        if security_margin_required and account_margin>0:\n",
    "            if account_margin>security_margin_required:\n",
    "                return 'Allowed'\n",
    "            else:\n",
    "                return 'Not allowed'\n",
    "        else:\n",
    "            return 'Not allowed'"
   ]
  },
  {
   "cell_type": "code",
   "execution_count": 3,
   "metadata": {},
   "outputs": [
    {
     "data": {
      "text/plain": [
       "'Allowed'"
      ]
     },
     "execution_count": 3,
     "metadata": {},
     "output_type": "execute_result"
    }
   ],
   "source": [
    "accounts=dict(one=100,two=200,three=300)\n",
    "securities=dict(a=50,b=330,c=500)\n",
    "\n",
    "sl=SecurityLending(accounts,securities)\n",
    "sl.check_if_margin_sufficient('one','a')"
   ]
  },
  {
   "cell_type": "markdown",
   "metadata": {},
   "source": [
    "The purpose of this document is to provide an overview of the risks associated with security lending activities and to specifically focus on one significant risk, margin risk. In the context of security lending, we are examining a lending scenario where, upon a user's request, a decision to lend securities is made. \n",
    "\n",
    "This decision-making process is visually represented in a workflow diagram, which allows for a clear visualization of the steps involved in the lending process, ultimately leading to either approval or denial of the lending request.\n",
    "Workflow Diagram: Before delving into the discussion of margin risk, it is essential to understand the workflow involved in the lending scenario. The workflow comprises the following key steps:\n",
    "\n",
    "**User Request:** A user initiates a request to borrow securities.\n",
    "\n",
    "**Margin Calculation:** The system calculates the margin requirement for the requested securities.\n",
    "\n",
    "**Margin Assessment:** The system compares the margin requirement with the margin available in the requesting party's account.\n",
    "\n",
    "**Decision:** Based on the margin assessment, the system makes a lending decision, resulting in either the approval or denial of the lending request.\n",
    "\n",
    "**Outcome:** The lending outcome leads to either the lending of securities to the user or a refusal.\n",
    "\n",
    "**Risk Identification:**\n",
    "In this procedure, one significant risk has been identified, which is margin risk. Margin risk is inherent in security lending activities and is related to the margin requirements for the securities requested by the user.\n",
    "\n",
    "**Margin Risk:**\n",
    "Margin risk arises when the margin requirement for the requested securities exceeds the available margin in the account of the requesting party. Margin is essentially the collateral held to secure a loan and is a key determinant of the lending decision.\n",
    "\n",
    "**Managing Margin Risk:**\n",
    "Effective management of margin risk is crucial to ensure the soundness of security lending activities. Here are the strategies and policies in place to mitigate margin risk:\n",
    "\n",
    "**Margin Requirement Assessment:** Prior to approving a lending request, the system calculates the margin requirement for the requested securities based on predetermined criteria. This ensures that the margin requirement is consistent and appropriate.\n",
    "\n",
    "**Margin Monitoring:** The system continuously monitors the margin in the account of the requesting party. If the margin falls below the required threshold during the lending period, appropriate actions are taken to address the shortfall.\n",
    "\n",
    "**Risk-Based Lending Limits:** Lending limits are established based on the available margin, creditworthiness of the requesting party, and the nature of the securities. This ensures that lending activities are commensurate with the level of risk the organization is willing to undertake.\n",
    "\n",
    "**Automated Margin Calls:** In the event of a margin deficit, the system automatically generates margin calls to the requesting party. These calls prompt the requesting party to deposit additional collateral to cover the shortfall.\n",
    "\n",
    "**Risk-Based Pricing:** The organization employs risk-based pricing to adjust fees and interest rates based on the credit risk and margin available, aligning pricing with the level of risk.\n",
    "\n",
    "### **Conclusion:**\n",
    "\n",
    "Margin risk is a significant concern in security lending activities. However, a well-structured risk management framework is in place to effectively manage this risk. By assessing margin requirements, continuous monitoring, setting risk-based lending limits, automating margin calls, and employing risk-based pricing, the organization ensures that lending activities are conducted in a manner that mitigates margin risk effectively.\n",
    "In conclusion, managing margin risk is an integral part of our security lending process, and our robust risk management strategies aim to strike a balance between meeting the needs of the requesting party and safeguarding the organization's interests."
   ]
  }
 ],
 "metadata": {
  "kernelspec": {
   "display_name": "factor_research",
   "language": "python",
   "name": "python3"
  },
  "language_info": {
   "codemirror_mode": {
    "name": "ipython",
    "version": 3
   },
   "file_extension": ".py",
   "mimetype": "text/x-python",
   "name": "python",
   "nbconvert_exporter": "python",
   "pygments_lexer": "ipython3",
   "version": "3.10.5"
  }
 },
 "nbformat": 4,
 "nbformat_minor": 2
}
