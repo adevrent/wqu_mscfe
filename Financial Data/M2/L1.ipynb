{
 "cells": [
  {
   "cell_type": "code",
   "execution_count": 76,
   "metadata": {},
   "outputs": [],
   "source": [
    "import datetime\n",
    "\n",
    "import numpy as np\n",
    "import pandas_datareader.data as web\n",
    "import yfinance as yfin\n",
    "from IPython.display import VimeoVideo\n",
    "\n",
    "yfin.pdr_override()"
   ]
  },
  {
   "cell_type": "code",
   "execution_count": 77,
   "metadata": {},
   "outputs": [
    {
     "name": "stdout",
     "output_type": "stream",
     "text": [
      "[*********************100%%**********************]  3 of 3 completed\n"
     ]
    }
   ],
   "source": [
    "start = datetime.date(2016, 11, 16)\n",
    "end = datetime.date.today()\n",
    "\n",
    "df = web.DataReader([\"TLT\", \"TSLA\", \"BTC-USD\"], start, end)[\"Adj Close\"]"
   ]
  },
  {
   "cell_type": "code",
   "execution_count": 78,
   "metadata": {},
   "outputs": [
    {
     "data": {
      "text/html": [
       "<div>\n",
       "<style scoped>\n",
       "    .dataframe tbody tr th:only-of-type {\n",
       "        vertical-align: middle;\n",
       "    }\n",
       "\n",
       "    .dataframe tbody tr th {\n",
       "        vertical-align: top;\n",
       "    }\n",
       "\n",
       "    .dataframe thead th {\n",
       "        text-align: right;\n",
       "    }\n",
       "</style>\n",
       "<table border=\"1\" class=\"dataframe\">\n",
       "  <thead>\n",
       "    <tr style=\"text-align: right;\">\n",
       "      <th></th>\n",
       "      <th>BTC-USD</th>\n",
       "      <th>TLT</th>\n",
       "      <th>TSLA</th>\n",
       "    </tr>\n",
       "    <tr>\n",
       "      <th>Date</th>\n",
       "      <th></th>\n",
       "      <th></th>\n",
       "      <th></th>\n",
       "    </tr>\n",
       "  </thead>\n",
       "  <tbody>\n",
       "    <tr>\n",
       "      <th>2016-11-16</th>\n",
       "      <td>744.197998</td>\n",
       "      <td>105.431709</td>\n",
       "      <td>12.262000</td>\n",
       "    </tr>\n",
       "    <tr>\n",
       "      <th>2016-11-17</th>\n",
       "      <td>740.976990</td>\n",
       "      <td>103.880371</td>\n",
       "      <td>12.577333</td>\n",
       "    </tr>\n",
       "    <tr>\n",
       "      <th>2016-11-18</th>\n",
       "      <td>751.585022</td>\n",
       "      <td>103.580383</td>\n",
       "      <td>12.334667</td>\n",
       "    </tr>\n",
       "    <tr>\n",
       "      <th>2016-11-19</th>\n",
       "      <td>751.616028</td>\n",
       "      <td>NaN</td>\n",
       "      <td>NaN</td>\n",
       "    </tr>\n",
       "    <tr>\n",
       "      <th>2016-11-20</th>\n",
       "      <td>731.026001</td>\n",
       "      <td>NaN</td>\n",
       "      <td>NaN</td>\n",
       "    </tr>\n",
       "    <tr>\n",
       "      <th>2016-11-21</th>\n",
       "      <td>739.247986</td>\n",
       "      <td>103.837540</td>\n",
       "      <td>12.301333</td>\n",
       "    </tr>\n",
       "    <tr>\n",
       "      <th>2016-11-22</th>\n",
       "      <td>751.346985</td>\n",
       "      <td>103.803223</td>\n",
       "      <td>12.744667</td>\n",
       "    </tr>\n",
       "    <tr>\n",
       "      <th>2016-11-23</th>\n",
       "      <td>744.593994</td>\n",
       "      <td>103.400360</td>\n",
       "      <td>12.876000</td>\n",
       "    </tr>\n",
       "    <tr>\n",
       "      <th>2016-11-24</th>\n",
       "      <td>740.289001</td>\n",
       "      <td>NaN</td>\n",
       "      <td>NaN</td>\n",
       "    </tr>\n",
       "    <tr>\n",
       "      <th>2016-11-25</th>\n",
       "      <td>741.648987</td>\n",
       "      <td>103.554688</td>\n",
       "      <td>13.110000</td>\n",
       "    </tr>\n",
       "  </tbody>\n",
       "</table>\n",
       "</div>"
      ],
      "text/plain": [
       "               BTC-USD         TLT       TSLA\n",
       "Date                                         \n",
       "2016-11-16  744.197998  105.431709  12.262000\n",
       "2016-11-17  740.976990  103.880371  12.577333\n",
       "2016-11-18  751.585022  103.580383  12.334667\n",
       "2016-11-19  751.616028         NaN        NaN\n",
       "2016-11-20  731.026001         NaN        NaN\n",
       "2016-11-21  739.247986  103.837540  12.301333\n",
       "2016-11-22  751.346985  103.803223  12.744667\n",
       "2016-11-23  744.593994  103.400360  12.876000\n",
       "2016-11-24  740.289001         NaN        NaN\n",
       "2016-11-25  741.648987  103.554688  13.110000"
      ]
     },
     "execution_count": 78,
     "metadata": {},
     "output_type": "execute_result"
    }
   ],
   "source": [
    "df.head(10)"
   ]
  },
  {
   "cell_type": "code",
   "execution_count": 79,
   "metadata": {},
   "outputs": [
    {
     "data": {
      "text/html": [
       "<div>\n",
       "<style scoped>\n",
       "    .dataframe tbody tr th:only-of-type {\n",
       "        vertical-align: middle;\n",
       "    }\n",
       "\n",
       "    .dataframe tbody tr th {\n",
       "        vertical-align: top;\n",
       "    }\n",
       "\n",
       "    .dataframe thead th {\n",
       "        text-align: right;\n",
       "    }\n",
       "</style>\n",
       "<table border=\"1\" class=\"dataframe\">\n",
       "  <thead>\n",
       "    <tr style=\"text-align: right;\">\n",
       "      <th></th>\n",
       "      <th>BTC-USD</th>\n",
       "      <th>TLT</th>\n",
       "      <th>TSLA</th>\n",
       "    </tr>\n",
       "  </thead>\n",
       "  <tbody>\n",
       "    <tr>\n",
       "      <th>count</th>\n",
       "      <td>2487.000000</td>\n",
       "      <td>1712.000000</td>\n",
       "      <td>1712.000000</td>\n",
       "    </tr>\n",
       "    <tr>\n",
       "      <th>mean</th>\n",
       "      <td>18184.105375</td>\n",
       "      <td>120.073191</td>\n",
       "      <td>120.821342</td>\n",
       "    </tr>\n",
       "    <tr>\n",
       "      <th>std</th>\n",
       "      <td>16143.836252</td>\n",
       "      <td>17.980689</td>\n",
       "      <td>113.577920</td>\n",
       "    </tr>\n",
       "    <tr>\n",
       "      <th>min</th>\n",
       "      <td>731.026001</td>\n",
       "      <td>89.809021</td>\n",
       "      <td>11.931333</td>\n",
       "    </tr>\n",
       "    <tr>\n",
       "      <th>25%</th>\n",
       "      <td>6514.945068</td>\n",
       "      <td>105.354683</td>\n",
       "      <td>20.723501</td>\n",
       "    </tr>\n",
       "    <tr>\n",
       "      <th>50%</th>\n",
       "      <td>10462.259766</td>\n",
       "      <td>111.363987</td>\n",
       "      <td>51.521999</td>\n",
       "    </tr>\n",
       "    <tr>\n",
       "      <th>75%</th>\n",
       "      <td>28041.408203</td>\n",
       "      <td>134.543861</td>\n",
       "      <td>225.275005</td>\n",
       "    </tr>\n",
       "    <tr>\n",
       "      <th>max</th>\n",
       "      <td>67566.828125</td>\n",
       "      <td>160.762741</td>\n",
       "      <td>409.970001</td>\n",
       "    </tr>\n",
       "  </tbody>\n",
       "</table>\n",
       "</div>"
      ],
      "text/plain": [
       "            BTC-USD          TLT         TSLA\n",
       "count   2487.000000  1712.000000  1712.000000\n",
       "mean   18184.105375   120.073191   120.821342\n",
       "std    16143.836252    17.980689   113.577920\n",
       "min      731.026001    89.809021    11.931333\n",
       "25%     6514.945068   105.354683    20.723501\n",
       "50%    10462.259766   111.363987    51.521999\n",
       "75%    28041.408203   134.543861   225.275005\n",
       "max    67566.828125   160.762741   409.970001"
      ]
     },
     "execution_count": 79,
     "metadata": {},
     "output_type": "execute_result"
    }
   ],
   "source": [
    "df.describe()"
   ]
  },
  {
   "cell_type": "code",
   "execution_count": 80,
   "metadata": {},
   "outputs": [
    {
     "data": {
      "text/plain": [
       "<AxesSubplot:xlabel='Date'>"
      ]
     },
     "execution_count": 80,
     "metadata": {},
     "output_type": "execute_result"
    },
    {
     "data": {
      "image/png": "[encoded data removed]",
      "text/plain": [
       "<Figure size 432x288 with 1 Axes>"
      ]
     },
     "metadata": {
      "needs_background": "light"
     },
     "output_type": "display_data"
    }
   ],
   "source": [
    "df.plot()"
   ]
  },
  {
   "cell_type": "code",
   "execution_count": 81,
   "metadata": {},
   "outputs": [
    {
     "data": {
      "text/plain": [
       "<AxesSubplot:xlabel='Date'>"
      ]
     },
     "execution_count": 81,
     "metadata": {},
     "output_type": "execute_result"
    },
    {
     "data": {
      "image/png": "[encoded data removed]",
      "text/plain": [
       "<Figure size 432x288 with 1 Axes>"
      ]
     },
     "metadata": {
      "needs_background": "light"
     },
     "output_type": "display_data"
    }
   ],
   "source": [
    "df[\"2020-01-01\":\"2020-12-31\"].plot()"
   ]
  },
  {
   "cell_type": "code",
   "execution_count": 82,
   "metadata": {},
   "outputs": [
    {
     "name": "stdout",
     "output_type": "stream",
     "text": [
      "[*********************100%%**********************]  1 of 1 completed\n"
     ]
    },
    {
     "data": {
      "text/html": [
       "<div>\n",
       "<style scoped>\n",
       "    .dataframe tbody tr th:only-of-type {\n",
       "        vertical-align: middle;\n",
       "    }\n",
       "\n",
       "    .dataframe tbody tr th {\n",
       "        vertical-align: top;\n",
       "    }\n",
       "\n",
       "    .dataframe thead th {\n",
       "        text-align: right;\n",
       "    }\n",
       "</style>\n",
       "<table border=\"1\" class=\"dataframe\">\n",
       "  <thead>\n",
       "    <tr style=\"text-align: right;\">\n",
       "      <th></th>\n",
       "      <th>BTC-USD</th>\n",
       "      <th>TLT</th>\n",
       "      <th>TSLA</th>\n",
       "      <th>BLV</th>\n",
       "    </tr>\n",
       "    <tr>\n",
       "      <th>Date</th>\n",
       "      <th></th>\n",
       "      <th></th>\n",
       "      <th></th>\n",
       "      <th></th>\n",
       "    </tr>\n",
       "  </thead>\n",
       "  <tbody>\n",
       "    <tr>\n",
       "      <th>2016-11-16</th>\n",
       "      <td>744.197998</td>\n",
       "      <td>105.431709</td>\n",
       "      <td>12.262000</td>\n",
       "      <td>68.451958</td>\n",
       "    </tr>\n",
       "    <tr>\n",
       "      <th>2016-11-17</th>\n",
       "      <td>740.976990</td>\n",
       "      <td>103.880371</td>\n",
       "      <td>12.577333</td>\n",
       "      <td>67.687927</td>\n",
       "    </tr>\n",
       "    <tr>\n",
       "      <th>2016-11-18</th>\n",
       "      <td>751.585022</td>\n",
       "      <td>103.580383</td>\n",
       "      <td>12.334667</td>\n",
       "      <td>67.317245</td>\n",
       "    </tr>\n",
       "    <tr>\n",
       "      <th>2016-11-19</th>\n",
       "      <td>751.616028</td>\n",
       "      <td>NaN</td>\n",
       "      <td>NaN</td>\n",
       "      <td>NaN</td>\n",
       "    </tr>\n",
       "    <tr>\n",
       "      <th>2016-11-20</th>\n",
       "      <td>731.026001</td>\n",
       "      <td>NaN</td>\n",
       "      <td>NaN</td>\n",
       "      <td>NaN</td>\n",
       "    </tr>\n",
       "  </tbody>\n",
       "</table>\n",
       "</div>"
      ],
      "text/plain": [
       "               BTC-USD         TLT       TSLA        BLV\n",
       "Date                                                    \n",
       "2016-11-16  744.197998  105.431709  12.262000  68.451958\n",
       "2016-11-17  740.976990  103.880371  12.577333  67.687927\n",
       "2016-11-18  751.585022  103.580383  12.334667  67.317245\n",
       "2016-11-19  751.616028         NaN        NaN        NaN\n",
       "2016-11-20  731.026001         NaN        NaN        NaN"
      ]
     },
     "execution_count": 82,
     "metadata": {},
     "output_type": "execute_result"
    }
   ],
   "source": [
    "df = df.join(web.DataReader([\"BLV\"], start, end)[\"Adj Close\"])\n",
    "df.rename(columns = {\"Adj Close\": \"BLV\"}, inplace=True)\n",
    "df.head()"
   ]
  },
  {
   "cell_type": "code",
   "execution_count": 83,
   "metadata": {},
   "outputs": [
    {
     "data": {
      "text/html": [
       "<div>\n",
       "<style scoped>\n",
       "    .dataframe tbody tr th:only-of-type {\n",
       "        vertical-align: middle;\n",
       "    }\n",
       "\n",
       "    .dataframe tbody tr th {\n",
       "        vertical-align: top;\n",
       "    }\n",
       "\n",
       "    .dataframe thead th {\n",
       "        text-align: right;\n",
       "    }\n",
       "</style>\n",
       "<table border=\"1\" class=\"dataframe\">\n",
       "  <thead>\n",
       "    <tr style=\"text-align: right;\">\n",
       "      <th></th>\n",
       "      <th>TLT</th>\n",
       "      <th>Bitcoin</th>\n",
       "      <th>Tesla</th>\n",
       "    </tr>\n",
       "    <tr>\n",
       "      <th>Date</th>\n",
       "      <th></th>\n",
       "      <th></th>\n",
       "      <th></th>\n",
       "    </tr>\n",
       "  </thead>\n",
       "  <tbody>\n",
       "    <tr>\n",
       "      <th>2016-11-16</th>\n",
       "      <td>NaN</td>\n",
       "      <td>NaN</td>\n",
       "      <td>NaN</td>\n",
       "    </tr>\n",
       "    <tr>\n",
       "      <th>2016-11-17</th>\n",
       "      <td>-0.014823</td>\n",
       "      <td>-0.004338</td>\n",
       "      <td>0.025391</td>\n",
       "    </tr>\n",
       "    <tr>\n",
       "      <th>2016-11-18</th>\n",
       "      <td>-0.002892</td>\n",
       "      <td>0.014215</td>\n",
       "      <td>-0.019482</td>\n",
       "    </tr>\n",
       "    <tr>\n",
       "      <th>2016-11-21</th>\n",
       "      <td>0.002480</td>\n",
       "      <td>-0.016551</td>\n",
       "      <td>-0.002706</td>\n",
       "    </tr>\n",
       "    <tr>\n",
       "      <th>2016-11-22</th>\n",
       "      <td>-0.000331</td>\n",
       "      <td>0.016234</td>\n",
       "      <td>0.035405</td>\n",
       "    </tr>\n",
       "  </tbody>\n",
       "</table>\n",
       "</div>"
      ],
      "text/plain": [
       "                 TLT   Bitcoin     Tesla\n",
       "Date                                    \n",
       "2016-11-16       NaN       NaN       NaN\n",
       "2016-11-17 -0.014823 -0.004338  0.025391\n",
       "2016-11-18 -0.002892  0.014215 -0.019482\n",
       "2016-11-21  0.002480 -0.016551 -0.002706\n",
       "2016-11-22 -0.000331  0.016234  0.035405"
      ]
     },
     "execution_count": 83,
     "metadata": {},
     "output_type": "execute_result"
    }
   ],
   "source": [
    "df = df.dropna()\n",
    "# Make dataframe consist of log returns\n",
    "df[\"Bitcoin\"] = np.log(df[\"BTC-USD\"]) - np.log(df[\"BTC-USD\"].shift(1))\n",
    "df[\"TLT\"] = np.log(df[\"TLT\"]) - np.log(df[\"TLT\"].shift(1))\n",
    "df[\"Tesla\"] = np.log(df[\"TSLA\"]) - np.log(df[\"TSLA\"].shift(1))\n",
    "df = df.drop([\"BTC-USD\", \"TSLA\", \"BLV\"], axis = 1)\n",
    "df.head()"
   ]
  },
  {
   "cell_type": "code",
   "execution_count": 85,
   "metadata": {},
   "outputs": [
    {
     "data": {
      "text/html": [
       "<div>\n",
       "<style scoped>\n",
       "    .dataframe tbody tr th:only-of-type {\n",
       "        vertical-align: middle;\n",
       "    }\n",
       "\n",
       "    .dataframe tbody tr th {\n",
       "        vertical-align: top;\n",
       "    }\n",
       "\n",
       "    .dataframe thead th {\n",
       "        text-align: right;\n",
       "    }\n",
       "</style>\n",
       "<table border=\"1\" class=\"dataframe\">\n",
       "  <thead>\n",
       "    <tr style=\"text-align: right;\">\n",
       "      <th></th>\n",
       "      <th>TLT</th>\n",
       "      <th>Bitcoin</th>\n",
       "      <th>Tesla</th>\n",
       "    </tr>\n",
       "  </thead>\n",
       "  <tbody>\n",
       "    <tr>\n",
       "      <th>count</th>\n",
       "      <td>1711.000000</td>\n",
       "      <td>1711.000000</td>\n",
       "      <td>1711.000000</td>\n",
       "    </tr>\n",
       "    <tr>\n",
       "      <th>mean</th>\n",
       "      <td>-0.000067</td>\n",
       "      <td>0.002082</td>\n",
       "      <td>0.001766</td>\n",
       "    </tr>\n",
       "    <tr>\n",
       "      <th>std</th>\n",
       "      <td>0.009695</td>\n",
       "      <td>0.046675</td>\n",
       "      <td>0.038198</td>\n",
       "    </tr>\n",
       "    <tr>\n",
       "      <th>min</th>\n",
       "      <td>-0.069010</td>\n",
       "      <td>-0.464730</td>\n",
       "      <td>-0.236518</td>\n",
       "    </tr>\n",
       "    <tr>\n",
       "      <th>25%</th>\n",
       "      <td>-0.005635</td>\n",
       "      <td>-0.016751</td>\n",
       "      <td>-0.016662</td>\n",
       "    </tr>\n",
       "    <tr>\n",
       "      <th>50%</th>\n",
       "      <td>0.000245</td>\n",
       "      <td>0.001917</td>\n",
       "      <td>0.001587</td>\n",
       "    </tr>\n",
       "    <tr>\n",
       "      <th>75%</th>\n",
       "      <td>0.005326</td>\n",
       "      <td>0.022662</td>\n",
       "      <td>0.020288</td>\n",
       "    </tr>\n",
       "    <tr>\n",
       "      <th>max</th>\n",
       "      <td>0.072502</td>\n",
       "      <td>0.225119</td>\n",
       "      <td>0.181445</td>\n",
       "    </tr>\n",
       "  </tbody>\n",
       "</table>\n",
       "</div>"
      ],
      "text/plain": [
       "               TLT      Bitcoin        Tesla\n",
       "count  1711.000000  1711.000000  1711.000000\n",
       "mean     -0.000067     0.002082     0.001766\n",
       "std       0.009695     0.046675     0.038198\n",
       "min      -0.069010    -0.464730    -0.236518\n",
       "25%      -0.005635    -0.016751    -0.016662\n",
       "50%       0.000245     0.001917     0.001587\n",
       "75%       0.005326     0.022662     0.020288\n",
       "max       0.072502     0.225119     0.181445"
      ]
     },
     "execution_count": 85,
     "metadata": {},
     "output_type": "execute_result"
    }
   ],
   "source": [
    "df.describe()"
   ]
  },
  {
   "cell_type": "code",
   "execution_count": null,
   "metadata": {},
   "outputs": [],
   "source": []
  }
 ],
 "metadata": {
  "kernelspec": {
   "display_name": "Python 3",
   "language": "python",
   "name": "python3"
  },
  "language_info": {
   "codemirror_mode": {
    "name": "ipython",
    "version": 3
   },
   "file_extension": ".py",
   "mimetype": "text/x-python",
   "name": "python",
   "nbconvert_exporter": "python",
   "pygments_lexer": "ipython3",
   "version": "3.10.5"
  },
  "orig_nbformat": 4
 },
 "nbformat": 4,
 "nbformat_minor": 2
}
