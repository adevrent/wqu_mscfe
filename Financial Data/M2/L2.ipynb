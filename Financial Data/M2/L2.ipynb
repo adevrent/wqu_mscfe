{
 "cells": [
  {
   "cell_type": "code",
   "execution_count": 706,
   "metadata": {},
   "outputs": [],
   "source": [
    "import datetime\n",
    "from datetime import date\n",
    "\n",
    "import numpy as np\n",
    "import pandas as pd\n",
    "import pandas_datareader.data as web\n",
    "import seaborn as sns\n",
    "import yfinance as yfin\n",
    "from matplotlib import pyplot as plt\n",
    "\n",
    "pd.options.display.float_format = \"{:,.3f}\".format\n",
    "yfin.pdr_override()"
   ]
  },
  {
   "cell_type": "code",
   "execution_count": 707,
   "metadata": {},
   "outputs": [
    {
     "name": "stdout",
     "output_type": "stream",
     "text": [
      "[*********************100%%**********************]  2 of 2 completed\n"
     ]
    }
   ],
   "source": [
    "# start = datetime.date.today()-datetime.timedelta(365*10)\n",
    "# end = datetime.date.today()\n",
    "start = datetime.date.today() - datetime.timedelta(365 * 10)\n",
    "end = datetime.date.today()\n",
    "\n",
    "prices = web.DataReader([\"^GSPC\", \"^RUT\"], start, end)[\"Adj Close\"]\n",
    "\n",
    "# Rename column to make names more intuitive\n",
    "prices = prices.rename(columns={\"^GSPC\": \"SP500\", \"^RUT\": \"Russell2000\"})"
   ]
  },
  {
   "cell_type": "code",
   "execution_count": 708,
   "metadata": {},
   "outputs": [
    {
     "data": {
      "text/html": [
       "<div>\n",
       "<style scoped>\n",
       "    .dataframe tbody tr th:only-of-type {\n",
       "        vertical-align: middle;\n",
       "    }\n",
       "\n",
       "    .dataframe tbody tr th {\n",
       "        vertical-align: top;\n",
       "    }\n",
       "\n",
       "    .dataframe thead th {\n",
       "        text-align: right;\n",
       "    }\n",
       "</style>\n",
       "<table border=\"1\" class=\"dataframe\">\n",
       "  <thead>\n",
       "    <tr style=\"text-align: right;\">\n",
       "      <th></th>\n",
       "      <th>SP500</th>\n",
       "      <th>Russell2000</th>\n",
       "    </tr>\n",
       "    <tr>\n",
       "      <th>Date</th>\n",
       "      <th></th>\n",
       "      <th></th>\n",
       "    </tr>\n",
       "  </thead>\n",
       "  <tbody>\n",
       "    <tr>\n",
       "      <th>2013-09-10</th>\n",
       "      <td>1,683.990</td>\n",
       "      <td>1,055.720</td>\n",
       "    </tr>\n",
       "    <tr>\n",
       "      <th>2013-09-11</th>\n",
       "      <td>1,689.130</td>\n",
       "      <td>1,055.340</td>\n",
       "    </tr>\n",
       "    <tr>\n",
       "      <th>2013-09-12</th>\n",
       "      <td>1,683.420</td>\n",
       "      <td>1,048.480</td>\n",
       "    </tr>\n",
       "    <tr>\n",
       "      <th>2013-09-13</th>\n",
       "      <td>1,687.990</td>\n",
       "      <td>1,053.980</td>\n",
       "    </tr>\n",
       "    <tr>\n",
       "      <th>2013-09-16</th>\n",
       "      <td>1,697.600</td>\n",
       "      <td>1,056.250</td>\n",
       "    </tr>\n",
       "  </tbody>\n",
       "</table>\n",
       "</div>"
      ],
      "text/plain": [
       "               SP500  Russell2000\n",
       "Date                             \n",
       "2013-09-10 1,683.990    1,055.720\n",
       "2013-09-11 1,689.130    1,055.340\n",
       "2013-09-12 1,683.420    1,048.480\n",
       "2013-09-13 1,687.990    1,053.980\n",
       "2013-09-16 1,697.600    1,056.250"
      ]
     },
     "execution_count": 708,
     "metadata": {},
     "output_type": "execute_result"
    }
   ],
   "source": [
    "prices.head()"
   ]
  },
  {
   "cell_type": "code",
   "execution_count": 709,
   "metadata": {},
   "outputs": [
    {
     "data": {
      "text/html": [
       "<div>\n",
       "<style scoped>\n",
       "    .dataframe tbody tr th:only-of-type {\n",
       "        vertical-align: middle;\n",
       "    }\n",
       "\n",
       "    .dataframe tbody tr th {\n",
       "        vertical-align: top;\n",
       "    }\n",
       "\n",
       "    .dataframe thead th {\n",
       "        text-align: right;\n",
       "    }\n",
       "</style>\n",
       "<table border=\"1\" class=\"dataframe\">\n",
       "  <thead>\n",
       "    <tr style=\"text-align: right;\">\n",
       "      <th></th>\n",
       "      <th>SP500</th>\n",
       "      <th>Russell2000</th>\n",
       "    </tr>\n",
       "    <tr>\n",
       "      <th>Date</th>\n",
       "      <th></th>\n",
       "      <th></th>\n",
       "    </tr>\n",
       "  </thead>\n",
       "  <tbody>\n",
       "    <tr>\n",
       "      <th>2013-09-11</th>\n",
       "      <td>0.003</td>\n",
       "      <td>-0.000</td>\n",
       "    </tr>\n",
       "    <tr>\n",
       "      <th>2013-09-12</th>\n",
       "      <td>-0.003</td>\n",
       "      <td>-0.007</td>\n",
       "    </tr>\n",
       "    <tr>\n",
       "      <th>2013-09-13</th>\n",
       "      <td>0.003</td>\n",
       "      <td>0.005</td>\n",
       "    </tr>\n",
       "    <tr>\n",
       "      <th>2013-09-16</th>\n",
       "      <td>0.006</td>\n",
       "      <td>0.002</td>\n",
       "    </tr>\n",
       "    <tr>\n",
       "      <th>2013-09-17</th>\n",
       "      <td>0.004</td>\n",
       "      <td>0.010</td>\n",
       "    </tr>\n",
       "  </tbody>\n",
       "</table>\n",
       "</div>"
      ],
      "text/plain": [
       "            SP500  Russell2000\n",
       "Date                          \n",
       "2013-09-11  0.003       -0.000\n",
       "2013-09-12 -0.003       -0.007\n",
       "2013-09-13  0.003        0.005\n",
       "2013-09-16  0.006        0.002\n",
       "2013-09-17  0.004        0.010"
      ]
     },
     "execution_count": 709,
     "metadata": {},
     "output_type": "execute_result"
    }
   ],
   "source": [
    "df = np.log(prices) - np.log(prices.shift(1))\n",
    "df = df.iloc[1:, :]\n",
    "df.head()"
   ]
  },
  {
   "cell_type": "code",
   "execution_count": 710,
   "metadata": {},
   "outputs": [],
   "source": [
    "df.mean() * 100\n",
    "daily_returns = df.mean()"
   ]
  },
  {
   "cell_type": "code",
   "execution_count": 711,
   "metadata": {},
   "outputs": [
    {
     "name": "stdout",
     "output_type": "stream",
     "text": [
      "SP500 expected return per $1000 after 10 years: $2648.3232300073173\n",
      "R2000 expected return per $1000 after 10 years: $1759.7869740900712\n"
     ]
    }
   ],
   "source": [
    "SP500_return = (np.exp(daily_returns * 252 * 10) * 1000)[0]\n",
    "R2000_return = (np.exp(daily_returns * 252 * 10) * 1000)[1]\n",
    "# with 252 trading days in a year, 10 years and 1000$ starting investment; we expect the following ROI at the end of 10 years\n",
    "print(f\"SP500 expected return per $1000 after 10 years: ${SP500_return}\")\n",
    "print(f\"R2000 expected return per $1000 after 10 years: ${R2000_return}\")"
   ]
  },
  {
   "cell_type": "code",
   "execution_count": 712,
   "metadata": {},
   "outputs": [
    {
     "data": {
      "text/plain": [
       "SP500         1,011.930\n",
       "Russell2000     347.300\n",
       "dtype: float64"
      ]
     },
     "execution_count": 712,
     "metadata": {},
     "output_type": "execute_result"
    }
   ],
   "source": [
    "currYear = prices.loc[\n",
    "    date.today() - datetime.timedelta(365) : date.today()  # noqa E203\n",
    "]\n",
    "currYear.max() - currYear.min()"
   ]
  },
  {
   "cell_type": "code",
   "execution_count": 713,
   "metadata": {},
   "outputs": [
    {
     "data": {
      "text/html": [
       "<div>\n",
       "<style scoped>\n",
       "    .dataframe tbody tr th:only-of-type {\n",
       "        vertical-align: middle;\n",
       "    }\n",
       "\n",
       "    .dataframe tbody tr th {\n",
       "        vertical-align: top;\n",
       "    }\n",
       "\n",
       "    .dataframe thead th {\n",
       "        text-align: right;\n",
       "    }\n",
       "</style>\n",
       "<table border=\"1\" class=\"dataframe\">\n",
       "  <thead>\n",
       "    <tr style=\"text-align: right;\">\n",
       "      <th></th>\n",
       "      <th>SP500</th>\n",
       "      <th>Russell2000</th>\n",
       "    </tr>\n",
       "    <tr>\n",
       "      <th>Date</th>\n",
       "      <th></th>\n",
       "      <th></th>\n",
       "    </tr>\n",
       "  </thead>\n",
       "  <tbody>\n",
       "    <tr>\n",
       "      <th>2022-09-08</th>\n",
       "      <td>4,006.180</td>\n",
       "      <td>1,846.910</td>\n",
       "    </tr>\n",
       "    <tr>\n",
       "      <th>2022-09-09</th>\n",
       "      <td>4,067.360</td>\n",
       "      <td>1,882.850</td>\n",
       "    </tr>\n",
       "    <tr>\n",
       "      <th>2022-09-12</th>\n",
       "      <td>4,110.410</td>\n",
       "      <td>1,906.090</td>\n",
       "    </tr>\n",
       "    <tr>\n",
       "      <th>2022-09-13</th>\n",
       "      <td>3,932.690</td>\n",
       "      <td>1,831.570</td>\n",
       "    </tr>\n",
       "    <tr>\n",
       "      <th>2022-09-14</th>\n",
       "      <td>3,946.010</td>\n",
       "      <td>1,838.460</td>\n",
       "    </tr>\n",
       "  </tbody>\n",
       "</table>\n",
       "</div>"
      ],
      "text/plain": [
       "               SP500  Russell2000\n",
       "Date                             \n",
       "2022-09-08 4,006.180    1,846.910\n",
       "2022-09-09 4,067.360    1,882.850\n",
       "2022-09-12 4,110.410    1,906.090\n",
       "2022-09-13 3,932.690    1,831.570\n",
       "2022-09-14 3,946.010    1,838.460"
      ]
     },
     "execution_count": 713,
     "metadata": {},
     "output_type": "execute_result"
    }
   ],
   "source": [
    "currYear.head()"
   ]
  },
  {
   "cell_type": "code",
   "execution_count": 714,
   "metadata": {},
   "outputs": [
    {
     "data": {
      "text/plain": [
       "SP500         0.227\n",
       "Russell2000   0.187\n",
       "dtype: float64"
      ]
     },
     "execution_count": 714,
     "metadata": {},
     "output_type": "execute_result"
    }
   ],
   "source": [
    "(currYear.max() - currYear.min()) / prices.iloc[-1]\n",
    "# SP500 is more volatile, ineterestingly."
   ]
  },
  {
   "cell_type": "code",
   "execution_count": 715,
   "metadata": {},
   "outputs": [
    {
     "data": {
      "text/html": [
       "<div>\n",
       "<style scoped>\n",
       "    .dataframe tbody tr th:only-of-type {\n",
       "        vertical-align: middle;\n",
       "    }\n",
       "\n",
       "    .dataframe tbody tr th {\n",
       "        vertical-align: top;\n",
       "    }\n",
       "\n",
       "    .dataframe thead th {\n",
       "        text-align: right;\n",
       "    }\n",
       "</style>\n",
       "<table border=\"1\" class=\"dataframe\">\n",
       "  <thead>\n",
       "    <tr style=\"text-align: right;\">\n",
       "      <th></th>\n",
       "      <th>SP500</th>\n",
       "      <th>Russell2000</th>\n",
       "    </tr>\n",
       "    <tr>\n",
       "      <th>Date</th>\n",
       "      <th></th>\n",
       "      <th></th>\n",
       "    </tr>\n",
       "  </thead>\n",
       "  <tbody>\n",
       "    <tr>\n",
       "      <th>2013-09-10</th>\n",
       "      <td>1,683.990</td>\n",
       "      <td>1,055.720</td>\n",
       "    </tr>\n",
       "    <tr>\n",
       "      <th>2013-09-11</th>\n",
       "      <td>1,689.130</td>\n",
       "      <td>1,055.340</td>\n",
       "    </tr>\n",
       "    <tr>\n",
       "      <th>2013-09-12</th>\n",
       "      <td>1,683.420</td>\n",
       "      <td>1,048.480</td>\n",
       "    </tr>\n",
       "    <tr>\n",
       "      <th>2013-09-13</th>\n",
       "      <td>1,687.990</td>\n",
       "      <td>1,053.980</td>\n",
       "    </tr>\n",
       "    <tr>\n",
       "      <th>2013-09-16</th>\n",
       "      <td>1,697.600</td>\n",
       "      <td>1,056.250</td>\n",
       "    </tr>\n",
       "  </tbody>\n",
       "</table>\n",
       "</div>"
      ],
      "text/plain": [
       "               SP500  Russell2000\n",
       "Date                             \n",
       "2013-09-10 1,683.990    1,055.720\n",
       "2013-09-11 1,689.130    1,055.340\n",
       "2013-09-12 1,683.420    1,048.480\n",
       "2013-09-13 1,687.990    1,053.980\n",
       "2013-09-16 1,697.600    1,056.250"
      ]
     },
     "execution_count": 715,
     "metadata": {},
     "output_type": "execute_result"
    }
   ],
   "source": [
    "prices.head()"
   ]
  },
  {
   "cell_type": "code",
   "execution_count": 716,
   "metadata": {},
   "outputs": [
    {
     "data": {
      "text/html": [
       "<div>\n",
       "<style scoped>\n",
       "    .dataframe tbody tr th:only-of-type {\n",
       "        vertical-align: middle;\n",
       "    }\n",
       "\n",
       "    .dataframe tbody tr th {\n",
       "        vertical-align: top;\n",
       "    }\n",
       "\n",
       "    .dataframe thead th {\n",
       "        text-align: right;\n",
       "    }\n",
       "</style>\n",
       "<table border=\"1\" class=\"dataframe\">\n",
       "  <thead>\n",
       "    <tr style=\"text-align: right;\">\n",
       "      <th></th>\n",
       "      <th>SP500</th>\n",
       "      <th>Russell2000</th>\n",
       "      <th>SP500 50ma</th>\n",
       "      <th>Russell2000 50ma</th>\n",
       "    </tr>\n",
       "    <tr>\n",
       "      <th>Date</th>\n",
       "      <th></th>\n",
       "      <th></th>\n",
       "      <th></th>\n",
       "      <th></th>\n",
       "    </tr>\n",
       "  </thead>\n",
       "  <tbody>\n",
       "    <tr>\n",
       "      <th>2023-08-31</th>\n",
       "      <td>4,507.660</td>\n",
       "      <td>1,899.680</td>\n",
       "      <td>4,466.838</td>\n",
       "      <td>1,911.404</td>\n",
       "    </tr>\n",
       "    <tr>\n",
       "      <th>2023-09-01</th>\n",
       "      <td>4,515.770</td>\n",
       "      <td>1,920.830</td>\n",
       "      <td>4,469.515</td>\n",
       "      <td>1,912.857</td>\n",
       "    </tr>\n",
       "    <tr>\n",
       "      <th>2023-09-05</th>\n",
       "      <td>4,496.830</td>\n",
       "      <td>1,880.450</td>\n",
       "      <td>4,472.485</td>\n",
       "      <td>1,914.033</td>\n",
       "    </tr>\n",
       "    <tr>\n",
       "      <th>2023-09-06</th>\n",
       "      <td>4,465.480</td>\n",
       "      <td>1,874.280</td>\n",
       "      <td>4,475.219</td>\n",
       "      <td>1,915.054</td>\n",
       "    </tr>\n",
       "    <tr>\n",
       "      <th>2023-09-07</th>\n",
       "      <td>4,451.140</td>\n",
       "      <td>1,855.760</td>\n",
       "      <td>4,476.673</td>\n",
       "      <td>1,915.170</td>\n",
       "    </tr>\n",
       "  </tbody>\n",
       "</table>\n",
       "</div>"
      ],
      "text/plain": [
       "               SP500  Russell2000  SP500 50ma  Russell2000 50ma\n",
       "Date                                                           \n",
       "2023-08-31 4,507.660    1,899.680   4,466.838         1,911.404\n",
       "2023-09-01 4,515.770    1,920.830   4,469.515         1,912.857\n",
       "2023-09-05 4,496.830    1,880.450   4,472.485         1,914.033\n",
       "2023-09-06 4,465.480    1,874.280   4,475.219         1,915.054\n",
       "2023-09-07 4,451.140    1,855.760   4,476.673         1,915.170"
      ]
     },
     "execution_count": 716,
     "metadata": {},
     "output_type": "execute_result"
    }
   ],
   "source": [
    "# Calculate 50-day moving averages.\n",
    "prices[\"SP500 50ma\"] = prices.SP500.rolling(50).mean()\n",
    "prices[\"Russell2000 50ma\"] = prices.Russell2000.rolling(50).mean()\n",
    "prices.tail()"
   ]
  },
  {
   "cell_type": "code",
   "execution_count": 717,
   "metadata": {},
   "outputs": [
    {
     "data": {
      "text/plain": [
       "<matplotlib.legend.Legend at 0x7f6fd67a73d0>"
      ]
     },
     "execution_count": 717,
     "metadata": {},
     "output_type": "execute_result"
    },
    {
     "data": {
      "image/png": "[encoded data removed]",
      "text/plain": [
       "<Figure size 864x432 with 1 Axes>"
      ]
     },
     "metadata": {
      "needs_background": "light"
     },
     "output_type": "display_data"
    }
   ],
   "source": [
    "fig, axs = plt.subplots(figsize = (12, 6))\n",
    "axs.plot(prices[\"SP500\"], label=\"Daily S&P 500 price\")\n",
    "axs.plot(prices[\"SP500 50ma\"], label=\"S&P 500 rolling 50 day average\")\n",
    "axs.legend(loc = 2)"
   ]
  },
  {
   "cell_type": "code",
   "execution_count": 718,
   "metadata": {},
   "outputs": [
    {
     "data": {
      "text/plain": [
       "SP500              0.029\n",
       "Russell2000        0.038\n",
       "SP500 50ma         0.021\n",
       "Russell2000 50ma   0.026\n",
       "dtype: float64"
      ]
     },
     "execution_count": 718,
     "metadata": {},
     "output_type": "execute_result"
    }
   ],
   "source": [
    "(abs(prices - prices.rolling(50).mean()) / prices).mean()\n",
    "# According to this metric, Russell2000 is more volatile."
   ]
  },
  {
   "cell_type": "code",
   "execution_count": 719,
   "metadata": {},
   "outputs": [
    {
     "data": {
      "text/plain": [
       "SP500         887.687\n",
       "Russell2000   354.959\n",
       "dtype: float64"
      ]
     },
     "execution_count": 719,
     "metadata": {},
     "output_type": "execute_result"
    }
   ],
   "source": [
    "# Using standard deviation for volatility\n",
    "prices[[\"SP500\", \"Russell2000\"]].std()\n",
    "# It is better to use this on returns."
   ]
  },
  {
   "cell_type": "code",
   "execution_count": 720,
   "metadata": {},
   "outputs": [
    {
     "data": {
      "text/plain": [
       "SP500         0.011\n",
       "Russell2000   0.014\n",
       "dtype: float64"
      ]
     },
     "execution_count": 720,
     "metadata": {},
     "output_type": "execute_result"
    }
   ],
   "source": [
    "df[[\"SP500\", \"Russell2000\"]].std()\n",
    "# Russell2000 is more volatile according to standard deviation."
   ]
  },
  {
   "cell_type": "code",
   "execution_count": 721,
   "metadata": {},
   "outputs": [],
   "source": [
    "startTime = datetime.date.today() - datetime.timedelta(365 * 10)\n",
    "endTime = datetime.date.today()\n",
    "tickers = {\"^GSPC\":\"SP500\", \"^RUT\":\"Russell2000\"}"
   ]
  },
  {
   "cell_type": "code",
   "execution_count": 722,
   "metadata": {},
   "outputs": [
    {
     "name": "stdout",
     "output_type": "stream",
     "text": [
      "<class 'dict_keys'>\n",
      "dict_keys(['^GSPC', '^RUT'])\n",
      "['^GSPC', '^RUT']\n"
     ]
    }
   ],
   "source": [
    "print(type(tickers.keys()))\n",
    "print(tickers.keys())\n",
    "keylist = list(tickers.keys())\n",
    "print(keylist)"
   ]
  },
  {
   "cell_type": "code",
   "execution_count": 723,
   "metadata": {},
   "outputs": [],
   "source": [
    "def investCompare(startTime, endTime, tickers):\n",
    "    \"\"\"Compares different volatility metrics in current year\n",
    "\n",
    "    Args:\n",
    "        startTime (datetime): starting date\n",
    "        endTime (datetime): ending date\n",
    "        tickers (dict): tickers to download from yfinance, keys are for yfinance, values are dataframe columns to be created from the corresponding keys\n",
    "    \n",
    "    Returns:\n",
    "        investments (pandas.dataframe): a dataframe object\n",
    "    \"\"\"\n",
    "    \n",
    "    # get price data\n",
    "    prices = web.DataReader(list(tickers.keys()), startTime, endTime)[\"Adj Close\"]\n",
    "    # rename columns\n",
    "    prices = prices.rename(columns=tickers)\n",
    "    # create returns dataframe\n",
    "    returns = np.log(prices) - np.log(prices.shift(1))\n",
    "    returns = returns.iloc[1:, 0:]  # drop first row because it is NaN\n",
    "    # create current year dataframe\n",
    "    prices_CurrYear = prices.loc[(date.today() - datetime.timedelta(365)):date.today()]\n",
    "    \n",
    "    # High-Low volatility\n",
    "    highLow = (prices_CurrYear.max() - prices_CurrYear.min()) / prices.iloc[-1]\n",
    "    highLow = pd.DataFrame(highLow, columns = [\"HighMinusLow\"])\n",
    "    \n",
    "    # Moving average volatility\n",
    "    MA = pd.DataFrame((abs(prices - prices.rolling(50).mean()) / prices.mean()).mean(), columns = [\"MA Vol\"])\n",
    "    \n",
    "    # Stdev of returns volatility\n",
    "    stDev = pd.DataFrame(returns.std(), columns = [\"StandardDeviation\"])\n",
    "    \n",
    "    # Mean daily returns\n",
    "    meanDailyReturn = pd.DataFrame(returns.mean()*100, columns = [\"Mean Daily Return (%)\"])\n",
    "    \n",
    "    # merge datasets\n",
    "    investments = highLow\n",
    "    investments[\"MA Vol\"] = MA[\"MA Vol\"]\n",
    "    investments[\"StandardDeviation\"] = stDev[\"StandardDeviation\"]\n",
    "    investments[\"Mean Daily Return (%)\"] = meanDailyReturn[\"Mean Daily Return (%)\"]\n",
    "    \n",
    "    return investments"
   ]
  },
  {
   "cell_type": "code",
   "execution_count": 724,
   "metadata": {},
   "outputs": [
    {
     "name": "stdout",
     "output_type": "stream",
     "text": [
      "[*********************100%%**********************]  2 of 2 completed\n"
     ]
    },
    {
     "data": {
      "text/html": [
       "<div>\n",
       "<style scoped>\n",
       "    .dataframe tbody tr th:only-of-type {\n",
       "        vertical-align: middle;\n",
       "    }\n",
       "\n",
       "    .dataframe tbody tr th {\n",
       "        vertical-align: top;\n",
       "    }\n",
       "\n",
       "    .dataframe thead th {\n",
       "        text-align: right;\n",
       "    }\n",
       "</style>\n",
       "<table border=\"1\" class=\"dataframe\">\n",
       "  <thead>\n",
       "    <tr style=\"text-align: right;\">\n",
       "      <th></th>\n",
       "      <th>HighMinusLow</th>\n",
       "      <th>MA Vol</th>\n",
       "      <th>StandardDeviation</th>\n",
       "      <th>Mean Daily Return (%)</th>\n",
       "    </tr>\n",
       "  </thead>\n",
       "  <tbody>\n",
       "    <tr>\n",
       "      <th>SP500</th>\n",
       "      <td>0.227</td>\n",
       "      <td>0.036</td>\n",
       "      <td>0.015</td>\n",
       "      <td>0.034</td>\n",
       "    </tr>\n",
       "    <tr>\n",
       "      <th>Russell2000</th>\n",
       "      <td>0.187</td>\n",
       "      <td>0.048</td>\n",
       "      <td>0.019</td>\n",
       "      <td>0.012</td>\n",
       "    </tr>\n",
       "  </tbody>\n",
       "</table>\n",
       "</div>"
      ],
      "text/plain": [
       "             HighMinusLow  MA Vol  StandardDeviation  Mean Daily Return (%)\n",
       "SP500               0.227   0.036              0.015                  0.034\n",
       "Russell2000         0.187   0.048              0.019                  0.012"
      ]
     },
     "execution_count": 724,
     "metadata": {},
     "output_type": "execute_result"
    }
   ],
   "source": [
    "temp = investCompare(\n",
    "    datetime.date(2020, 1, 1),\n",
    "    datetime.date.today(),\n",
    "    {\"^GSPC\": \"SP500\", \"^RUT\": \"Russell2000\"},\n",
    ")\n",
    "temp"
   ]
  },
  {
   "cell_type": "code",
   "execution_count": 725,
   "metadata": {},
   "outputs": [
    {
     "name": "stdout",
     "output_type": "stream",
     "text": [
      "[*********************100%%**********************]  3 of 3 completed\n"
     ]
    },
    {
     "data": {
      "text/html": [
       "<div>\n",
       "<style scoped>\n",
       "    .dataframe tbody tr th:only-of-type {\n",
       "        vertical-align: middle;\n",
       "    }\n",
       "\n",
       "    .dataframe tbody tr th {\n",
       "        vertical-align: top;\n",
       "    }\n",
       "\n",
       "    .dataframe thead th {\n",
       "        text-align: right;\n",
       "    }\n",
       "</style>\n",
       "<table border=\"1\" class=\"dataframe\">\n",
       "  <thead>\n",
       "    <tr style=\"text-align: right;\">\n",
       "      <th></th>\n",
       "      <th>HighMinusLow</th>\n",
       "      <th>MA Vol</th>\n",
       "      <th>StandardDeviation</th>\n",
       "      <th>Mean Daily Return (%)</th>\n",
       "    </tr>\n",
       "  </thead>\n",
       "  <tbody>\n",
       "    <tr>\n",
       "      <th>Apple</th>\n",
       "      <td>0.404</td>\n",
       "      <td>0.062</td>\n",
       "      <td>0.022</td>\n",
       "      <td>0.096</td>\n",
       "    </tr>\n",
       "    <tr>\n",
       "      <th>SP500</th>\n",
       "      <td>0.227</td>\n",
       "      <td>0.036</td>\n",
       "      <td>0.015</td>\n",
       "      <td>0.034</td>\n",
       "    </tr>\n",
       "    <tr>\n",
       "      <th>Russell2000</th>\n",
       "      <td>0.187</td>\n",
       "      <td>0.048</td>\n",
       "      <td>0.019</td>\n",
       "      <td>0.012</td>\n",
       "    </tr>\n",
       "  </tbody>\n",
       "</table>\n",
       "</div>"
      ],
      "text/plain": [
       "             HighMinusLow  MA Vol  StandardDeviation  Mean Daily Return (%)\n",
       "Apple               0.404   0.062              0.022                  0.096\n",
       "SP500               0.227   0.036              0.015                  0.034\n",
       "Russell2000         0.187   0.048              0.019                  0.012"
      ]
     },
     "execution_count": 725,
     "metadata": {},
     "output_type": "execute_result"
    }
   ],
   "source": [
    "# Try another example:\n",
    "investCompare(\n",
    "    datetime.date(2020, 1, 1),\n",
    "    datetime.date.today(),\n",
    "    {\"^GSPC\": \"SP500\", \"^RUT\": \"Russell2000\", \"AAPL\": \"Apple\"},\n",
    ")"
   ]
  },
  {
   "cell_type": "code",
   "execution_count": 726,
   "metadata": {},
   "outputs": [
    {
     "name": "stdout",
     "output_type": "stream",
     "text": [
      "[*********************100%%**********************]  2 of 2 completed\n"
     ]
    },
    {
     "data": {
      "text/html": [
       "<div>\n",
       "<style scoped>\n",
       "    .dataframe tbody tr th:only-of-type {\n",
       "        vertical-align: middle;\n",
       "    }\n",
       "\n",
       "    .dataframe tbody tr th {\n",
       "        vertical-align: top;\n",
       "    }\n",
       "\n",
       "    .dataframe thead th {\n",
       "        text-align: right;\n",
       "    }\n",
       "</style>\n",
       "<table border=\"1\" class=\"dataframe\">\n",
       "  <thead>\n",
       "    <tr style=\"text-align: right;\">\n",
       "      <th></th>\n",
       "      <th>HighMinusLow</th>\n",
       "      <th>MA Vol</th>\n",
       "      <th>StandardDeviation</th>\n",
       "      <th>Mean Daily Return (%)</th>\n",
       "    </tr>\n",
       "  </thead>\n",
       "  <tbody>\n",
       "    <tr>\n",
       "      <th>Value</th>\n",
       "      <td>0.184</td>\n",
       "      <td>0.031</td>\n",
       "      <td>0.014</td>\n",
       "      <td>0.028</td>\n",
       "    </tr>\n",
       "    <tr>\n",
       "      <th>Growth</th>\n",
       "      <td>0.302</td>\n",
       "      <td>0.048</td>\n",
       "      <td>0.017</td>\n",
       "      <td>0.050</td>\n",
       "    </tr>\n",
       "  </tbody>\n",
       "</table>\n",
       "</div>"
      ],
      "text/plain": [
       "        HighMinusLow  MA Vol  StandardDeviation  Mean Daily Return (%)\n",
       "Value          0.184   0.031              0.014                  0.028\n",
       "Growth         0.302   0.048              0.017                  0.050"
      ]
     },
     "execution_count": 726,
     "metadata": {},
     "output_type": "execute_result"
    }
   ],
   "source": [
    "investCompare(\n",
    "    datetime.date(2020, 1, 1), datetime.date.today(), {\"VUG\": \"Growth\", \"VTV\": \"Value\"}\n",
    ")"
   ]
  },
  {
   "cell_type": "code",
   "execution_count": 727,
   "metadata": {},
   "outputs": [
    {
     "name": "stdout",
     "output_type": "stream",
     "text": [
      "[*********************100%%**********************]  2 of 2 completed\n"
     ]
    },
    {
     "data": {
      "text/html": [
       "<div>\n",
       "<style scoped>\n",
       "    .dataframe tbody tr th:only-of-type {\n",
       "        vertical-align: middle;\n",
       "    }\n",
       "\n",
       "    .dataframe tbody tr th {\n",
       "        vertical-align: top;\n",
       "    }\n",
       "\n",
       "    .dataframe thead th {\n",
       "        text-align: right;\n",
       "    }\n",
       "</style>\n",
       "<table border=\"1\" class=\"dataframe\">\n",
       "  <thead>\n",
       "    <tr style=\"text-align: right;\">\n",
       "      <th></th>\n",
       "      <th>HighMinusLow</th>\n",
       "      <th>MA Vol</th>\n",
       "      <th>StandardDeviation</th>\n",
       "      <th>Mean Daily Return (%)</th>\n",
       "    </tr>\n",
       "  </thead>\n",
       "  <tbody>\n",
       "    <tr>\n",
       "      <th>Value</th>\n",
       "      <td>0.184</td>\n",
       "      <td>0.028</td>\n",
       "      <td>0.011</td>\n",
       "      <td>0.041</td>\n",
       "    </tr>\n",
       "    <tr>\n",
       "      <th>Growth</th>\n",
       "      <td>0.302</td>\n",
       "      <td>0.038</td>\n",
       "      <td>0.012</td>\n",
       "      <td>0.053</td>\n",
       "    </tr>\n",
       "  </tbody>\n",
       "</table>\n",
       "</div>"
      ],
      "text/plain": [
       "        HighMinusLow  MA Vol  StandardDeviation  Mean Daily Return (%)\n",
       "Value          0.184   0.028              0.011                  0.041\n",
       "Growth         0.302   0.038              0.012                  0.053"
      ]
     },
     "execution_count": 727,
     "metadata": {},
     "output_type": "execute_result"
    }
   ],
   "source": [
    "investCompare(\n",
    "    datetime.date(2010, 1, 1), datetime.date.today(), {\"VUG\": \"Growth\", \"VTV\": \"Value\"}\n",
    ")"
   ]
  },
  {
   "cell_type": "code",
   "execution_count": 728,
   "metadata": {},
   "outputs": [
    {
     "name": "stdout",
     "output_type": "stream",
     "text": [
      "[*********************100%%**********************]  3 of 3 completed\n"
     ]
    },
    {
     "data": {
      "text/html": [
       "<div>\n",
       "<style scoped>\n",
       "    .dataframe tbody tr th:only-of-type {\n",
       "        vertical-align: middle;\n",
       "    }\n",
       "\n",
       "    .dataframe tbody tr th {\n",
       "        vertical-align: top;\n",
       "    }\n",
       "\n",
       "    .dataframe thead th {\n",
       "        text-align: right;\n",
       "    }\n",
       "</style>\n",
       "<table border=\"1\" class=\"dataframe\">\n",
       "  <thead>\n",
       "    <tr style=\"text-align: right;\">\n",
       "      <th></th>\n",
       "      <th>HighMinusLow</th>\n",
       "      <th>MA Vol</th>\n",
       "      <th>StandardDeviation</th>\n",
       "      <th>Mean Daily Return (%)</th>\n",
       "    </tr>\n",
       "  </thead>\n",
       "  <tbody>\n",
       "    <tr>\n",
       "      <th>China ETF</th>\n",
       "      <td>0.444</td>\n",
       "      <td>0.053</td>\n",
       "      <td>0.019</td>\n",
       "      <td>-0.035</td>\n",
       "    </tr>\n",
       "    <tr>\n",
       "      <th>Europe ETF</th>\n",
       "      <td>0.323</td>\n",
       "      <td>0.040</td>\n",
       "      <td>0.015</td>\n",
       "      <td>0.013</td>\n",
       "    </tr>\n",
       "    <tr>\n",
       "      <th>SP500</th>\n",
       "      <td>0.227</td>\n",
       "      <td>0.036</td>\n",
       "      <td>0.015</td>\n",
       "      <td>0.034</td>\n",
       "    </tr>\n",
       "  </tbody>\n",
       "</table>\n",
       "</div>"
      ],
      "text/plain": [
       "            HighMinusLow  MA Vol  StandardDeviation  Mean Daily Return (%)\n",
       "China ETF          0.444   0.053              0.019                 -0.035\n",
       "Europe ETF         0.323   0.040              0.015                  0.013\n",
       "SP500              0.227   0.036              0.015                  0.034"
      ]
     },
     "execution_count": 728,
     "metadata": {},
     "output_type": "execute_result"
    }
   ],
   "source": [
    "investCompare(\n",
    "    datetime.date(2020, 1, 1),\n",
    "    datetime.date.today(),\n",
    "    {\"^GSPC\": \"SP500\", \"SPEU\": \"Europe ETF\", \"GXC\": \"China ETF\"},\n",
    ")"
   ]
  },
  {
   "cell_type": "code",
   "execution_count": 729,
   "metadata": {},
   "outputs": [
    {
     "name": "stdout",
     "output_type": "stream",
     "text": [
      "[*********************100%%**********************]  3 of 3 completed\n"
     ]
    },
    {
     "data": {
      "text/html": [
       "<div>\n",
       "<style scoped>\n",
       "    .dataframe tbody tr th:only-of-type {\n",
       "        vertical-align: middle;\n",
       "    }\n",
       "\n",
       "    .dataframe tbody tr th {\n",
       "        vertical-align: top;\n",
       "    }\n",
       "\n",
       "    .dataframe thead th {\n",
       "        text-align: right;\n",
       "    }\n",
       "</style>\n",
       "<table border=\"1\" class=\"dataframe\">\n",
       "  <thead>\n",
       "    <tr style=\"text-align: right;\">\n",
       "      <th></th>\n",
       "      <th>HighMinusLow</th>\n",
       "      <th>MA Vol</th>\n",
       "      <th>StandardDeviation</th>\n",
       "      <th>Mean Daily Return (%)</th>\n",
       "    </tr>\n",
       "  </thead>\n",
       "  <tbody>\n",
       "    <tr>\n",
       "      <th>China ETF</th>\n",
       "      <td>0.444</td>\n",
       "      <td>0.046</td>\n",
       "      <td>0.016</td>\n",
       "      <td>0.007</td>\n",
       "    </tr>\n",
       "    <tr>\n",
       "      <th>Europe ETF</th>\n",
       "      <td>0.323</td>\n",
       "      <td>0.033</td>\n",
       "      <td>0.013</td>\n",
       "      <td>0.014</td>\n",
       "    </tr>\n",
       "    <tr>\n",
       "      <th>SP500</th>\n",
       "      <td>0.227</td>\n",
       "      <td>0.030</td>\n",
       "      <td>0.011</td>\n",
       "      <td>0.040</td>\n",
       "    </tr>\n",
       "  </tbody>\n",
       "</table>\n",
       "</div>"
      ],
      "text/plain": [
       "            HighMinusLow  MA Vol  StandardDeviation  Mean Daily Return (%)\n",
       "China ETF          0.444   0.046              0.016                  0.007\n",
       "Europe ETF         0.323   0.033              0.013                  0.014\n",
       "SP500              0.227   0.030              0.011                  0.040"
      ]
     },
     "execution_count": 729,
     "metadata": {},
     "output_type": "execute_result"
    }
   ],
   "source": [
    "investCompare(\n",
    "    datetime.date(2010, 1, 1),\n",
    "    datetime.date.today(),\n",
    "    {\"^GSPC\": \"SP500\", \"SPEU\": \"Europe ETF\", \"GXC\": \"China ETF\"},\n",
    ")"
   ]
  }
 ],
 "metadata": {
  "kernelspec": {
   "display_name": "Python 3",
   "language": "python",
   "name": "python3"
  },
  "language_info": {
   "codemirror_mode": {
    "name": "ipython",
    "version": 3
   },
   "file_extension": ".py",
   "mimetype": "text/x-python",
   "name": "python",
   "nbconvert_exporter": "python",
   "pygments_lexer": "ipython3",
   "version": "3.10.5"
  },
  "orig_nbformat": 4
 },
 "nbformat": 4,
 "nbformat_minor": 2
}
