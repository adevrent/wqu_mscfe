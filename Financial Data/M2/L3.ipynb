{
 "cells": [
  {
   "cell_type": "code",
   "execution_count": 64,
   "metadata": {},
   "outputs": [],
   "source": [
    "import datetime\n",
    "\n",
    "import numpy as np\n",
    "import pandas_datareader.data as web\n",
    "import seaborn as sns\n",
    "from matplotlib import pyplot as plt"
   ]
  },
  {
   "cell_type": "code",
   "execution_count": 65,
   "metadata": {},
   "outputs": [],
   "source": [
    "# start = datetime.date.today() - datetime.timedelta(days=5 * 365)\n",
    "# end = datetime.date.today()\n",
    "start = datetime.date(2017, 1, 23)\n",
    "end = datetime.date(2022, 1, 20)\n",
    "df = web.DataReader([\"sp500\", \"NASDAQCOM\", \"CBBTCUSD\"], \"fred\", start, end)"
   ]
  },
  {
   "cell_type": "code",
   "execution_count": 66,
   "metadata": {},
   "outputs": [
    {
     "data": {
      "text/html": [
       "<div>\n",
       "<style scoped>\n",
       "    .dataframe tbody tr th:only-of-type {\n",
       "        vertical-align: middle;\n",
       "    }\n",
       "\n",
       "    .dataframe tbody tr th {\n",
       "        vertical-align: top;\n",
       "    }\n",
       "\n",
       "    .dataframe thead th {\n",
       "        text-align: right;\n",
       "    }\n",
       "</style>\n",
       "<table border=\"1\" class=\"dataframe\">\n",
       "  <thead>\n",
       "    <tr style=\"text-align: right;\">\n",
       "      <th></th>\n",
       "      <th>sp500</th>\n",
       "      <th>NASDAQCOM</th>\n",
       "      <th>CBBTCUSD</th>\n",
       "    </tr>\n",
       "    <tr>\n",
       "      <th>DATE</th>\n",
       "      <th></th>\n",
       "      <th></th>\n",
       "      <th></th>\n",
       "    </tr>\n",
       "  </thead>\n",
       "  <tbody>\n",
       "    <tr>\n",
       "      <th>2022-01-16</th>\n",
       "      <td>NaN</td>\n",
       "      <td>NaN</td>\n",
       "      <td>43137.67</td>\n",
       "    </tr>\n",
       "    <tr>\n",
       "      <th>2022-01-17</th>\n",
       "      <td>NaN</td>\n",
       "      <td>NaN</td>\n",
       "      <td>42285.47</td>\n",
       "    </tr>\n",
       "    <tr>\n",
       "      <th>2022-01-18</th>\n",
       "      <td>4577.11</td>\n",
       "      <td>14506.90</td>\n",
       "      <td>42411.61</td>\n",
       "    </tr>\n",
       "    <tr>\n",
       "      <th>2022-01-19</th>\n",
       "      <td>4532.76</td>\n",
       "      <td>14340.26</td>\n",
       "      <td>41723.49</td>\n",
       "    </tr>\n",
       "    <tr>\n",
       "      <th>2022-01-20</th>\n",
       "      <td>4482.73</td>\n",
       "      <td>14154.02</td>\n",
       "      <td>40696.22</td>\n",
       "    </tr>\n",
       "  </tbody>\n",
       "</table>\n",
       "</div>"
      ],
      "text/plain": [
       "              sp500  NASDAQCOM  CBBTCUSD\n",
       "DATE                                    \n",
       "2022-01-16      NaN        NaN  43137.67\n",
       "2022-01-17      NaN        NaN  42285.47\n",
       "2022-01-18  4577.11   14506.90  42411.61\n",
       "2022-01-19  4532.76   14340.26  41723.49\n",
       "2022-01-20  4482.73   14154.02  40696.22"
      ]
     },
     "execution_count": 66,
     "metadata": {},
     "output_type": "execute_result"
    }
   ],
   "source": [
    "df.tail()"
   ]
  },
  {
   "cell_type": "code",
   "execution_count": 67,
   "metadata": {},
   "outputs": [
    {
     "data": {
      "text/html": [
       "<div>\n",
       "<style scoped>\n",
       "    .dataframe tbody tr th:only-of-type {\n",
       "        vertical-align: middle;\n",
       "    }\n",
       "\n",
       "    .dataframe tbody tr th {\n",
       "        vertical-align: top;\n",
       "    }\n",
       "\n",
       "    .dataframe thead th {\n",
       "        text-align: right;\n",
       "    }\n",
       "</style>\n",
       "<table border=\"1\" class=\"dataframe\">\n",
       "  <thead>\n",
       "    <tr style=\"text-align: right;\">\n",
       "      <th></th>\n",
       "      <th>SP500</th>\n",
       "      <th>NASDAQ</th>\n",
       "      <th>Bitcoin</th>\n",
       "    </tr>\n",
       "    <tr>\n",
       "      <th>DATE</th>\n",
       "      <th></th>\n",
       "      <th></th>\n",
       "      <th></th>\n",
       "    </tr>\n",
       "  </thead>\n",
       "  <tbody>\n",
       "    <tr>\n",
       "      <th>2017-01-24</th>\n",
       "      <td>0.006543</td>\n",
       "      <td>0.008610</td>\n",
       "      <td>-0.026369</td>\n",
       "    </tr>\n",
       "    <tr>\n",
       "      <th>2017-01-25</th>\n",
       "      <td>0.007994</td>\n",
       "      <td>0.009839</td>\n",
       "      <td>0.010095</td>\n",
       "    </tr>\n",
       "    <tr>\n",
       "      <th>2017-01-26</th>\n",
       "      <td>-0.000736</td>\n",
       "      <td>-0.000205</td>\n",
       "      <td>0.023189</td>\n",
       "    </tr>\n",
       "    <tr>\n",
       "      <th>2017-01-27</th>\n",
       "      <td>-0.000867</td>\n",
       "      <td>0.000990</td>\n",
       "      <td>0.006099</td>\n",
       "    </tr>\n",
       "    <tr>\n",
       "      <th>2017-01-30</th>\n",
       "      <td>-0.006028</td>\n",
       "      <td>-0.008350</td>\n",
       "      <td>0.000650</td>\n",
       "    </tr>\n",
       "  </tbody>\n",
       "</table>\n",
       "</div>"
      ],
      "text/plain": [
       "               SP500    NASDAQ   Bitcoin\n",
       "DATE                                    \n",
       "2017-01-24  0.006543  0.008610 -0.026369\n",
       "2017-01-25  0.007994  0.009839  0.010095\n",
       "2017-01-26 -0.000736 -0.000205  0.023189\n",
       "2017-01-27 -0.000867  0.000990  0.006099\n",
       "2017-01-30 -0.006028 -0.008350  0.000650"
      ]
     },
     "execution_count": 67,
     "metadata": {},
     "output_type": "execute_result"
    }
   ],
   "source": [
    "# convert this dataframe to a returns dataframe\n",
    "df = df.dropna()  # drop weekends, holidays etc.\n",
    "df[\"SP500\"] = np.log(df.sp500) - np.log(df.sp500.shift(1))\n",
    "df[\"NASDAQ\"] = np.log(df.NASDAQCOM) - np.log(df.NASDAQCOM.shift(1))\n",
    "df[\"Bitcoin\"] = np.log(df.CBBTCUSD) - np.log(df.CBBTCUSD.shift(1))\n",
    "df = df.iloc[1:, 3:]  # drop the first row and drop the old 3 price columns.\n",
    "df.head()"
   ]
  },
  {
   "cell_type": "code",
   "execution_count": 68,
   "metadata": {},
   "outputs": [
    {
     "data": {
      "text/plain": [
       "<AxesSubplot:xlabel='DATE'>"
      ]
     },
     "execution_count": 68,
     "metadata": {},
     "output_type": "execute_result"
    },
    {
     "data": {
      "image/png": "[encoded data removed]",
      "text/plain": [
       "<Figure size 432x288 with 1 Axes>"
      ]
     },
     "metadata": {
      "needs_background": "light"
     },
     "output_type": "display_data"
    }
   ],
   "source": [
    "# plot a 30 day change of returns\n",
    "df[\"2019-05-01\":\"2019-05-31\"].plot()"
   ]
  },
  {
   "cell_type": "markdown",
   "metadata": {},
   "source": [
    "$\\sigma^2 = \\frac{\\sum(x_i - \\overline{x})^2}{n-1}$\n",
    "\n",
    "where\n",
    "\n",
    "$\\sigma^2$ = Sample Variance </br>\n",
    "$x_i$ = value of one observation </br>\n",
    "$\\overline{x}$ = mean of all observations </br>\n",
    "$n$ = number of observations </br>"
   ]
  },
  {
   "cell_type": "code",
   "execution_count": 69,
   "metadata": {},
   "outputs": [
    {
     "data": {
      "text/plain": [
       "(-0.5, 0.5)"
      ]
     },
     "execution_count": 69,
     "metadata": {},
     "output_type": "execute_result"
    },
    {
     "data": {
      "image/png": "[encoded data removed]",
      "text/plain": [
       "<Figure size 1152x576 with 2 Axes>"
      ]
     },
     "metadata": {
      "needs_background": "light"
     },
     "output_type": "display_data"
    }
   ],
   "source": [
    "fig, axs = plt.subplots(2, 1, figsize=(16, 8), sharex=True, sharey=True)\n",
    "axs[0].plot(df[\"SP500\"])\n",
    "axs[1].plot(df[\"Bitcoin\"])\n",
    "axs[0].set_title(\"Figure 1: S&P 500 Daily Returns\")\n",
    "axs[1].set_title(\"Figure 2: Bitcoin Daily Returns\")\n",
    "plt.subplots_adjust(hspace = 0.4)\n",
    "axs[0].set_ylim(-0.5, 0.5)"
   ]
  },
  {
   "cell_type": "markdown",
   "metadata": {},
   "source": [
    "## Covariance and Correlation ##\n",
    "\\\n",
    "$cov(x, y) = \\large\\frac{\\sum(x_{i}-\\overline{x})(y_{i}-\\overline{y})}{N-1}$\n",
    "\n",
    "where\n",
    "\n",
    "$x_i$ = value of one observation of $x$  </br>\n",
    "$y_i$ = value of one observation of $y$ </br>\n",
    "$\\overline{x}$ = mean of $x$ </br>\n",
    "$\\overline{y}$ = mean of $y$ </br>\n",
    "$N$ = number of observations </br>"
   ]
  },
  {
   "cell_type": "code",
   "execution_count": 70,
   "metadata": {},
   "outputs": [
    {
     "data": {
      "text/html": [
       "<div>\n",
       "<style scoped>\n",
       "    .dataframe tbody tr th:only-of-type {\n",
       "        vertical-align: middle;\n",
       "    }\n",
       "\n",
       "    .dataframe tbody tr th {\n",
       "        vertical-align: top;\n",
       "    }\n",
       "\n",
       "    .dataframe thead th {\n",
       "        text-align: right;\n",
       "    }\n",
       "</style>\n",
       "<table border=\"1\" class=\"dataframe\">\n",
       "  <thead>\n",
       "    <tr style=\"text-align: right;\">\n",
       "      <th></th>\n",
       "      <th>SP500</th>\n",
       "      <th>NASDAQ</th>\n",
       "      <th>Bitcoin</th>\n",
       "    </tr>\n",
       "    <tr>\n",
       "      <th>DATE</th>\n",
       "      <th></th>\n",
       "      <th></th>\n",
       "      <th></th>\n",
       "    </tr>\n",
       "  </thead>\n",
       "  <tbody>\n",
       "    <tr>\n",
       "      <th>2017-01-24</th>\n",
       "      <td>0.006543</td>\n",
       "      <td>0.008610</td>\n",
       "      <td>-0.026369</td>\n",
       "    </tr>\n",
       "    <tr>\n",
       "      <th>2017-01-25</th>\n",
       "      <td>0.007994</td>\n",
       "      <td>0.009839</td>\n",
       "      <td>0.010095</td>\n",
       "    </tr>\n",
       "    <tr>\n",
       "      <th>2017-01-26</th>\n",
       "      <td>-0.000736</td>\n",
       "      <td>-0.000205</td>\n",
       "      <td>0.023189</td>\n",
       "    </tr>\n",
       "    <tr>\n",
       "      <th>2017-01-27</th>\n",
       "      <td>-0.000867</td>\n",
       "      <td>0.000990</td>\n",
       "      <td>0.006099</td>\n",
       "    </tr>\n",
       "    <tr>\n",
       "      <th>2017-01-30</th>\n",
       "      <td>-0.006028</td>\n",
       "      <td>-0.008350</td>\n",
       "      <td>0.000650</td>\n",
       "    </tr>\n",
       "  </tbody>\n",
       "</table>\n",
       "</div>"
      ],
      "text/plain": [
       "               SP500    NASDAQ   Bitcoin\n",
       "DATE                                    \n",
       "2017-01-24  0.006543  0.008610 -0.026369\n",
       "2017-01-25  0.007994  0.009839  0.010095\n",
       "2017-01-26 -0.000736 -0.000205  0.023189\n",
       "2017-01-27 -0.000867  0.000990  0.006099\n",
       "2017-01-30 -0.006028 -0.008350  0.000650"
      ]
     },
     "execution_count": 70,
     "metadata": {},
     "output_type": "execute_result"
    }
   ],
   "source": [
    "df.head()"
   ]
  },
  {
   "cell_type": "code",
   "execution_count": 71,
   "metadata": {},
   "outputs": [
    {
     "data": {
      "text/html": [
       "<div>\n",
       "<style scoped>\n",
       "    .dataframe tbody tr th:only-of-type {\n",
       "        vertical-align: middle;\n",
       "    }\n",
       "\n",
       "    .dataframe tbody tr th {\n",
       "        vertical-align: top;\n",
       "    }\n",
       "\n",
       "    .dataframe thead th {\n",
       "        text-align: right;\n",
       "    }\n",
       "</style>\n",
       "<table border=\"1\" class=\"dataframe\">\n",
       "  <thead>\n",
       "    <tr style=\"text-align: right;\">\n",
       "      <th></th>\n",
       "      <th>SP500</th>\n",
       "      <th>NASDAQ</th>\n",
       "      <th>Bitcoin</th>\n",
       "    </tr>\n",
       "  </thead>\n",
       "  <tbody>\n",
       "    <tr>\n",
       "      <th>SP500</th>\n",
       "      <td>0.000150</td>\n",
       "      <td>0.000160</td>\n",
       "      <td>0.000121</td>\n",
       "    </tr>\n",
       "    <tr>\n",
       "      <th>NASDAQ</th>\n",
       "      <td>0.000160</td>\n",
       "      <td>0.000193</td>\n",
       "      <td>0.000142</td>\n",
       "    </tr>\n",
       "    <tr>\n",
       "      <th>Bitcoin</th>\n",
       "      <td>0.000121</td>\n",
       "      <td>0.000142</td>\n",
       "      <td>0.002481</td>\n",
       "    </tr>\n",
       "  </tbody>\n",
       "</table>\n",
       "</div>"
      ],
      "text/plain": [
       "            SP500    NASDAQ   Bitcoin\n",
       "SP500    0.000150  0.000160  0.000121\n",
       "NASDAQ   0.000160  0.000193  0.000142\n",
       "Bitcoin  0.000121  0.000142  0.002481"
      ]
     },
     "execution_count": 71,
     "metadata": {},
     "output_type": "execute_result"
    }
   ],
   "source": [
    "# Covariance matrix\n",
    "df.cov()"
   ]
  },
  {
   "cell_type": "markdown",
   "metadata": {},
   "source": [
    "$\\large\\rho_{_{X,Y}} = \\frac{cov(X,Y)}{\\sigma_{_{X}} \\sigma_{_{Y}}}$\n",
    "\n",
    "\\\n",
    "where\\\n",
    "\\\n",
    "$X$ and $Y$ are random variables representing returns of two different assets.\\\n",
    "$cov$ = Covariance </br>\n",
    "$\\sigma_{_{X}}$ = Standard Deviation of $X$ </br>\n",
    "$\\sigma_{_{Y}}$ = Standard Deviation of $Y$ </br>"
   ]
  },
  {
   "cell_type": "code",
   "execution_count": 72,
   "metadata": {},
   "outputs": [
    {
     "data": {
      "text/html": [
       "<div>\n",
       "<style scoped>\n",
       "    .dataframe tbody tr th:only-of-type {\n",
       "        vertical-align: middle;\n",
       "    }\n",
       "\n",
       "    .dataframe tbody tr th {\n",
       "        vertical-align: top;\n",
       "    }\n",
       "\n",
       "    .dataframe thead th {\n",
       "        text-align: right;\n",
       "    }\n",
       "</style>\n",
       "<table border=\"1\" class=\"dataframe\">\n",
       "  <thead>\n",
       "    <tr style=\"text-align: right;\">\n",
       "      <th></th>\n",
       "      <th>SP500</th>\n",
       "      <th>NASDAQ</th>\n",
       "      <th>Bitcoin</th>\n",
       "    </tr>\n",
       "  </thead>\n",
       "  <tbody>\n",
       "    <tr>\n",
       "      <th>SP500</th>\n",
       "      <td>1.000000</td>\n",
       "      <td>0.943390</td>\n",
       "      <td>0.198172</td>\n",
       "    </tr>\n",
       "    <tr>\n",
       "      <th>NASDAQ</th>\n",
       "      <td>0.943390</td>\n",
       "      <td>1.000000</td>\n",
       "      <td>0.204888</td>\n",
       "    </tr>\n",
       "    <tr>\n",
       "      <th>Bitcoin</th>\n",
       "      <td>0.198172</td>\n",
       "      <td>0.204888</td>\n",
       "      <td>1.000000</td>\n",
       "    </tr>\n",
       "  </tbody>\n",
       "</table>\n",
       "</div>"
      ],
      "text/plain": [
       "            SP500    NASDAQ   Bitcoin\n",
       "SP500    1.000000  0.943390  0.198172\n",
       "NASDAQ   0.943390  1.000000  0.204888\n",
       "Bitcoin  0.198172  0.204888  1.000000"
      ]
     },
     "execution_count": 72,
     "metadata": {},
     "output_type": "execute_result"
    }
   ],
   "source": [
    "# Correlation matrix\n",
    "df.corr()"
   ]
  },
  {
   "cell_type": "code",
   "execution_count": 73,
   "metadata": {},
   "outputs": [
    {
     "data": {
      "text/plain": [
       "Text(0, 0.5, 'NASDAQ')"
      ]
     },
     "execution_count": 73,
     "metadata": {},
     "output_type": "execute_result"
    },
    {
     "data": {
      "image/png": "[encoded data removed]",
      "text/plain": [
       "<Figure size 432x432 with 1 Axes>"
      ]
     },
     "metadata": {
      "needs_background": "light"
     },
     "output_type": "display_data"
    }
   ],
   "source": [
    "# Scatterplot the returns between SP500 and NDQ\n",
    "fig, ax = plt.subplots(figsize = (6, 6))\n",
    "ax.scatter(df[\"SP500\"], df[\"NASDAQ\"])\n",
    "ax.set_title(\"Figure 3: Daily S&P 500 Returns vs. NASDAQ Returns\")\n",
    "ax.set_xlabel(\"SP500\")\n",
    "ax.set_ylabel(\"NASDAQ\")"
   ]
  },
  {
   "cell_type": "code",
   "execution_count": 74,
   "metadata": {},
   "outputs": [
    {
     "name": "stdout",
     "output_type": "stream",
     "text": [
      "SP500      0.000150\n",
      "NASDAQ     0.000193\n",
      "Bitcoin    0.002481\n",
      "dtype: float64\n",
      "<class 'pandas.core.series.Series'>\n",
      "var_array: [0.00014992 0.00019297 0.0024805 ]\n"
     ]
    }
   ],
   "source": [
    "print(df.var())\n",
    "print(type(df.var()))\n",
    "var_array = np.array(df.var())\n",
    "print(\"var_array:\", var_array)"
   ]
  },
  {
   "cell_type": "markdown",
   "metadata": {},
   "source": [
    "## Sharpe Ratio ##"
   ]
  },
  {
   "cell_type": "markdown",
   "metadata": {},
   "source": [
    "$\\text{Sharpe Ratio} = \\frac{R_p - R_f}{\\sigma_p}$\n",
    "\n",
    "where\n",
    "\n",
    "$R_p$ = Return of the portfolio </br>\n",
    "$R_f$ = Risk-free Rate </br>\n",
    "$\\sigma_p$ = Standard Deviation of the Portfolio </br>"
   ]
  },
  {
   "cell_type": "code",
   "execution_count": 75,
   "metadata": {},
   "outputs": [
    {
     "name": "stdout",
     "output_type": "stream",
     "text": [
      "Sharpe Ratios of the Assets:\n",
      "SP500      0.044348\n",
      "NASDAQ     0.053585\n",
      "Bitcoin    0.060693\n",
      "dtype: float64\n"
     ]
    }
   ],
   "source": [
    "print(\"Sharpe Ratios of the Assets:\")\n",
    "print(df.mean() / df.std())"
   ]
  },
  {
   "cell_type": "markdown",
   "metadata": {},
   "source": [
    "## Semivariance ##"
   ]
  },
  {
   "cell_type": "markdown",
   "metadata": {},
   "source": [
    "$\\text{Semivariance} = \\frac{1}{n} \\sum_{r_i < \\overline{r}}^{n} (r_i - \\overline{r})^2$\n",
    "\n",
    "where\n",
    "\n",
    "$r_i$ = value of one observation  </br>\n",
    "$\\overline{r}$ = mean of all observations  </br>\n",
    "$n$ = number of observations"
   ]
  },
  {
   "cell_type": "code",
   "execution_count": 76,
   "metadata": {},
   "outputs": [
    {
     "name": "stdout",
     "output_type": "stream",
     "text": [
      "Semivariance of the SP500:\n",
      "0.0001837115112352176\n"
     ]
    }
   ],
   "source": [
    "print(\"Semivariance of the SP500:\")\n",
    "sp500_mean = df[\"SP500\"].mean()\n",
    "sp500_semivariance = ((df[df[\"SP500\"] < sp500_mean][\"SP500\"] - sp500_mean)**2).mean()\n",
    "print(sp500_semivariance)"
   ]
  },
  {
   "cell_type": "code",
   "execution_count": 77,
   "metadata": {},
   "outputs": [
    {
     "name": "stdout",
     "output_type": "stream",
     "text": [
      "Semivariance of the Bitcoin:\n",
      "0.002588983030799899\n"
     ]
    }
   ],
   "source": [
    "print(\"Semivariance of Bitcoin:\")\n",
    "btc_mean = df[\"Bitcoin\"].mean()\n",
    "btc_semivariance = ((df[df[\"Bitcoin\"] < btc_mean][\"Bitcoin\"] - btc_mean)**2).mean()\n",
    "print(btc_semivariance)"
   ]
  }
 ],
 "metadata": {
  "kernelspec": {
   "display_name": "Python 3",
   "language": "python",
   "name": "python3"
  },
  "language_info": {
   "codemirror_mode": {
    "name": "ipython",
    "version": 3
   },
   "file_extension": ".py",
   "mimetype": "text/x-python",
   "name": "python",
   "nbconvert_exporter": "python",
   "pygments_lexer": "ipython3",
   "version": "3.10.5"
  },
  "orig_nbformat": 4
 },
 "nbformat": 4,
 "nbformat_minor": 2
}
