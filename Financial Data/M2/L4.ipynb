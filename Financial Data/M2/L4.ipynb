{
 "cells": [
  {
   "cell_type": "code",
   "execution_count": 3,
   "metadata": {},
   "outputs": [],
   "source": [
    "import numpy as np\n",
    "from scipy.stats import norm\n",
    "import matplotlib.pyplot as plt"
   ]
  },
  {
   "cell_type": "markdown",
   "metadata": {},
   "source": [
    "$ F_X(0) = 0.5 $ \\\n",
    "\\\n",
    "where $X$ is a standard normal random variable. $X$~$N(0, 1)$"
   ]
  },
  {
   "cell_type": "code",
   "execution_count": 5,
   "metadata": {},
   "outputs": [
    {
     "data": {
      "text/plain": [
       "0.5"
      ]
     },
     "execution_count": 5,
     "metadata": {},
     "output_type": "execute_result"
    }
   ],
   "source": [
    "# Standard normal CDF\n",
    "norm.cdf(0)  #"
   ]
  },
  {
   "cell_type": "markdown",
   "metadata": {},
   "source": [
    "_norm.cdf_ also takes optional parameters:\\\n",
    "\\\n",
    "_loc_: mean of $X$ = $\\mu$ \\\n",
    "_scale_: standard deviation of $X$ = $\\sigma$ \\\n",
    "\\\n",
    "where $X$ is a normal random variable with mean $\\mu$ and variance $\\sigma^2$\\\n",
    "\\\n",
    "$X$~$N(\\mu, \\sigma^2)$"
   ]
  },
  {
   "cell_type": "code",
   "execution_count": 7,
   "metadata": {},
   "outputs": [
    {
     "data": {
      "text/plain": [
       "0.15865525393145707"
      ]
     },
     "execution_count": 7,
     "metadata": {},
     "output_type": "execute_result"
    }
   ],
   "source": [
    "# Example with mu=4, sigma=2. We expect FX(2) = 0.16 because: 0.5 - (0.68/2) = 0.16\n",
    "norm.cdf(2, loc = 4, scale = 2)"
   ]
  },
  {
   "cell_type": "code",
   "execution_count": 9,
   "metadata": {},
   "outputs": [],
   "source": [
    "def evalNormalCDF(x, mean=0, var=1):\n",
    "    \"\"\" Evaluates cumulative distribution function of a normal random variable.\n",
    "\n",
    "    Args:\n",
    "        x (float): Input to the CDF where we are interested in the probability that the random variable is less than x. P(X <= x).\n",
    "        mean (float): Expected value of the random variable. E[X] = mean\n",
    "        var (float): Variance of the random variable. Var(X) = var\n",
    "\n",
    "    Returns:\n",
    "        Probability the random variable is less than x. P(X <= x)\n",
    "    \"\"\"\n",
    "    return norm.cdf(x, mean, var**0.5)"
   ]
  },
  {
   "cell_type": "code",
   "execution_count": 10,
   "metadata": {},
   "outputs": [
    {
     "data": {
      "text/plain": [
       "0.15865525393145707"
      ]
     },
     "execution_count": 10,
     "metadata": {},
     "output_type": "execute_result"
    }
   ],
   "source": [
    "evalNormalCDF(2, 4, 4)  # Same with above."
   ]
  }
 ],
 "metadata": {
  "kernelspec": {
   "display_name": "Python 3",
   "language": "python",
   "name": "python3"
  },
  "language_info": {
   "codemirror_mode": {
    "name": "ipython",
    "version": 3
   },
   "file_extension": ".py",
   "mimetype": "text/x-python",
   "name": "python",
   "nbconvert_exporter": "python",
   "pygments_lexer": "ipython3",
   "version": "3.10.5"
  },
  "orig_nbformat": 4
 },
 "nbformat": 4,
 "nbformat_minor": 2
}
