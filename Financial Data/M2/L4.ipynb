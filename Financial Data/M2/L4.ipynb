{
 "cells": [
  {
   "cell_type": "code",
   "execution_count": 205,
   "metadata": {},
   "outputs": [],
   "source": [
    "import numpy as np\n",
    "from scipy.stats import norm\n",
    "import matplotlib.pyplot as plt\n"
   ]
  },
  {
   "cell_type": "markdown",
   "metadata": {},
   "source": [
    "$ F_X(0) = 0.5 $ \\\n",
    "\\\n",
    "where $X$ is a standard normal random variable. $X$~$N(0, 1)$"
   ]
  },
  {
   "cell_type": "code",
   "execution_count": 206,
   "metadata": {},
   "outputs": [
    {
     "data": {
      "text/plain": [
       "0.5"
      ]
     },
     "execution_count": 206,
     "metadata": {},
     "output_type": "execute_result"
    }
   ],
   "source": [
    "# Standard normal CDF\n",
    "norm.cdf(0)  #"
   ]
  },
  {
   "cell_type": "markdown",
   "metadata": {},
   "source": [
    "_norm.cdf_ also takes optional parameters:\\\n",
    "\\\n",
    "_loc_: mean of $X$ = $\\mu$ \\\n",
    "_scale_: standard deviation of $X$ = $\\sigma$ \\\n",
    "\\\n",
    "where $X$ is a normal random variable with mean $\\mu$ and variance $\\sigma^2$\\\n",
    "\\\n",
    "$X$~$N(\\mu, \\sigma^2)$"
   ]
  },
  {
   "cell_type": "code",
   "execution_count": 207,
   "metadata": {},
   "outputs": [
    {
     "data": {
      "text/plain": [
       "0.15865525393145707"
      ]
     },
     "execution_count": 207,
     "metadata": {},
     "output_type": "execute_result"
    }
   ],
   "source": [
    "# Example with mu=4, sigma=2. We expect FX(2) = 0.16 because: 0.5 - (0.68/2) = 0.16\n",
    "norm.cdf(2, loc = 4, scale = 2)"
   ]
  },
  {
   "cell_type": "code",
   "execution_count": 208,
   "metadata": {},
   "outputs": [],
   "source": [
    "# Custom function that takes the values x, mean and variance to give the value of CDF at x.\n",
    "def evalNormalCDF(x, mean=0, var=1):\n",
    "    \"\"\" Evaluates cumulative distribution function of a normal random variable.\n",
    "\n",
    "    Args:\n",
    "        x (float): Input to the CDF where we are interested in the probability that the random variable is less than x. P(X <= x).\n",
    "        mean (float): Expected value of the random variable. E[X] = mean\n",
    "        var (float): Variance of the random variable. Var(X) = var\n",
    "\n",
    "    Returns:\n",
    "        Probability that the random variable is less than x. P(X <= x)\n",
    "    \"\"\"\n",
    "    return norm.cdf(x, mean, var**0.5)"
   ]
  },
  {
   "cell_type": "code",
   "execution_count": 209,
   "metadata": {},
   "outputs": [
    {
     "data": {
      "text/plain": [
       "0.15865525393145707"
      ]
     },
     "execution_count": 209,
     "metadata": {},
     "output_type": "execute_result"
    }
   ],
   "source": [
    "evalNormalCDF(2, 4, 4)  # Same as above."
   ]
  },
  {
   "cell_type": "code",
   "execution_count": 210,
   "metadata": {},
   "outputs": [],
   "source": [
    "# Using statistical distributions to model stock returns\n",
    "import datetime\n",
    "\n",
    "import numpy as np\n",
    "import pandas as pd\n",
    "import pandas_datareader.data as web\n",
    "import seaborn as sns\n",
    "import yfinance as yfin\n",
    "from matplotlib import pyplot as plt\n",
    "from scipy import stats\n",
    "\n",
    "yfin.pdr_override()"
   ]
  },
  {
   "cell_type": "code",
   "execution_count": 211,
   "metadata": {},
   "outputs": [
    {
     "name": "stdout",
     "output_type": "stream",
     "text": [
      "[*********************100%%**********************]  1 of 1 completed\n"
     ]
    },
    {
     "data": {
      "text/html": [
       "<div>\n",
       "<style scoped>\n",
       "    .dataframe tbody tr th:only-of-type {\n",
       "        vertical-align: middle;\n",
       "    }\n",
       "\n",
       "    .dataframe tbody tr th {\n",
       "        vertical-align: top;\n",
       "    }\n",
       "\n",
       "    .dataframe thead th {\n",
       "        text-align: right;\n",
       "    }\n",
       "</style>\n",
       "<table border=\"1\" class=\"dataframe\">\n",
       "  <thead>\n",
       "    <tr style=\"text-align: right;\">\n",
       "      <th></th>\n",
       "      <th>SP500</th>\n",
       "    </tr>\n",
       "    <tr>\n",
       "      <th>Date</th>\n",
       "      <th></th>\n",
       "    </tr>\n",
       "  </thead>\n",
       "  <tbody>\n",
       "    <tr>\n",
       "      <th>2023-09-01</th>\n",
       "      <td>4515.770020</td>\n",
       "    </tr>\n",
       "    <tr>\n",
       "      <th>2023-09-05</th>\n",
       "      <td>4496.830078</td>\n",
       "    </tr>\n",
       "    <tr>\n",
       "      <th>2023-09-06</th>\n",
       "      <td>4465.479980</td>\n",
       "    </tr>\n",
       "    <tr>\n",
       "      <th>2023-09-07</th>\n",
       "      <td>4451.140137</td>\n",
       "    </tr>\n",
       "    <tr>\n",
       "      <th>2023-09-08</th>\n",
       "      <td>4457.490234</td>\n",
       "    </tr>\n",
       "  </tbody>\n",
       "</table>\n",
       "</div>"
      ],
      "text/plain": [
       "                  SP500\n",
       "Date                   \n",
       "2023-09-01  4515.770020\n",
       "2023-09-05  4496.830078\n",
       "2023-09-06  4465.479980\n",
       "2023-09-07  4451.140137\n",
       "2023-09-08  4457.490234"
      ]
     },
     "execution_count": 211,
     "metadata": {},
     "output_type": "execute_result"
    }
   ],
   "source": [
    "start = datetime.date.today() - datetime.timedelta(365 * 20)\n",
    "end = datetime.date.today()\n",
    "\n",
    "prices = pd.DataFrame(web.DataReader(\"^GSPC\", start = start, end = end)[\"Adj Close\"])\n",
    "prices = prices.rename(columns={\"Adj Close\":\"SP500\"})\n",
    "prices.tail()"
   ]
  },
  {
   "cell_type": "code",
   "execution_count": 212,
   "metadata": {},
   "outputs": [
    {
     "data": {
      "text/html": [
       "<div>\n",
       "<style scoped>\n",
       "    .dataframe tbody tr th:only-of-type {\n",
       "        vertical-align: middle;\n",
       "    }\n",
       "\n",
       "    .dataframe tbody tr th {\n",
       "        vertical-align: top;\n",
       "    }\n",
       "\n",
       "    .dataframe thead th {\n",
       "        text-align: right;\n",
       "    }\n",
       "</style>\n",
       "<table border=\"1\" class=\"dataframe\">\n",
       "  <thead>\n",
       "    <tr style=\"text-align: right;\">\n",
       "      <th></th>\n",
       "      <th>SP500</th>\n",
       "    </tr>\n",
       "    <tr>\n",
       "      <th>Date</th>\n",
       "      <th></th>\n",
       "    </tr>\n",
       "  </thead>\n",
       "  <tbody>\n",
       "    <tr>\n",
       "      <th>2003-09-16</th>\n",
       "      <td>0.014197</td>\n",
       "    </tr>\n",
       "    <tr>\n",
       "      <th>2003-09-17</th>\n",
       "      <td>-0.003260</td>\n",
       "    </tr>\n",
       "    <tr>\n",
       "      <th>2003-09-18</th>\n",
       "      <td>0.013178</td>\n",
       "    </tr>\n",
       "    <tr>\n",
       "      <th>2003-09-19</th>\n",
       "      <td>-0.003160</td>\n",
       "    </tr>\n",
       "    <tr>\n",
       "      <th>2003-09-22</th>\n",
       "      <td>-0.013093</td>\n",
       "    </tr>\n",
       "  </tbody>\n",
       "</table>\n",
       "</div>"
      ],
      "text/plain": [
       "               SP500\n",
       "Date                \n",
       "2003-09-16  0.014197\n",
       "2003-09-17 -0.003260\n",
       "2003-09-18  0.013178\n",
       "2003-09-19 -0.003160\n",
       "2003-09-22 -0.013093"
      ]
     },
     "execution_count": 212,
     "metadata": {},
     "output_type": "execute_result"
    }
   ],
   "source": [
    "df = pd.DataFrame(np.log(prices[\"SP500\"]) - np.log(prices[\"SP500\"].shift(1)))\n",
    "df = df.iloc[1:, :]\n",
    "df.head()"
   ]
  },
  {
   "cell_type": "code",
   "execution_count": 213,
   "metadata": {},
   "outputs": [
    {
     "data": {
      "text/plain": [
       "0.4761431411530815"
      ]
     },
     "execution_count": 213,
     "metadata": {},
     "output_type": "execute_result"
    }
   ],
   "source": [
    "# Are the returns symmetric?\n",
    "len(df[df[\"SP500\"] < df[\"SP500\"].mean()][\"SP500\"]) / len(df[\"SP500\"])\n",
    "\n",
    "# This means ~%53.6 of the returns are below the mean, roughly symmetric.\n",
    "# There is a slight skew to the negative."
   ]
  },
  {
   "cell_type": "code",
   "execution_count": 214,
   "metadata": {},
   "outputs": [
    {
     "data": {
      "text/html": [
       "<div>\n",
       "<style scoped>\n",
       "    .dataframe tbody tr th:only-of-type {\n",
       "        vertical-align: middle;\n",
       "    }\n",
       "\n",
       "    .dataframe tbody tr th {\n",
       "        vertical-align: top;\n",
       "    }\n",
       "\n",
       "    .dataframe thead th {\n",
       "        text-align: right;\n",
       "    }\n",
       "</style>\n",
       "<table border=\"1\" class=\"dataframe\">\n",
       "  <thead>\n",
       "    <tr style=\"text-align: right;\">\n",
       "      <th></th>\n",
       "      <th>SP500</th>\n",
       "      <th>Vol stdev</th>\n",
       "    </tr>\n",
       "    <tr>\n",
       "      <th>Date</th>\n",
       "      <th></th>\n",
       "      <th></th>\n",
       "    </tr>\n",
       "  </thead>\n",
       "  <tbody>\n",
       "    <tr>\n",
       "      <th>2023-09-01</th>\n",
       "      <td>0.001798</td>\n",
       "      <td>0.006757</td>\n",
       "    </tr>\n",
       "    <tr>\n",
       "      <th>2023-09-05</th>\n",
       "      <td>-0.004203</td>\n",
       "      <td>0.006687</td>\n",
       "    </tr>\n",
       "    <tr>\n",
       "      <th>2023-09-06</th>\n",
       "      <td>-0.006996</td>\n",
       "      <td>0.006736</td>\n",
       "    </tr>\n",
       "    <tr>\n",
       "      <th>2023-09-07</th>\n",
       "      <td>-0.003216</td>\n",
       "      <td>0.006574</td>\n",
       "    </tr>\n",
       "    <tr>\n",
       "      <th>2023-09-08</th>\n",
       "      <td>0.001426</td>\n",
       "      <td>0.006575</td>\n",
       "    </tr>\n",
       "  </tbody>\n",
       "</table>\n",
       "</div>"
      ],
      "text/plain": [
       "               SP500  Vol stdev\n",
       "Date                           \n",
       "2023-09-01  0.001798   0.006757\n",
       "2023-09-05 -0.004203   0.006687\n",
       "2023-09-06 -0.006996   0.006736\n",
       "2023-09-07 -0.003216   0.006574\n",
       "2023-09-08  0.001426   0.006575"
      ]
     },
     "execution_count": 214,
     "metadata": {},
     "output_type": "execute_result"
    }
   ],
   "source": [
    "# Is volatility constant?\n",
    "df[\"Vol stdev\"] = df[\"SP500\"].rolling(50).std()\n",
    "df.tail()"
   ]
  },
  {
   "cell_type": "code",
   "execution_count": 215,
   "metadata": {},
   "outputs": [
    {
     "data": {
      "text/plain": [
       "<AxesSubplot:xlabel='Date'>"
      ]
     },
     "execution_count": 215,
     "metadata": {},
     "output_type": "execute_result"
    },
    {
     "data": {
      "image/png": "[encoded data removed]",
      "text/plain": [
       "<Figure size 432x288 with 1 Axes>"
      ]
     },
     "metadata": {
      "needs_background": "light"
     },
     "output_type": "display_data"
    }
   ],
   "source": [
    "df[\"Vol stdev\"].plot()\n",
    "# Volatility is NOT constant."
   ]
  },
  {
   "cell_type": "code",
   "execution_count": 216,
   "metadata": {},
   "outputs": [
    {
     "data": {
      "text/plain": [
       "(array([  1.,   0.,   0.,   0.,   0.,   0.,   0.,   0.,   0.,   0.,   0.,\n",
       "          1.,   0.,   1.,   2.,   0.,   0.,   0.,   0.,   0.,   2.,   0.,\n",
       "          0.,   0.,   2.,   0.,   0.,   2.,   2.,   0.,   2.,   2.,   3.,\n",
       "          4.,   5.,   5.,   4.,   5.,   9.,  13.,  14.,  26.,  14.,  36.,\n",
       "         35.,  46.,  66.,  97., 120., 164., 253., 306., 475., 725., 716.,\n",
       "        531., 393., 270., 204., 146., 109.,  54.,  33.,  33.,  25.,  11.,\n",
       "         13.,   7.,   6.,   4.,   5.,   7.,   2.,   2.,   3.,   0.,   2.,\n",
       "          0.,   1.,   3.,   1.,   0.,   3.,   0.,   0.,   0.,   0.,   0.,\n",
       "          0.,   0.,   0.,   2.,   0.,   0.,   0.,   0.,   0.,   1.,   0.,\n",
       "          1.]),\n",
       " array([-0.1276522 , -0.12527996, -0.12290771, -0.12053547, -0.11816323,\n",
       "        -0.11579099, -0.11341875, -0.11104651, -0.10867426, -0.10630202,\n",
       "        -0.10392978, -0.10155754, -0.0991853 , -0.09681306, -0.09444081,\n",
       "        -0.09206857, -0.08969633, -0.08732409, -0.08495185, -0.08257961,\n",
       "        -0.08020736, -0.07783512, -0.07546288, -0.07309064, -0.0707184 ,\n",
       "        -0.06834616, -0.06597391, -0.06360167, -0.06122943, -0.05885719,\n",
       "        -0.05648495, -0.05411271, -0.05174046, -0.04936822, -0.04699598,\n",
       "        -0.04462374, -0.0422515 , -0.03987926, -0.03750701, -0.03513477,\n",
       "        -0.03276253, -0.03039029, -0.02801805, -0.02564581, -0.02327356,\n",
       "        -0.02090132, -0.01852908, -0.01615684, -0.0137846 , -0.01141236,\n",
       "        -0.00904011, -0.00666787, -0.00429563, -0.00192339,  0.00044885,\n",
       "         0.00282109,  0.00519333,  0.00756558,  0.00993782,  0.01231006,\n",
       "         0.0146823 ,  0.01705454,  0.01942678,  0.02179903,  0.02417127,\n",
       "         0.02654351,  0.02891575,  0.03128799,  0.03366023,  0.03603248,\n",
       "         0.03840472,  0.04077696,  0.0431492 ,  0.04552144,  0.04789368,\n",
       "         0.05026593,  0.05263817,  0.05501041,  0.05738265,  0.05975489,\n",
       "         0.06212713,  0.06449938,  0.06687162,  0.06924386,  0.0716161 ,\n",
       "         0.07398834,  0.07636058,  0.07873283,  0.08110507,  0.08347731,\n",
       "         0.08584955,  0.08822179,  0.09059403,  0.09296628,  0.09533852,\n",
       "         0.09771076,  0.100083  ,  0.10245524,  0.10482748,  0.10719973,\n",
       "         0.10957197]),\n",
       " <BarContainer object of 100 artists>)"
      ]
     },
     "execution_count": 216,
     "metadata": {},
     "output_type": "execute_result"
    },
    {
     "data": {
      "image/png": "[encoded data removed]",
      "text/plain": [
       "<Figure size 432x288 with 1 Axes>"
      ]
     },
     "metadata": {
      "needs_background": "light"
     },
     "output_type": "display_data"
    }
   ],
   "source": [
    "# Are the returns normally distributed? Histogram method\n",
    "fig, ax = plt.subplots()\n",
    "ax.hist(df[\"SP500\"], bins = 100)\n",
    "\n",
    "# Looks normal."
   ]
  },
  {
   "cell_type": "code",
   "execution_count": 217,
   "metadata": {},
   "outputs": [
    {
     "name": "stdout",
     "output_type": "stream",
     "text": [
      "[-3.50424185 -3.10572254 -3.07264487 ...  3.24131093  3.42533909\n",
      "  3.42877694]\n"
     ]
    }
   ],
   "source": [
    "# Are the returns normally distributed? Let's check it out with a normal plot.\n",
    "sample = np.array(df[\"SP500\"])\n",
    "sample.sort()  # sort our sample of returns\n",
    "standard_normal_draw = np.random.normal(size=len(sample))\n",
    "standard_normal_draw.sort()  # sort our draw\n",
    "print(standard_normal_draw)"
   ]
  },
  {
   "cell_type": "code",
   "execution_count": 218,
   "metadata": {},
   "outputs": [
    {
     "data": {
      "text/plain": [
       "<matplotlib.collections.PathCollection at 0x7f911093d1b0>"
      ]
     },
     "execution_count": 218,
     "metadata": {},
     "output_type": "execute_result"
    },
    {
     "data": {
      "image/png": "[encoded data removed]",
      "text/plain": [
       "<Figure size 432x288 with 1 Axes>"
      ]
     },
     "metadata": {
      "needs_background": "light"
     },
     "output_type": "display_data"
    }
   ],
   "source": [
    "# Plot the normal plot\n",
    "fig, ax = plt.subplots()\n",
    "ax.scatter(standard_normal_draw, sample)\n",
    "# Does not look normal. (We expect a line in normal distributions.)"
   ]
  },
  {
   "cell_type": "code",
   "execution_count": 221,
   "metadata": {},
   "outputs": [
    {
     "data": {
      "text/plain": [
       "array([ 0.14771609,  1.16828697,  0.33556735, ...,  0.67286373,\n",
       "        0.70084191, -0.31366766])"
      ]
     },
     "execution_count": 221,
     "metadata": {},
     "output_type": "execute_result"
    }
   ],
   "source": [
    "# Student's t distribution:\n",
    "np.random.seed(555)\n",
    "stats.t.rvs(df=5030, size=5000)"
   ]
  },
  {
   "cell_type": "code",
   "execution_count": 222,
   "metadata": {},
   "outputs": [
    {
     "data": {
      "text/plain": [
       "(array([0.00410787, 0.00273858, 0.00410787, 0.0075311 , 0.00890039,\n",
       "        0.01437756, 0.01848543, 0.02670118, 0.03217835, 0.04381733,\n",
       "        0.06641064, 0.08626536, 0.1033815 , 0.13008269, 0.1677382 ,\n",
       "        0.19923191, 0.2245638 , 0.25194963, 0.29713625, 0.32452207,\n",
       "        0.35601578, 0.39161736, 0.41557996, 0.38066302, 0.36491617,\n",
       "        0.39777917, 0.38203232, 0.33205318, 0.32109885, 0.25948073,\n",
       "        0.25263427, 0.22524844, 0.18348505, 0.13145198, 0.12186694,\n",
       "        0.09174253, 0.06777993, 0.0403941 , 0.04244804, 0.0239626 ,\n",
       "        0.01506221, 0.01369291, 0.00890039, 0.00273858, 0.00479252,\n",
       "        0.00342323, 0.        , 0.        , 0.00068465, 0.00068465]),\n",
       " array([-3.45444853, -3.30838759, -3.16232665, -3.01626571, -2.87020476,\n",
       "        -2.72414382, -2.57808288, -2.43202194, -2.28596099, -2.13990005,\n",
       "        -1.99383911, -1.84777817, -1.70171722, -1.55565628, -1.40959534,\n",
       "        -1.2635344 , -1.11747345, -0.97141251, -0.82535157, -0.67929063,\n",
       "        -0.53322968, -0.38716874, -0.2411078 , -0.09504686,  0.05101408,\n",
       "         0.19707503,  0.34313597,  0.48919691,  0.63525785,  0.7813188 ,\n",
       "         0.92737974,  1.07344068,  1.21950162,  1.36556257,  1.51162351,\n",
       "         1.65768445,  1.80374539,  1.94980634,  2.09586728,  2.24192822,\n",
       "         2.38798916,  2.53405011,  2.68011105,  2.82617199,  2.97223293,\n",
       "         3.11829387,  3.26435482,  3.41041576,  3.5564767 ,  3.70253764,\n",
       "         3.84859859]),\n",
       " <BarContainer object of 50 artists>)"
      ]
     },
     "execution_count": 222,
     "metadata": {},
     "output_type": "execute_result"
    },
    {
     "data": {
      "image/png": "[encoded data removed]",
      "text/plain": [
       "<Figure size 432x288 with 1 Axes>"
      ]
     },
     "metadata": {
      "needs_background": "light"
     },
     "output_type": "display_data"
    }
   ],
   "source": [
    "# generate t distribution with sample size 10000\n",
    "x = stats.t.rvs(df=5030, size=10000)\n",
    "\n",
    "# create plot of t distribution\n",
    "plt.hist(x, density=True, edgecolor=\"black\", bins=50)"
   ]
  },
  {
   "cell_type": "code",
   "execution_count": null,
   "metadata": {},
   "outputs": [],
   "source": []
  }
 ],
 "metadata": {
  "kernelspec": {
   "display_name": "Python 3",
   "language": "python",
   "name": "python3"
  },
  "language_info": {
   "codemirror_mode": {
    "name": "ipython",
    "version": 3
   },
   "file_extension": ".py",
   "mimetype": "text/x-python",
   "name": "python",
   "nbconvert_exporter": "python",
   "pygments_lexer": "ipython3",
   "version": "3.10.5"
  },
  "orig_nbformat": 4
 },
 "nbformat": 4,
 "nbformat_minor": 2
}
