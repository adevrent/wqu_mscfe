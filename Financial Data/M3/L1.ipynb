{
 "cells": [
  {
   "cell_type": "code",
   "execution_count": 476,
   "metadata": {},
   "outputs": [],
   "source": [
    "import datetime\n",
    "import math\n",
    "\n",
    "import numpy as np\n",
    "import pandas as pd\n",
    "import pandas_datareader.data as web\n",
    "import yfinance as yfin\n",
    "\n",
    "yfin.pdr_override()"
   ]
  },
  {
   "cell_type": "code",
   "execution_count": 477,
   "metadata": {},
   "outputs": [
    {
     "name": "stdout",
     "output_type": "stream",
     "text": [
      "[*********************100%%**********************]  1 of 1 completed\n"
     ]
    },
    {
     "data": {
      "text/html": [
       "<div>\n",
       "<style scoped>\n",
       "    .dataframe tbody tr th:only-of-type {\n",
       "        vertical-align: middle;\n",
       "    }\n",
       "\n",
       "    .dataframe tbody tr th {\n",
       "        vertical-align: top;\n",
       "    }\n",
       "\n",
       "    .dataframe thead th {\n",
       "        text-align: right;\n",
       "    }\n",
       "</style>\n",
       "<table border=\"1\" class=\"dataframe\">\n",
       "  <thead>\n",
       "    <tr style=\"text-align: right;\">\n",
       "      <th></th>\n",
       "      <th>Adj Close</th>\n",
       "    </tr>\n",
       "    <tr>\n",
       "      <th>Date</th>\n",
       "      <th></th>\n",
       "    </tr>\n",
       "  </thead>\n",
       "  <tbody>\n",
       "    <tr>\n",
       "      <th>2013-09-17</th>\n",
       "      <td>120.870552</td>\n",
       "    </tr>\n",
       "    <tr>\n",
       "      <th>2013-09-18</th>\n",
       "      <td>122.897446</td>\n",
       "    </tr>\n",
       "    <tr>\n",
       "      <th>2013-09-19</th>\n",
       "      <td>121.851250</td>\n",
       "    </tr>\n",
       "    <tr>\n",
       "      <th>2013-09-20</th>\n",
       "      <td>119.609543</td>\n",
       "    </tr>\n",
       "    <tr>\n",
       "      <th>2013-09-23</th>\n",
       "      <td>120.954597</td>\n",
       "    </tr>\n",
       "    <tr>\n",
       "      <th>...</th>\n",
       "      <td>...</td>\n",
       "    </tr>\n",
       "    <tr>\n",
       "      <th>2023-09-08</th>\n",
       "      <td>111.720001</td>\n",
       "    </tr>\n",
       "    <tr>\n",
       "      <th>2023-09-11</th>\n",
       "      <td>114.260002</td>\n",
       "    </tr>\n",
       "    <tr>\n",
       "      <th>2023-09-12</th>\n",
       "      <td>115.000000</td>\n",
       "    </tr>\n",
       "    <tr>\n",
       "      <th>2023-09-13</th>\n",
       "      <td>113.599998</td>\n",
       "    </tr>\n",
       "    <tr>\n",
       "      <th>2023-09-14</th>\n",
       "      <td>115.650002</td>\n",
       "    </tr>\n",
       "  </tbody>\n",
       "</table>\n",
       "<p>2516 rows × 1 columns</p>\n",
       "</div>"
      ],
      "text/plain": [
       "             Adj Close\n",
       "Date                  \n",
       "2013-09-17  120.870552\n",
       "2013-09-18  122.897446\n",
       "2013-09-19  121.851250\n",
       "2013-09-20  119.609543\n",
       "2013-09-23  120.954597\n",
       "...                ...\n",
       "2023-09-08  111.720001\n",
       "2023-09-11  114.260002\n",
       "2023-09-12  115.000000\n",
       "2023-09-13  113.599998\n",
       "2023-09-14  115.650002\n",
       "\n",
       "[2516 rows x 1 columns]"
      ]
     },
     "execution_count": 477,
     "metadata": {},
     "output_type": "execute_result"
    }
   ],
   "source": [
    "end = datetime.date.today()\n",
    "start = datetime.date.today() - datetime.timedelta(365 * 10)\n",
    "\n",
    "prices = web.DataReader([\"GE\"], start, end)[\"Adj Close\"]\n",
    "prices = pd.DataFrame(prices)\n",
    "prices"
   ]
  },
  {
   "cell_type": "code",
   "execution_count": 478,
   "metadata": {},
   "outputs": [
    {
     "data": {
      "text/plain": [
       "120.87055206298828"
      ]
     },
     "execution_count": 478,
     "metadata": {},
     "output_type": "execute_result"
    }
   ],
   "source": [
    "initialPrice = prices[\"Adj Close\"][\"2013-09-17\"]  # we can index with datetime.\n",
    "initialPrice"
   ]
  },
  {
   "cell_type": "code",
   "execution_count": 479,
   "metadata": {},
   "outputs": [
    {
     "data": {
      "text/plain": [
       "115.6500015258789"
      ]
     },
     "execution_count": 479,
     "metadata": {},
     "output_type": "execute_result"
    }
   ],
   "source": [
    "finalPrice = prices[\"Adj Close\"][-1]  # or we can index normally with int. both will work.\n",
    "finalPrice"
   ]
  },
  {
   "cell_type": "markdown",
   "metadata": {},
   "source": [
    "We will assume we bought 100 shares 10 years ago. To determine the cash return, we use the following formula:\n",
    "\n",
    "$r_{_f} = 100\\ (p_{_f} - p_{_i})$"
   ]
  },
  {
   "cell_type": "code",
   "execution_count": 480,
   "metadata": {},
   "outputs": [
    {
     "name": "stdout",
     "output_type": "stream",
     "text": [
      "With an initial investment of $12087.06,     \n",
      "the cash return of this investmen would be:     \n",
      "$-522.055\n"
     ]
    }
   ],
   "source": [
    "print(\n",
    "    f\"With an initial investment of ${(100 * initialPrice):.2f}, \\\n",
    "    \\nthe cash return of this investmen would be: \\\n",
    "    \\n${((finalPrice - initialPrice) * 100):.3f}\"\n",
    "    )"
   ]
  },
  {
   "cell_type": "markdown",
   "metadata": {},
   "source": [
    "## Return on a Basket of Assets (Portfolio Return) ##"
   ]
  },
  {
   "cell_type": "code",
   "execution_count": 481,
   "metadata": {},
   "outputs": [
    {
     "name": "stdout",
     "output_type": "stream",
     "text": [
      "[*********************100%%**********************]  2 of 2 completed\n",
      "type of prices: <class 'pandas.core.frame.DataFrame'>\n",
      "                    CMG        META\n",
      "Date                               \n",
      "2013-09-17   425.410004   45.070000\n",
      "2013-09-18   426.230011   45.230000\n",
      "2013-09-19   421.700012   45.980000\n",
      "2013-09-20   415.079987   47.490002\n",
      "2013-09-23   415.239990   47.189999\n",
      "...                 ...         ...\n",
      "2023-09-08  1945.099976  297.890015\n",
      "2023-09-11  1948.849976  307.559998\n",
      "2023-09-12  1933.010010  301.660004\n",
      "2023-09-13  1933.040039  305.059998\n",
      "2023-09-14  1936.119995  311.720001\n",
      "\n",
      "[2516 rows x 2 columns]\n"
     ]
    }
   ],
   "source": [
    "# Construct a portfolio consisting of stocks $META and $CMG\n",
    "\n",
    "end = datetime.date.today()\n",
    "start = datetime.date.today() - datetime.timedelta(365 * 10)\n",
    "\n",
    "prices = web.DataReader([\"META\", \"CMG\"], start, end)[\"Adj Close\"]\n",
    "print(\"type of prices:\", type(prices))\n",
    "print(prices)"
   ]
  },
  {
   "cell_type": "code",
   "execution_count": 482,
   "metadata": {},
   "outputs": [
    {
     "name": "stdout",
     "output_type": "stream",
     "text": [
      "We have an initial investment in META of $4507.00 and in CMG $42541.00\n",
      "This would make the weight of META 0.096 and the weight of CMG 0.904\n"
     ]
    }
   ],
   "source": [
    "# Again we think about buying 100 shares each 10 years ago.\n",
    "\n",
    "initialMETA = prices.META[0]\n",
    "initialCMG = prices.CMG[0]\n",
    "\n",
    "finalMETA = prices.META[-1]\n",
    "finalCMG = prices.CMG[-1]\n",
    "\n",
    "weightMETA = initialMETA / (initialMETA + initialCMG)\n",
    "weightCMG = initialCMG / (initialMETA + initialCMG)\n",
    "\n",
    "print(f\"We have an initial investment in META of ${(initialMETA * 100):.2f} and in CMG ${(initialCMG * 100):.2f}\")\n",
    "print(f\"This would make the weight of META {weightMETA:.3f} and the weight of CMG {weightCMG:.3f}\")"
   ]
  },
  {
   "cell_type": "code",
   "execution_count": 483,
   "metadata": {},
   "outputs": [
    {
     "name": "stdout",
     "output_type": "stream",
     "text": [
      "Final portfolio return of the portfolio is $1391.53\n"
     ]
    }
   ],
   "source": [
    "# Calculate final return of portfolio\n",
    "RMETA = finalMETA - initialMETA\n",
    "RCMG = finalCMG - initialCMG\n",
    "\n",
    "RPortfolio = weightMETA * RMETA + weightCMG * RCMG\n",
    "\n",
    "print(f\"Final portfolio return of the portfolio is ${RPortfolio:.2f}\")"
   ]
  },
  {
   "cell_type": "code",
   "execution_count": 484,
   "metadata": {},
   "outputs": [
    {
     "name": "stdout",
     "output_type": "stream",
     "text": [
      "Final rate of return of portfolio is 2.7778 or 277.78%\n"
     ]
    }
   ],
   "source": [
    "# Calculate final rate of return of portfolio\n",
    "rMETA = RMETA / initialMETA - 1\n",
    "rCMG = RCMG / initialCMG - 1\n",
    "\n",
    "rPortfolio = weightMETA * rMETA + weightCMG * rCMG\n",
    "\n",
    "print(f\"Final rate of return of portfolio is {rPortfolio:.4f} or {(100*rPortfolio):.2f}%\")"
   ]
  },
  {
   "cell_type": "markdown",
   "metadata": {},
   "source": [
    "## Calculating Portfolio Variance ##"
   ]
  },
  {
   "cell_type": "code",
   "execution_count": 485,
   "metadata": {},
   "outputs": [
    {
     "data": {
      "text/html": [
       "<div>\n",
       "<style scoped>\n",
       "    .dataframe tbody tr th:only-of-type {\n",
       "        vertical-align: middle;\n",
       "    }\n",
       "\n",
       "    .dataframe tbody tr th {\n",
       "        vertical-align: top;\n",
       "    }\n",
       "\n",
       "    .dataframe thead th {\n",
       "        text-align: right;\n",
       "    }\n",
       "</style>\n",
       "<table border=\"1\" class=\"dataframe\">\n",
       "  <thead>\n",
       "    <tr style=\"text-align: right;\">\n",
       "      <th></th>\n",
       "      <th>CMG</th>\n",
       "      <th>META</th>\n",
       "    </tr>\n",
       "    <tr>\n",
       "      <th>Date</th>\n",
       "      <th></th>\n",
       "      <th></th>\n",
       "    </tr>\n",
       "  </thead>\n",
       "  <tbody>\n",
       "    <tr>\n",
       "      <th>2013-09-18</th>\n",
       "      <td>0.001928</td>\n",
       "      <td>0.003550</td>\n",
       "    </tr>\n",
       "    <tr>\n",
       "      <th>2013-09-19</th>\n",
       "      <td>-0.010628</td>\n",
       "      <td>0.016582</td>\n",
       "    </tr>\n",
       "    <tr>\n",
       "      <th>2013-09-20</th>\n",
       "      <td>-0.015698</td>\n",
       "      <td>0.032840</td>\n",
       "    </tr>\n",
       "    <tr>\n",
       "      <th>2013-09-23</th>\n",
       "      <td>0.000385</td>\n",
       "      <td>-0.006317</td>\n",
       "    </tr>\n",
       "    <tr>\n",
       "      <th>2013-09-24</th>\n",
       "      <td>0.008477</td>\n",
       "      <td>0.026701</td>\n",
       "    </tr>\n",
       "    <tr>\n",
       "      <th>...</th>\n",
       "      <td>...</td>\n",
       "      <td>...</td>\n",
       "    </tr>\n",
       "    <tr>\n",
       "      <th>2023-09-08</th>\n",
       "      <td>-0.011053</td>\n",
       "      <td>-0.002612</td>\n",
       "    </tr>\n",
       "    <tr>\n",
       "      <th>2023-09-11</th>\n",
       "      <td>0.001928</td>\n",
       "      <td>0.032462</td>\n",
       "    </tr>\n",
       "    <tr>\n",
       "      <th>2023-09-12</th>\n",
       "      <td>-0.008128</td>\n",
       "      <td>-0.019183</td>\n",
       "    </tr>\n",
       "    <tr>\n",
       "      <th>2023-09-13</th>\n",
       "      <td>0.000016</td>\n",
       "      <td>0.011271</td>\n",
       "    </tr>\n",
       "    <tr>\n",
       "      <th>2023-09-14</th>\n",
       "      <td>0.001593</td>\n",
       "      <td>0.021832</td>\n",
       "    </tr>\n",
       "  </tbody>\n",
       "</table>\n",
       "<p>2515 rows × 2 columns</p>\n",
       "</div>"
      ],
      "text/plain": [
       "                 CMG      META\n",
       "Date                          \n",
       "2013-09-18  0.001928  0.003550\n",
       "2013-09-19 -0.010628  0.016582\n",
       "2013-09-20 -0.015698  0.032840\n",
       "2013-09-23  0.000385 -0.006317\n",
       "2013-09-24  0.008477  0.026701\n",
       "...              ...       ...\n",
       "2023-09-08 -0.011053 -0.002612\n",
       "2023-09-11  0.001928  0.032462\n",
       "2023-09-12 -0.008128 -0.019183\n",
       "2023-09-13  0.000016  0.011271\n",
       "2023-09-14  0.001593  0.021832\n",
       "\n",
       "[2515 rows x 2 columns]"
      ]
     },
     "execution_count": 485,
     "metadata": {},
     "output_type": "execute_result"
    }
   ],
   "source": [
    "returns = prices.pct_change()\n",
    "returns = returns.dropna()\n",
    "returns"
   ]
  },
  {
   "cell_type": "code",
   "execution_count": 486,
   "metadata": {},
   "outputs": [
    {
     "name": "stdout",
     "output_type": "stream",
     "text": [
      "type: <class 'numpy.ndarray'>\n",
      "[0.12241678 0.14224369]\n"
     ]
    }
   ],
   "source": [
    "returns_variance = np.array(returns.var(ddof=1)) * 252\n",
    "print(\"type:\",type(returns_variance))\n",
    "print(returns_variance)"
   ]
  },
  {
   "cell_type": "code",
   "execution_count": 487,
   "metadata": {},
   "outputs": [
    {
     "name": "stdout",
     "output_type": "stream",
     "text": [
      "[0.09579578 0.90420422]\n",
      "[0.00917683 0.81758527]\n",
      "           CMG      META\n",
      "CMG   0.122417  0.048005\n",
      "META  0.048005  0.142244\n",
      "0.048005150579210086\n"
     ]
    }
   ],
   "source": [
    "weights = np.array([weightMETA, weightCMG])\n",
    "weights_squared = weights**2\n",
    "\n",
    "covariance = 252 * returns.cov()  # annual covariance\n",
    "covariance_float = covariance[\"CMG\"][\"META\"]\n",
    "print(weights)\n",
    "print(weights_squared)\n",
    "print(covariance)\n",
    "print(covariance_float)"
   ]
  },
  {
   "cell_type": "code",
   "execution_count": 488,
   "metadata": {},
   "outputs": [
    {
     "name": "stdout",
     "output_type": "stream",
     "text": [
      "Portfolio variance = 0.1257 or 12.57%\n"
     ]
    }
   ],
   "source": [
    "variance = np.dot(weights_squared, returns_variance) + 2 * weightMETA * weightCMG * covariance_float\n",
    "print(f\"Portfolio variance = {variance:.4f} or {(100*variance):.2f}%\")"
   ]
  },
  {
   "cell_type": "markdown",
   "metadata": {},
   "source": [
    "**Second way to calculate portfolio variance is using covariance matrix and the weights vector**\n",
    "\n",
    "$M = \\begin{bmatrix} 0.122417, 0.048005 \\\\ 0.048005, 0.142244 \\end{bmatrix}$ \\\n",
    "\\\n",
    "weights vector: $\\underline{x} = \\begin{bmatrix} 0.09579578 \\\\ 0.90420422 \\end{bmatrix}$ \\\n",
    "\\\n",
    "weights vector transposed: $\\underline{x}^T = \\begin{bmatrix} 0.09579578 , 0.90420422 \\end{bmatrix}$"
   ]
  },
  {
   "cell_type": "markdown",
   "metadata": {},
   "source": [
    "Portfolio variance: $\\sigma^2_P = \\underline{x}^T \\cdot M \\cdot \\underline{x}$"
   ]
  },
  {
   "cell_type": "code",
   "execution_count": 489,
   "metadata": {},
   "outputs": [
    {
     "name": "stdout",
     "output_type": "stream",
     "text": [
      "Portfolio standard deviation is 0.3546 or 35.46%\n"
     ]
    }
   ],
   "source": [
    "stdev = np.sqrt(variance)\n",
    "\n",
    "print(f\"Portfolio standard deviation is {stdev:.4f} or {(100 * stdev):.2f}%\")"
   ]
  },
  {
   "cell_type": "markdown",
   "metadata": {},
   "source": [
    "## Sharpe Ratio of Portfolio ##"
   ]
  },
  {
   "cell_type": "code",
   "execution_count": 490,
   "metadata": {},
   "outputs": [
    {
     "name": "stdout",
     "output_type": "stream",
     "text": [
      "[*********************100%%**********************]  2 of 2 completed\n"
     ]
    },
    {
     "data": {
      "text/html": [
       "<div>\n",
       "<style scoped>\n",
       "    .dataframe tbody tr th:only-of-type {\n",
       "        vertical-align: middle;\n",
       "    }\n",
       "\n",
       "    .dataframe tbody tr th {\n",
       "        vertical-align: top;\n",
       "    }\n",
       "\n",
       "    .dataframe thead th {\n",
       "        text-align: right;\n",
       "    }\n",
       "</style>\n",
       "<table border=\"1\" class=\"dataframe\">\n",
       "  <thead>\n",
       "    <tr style=\"text-align: right;\">\n",
       "      <th></th>\n",
       "      <th>BTC-USD</th>\n",
       "      <th>ETH-USD</th>\n",
       "    </tr>\n",
       "    <tr>\n",
       "      <th>Date</th>\n",
       "      <th></th>\n",
       "      <th></th>\n",
       "    </tr>\n",
       "  </thead>\n",
       "  <tbody>\n",
       "    <tr>\n",
       "      <th>2018-09-16</th>\n",
       "      <td>6517.180176</td>\n",
       "      <td>220.589005</td>\n",
       "    </tr>\n",
       "    <tr>\n",
       "      <th>2018-09-17</th>\n",
       "      <td>6281.200195</td>\n",
       "      <td>197.875000</td>\n",
       "    </tr>\n",
       "    <tr>\n",
       "      <th>2018-09-18</th>\n",
       "      <td>6371.299805</td>\n",
       "      <td>209.975006</td>\n",
       "    </tr>\n",
       "    <tr>\n",
       "      <th>2018-09-19</th>\n",
       "      <td>6398.540039</td>\n",
       "      <td>209.968994</td>\n",
       "    </tr>\n",
       "    <tr>\n",
       "      <th>2018-09-20</th>\n",
       "      <td>6519.669922</td>\n",
       "      <td>224.591003</td>\n",
       "    </tr>\n",
       "    <tr>\n",
       "      <th>...</th>\n",
       "      <td>...</td>\n",
       "      <td>...</td>\n",
       "    </tr>\n",
       "    <tr>\n",
       "      <th>2023-09-10</th>\n",
       "      <td>25832.226562</td>\n",
       "      <td>1616.828857</td>\n",
       "    </tr>\n",
       "    <tr>\n",
       "      <th>2023-09-11</th>\n",
       "      <td>25162.654297</td>\n",
       "      <td>1551.637695</td>\n",
       "    </tr>\n",
       "    <tr>\n",
       "      <th>2023-09-12</th>\n",
       "      <td>25833.343750</td>\n",
       "      <td>1592.429443</td>\n",
       "    </tr>\n",
       "    <tr>\n",
       "      <th>2023-09-13</th>\n",
       "      <td>26228.324219</td>\n",
       "      <td>1607.988525</td>\n",
       "    </tr>\n",
       "    <tr>\n",
       "      <th>2023-09-14</th>\n",
       "      <td>26539.673828</td>\n",
       "      <td>1626.974365</td>\n",
       "    </tr>\n",
       "  </tbody>\n",
       "</table>\n",
       "<p>1825 rows × 2 columns</p>\n",
       "</div>"
      ],
      "text/plain": [
       "                 BTC-USD      ETH-USD\n",
       "Date                                 \n",
       "2018-09-16   6517.180176   220.589005\n",
       "2018-09-17   6281.200195   197.875000\n",
       "2018-09-18   6371.299805   209.975006\n",
       "2018-09-19   6398.540039   209.968994\n",
       "2018-09-20   6519.669922   224.591003\n",
       "...                  ...          ...\n",
       "2023-09-10  25832.226562  1616.828857\n",
       "2023-09-11  25162.654297  1551.637695\n",
       "2023-09-12  25833.343750  1592.429443\n",
       "2023-09-13  26228.324219  1607.988525\n",
       "2023-09-14  26539.673828  1626.974365\n",
       "\n",
       "[1825 rows x 2 columns]"
      ]
     },
     "execution_count": 490,
     "metadata": {},
     "output_type": "execute_result"
    }
   ],
   "source": [
    "# Let's say we bought 5 Bitcoin and 100 Ethereum five years ago.\n",
    "start = datetime.date.today() - datetime.timedelta(5 * 365)\n",
    "end = datetime.date.today()\n",
    "\n",
    "prices = web.DataReader([\"BTC-USD\", \"ETH-USD\"], start, end)[\"Adj Close\"]\n",
    "prices"
   ]
  },
  {
   "cell_type": "code",
   "execution_count": 491,
   "metadata": {},
   "outputs": [
    {
     "data": {
      "text/html": [
       "<div>\n",
       "<style scoped>\n",
       "    .dataframe tbody tr th:only-of-type {\n",
       "        vertical-align: middle;\n",
       "    }\n",
       "\n",
       "    .dataframe tbody tr th {\n",
       "        vertical-align: top;\n",
       "    }\n",
       "\n",
       "    .dataframe thead th {\n",
       "        text-align: right;\n",
       "    }\n",
       "</style>\n",
       "<table border=\"1\" class=\"dataframe\">\n",
       "  <thead>\n",
       "    <tr style=\"text-align: right;\">\n",
       "      <th></th>\n",
       "      <th>BTC-USD</th>\n",
       "      <th>ETH-USD</th>\n",
       "    </tr>\n",
       "    <tr>\n",
       "      <th>Date</th>\n",
       "      <th></th>\n",
       "      <th></th>\n",
       "    </tr>\n",
       "  </thead>\n",
       "  <tbody>\n",
       "    <tr>\n",
       "      <th>2018-09-17</th>\n",
       "      <td>-0.036209</td>\n",
       "      <td>-0.102970</td>\n",
       "    </tr>\n",
       "    <tr>\n",
       "      <th>2018-09-18</th>\n",
       "      <td>0.014344</td>\n",
       "      <td>0.061150</td>\n",
       "    </tr>\n",
       "    <tr>\n",
       "      <th>2018-09-19</th>\n",
       "      <td>0.004275</td>\n",
       "      <td>-0.000029</td>\n",
       "    </tr>\n",
       "    <tr>\n",
       "      <th>2018-09-20</th>\n",
       "      <td>0.018931</td>\n",
       "      <td>0.069639</td>\n",
       "    </tr>\n",
       "    <tr>\n",
       "      <th>2018-09-21</th>\n",
       "      <td>0.033020</td>\n",
       "      <td>0.097925</td>\n",
       "    </tr>\n",
       "    <tr>\n",
       "      <th>...</th>\n",
       "      <td>...</td>\n",
       "      <td>...</td>\n",
       "    </tr>\n",
       "    <tr>\n",
       "      <th>2023-09-10</th>\n",
       "      <td>-0.002450</td>\n",
       "      <td>-0.011212</td>\n",
       "    </tr>\n",
       "    <tr>\n",
       "      <th>2023-09-11</th>\n",
       "      <td>-0.025920</td>\n",
       "      <td>-0.040320</td>\n",
       "    </tr>\n",
       "    <tr>\n",
       "      <th>2023-09-12</th>\n",
       "      <td>0.026654</td>\n",
       "      <td>0.026289</td>\n",
       "    </tr>\n",
       "    <tr>\n",
       "      <th>2023-09-13</th>\n",
       "      <td>0.015290</td>\n",
       "      <td>0.009771</td>\n",
       "    </tr>\n",
       "    <tr>\n",
       "      <th>2023-09-14</th>\n",
       "      <td>0.011871</td>\n",
       "      <td>0.011807</td>\n",
       "    </tr>\n",
       "  </tbody>\n",
       "</table>\n",
       "<p>1824 rows × 2 columns</p>\n",
       "</div>"
      ],
      "text/plain": [
       "             BTC-USD   ETH-USD\n",
       "Date                          \n",
       "2018-09-17 -0.036209 -0.102970\n",
       "2018-09-18  0.014344  0.061150\n",
       "2018-09-19  0.004275 -0.000029\n",
       "2018-09-20  0.018931  0.069639\n",
       "2018-09-21  0.033020  0.097925\n",
       "...              ...       ...\n",
       "2023-09-10 -0.002450 -0.011212\n",
       "2023-09-11 -0.025920 -0.040320\n",
       "2023-09-12  0.026654  0.026289\n",
       "2023-09-13  0.015290  0.009771\n",
       "2023-09-14  0.011871  0.011807\n",
       "\n",
       "[1824 rows x 2 columns]"
      ]
     },
     "execution_count": 491,
     "metadata": {},
     "output_type": "execute_result"
    }
   ],
   "source": [
    "r_prices = prices.pct_change()\n",
    "r_prices = r_prices.dropna()\n",
    "r_prices"
   ]
  },
  {
   "cell_type": "code",
   "execution_count": 492,
   "metadata": {},
   "outputs": [
    {
     "name": "stdout",
     "output_type": "stream",
     "text": [
      "Weights of Bitcoin and Ethereum: (0.60, 0.40) respectively.\n"
     ]
    }
   ],
   "source": [
    "initialBTC, finalBTC = (5*prices[\"BTC-USD\"][0], 5*prices[\"BTC-USD\"][-1])\n",
    "initialETH, finalETH = (100*prices[\"ETH-USD\"][0], 100*prices[\"ETH-USD\"][-1])\n",
    "\n",
    "BTCweight = initialBTC / (initialBTC + initialETH)\n",
    "ETHweight = initialETH / (initialBTC + initialETH)\n",
    "\n",
    "print(f\"Weights of Bitcoin and Ethereum: ({BTCweight:.2f}, {ETHweight:.2f}) respectively.\")"
   ]
  },
  {
   "cell_type": "code",
   "execution_count": 493,
   "metadata": {},
   "outputs": [
    {
     "name": "stdout",
     "output_type": "stream",
     "text": [
      "Rate of return of BTC: 3.0723 or 307.23%     \n",
      "Rate of return of ETH: 6.3756 or 637.56%\n"
     ]
    }
   ],
   "source": [
    "# Rates of return of the assets\n",
    "rBTC = (finalBTC - initialBTC) / initialBTC\n",
    "rETH = (finalETH - initialETH) / initialETH\n",
    "\n",
    "print(f\"Rate of return of BTC: {rBTC:.4f} or {(100*rBTC):.2f}% \\\n",
    "    \\nRate of return of ETH: {rETH:.4f} or {(100*rETH):.2f}%\")"
   ]
  },
  {
   "cell_type": "code",
   "execution_count": 494,
   "metadata": {},
   "outputs": [
    {
     "name": "stdout",
     "output_type": "stream",
     "text": [
      "Rate of return of Portfolio: 4.4057 or 440.57%\n"
     ]
    }
   ],
   "source": [
    "# Rate of return of the portfolio\n",
    "rPortfolio = BTCweight * rBTC + ETHweight * rETH\n",
    "\n",
    "print(f\"Rate of return of Portfolio: {rPortfolio:.4f} or {(100*rPortfolio):.2f}%\")"
   ]
  },
  {
   "cell_type": "code",
   "execution_count": 495,
   "metadata": {},
   "outputs": [
    {
     "name": "stdout",
     "output_type": "stream",
     "text": [
      "Annual variance of returns of BTC: 0.4652 or 46.52%     \n",
      "Annual variance of returns of ETH: 0.7792 or 77.92%\n",
      "          BTC-USD   ETH-USD\n",
      "BTC-USD  0.465235  0.496638\n",
      "ETH-USD  0.496638  0.779235\n",
      "Variance of portfolio = 0.5315 or 53.15%\n"
     ]
    }
   ],
   "source": [
    "# Calculating annual variance of the assets\n",
    "varBTC = 365 * r_prices[\"BTC-USD\"].var(ddof=1)\n",
    "varETH = 365 * r_prices[\"ETH-USD\"].var(ddof=1)\n",
    "\n",
    "print(f\"Annual variance of returns of BTC: {varBTC:.4f} or {(100*varBTC):.2f}% \\\n",
    "    \\nAnnual variance of returns of ETH: {varETH:.4f} or {(100*varETH):.2f}%\")\n",
    "\n",
    "# Calculating annual variance of the portfolio\n",
    "covariance_matrix = 365 * r_prices.cov()\n",
    "print(covariance_matrix)\n",
    "\n",
    "weights = np.array((BTCweight, ETHweight))\n",
    "\n",
    "varPortfolio = np.dot(weights.T, np.dot(weights, covariance_matrix))\n",
    "print(f\"Variance of portfolio = {varPortfolio:.4f} or {100*(varPortfolio):.2f}%\")"
   ]
  },
  {
   "cell_type": "code",
   "execution_count": 497,
   "metadata": {},
   "outputs": [
    {
     "name": "stdout",
     "output_type": "stream",
     "text": [
      "Sharpe ratio of BTC = 0.90     \n",
      "Sharpe ratio of ETH = 1.44     \n",
      "Sharpe ratio of Portfolio = 1.21\n"
     ]
    }
   ],
   "source": [
    "# Standard deviations\n",
    "sigmaBTC = np.sqrt(varBTC)\n",
    "sigmaETH = np.sqrt(varETH)\n",
    "sigmaPortfolio = np.sqrt(varPortfolio)\n",
    "\n",
    "# Average annual returns\n",
    "avgannual_BTC = rBTC / 5\n",
    "avgannual_ETH = rETH / 5\n",
    "avgannual_Portfolio = rPortfolio / 5\n",
    "\n",
    "# Sharpe ratios\n",
    "sharpe_BTC = avgannual_BTC / sigmaBTC\n",
    "sharpe_ETH = avgannual_ETH / sigmaETH\n",
    "sharpe_Portfolio = avgannual_Portfolio / sigmaPortfolio\n",
    "\n",
    "print(f\"Sharpe ratio of BTC = {sharpe_BTC:.2f} \\\n",
    "    \\nSharpe ratio of ETH = {sharpe_ETH:.2f} \\\n",
    "    \\nSharpe ratio of Portfolio = {sharpe_Portfolio:.2f}\")\n"
   ]
  }
 ],
 "metadata": {
  "kernelspec": {
   "display_name": "Python 3",
   "language": "python",
   "name": "python3"
  },
  "language_info": {
   "codemirror_mode": {
    "name": "ipython",
    "version": 3
   },
   "file_extension": ".py",
   "mimetype": "text/x-python",
   "name": "python",
   "nbconvert_exporter": "python",
   "pygments_lexer": "ipython3",
   "version": "3.10.5"
  },
  "orig_nbformat": 4
 },
 "nbformat": 4,
 "nbformat_minor": 2
}
