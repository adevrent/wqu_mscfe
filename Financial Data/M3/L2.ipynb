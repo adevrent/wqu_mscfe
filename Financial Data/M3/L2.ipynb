{
 "cells": [
  {
   "cell_type": "code",
   "execution_count": 371,
   "metadata": {},
   "outputs": [],
   "source": [
    "import datetime\n",
    "import numpy as np\n",
    "import pandas as pd\n",
    "import pandas_datareader.data as web\n",
    "import matplotlib.pyplot as plt\n",
    "import yfinance as yfin\n",
    "\n",
    "yfin.pdr_override()"
   ]
  },
  {
   "cell_type": "code",
   "execution_count": 372,
   "metadata": {},
   "outputs": [],
   "source": [
    "def Covariance(x_array, y_array, mux = None, muy = None):\n",
    "    \"\"\"Calculates the sample covariance between two random variables.\n",
    "\n",
    "    Args:\n",
    "        x_array (ndarray of floats): 1d array of floats\n",
    "        y_array (ndarray of floats): 1d array of floats\n",
    "        mux (float, optional): True mean value of X. Defaults to None.\n",
    "        muy (_type_, optional): True mean value of Y. Defaults to None.\n",
    "    \n",
    "    Returns:\n",
    "        cov (float): sample covariance between the two random variables.\n",
    "    \"\"\"\n",
    "    assert len(x_array) == len(y_array), \"Arrays must be of the same legth.\"\n",
    "    \n",
    "    n = len(x_array)\n",
    "    \n",
    "    if mux == None:\n",
    "        mux = x_array.mean()\n",
    "    if muy == None:\n",
    "        muy = y_array.mean()\n",
    "        \n",
    "    dx = x_array - mux\n",
    "    dy = y_array - muy\n",
    "    \n",
    "    cov = (1/n) * np.dot(dx, dy)\n",
    "    \n",
    "    return cov"
   ]
  },
  {
   "cell_type": "code",
   "execution_count": 373,
   "metadata": {},
   "outputs": [
    {
     "name": "stdout",
     "output_type": "stream",
     "text": [
      "Sample covariance between X and Y is 0.8501683501683502\n"
     ]
    },
    {
     "data": {
      "text/plain": [
       "Text(0, 0.5, '$y$')"
      ]
     },
     "execution_count": 373,
     "metadata": {},
     "output_type": "execute_result"
    },
    {
     "data": {
      "image/png": "[encoded data removed]",
      "text/plain": [
       "<Figure size 720x432 with 1 Axes>"
      ]
     },
     "metadata": {
      "needs_background": "light"
     },
     "output_type": "display_data"
    }
   ],
   "source": [
    "n = 100\n",
    "x_array = np.linspace(0, 1, n)\n",
    "y_array = np.linspace(0, 10, n)\n",
    "\n",
    "covariance_xy = Covariance(x_array, y_array)\n",
    "print(\"Sample covariance between X and Y is\", covariance_xy)\n",
    "\n",
    "fig, ax = plt.subplots(figsize=(10, 6))\n",
    "ax.scatter(x_array, y_array, marker=\".\", c=\"red\")\n",
    "ax.set_title(\"Scatterplot of $X$ and $Y$\")\n",
    "ax.set_xlabel(\"$x$\")\n",
    "ax.set_ylabel(\"$y$\")\n",
    "# ax.set_aspect(\"equal\")"
   ]
  },
  {
   "cell_type": "code",
   "execution_count": 374,
   "metadata": {},
   "outputs": [
    {
     "name": "stdout",
     "output_type": "stream",
     "text": [
      "X and Y has a sample Pearson correlation coefficient of 0.99\n"
     ]
    }
   ],
   "source": [
    "# Compute sample standard deviations\n",
    "x_stdev = x_array.std(ddof=1)\n",
    "y_stdev = y_array.std(ddof=1)\n",
    "\n",
    "# Calculate Pearson correlation coefficient\n",
    "pearson_r = covariance_xy / (x_stdev * y_stdev)\n",
    "\n",
    "print(f\"X and Y has a sample Pearson correlation coefficient of {pearson_r:.2f}\")"
   ]
  },
  {
   "cell_type": "markdown",
   "metadata": {},
   "source": [
    "Pearson Correlation only measures the **linear** relationship between two variables !! To look for non-linear relationships, we must look at *Spearman's Rank Correlation*"
   ]
  },
  {
   "cell_type": "markdown",
   "metadata": {},
   "source": [
    "## Spearman's Rank Correlation ##"
   ]
  },
  {
   "cell_type": "code",
   "execution_count": 375,
   "metadata": {},
   "outputs": [
    {
     "data": {
      "text/plain": [
       "0.9900000000000001"
      ]
     },
     "execution_count": 375,
     "metadata": {},
     "output_type": "execute_result"
    }
   ],
   "source": [
    "def PearsonCorr(x_array, y_array, mux=None, muy=None):\n",
    "    \"\"\"Calculates the sample correlation coefficient between two random variables.\n",
    "\n",
    "    Args:\n",
    "        x_array (ndarray of floats): 1d array of floats\n",
    "        y_array (ndarray of floats): 1d array of floats\n",
    "        mux (float, optional): True mean value of X. Defaults to None.\n",
    "        muy (_type_, optional): True mean value of Y. Defaults to None.\n",
    "    \n",
    "    Returns:\n",
    "        pearson_r (float): sample correlation coefficient between the two random variables.\n",
    "    \"\"\"\n",
    "    assert len(x_array) == len(y_array), \"Arrays must be of the same legth.\"\n",
    "    \n",
    "    n = len(x_array)\n",
    "    \n",
    "    if mux == None:\n",
    "        mux = x_array.mean()\n",
    "    if muy == None:\n",
    "        muy = y_array.mean()\n",
    "        \n",
    "    x_stdev = x_array.std(ddof=1)\n",
    "    y_stdev = y_array.std(ddof=1)\n",
    "        \n",
    "    dx = x_array - mux\n",
    "    dy = y_array - muy\n",
    "    \n",
    "    covariance_xy = (1/n) * np.dot(dx, dy)\n",
    "    \n",
    "    pearson_r = covariance_xy / (x_stdev * y_stdev)\n",
    "    \n",
    "    return pearson_r\n",
    "\n",
    "PearsonCorr(x_array, y_array)"
   ]
  },
  {
   "cell_type": "code",
   "execution_count": 376,
   "metadata": {},
   "outputs": [
    {
     "name": "stdout",
     "output_type": "stream",
     "text": [
      "Pearson correlation coefficient = 0.907\n",
      "Spearman correlation coefficient = 0.990\n"
     ]
    },
    {
     "data": {
      "text/plain": [
       "<matplotlib.legend.Legend at 0x7f9f09ee72e0>"
      ]
     },
     "execution_count": 376,
     "metadata": {},
     "output_type": "execute_result"
    },
    {
     "data": {
      "image/png": "[encoded data removed]",
      "text/plain": [
       "<Figure size 720x432 with 1 Axes>"
      ]
     },
     "metadata": {
      "needs_background": "light"
     },
     "output_type": "display_data"
    }
   ],
   "source": [
    "x_array = np.linspace(-10, 10, 100)\n",
    "y_array = x_array ** 3\n",
    "\n",
    "def SpearmanCorr(x_array, y_array):\n",
    "    x_ranks = pd.Series(x_array).rank()\n",
    "    y_ranks = pd.Series(y_array).rank()\n",
    "    \n",
    "    return PearsonCorr(x_ranks, y_ranks)\n",
    "\n",
    "pecorr = PearsonCorr(x_array, y_array)\n",
    "spcorr = SpearmanCorr(x_array, y_array)\n",
    "\n",
    "print(f\"Pearson correlation coefficient = {pecorr:.3f}\")\n",
    "print(f\"Spearman correlation coefficient = {spcorr:.3f}\")\n",
    "\n",
    "fig, ax = plt.subplots(figsize=(10, 6))\n",
    "ax.scatter(x_array, y_array, label=\"$y = x^3$\")\n",
    "ax.set_xlabel(\"$x$\")\n",
    "ax.set_ylabel(\"$y$\")\n",
    "ax.legend()\n",
    "\n",
    "# Notice Spearman's correlation coefficient is more insightful in non-linear relationships."
   ]
  },
  {
   "cell_type": "code",
   "execution_count": 377,
   "metadata": {},
   "outputs": [
    {
     "name": "stdout",
     "output_type": "stream",
     "text": [
      "[*********************100%***********************]  2 of 2 completed\n",
      "                     BTC         JPM\n",
      "Date                                \n",
      "2018-09-17   6281.200195   97.856461\n",
      "2018-09-18   6371.299805   98.251884\n",
      "2018-09-19   6398.540039  101.105743\n",
      "2018-09-20   6519.669922  101.973930\n",
      "2018-09-21   6734.950195  101.303459\n",
      "...                  ...         ...\n",
      "2023-09-08  25905.654297  143.830002\n",
      "2023-09-11  25162.654297  144.460007\n",
      "2023-09-12  25833.343750  146.339996\n",
      "2023-09-13  26228.324219  146.410004\n",
      "2023-09-14  26539.673828  149.250000\n",
      "\n",
      "[1257 rows x 2 columns]\n",
      "                 BTC       JPM\n",
      "Date                          \n",
      "2018-09-17       NaN       NaN\n",
      "2018-09-18  0.014344  0.004041\n",
      "2018-09-19  0.004275  0.029046\n",
      "2018-09-20  0.018931  0.008587\n",
      "2018-09-21  0.033020 -0.006575\n",
      "...              ...       ...\n",
      "2023-09-08 -0.012749  0.000765\n",
      "2023-09-11 -0.028681  0.004380\n",
      "2023-09-12  0.026654  0.013014\n",
      "2023-09-13  0.015290  0.000478\n",
      "2023-09-14  0.011871  0.019398\n",
      "\n",
      "[1257 rows x 2 columns]\n"
     ]
    }
   ],
   "source": [
    "# Let's construct a portfolio consisting of JPM stock and BTC cryptocurrency and look at the portfolio's performance for the last 5 years\n",
    "\n",
    "start = datetime.date.today()-datetime.timedelta(365*5)\n",
    "end = datetime.date.today()\n",
    "\n",
    "prices = web.DataReader([\"JPM\", \"BTC-USD\"], start, end)[\"Adj Close\"]\n",
    "prices = prices.rename(columns={\"BTC-USD\": \"BTC\"})\n",
    "prices = prices.dropna()\n",
    "\n",
    "returns = prices.pct_change()\n",
    "#returns = returns.dropna()\n",
    "\n",
    "print(prices)\n",
    "print(returns)"
   ]
  },
  {
   "cell_type": "code",
   "execution_count": 378,
   "metadata": {},
   "outputs": [
    {
     "name": "stdout",
     "output_type": "stream",
     "text": [
      "Initial investment in JPM: $9785.646057128906\n",
      "Initial investment in BTC: $31406.0009765625\n",
      "weights array (JPM, BTC): [0.23756385 0.76243615]\n"
     ]
    }
   ],
   "source": [
    "# Determine initial investment: We decide to buy 100 stocks of JPM and 5 Bitcoin at the beginning.\n",
    "initialJPM = prices[\"JPM\"][0] * 100\n",
    "initialBTC = prices[\"BTC\"][0] * 5\n",
    "initialInvestment = initialJPM + initialBTC\n",
    "\n",
    "# Determine weights\n",
    "weightJPM = initialJPM / initialInvestment\n",
    "weightBTC = initialBTC / initialInvestment\n",
    "weights_array = np.array((weightJPM, weightBTC))\n",
    "\n",
    "print(f\"Initial investment in JPM: ${initialJPM}\")\n",
    "print(f\"Initial investment in BTC: ${initialBTC}\")\n",
    "print(f\"weights array (JPM, BTC): {weights_array}\")"
   ]
  },
  {
   "cell_type": "code",
   "execution_count": 379,
   "metadata": {},
   "outputs": [
    {
     "data": {
      "text/html": [
       "<div>\n",
       "<style scoped>\n",
       "    .dataframe tbody tr th:only-of-type {\n",
       "        vertical-align: middle;\n",
       "    }\n",
       "\n",
       "    .dataframe tbody tr th {\n",
       "        vertical-align: top;\n",
       "    }\n",
       "\n",
       "    .dataframe thead th {\n",
       "        text-align: right;\n",
       "    }\n",
       "</style>\n",
       "<table border=\"1\" class=\"dataframe\">\n",
       "  <thead>\n",
       "    <tr style=\"text-align: right;\">\n",
       "      <th></th>\n",
       "      <th>BTC</th>\n",
       "      <th>JPM</th>\n",
       "      <th>Portfolio</th>\n",
       "    </tr>\n",
       "    <tr>\n",
       "      <th>Date</th>\n",
       "      <th></th>\n",
       "      <th></th>\n",
       "      <th></th>\n",
       "    </tr>\n",
       "  </thead>\n",
       "  <tbody>\n",
       "    <tr>\n",
       "      <th>2018-09-17</th>\n",
       "      <td>NaN</td>\n",
       "      <td>NaN</td>\n",
       "      <td>NaN</td>\n",
       "    </tr>\n",
       "    <tr>\n",
       "      <th>2018-09-18</th>\n",
       "      <td>0.014344</td>\n",
       "      <td>0.004041</td>\n",
       "      <td>0.011897</td>\n",
       "    </tr>\n",
       "    <tr>\n",
       "      <th>2018-09-19</th>\n",
       "      <td>0.004275</td>\n",
       "      <td>0.029046</td>\n",
       "      <td>0.010160</td>\n",
       "    </tr>\n",
       "    <tr>\n",
       "      <th>2018-09-20</th>\n",
       "      <td>0.018931</td>\n",
       "      <td>0.008587</td>\n",
       "      <td>0.016474</td>\n",
       "    </tr>\n",
       "    <tr>\n",
       "      <th>2018-09-21</th>\n",
       "      <td>0.033020</td>\n",
       "      <td>-0.006575</td>\n",
       "      <td>0.023614</td>\n",
       "    </tr>\n",
       "    <tr>\n",
       "      <th>...</th>\n",
       "      <td>...</td>\n",
       "      <td>...</td>\n",
       "      <td>...</td>\n",
       "    </tr>\n",
       "    <tr>\n",
       "      <th>2023-09-08</th>\n",
       "      <td>-0.012749</td>\n",
       "      <td>0.000765</td>\n",
       "      <td>-0.009539</td>\n",
       "    </tr>\n",
       "    <tr>\n",
       "      <th>2023-09-11</th>\n",
       "      <td>-0.028681</td>\n",
       "      <td>0.004380</td>\n",
       "      <td>-0.020827</td>\n",
       "    </tr>\n",
       "    <tr>\n",
       "      <th>2023-09-12</th>\n",
       "      <td>0.026654</td>\n",
       "      <td>0.013014</td>\n",
       "      <td>0.023414</td>\n",
       "    </tr>\n",
       "    <tr>\n",
       "      <th>2023-09-13</th>\n",
       "      <td>0.015290</td>\n",
       "      <td>0.000478</td>\n",
       "      <td>0.011771</td>\n",
       "    </tr>\n",
       "    <tr>\n",
       "      <th>2023-09-14</th>\n",
       "      <td>0.011871</td>\n",
       "      <td>0.019398</td>\n",
       "      <td>0.013659</td>\n",
       "    </tr>\n",
       "  </tbody>\n",
       "</table>\n",
       "<p>1257 rows × 3 columns</p>\n",
       "</div>"
      ],
      "text/plain": [
       "                 BTC       JPM  Portfolio\n",
       "Date                                     \n",
       "2018-09-17       NaN       NaN        NaN\n",
       "2018-09-18  0.014344  0.004041   0.011897\n",
       "2018-09-19  0.004275  0.029046   0.010160\n",
       "2018-09-20  0.018931  0.008587   0.016474\n",
       "2018-09-21  0.033020 -0.006575   0.023614\n",
       "...              ...       ...        ...\n",
       "2023-09-08 -0.012749  0.000765  -0.009539\n",
       "2023-09-11 -0.028681  0.004380  -0.020827\n",
       "2023-09-12  0.026654  0.013014   0.023414\n",
       "2023-09-13  0.015290  0.000478   0.011771\n",
       "2023-09-14  0.011871  0.019398   0.013659\n",
       "\n",
       "[1257 rows x 3 columns]"
      ]
     },
     "execution_count": 379,
     "metadata": {},
     "output_type": "execute_result"
    }
   ],
   "source": [
    "# Calculate portfolio return\n",
    "returns[\"Portfolio\"] = (weights_array[0] * returns[\"JPM\"]) + (weights_array[1] * returns[\"BTC\"])\n",
    "returns"
   ]
  },
  {
   "cell_type": "code",
   "execution_count": 380,
   "metadata": {},
   "outputs": [
    {
     "data": {
      "text/html": [
       "<div>\n",
       "<style scoped>\n",
       "    .dataframe tbody tr th:only-of-type {\n",
       "        vertical-align: middle;\n",
       "    }\n",
       "\n",
       "    .dataframe tbody tr th {\n",
       "        vertical-align: top;\n",
       "    }\n",
       "\n",
       "    .dataframe thead th {\n",
       "        text-align: right;\n",
       "    }\n",
       "</style>\n",
       "<table border=\"1\" class=\"dataframe\">\n",
       "  <thead>\n",
       "    <tr style=\"text-align: right;\">\n",
       "      <th></th>\n",
       "      <th>BTC</th>\n",
       "      <th>JPM</th>\n",
       "      <th>Portfolio</th>\n",
       "    </tr>\n",
       "    <tr>\n",
       "      <th>Date</th>\n",
       "      <th></th>\n",
       "      <th></th>\n",
       "      <th></th>\n",
       "    </tr>\n",
       "  </thead>\n",
       "  <tbody>\n",
       "    <tr>\n",
       "      <th>2018-09-17</th>\n",
       "      <td>10000.000000</td>\n",
       "      <td>10000.000000</td>\n",
       "      <td>10000.000000</td>\n",
       "    </tr>\n",
       "    <tr>\n",
       "      <th>2018-09-18</th>\n",
       "      <td>1.014344</td>\n",
       "      <td>1.004041</td>\n",
       "      <td>1.011897</td>\n",
       "    </tr>\n",
       "    <tr>\n",
       "      <th>2018-09-19</th>\n",
       "      <td>1.004275</td>\n",
       "      <td>1.029046</td>\n",
       "      <td>1.010160</td>\n",
       "    </tr>\n",
       "    <tr>\n",
       "      <th>2018-09-20</th>\n",
       "      <td>1.018931</td>\n",
       "      <td>1.008587</td>\n",
       "      <td>1.016474</td>\n",
       "    </tr>\n",
       "    <tr>\n",
       "      <th>2018-09-21</th>\n",
       "      <td>1.033020</td>\n",
       "      <td>0.993425</td>\n",
       "      <td>1.023614</td>\n",
       "    </tr>\n",
       "    <tr>\n",
       "      <th>...</th>\n",
       "      <td>...</td>\n",
       "      <td>...</td>\n",
       "      <td>...</td>\n",
       "    </tr>\n",
       "    <tr>\n",
       "      <th>2023-09-08</th>\n",
       "      <td>0.987251</td>\n",
       "      <td>1.000765</td>\n",
       "      <td>0.990461</td>\n",
       "    </tr>\n",
       "    <tr>\n",
       "      <th>2023-09-11</th>\n",
       "      <td>0.971319</td>\n",
       "      <td>1.004380</td>\n",
       "      <td>0.979173</td>\n",
       "    </tr>\n",
       "    <tr>\n",
       "      <th>2023-09-12</th>\n",
       "      <td>1.026654</td>\n",
       "      <td>1.013014</td>\n",
       "      <td>1.023414</td>\n",
       "    </tr>\n",
       "    <tr>\n",
       "      <th>2023-09-13</th>\n",
       "      <td>1.015290</td>\n",
       "      <td>1.000478</td>\n",
       "      <td>1.011771</td>\n",
       "    </tr>\n",
       "    <tr>\n",
       "      <th>2023-09-14</th>\n",
       "      <td>1.011871</td>\n",
       "      <td>1.019398</td>\n",
       "      <td>1.013659</td>\n",
       "    </tr>\n",
       "  </tbody>\n",
       "</table>\n",
       "<p>1257 rows × 3 columns</p>\n",
       "</div>"
      ],
      "text/plain": [
       "                     BTC           JPM     Portfolio\n",
       "Date                                                \n",
       "2018-09-17  10000.000000  10000.000000  10000.000000\n",
       "2018-09-18      1.014344      1.004041      1.011897\n",
       "2018-09-19      1.004275      1.029046      1.010160\n",
       "2018-09-20      1.018931      1.008587      1.016474\n",
       "2018-09-21      1.033020      0.993425      1.023614\n",
       "...                  ...           ...           ...\n",
       "2023-09-08      0.987251      1.000765      0.990461\n",
       "2023-09-11      0.971319      1.004380      0.979173\n",
       "2023-09-12      1.026654      1.013014      1.023414\n",
       "2023-09-13      1.015290      1.000478      1.011771\n",
       "2023-09-14      1.011871      1.019398      1.013659\n",
       "\n",
       "[1257 rows x 3 columns]"
      ]
     },
     "execution_count": 380,
     "metadata": {},
     "output_type": "execute_result"
    }
   ],
   "source": [
    "# Let's say we want to start with an investment of $10000 and track our portfolio position's value using .cumprod()\n",
    "returns_cumulative = returns.copy()\n",
    "returns_cumulative += 1  # we'll use the data entries as a multiplier\n",
    "returns_cumulative.iloc[0] = 10000\n",
    "returns_cumulative"
   ]
  },
  {
   "cell_type": "code",
   "execution_count": 381,
   "metadata": {},
   "outputs": [
    {
     "data": {
      "text/html": [
       "<div>\n",
       "<style scoped>\n",
       "    .dataframe tbody tr th:only-of-type {\n",
       "        vertical-align: middle;\n",
       "    }\n",
       "\n",
       "    .dataframe tbody tr th {\n",
       "        vertical-align: top;\n",
       "    }\n",
       "\n",
       "    .dataframe thead th {\n",
       "        text-align: right;\n",
       "    }\n",
       "</style>\n",
       "<table border=\"1\" class=\"dataframe\">\n",
       "  <thead>\n",
       "    <tr style=\"text-align: right;\">\n",
       "      <th></th>\n",
       "      <th>BTC</th>\n",
       "      <th>JPM</th>\n",
       "      <th>Portfolio</th>\n",
       "    </tr>\n",
       "    <tr>\n",
       "      <th>Date</th>\n",
       "      <th></th>\n",
       "      <th></th>\n",
       "      <th></th>\n",
       "    </tr>\n",
       "  </thead>\n",
       "  <tbody>\n",
       "    <tr>\n",
       "      <th>2018-09-17</th>\n",
       "      <td>10000.000000</td>\n",
       "      <td>10000.000000</td>\n",
       "      <td>10000.000000</td>\n",
       "    </tr>\n",
       "    <tr>\n",
       "      <th>2018-09-18</th>\n",
       "      <td>10143.443302</td>\n",
       "      <td>10040.408562</td>\n",
       "      <td>10118.965973</td>\n",
       "    </tr>\n",
       "    <tr>\n",
       "      <th>2018-09-19</th>\n",
       "      <td>10186.811183</td>\n",
       "      <td>10332.045817</td>\n",
       "      <td>10221.775965</td>\n",
       "    </tr>\n",
       "    <tr>\n",
       "      <th>2018-09-20</th>\n",
       "      <td>10379.656306</td>\n",
       "      <td>10420.766270</td>\n",
       "      <td>10390.164554</td>\n",
       "    </tr>\n",
       "    <tr>\n",
       "      <th>2018-09-21</th>\n",
       "      <td>10722.393788</td>\n",
       "      <td>10352.250488</td>\n",
       "      <td>10635.515481</td>\n",
       "    </tr>\n",
       "    <tr>\n",
       "      <th>...</th>\n",
       "      <td>...</td>\n",
       "      <td>...</td>\n",
       "      <td>...</td>\n",
       "    </tr>\n",
       "    <tr>\n",
       "      <th>2023-09-08</th>\n",
       "      <td>41243.159733</td>\n",
       "      <td>14698.058870</td>\n",
       "      <td>40383.174066</td>\n",
       "    </tr>\n",
       "    <tr>\n",
       "      <th>2023-09-11</th>\n",
       "      <td>40060.264781</td>\n",
       "      <td>14762.439380</td>\n",
       "      <td>39542.119719</td>\n",
       "    </tr>\n",
       "    <tr>\n",
       "      <th>2023-09-12</th>\n",
       "      <td>41128.037551</td>\n",
       "      <td>14954.556448</td>\n",
       "      <td>40467.948278</td>\n",
       "    </tr>\n",
       "    <tr>\n",
       "      <th>2023-09-13</th>\n",
       "      <td>41756.867164</td>\n",
       "      <td>14961.710531</td>\n",
       "      <td>40944.294934</td>\n",
       "    </tr>\n",
       "    <tr>\n",
       "      <th>2023-09-14</th>\n",
       "      <td>42252.552065</td>\n",
       "      <td>15251.931158</td>\n",
       "      <td>41503.546477</td>\n",
       "    </tr>\n",
       "  </tbody>\n",
       "</table>\n",
       "<p>1257 rows × 3 columns</p>\n",
       "</div>"
      ],
      "text/plain": [
       "                     BTC           JPM     Portfolio\n",
       "Date                                                \n",
       "2018-09-17  10000.000000  10000.000000  10000.000000\n",
       "2018-09-18  10143.443302  10040.408562  10118.965973\n",
       "2018-09-19  10186.811183  10332.045817  10221.775965\n",
       "2018-09-20  10379.656306  10420.766270  10390.164554\n",
       "2018-09-21  10722.393788  10352.250488  10635.515481\n",
       "...                  ...           ...           ...\n",
       "2023-09-08  41243.159733  14698.058870  40383.174066\n",
       "2023-09-11  40060.264781  14762.439380  39542.119719\n",
       "2023-09-12  41128.037551  14954.556448  40467.948278\n",
       "2023-09-13  41756.867164  14961.710531  40944.294934\n",
       "2023-09-14  42252.552065  15251.931158  41503.546477\n",
       "\n",
       "[1257 rows x 3 columns]"
      ]
     },
     "execution_count": 381,
     "metadata": {},
     "output_type": "execute_result"
    }
   ],
   "source": [
    "returns_cumulative = returns_cumulative.cumprod()  # data entries are now cumulative returns\n",
    "returns_cumulative"
   ]
  },
  {
   "cell_type": "code",
   "execution_count": 382,
   "metadata": {},
   "outputs": [
    {
     "data": {
      "text/plain": [
       "<matplotlib.legend.Legend at 0x7f9f09dcb7f0>"
      ]
     },
     "execution_count": 382,
     "metadata": {},
     "output_type": "execute_result"
    },
    {
     "data": {
      "image/png": "[encoded data removed]",
      "text/plain": [
       "<Figure size 720x432 with 1 Axes>"
      ]
     },
     "metadata": {
      "needs_background": "light"
     },
     "output_type": "display_data"
    }
   ],
   "source": [
    "fig, ax = plt.subplots(figsize=(10, 6))\n",
    "ax.plot(returns_cumulative[\"BTC\"], c = \"blue\", label=\"BTC\")\n",
    "ax.plot(returns_cumulative[\"JPM\"], c = \"yellow\", label=\"JPM\")\n",
    "ax.plot(returns_cumulative[\"Portfolio\"], c = \"red\", lw=3, label=\"Portfolio\")\n",
    "ax.set_title(\"Cumulative Returns\")\n",
    "ax.set_xlabel(\"Date\")\n",
    "ax.set_ylabel(\"Value in $\")\n",
    "ax.legend()"
   ]
  },
  {
   "cell_type": "code",
   "execution_count": 383,
   "metadata": {},
   "outputs": [
    {
     "data": {
      "text/html": [
       "<div>\n",
       "<style scoped>\n",
       "    .dataframe tbody tr th:only-of-type {\n",
       "        vertical-align: middle;\n",
       "    }\n",
       "\n",
       "    .dataframe tbody tr th {\n",
       "        vertical-align: top;\n",
       "    }\n",
       "\n",
       "    .dataframe thead th {\n",
       "        text-align: right;\n",
       "    }\n",
       "</style>\n",
       "<table border=\"1\" class=\"dataframe\">\n",
       "  <thead>\n",
       "    <tr style=\"text-align: right;\">\n",
       "      <th></th>\n",
       "      <th>BTC</th>\n",
       "      <th>JPM</th>\n",
       "      <th>Portfolio</th>\n",
       "    </tr>\n",
       "    <tr>\n",
       "      <th>Date</th>\n",
       "      <th></th>\n",
       "      <th></th>\n",
       "      <th></th>\n",
       "    </tr>\n",
       "  </thead>\n",
       "  <tbody>\n",
       "    <tr>\n",
       "      <th>2018-09-17</th>\n",
       "      <td>NaN</td>\n",
       "      <td>NaN</td>\n",
       "      <td>NaN</td>\n",
       "    </tr>\n",
       "    <tr>\n",
       "      <th>2018-09-18</th>\n",
       "      <td>0.014344</td>\n",
       "      <td>0.004041</td>\n",
       "      <td>0.011897</td>\n",
       "    </tr>\n",
       "    <tr>\n",
       "      <th>2018-09-19</th>\n",
       "      <td>0.004275</td>\n",
       "      <td>0.029046</td>\n",
       "      <td>0.010160</td>\n",
       "    </tr>\n",
       "    <tr>\n",
       "      <th>2018-09-20</th>\n",
       "      <td>0.018931</td>\n",
       "      <td>0.008587</td>\n",
       "      <td>0.016474</td>\n",
       "    </tr>\n",
       "    <tr>\n",
       "      <th>2018-09-21</th>\n",
       "      <td>0.033020</td>\n",
       "      <td>-0.006575</td>\n",
       "      <td>0.023614</td>\n",
       "    </tr>\n",
       "    <tr>\n",
       "      <th>...</th>\n",
       "      <td>...</td>\n",
       "      <td>...</td>\n",
       "      <td>...</td>\n",
       "    </tr>\n",
       "    <tr>\n",
       "      <th>2023-09-08</th>\n",
       "      <td>-0.012749</td>\n",
       "      <td>0.000765</td>\n",
       "      <td>-0.009539</td>\n",
       "    </tr>\n",
       "    <tr>\n",
       "      <th>2023-09-11</th>\n",
       "      <td>-0.028681</td>\n",
       "      <td>0.004380</td>\n",
       "      <td>-0.020827</td>\n",
       "    </tr>\n",
       "    <tr>\n",
       "      <th>2023-09-12</th>\n",
       "      <td>0.026654</td>\n",
       "      <td>0.013014</td>\n",
       "      <td>0.023414</td>\n",
       "    </tr>\n",
       "    <tr>\n",
       "      <th>2023-09-13</th>\n",
       "      <td>0.015290</td>\n",
       "      <td>0.000478</td>\n",
       "      <td>0.011771</td>\n",
       "    </tr>\n",
       "    <tr>\n",
       "      <th>2023-09-14</th>\n",
       "      <td>0.011871</td>\n",
       "      <td>0.019398</td>\n",
       "      <td>0.013659</td>\n",
       "    </tr>\n",
       "  </tbody>\n",
       "</table>\n",
       "<p>1257 rows × 3 columns</p>\n",
       "</div>"
      ],
      "text/plain": [
       "                 BTC       JPM  Portfolio\n",
       "Date                                     \n",
       "2018-09-17       NaN       NaN        NaN\n",
       "2018-09-18  0.014344  0.004041   0.011897\n",
       "2018-09-19  0.004275  0.029046   0.010160\n",
       "2018-09-20  0.018931  0.008587   0.016474\n",
       "2018-09-21  0.033020 -0.006575   0.023614\n",
       "...              ...       ...        ...\n",
       "2023-09-08 -0.012749  0.000765  -0.009539\n",
       "2023-09-11 -0.028681  0.004380  -0.020827\n",
       "2023-09-12  0.026654  0.013014   0.023414\n",
       "2023-09-13  0.015290  0.000478   0.011771\n",
       "2023-09-14  0.011871  0.019398   0.013659\n",
       "\n",
       "[1257 rows x 3 columns]"
      ]
     },
     "execution_count": 383,
     "metadata": {},
     "output_type": "execute_result"
    }
   ],
   "source": [
    "# Let's get back to our first returns dataframe\n",
    "returns"
   ]
  },
  {
   "cell_type": "code",
   "execution_count": 384,
   "metadata": {},
   "outputs": [
    {
     "data": {
      "text/plain": [
       "BTC          0.043\n",
       "JPM          0.020\n",
       "Portfolio    0.034\n",
       "dtype: float64"
      ]
     },
     "execution_count": 384,
     "metadata": {},
     "output_type": "execute_result"
    }
   ],
   "source": [
    "# Calculate daily stdev of returns\n",
    "returns_stdev = returns.std(ddof=1)\n",
    "returns_stdev.round(3)"
   ]
  },
  {
   "cell_type": "code",
   "execution_count": 385,
   "metadata": {},
   "outputs": [
    {
     "data": {
      "text/plain": [
       "datetime.date"
      ]
     },
     "execution_count": 385,
     "metadata": {},
     "output_type": "execute_result"
    }
   ],
   "source": [
    "type(start)"
   ]
  },
  {
   "cell_type": "code",
   "execution_count": 386,
   "metadata": {},
   "outputs": [],
   "source": [
    "def getReturns(startTime, endTime, tickers):\n",
    "    \"\"\"Scrapes data of tickers from web and then creates a daily rate of return dataframe.\n",
    "\n",
    "    Args:\n",
    "        startTime (datetime.date): start date for the data\n",
    "        endTime (datetime.date): end date for the data\n",
    "        tickers (dict): keys are yfinance tickers to be passed into .DataReader function, values are renamed column names.\n",
    "    \n",
    "    Returns:\n",
    "        r (pandas.dataframe): daily rate of returns data for the tickers. rows are rate of returns for different days, columns are different tickers.\n",
    "    \"\"\"\n",
    "    \n",
    "    prices = web.DataReader(list(tickers.keys()), startTime, endTime)[\"Adj Close\"]\n",
    "    prices = prices.rename(columns=list(tickers.values()))\n",
    "    r = prices.pct_change()\n",
    "    \n",
    "    return r"
   ]
  },
  {
   "cell_type": "code",
   "execution_count": 389,
   "metadata": {},
   "outputs": [
    {
     "data": {
      "text/plain": [
       "['BTC', 'JPM']"
      ]
     },
     "execution_count": 389,
     "metadata": {},
     "output_type": "execute_result"
    }
   ],
   "source": []
  }
 ],
 "metadata": {
  "kernelspec": {
   "display_name": "Python 3",
   "language": "python",
   "name": "python3"
  },
  "language_info": {
   "codemirror_mode": {
    "name": "ipython",
    "version": 3
   },
   "file_extension": ".py",
   "mimetype": "text/x-python",
   "name": "python",
   "nbconvert_exporter": "python",
   "pygments_lexer": "ipython3",
   "version": "3.10.5"
  },
  "orig_nbformat": 4
 },
 "nbformat": 4,
 "nbformat_minor": 2
}
