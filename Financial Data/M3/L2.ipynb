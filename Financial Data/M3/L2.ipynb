{
 "cells": [
  {
   "cell_type": "code",
   "execution_count": 586,
   "metadata": {},
   "outputs": [],
   "source": [
    "import datetime\n",
    "import numpy as np\n",
    "import pandas as pd\n",
    "import pandas_datareader.data as web\n",
    "import matplotlib.pyplot as plt\n",
    "import yfinance as yfin\n",
    "\n",
    "yfin.pdr_override()"
   ]
  },
  {
   "cell_type": "code",
   "execution_count": 587,
   "metadata": {},
   "outputs": [],
   "source": [
    "def Covariance(x_array, y_array, mux = None, muy = None):\n",
    "    \"\"\"Calculates the sample covariance between two random variables.\n",
    "\n",
    "    Args:\n",
    "        x_array (ndarray of floats): 1d array of floats\n",
    "        y_array (ndarray of floats): 1d array of floats\n",
    "        mux (float, optional): True mean value of X. Defaults to None.\n",
    "        muy (_type_, optional): True mean value of Y. Defaults to None.\n",
    "    \n",
    "    Returns:\n",
    "        cov (float): sample covariance between the two random variables.\n",
    "    \"\"\"\n",
    "    assert len(x_array) == len(y_array), \"Arrays must be of the same legth.\"\n",
    "    \n",
    "    n = len(x_array)\n",
    "    \n",
    "    if mux == None:\n",
    "        mux = x_array.mean()\n",
    "    if muy == None:\n",
    "        muy = y_array.mean()\n",
    "        \n",
    "    dx = x_array - mux\n",
    "    dy = y_array - muy\n",
    "    \n",
    "    cov = (1/n) * np.dot(dx, dy)\n",
    "    \n",
    "    return cov"
   ]
  },
  {
   "cell_type": "code",
   "execution_count": 588,
   "metadata": {},
   "outputs": [
    {
     "name": "stdout",
     "output_type": "stream",
     "text": [
      "Sample covariance between X and Y is 0.8501683501683502\n"
     ]
    },
    {
     "data": {
      "text/plain": [
       "Text(0, 0.5, '$y$')"
      ]
     },
     "execution_count": 588,
     "metadata": {},
     "output_type": "execute_result"
    },
    {
     "data": {
      "image/png": "[encoded data removed]",
      "text/plain": [
       "<Figure size 720x432 with 1 Axes>"
      ]
     },
     "metadata": {
      "needs_background": "light"
     },
     "output_type": "display_data"
    }
   ],
   "source": [
    "n = 100\n",
    "x_array = np.linspace(0, 1, n)\n",
    "y_array = np.linspace(0, 10, n)\n",
    "\n",
    "covariance_xy = Covariance(x_array, y_array)\n",
    "print(\"Sample covariance between X and Y is\", covariance_xy)\n",
    "\n",
    "fig, ax = plt.subplots(figsize=(10, 6))\n",
    "ax.scatter(x_array, y_array, marker=\".\", c=\"red\")\n",
    "ax.set_title(\"Scatterplot of $X$ and $Y$\")\n",
    "ax.set_xlabel(\"$x$\")\n",
    "ax.set_ylabel(\"$y$\")\n",
    "# ax.set_aspect(\"equal\")"
   ]
  },
  {
   "cell_type": "code",
   "execution_count": 589,
   "metadata": {},
   "outputs": [
    {
     "name": "stdout",
     "output_type": "stream",
     "text": [
      "X and Y has a sample Pearson correlation coefficient of 0.99\n"
     ]
    }
   ],
   "source": [
    "# Compute sample standard deviations\n",
    "x_stdev = x_array.std(ddof=1)\n",
    "y_stdev = y_array.std(ddof=1)\n",
    "\n",
    "# Calculate Pearson correlation coefficient\n",
    "pearson_r = covariance_xy / (x_stdev * y_stdev)\n",
    "\n",
    "print(f\"X and Y has a sample Pearson correlation coefficient of {pearson_r:.2f}\")"
   ]
  },
  {
   "cell_type": "markdown",
   "metadata": {},
   "source": [
    "Pearson Correlation only measures the **linear** relationship between two variables !! To look for non-linear relationships, we must look at *Spearman's Rank Correlation*"
   ]
  },
  {
   "cell_type": "markdown",
   "metadata": {},
   "source": [
    "## Spearman's Rank Correlation ##"
   ]
  },
  {
   "cell_type": "code",
   "execution_count": 590,
   "metadata": {},
   "outputs": [
    {
     "data": {
      "text/plain": [
       "0.9900000000000001"
      ]
     },
     "execution_count": 590,
     "metadata": {},
     "output_type": "execute_result"
    }
   ],
   "source": [
    "def PearsonCorr(x_array, y_array, mux=None, muy=None):\n",
    "    \"\"\"Calculates the sample correlation coefficient between two random variables.\n",
    "\n",
    "    Args:\n",
    "        x_array (ndarray of floats): 1d array of floats\n",
    "        y_array (ndarray of floats): 1d array of floats\n",
    "        mux (float, optional): True mean value of X. Defaults to None.\n",
    "        muy (_type_, optional): True mean value of Y. Defaults to None.\n",
    "    \n",
    "    Returns:\n",
    "        pearson_r (float): sample correlation coefficient between the two random variables.\n",
    "    \"\"\"\n",
    "    assert len(x_array) == len(y_array), \"Arrays must be of the same legth.\"\n",
    "    \n",
    "    n = len(x_array)\n",
    "    \n",
    "    if mux == None:\n",
    "        mux = x_array.mean()\n",
    "    if muy == None:\n",
    "        muy = y_array.mean()\n",
    "        \n",
    "    x_stdev = x_array.std(ddof=1)\n",
    "    y_stdev = y_array.std(ddof=1)\n",
    "        \n",
    "    dx = x_array - mux\n",
    "    dy = y_array - muy\n",
    "    \n",
    "    covariance_xy = (1/n) * np.dot(dx, dy)\n",
    "    \n",
    "    pearson_r = covariance_xy / (x_stdev * y_stdev)\n",
    "    \n",
    "    return pearson_r\n",
    "\n",
    "PearsonCorr(x_array, y_array)"
   ]
  },
  {
   "cell_type": "code",
   "execution_count": 591,
   "metadata": {},
   "outputs": [
    {
     "name": "stdout",
     "output_type": "stream",
     "text": [
      "Pearson correlation coefficient = 0.907\n",
      "Spearman correlation coefficient = 0.990\n"
     ]
    },
    {
     "data": {
      "text/plain": [
       "<matplotlib.legend.Legend at 0x7f9f06512410>"
      ]
     },
     "execution_count": 591,
     "metadata": {},
     "output_type": "execute_result"
    },
    {
     "data": {
      "image/png": "[encoded data removed]",
      "text/plain": [
       "<Figure size 720x432 with 1 Axes>"
      ]
     },
     "metadata": {
      "needs_background": "light"
     },
     "output_type": "display_data"
    }
   ],
   "source": [
    "x_array = np.linspace(-10, 10, 100)\n",
    "y_array = x_array ** 3\n",
    "\n",
    "def SpearmanCorr(x_array, y_array):\n",
    "    x_ranks = pd.Series(x_array).rank()\n",
    "    y_ranks = pd.Series(y_array).rank()\n",
    "    \n",
    "    return PearsonCorr(x_ranks, y_ranks)\n",
    "\n",
    "pecorr = PearsonCorr(x_array, y_array)\n",
    "spcorr = SpearmanCorr(x_array, y_array)\n",
    "\n",
    "print(f\"Pearson correlation coefficient = {pecorr:.3f}\")\n",
    "print(f\"Spearman correlation coefficient = {spcorr:.3f}\")\n",
    "\n",
    "fig, ax = plt.subplots(figsize=(10, 6))\n",
    "ax.scatter(x_array, y_array, label=\"$y = x^3$\")\n",
    "ax.set_xlabel(\"$x$\")\n",
    "ax.set_ylabel(\"$y$\")\n",
    "ax.legend()\n",
    "\n",
    "# Notice Spearman's correlation coefficient is more insightful in non-linear relationships."
   ]
  },
  {
   "cell_type": "code",
   "execution_count": 592,
   "metadata": {},
   "outputs": [
    {
     "name": "stdout",
     "output_type": "stream",
     "text": [
      "[*********************100%***********************]  2 of 2 completed\n",
      "                     BTC         JPM\n",
      "Date                                \n",
      "2018-09-17   6281.200195   97.856468\n",
      "2018-09-18   6371.299805   98.251877\n",
      "2018-09-19   6398.540039  101.105721\n",
      "2018-09-20   6519.669922  101.973923\n",
      "2018-09-21   6734.950195  101.303452\n",
      "...                  ...         ...\n",
      "2023-09-11  25162.654297  144.460007\n",
      "2023-09-12  25833.343750  146.339996\n",
      "2023-09-13  26228.324219  146.410004\n",
      "2023-09-14  26539.673828  149.250000\n",
      "2023-09-15  26608.693359  148.809998\n",
      "\n",
      "[1258 rows x 2 columns]\n",
      "                 BTC       JPM\n",
      "Date                          \n",
      "2018-09-17       NaN       NaN\n",
      "2018-09-18  0.014344  0.004041\n",
      "2018-09-19  0.004275  0.029046\n",
      "2018-09-20  0.018931  0.008587\n",
      "2018-09-21  0.033020 -0.006575\n",
      "...              ...       ...\n",
      "2023-09-11 -0.028681  0.004380\n",
      "2023-09-12  0.026654  0.013014\n",
      "2023-09-13  0.015290  0.000478\n",
      "2023-09-14  0.011871  0.019398\n",
      "2023-09-15  0.002601 -0.002948\n",
      "\n",
      "[1258 rows x 2 columns]\n"
     ]
    }
   ],
   "source": [
    "# Let's construct a portfolio consisting of JPM stock and BTC cryptocurrency and look at the portfolio's performance for the last 5 years\n",
    "\n",
    "start = datetime.date.today()-datetime.timedelta(365*5)\n",
    "end = datetime.date.today()\n",
    "\n",
    "prices = web.DataReader([\"JPM\", \"BTC-USD\"], start, end)[\"Adj Close\"]\n",
    "prices = prices.rename(columns={\"BTC-USD\": \"BTC\"})\n",
    "prices = prices.dropna()\n",
    "\n",
    "returns = prices.pct_change()\n",
    "#returns = returns.dropna()\n",
    "\n",
    "print(prices)\n",
    "print(returns)"
   ]
  },
  {
   "cell_type": "code",
   "execution_count": 593,
   "metadata": {},
   "outputs": [
    {
     "name": "stdout",
     "output_type": "stream",
     "text": [
      "Initial investment in JPM: $9785.64682006836\n",
      "Initial investment in BTC: $31406.0009765625\n",
      "weights array (JPM, BTC): [0.23756386 0.76243614]\n"
     ]
    }
   ],
   "source": [
    "# Determine initial investment: We decide to buy 100 stocks of JPM and 5 Bitcoin at the beginning.\n",
    "initialJPM = prices[\"JPM\"][0] * 100\n",
    "initialBTC = prices[\"BTC\"][0] * 5\n",
    "initialInvestment = initialJPM + initialBTC\n",
    "\n",
    "# Determine weights\n",
    "weightJPM = initialJPM / initialInvestment\n",
    "weightBTC = initialBTC / initialInvestment\n",
    "weights_array = np.array((weightJPM, weightBTC))\n",
    "\n",
    "print(f\"Initial investment in JPM: ${initialJPM}\")\n",
    "print(f\"Initial investment in BTC: ${initialBTC}\")\n",
    "print(f\"weights array (JPM, BTC): {weights_array}\")"
   ]
  },
  {
   "cell_type": "code",
   "execution_count": 594,
   "metadata": {},
   "outputs": [
    {
     "data": {
      "text/html": [
       "<div>\n",
       "<style scoped>\n",
       "    .dataframe tbody tr th:only-of-type {\n",
       "        vertical-align: middle;\n",
       "    }\n",
       "\n",
       "    .dataframe tbody tr th {\n",
       "        vertical-align: top;\n",
       "    }\n",
       "\n",
       "    .dataframe thead th {\n",
       "        text-align: right;\n",
       "    }\n",
       "</style>\n",
       "<table border=\"1\" class=\"dataframe\">\n",
       "  <thead>\n",
       "    <tr style=\"text-align: right;\">\n",
       "      <th></th>\n",
       "      <th>BTC</th>\n",
       "      <th>JPM</th>\n",
       "      <th>Portfolio</th>\n",
       "    </tr>\n",
       "    <tr>\n",
       "      <th>Date</th>\n",
       "      <th></th>\n",
       "      <th></th>\n",
       "      <th></th>\n",
       "    </tr>\n",
       "  </thead>\n",
       "  <tbody>\n",
       "    <tr>\n",
       "      <th>2018-09-17</th>\n",
       "      <td>NaN</td>\n",
       "      <td>NaN</td>\n",
       "      <td>NaN</td>\n",
       "    </tr>\n",
       "    <tr>\n",
       "      <th>2018-09-18</th>\n",
       "      <td>0.014344</td>\n",
       "      <td>0.004041</td>\n",
       "      <td>0.011897</td>\n",
       "    </tr>\n",
       "    <tr>\n",
       "      <th>2018-09-19</th>\n",
       "      <td>0.004275</td>\n",
       "      <td>0.029046</td>\n",
       "      <td>0.010160</td>\n",
       "    </tr>\n",
       "    <tr>\n",
       "      <th>2018-09-20</th>\n",
       "      <td>0.018931</td>\n",
       "      <td>0.008587</td>\n",
       "      <td>0.016474</td>\n",
       "    </tr>\n",
       "    <tr>\n",
       "      <th>2018-09-21</th>\n",
       "      <td>0.033020</td>\n",
       "      <td>-0.006575</td>\n",
       "      <td>0.023614</td>\n",
       "    </tr>\n",
       "    <tr>\n",
       "      <th>...</th>\n",
       "      <td>...</td>\n",
       "      <td>...</td>\n",
       "      <td>...</td>\n",
       "    </tr>\n",
       "    <tr>\n",
       "      <th>2023-09-11</th>\n",
       "      <td>-0.028681</td>\n",
       "      <td>0.004380</td>\n",
       "      <td>-0.020827</td>\n",
       "    </tr>\n",
       "    <tr>\n",
       "      <th>2023-09-12</th>\n",
       "      <td>0.026654</td>\n",
       "      <td>0.013014</td>\n",
       "      <td>0.023414</td>\n",
       "    </tr>\n",
       "    <tr>\n",
       "      <th>2023-09-13</th>\n",
       "      <td>0.015290</td>\n",
       "      <td>0.000478</td>\n",
       "      <td>0.011771</td>\n",
       "    </tr>\n",
       "    <tr>\n",
       "      <th>2023-09-14</th>\n",
       "      <td>0.011871</td>\n",
       "      <td>0.019398</td>\n",
       "      <td>0.013659</td>\n",
       "    </tr>\n",
       "    <tr>\n",
       "      <th>2023-09-15</th>\n",
       "      <td>0.002601</td>\n",
       "      <td>-0.002948</td>\n",
       "      <td>0.001282</td>\n",
       "    </tr>\n",
       "  </tbody>\n",
       "</table>\n",
       "<p>1258 rows × 3 columns</p>\n",
       "</div>"
      ],
      "text/plain": [
       "                 BTC       JPM  Portfolio\n",
       "Date                                     \n",
       "2018-09-17       NaN       NaN        NaN\n",
       "2018-09-18  0.014344  0.004041   0.011897\n",
       "2018-09-19  0.004275  0.029046   0.010160\n",
       "2018-09-20  0.018931  0.008587   0.016474\n",
       "2018-09-21  0.033020 -0.006575   0.023614\n",
       "...              ...       ...        ...\n",
       "2023-09-11 -0.028681  0.004380  -0.020827\n",
       "2023-09-12  0.026654  0.013014   0.023414\n",
       "2023-09-13  0.015290  0.000478   0.011771\n",
       "2023-09-14  0.011871  0.019398   0.013659\n",
       "2023-09-15  0.002601 -0.002948   0.001282\n",
       "\n",
       "[1258 rows x 3 columns]"
      ]
     },
     "execution_count": 594,
     "metadata": {},
     "output_type": "execute_result"
    }
   ],
   "source": [
    "# Calculate portfolio return\n",
    "returns[\"Portfolio\"] = (weights_array[0] * returns[\"JPM\"]) + (weights_array[1] * returns[\"BTC\"])\n",
    "returns"
   ]
  },
  {
   "cell_type": "code",
   "execution_count": 595,
   "metadata": {},
   "outputs": [
    {
     "data": {
      "text/html": [
       "<div>\n",
       "<style scoped>\n",
       "    .dataframe tbody tr th:only-of-type {\n",
       "        vertical-align: middle;\n",
       "    }\n",
       "\n",
       "    .dataframe tbody tr th {\n",
       "        vertical-align: top;\n",
       "    }\n",
       "\n",
       "    .dataframe thead th {\n",
       "        text-align: right;\n",
       "    }\n",
       "</style>\n",
       "<table border=\"1\" class=\"dataframe\">\n",
       "  <thead>\n",
       "    <tr style=\"text-align: right;\">\n",
       "      <th></th>\n",
       "      <th>BTC</th>\n",
       "      <th>JPM</th>\n",
       "      <th>Portfolio</th>\n",
       "    </tr>\n",
       "    <tr>\n",
       "      <th>Date</th>\n",
       "      <th></th>\n",
       "      <th></th>\n",
       "      <th></th>\n",
       "    </tr>\n",
       "  </thead>\n",
       "  <tbody>\n",
       "    <tr>\n",
       "      <th>2018-09-17</th>\n",
       "      <td>10000.000000</td>\n",
       "      <td>10000.000000</td>\n",
       "      <td>10000.000000</td>\n",
       "    </tr>\n",
       "    <tr>\n",
       "      <th>2018-09-18</th>\n",
       "      <td>1.014344</td>\n",
       "      <td>1.004041</td>\n",
       "      <td>1.011897</td>\n",
       "    </tr>\n",
       "    <tr>\n",
       "      <th>2018-09-19</th>\n",
       "      <td>1.004275</td>\n",
       "      <td>1.029046</td>\n",
       "      <td>1.010160</td>\n",
       "    </tr>\n",
       "    <tr>\n",
       "      <th>2018-09-20</th>\n",
       "      <td>1.018931</td>\n",
       "      <td>1.008587</td>\n",
       "      <td>1.016474</td>\n",
       "    </tr>\n",
       "    <tr>\n",
       "      <th>2018-09-21</th>\n",
       "      <td>1.033020</td>\n",
       "      <td>0.993425</td>\n",
       "      <td>1.023614</td>\n",
       "    </tr>\n",
       "    <tr>\n",
       "      <th>...</th>\n",
       "      <td>...</td>\n",
       "      <td>...</td>\n",
       "      <td>...</td>\n",
       "    </tr>\n",
       "    <tr>\n",
       "      <th>2023-09-11</th>\n",
       "      <td>0.971319</td>\n",
       "      <td>1.004380</td>\n",
       "      <td>0.979173</td>\n",
       "    </tr>\n",
       "    <tr>\n",
       "      <th>2023-09-12</th>\n",
       "      <td>1.026654</td>\n",
       "      <td>1.013014</td>\n",
       "      <td>1.023414</td>\n",
       "    </tr>\n",
       "    <tr>\n",
       "      <th>2023-09-13</th>\n",
       "      <td>1.015290</td>\n",
       "      <td>1.000478</td>\n",
       "      <td>1.011771</td>\n",
       "    </tr>\n",
       "    <tr>\n",
       "      <th>2023-09-14</th>\n",
       "      <td>1.011871</td>\n",
       "      <td>1.019398</td>\n",
       "      <td>1.013659</td>\n",
       "    </tr>\n",
       "    <tr>\n",
       "      <th>2023-09-15</th>\n",
       "      <td>1.002601</td>\n",
       "      <td>0.997052</td>\n",
       "      <td>1.001282</td>\n",
       "    </tr>\n",
       "  </tbody>\n",
       "</table>\n",
       "<p>1258 rows × 3 columns</p>\n",
       "</div>"
      ],
      "text/plain": [
       "                     BTC           JPM     Portfolio\n",
       "Date                                                \n",
       "2018-09-17  10000.000000  10000.000000  10000.000000\n",
       "2018-09-18      1.014344      1.004041      1.011897\n",
       "2018-09-19      1.004275      1.029046      1.010160\n",
       "2018-09-20      1.018931      1.008587      1.016474\n",
       "2018-09-21      1.033020      0.993425      1.023614\n",
       "...                  ...           ...           ...\n",
       "2023-09-11      0.971319      1.004380      0.979173\n",
       "2023-09-12      1.026654      1.013014      1.023414\n",
       "2023-09-13      1.015290      1.000478      1.011771\n",
       "2023-09-14      1.011871      1.019398      1.013659\n",
       "2023-09-15      1.002601      0.997052      1.001282\n",
       "\n",
       "[1258 rows x 3 columns]"
      ]
     },
     "execution_count": 595,
     "metadata": {},
     "output_type": "execute_result"
    }
   ],
   "source": [
    "# Let's say we want to start with an investment of $10000 and track our portfolio position's value using .cumprod()\n",
    "returns_cumulative = returns.copy()\n",
    "returns_cumulative += 1  # we'll use the data entries as a multiplier\n",
    "returns_cumulative.iloc[0] = 10000\n",
    "returns_cumulative"
   ]
  },
  {
   "cell_type": "code",
   "execution_count": 596,
   "metadata": {},
   "outputs": [
    {
     "data": {
      "text/html": [
       "<div>\n",
       "<style scoped>\n",
       "    .dataframe tbody tr th:only-of-type {\n",
       "        vertical-align: middle;\n",
       "    }\n",
       "\n",
       "    .dataframe tbody tr th {\n",
       "        vertical-align: top;\n",
       "    }\n",
       "\n",
       "    .dataframe thead th {\n",
       "        text-align: right;\n",
       "    }\n",
       "</style>\n",
       "<table border=\"1\" class=\"dataframe\">\n",
       "  <thead>\n",
       "    <tr style=\"text-align: right;\">\n",
       "      <th></th>\n",
       "      <th>BTC</th>\n",
       "      <th>JPM</th>\n",
       "      <th>Portfolio</th>\n",
       "    </tr>\n",
       "    <tr>\n",
       "      <th>Date</th>\n",
       "      <th></th>\n",
       "      <th></th>\n",
       "      <th></th>\n",
       "    </tr>\n",
       "  </thead>\n",
       "  <tbody>\n",
       "    <tr>\n",
       "      <th>2018-09-17</th>\n",
       "      <td>10000.000000</td>\n",
       "      <td>10000.000000</td>\n",
       "      <td>10000.000000</td>\n",
       "    </tr>\n",
       "    <tr>\n",
       "      <th>2018-09-18</th>\n",
       "      <td>10143.443302</td>\n",
       "      <td>10040.407000</td>\n",
       "      <td>10118.965600</td>\n",
       "    </tr>\n",
       "    <tr>\n",
       "      <th>2018-09-19</th>\n",
       "      <td>10186.811183</td>\n",
       "      <td>10332.042672</td>\n",
       "      <td>10221.775224</td>\n",
       "    </tr>\n",
       "    <tr>\n",
       "      <th>2018-09-20</th>\n",
       "      <td>10379.656306</td>\n",
       "      <td>10420.764678</td>\n",
       "      <td>10390.164171</td>\n",
       "    </tr>\n",
       "    <tr>\n",
       "      <th>2018-09-21</th>\n",
       "      <td>10722.393788</td>\n",
       "      <td>10352.248901</td>\n",
       "      <td>10635.515081</td>\n",
       "    </tr>\n",
       "    <tr>\n",
       "      <th>...</th>\n",
       "      <td>...</td>\n",
       "      <td>...</td>\n",
       "      <td>...</td>\n",
       "    </tr>\n",
       "    <tr>\n",
       "      <th>2023-09-11</th>\n",
       "      <td>40060.264781</td>\n",
       "      <td>14762.438229</td>\n",
       "      <td>39542.120825</td>\n",
       "    </tr>\n",
       "    <tr>\n",
       "      <th>2023-09-12</th>\n",
       "      <td>41128.037551</td>\n",
       "      <td>14954.555282</td>\n",
       "      <td>40467.949402</td>\n",
       "    </tr>\n",
       "    <tr>\n",
       "      <th>2023-09-13</th>\n",
       "      <td>41756.867164</td>\n",
       "      <td>14961.709364</td>\n",
       "      <td>40944.296062</td>\n",
       "    </tr>\n",
       "    <tr>\n",
       "      <th>2023-09-14</th>\n",
       "      <td>42252.552065</td>\n",
       "      <td>15251.929969</td>\n",
       "      <td>41503.547625</td>\n",
       "    </tr>\n",
       "    <tr>\n",
       "      <th>2023-09-15</th>\n",
       "      <td>42362.434777</td>\n",
       "      <td>15206.965906</td>\n",
       "      <td>41556.773636</td>\n",
       "    </tr>\n",
       "  </tbody>\n",
       "</table>\n",
       "<p>1258 rows × 3 columns</p>\n",
       "</div>"
      ],
      "text/plain": [
       "                     BTC           JPM     Portfolio\n",
       "Date                                                \n",
       "2018-09-17  10000.000000  10000.000000  10000.000000\n",
       "2018-09-18  10143.443302  10040.407000  10118.965600\n",
       "2018-09-19  10186.811183  10332.042672  10221.775224\n",
       "2018-09-20  10379.656306  10420.764678  10390.164171\n",
       "2018-09-21  10722.393788  10352.248901  10635.515081\n",
       "...                  ...           ...           ...\n",
       "2023-09-11  40060.264781  14762.438229  39542.120825\n",
       "2023-09-12  41128.037551  14954.555282  40467.949402\n",
       "2023-09-13  41756.867164  14961.709364  40944.296062\n",
       "2023-09-14  42252.552065  15251.929969  41503.547625\n",
       "2023-09-15  42362.434777  15206.965906  41556.773636\n",
       "\n",
       "[1258 rows x 3 columns]"
      ]
     },
     "execution_count": 596,
     "metadata": {},
     "output_type": "execute_result"
    }
   ],
   "source": [
    "returns_cumulative = returns_cumulative.cumprod()  # data entries are now cumulative returns\n",
    "returns_cumulative"
   ]
  },
  {
   "cell_type": "code",
   "execution_count": 597,
   "metadata": {},
   "outputs": [
    {
     "data": {
      "text/plain": [
       "<matplotlib.legend.Legend at 0x7f9f065df7f0>"
      ]
     },
     "execution_count": 597,
     "metadata": {},
     "output_type": "execute_result"
    },
    {
     "data": {
      "image/png": "[encoded data removed]",
      "text/plain": [
       "<Figure size 720x432 with 1 Axes>"
      ]
     },
     "metadata": {
      "needs_background": "light"
     },
     "output_type": "display_data"
    }
   ],
   "source": [
    "fig, ax = plt.subplots(figsize=(10, 6))\n",
    "ax.plot(returns_cumulative[\"BTC\"], c = \"blue\", label=\"BTC\")\n",
    "ax.plot(returns_cumulative[\"JPM\"], c = \"yellow\", label=\"JPM\")\n",
    "ax.plot(returns_cumulative[\"Portfolio\"], c = \"red\", lw=3, label=\"Portfolio\")\n",
    "ax.set_title(\"Cumulative Returns\")\n",
    "ax.set_xlabel(\"Date\")\n",
    "ax.set_ylabel(\"Value in $\")\n",
    "ax.legend()"
   ]
  },
  {
   "cell_type": "code",
   "execution_count": 598,
   "metadata": {},
   "outputs": [
    {
     "data": {
      "text/html": [
       "<div>\n",
       "<style scoped>\n",
       "    .dataframe tbody tr th:only-of-type {\n",
       "        vertical-align: middle;\n",
       "    }\n",
       "\n",
       "    .dataframe tbody tr th {\n",
       "        vertical-align: top;\n",
       "    }\n",
       "\n",
       "    .dataframe thead th {\n",
       "        text-align: right;\n",
       "    }\n",
       "</style>\n",
       "<table border=\"1\" class=\"dataframe\">\n",
       "  <thead>\n",
       "    <tr style=\"text-align: right;\">\n",
       "      <th></th>\n",
       "      <th>BTC</th>\n",
       "      <th>JPM</th>\n",
       "      <th>Portfolio</th>\n",
       "    </tr>\n",
       "    <tr>\n",
       "      <th>Date</th>\n",
       "      <th></th>\n",
       "      <th></th>\n",
       "      <th></th>\n",
       "    </tr>\n",
       "  </thead>\n",
       "  <tbody>\n",
       "    <tr>\n",
       "      <th>2018-09-17</th>\n",
       "      <td>NaN</td>\n",
       "      <td>NaN</td>\n",
       "      <td>NaN</td>\n",
       "    </tr>\n",
       "    <tr>\n",
       "      <th>2018-09-18</th>\n",
       "      <td>0.014344</td>\n",
       "      <td>0.004041</td>\n",
       "      <td>0.011897</td>\n",
       "    </tr>\n",
       "    <tr>\n",
       "      <th>2018-09-19</th>\n",
       "      <td>0.004275</td>\n",
       "      <td>0.029046</td>\n",
       "      <td>0.010160</td>\n",
       "    </tr>\n",
       "    <tr>\n",
       "      <th>2018-09-20</th>\n",
       "      <td>0.018931</td>\n",
       "      <td>0.008587</td>\n",
       "      <td>0.016474</td>\n",
       "    </tr>\n",
       "    <tr>\n",
       "      <th>2018-09-21</th>\n",
       "      <td>0.033020</td>\n",
       "      <td>-0.006575</td>\n",
       "      <td>0.023614</td>\n",
       "    </tr>\n",
       "    <tr>\n",
       "      <th>...</th>\n",
       "      <td>...</td>\n",
       "      <td>...</td>\n",
       "      <td>...</td>\n",
       "    </tr>\n",
       "    <tr>\n",
       "      <th>2023-09-11</th>\n",
       "      <td>-0.028681</td>\n",
       "      <td>0.004380</td>\n",
       "      <td>-0.020827</td>\n",
       "    </tr>\n",
       "    <tr>\n",
       "      <th>2023-09-12</th>\n",
       "      <td>0.026654</td>\n",
       "      <td>0.013014</td>\n",
       "      <td>0.023414</td>\n",
       "    </tr>\n",
       "    <tr>\n",
       "      <th>2023-09-13</th>\n",
       "      <td>0.015290</td>\n",
       "      <td>0.000478</td>\n",
       "      <td>0.011771</td>\n",
       "    </tr>\n",
       "    <tr>\n",
       "      <th>2023-09-14</th>\n",
       "      <td>0.011871</td>\n",
       "      <td>0.019398</td>\n",
       "      <td>0.013659</td>\n",
       "    </tr>\n",
       "    <tr>\n",
       "      <th>2023-09-15</th>\n",
       "      <td>0.002601</td>\n",
       "      <td>-0.002948</td>\n",
       "      <td>0.001282</td>\n",
       "    </tr>\n",
       "  </tbody>\n",
       "</table>\n",
       "<p>1258 rows × 3 columns</p>\n",
       "</div>"
      ],
      "text/plain": [
       "                 BTC       JPM  Portfolio\n",
       "Date                                     \n",
       "2018-09-17       NaN       NaN        NaN\n",
       "2018-09-18  0.014344  0.004041   0.011897\n",
       "2018-09-19  0.004275  0.029046   0.010160\n",
       "2018-09-20  0.018931  0.008587   0.016474\n",
       "2018-09-21  0.033020 -0.006575   0.023614\n",
       "...              ...       ...        ...\n",
       "2023-09-11 -0.028681  0.004380  -0.020827\n",
       "2023-09-12  0.026654  0.013014   0.023414\n",
       "2023-09-13  0.015290  0.000478   0.011771\n",
       "2023-09-14  0.011871  0.019398   0.013659\n",
       "2023-09-15  0.002601 -0.002948   0.001282\n",
       "\n",
       "[1258 rows x 3 columns]"
      ]
     },
     "execution_count": 598,
     "metadata": {},
     "output_type": "execute_result"
    }
   ],
   "source": [
    "# Let's get back to our first returns dataframe\n",
    "returns"
   ]
  },
  {
   "cell_type": "code",
   "execution_count": 599,
   "metadata": {},
   "outputs": [
    {
     "data": {
      "text/plain": [
       "BTC          0.043\n",
       "JPM          0.020\n",
       "Portfolio    0.034\n",
       "dtype: float64"
      ]
     },
     "execution_count": 599,
     "metadata": {},
     "output_type": "execute_result"
    }
   ],
   "source": [
    "# Calculate daily stdev of returns\n",
    "returns_stdev = returns.std(ddof=1)\n",
    "returns_stdev.round(3)"
   ]
  },
  {
   "cell_type": "code",
   "execution_count": 600,
   "metadata": {},
   "outputs": [
    {
     "data": {
      "text/plain": [
       "datetime.date"
      ]
     },
     "execution_count": 600,
     "metadata": {},
     "output_type": "execute_result"
    }
   ],
   "source": [
    "type(start)"
   ]
  },
  {
   "cell_type": "code",
   "execution_count": 601,
   "metadata": {},
   "outputs": [
    {
     "data": {
      "text/plain": [
       "['BTC', 'JPM']"
      ]
     },
     "execution_count": 601,
     "metadata": {},
     "output_type": "execute_result"
    }
   ],
   "source": [
    "tickers = {\"BTC-USD\":\"BTC\", \"JPM\":\"JPM\"}\n",
    "list(tickers.values())"
   ]
  },
  {
   "cell_type": "code",
   "execution_count": 602,
   "metadata": {},
   "outputs": [],
   "source": [
    "def getReturns(startTime, endTime, tickers):\n",
    "    \"\"\"Scrapes data of tickers from web and then creates a daily rate of return dataframe.\n",
    "\n",
    "    Args:\n",
    "        startTime (datetime.date): start date for the data\n",
    "        endTime (datetime.date): end date for the data\n",
    "        tickers (dict): keys are yfinance tickers to be passed into .DataReader function, values are renamed column names.\n",
    "    \n",
    "    Returns:\n",
    "        r (pandas.dataframe): daily rate of returns data for the tickers. rows are rate of returns for different days, columns are different tickers.\n",
    "    \"\"\"\n",
    "    \n",
    "    prices = web.DataReader(list(tickers.keys()), startTime, endTime)[\"Adj Close\"]\n",
    "    prices = prices.rename(columns=tickers)\n",
    "    r = prices.pct_change()\n",
    "    \n",
    "    return r"
   ]
  },
  {
   "cell_type": "code",
   "execution_count": 603,
   "metadata": {},
   "outputs": [
    {
     "name": "stdout",
     "output_type": "stream",
     "text": [
      "[*********************100%***********************]  3 of 3 completed\n",
      "                 BLV   Bitcoin       JPM\n",
      "Date                                    \n",
      "2018-09-16       NaN       NaN       NaN\n",
      "2018-09-17       NaN -0.036209       NaN\n",
      "2018-09-18 -0.009218  0.014344  0.004041\n",
      "2018-09-19 -0.003905  0.004275  0.029046\n",
      "2018-09-20  0.005535  0.018931  0.008587\n",
      "...              ...       ...       ...\n",
      "2023-09-11 -0.005966 -0.025920  0.004380\n",
      "2023-09-12  0.002143  0.026654  0.013014\n",
      "2023-09-13  0.002139  0.015290  0.000478\n",
      "2023-09-14 -0.004838  0.011871  0.019398\n",
      "2023-09-15 -0.004289  0.002601 -0.002948\n",
      "\n",
      "[1826 rows x 3 columns]\n",
      "Runtime = 0:00:00.432486\n"
     ]
    }
   ],
   "source": [
    "start = datetime.date.today() - datetime.timedelta(365 * 5)\n",
    "end = datetime.date.today()\n",
    "tickers = {\"JPM\": \"JPM\", \"BTC-USD\": \"Bitcoin\", \"BLV\": \"BLV\"}\n",
    "# use getReturns functions on JPM, BTC and BLV. also calculate runtime\n",
    "runtime_start = datetime.datetime.now()\n",
    "r_BTC_JPM_BLV = getReturns(start, end, tickers)\n",
    "runtime_end = datetime.datetime.now()\n",
    "print(r_BTC_JPM_BLV)\n",
    "runtime_delta = runtime_end - runtime_start\n",
    "print(f\"Runtime = {runtime_delta}\")"
   ]
  },
  {
   "cell_type": "code",
   "execution_count": 604,
   "metadata": {},
   "outputs": [
    {
     "data": {
      "text/html": [
       "<div>\n",
       "<style scoped>\n",
       "    .dataframe tbody tr th:only-of-type {\n",
       "        vertical-align: middle;\n",
       "    }\n",
       "\n",
       "    .dataframe tbody tr th {\n",
       "        vertical-align: top;\n",
       "    }\n",
       "\n",
       "    .dataframe thead th {\n",
       "        text-align: right;\n",
       "    }\n",
       "</style>\n",
       "<table border=\"1\" class=\"dataframe\">\n",
       "  <thead>\n",
       "    <tr style=\"text-align: right;\">\n",
       "      <th></th>\n",
       "      <th>BLV</th>\n",
       "      <th>Bitcoin</th>\n",
       "      <th>JPM</th>\n",
       "    </tr>\n",
       "  </thead>\n",
       "  <tbody>\n",
       "    <tr>\n",
       "      <th>BLV</th>\n",
       "      <td>1.000000</td>\n",
       "      <td>0.104060</td>\n",
       "      <td>-0.074485</td>\n",
       "    </tr>\n",
       "    <tr>\n",
       "      <th>Bitcoin</th>\n",
       "      <td>0.104060</td>\n",
       "      <td>1.000000</td>\n",
       "      <td>0.181677</td>\n",
       "    </tr>\n",
       "    <tr>\n",
       "      <th>JPM</th>\n",
       "      <td>-0.074485</td>\n",
       "      <td>0.181677</td>\n",
       "      <td>1.000000</td>\n",
       "    </tr>\n",
       "  </tbody>\n",
       "</table>\n",
       "</div>"
      ],
      "text/plain": [
       "              BLV   Bitcoin       JPM\n",
       "BLV      1.000000  0.104060 -0.074485\n",
       "Bitcoin  0.104060  1.000000  0.181677\n",
       "JPM     -0.074485  0.181677  1.000000"
      ]
     },
     "execution_count": 604,
     "metadata": {},
     "output_type": "execute_result"
    }
   ],
   "source": [
    "r_BTC_JPM_BLV.corr()"
   ]
  },
  {
   "cell_type": "code",
   "execution_count": 605,
   "metadata": {},
   "outputs": [],
   "source": [
    "def compareVariance(startTime, endTime, tickers, weights):\n",
    "    \n",
    "    returns = getReturns(startTime, endTime, tickers)\n",
    "    colnames = [value for value in tickers.values()]\n",
    "    \n",
    "    returns[\"Portfolio\"] = np.dot(np.array(returns), weights)\n",
    "    returns = returns.dropna()\n",
    "    \n",
    "    returns_mean = returns.mean()\n",
    "    returns_var = returns.var(ddof=1)\n",
    "    returns_std = returns.std(ddof=1)\n",
    "    \n",
    "    returns_compare = pd.concat([returns_mean, returns_std], axis=1)\n",
    "    returns_compare.columns = [\"Daily Average Rate of Return\", \"Daily Standard Deviation of Returns\"]\n",
    "    \n",
    "    return returns_compare"
   ]
  },
  {
   "cell_type": "code",
   "execution_count": 606,
   "metadata": {},
   "outputs": [
    {
     "name": "stdout",
     "output_type": "stream",
     "text": [
      "[*********************100%***********************]  3 of 3 completed\n"
     ]
    },
    {
     "data": {
      "text/html": [
       "<div>\n",
       "<style scoped>\n",
       "    .dataframe tbody tr th:only-of-type {\n",
       "        vertical-align: middle;\n",
       "    }\n",
       "\n",
       "    .dataframe tbody tr th {\n",
       "        vertical-align: top;\n",
       "    }\n",
       "\n",
       "    .dataframe thead th {\n",
       "        text-align: right;\n",
       "    }\n",
       "</style>\n",
       "<table border=\"1\" class=\"dataframe\">\n",
       "  <thead>\n",
       "    <tr style=\"text-align: right;\">\n",
       "      <th></th>\n",
       "      <th>Daily Average Rate of Return</th>\n",
       "      <th>Daily Standard Deviation of Returns</th>\n",
       "    </tr>\n",
       "  </thead>\n",
       "  <tbody>\n",
       "    <tr>\n",
       "      <th>BLV</th>\n",
       "      <td>0.000011</td>\n",
       "      <td>0.007172</td>\n",
       "    </tr>\n",
       "    <tr>\n",
       "      <th>Bitcoin</th>\n",
       "      <td>0.001439</td>\n",
       "      <td>0.035691</td>\n",
       "    </tr>\n",
       "    <tr>\n",
       "      <th>JPM</th>\n",
       "      <td>0.000371</td>\n",
       "      <td>0.016858</td>\n",
       "    </tr>\n",
       "    <tr>\n",
       "      <th>Portfolio</th>\n",
       "      <td>0.000601</td>\n",
       "      <td>0.014245</td>\n",
       "    </tr>\n",
       "  </tbody>\n",
       "</table>\n",
       "</div>"
      ],
      "text/plain": [
       "           Daily Average Rate of Return  Daily Standard Deviation of Returns\n",
       "BLV                            0.000011                             0.007172\n",
       "Bitcoin                        0.001439                             0.035691\n",
       "JPM                            0.000371                             0.016858\n",
       "Portfolio                      0.000601                             0.014245"
      ]
     },
     "execution_count": 606,
     "metadata": {},
     "output_type": "execute_result"
    }
   ],
   "source": [
    "start = datetime.date.today() - datetime.timedelta(365 * 5)\n",
    "end = datetime.date.today()\n",
    "tickers = {\"JPM\": \"JPM\", \"BTC-USD\": \"Bitcoin\", \"BLV\": \"BLV\"}\n",
    "\n",
    "mycompare = compareVariance(start, end, tickers, [0.33, 0.33, 0.33])\n",
    "mycompare"
   ]
  },
  {
   "cell_type": "code",
   "execution_count": 607,
   "metadata": {},
   "outputs": [
    {
     "data": {
      "text/plain": [
       "<AxesSubplot:>"
      ]
     },
     "execution_count": 607,
     "metadata": {},
     "output_type": "execute_result"
    },
    {
     "data": {
      "image/png": "[encoded data removed]",
      "text/plain": [
       "<Figure size 432x288 with 1 Axes>"
      ]
     },
     "metadata": {
      "needs_background": "light"
     },
     "output_type": "display_data"
    }
   ],
   "source": [
    "mycompare.plot()"
   ]
  }
 ],
 "metadata": {
  "kernelspec": {
   "display_name": "Python 3",
   "language": "python",
   "name": "python3"
  },
  "language_info": {
   "codemirror_mode": {
    "name": "ipython",
    "version": 3
   },
   "file_extension": ".py",
   "mimetype": "text/x-python",
   "name": "python",
   "nbconvert_exporter": "python",
   "pygments_lexer": "ipython3",
   "version": "3.10.5"
  },
  "orig_nbformat": 4
 },
 "nbformat": 4,
 "nbformat_minor": 2
}
