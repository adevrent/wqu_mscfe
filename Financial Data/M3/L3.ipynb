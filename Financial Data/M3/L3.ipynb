{
 "cells": [
  {
   "cell_type": "code",
   "execution_count": 370,
   "metadata": {},
   "outputs": [],
   "source": [
    "import datetime\n",
    "import math\n",
    "import numpy as np\n",
    "import matplotlib.pyplot as plt\n",
    "import pandas as pd\n",
    "import pandas_datareader.data as web\n",
    "import seaborn as sns\n",
    "import yfinance as yfin\n",
    "from scipy import stats\n",
    "\n",
    "yfin.pdr_override()"
   ]
  },
  {
   "cell_type": "markdown",
   "metadata": {},
   "source": [
    "# Historical Method for Calculating VaR #"
   ]
  },
  {
   "cell_type": "code",
   "execution_count": 371,
   "metadata": {},
   "outputs": [
    {
     "name": "stdout",
     "output_type": "stream",
     "text": [
      "[*********************100%%**********************]  1 of 1 completed\n"
     ]
    },
    {
     "data": {
      "text/plain": [
       "(array([  1.,   0.,   0.,   0.,   0.,   0.,   0.,   0.,   0.,   0.,   0.,\n",
       "          0.,   0.,   0.,   0.,   0.,   0.,   0.,   0.,   0.,   0.,   0.,\n",
       "          0.,   0.,   0.,   0.,   0.,   0.,   0.,   0.,   0.,   0.,   0.,\n",
       "          0.,   0.,   0.,   0.,   0.,   0.,   0.,   0.,   0.,   0.,   0.,\n",
       "          0.,   0.,   0.,   0.,   0.,   0.,   0.,   0.,   0.,   0.,   0.,\n",
       "          0.,   0.,   0.,   0.,   1.,   0.,   0.,   0.,   0.,   0.,   1.,\n",
       "          0.,   2.,   0.,   1.,   0.,   0.,   0.,   3.,   1.,   0.,   3.,\n",
       "          1.,   0.,   2.,   0.,   1.,   2.,   4.,   1.,   5.,   6.,   9.,\n",
       "          4.,   2.,   3.,   4.,   3.,   5.,   8.,   7.,   8.,  10.,  16.,\n",
       "         22.,  19.,  11.,  18.,  20.,  19.,  24.,  24.,  29.,  37.,  46.,\n",
       "         47.,  63.,  64.,  62.,  89.,  89., 129., 173., 200., 203., 172.,\n",
       "        152., 126., 119.,  88.,  68.,  65.,  64.,  49.,  37.,  46.,  31.,\n",
       "         28.,  34.,  30.,  23.,  28.,  10.,   9.,  12.,  13.,  10.,   9.,\n",
       "         12.,   9.,   6.,   5.,   1.,   4.,   5.,   5.,  11.,   5.,   5.,\n",
       "          3.,   3.,   3.,   3.,   1.,   2.,   2.,   1.,   1.,   0.,   0.,\n",
       "          1.,   1.,   0.,   2.,   1.,   0.,   0.,   0.,   0.,   1.,   0.,\n",
       "          0.,   1.,   0.,   1.,   0.,   0.,   1.,   0.,   0.,   0.,   0.,\n",
       "          0.,   0.,   0.,   0.,   0.,   0.,   0.,   0.,   1.,   0.,   0.,\n",
       "          0.,   1.]),\n",
       " array([-3.71695386e-01, -3.68574550e-01, -3.65453715e-01, -3.62332879e-01,\n",
       "        -3.59212044e-01, -3.56091209e-01, -3.52970373e-01, -3.49849538e-01,\n",
       "        -3.46728702e-01, -3.43607867e-01, -3.40487032e-01, -3.37366196e-01,\n",
       "        -3.34245361e-01, -3.31124525e-01, -3.28003690e-01, -3.24882855e-01,\n",
       "        -3.21762019e-01, -3.18641184e-01, -3.15520348e-01, -3.12399513e-01,\n",
       "        -3.09278678e-01, -3.06157842e-01, -3.03037007e-01, -2.99916171e-01,\n",
       "        -2.96795336e-01, -2.93674501e-01, -2.90553665e-01, -2.87432830e-01,\n",
       "        -2.84311994e-01, -2.81191159e-01, -2.78070324e-01, -2.74949488e-01,\n",
       "        -2.71828653e-01, -2.68707817e-01, -2.65586982e-01, -2.62466147e-01,\n",
       "        -2.59345311e-01, -2.56224476e-01, -2.53103640e-01, -2.49982805e-01,\n",
       "        -2.46861970e-01, -2.43741134e-01, -2.40620299e-01, -2.37499463e-01,\n",
       "        -2.34378628e-01, -2.31257793e-01, -2.28136957e-01, -2.25016122e-01,\n",
       "        -2.21895286e-01, -2.18774451e-01, -2.15653616e-01, -2.12532780e-01,\n",
       "        -2.09411945e-01, -2.06291109e-01, -2.03170274e-01, -2.00049439e-01,\n",
       "        -1.96928603e-01, -1.93807768e-01, -1.90686932e-01, -1.87566097e-01,\n",
       "        -1.84445262e-01, -1.81324426e-01, -1.78203591e-01, -1.75082755e-01,\n",
       "        -1.71961920e-01, -1.68841085e-01, -1.65720249e-01, -1.62599414e-01,\n",
       "        -1.59478578e-01, -1.56357743e-01, -1.53236908e-01, -1.50116072e-01,\n",
       "        -1.46995237e-01, -1.43874401e-01, -1.40753566e-01, -1.37632731e-01,\n",
       "        -1.34511895e-01, -1.31391060e-01, -1.28270224e-01, -1.25149389e-01,\n",
       "        -1.22028554e-01, -1.18907718e-01, -1.15786883e-01, -1.12666047e-01,\n",
       "        -1.09545212e-01, -1.06424377e-01, -1.03303541e-01, -1.00182706e-01,\n",
       "        -9.70618705e-02, -9.39410351e-02, -9.08201997e-02, -8.76993643e-02,\n",
       "        -8.45785289e-02, -8.14576935e-02, -7.83368581e-02, -7.52160227e-02,\n",
       "        -7.20951873e-02, -6.89743519e-02, -6.58535165e-02, -6.27326811e-02,\n",
       "        -5.96118457e-02, -5.64910103e-02, -5.33701749e-02, -5.02493395e-02,\n",
       "        -4.71285041e-02, -4.40076687e-02, -4.08868333e-02, -3.77659979e-02,\n",
       "        -3.46451625e-02, -3.15243271e-02, -2.84034917e-02, -2.52826563e-02,\n",
       "        -2.21618209e-02, -1.90409855e-02, -1.59201501e-02, -1.27993147e-02,\n",
       "        -9.67847927e-03, -6.55764387e-03, -3.43680847e-03, -3.15973074e-04,\n",
       "         2.80486233e-03,  5.92569772e-03,  9.04653312e-03,  1.21673685e-02,\n",
       "         1.52882039e-02,  1.84090393e-02,  2.15298747e-02,  2.46507101e-02,\n",
       "         2.77715455e-02,  3.08923809e-02,  3.40132163e-02,  3.71340517e-02,\n",
       "         4.02548871e-02,  4.33757225e-02,  4.64965579e-02,  4.96173933e-02,\n",
       "         5.27382287e-02,  5.58590641e-02,  5.89798995e-02,  6.21007349e-02,\n",
       "         6.52215703e-02,  6.83424057e-02,  7.14632411e-02,  7.45840765e-02,\n",
       "         7.77049119e-02,  8.08257473e-02,  8.39465827e-02,  8.70674181e-02,\n",
       "         9.01882535e-02,  9.33090889e-02,  9.64299243e-02,  9.95507597e-02,\n",
       "         1.02671595e-01,  1.05792431e-01,  1.08913266e-01,  1.12034101e-01,\n",
       "         1.15154937e-01,  1.18275772e-01,  1.21396608e-01,  1.24517443e-01,\n",
       "         1.27638278e-01,  1.30759114e-01,  1.33879949e-01,  1.37000784e-01,\n",
       "         1.40121620e-01,  1.43242455e-01,  1.46363291e-01,  1.49484126e-01,\n",
       "         1.52604961e-01,  1.55725797e-01,  1.58846632e-01,  1.61967468e-01,\n",
       "         1.65088303e-01,  1.68209138e-01,  1.71329974e-01,  1.74450809e-01,\n",
       "         1.77571645e-01,  1.80692480e-01,  1.83813315e-01,  1.86934151e-01,\n",
       "         1.90054986e-01,  1.93175822e-01,  1.96296657e-01,  1.99417492e-01,\n",
       "         2.02538328e-01,  2.05659163e-01,  2.08779999e-01,  2.11900834e-01,\n",
       "         2.15021669e-01,  2.18142505e-01,  2.21263340e-01,  2.24384176e-01,\n",
       "         2.27505011e-01,  2.30625846e-01,  2.33746682e-01,  2.36867517e-01,\n",
       "         2.39988353e-01,  2.43109188e-01,  2.46230023e-01,  2.49350859e-01,\n",
       "         2.52471694e-01]),\n",
       " <BarContainer object of 200 artists>)"
      ]
     },
     "execution_count": 371,
     "metadata": {},
     "output_type": "execute_result"
    },
    {
     "data": {
      "image/png": "[encoded data removed]",
      "text/plain": [
       "<Figure size 576x396 with 1 Axes>"
      ]
     },
     "metadata": {},
     "output_type": "display_data"
    }
   ],
   "source": [
    "start = datetime.date(2016, 1, 1)\n",
    "end = datetime.date.today()\n",
    "\n",
    "prices = pd.DataFrame(web.DataReader([\"BTC-USD\"], start, end)[\"Adj Close\"])\n",
    "returns = prices.pct_change()\n",
    "returns = returns.rename(columns={\"Adj Close\": \"Bitcoin\"})\n",
    "returns = returns.dropna()\n",
    "plt.hist(returns, bins = 200)"
   ]
  },
  {
   "cell_type": "code",
   "execution_count": 372,
   "metadata": {},
   "outputs": [
    {
     "data": {
      "text/plain": [
       "array([  0.,   1.,   2.,   3.,   4.,   5.,   6.,   7.,   8.,   9.,  10.,\n",
       "        11.,  12.,  13.,  14.,  15.,  16.,  17.,  18.,  19.,  20.,  21.,\n",
       "        22.,  23.,  24.,  25.,  26.,  27.,  28.,  29.,  30.,  31.,  32.,\n",
       "        33.,  34.,  35.,  36.,  37.,  38.,  39.,  40.,  41.,  42.,  43.,\n",
       "        44.,  45.,  46.,  47.,  48.,  49.,  50.,  51.,  52.,  53.,  54.,\n",
       "        55.,  56.,  57.,  58.,  59.,  60.,  61.,  62.,  63.,  64.,  65.,\n",
       "        66.,  67.,  68.,  69.,  70.,  71.,  72.,  73.,  74.,  75.,  76.,\n",
       "        77.,  78.,  79.,  80.,  81.,  82.,  83.,  84.,  85.,  86.,  87.,\n",
       "        88.,  89.,  90.,  91.,  92.,  93.,  94.,  95.,  96.,  97.,  98.,\n",
       "        99., 100.])"
      ]
     },
     "execution_count": 372,
     "metadata": {},
     "output_type": "execute_result"
    }
   ],
   "source": [
    "myarray = np.linspace(0, 100, 101)\n",
    "myarray"
   ]
  },
  {
   "cell_type": "code",
   "execution_count": 373,
   "metadata": {},
   "outputs": [
    {
     "data": {
      "text/plain": [
       "0.0"
      ]
     },
     "execution_count": 373,
     "metadata": {},
     "output_type": "execute_result"
    }
   ],
   "source": [
    "np.percentile(myarray, 0)"
   ]
  },
  {
   "cell_type": "markdown",
   "metadata": {},
   "source": [
    "## Value at Risk (VaR) ##"
   ]
  },
  {
   "cell_type": "code",
   "execution_count": 374,
   "metadata": {},
   "outputs": [],
   "source": [
    "def getHistoricalVar(returns, confidenceLevel):\n",
    "    VaR = 100 * np.percentile(returns, 100 - confidenceLevel)  # converted to percent\n",
    "    \n",
    "    print(f\"With {confidenceLevel:.2f}% confidence, we can say the most our portfolio will lose in a day is {VaR:.2f}% using historical VaR.\")\n",
    "    \n",
    "    return VaR"
   ]
  },
  {
   "cell_type": "code",
   "execution_count": 375,
   "metadata": {},
   "outputs": [
    {
     "name": "stdout",
     "output_type": "stream",
     "text": [
      "With 95.00% confidence, we can say the most our portfolio will lose in a day is -5.79% using historical VaR.\n"
     ]
    },
    {
     "data": {
      "text/plain": [
       "-5.7924077656909825"
      ]
     },
     "execution_count": 375,
     "metadata": {},
     "output_type": "execute_result"
    }
   ],
   "source": [
    "getHistoricalVar(returns[\"Bitcoin\"], 95)"
   ]
  },
  {
   "cell_type": "code",
   "execution_count": 376,
   "metadata": {},
   "outputs": [
    {
     "name": "stdout",
     "output_type": "stream",
     "text": [
      "With 99.00% confidence, we can say the most our portfolio will lose in a day is -10.36% using historical VaR.\n"
     ]
    },
    {
     "data": {
      "text/plain": [
       "-10.358544412292408"
      ]
     },
     "execution_count": 376,
     "metadata": {},
     "output_type": "execute_result"
    }
   ],
   "source": [
    "getHistoricalVar(returns[\"Bitcoin\"], 99)"
   ]
  },
  {
   "cell_type": "markdown",
   "metadata": {},
   "source": [
    "## Conditional Value at Risk (CVaR) ##"
   ]
  },
  {
   "cell_type": "code",
   "execution_count": 377,
   "metadata": {},
   "outputs": [],
   "source": [
    "def getHistoricalCVar(returns, confidenceLevel):\n",
    "    VaR = np.percentile(returns, 100 - confidenceLevel)\n",
    "    CVaR_array = returns[returns <= VaR]\n",
    "    CVaR = CVaR_array.mean() * 100  # convert to percent\n",
    "    \n",
    "    print(f\"With {confidenceLevel:.2f}% confidence, our Daily Conditional Value at Risk is {CVaR:.2f}% using historical VaR.\")\n",
    "    \n",
    "    return CVaR"
   ]
  },
  {
   "cell_type": "code",
   "execution_count": 378,
   "metadata": {},
   "outputs": [
    {
     "name": "stdout",
     "output_type": "stream",
     "text": [
      "With 95.00% confidence, we can say the most our portfolio will lose in a day is -5.79% using historical VaR.\n"
     ]
    },
    {
     "data": {
      "text/plain": [
       "-5.7924077656909825"
      ]
     },
     "execution_count": 378,
     "metadata": {},
     "output_type": "execute_result"
    }
   ],
   "source": [
    "VaR_BTC = getHistoricalVar(returns[\"Bitcoin\"], 95)\n",
    "VaR_BTC"
   ]
  },
  {
   "cell_type": "code",
   "execution_count": 379,
   "metadata": {},
   "outputs": [
    {
     "name": "stdout",
     "output_type": "stream",
     "text": [
      "With 95.00% confidence, our Daily Conditional Value at Risk is -8.73% using historical VaR.\n"
     ]
    },
    {
     "data": {
      "text/plain": [
       "-8.726048056535143"
      ]
     },
     "execution_count": 379,
     "metadata": {},
     "output_type": "execute_result"
    }
   ],
   "source": [
    "CVaR_BTC = getHistoricalCVar(returns[\"Bitcoin\"], 95)\n",
    "CVaR_BTC"
   ]
  },
  {
   "cell_type": "code",
   "execution_count": 380,
   "metadata": {},
   "outputs": [
    {
     "name": "stdout",
     "output_type": "stream",
     "text": [
      "[*********************100%%**********************]  1 of 1 completed\n"
     ]
    }
   ],
   "source": [
    "start = datetime.date(2016, 1, 1)\n",
    "end = datetime.date.today()\n",
    "\n",
    "prices = pd.DataFrame(web.DataReader([\"BLV\"], start, end)[\"Adj Close\"])\n",
    "prices = prices.rename(columns={\"Adj Close\": \"BLV\"})\n",
    "returns = prices.pct_change()\n",
    "returns = returns.dropna()"
   ]
  },
  {
   "cell_type": "code",
   "execution_count": 381,
   "metadata": {},
   "outputs": [
    {
     "name": "stdout",
     "output_type": "stream",
     "text": [
      "With 95.00% confidence, we can say the most our portfolio will lose in a day is -1.17% using historical VaR.\n"
     ]
    },
    {
     "data": {
      "text/plain": [
       "-1.1711926368836612"
      ]
     },
     "execution_count": 381,
     "metadata": {},
     "output_type": "execute_result"
    }
   ],
   "source": [
    "VaR_BLV = getHistoricalVar(returns[\"BLV\"], 95)\n",
    "VaR_BLV"
   ]
  },
  {
   "cell_type": "code",
   "execution_count": 382,
   "metadata": {},
   "outputs": [
    {
     "name": "stdout",
     "output_type": "stream",
     "text": [
      "With 95.00% confidence, our Daily Conditional Value at Risk is -1.75% using historical VaR.\n"
     ]
    },
    {
     "data": {
      "text/plain": [
       "-1.7483138631686788"
      ]
     },
     "execution_count": 382,
     "metadata": {},
     "output_type": "execute_result"
    }
   ],
   "source": [
    "CVaR_BLV = getHistoricalCVar(returns[\"BLV\"], 95)\n",
    "CVaR_BLV"
   ]
  },
  {
   "cell_type": "code",
   "execution_count": 383,
   "metadata": {},
   "outputs": [
    {
     "data": {
      "text/html": [
       "<div>\n",
       "<style scoped>\n",
       "    .dataframe tbody tr th:only-of-type {\n",
       "        vertical-align: middle;\n",
       "    }\n",
       "\n",
       "    .dataframe tbody tr th {\n",
       "        vertical-align: top;\n",
       "    }\n",
       "\n",
       "    .dataframe thead th {\n",
       "        text-align: right;\n",
       "    }\n",
       "</style>\n",
       "<table border=\"1\" class=\"dataframe\">\n",
       "  <thead>\n",
       "    <tr style=\"text-align: right;\">\n",
       "      <th></th>\n",
       "      <th>VaR</th>\n",
       "      <th>CVaR</th>\n",
       "    </tr>\n",
       "  </thead>\n",
       "  <tbody>\n",
       "    <tr>\n",
       "      <th>BTC</th>\n",
       "      <td>-0.057924</td>\n",
       "      <td>-0.087260</td>\n",
       "    </tr>\n",
       "    <tr>\n",
       "      <th>BLV</th>\n",
       "      <td>-0.011712</td>\n",
       "      <td>-0.017483</td>\n",
       "    </tr>\n",
       "  </tbody>\n",
       "</table>\n",
       "</div>"
      ],
      "text/plain": [
       "          VaR      CVaR\n",
       "BTC -0.057924 -0.087260\n",
       "BLV -0.011712 -0.017483"
      ]
     },
     "execution_count": 383,
     "metadata": {},
     "output_type": "execute_result"
    }
   ],
   "source": [
    "var_df = pd.DataFrame((VaR_BTC, VaR_BLV))\n",
    "var_df = var_df.rename(columns={0:\"VaR\"})\n",
    "var_df[\"CVaR\"] = (CVaR_BTC, CVaR_BLV)\n",
    "var_df = var_df.rename({0:\"BTC\", 1:\"BLV\"}, axis=0)\n",
    "var_df = var_df / 100  # convert from percent to number.\n",
    "var_df"
   ]
  },
  {
   "cell_type": "code",
   "execution_count": 384,
   "metadata": {},
   "outputs": [
    {
     "data": {
      "text/plain": [
       "Text(0, 0.5, 'CVaR')"
      ]
     },
     "execution_count": 384,
     "metadata": {},
     "output_type": "execute_result"
    },
    {
     "data": {
      "image/png": "[encoded data removed]",
      "text/plain": [
       "<Figure size 720x432 with 2 Axes>"
      ]
     },
     "metadata": {},
     "output_type": "display_data"
    }
   ],
   "source": [
    "plt.style.use(\"seaborn\")\n",
    "fig, axs = plt.subplots(2, 1, figsize=(10, 6))\n",
    "axs[0].bar(0, var_df[\"VaR\"][0], label=\"BTC\", width=0.4)\n",
    "axs[0].bar(1, var_df[\"VaR\"][1], label=\"BLV\", width=0.4)\n",
    "axs[0].set_xticks((0, 1), (\"BTC\", \"BLV\"))\n",
    "axs[0].legend()\n",
    "axs[0].set_title(\"VaR of BTC and BLV\")\n",
    "axs[0].set_ylabel(\"VaR\")\n",
    "\n",
    "axs[1].bar(0, var_df[\"CVaR\"][0], label=\"BTC\", width=0.4)\n",
    "axs[1].bar(1, var_df[\"CVaR\"][1], label=\"BLV\", width=0.4)\n",
    "axs[1].set_xticks((0, 1), (\"BTC\", \"BLV\"))\n",
    "axs[1].legend()\n",
    "axs[1].set_title(\"CVaR of BTC and BLV\")\n",
    "axs[1].set_ylabel(\"CVaR\")"
   ]
  },
  {
   "cell_type": "markdown",
   "metadata": {},
   "source": [
    "# Parametric Method for Calculating VaR #"
   ]
  },
  {
   "cell_type": "code",
   "execution_count": 385,
   "metadata": {},
   "outputs": [
    {
     "name": "stdout",
     "output_type": "stream",
     "text": [
      "[*********************100%%**********************]  1 of 1 completed\n"
     ]
    }
   ],
   "source": [
    "start = datetime.date(2010, 1, 1)\n",
    "end = datetime.date.today()\n",
    "\n",
    "prices = pd.DataFrame(web.DataReader([\"AAPL\"], start, end)[\"Adj Close\"])\n",
    "prices = prices.rename(columns={\"Adj Close\": \"AAPL\"})\n",
    "returns = prices.pct_change()\n",
    "returns = returns.dropna()"
   ]
  },
  {
   "cell_type": "code",
   "execution_count": 386,
   "metadata": {},
   "outputs": [
    {
     "name": "stdout",
     "output_type": "stream",
     "text": [
      "Daily VaR of AAPL is -2.83% with 0.95 confidence, assuming Normal distribution.\n"
     ]
    }
   ],
   "source": [
    "# Calculate VaR with parametric method assuming a Normal distribution.\n",
    "mean = returns.AAPL.mean()\n",
    "std = returns.AAPL.std()\n",
    "confidence = 0.05\n",
    "VaR_AAPL = (100 * stats.norm.ppf(confidence, mean, std)).round(3)\n",
    "print(f\"Daily VaR of AAPL is {VaR_AAPL}% with {1 - confidence} confidence, assuming Normal distribution.\")"
   ]
  },
  {
   "cell_type": "code",
   "execution_count": 387,
   "metadata": {},
   "outputs": [
    {
     "name": "stdout",
     "output_type": "stream",
     "text": [
      "Daily VaR of AAPL is -2.81% with 0.95 confidence, assuming T-distribution.\n"
     ]
    }
   ],
   "source": [
    "# Calculate VaR with parametric method assuming a T-distribution.\n",
    "\n",
    "dof = 4  # degrees of freedom\n",
    "tVaR = np.sqrt((dof - 2) / dof) * stats.t.ppf(confidence, dof) * std - mean\n",
    "(100 * tVaR).round(3)\n",
    "print(f\"Daily VaR of AAPL is {(tVaR * 100):.2f}% with {1 - confidence} confidence, assuming T-distribution.\")"
   ]
  }
 ],
 "metadata": {
  "kernelspec": {
   "display_name": "Python 3",
   "language": "python",
   "name": "python3"
  },
  "language_info": {
   "codemirror_mode": {
    "name": "ipython",
    "version": 3
   },
   "file_extension": ".py",
   "mimetype": "text/x-python",
   "name": "python",
   "nbconvert_exporter": "python",
   "pygments_lexer": "ipython3",
   "version": "3.10.5"
  },
  "orig_nbformat": 4
 },
 "nbformat": 4,
 "nbformat_minor": 2
}
