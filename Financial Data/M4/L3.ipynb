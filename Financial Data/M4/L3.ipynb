{
 "cells": [
  {
   "cell_type": "code",
   "execution_count": 2,
   "metadata": {},
   "outputs": [],
   "source": [
    "import numpy as np"
   ]
  },
  {
   "cell_type": "code",
   "execution_count": 3,
   "metadata": {},
   "outputs": [
    {
     "data": {
      "text/plain": [
       "array([0., 0., 0., 0., 0., 0., 0., 0., 0., 0.])"
      ]
     },
     "execution_count": 3,
     "metadata": {},
     "output_type": "execute_result"
    }
   ],
   "source": [
    "z = np.zeros(10)\n",
    "z"
   ]
  },
  {
   "cell_type": "code",
   "execution_count": 4,
   "metadata": {},
   "outputs": [
    {
     "data": {
      "text/plain": [
       "numpy.ndarray"
      ]
     },
     "execution_count": 4,
     "metadata": {},
     "output_type": "execute_result"
    }
   ],
   "source": [
    "type(z)"
   ]
  },
  {
   "cell_type": "code",
   "execution_count": 5,
   "metadata": {},
   "outputs": [
    {
     "data": {
      "text/plain": [
       "(10,)"
      ]
     },
     "execution_count": 5,
     "metadata": {},
     "output_type": "execute_result"
    }
   ],
   "source": [
    "z.shape  # dimesionless, neither a row nor column vector"
   ]
  },
  {
   "cell_type": "code",
   "execution_count": 6,
   "metadata": {},
   "outputs": [
    {
     "data": {
      "text/plain": [
       "array([[0.],\n",
       "       [0.],\n",
       "       [0.],\n",
       "       [0.],\n",
       "       [0.],\n",
       "       [0.],\n",
       "       [0.],\n",
       "       [0.],\n",
       "       [0.],\n",
       "       [0.]])"
      ]
     },
     "execution_count": 6,
     "metadata": {},
     "output_type": "execute_result"
    }
   ],
   "source": [
    "z.shape = (10, 1)  # give it dimension: 10 rows 1 column, 10x1 column vector\n",
    "z"
   ]
  },
  {
   "cell_type": "code",
   "execution_count": 7,
   "metadata": {},
   "outputs": [
    {
     "data": {
      "text/plain": [
       "array([[0., 0., 0., 0., 0., 0., 0., 0., 0., 0.]])"
      ]
     },
     "execution_count": 7,
     "metadata": {},
     "output_type": "execute_result"
    }
   ],
   "source": [
    "z.shape = (1, 10)  # convert it to a row vector\n",
    "z"
   ]
  },
  {
   "cell_type": "code",
   "execution_count": 8,
   "metadata": {},
   "outputs": [
    {
     "data": {
      "text/plain": [
       "array([[0., 0.],\n",
       "       [0., 0.]])"
      ]
     },
     "execution_count": 8,
     "metadata": {},
     "output_type": "execute_result"
    }
   ],
   "source": [
    "z = np.zeros(4)\n",
    "z.shape = (2, 2)  # convert from dimensionless array to 2x2 matrix\n",
    "z"
   ]
  },
  {
   "cell_type": "code",
   "execution_count": 9,
   "metadata": {},
   "outputs": [
    {
     "data": {
      "text/plain": [
       "array([[1., 0., 0.],\n",
       "       [0., 1., 0.],\n",
       "       [0., 0., 1.]])"
      ]
     },
     "execution_count": 9,
     "metadata": {},
     "output_type": "execute_result"
    }
   ],
   "source": [
    "# create an identity matrix\n",
    "z = np.eye(3)\n",
    "z"
   ]
  },
  {
   "cell_type": "code",
   "execution_count": 10,
   "metadata": {},
   "outputs": [
    {
     "data": {
      "text/plain": [
       "array([[1, 2],\n",
       "       [3, 4]])"
      ]
     },
     "execution_count": 10,
     "metadata": {},
     "output_type": "execute_result"
    }
   ],
   "source": [
    "# create ndarray from a list of lists\n",
    "z = np.array([[1, 2], [3, 4]])\n",
    "z"
   ]
  },
  {
   "cell_type": "code",
   "execution_count": 11,
   "metadata": {},
   "outputs": [
    {
     "data": {
      "text/plain": [
       "array([4, 3, 2, 1])"
      ]
     },
     "execution_count": 11,
     "metadata": {},
     "output_type": "execute_result"
    }
   ],
   "source": [
    "a = np.array((4, 3, 2, 1))\n",
    "a"
   ]
  },
  {
   "cell_type": "code",
   "execution_count": 12,
   "metadata": {},
   "outputs": [
    {
     "data": {
      "text/plain": [
       "10"
      ]
     },
     "execution_count": 12,
     "metadata": {},
     "output_type": "execute_result"
    }
   ],
   "source": [
    "a.sum()"
   ]
  },
  {
   "cell_type": "code",
   "execution_count": 13,
   "metadata": {},
   "outputs": [
    {
     "data": {
      "text/plain": [
       "2.5"
      ]
     },
     "execution_count": 13,
     "metadata": {},
     "output_type": "execute_result"
    }
   ],
   "source": [
    "a.mean()"
   ]
  },
  {
   "cell_type": "code",
   "execution_count": 14,
   "metadata": {},
   "outputs": [
    {
     "data": {
      "text/plain": [
       "1.2909944487358056"
      ]
     },
     "execution_count": 14,
     "metadata": {},
     "output_type": "execute_result"
    }
   ],
   "source": [
    "a.std(ddof=1)  # unbiased sample std estimator"
   ]
  },
  {
   "cell_type": "code",
   "execution_count": 15,
   "metadata": {},
   "outputs": [
    {
     "data": {
      "text/plain": [
       "4"
      ]
     },
     "execution_count": 15,
     "metadata": {},
     "output_type": "execute_result"
    }
   ],
   "source": [
    "a.max()  # maximum value"
   ]
  },
  {
   "cell_type": "code",
   "execution_count": 16,
   "metadata": {},
   "outputs": [
    {
     "data": {
      "text/plain": [
       "0"
      ]
     },
     "execution_count": 16,
     "metadata": {},
     "output_type": "execute_result"
    }
   ],
   "source": [
    "a.argmax()  # index of the maximum value"
   ]
  },
  {
   "cell_type": "code",
   "execution_count": 17,
   "metadata": {},
   "outputs": [
    {
     "data": {
      "text/plain": [
       "array([ 4,  7,  9, 10])"
      ]
     },
     "execution_count": 17,
     "metadata": {},
     "output_type": "execute_result"
    }
   ],
   "source": [
    "a.cumsum()  # cumulative sum of elements of a"
   ]
  },
  {
   "cell_type": "code",
   "execution_count": 18,
   "metadata": {},
   "outputs": [
    {
     "data": {
      "text/plain": [
       "array([ 4, 12, 24, 24])"
      ]
     },
     "execution_count": 18,
     "metadata": {},
     "output_type": "execute_result"
    }
   ],
   "source": [
    "a.cumprod()  # cumulative product of elements of a"
   ]
  },
  {
   "cell_type": "code",
   "execution_count": 19,
   "metadata": {},
   "outputs": [
    {
     "data": {
      "text/plain": [
       "1.25"
      ]
     },
     "execution_count": 19,
     "metadata": {},
     "output_type": "execute_result"
    }
   ],
   "source": [
    "a.var()  # biased estimator of a"
   ]
  },
  {
   "cell_type": "code",
   "execution_count": 20,
   "metadata": {},
   "outputs": [
    {
     "data": {
      "text/plain": [
       "array([[4, 3],\n",
       "       [2, 1]])"
      ]
     },
     "execution_count": 20,
     "metadata": {},
     "output_type": "execute_result"
    }
   ],
   "source": [
    "a.shape = (2, 2)\n",
    "a"
   ]
  },
  {
   "cell_type": "code",
   "execution_count": 21,
   "metadata": {},
   "outputs": [
    {
     "data": {
      "text/plain": [
       "array([[4, 2],\n",
       "       [3, 1]])"
      ]
     },
     "execution_count": 21,
     "metadata": {},
     "output_type": "execute_result"
    }
   ],
   "source": [
    "a.T  # transpose the array. Equivalent to a.transpose()"
   ]
  },
  {
   "cell_type": "markdown",
   "metadata": {},
   "source": [
    "If z is a nondecreasing array, then z.searchsorted(a) returns the index of the first element of z that is >= a"
   ]
  },
  {
   "cell_type": "code",
   "execution_count": 22,
   "metadata": {},
   "outputs": [
    {
     "data": {
      "text/plain": [
       "array([2. , 2.5, 3. , 3.5, 4. ])"
      ]
     },
     "execution_count": 22,
     "metadata": {},
     "output_type": "execute_result"
    }
   ],
   "source": [
    "z = np.linspace(2, 4, 5)\n",
    "z"
   ]
  },
  {
   "cell_type": "code",
   "execution_count": 23,
   "metadata": {},
   "outputs": [
    {
     "data": {
      "text/plain": [
       "1"
      ]
     },
     "execution_count": 23,
     "metadata": {},
     "output_type": "execute_result"
    }
   ],
   "source": [
    "z.searchsorted(2.2)"
   ]
  },
  {
   "cell_type": "markdown",
   "metadata": {},
   "source": [
    "In NumPy, the operators $+, -, *, /, **$ all act **elementwise** on arrays !!"
   ]
  },
  {
   "cell_type": "code",
   "execution_count": 24,
   "metadata": {},
   "outputs": [
    {
     "data": {
      "text/plain": [
       "array([[1., 1.],\n",
       "       [1., 1.]])"
      ]
     },
     "execution_count": 24,
     "metadata": {},
     "output_type": "execute_result"
    }
   ],
   "source": [
    "A = np.ones((2, 2))\n",
    "B = np.ones((2, 2))\n",
    "A"
   ]
  },
  {
   "cell_type": "code",
   "execution_count": 25,
   "metadata": {},
   "outputs": [
    {
     "data": {
      "text/plain": [
       "array([[1., 1.],\n",
       "       [1., 1.]])"
      ]
     },
     "execution_count": 25,
     "metadata": {},
     "output_type": "execute_result"
    }
   ],
   "source": [
    "B"
   ]
  },
  {
   "cell_type": "code",
   "execution_count": 26,
   "metadata": {},
   "outputs": [
    {
     "data": {
      "text/plain": [
       "array([[2., 2.],\n",
       "       [2., 2.]])"
      ]
     },
     "execution_count": 26,
     "metadata": {},
     "output_type": "execute_result"
    }
   ],
   "source": [
    "A + B"
   ]
  },
  {
   "cell_type": "code",
   "execution_count": 27,
   "metadata": {},
   "outputs": [
    {
     "data": {
      "text/plain": [
       "array([[1., 1.],\n",
       "       [1., 1.]])"
      ]
     },
     "execution_count": 27,
     "metadata": {},
     "output_type": "execute_result"
    }
   ],
   "source": [
    "A * B  # Notice this is NOT the dot product, but an elementwise operation"
   ]
  },
  {
   "cell_type": "code",
   "execution_count": 28,
   "metadata": {},
   "outputs": [
    {
     "data": {
      "text/plain": [
       "array([[11., 11.],\n",
       "       [11., 11.]])"
      ]
     },
     "execution_count": 28,
     "metadata": {},
     "output_type": "execute_result"
    }
   ],
   "source": [
    "A + 10"
   ]
  },
  {
   "cell_type": "markdown",
   "metadata": {},
   "source": [
    "We can use **@** symbol for matrix vector products (inner products)"
   ]
  },
  {
   "cell_type": "code",
   "execution_count": 29,
   "metadata": {},
   "outputs": [
    {
     "data": {
      "text/plain": [
       "array([[2., 2.],\n",
       "       [2., 2.]])"
      ]
     },
     "execution_count": 29,
     "metadata": {},
     "output_type": "execute_result"
    }
   ],
   "source": [
    "A @ B"
   ]
  },
  {
   "cell_type": "code",
   "execution_count": 30,
   "metadata": {},
   "outputs": [
    {
     "data": {
      "text/plain": [
       "array([[1., 1.],\n",
       "       [1., 1.]])"
      ]
     },
     "execution_count": 30,
     "metadata": {},
     "output_type": "execute_result"
    }
   ],
   "source": [
    "A @ np.eye(2)"
   ]
  },
  {
   "cell_type": "code",
   "execution_count": 31,
   "metadata": {},
   "outputs": [
    {
     "data": {
      "text/plain": [
       "6"
      ]
     },
     "execution_count": 31,
     "metadata": {},
     "output_type": "execute_result"
    }
   ],
   "source": [
    "a = np.array((1, 2, 3))\n",
    "b = np.array((1, 1, 1))\n",
    "a @ b  # dot product of a and b"
   ]
  },
  {
   "cell_type": "markdown",
   "metadata": {},
   "source": [
    "## Broadcasting in NumPy ##"
   ]
  },
  {
   "cell_type": "markdown",
   "metadata": {},
   "source": [
    "In element-wise operations, arrays may not have the same shape.\n",
    "\n",
    "When this happens, NumPy will automatically expand arrays to the same shape whenever possible.\n",
    "\n",
    "This useful (but sometimes confusing) feature in NumPy is called **broadcasting**."
   ]
  },
  {
   "cell_type": "markdown",
   "metadata": {},
   "source": [
    "In NumPy element-wise matrix-vector sums or products, unlike in linear algebra, if vector $\\underline{b}$ is dimensionless (where something like shape.b = (3, )) then vector $\\underline{b}$ is broadcasted as **rows** of a 3x3 matrix !!!"
   ]
  },
  {
   "cell_type": "code",
   "execution_count": 32,
   "metadata": {},
   "outputs": [
    {
     "data": {
      "text/plain": [
       "array([[ 4,  8, 12],\n",
       "       [ 7, 11, 15],\n",
       "       [10, 14, 18]])"
      ]
     },
     "execution_count": 32,
     "metadata": {},
     "output_type": "execute_result"
    }
   ],
   "source": [
    "a = np.array(\n",
    "        [[1, 2, 3], \n",
    "         [4, 5, 6], \n",
    "         [7, 8, 9]])\n",
    "b = np.array([3, 6, 9])  # shape.b == (3,)  where b is dimensionless\n",
    "\n",
    "a + b\n",
    "\n",
    "# NumPy will automatically expand b -> (3,) to b -> (3, 3) where b = [3 6 9]\n",
    "#                                                                    [3 6 9]\n",
    "#                                                                    [3 6 9]"
   ]
  },
  {
   "cell_type": "markdown",
   "metadata": {},
   "source": [
    "However, if it is explicitly a column vector where shape.b = (3, 1), then it is broadcasted as **columns** of a 3x3 matrix !!"
   ]
  },
  {
   "cell_type": "code",
   "execution_count": 33,
   "metadata": {},
   "outputs": [
    {
     "data": {
      "text/plain": [
       "array([[3],\n",
       "       [6],\n",
       "       [9]])"
      ]
     },
     "execution_count": 33,
     "metadata": {},
     "output_type": "execute_result"
    }
   ],
   "source": [
    "b.shape = (3, 1)\n",
    "b"
   ]
  },
  {
   "cell_type": "code",
   "execution_count": 34,
   "metadata": {},
   "outputs": [
    {
     "data": {
      "text/plain": [
       "array([[ 4,  5,  6],\n",
       "       [10, 11, 12],\n",
       "       [16, 17, 18]])"
      ]
     },
     "execution_count": 34,
     "metadata": {},
     "output_type": "execute_result"
    }
   ],
   "source": [
    "a + b\n",
    "\n",
    "# NumPy will automatically expand b -> (3,) to b -> (3, 3) where b = [3 3 3]\n",
    "#                                                                    [6 6 6]\n",
    "#                                                                    [9 9 9]"
   ]
  },
  {
   "cell_type": "markdown",
   "metadata": {},
   "source": [
    "The previous broadcasting operation is equivalent to the following for loop:"
   ]
  },
  {
   "cell_type": "code",
   "execution_count": 35,
   "metadata": {},
   "outputs": [
    {
     "data": {
      "text/plain": [
       "array([[ 4.,  5.,  6.],\n",
       "       [10., 11., 12.],\n",
       "       [16., 17., 18.]])"
      ]
     },
     "execution_count": 35,
     "metadata": {},
     "output_type": "execute_result"
    }
   ],
   "source": [
    "rows, columns = a.shape\n",
    "result = np.empty((3, 3))\n",
    "for i in range(rows):\n",
    "    for j in range(columns):\n",
    "        result[i, j] = a[i, j] + b[i]\n",
    "\n",
    "result"
   ]
  },
  {
   "cell_type": "code",
   "execution_count": 36,
   "metadata": {},
   "outputs": [
    {
     "data": {
      "text/plain": [
       "array([[ 5,  8, 11],\n",
       "       [ 6,  9, 12],\n",
       "       [ 7, 10, 13]])"
      ]
     },
     "execution_count": 36,
     "metadata": {},
     "output_type": "execute_result"
    }
   ],
   "source": [
    "a = np.array([3, 6, 9])  # a is dimensionless.  a.shape == (3,)\n",
    "b = np.array([2, 3, 4]) \n",
    "b.shape = (3, 1)  # b is a column vector.  b.shape == (3, 1)\n",
    "\n",
    "a + b\n",
    "\n",
    "# a is broadcasted as if it's a row vector: a = [3  6  9]\n",
    "#                                               [3  6  9]\n",
    "#                                               [3  6  9]\n",
    "\n",
    "# However because b.shape == (3,1); b is broadcasted as a column vector: b = [2  2  2]\n",
    "#                                                                            [3  3  3]\n",
    "#                                                                            [4  4  4]\n",
    "\n",
    "# So the result of a + b == [5  8  11]\n",
    "#                           [6  9  12]\n",
    "#                           [7  10  13]"
   ]
  },
  {
   "cell_type": "markdown",
   "metadata": {},
   "source": [
    "## List of Rules for Broadcasting in NumPy: ##"
   ]
  },
  {
   "cell_type": "markdown",
   "metadata": {},
   "source": [
    "### **Step 1:** When the dimensions of two arrays do not match, NumPy will expand the one with fewer dimensions by adding dimension(s) on the left of the existing dimensions: ###\n",
    "\n",
    "* For example, if a -> (3, 3) and b -> (3,), then broadcasting will add a dimension to the left so that b -> (1, 3); Thus, *dimensionless vectors **always** get broadcasted to row vectors*\n",
    "\n",
    "* If a -> (2, 2, 2) and b -> (2, 2), then broadcasting will add a dimension to the left so that b -> (1, 2, 2);\n",
    "\n",
    "* If a -> (3, 2, 2) and b -> (2,), then broadcasting will add two dimensions to the left so that b -> (1, 1, 2) (you can also see this process as going through Step 1 twice)."
   ]
  },
  {
   "cell_type": "markdown",
   "metadata": {},
   "source": [
    "### **Step 2:** When the two arrays have the same dimension but different shapes, NumPy will try to expand dimensions where the shape index is 1: ###\n",
    "\n",
    "* For example, if a -> (1, 3) and b -> (3, 1), then broadcasting will expand dimensions with shape 1 in both a and b so that a -> (3, 3) and b -> (3, 3);\n",
    "\n",
    "* If a -> (2, 2, 2) and b -> (1, 2, 2), then broadcasting will expand the first dimension of b so that b -> (2, 2, 2);\n",
    "\n",
    "* If a -> (3, 2, 2) and b -> (1, 1, 2), then broadcasting will expand b on all dimensions with shape 1 so that b -> (3, 2, 2)."
   ]
  },
  {
   "cell_type": "markdown",
   "metadata": {},
   "source": [
    "### Step 3: After Step 1 and 2, if the two arrays still do not match, a ValueError will be raised. For example, suppose a -> (2, 2, 3) and b -> (2, 2) ###\n",
    "\n",
    "* By Step 1, b will be expanded to b -> (1, 2, 2);\n",
    "\n",
    "* By Step 2, b will be expanded to b -> (2, 2, 2);\n",
    "\n",
    "* We can see that they do not match each other after the first two steps. Thus, a ValueError will be raised"
   ]
  },
  {
   "cell_type": "code",
   "execution_count": 37,
   "metadata": {},
   "outputs": [
    {
     "name": "stdout",
     "output_type": "stream",
     "text": [
      "the shape of array a is (2, 2, 2)\n",
      "the shape of array b is (2, 2)\n"
     ]
    },
    {
     "data": {
      "text/plain": [
       "array([[[ 2,  9],\n",
       "        [ 9,  4]],\n",
       "\n",
       "       [[ 3, 10],\n",
       "        [10,  5]]])"
      ]
     },
     "execution_count": 37,
     "metadata": {},
     "output_type": "execute_result"
    }
   ],
   "source": [
    "# a -> (2, 2, 2) and  b gets broadcasted to b -> (1, 2, 2)\n",
    "\n",
    "a = np.array(\n",
    "    [[[1, 2], \n",
    "      [2, 3]], \n",
    "\n",
    "     [[2, 3], \n",
    "      [3, 4]]])\n",
    "print(f'the shape of array a is {a.shape}')\n",
    "\n",
    "b = np.array(\n",
    "    [[1,7],\n",
    "     [7,1]])\n",
    "print(f'the shape of array b is {b.shape}')\n",
    "\n",
    "a + b"
   ]
  },
  {
   "cell_type": "markdown",
   "metadata": {},
   "source": [
    "## Vectorized Functions in NumPy ##"
   ]
  },
  {
   "cell_type": "markdown",
   "metadata": {},
   "source": [
    "NumPy provides versions of the standard functions log, exp, sin, etc. that act element-wise on arrays:"
   ]
  },
  {
   "cell_type": "code",
   "execution_count": 38,
   "metadata": {},
   "outputs": [
    {
     "data": {
      "text/plain": [
       "array([0.84147098, 0.90929743, 0.14112001])"
      ]
     },
     "execution_count": 38,
     "metadata": {},
     "output_type": "execute_result"
    }
   ],
   "source": [
    "z = np.array([1, 2, 3])\n",
    "np.sin(z)  # np.sin() function acts element-wise on the array (no need for loops). In NumPy-speak, they are also called ufuncs, which stands for “universal functions”."
   ]
  },
  {
   "cell_type": "code",
   "execution_count": 39,
   "metadata": {},
   "outputs": [
    {
     "data": {
      "text/plain": [
       "array([ 0.37489558, -0.76800347, -0.60322142,  1.12066809])"
      ]
     },
     "execution_count": 39,
     "metadata": {},
     "output_type": "execute_result"
    }
   ],
   "source": [
    "x = np.random.randn(4)\n",
    "x"
   ]
  },
  {
   "cell_type": "code",
   "execution_count": 40,
   "metadata": {},
   "outputs": [
    {
     "data": {
      "text/plain": [
       "array([1, 0, 0, 1])"
      ]
     },
     "execution_count": 40,
     "metadata": {},
     "output_type": "execute_result"
    }
   ],
   "source": [
    "np.where(x > 0, 1, 0)  # Insert 1 if x > 0 true, otherwise 0"
   ]
  },
  {
   "cell_type": "code",
   "execution_count": 41,
   "metadata": {},
   "outputs": [
    {
     "data": {
      "text/plain": [
       "array([1, 0, 0, 1])"
      ]
     },
     "execution_count": 41,
     "metadata": {},
     "output_type": "execute_result"
    }
   ],
   "source": [
    "def f(x):  # scalar function\n",
    "    return 1 if x > 0 else 0\n",
    "\n",
    "# to vectorize it, we can use np.vectorize()\n",
    "f = np.vectorize(f)\n",
    "f(x)                # Passing the same vector x as in the previous example"
   ]
  },
  {
   "cell_type": "markdown",
   "metadata": {},
   "source": [
    "## Comparisons on NumPy ##"
   ]
  },
  {
   "cell_type": "markdown",
   "metadata": {},
   "source": [
    "Comparisons are done element-wise on NumPy:"
   ]
  },
  {
   "cell_type": "code",
   "execution_count": 42,
   "metadata": {},
   "outputs": [
    {
     "data": {
      "text/plain": [
       "array([ True,  True])"
      ]
     },
     "execution_count": 42,
     "metadata": {},
     "output_type": "execute_result"
    }
   ],
   "source": [
    "y = np.array([2, 3])\n",
    "z = np.array([2, 3])\n",
    "y == z"
   ]
  },
  {
   "cell_type": "code",
   "execution_count": 43,
   "metadata": {},
   "outputs": [
    {
     "data": {
      "text/plain": [
       "array([False,  True])"
      ]
     },
     "execution_count": 43,
     "metadata": {},
     "output_type": "execute_result"
    }
   ],
   "source": [
    "y[0] = 5  # mutate the first element of y\n",
    "y == z"
   ]
  },
  {
   "cell_type": "code",
   "execution_count": 44,
   "metadata": {},
   "outputs": [
    {
     "data": {
      "text/plain": [
       "array([ 0. ,  2.5,  5. ,  7.5, 10. ])"
      ]
     },
     "execution_count": 44,
     "metadata": {},
     "output_type": "execute_result"
    }
   ],
   "source": [
    "z = np.linspace(0, 10, 5)\n",
    "z"
   ]
  },
  {
   "cell_type": "code",
   "execution_count": 45,
   "metadata": {},
   "outputs": [
    {
     "data": {
      "text/plain": [
       "array([False, False,  True,  True,  True])"
      ]
     },
     "execution_count": 45,
     "metadata": {},
     "output_type": "execute_result"
    }
   ],
   "source": [
    "b = z > 3\n",
    "b"
   ]
  },
  {
   "cell_type": "code",
   "execution_count": 46,
   "metadata": {},
   "outputs": [
    {
     "data": {
      "text/plain": [
       "array([ 5. ,  7.5, 10. ])"
      ]
     },
     "execution_count": 46,
     "metadata": {},
     "output_type": "execute_result"
    }
   ],
   "source": [
    "z[b]"
   ]
  },
  {
   "cell_type": "code",
   "execution_count": 47,
   "metadata": {},
   "outputs": [
    {
     "data": {
      "text/plain": [
       "array([ 5. ,  7.5, 10. ])"
      ]
     },
     "execution_count": 47,
     "metadata": {},
     "output_type": "execute_result"
    }
   ],
   "source": [
    "# Easier, one step conditional slicing:\n",
    "z[z > 3]"
   ]
  },
  {
   "cell_type": "code",
   "execution_count": 48,
   "metadata": {},
   "outputs": [],
   "source": [
    "%matplotlib inline\n",
    "import matplotlib.pyplot as plt\n",
    "plt.rcParams['figure.figsize'] = (10,6)\n",
    "from datetime import datetime as dt"
   ]
  },
  {
   "cell_type": "markdown",
   "metadata": {},
   "source": [
    "### Exercise 9.1 ###"
   ]
  },
  {
   "cell_type": "code",
   "execution_count": 49,
   "metadata": {},
   "outputs": [],
   "source": [
    "# My method\n",
    "def p(x, coef):\n",
    "    \"\"\"\n",
    "\n",
    "    Args:\n",
    "        x (float): value of the input x\n",
    "        coef (numpy array): array of coefficient values from a_0 to a_n\n",
    "    \"\"\"\n",
    "    start = dt.now()\n",
    "    \n",
    "    n = len(coef)\n",
    "    powarr = np.linspace(0, n-1, n, dtype=int)\n",
    "    \n",
    "    end = dt.now()\n",
    "    runtime = (end - start).total_seconds()\n",
    "    print(f\"My runtime = {runtime * 1000:.2f} ms\")\n",
    "    \n",
    "    return (coef * (x**powarr)).sum()"
   ]
  },
  {
   "cell_type": "code",
   "execution_count": 50,
   "metadata": {},
   "outputs": [
    {
     "name": "stdout",
     "output_type": "stream",
     "text": [
      "My runtime = 0.10 ms\n"
     ]
    },
    {
     "data": {
      "text/plain": [
       "24.0"
      ]
     },
     "execution_count": 50,
     "metadata": {},
     "output_type": "execute_result"
    }
   ],
   "source": [
    "x = 2\n",
    "coef = np.linspace(2, 4, 3)\n",
    "\n",
    "p(x, coef)"
   ]
  },
  {
   "cell_type": "code",
   "execution_count": 51,
   "metadata": {},
   "outputs": [
    {
     "name": "stdout",
     "output_type": "stream",
     "text": [
      "[2. 3. 4.]\n",
      "My runtime = 0.29 ms\n",
      "24.0\n",
      "24.0\n"
     ]
    }
   ],
   "source": [
    "# let's test\n",
    "x = 2\n",
    "coef = np.linspace(2, 4, 3)\n",
    "print(coef)\n",
    "print(p(x, coef))\n",
    "# For comparison\n",
    "q = np.poly1d(np.flip(coef))\n",
    "print(q(x))"
   ]
  },
  {
   "cell_type": "code",
   "execution_count": 52,
   "metadata": {},
   "outputs": [],
   "source": [
    "# Another method (official solution) :\n",
    "def p(x, coef):\n",
    "    start = dt.now()\n",
    "    \n",
    "    X = np.ones_like(coef)\n",
    "    X[1:] = x\n",
    "    y = np.cumprod(X)   # y = [1, x, x**2,...]\n",
    "    \n",
    "    end = dt.now()\n",
    "    runtime = (end - start).total_seconds()\n",
    "    print(f\"Official solution runtime = {runtime * 1000:.2f} ms\")\n",
    "    \n",
    "    return coef @ y"
   ]
  },
  {
   "cell_type": "code",
   "execution_count": 53,
   "metadata": {},
   "outputs": [
    {
     "name": "stdout",
     "output_type": "stream",
     "text": [
      "Official solution runtime = 0.04 ms\n"
     ]
    },
    {
     "data": {
      "text/plain": [
       "24.0"
      ]
     },
     "execution_count": 53,
     "metadata": {},
     "output_type": "execute_result"
    }
   ],
   "source": [
    "x = 2\n",
    "coef = np.linspace(2, 4, 3)\n",
    "\n",
    "p(x, coef)"
   ]
  },
  {
   "cell_type": "markdown",
   "metadata": {},
   "source": [
    "### **My Solution's runtime is worse :((** ###"
   ]
  },
  {
   "cell_type": "markdown",
   "metadata": {},
   "source": [
    "## Exercise 9.2 ##\n",
    "\n",
    "Let q be a NumPy array of length n with q.sum() == 1. \\\n",
    "Suppose that q represents a probability mass function."
   ]
  },
  {
   "cell_type": "code",
   "execution_count": 54,
   "metadata": {},
   "outputs": [],
   "source": [
    "from random import uniform\n",
    "\n",
    "def sample(q):\n",
    "    \"\"\"Draw a random variable U~Uni[0, 1] and return its interval index (0, 1, ..., n-1)\n",
    "\n",
    "    Args:\n",
    "        q (numpy array): probability for intervals I_0, I_1, ..., I_n-1\n",
    "    \"\"\"\n",
    "    a = 0.0\n",
    "    U = uniform(0, 1)\n",
    "    for i in range(len(q)):\n",
    "        if a < U <= a + q[i]:\n",
    "            return i\n",
    "        a = a + q[i]\n",
    "        \n",
    "# Vectore this using NumPy."
   ]
  },
  {
   "cell_type": "code",
   "execution_count": 55,
   "metadata": {},
   "outputs": [],
   "source": [
    "def vecSample(q):\n",
    "    \"\"\"Draw a random variable U~Uni[0, 1] and return its interval index (0, 1, ..., n-1)\n",
    "\n",
    "    Args:\n",
    "        q (numpy array): probability for intervals I_0, I_1, ..., I_n-1\n",
    "    \"\"\"\n",
    "    assert abs(q.sum() - 0.01) <= 1, \"q is not a valid probability measure.\"\n",
    "    U = uniform(0, 1)\n",
    "    return q.cumsum().searchsorted(U)  # index of the first value where the condition (q.cumsum() >= U) is True."
   ]
  },
  {
   "cell_type": "code",
   "execution_count": 56,
   "metadata": {},
   "outputs": [
    {
     "data": {
      "text/plain": [
       "2"
      ]
     },
     "execution_count": 56,
     "metadata": {},
     "output_type": "execute_result"
    }
   ],
   "source": [
    "q = np.array([0.2, 0.3, 0.5])\n",
    "vecSample(q)"
   ]
  },
  {
   "cell_type": "code",
   "execution_count": 57,
   "metadata": {},
   "outputs": [
    {
     "data": {
      "text/plain": [
       "(array([200.,   0.,   0.,   0.,   0., 318.,   0.,   0.,   0., 482.]),\n",
       " array([0. , 0.2, 0.4, 0.6, 0.8, 1. , 1.2, 1.4, 1.6, 1.8, 2. ]),\n",
       " <BarContainer object of 10 artists>)"
      ]
     },
     "execution_count": 57,
     "metadata": {},
     "output_type": "execute_result"
    },
    {
     "data": {
      "image/png": "[encoded data removed]",
      "text/plain": [
       "<Figure size 720x432 with 1 Axes>"
      ]
     },
     "metadata": {
      "needs_background": "light"
     },
     "output_type": "display_data"
    }
   ],
   "source": [
    "vecSample_array = np.array([vecSample(q) for i in range(1000)])\n",
    "\n",
    "plt.hist(vecSample_array)\n",
    "\n",
    "# Our code seems to be working correctly."
   ]
  },
  {
   "cell_type": "markdown",
   "metadata": {},
   "source": [
    "If you can, implement the functionality as a class called DiscreteRV, where\n",
    "\n",
    "the data for an instance of the class is the vector of probabilities q\n",
    "\n",
    "the class has a draw() method, which returns one draw according to the algorithm described above\n",
    "\n",
    "If you can, write the method so that draw(k) returns k draws from q."
   ]
  },
  {
   "cell_type": "code",
   "execution_count": 58,
   "metadata": {},
   "outputs": [],
   "source": [
    "class DiscreteRV(object):\n",
    "    def __init__(self, q, drawmethod=vecSample):\n",
    "        self.q = q\n",
    "        self.drawmethod = drawmethod\n",
    "    \n",
    "    def draw_one(self):\n",
    "        return self.drawmethod(q)\n",
    "    \n",
    "    def draw(self, k):\n",
    "        \"\"\"Draws k values according to drawmethod. Returns the drawn values in a numpy array.\n",
    "\n",
    "        Args:\n",
    "            k (int): number of draws\n",
    "        \"\"\"\n",
    "        return np.array([self.drawmethod(q) for i in range(k)])"
   ]
  },
  {
   "cell_type": "code",
   "execution_count": 59,
   "metadata": {},
   "outputs": [],
   "source": [
    "q = np.array([0.3, 0.3, 0.3, 0.1])\n",
    "myRV = DiscreteRV(q)"
   ]
  },
  {
   "cell_type": "code",
   "execution_count": 60,
   "metadata": {},
   "outputs": [
    {
     "data": {
      "text/plain": [
       "array([0, 0, 2, 1, 2, 2, 3, 0, 1, 0])"
      ]
     },
     "execution_count": 60,
     "metadata": {},
     "output_type": "execute_result"
    }
   ],
   "source": [
    "myRV.draw(10)"
   ]
  },
  {
   "cell_type": "markdown",
   "metadata": {},
   "source": [
    "### Exercise 9.4 ###"
   ]
  },
  {
   "cell_type": "markdown",
   "metadata": {},
   "source": [
    "Part1: Try to replicate this simple example using for loops and compare your results with the broadcasting operation below:"
   ]
  },
  {
   "cell_type": "code",
   "execution_count": 61,
   "metadata": {},
   "outputs": [
    {
     "name": "stdout",
     "output_type": "stream",
     "text": [
      "[[-0.49214189  0.45607819  0.28183596 -3.90043439]\n",
      " [-0.26229311  0.75518888 -2.41688145 -1.11063629]\n",
      " [ 0.57387869 -0.39635354 -0.67614513 -0.2452416 ]\n",
      " [ 0.676082   -0.29216483 -0.44218937 -1.12471925]]\n"
     ]
    }
   ],
   "source": [
    "np.random.seed(123)\n",
    "x = np.random.randn(4, 4)\n",
    "y = np.random.randn(4)  # Here y will be broadcasted to a row vector y -> (1, 4)\n",
    "A = x / y\n",
    "print(A)"
   ]
  },
  {
   "cell_type": "code",
   "execution_count": 62,
   "metadata": {},
   "outputs": [
    {
     "name": "stdout",
     "output_type": "stream",
     "text": [
      "[[-0.49214189  0.45607819  0.28183596 -3.90043439]\n",
      " [-0.26229311  0.75518888 -2.41688145 -1.11063629]\n",
      " [ 0.57387869 -0.39635354 -0.67614513 -0.2452416 ]\n",
      " [ 0.676082   -0.29216483 -0.44218937 -1.12471925]]\n"
     ]
    }
   ],
   "source": [
    "# My solution:\n",
    "np.random.seed(123)\n",
    "x = np.random.randn(4, 4)\n",
    "y = np.random.randn(4)\n",
    "\n",
    "A = np.zeros((4, 4))\n",
    "\n",
    "for i in range(x.shape[0]):  # iterate over rows of x\n",
    "    for j in range(x.shape[1]):  # iterate over cols of x\n",
    "        A[i, j] = x[i, j] / y[j]\n",
    "\n",
    "print(A)"
   ]
  },
  {
   "cell_type": "markdown",
   "metadata": {},
   "source": [
    "Part2: Move on to replicate the result of the following broadcasting operation. Meanwhile, compare the speeds of broadcasting and the for loop you implement:"
   ]
  },
  {
   "cell_type": "code",
   "execution_count": 63,
   "metadata": {},
   "outputs": [
    {
     "name": "stdout",
     "output_type": "stream",
     "text": [
      "TOC: Elapsed: 0:00:0.10\n"
     ]
    },
    {
     "data": {
      "text/plain": [
       "0.10434937477111816"
      ]
     },
     "execution_count": 63,
     "metadata": {},
     "output_type": "execute_result"
    }
   ],
   "source": [
    "import quantecon as qe\n",
    "\n",
    "np.random.seed(123)\n",
    "x = np.random.randn(1000, 100, 100)\n",
    "y = np.random.randn(100)\n",
    "\n",
    "qe.tic()\n",
    "B = x / y\n",
    "qe.toc()"
   ]
  },
  {
   "cell_type": "code",
   "execution_count": 64,
   "metadata": {},
   "outputs": [
    {
     "name": "stdout",
     "output_type": "stream",
     "text": [
      "TOC: Elapsed: 0:00:5.18\n"
     ]
    },
    {
     "data": {
      "text/plain": [
       "5.1878674030303955"
      ]
     },
     "execution_count": 64,
     "metadata": {},
     "output_type": "execute_result"
    }
   ],
   "source": [
    "# My solution\n",
    "np.random.seed(123)\n",
    "x = np.random.randn(1000, 100, 100)\n",
    "y = np.random.randn(100)  # Here y will be broadcasted to a vector y -> (1, 1, 100)\n",
    "\n",
    "qe.tic()\n",
    "\n",
    "A = np.zeros((1000, 100, 100))\n",
    "for k in range(x.shape[0]):  # iterate over depth of x\n",
    "    for i in range(x.shape[1]):  # iterate over rows of x\n",
    "        for j in range(x.shape[2]):  # iterate over rows of x\n",
    "            A[k, i, j] = x[k, i, j] / y[j]\n",
    "\n",
    "qe.toc()"
   ]
  },
  {
   "cell_type": "markdown",
   "metadata": {},
   "source": [
    "for loop has way worse runtime than vectorized broadcasting in NumPy"
   ]
  },
  {
   "cell_type": "code",
   "execution_count": 65,
   "metadata": {},
   "outputs": [
    {
     "name": "stdout",
     "output_type": "stream",
     "text": [
      "[[[ 1.85764005 -0.89419976  0.24485371 ... -3.04214618  0.17711597\n",
      "   -0.22643801]\n",
      "  [-1.09863014  1.77333433  0.61630351 ... -0.24732757 -0.15931155\n",
      "   -0.13015397]\n",
      "  [-1.20344529  0.53624915  1.90420857 ...  0.92748804  0.07494711\n",
      "    0.48954772]\n",
      "  ...\n",
      "  [-1.09763323  0.68632802 -1.21568707 ... -3.87025031 -0.19456046\n",
      "    0.18331773]\n",
      "  [-0.47546852 -0.16883695  2.92991418 ... -0.05967182 -0.20796073\n",
      "   -0.49082994]\n",
      "  [ 1.14380091  1.93460538 -0.76305492 ... -1.0537099   0.27167901\n",
      "    0.57963424]]\n",
      "\n",
      " [[ 2.12344323  0.28058176 -0.73457091 ...  3.55049699  0.59737154\n",
      "   -0.31414907]\n",
      "  [ 1.40074417 -0.09113173  0.50276294 ... -1.85572391  0.13914077\n",
      "   -0.93776321]\n",
      "  [ 2.35739042 -0.79089649  0.20835615 ... -0.11001198  0.86250367\n",
      "   -1.26949634]\n",
      "  ...\n",
      "  [ 2.11831946  0.15242396 -0.17269536 ...  0.03469371 -0.06074779\n",
      "    0.10114045]\n",
      "  [-0.08300138  0.47232405 -0.89930099 ...  0.66104947 -0.45183377\n",
      "   -1.05885526]\n",
      "  [ 0.282155   -1.44848315 -1.25832989 ... -3.12998376  0.48762406\n",
      "    0.22052869]]\n",
      "\n",
      " [[-1.76517625 -1.19419485  0.08293115 ...  0.7919151  -0.03812759\n",
      "   -1.19540255]\n",
      "  [-0.66639955  0.16580616 -0.32083535 ...  0.72351825 -0.72239583\n",
      "   -0.46386281]\n",
      "  [-0.45163238 -1.5262587  -0.38541194 ...  1.82015759  0.23151272\n",
      "    0.81609303]\n",
      "  ...\n",
      "  [ 1.14317214 -0.60571044 -0.74962613 ... -3.13330221  0.61817627\n",
      "    0.37738869]\n",
      "  [-0.65686356  0.41024983  0.2700362  ... -0.08588743  0.20408508\n",
      "    0.33667429]\n",
      "  [-0.43851304  0.58339651 -0.9076869  ... -2.55408527 -0.22112928\n",
      "    0.9912754 ]]\n",
      "\n",
      " ...\n",
      "\n",
      " [[ 1.13470002 -0.20836287 -0.50483798 ...  0.32733859 -0.32203002\n",
      "    0.43385307]\n",
      "  [-0.11763272 -0.77698937 -0.46659376 ...  2.01256989 -0.19222608\n",
      "   -0.48021737]\n",
      "  [ 0.89558661  0.93447059  0.35386499 ... -1.2218747   0.42826019\n",
      "    0.73980809]\n",
      "  ...\n",
      "  [-0.30040698 -1.14758822 -1.2785068  ...  3.9600491  -0.25830068\n",
      "   -1.09906439]\n",
      "  [-2.89569174 -0.67988752 -0.26342148 ...  0.62855881  0.05570693\n",
      "   -0.05084807]\n",
      "  [ 0.87738281 -2.37555322  1.66177996 ...  0.09857952  0.35564132\n",
      "   -1.22140972]]\n",
      "\n",
      " [[-3.31843223  0.19402721  0.87502303 ... -1.47591384 -0.25236749\n",
      "   -0.85281481]\n",
      "  [-2.84794867 -0.31042414  0.43040259 ... -4.01127498  0.06267678\n",
      "   -0.2073196 ]\n",
      "  [-0.47909317 -0.77256923 -0.49818879 ... -0.17526151  0.64720631\n",
      "   -0.06831215]\n",
      "  ...\n",
      "  [ 0.35509683 -0.48189502 -0.18528007 ...  2.03614189 -0.15287291\n",
      "    0.0979404 ]\n",
      "  [-1.20730244 -0.24269721 -0.28048927 ...  0.94378219 -0.21283324\n",
      "   -0.30738091]\n",
      "  [-1.81004008  1.01260185 -0.62311067 ... -0.03158149 -0.36355966\n",
      "    0.43427753]]\n",
      "\n",
      " [[-1.43227284 -0.20319046  1.37271425 ...  2.34113161  0.18025411\n",
      "   -0.247025  ]\n",
      "  [ 0.47792311  0.61186236  0.73460309 ... -1.52671835 -0.10967386\n",
      "   -0.04788996]\n",
      "  [-1.51873339  0.73425213 -0.54033092 ...  0.21434631 -0.31597544\n",
      "   -0.24364054]\n",
      "  ...\n",
      "  [-0.24128379 -0.72604109 -0.36722827 ...  2.20219708  1.04943754\n",
      "   -0.44221604]\n",
      "  [-1.43364744  0.54701702  1.08795598 ...  0.19549939 -0.12604844\n",
      "   -0.74936097]\n",
      "  [-0.59335595  0.46807169 -0.04178975 ... -1.1783837   0.0395992\n",
      "    0.55109001]]]\n"
     ]
    }
   ],
   "source": [
    "print(A)"
   ]
  },
  {
   "cell_type": "code",
   "execution_count": 66,
   "metadata": {},
   "outputs": [
    {
     "name": "stdout",
     "output_type": "stream",
     "text": [
      "True\n"
     ]
    }
   ],
   "source": [
    "print(np.array_equal(A, B))"
   ]
  },
  {
   "cell_type": "markdown",
   "metadata": {},
   "source": [
    "# OPTION DATA AND ATTRIBUTES #"
   ]
  },
  {
   "cell_type": "code",
   "execution_count": 67,
   "metadata": {},
   "outputs": [],
   "source": [
    "import datetime\n",
    "\n",
    "import matplotlib.patches as mpatches\n",
    "import matplotlib.pyplot as plt\n",
    "import pandas as pd\n",
    "import yfinance as yf\n",
    "from yahoo_fin import options"
   ]
  },
  {
   "cell_type": "code",
   "execution_count": 68,
   "metadata": {},
   "outputs": [],
   "source": [
    "# https://medium.com/@txlian13/webscrapping-options-data-with-python-and-yfinance-e4deb0124613\n",
    "\n",
    "\n",
    "def options_chain(symbol):\n",
    "    tk = yf.Ticker(symbol)\n",
    "    # Expiration dates\n",
    "    exps = tk.options\n",
    "\n",
    "    # Get options for each expiration\n",
    "    options = pd.DataFrame()\n",
    "    for e in exps:\n",
    "        opt = tk.option_chain(e)\n",
    "        opt = pd.DataFrame().append(opt.calls).append(opt.puts)\n",
    "        opt[\"expirationDate\"] = e\n",
    "        options = options.append(opt, ignore_index=True)\n",
    "\n",
    "    # Bizarre error in `yfinance` that gives the wrong expiration date\n",
    "    # Add 1 day to get the correct expiration date\n",
    "    options[\"expirationDate\"] = pd.to_datetime(\n",
    "        options[\"expirationDate\"]\n",
    "    ) + datetime.timedelta(days=1)\n",
    "    options[\"dte\"] = (\n",
    "        options[\"expirationDate\"] - datetime.datetime.today()\n",
    "    ).dt.days / 365\n",
    "\n",
    "    # Boolean column if the option is a CALL\n",
    "    options[\"CALL\"] = options[\"contractSymbol\"].str[4:].apply(lambda x: \"C\" in x)\n",
    "\n",
    "    # options[['bid', 'ask', 'strike']] = options[['bid', 'ask', 'strike']].apply(pd.to_numeric)\n",
    "    options[[\"bid\", \"ask\", \"strike\", \"volume\", \"Implied Volatility\"]] = options[\n",
    "        [\"bid\", \"ask\", \"strike\", \"volume\", \"Implied Volatility\"]\n",
    "    ].apply(pd.to_numeric)\n",
    "    options[\"mark\"] = (\n",
    "        options[\"bid\"] + options[\"ask\"]\n",
    "    ) / 2  # Calculate the midpoint of the bid-ask\n",
    "\n",
    "    # Drop unnecessary and meaningless columns\n",
    "    options = options.drop(\n",
    "        columns=[\n",
    "            \"contractSize\",\n",
    "            \"currency\",\n",
    "            \"change\",\n",
    "            \"percentChange\",\n",
    "            \"lastTradeDate\",\n",
    "            \"lastPrice\",\n",
    "        ]\n",
    "    )\n",
    "\n",
    "    return options"
   ]
  },
  {
   "cell_type": "code",
   "execution_count": 69,
   "metadata": {},
   "outputs": [
    {
     "data": {
      "text/plain": [
       "['October 6, 2023',\n",
       " 'October 13, 2023',\n",
       " 'October 20, 2023',\n",
       " 'October 27, 2023',\n",
       " 'November 3, 2023',\n",
       " 'November 10, 2023',\n",
       " 'November 17, 2023',\n",
       " 'December 15, 2023',\n",
       " 'January 19, 2024',\n",
       " 'March 15, 2024',\n",
       " 'June 21, 2024',\n",
       " 'September 20, 2024',\n",
       " 'January 17, 2025',\n",
       " 'June 20, 2025',\n",
       " 'December 19, 2025',\n",
       " 'January 16, 2026']"
      ]
     },
     "execution_count": 69,
     "metadata": {},
     "output_type": "execute_result"
    }
   ],
   "source": [
    "nflx_dates = options.get_expiration_dates(\"nflx\")\n",
    "nflx_dates"
   ]
  },
  {
   "cell_type": "code",
   "execution_count": 70,
   "metadata": {},
   "outputs": [
    {
     "ename": "KeyboardInterrupt",
     "evalue": "",
     "output_type": "error",
     "traceback": [
      "\u001b[0;31m---------------------------------------------------------------------------\u001b[0m",
      "\u001b[0;31mKeyboardInterrupt\u001b[0m                         Traceback (most recent call last)",
      "\u001b[1;32m/home/sscf/wqu_mscfe/Financial Data/M4/L3.ipynb Cell 94\u001b[0m line \u001b[0;36m<cell line: 2>\u001b[0;34m()\u001b[0m\n\u001b[1;32m      <a href='vscode-notebook-cell://wsl%2Bubuntu-20.04/home/sscf/wqu_mscfe/Financial%20Data/M4/L3.ipynb#Y162sdnNjb2RlLXJlbW90ZQ%3D%3D?line=0'>1</a>\u001b[0m info \u001b[39m=\u001b[39m {}\n\u001b[1;32m      <a href='vscode-notebook-cell://wsl%2Bubuntu-20.04/home/sscf/wqu_mscfe/Financial%20Data/M4/L3.ipynb#Y162sdnNjb2RlLXJlbW90ZQ%3D%3D?line=1'>2</a>\u001b[0m \u001b[39mfor\u001b[39;00m date \u001b[39min\u001b[39;00m nflx_dates:\n\u001b[0;32m----> <a href='vscode-notebook-cell://wsl%2Bubuntu-20.04/home/sscf/wqu_mscfe/Financial%20Data/M4/L3.ipynb#Y162sdnNjb2RlLXJlbW90ZQ%3D%3D?line=2'>3</a>\u001b[0m     info[date] \u001b[39m=\u001b[39m options\u001b[39m.\u001b[39;49mget_options_chain(\u001b[39m\"\u001b[39;49m\u001b[39mnflx\u001b[39;49m\u001b[39m\"\u001b[39;49m)\n\u001b[1;32m      <a href='vscode-notebook-cell://wsl%2Bubuntu-20.04/home/sscf/wqu_mscfe/Financial%20Data/M4/L3.ipynb#Y162sdnNjb2RlLXJlbW90ZQ%3D%3D?line=3'>4</a>\u001b[0m \u001b[39mtype\u001b[39m(info)\n",
      "File \u001b[0;32m~/.pyenv/versions/3.10.5/lib/python3.10/site-packages/yahoo_fin/options.py:42\u001b[0m, in \u001b[0;36mget_options_chain\u001b[0;34m(ticker, date, raw, headers)\u001b[0m\n\u001b[1;32m     33\u001b[0m \u001b[39m\"\"\"Extracts call / put option tables for input ticker and expiration date.  If\u001b[39;00m\n\u001b[1;32m     34\u001b[0m \u001b[39m   no date is input, the default result will be the earliest expiring\u001b[39;00m\n\u001b[1;32m     35\u001b[0m \u001b[39m   option chain from the current date.\u001b[39;00m\n\u001b[1;32m     36\u001b[0m \u001b[39m\u001b[39;00m\n\u001b[1;32m     37\u001b[0m \u001b[39m   @param: ticker\u001b[39;00m\n\u001b[1;32m     38\u001b[0m \u001b[39m   @param: date\"\"\"\u001b[39;00m    \n\u001b[1;32m     40\u001b[0m site \u001b[39m=\u001b[39m build_options_url(ticker, date)\n\u001b[0;32m---> 42\u001b[0m tables \u001b[39m=\u001b[39m pd\u001b[39m.\u001b[39mread_html(requests\u001b[39m.\u001b[39;49mget(site, headers\u001b[39m=\u001b[39;49mheaders)\u001b[39m.\u001b[39mtext)\n\u001b[1;32m     44\u001b[0m \u001b[39mif\u001b[39;00m \u001b[39mlen\u001b[39m(tables) \u001b[39m==\u001b[39m \u001b[39m1\u001b[39m:\n\u001b[1;32m     45\u001b[0m     calls \u001b[39m=\u001b[39m tables[\u001b[39m0\u001b[39m]\u001b[39m.\u001b[39mcopy()\n",
      "File \u001b[0;32m~/.pyenv/versions/3.10.5/lib/python3.10/site-packages/requests/api.py:73\u001b[0m, in \u001b[0;36mget\u001b[0;34m(url, params, **kwargs)\u001b[0m\n\u001b[1;32m     62\u001b[0m \u001b[39mdef\u001b[39;00m \u001b[39mget\u001b[39m(url, params\u001b[39m=\u001b[39m\u001b[39mNone\u001b[39;00m, \u001b[39m*\u001b[39m\u001b[39m*\u001b[39mkwargs):\n\u001b[1;32m     63\u001b[0m     \u001b[39mr\u001b[39m\u001b[39m\"\"\"Sends a GET request.\u001b[39;00m\n\u001b[1;32m     64\u001b[0m \n\u001b[1;32m     65\u001b[0m \u001b[39m    :param url: URL for the new :class:`Request` object.\u001b[39;00m\n\u001b[0;32m   (...)\u001b[0m\n\u001b[1;32m     70\u001b[0m \u001b[39m    :rtype: requests.Response\u001b[39;00m\n\u001b[1;32m     71\u001b[0m \u001b[39m    \"\"\"\u001b[39;00m\n\u001b[0;32m---> 73\u001b[0m     \u001b[39mreturn\u001b[39;00m request(\u001b[39m\"\u001b[39;49m\u001b[39mget\u001b[39;49m\u001b[39m\"\u001b[39;49m, url, params\u001b[39m=\u001b[39;49mparams, \u001b[39m*\u001b[39;49m\u001b[39m*\u001b[39;49mkwargs)\n",
      "File \u001b[0;32m~/.pyenv/versions/3.10.5/lib/python3.10/site-packages/requests/api.py:59\u001b[0m, in \u001b[0;36mrequest\u001b[0;34m(method, url, **kwargs)\u001b[0m\n\u001b[1;32m     55\u001b[0m \u001b[39m# By using the 'with' statement we are sure the session is closed, thus we\u001b[39;00m\n\u001b[1;32m     56\u001b[0m \u001b[39m# avoid leaving sockets open which can trigger a ResourceWarning in some\u001b[39;00m\n\u001b[1;32m     57\u001b[0m \u001b[39m# cases, and look like a memory leak in others.\u001b[39;00m\n\u001b[1;32m     58\u001b[0m \u001b[39mwith\u001b[39;00m sessions\u001b[39m.\u001b[39mSession() \u001b[39mas\u001b[39;00m session:\n\u001b[0;32m---> 59\u001b[0m     \u001b[39mreturn\u001b[39;00m session\u001b[39m.\u001b[39;49mrequest(method\u001b[39m=\u001b[39;49mmethod, url\u001b[39m=\u001b[39;49murl, \u001b[39m*\u001b[39;49m\u001b[39m*\u001b[39;49mkwargs)\n",
      "File \u001b[0;32m~/.pyenv/versions/3.10.5/lib/python3.10/site-packages/requests/sessions.py:589\u001b[0m, in \u001b[0;36mSession.request\u001b[0;34m(self, method, url, params, data, headers, cookies, files, auth, timeout, allow_redirects, proxies, hooks, stream, verify, cert, json)\u001b[0m\n\u001b[1;32m    584\u001b[0m send_kwargs \u001b[39m=\u001b[39m {\n\u001b[1;32m    585\u001b[0m     \u001b[39m\"\u001b[39m\u001b[39mtimeout\u001b[39m\u001b[39m\"\u001b[39m: timeout,\n\u001b[1;32m    586\u001b[0m     \u001b[39m\"\u001b[39m\u001b[39mallow_redirects\u001b[39m\u001b[39m\"\u001b[39m: allow_redirects,\n\u001b[1;32m    587\u001b[0m }\n\u001b[1;32m    588\u001b[0m send_kwargs\u001b[39m.\u001b[39mupdate(settings)\n\u001b[0;32m--> 589\u001b[0m resp \u001b[39m=\u001b[39m \u001b[39mself\u001b[39;49m\u001b[39m.\u001b[39;49msend(prep, \u001b[39m*\u001b[39;49m\u001b[39m*\u001b[39;49msend_kwargs)\n\u001b[1;32m    591\u001b[0m \u001b[39mreturn\u001b[39;00m resp\n",
      "File \u001b[0;32m~/.pyenv/versions/3.10.5/lib/python3.10/site-packages/requests/sessions.py:747\u001b[0m, in \u001b[0;36mSession.send\u001b[0;34m(self, request, **kwargs)\u001b[0m\n\u001b[1;32m    744\u001b[0m         \u001b[39mpass\u001b[39;00m\n\u001b[1;32m    746\u001b[0m \u001b[39mif\u001b[39;00m \u001b[39mnot\u001b[39;00m stream:\n\u001b[0;32m--> 747\u001b[0m     r\u001b[39m.\u001b[39;49mcontent\n\u001b[1;32m    749\u001b[0m \u001b[39mreturn\u001b[39;00m r\n",
      "File \u001b[0;32m~/.pyenv/versions/3.10.5/lib/python3.10/site-packages/requests/models.py:899\u001b[0m, in \u001b[0;36mResponse.content\u001b[0;34m(self)\u001b[0m\n\u001b[1;32m    897\u001b[0m         \u001b[39mself\u001b[39m\u001b[39m.\u001b[39m_content \u001b[39m=\u001b[39m \u001b[39mNone\u001b[39;00m\n\u001b[1;32m    898\u001b[0m     \u001b[39melse\u001b[39;00m:\n\u001b[0;32m--> 899\u001b[0m         \u001b[39mself\u001b[39m\u001b[39m.\u001b[39m_content \u001b[39m=\u001b[39m \u001b[39mb\u001b[39;49m\u001b[39m\"\u001b[39;49m\u001b[39m\"\u001b[39;49m\u001b[39m.\u001b[39;49mjoin(\u001b[39mself\u001b[39;49m\u001b[39m.\u001b[39;49miter_content(CONTENT_CHUNK_SIZE)) \u001b[39mor\u001b[39;00m \u001b[39mb\u001b[39m\u001b[39m\"\u001b[39m\u001b[39m\"\u001b[39m\n\u001b[1;32m    901\u001b[0m \u001b[39mself\u001b[39m\u001b[39m.\u001b[39m_content_consumed \u001b[39m=\u001b[39m \u001b[39mTrue\u001b[39;00m\n\u001b[1;32m    902\u001b[0m \u001b[39m# don't need to release the connection; that's been handled by urllib3\u001b[39;00m\n\u001b[1;32m    903\u001b[0m \u001b[39m# since we exhausted the data.\u001b[39;00m\n",
      "File \u001b[0;32m~/.pyenv/versions/3.10.5/lib/python3.10/site-packages/requests/models.py:816\u001b[0m, in \u001b[0;36mResponse.iter_content.<locals>.generate\u001b[0;34m()\u001b[0m\n\u001b[1;32m    814\u001b[0m \u001b[39mif\u001b[39;00m \u001b[39mhasattr\u001b[39m(\u001b[39mself\u001b[39m\u001b[39m.\u001b[39mraw, \u001b[39m\"\u001b[39m\u001b[39mstream\u001b[39m\u001b[39m\"\u001b[39m):\n\u001b[1;32m    815\u001b[0m     \u001b[39mtry\u001b[39;00m:\n\u001b[0;32m--> 816\u001b[0m         \u001b[39myield from\u001b[39;00m \u001b[39mself\u001b[39m\u001b[39m.\u001b[39mraw\u001b[39m.\u001b[39mstream(chunk_size, decode_content\u001b[39m=\u001b[39m\u001b[39mTrue\u001b[39;00m)\n\u001b[1;32m    817\u001b[0m     \u001b[39mexcept\u001b[39;00m ProtocolError \u001b[39mas\u001b[39;00m e:\n\u001b[1;32m    818\u001b[0m         \u001b[39mraise\u001b[39;00m ChunkedEncodingError(e)\n",
      "File \u001b[0;32m~/.pyenv/versions/3.10.5/lib/python3.10/site-packages/urllib3/response.py:623\u001b[0m, in \u001b[0;36mHTTPResponse.stream\u001b[0;34m(self, amt, decode_content)\u001b[0m\n\u001b[1;32m    607\u001b[0m \u001b[39m\"\"\"\u001b[39;00m\n\u001b[1;32m    608\u001b[0m \u001b[39mA generator wrapper for the read() method. A call will block until\u001b[39;00m\n\u001b[1;32m    609\u001b[0m \u001b[39m``amt`` bytes have been read from the connection or until the\u001b[39;00m\n\u001b[0;32m   (...)\u001b[0m\n\u001b[1;32m    620\u001b[0m \u001b[39m    'content-encoding' header.\u001b[39;00m\n\u001b[1;32m    621\u001b[0m \u001b[39m\"\"\"\u001b[39;00m\n\u001b[1;32m    622\u001b[0m \u001b[39mif\u001b[39;00m \u001b[39mself\u001b[39m\u001b[39m.\u001b[39mchunked \u001b[39mand\u001b[39;00m \u001b[39mself\u001b[39m\u001b[39m.\u001b[39msupports_chunked_reads():\n\u001b[0;32m--> 623\u001b[0m     \u001b[39mfor\u001b[39;00m line \u001b[39min\u001b[39;00m \u001b[39mself\u001b[39m\u001b[39m.\u001b[39mread_chunked(amt, decode_content\u001b[39m=\u001b[39mdecode_content):\n\u001b[1;32m    624\u001b[0m         \u001b[39myield\u001b[39;00m line\n\u001b[1;32m    625\u001b[0m \u001b[39melse\u001b[39;00m:\n",
      "File \u001b[0;32m~/.pyenv/versions/3.10.5/lib/python3.10/site-packages/urllib3/response.py:818\u001b[0m, in \u001b[0;36mHTTPResponse.read_chunked\u001b[0;34m(self, amt, decode_content)\u001b[0m\n\u001b[1;32m    816\u001b[0m \u001b[39mif\u001b[39;00m \u001b[39mself\u001b[39m\u001b[39m.\u001b[39mchunk_left \u001b[39m==\u001b[39m \u001b[39m0\u001b[39m:\n\u001b[1;32m    817\u001b[0m     \u001b[39mbreak\u001b[39;00m\n\u001b[0;32m--> 818\u001b[0m chunk \u001b[39m=\u001b[39m \u001b[39mself\u001b[39;49m\u001b[39m.\u001b[39;49m_handle_chunk(amt)\n\u001b[1;32m    819\u001b[0m decoded \u001b[39m=\u001b[39m \u001b[39mself\u001b[39m\u001b[39m.\u001b[39m_decode(\n\u001b[1;32m    820\u001b[0m     chunk, decode_content\u001b[39m=\u001b[39mdecode_content, flush_decoder\u001b[39m=\u001b[39m\u001b[39mFalse\u001b[39;00m\n\u001b[1;32m    821\u001b[0m )\n\u001b[1;32m    822\u001b[0m \u001b[39mif\u001b[39;00m decoded:\n",
      "File \u001b[0;32m~/.pyenv/versions/3.10.5/lib/python3.10/site-packages/urllib3/response.py:762\u001b[0m, in \u001b[0;36mHTTPResponse._handle_chunk\u001b[0;34m(self, amt)\u001b[0m\n\u001b[1;32m    760\u001b[0m     \u001b[39mself\u001b[39m\u001b[39m.\u001b[39mchunk_left \u001b[39m=\u001b[39m \u001b[39mNone\u001b[39;00m\n\u001b[1;32m    761\u001b[0m \u001b[39melif\u001b[39;00m amt \u001b[39m<\u001b[39m \u001b[39mself\u001b[39m\u001b[39m.\u001b[39mchunk_left:\n\u001b[0;32m--> 762\u001b[0m     value \u001b[39m=\u001b[39m \u001b[39mself\u001b[39;49m\u001b[39m.\u001b[39;49m_fp\u001b[39m.\u001b[39;49m_safe_read(amt)\n\u001b[1;32m    763\u001b[0m     \u001b[39mself\u001b[39m\u001b[39m.\u001b[39mchunk_left \u001b[39m=\u001b[39m \u001b[39mself\u001b[39m\u001b[39m.\u001b[39mchunk_left \u001b[39m-\u001b[39m amt\n\u001b[1;32m    764\u001b[0m     returned_chunk \u001b[39m=\u001b[39m value\n",
      "File \u001b[0;32m~/.pyenv/versions/3.10.5/lib/python3.10/http/client.py:630\u001b[0m, in \u001b[0;36mHTTPResponse._safe_read\u001b[0;34m(self, amt)\u001b[0m\n\u001b[1;32m    623\u001b[0m \u001b[39mdef\u001b[39;00m \u001b[39m_safe_read\u001b[39m(\u001b[39mself\u001b[39m, amt):\n\u001b[1;32m    624\u001b[0m     \u001b[39m\"\"\"Read the number of bytes requested.\u001b[39;00m\n\u001b[1;32m    625\u001b[0m \n\u001b[1;32m    626\u001b[0m \u001b[39m    This function should be used when <amt> bytes \"should\" be present for\u001b[39;00m\n\u001b[1;32m    627\u001b[0m \u001b[39m    reading. If the bytes are truly not available (due to EOF), then the\u001b[39;00m\n\u001b[1;32m    628\u001b[0m \u001b[39m    IncompleteRead exception can be used to detect the problem.\u001b[39;00m\n\u001b[1;32m    629\u001b[0m \u001b[39m    \"\"\"\u001b[39;00m\n\u001b[0;32m--> 630\u001b[0m     data \u001b[39m=\u001b[39m \u001b[39mself\u001b[39;49m\u001b[39m.\u001b[39;49mfp\u001b[39m.\u001b[39;49mread(amt)\n\u001b[1;32m    631\u001b[0m     \u001b[39mif\u001b[39;00m \u001b[39mlen\u001b[39m(data) \u001b[39m<\u001b[39m amt:\n\u001b[1;32m    632\u001b[0m         \u001b[39mraise\u001b[39;00m IncompleteRead(data, amt\u001b[39m-\u001b[39m\u001b[39mlen\u001b[39m(data))\n",
      "File \u001b[0;32m~/.pyenv/versions/3.10.5/lib/python3.10/socket.py:705\u001b[0m, in \u001b[0;36mSocketIO.readinto\u001b[0;34m(self, b)\u001b[0m\n\u001b[1;32m    703\u001b[0m \u001b[39mwhile\u001b[39;00m \u001b[39mTrue\u001b[39;00m:\n\u001b[1;32m    704\u001b[0m     \u001b[39mtry\u001b[39;00m:\n\u001b[0;32m--> 705\u001b[0m         \u001b[39mreturn\u001b[39;00m \u001b[39mself\u001b[39;49m\u001b[39m.\u001b[39;49m_sock\u001b[39m.\u001b[39;49mrecv_into(b)\n\u001b[1;32m    706\u001b[0m     \u001b[39mexcept\u001b[39;00m timeout:\n\u001b[1;32m    707\u001b[0m         \u001b[39mself\u001b[39m\u001b[39m.\u001b[39m_timeout_occurred \u001b[39m=\u001b[39m \u001b[39mTrue\u001b[39;00m\n",
      "File \u001b[0;32m~/.pyenv/versions/3.10.5/lib/python3.10/ssl.py:1274\u001b[0m, in \u001b[0;36mSSLSocket.recv_into\u001b[0;34m(self, buffer, nbytes, flags)\u001b[0m\n\u001b[1;32m   1270\u001b[0m     \u001b[39mif\u001b[39;00m flags \u001b[39m!=\u001b[39m \u001b[39m0\u001b[39m:\n\u001b[1;32m   1271\u001b[0m         \u001b[39mraise\u001b[39;00m \u001b[39mValueError\u001b[39;00m(\n\u001b[1;32m   1272\u001b[0m           \u001b[39m\"\u001b[39m\u001b[39mnon-zero flags not allowed in calls to recv_into() on \u001b[39m\u001b[39m%s\u001b[39;00m\u001b[39m\"\u001b[39m \u001b[39m%\u001b[39m\n\u001b[1;32m   1273\u001b[0m           \u001b[39mself\u001b[39m\u001b[39m.\u001b[39m\u001b[39m__class__\u001b[39m)\n\u001b[0;32m-> 1274\u001b[0m     \u001b[39mreturn\u001b[39;00m \u001b[39mself\u001b[39;49m\u001b[39m.\u001b[39;49mread(nbytes, buffer)\n\u001b[1;32m   1275\u001b[0m \u001b[39melse\u001b[39;00m:\n\u001b[1;32m   1276\u001b[0m     \u001b[39mreturn\u001b[39;00m \u001b[39msuper\u001b[39m()\u001b[39m.\u001b[39mrecv_into(buffer, nbytes, flags)\n",
      "File \u001b[0;32m~/.pyenv/versions/3.10.5/lib/python3.10/ssl.py:1130\u001b[0m, in \u001b[0;36mSSLSocket.read\u001b[0;34m(self, len, buffer)\u001b[0m\n\u001b[1;32m   1128\u001b[0m \u001b[39mtry\u001b[39;00m:\n\u001b[1;32m   1129\u001b[0m     \u001b[39mif\u001b[39;00m buffer \u001b[39mis\u001b[39;00m \u001b[39mnot\u001b[39;00m \u001b[39mNone\u001b[39;00m:\n\u001b[0;32m-> 1130\u001b[0m         \u001b[39mreturn\u001b[39;00m \u001b[39mself\u001b[39;49m\u001b[39m.\u001b[39;49m_sslobj\u001b[39m.\u001b[39;49mread(\u001b[39mlen\u001b[39;49m, buffer)\n\u001b[1;32m   1131\u001b[0m     \u001b[39melse\u001b[39;00m:\n\u001b[1;32m   1132\u001b[0m         \u001b[39mreturn\u001b[39;00m \u001b[39mself\u001b[39m\u001b[39m.\u001b[39m_sslobj\u001b[39m.\u001b[39mread(\u001b[39mlen\u001b[39m)\n",
      "\u001b[0;31mKeyboardInterrupt\u001b[0m: "
     ]
    }
   ],
   "source": [
    "info = {}\n",
    "for date in nflx_dates:\n",
    "    info[date] = options.get_options_chain(\"nflx\")\n",
    "type(info)"
   ]
  },
  {
   "cell_type": "code",
   "execution_count": null,
   "metadata": {},
   "outputs": [
    {
     "data": {
      "text/plain": [
       "['October 6, 2023',\n",
       " 'October 13, 2023',\n",
       " 'October 20, 2023',\n",
       " 'October 27, 2023',\n",
       " 'November 3, 2023',\n",
       " 'November 10, 2023',\n",
       " 'November 17, 2023',\n",
       " 'December 15, 2023',\n",
       " 'January 19, 2024',\n",
       " 'March 15, 2024',\n",
       " 'June 21, 2024',\n",
       " 'September 20, 2024',\n",
       " 'January 17, 2025',\n",
       " 'June 20, 2025',\n",
       " 'December 19, 2025',\n",
       " 'January 16, 2026']"
      ]
     },
     "execution_count": 808,
     "metadata": {},
     "output_type": "execute_result"
    }
   ],
   "source": [
    "exp_dates = list(info.keys())\n",
    "exp_dates"
   ]
  },
  {
   "cell_type": "code",
   "execution_count": null,
   "metadata": {},
   "outputs": [
    {
     "data": {
      "text/plain": [
       "dict"
      ]
     },
     "execution_count": 811,
     "metadata": {},
     "output_type": "execute_result"
    }
   ],
   "source": [
    "z1 = info[exp_dates[0]]\n",
    "type(z1)"
   ]
  },
  {
   "cell_type": "code",
   "execution_count": null,
   "metadata": {},
   "outputs": [
    {
     "data": {
      "text/plain": [
       "dict_keys(['calls', 'puts'])"
      ]
     },
     "execution_count": 812,
     "metadata": {},
     "output_type": "execute_result"
    }
   ],
   "source": [
    "z1.keys()"
   ]
  },
  {
   "cell_type": "code",
   "execution_count": null,
   "metadata": {},
   "outputs": [
    {
     "data": {
      "text/html": [
       "<div>\n",
       "<style scoped>\n",
       "    .dataframe tbody tr th:only-of-type {\n",
       "        vertical-align: middle;\n",
       "    }\n",
       "\n",
       "    .dataframe tbody tr th {\n",
       "        vertical-align: top;\n",
       "    }\n",
       "\n",
       "    .dataframe thead th {\n",
       "        text-align: right;\n",
       "    }\n",
       "</style>\n",
       "<table border=\"1\" class=\"dataframe\">\n",
       "  <thead>\n",
       "    <tr style=\"text-align: right;\">\n",
       "      <th></th>\n",
       "      <th>Contract Name</th>\n",
       "      <th>Last Trade Date</th>\n",
       "      <th>Strike</th>\n",
       "      <th>Last Price</th>\n",
       "      <th>Bid</th>\n",
       "      <th>Ask</th>\n",
       "      <th>Change</th>\n",
       "      <th>% Change</th>\n",
       "      <th>Volume</th>\n",
       "      <th>Open Interest</th>\n",
       "      <th>Implied Volatility</th>\n",
       "    </tr>\n",
       "  </thead>\n",
       "  <tbody>\n",
       "    <tr>\n",
       "      <th>0</th>\n",
       "      <td>NFLX231006C00100000</td>\n",
       "      <td>2023-09-14 9:46AM EDT</td>\n",
       "      <td>100.0</td>\n",
       "      <td>303.40</td>\n",
       "      <td>275.05</td>\n",
       "      <td>279.50</td>\n",
       "      <td>0.00</td>\n",
       "      <td>-</td>\n",
       "      <td>-</td>\n",
       "      <td>1</td>\n",
       "      <td>573.34%</td>\n",
       "    </tr>\n",
       "    <tr>\n",
       "      <th>1</th>\n",
       "      <td>NFLX231006C00150000</td>\n",
       "      <td>2023-09-21 11:15AM EDT</td>\n",
       "      <td>150.0</td>\n",
       "      <td>236.23</td>\n",
       "      <td>225.30</td>\n",
       "      <td>229.55</td>\n",
       "      <td>0.00</td>\n",
       "      <td>-</td>\n",
       "      <td>-</td>\n",
       "      <td>12</td>\n",
       "      <td>410.35%</td>\n",
       "    </tr>\n",
       "    <tr>\n",
       "      <th>2</th>\n",
       "      <td>NFLX231006C00200000</td>\n",
       "      <td>2023-09-29 3:32PM EDT</td>\n",
       "      <td>200.0</td>\n",
       "      <td>176.70</td>\n",
       "      <td>175.15</td>\n",
       "      <td>179.50</td>\n",
       "      <td>-68.93</td>\n",
       "      <td>-28.06%</td>\n",
       "      <td>5</td>\n",
       "      <td>1</td>\n",
       "      <td>292.97%</td>\n",
       "    </tr>\n",
       "    <tr>\n",
       "      <th>3</th>\n",
       "      <td>NFLX231006C00230000</td>\n",
       "      <td>2023-09-28 9:33AM EDT</td>\n",
       "      <td>230.0</td>\n",
       "      <td>144.28</td>\n",
       "      <td>145.40</td>\n",
       "      <td>149.95</td>\n",
       "      <td>0.00</td>\n",
       "      <td>-</td>\n",
       "      <td>1</td>\n",
       "      <td>1</td>\n",
       "      <td>147.27%</td>\n",
       "    </tr>\n",
       "    <tr>\n",
       "      <th>4</th>\n",
       "      <td>NFLX231006C00250000</td>\n",
       "      <td>2023-09-11 9:45AM EDT</td>\n",
       "      <td>250.0</td>\n",
       "      <td>199.50</td>\n",
       "      <td>125.40</td>\n",
       "      <td>129.65</td>\n",
       "      <td>0.00</td>\n",
       "      <td>-</td>\n",
       "      <td>3</td>\n",
       "      <td>3</td>\n",
       "      <td>205.96%</td>\n",
       "    </tr>\n",
       "    <tr>\n",
       "      <th>...</th>\n",
       "      <td>...</td>\n",
       "      <td>...</td>\n",
       "      <td>...</td>\n",
       "      <td>...</td>\n",
       "      <td>...</td>\n",
       "      <td>...</td>\n",
       "      <td>...</td>\n",
       "      <td>...</td>\n",
       "      <td>...</td>\n",
       "      <td>...</td>\n",
       "      <td>...</td>\n",
       "    </tr>\n",
       "    <tr>\n",
       "      <th>68</th>\n",
       "      <td>NFLX231006C00540000</td>\n",
       "      <td>2023-09-14 1:30PM EDT</td>\n",
       "      <td>540.0</td>\n",
       "      <td>0.03</td>\n",
       "      <td>0.00</td>\n",
       "      <td>0.01</td>\n",
       "      <td>0.00</td>\n",
       "      <td>-</td>\n",
       "      <td>7</td>\n",
       "      <td>22</td>\n",
       "      <td>82.81%</td>\n",
       "    </tr>\n",
       "    <tr>\n",
       "      <th>69</th>\n",
       "      <td>NFLX231006C00550000</td>\n",
       "      <td>2023-09-21 1:02PM EDT</td>\n",
       "      <td>550.0</td>\n",
       "      <td>0.02</td>\n",
       "      <td>0.00</td>\n",
       "      <td>0.01</td>\n",
       "      <td>0.00</td>\n",
       "      <td>-</td>\n",
       "      <td>5</td>\n",
       "      <td>22</td>\n",
       "      <td>87.50%</td>\n",
       "    </tr>\n",
       "    <tr>\n",
       "      <th>70</th>\n",
       "      <td>NFLX231006C00570000</td>\n",
       "      <td>2023-09-14 1:29PM EDT</td>\n",
       "      <td>570.0</td>\n",
       "      <td>0.01</td>\n",
       "      <td>0.00</td>\n",
       "      <td>0.01</td>\n",
       "      <td>0.00</td>\n",
       "      <td>-</td>\n",
       "      <td>50</td>\n",
       "      <td>59</td>\n",
       "      <td>93.75%</td>\n",
       "    </tr>\n",
       "    <tr>\n",
       "      <th>71</th>\n",
       "      <td>NFLX231006C00600000</td>\n",
       "      <td>2023-09-22 9:51AM EDT</td>\n",
       "      <td>600.0</td>\n",
       "      <td>0.01</td>\n",
       "      <td>0.00</td>\n",
       "      <td>0.01</td>\n",
       "      <td>0.00</td>\n",
       "      <td>-</td>\n",
       "      <td>21</td>\n",
       "      <td>28</td>\n",
       "      <td>106.25%</td>\n",
       "    </tr>\n",
       "    <tr>\n",
       "      <th>72</th>\n",
       "      <td>NFLX231006C00610000</td>\n",
       "      <td>2023-09-08 3:56PM EDT</td>\n",
       "      <td>610.0</td>\n",
       "      <td>0.01</td>\n",
       "      <td>0.00</td>\n",
       "      <td>0.01</td>\n",
       "      <td>0.00</td>\n",
       "      <td>-</td>\n",
       "      <td>1</td>\n",
       "      <td>11</td>\n",
       "      <td>109.38%</td>\n",
       "    </tr>\n",
       "  </tbody>\n",
       "</table>\n",
       "<p>73 rows × 11 columns</p>\n",
       "</div>"
      ],
      "text/plain": [
       "          Contract Name         Last Trade Date  Strike  Last Price     Bid  \\\n",
       "0   NFLX231006C00100000   2023-09-14 9:46AM EDT   100.0      303.40  275.05   \n",
       "1   NFLX231006C00150000  2023-09-21 11:15AM EDT   150.0      236.23  225.30   \n",
       "2   NFLX231006C00200000   2023-09-29 3:32PM EDT   200.0      176.70  175.15   \n",
       "3   NFLX231006C00230000   2023-09-28 9:33AM EDT   230.0      144.28  145.40   \n",
       "4   NFLX231006C00250000   2023-09-11 9:45AM EDT   250.0      199.50  125.40   \n",
       "..                  ...                     ...     ...         ...     ...   \n",
       "68  NFLX231006C00540000   2023-09-14 1:30PM EDT   540.0        0.03    0.00   \n",
       "69  NFLX231006C00550000   2023-09-21 1:02PM EDT   550.0        0.02    0.00   \n",
       "70  NFLX231006C00570000   2023-09-14 1:29PM EDT   570.0        0.01    0.00   \n",
       "71  NFLX231006C00600000   2023-09-22 9:51AM EDT   600.0        0.01    0.00   \n",
       "72  NFLX231006C00610000   2023-09-08 3:56PM EDT   610.0        0.01    0.00   \n",
       "\n",
       "       Ask  Change % Change Volume  Open Interest Implied Volatility  \n",
       "0   279.50    0.00        -      -              1            573.34%  \n",
       "1   229.55    0.00        -      -             12            410.35%  \n",
       "2   179.50  -68.93  -28.06%      5              1            292.97%  \n",
       "3   149.95    0.00        -      1              1            147.27%  \n",
       "4   129.65    0.00        -      3              3            205.96%  \n",
       "..     ...     ...      ...    ...            ...                ...  \n",
       "68    0.01    0.00        -      7             22             82.81%  \n",
       "69    0.01    0.00        -      5             22             87.50%  \n",
       "70    0.01    0.00        -     50             59             93.75%  \n",
       "71    0.01    0.00        -     21             28            106.25%  \n",
       "72    0.01    0.00        -      1             11            109.38%  \n",
       "\n",
       "[73 rows x 11 columns]"
      ]
     },
     "execution_count": 813,
     "metadata": {},
     "output_type": "execute_result"
    }
   ],
   "source": [
    "z2 = z1[\"calls\"]\n",
    "z2"
   ]
  },
  {
   "cell_type": "code",
   "execution_count": null,
   "metadata": {},
   "outputs": [
    {
     "data": {
      "text/plain": [
       "pandas.core.frame.DataFrame"
      ]
     },
     "execution_count": 814,
     "metadata": {},
     "output_type": "execute_result"
    }
   ],
   "source": [
    "type(z2)"
   ]
  },
  {
   "cell_type": "code",
   "execution_count": null,
   "metadata": {},
   "outputs": [
    {
     "data": {
      "text/html": [
       "<div>\n",
       "<style scoped>\n",
       "    .dataframe tbody tr th:only-of-type {\n",
       "        vertical-align: middle;\n",
       "    }\n",
       "\n",
       "    .dataframe tbody tr th {\n",
       "        vertical-align: top;\n",
       "    }\n",
       "\n",
       "    .dataframe thead th {\n",
       "        text-align: right;\n",
       "    }\n",
       "</style>\n",
       "<table border=\"1\" class=\"dataframe\">\n",
       "  <thead>\n",
       "    <tr style=\"text-align: right;\">\n",
       "      <th></th>\n",
       "      <th>Contract Name</th>\n",
       "      <th>Last Trade Date</th>\n",
       "      <th>Strike</th>\n",
       "      <th>Last Price</th>\n",
       "      <th>Bid</th>\n",
       "      <th>Ask</th>\n",
       "      <th>Change</th>\n",
       "      <th>% Change</th>\n",
       "      <th>Volume</th>\n",
       "      <th>Open Interest</th>\n",
       "      <th>Implied Volatility</th>\n",
       "      <th>Spread</th>\n",
       "    </tr>\n",
       "  </thead>\n",
       "  <tbody>\n",
       "    <tr>\n",
       "      <th>0</th>\n",
       "      <td>NFLX231006C00100000</td>\n",
       "      <td>2023-09-14 9:46AM EDT</td>\n",
       "      <td>100.0</td>\n",
       "      <td>303.40</td>\n",
       "      <td>275.05</td>\n",
       "      <td>279.50</td>\n",
       "      <td>0.00</td>\n",
       "      <td>-</td>\n",
       "      <td>-</td>\n",
       "      <td>1</td>\n",
       "      <td>573.34%</td>\n",
       "      <td>4.45</td>\n",
       "    </tr>\n",
       "    <tr>\n",
       "      <th>1</th>\n",
       "      <td>NFLX231006C00150000</td>\n",
       "      <td>2023-09-21 11:15AM EDT</td>\n",
       "      <td>150.0</td>\n",
       "      <td>236.23</td>\n",
       "      <td>225.30</td>\n",
       "      <td>229.55</td>\n",
       "      <td>0.00</td>\n",
       "      <td>-</td>\n",
       "      <td>-</td>\n",
       "      <td>12</td>\n",
       "      <td>410.35%</td>\n",
       "      <td>4.25</td>\n",
       "    </tr>\n",
       "    <tr>\n",
       "      <th>2</th>\n",
       "      <td>NFLX231006C00200000</td>\n",
       "      <td>2023-09-29 3:32PM EDT</td>\n",
       "      <td>200.0</td>\n",
       "      <td>176.70</td>\n",
       "      <td>175.15</td>\n",
       "      <td>179.50</td>\n",
       "      <td>-68.93</td>\n",
       "      <td>-28.06%</td>\n",
       "      <td>5</td>\n",
       "      <td>1</td>\n",
       "      <td>292.97%</td>\n",
       "      <td>4.35</td>\n",
       "    </tr>\n",
       "    <tr>\n",
       "      <th>3</th>\n",
       "      <td>NFLX231006C00230000</td>\n",
       "      <td>2023-09-28 9:33AM EDT</td>\n",
       "      <td>230.0</td>\n",
       "      <td>144.28</td>\n",
       "      <td>145.40</td>\n",
       "      <td>149.95</td>\n",
       "      <td>0.00</td>\n",
       "      <td>-</td>\n",
       "      <td>1</td>\n",
       "      <td>1</td>\n",
       "      <td>147.27%</td>\n",
       "      <td>4.55</td>\n",
       "    </tr>\n",
       "    <tr>\n",
       "      <th>4</th>\n",
       "      <td>NFLX231006C00250000</td>\n",
       "      <td>2023-09-11 9:45AM EDT</td>\n",
       "      <td>250.0</td>\n",
       "      <td>199.50</td>\n",
       "      <td>125.40</td>\n",
       "      <td>129.65</td>\n",
       "      <td>0.00</td>\n",
       "      <td>-</td>\n",
       "      <td>3</td>\n",
       "      <td>3</td>\n",
       "      <td>205.96%</td>\n",
       "      <td>4.25</td>\n",
       "    </tr>\n",
       "    <tr>\n",
       "      <th>...</th>\n",
       "      <td>...</td>\n",
       "      <td>...</td>\n",
       "      <td>...</td>\n",
       "      <td>...</td>\n",
       "      <td>...</td>\n",
       "      <td>...</td>\n",
       "      <td>...</td>\n",
       "      <td>...</td>\n",
       "      <td>...</td>\n",
       "      <td>...</td>\n",
       "      <td>...</td>\n",
       "      <td>...</td>\n",
       "    </tr>\n",
       "    <tr>\n",
       "      <th>68</th>\n",
       "      <td>NFLX231006C00540000</td>\n",
       "      <td>2023-09-14 1:30PM EDT</td>\n",
       "      <td>540.0</td>\n",
       "      <td>0.03</td>\n",
       "      <td>0.00</td>\n",
       "      <td>0.01</td>\n",
       "      <td>0.00</td>\n",
       "      <td>-</td>\n",
       "      <td>7</td>\n",
       "      <td>22</td>\n",
       "      <td>82.81%</td>\n",
       "      <td>0.01</td>\n",
       "    </tr>\n",
       "    <tr>\n",
       "      <th>69</th>\n",
       "      <td>NFLX231006C00550000</td>\n",
       "      <td>2023-09-21 1:02PM EDT</td>\n",
       "      <td>550.0</td>\n",
       "      <td>0.02</td>\n",
       "      <td>0.00</td>\n",
       "      <td>0.01</td>\n",
       "      <td>0.00</td>\n",
       "      <td>-</td>\n",
       "      <td>5</td>\n",
       "      <td>22</td>\n",
       "      <td>87.50%</td>\n",
       "      <td>0.01</td>\n",
       "    </tr>\n",
       "    <tr>\n",
       "      <th>70</th>\n",
       "      <td>NFLX231006C00570000</td>\n",
       "      <td>2023-09-14 1:29PM EDT</td>\n",
       "      <td>570.0</td>\n",
       "      <td>0.01</td>\n",
       "      <td>0.00</td>\n",
       "      <td>0.01</td>\n",
       "      <td>0.00</td>\n",
       "      <td>-</td>\n",
       "      <td>50</td>\n",
       "      <td>59</td>\n",
       "      <td>93.75%</td>\n",
       "      <td>0.01</td>\n",
       "    </tr>\n",
       "    <tr>\n",
       "      <th>71</th>\n",
       "      <td>NFLX231006C00600000</td>\n",
       "      <td>2023-09-22 9:51AM EDT</td>\n",
       "      <td>600.0</td>\n",
       "      <td>0.01</td>\n",
       "      <td>0.00</td>\n",
       "      <td>0.01</td>\n",
       "      <td>0.00</td>\n",
       "      <td>-</td>\n",
       "      <td>21</td>\n",
       "      <td>28</td>\n",
       "      <td>106.25%</td>\n",
       "      <td>0.01</td>\n",
       "    </tr>\n",
       "    <tr>\n",
       "      <th>72</th>\n",
       "      <td>NFLX231006C00610000</td>\n",
       "      <td>2023-09-08 3:56PM EDT</td>\n",
       "      <td>610.0</td>\n",
       "      <td>0.01</td>\n",
       "      <td>0.00</td>\n",
       "      <td>0.01</td>\n",
       "      <td>0.00</td>\n",
       "      <td>-</td>\n",
       "      <td>1</td>\n",
       "      <td>11</td>\n",
       "      <td>109.38%</td>\n",
       "      <td>0.01</td>\n",
       "    </tr>\n",
       "  </tbody>\n",
       "</table>\n",
       "<p>73 rows × 12 columns</p>\n",
       "</div>"
      ],
      "text/plain": [
       "          Contract Name         Last Trade Date  Strike  Last Price     Bid  \\\n",
       "0   NFLX231006C00100000   2023-09-14 9:46AM EDT   100.0      303.40  275.05   \n",
       "1   NFLX231006C00150000  2023-09-21 11:15AM EDT   150.0      236.23  225.30   \n",
       "2   NFLX231006C00200000   2023-09-29 3:32PM EDT   200.0      176.70  175.15   \n",
       "3   NFLX231006C00230000   2023-09-28 9:33AM EDT   230.0      144.28  145.40   \n",
       "4   NFLX231006C00250000   2023-09-11 9:45AM EDT   250.0      199.50  125.40   \n",
       "..                  ...                     ...     ...         ...     ...   \n",
       "68  NFLX231006C00540000   2023-09-14 1:30PM EDT   540.0        0.03    0.00   \n",
       "69  NFLX231006C00550000   2023-09-21 1:02PM EDT   550.0        0.02    0.00   \n",
       "70  NFLX231006C00570000   2023-09-14 1:29PM EDT   570.0        0.01    0.00   \n",
       "71  NFLX231006C00600000   2023-09-22 9:51AM EDT   600.0        0.01    0.00   \n",
       "72  NFLX231006C00610000   2023-09-08 3:56PM EDT   610.0        0.01    0.00   \n",
       "\n",
       "       Ask  Change % Change Volume  Open Interest Implied Volatility  Spread  \n",
       "0   279.50    0.00        -      -              1            573.34%    4.45  \n",
       "1   229.55    0.00        -      -             12            410.35%    4.25  \n",
       "2   179.50  -68.93  -28.06%      5              1            292.97%    4.35  \n",
       "3   149.95    0.00        -      1              1            147.27%    4.55  \n",
       "4   129.65    0.00        -      3              3            205.96%    4.25  \n",
       "..     ...     ...      ...    ...            ...                ...     ...  \n",
       "68    0.01    0.00        -      7             22             82.81%    0.01  \n",
       "69    0.01    0.00        -      5             22             87.50%    0.01  \n",
       "70    0.01    0.00        -     50             59             93.75%    0.01  \n",
       "71    0.01    0.00        -     21             28            106.25%    0.01  \n",
       "72    0.01    0.00        -      1             11            109.38%    0.01  \n",
       "\n",
       "[73 rows x 12 columns]"
      ]
     },
     "execution_count": 816,
     "metadata": {},
     "output_type": "execute_result"
    }
   ],
   "source": [
    "# Let's compute Bid-Ask spread\n",
    "z2[\"Spread\"] = z2[\"Ask\"] - z2[\"Bid\"]\n",
    "z2"
   ]
  },
  {
   "cell_type": "code",
   "execution_count": null,
   "metadata": {},
   "outputs": [
    {
     "data": {
      "text/plain": [
       "Text(0, 0.5, 'Bid-Ask Spread')"
      ]
     },
     "execution_count": 818,
     "metadata": {},
     "output_type": "execute_result"
    },
    {
     "data": {
      "image/png": "[encoded data removed]",
      "text/plain": [
       "<Figure size 720x432 with 1 Axes>"
      ]
     },
     "metadata": {
      "needs_background": "light"
     },
     "output_type": "display_data"
    }
   ],
   "source": [
    "# And plot the spread against strike\n",
    "plt.plot(z2.Strike, z2.Spread)\n",
    "plt.xlabel(\"Strike\")\n",
    "plt.ylabel(\"Bid-Ask Spread\")"
   ]
  }
 ],
 "metadata": {
  "kernelspec": {
   "display_name": "Python 3",
   "language": "python",
   "name": "python3"
  },
  "language_info": {
   "codemirror_mode": {
    "name": "ipython",
    "version": 3
   },
   "file_extension": ".py",
   "mimetype": "text/x-python",
   "name": "python",
   "nbconvert_exporter": "python",
   "pygments_lexer": "ipython3",
   "version": "3.10.5"
  },
  "orig_nbformat": 4
 },
 "nbformat": 4,
 "nbformat_minor": 2
}
