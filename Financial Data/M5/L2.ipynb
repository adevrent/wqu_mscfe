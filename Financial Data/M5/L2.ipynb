{
 "cells": [
  {
   "cell_type": "code",
   "execution_count": 485,
   "metadata": {},
   "outputs": [],
   "source": [
    "import time\n",
    "\n",
    "import numpy as np\n",
    "import pandas as pd\n",
    "import yfinance as yfin\n",
    "\n",
    "yfin.pdr_override()\n",
    "\n",
    "from datetime import date\n",
    "from datetime import datetime as dt\n",
    "from datetime import timedelta\n",
    "\n",
    "from selenium import webdriver\n",
    "from selenium.webdriver.chrome.options import Options\n",
    "from selenium.webdriver.chrome.service import Service\n",
    "from selenium.webdriver.common.by import By\n",
    "from selenium.webdriver.support import expected_conditions as EC\n",
    "from selenium.webdriver.support.ui import Select, WebDriverWait\n",
    "from webdriver_manager.chrome import ChromeDriverManager"
   ]
  },
  {
   "cell_type": "code",
   "execution_count": 486,
   "metadata": {},
   "outputs": [
    {
     "name": "stdout",
     "output_type": "stream",
     "text": [
      "\u001b[0;31mSignature:\u001b[0m\n",
      "\u001b[0mpd\u001b[0m\u001b[0;34m.\u001b[0m\u001b[0mDataFrame\u001b[0m\u001b[0;34m.\u001b[0m\u001b[0mreplace\u001b[0m\u001b[0;34m(\u001b[0m\u001b[0;34m\u001b[0m\n",
      "\u001b[0;34m\u001b[0m    \u001b[0mself\u001b[0m\u001b[0;34m,\u001b[0m\u001b[0;34m\u001b[0m\n",
      "\u001b[0;34m\u001b[0m    \u001b[0mto_replace\u001b[0m\u001b[0;34m=\u001b[0m\u001b[0;32mNone\u001b[0m\u001b[0;34m,\u001b[0m\u001b[0;34m\u001b[0m\n",
      "\u001b[0;34m\u001b[0m    \u001b[0mvalue\u001b[0m\u001b[0;34m=\u001b[0m\u001b[0;34m<\u001b[0m\u001b[0mno_default\u001b[0m\u001b[0;34m>\u001b[0m\u001b[0;34m,\u001b[0m\u001b[0;34m\u001b[0m\n",
      "\u001b[0;34m\u001b[0m    \u001b[0minplace\u001b[0m\u001b[0;34m:\u001b[0m \u001b[0;34m'bool'\u001b[0m \u001b[0;34m=\u001b[0m \u001b[0;32mFalse\u001b[0m\u001b[0;34m,\u001b[0m\u001b[0;34m\u001b[0m\n",
      "\u001b[0;34m\u001b[0m    \u001b[0mlimit\u001b[0m\u001b[0;34m=\u001b[0m\u001b[0;32mNone\u001b[0m\u001b[0;34m,\u001b[0m\u001b[0;34m\u001b[0m\n",
      "\u001b[0;34m\u001b[0m    \u001b[0mregex\u001b[0m\u001b[0;34m:\u001b[0m \u001b[0;34m'bool'\u001b[0m \u001b[0;34m=\u001b[0m \u001b[0;32mFalse\u001b[0m\u001b[0;34m,\u001b[0m\u001b[0;34m\u001b[0m\n",
      "\u001b[0;34m\u001b[0m    \u001b[0mmethod\u001b[0m\u001b[0;34m:\u001b[0m \u001b[0;34m'str | lib.NoDefault'\u001b[0m \u001b[0;34m=\u001b[0m \u001b[0;34m<\u001b[0m\u001b[0mno_default\u001b[0m\u001b[0;34m>\u001b[0m\u001b[0;34m,\u001b[0m\u001b[0;34m\u001b[0m\n",
      "\u001b[0;34m\u001b[0m\u001b[0;34m)\u001b[0m\u001b[0;34m\u001b[0m\u001b[0;34m\u001b[0m\u001b[0m\n",
      "\u001b[0;31mDocstring:\u001b[0m\n",
      "Replace values given in `to_replace` with `value`.\n",
      "\n",
      "Values of the DataFrame are replaced with other values dynamically.\n",
      "\n",
      "This differs from updating with ``.loc`` or ``.iloc``, which require\n",
      "you to specify a location to update with some value.\n",
      "\n",
      "Parameters\n",
      "----------\n",
      "to_replace : str, regex, list, dict, Series, int, float, or None\n",
      "    How to find the values that will be replaced.\n",
      "\n",
      "    * numeric, str or regex:\n",
      "\n",
      "        - numeric: numeric values equal to `to_replace` will be\n",
      "          replaced with `value`\n",
      "        - str: string exactly matching `to_replace` will be replaced\n",
      "          with `value`\n",
      "        - regex: regexs matching `to_replace` will be replaced with\n",
      "          `value`\n",
      "\n",
      "    * list of str, regex, or numeric:\n",
      "\n",
      "        - First, if `to_replace` and `value` are both lists, they\n",
      "          **must** be the same length.\n",
      "        - Second, if ``regex=True`` then all of the strings in **both**\n",
      "          lists will be interpreted as regexs otherwise they will match\n",
      "          directly. This doesn't matter much for `value` since there\n",
      "          are only a few possible substitution regexes you can use.\n",
      "        - str, regex and numeric rules apply as above.\n",
      "\n",
      "    * dict:\n",
      "\n",
      "        - Dicts can be used to specify different replacement values\n",
      "          for different existing values. For example,\n",
      "          ``{'a': 'b', 'y': 'z'}`` replaces the value 'a' with 'b' and\n",
      "          'y' with 'z'. To use a dict in this way the `value`\n",
      "          parameter should be `None`.\n",
      "        - For a DataFrame a dict can specify that different values\n",
      "          should be replaced in different columns. For example,\n",
      "          ``{'a': 1, 'b': 'z'}`` looks for the value 1 in column 'a'\n",
      "          and the value 'z' in column 'b' and replaces these values\n",
      "          with whatever is specified in `value`. The `value` parameter\n",
      "          should not be ``None`` in this case. You can treat this as a\n",
      "          special case of passing two lists except that you are\n",
      "          specifying the column to search in.\n",
      "        - For a DataFrame nested dictionaries, e.g.,\n",
      "          ``{'a': {'b': np.nan}}``, are read as follows: look in column\n",
      "          'a' for the value 'b' and replace it with NaN. The `value`\n",
      "          parameter should be ``None`` to use a nested dict in this\n",
      "          way. You can nest regular expressions as well. Note that\n",
      "          column names (the top-level dictionary keys in a nested\n",
      "          dictionary) **cannot** be regular expressions.\n",
      "\n",
      "    * None:\n",
      "\n",
      "        - This means that the `regex` argument must be a string,\n",
      "          compiled regular expression, or list, dict, ndarray or\n",
      "          Series of such elements. If `value` is also ``None`` then\n",
      "          this **must** be a nested dictionary or Series.\n",
      "\n",
      "    See the examples section for examples of each of these.\n",
      "value : scalar, dict, list, str, regex, default None\n",
      "    Value to replace any values matching `to_replace` with.\n",
      "    For a DataFrame a dict of values can be used to specify which\n",
      "    value to use for each column (columns not in the dict will not be\n",
      "    filled). Regular expressions, strings and lists or dicts of such\n",
      "    objects are also allowed.\n",
      "\n",
      "inplace : bool, default False\n",
      "    If True, performs operation inplace and returns None.\n",
      "limit : int, default None\n",
      "    Maximum size gap to forward or backward fill.\n",
      "regex : bool or same types as `to_replace`, default False\n",
      "    Whether to interpret `to_replace` and/or `value` as regular\n",
      "    expressions. If this is ``True`` then `to_replace` *must* be a\n",
      "    string. Alternatively, this could be a regular expression or a\n",
      "    list, dict, or array of regular expressions in which case\n",
      "    `to_replace` must be ``None``.\n",
      "method : {'pad', 'ffill', 'bfill', `None`}\n",
      "    The method to use when for replacement, when `to_replace` is a\n",
      "    scalar, list or tuple and `value` is ``None``.\n",
      "\n",
      "    .. versionchanged:: 0.23.0\n",
      "        Added to DataFrame.\n",
      "\n",
      "Returns\n",
      "-------\n",
      "DataFrame\n",
      "    Object after replacement.\n",
      "\n",
      "Raises\n",
      "------\n",
      "AssertionError\n",
      "    * If `regex` is not a ``bool`` and `to_replace` is not\n",
      "      ``None``.\n",
      "\n",
      "TypeError\n",
      "    * If `to_replace` is not a scalar, array-like, ``dict``, or ``None``\n",
      "    * If `to_replace` is a ``dict`` and `value` is not a ``list``,\n",
      "      ``dict``, ``ndarray``, or ``Series``\n",
      "    * If `to_replace` is ``None`` and `regex` is not compilable\n",
      "      into a regular expression or is a list, dict, ndarray, or\n",
      "      Series.\n",
      "    * When replacing multiple ``bool`` or ``datetime64`` objects and\n",
      "      the arguments to `to_replace` does not match the type of the\n",
      "      value being replaced\n",
      "\n",
      "ValueError\n",
      "    * If a ``list`` or an ``ndarray`` is passed to `to_replace` and\n",
      "      `value` but they are not the same length.\n",
      "\n",
      "See Also\n",
      "--------\n",
      "DataFrame.fillna : Fill NA values.\n",
      "DataFrame.where : Replace values based on boolean condition.\n",
      "Series.str.replace : Simple string replacement.\n",
      "\n",
      "Notes\n",
      "-----\n",
      "* Regex substitution is performed under the hood with ``re.sub``. The\n",
      "  rules for substitution for ``re.sub`` are the same.\n",
      "* Regular expressions will only substitute on strings, meaning you\n",
      "  cannot provide, for example, a regular expression matching floating\n",
      "  point numbers and expect the columns in your frame that have a\n",
      "  numeric dtype to be matched. However, if those floating point\n",
      "  numbers *are* strings, then you can do this.\n",
      "* This method has *a lot* of options. You are encouraged to experiment\n",
      "  and play with this method to gain intuition about how it works.\n",
      "* When dict is used as the `to_replace` value, it is like\n",
      "  key(s) in the dict are the to_replace part and\n",
      "  value(s) in the dict are the value parameter.\n",
      "\n",
      "Examples\n",
      "--------\n",
      "\n",
      "**Scalar `to_replace` and `value`**\n",
      "\n",
      ">>> s = pd.Series([1, 2, 3, 4, 5])\n",
      ">>> s.replace(1, 5)\n",
      "0    5\n",
      "1    2\n",
      "2    3\n",
      "3    4\n",
      "4    5\n",
      "dtype: int64\n",
      "\n",
      ">>> df = pd.DataFrame({'A': [0, 1, 2, 3, 4],\n",
      "...                    'B': [5, 6, 7, 8, 9],\n",
      "...                    'C': ['a', 'b', 'c', 'd', 'e']})\n",
      ">>> df.replace(0, 5)\n",
      "    A  B  C\n",
      "0  5  5  a\n",
      "1  1  6  b\n",
      "2  2  7  c\n",
      "3  3  8  d\n",
      "4  4  9  e\n",
      "\n",
      "**List-like `to_replace`**\n",
      "\n",
      ">>> df.replace([0, 1, 2, 3], 4)\n",
      "    A  B  C\n",
      "0  4  5  a\n",
      "1  4  6  b\n",
      "2  4  7  c\n",
      "3  4  8  d\n",
      "4  4  9  e\n",
      "\n",
      ">>> df.replace([0, 1, 2, 3], [4, 3, 2, 1])\n",
      "    A  B  C\n",
      "0  4  5  a\n",
      "1  3  6  b\n",
      "2  2  7  c\n",
      "3  1  8  d\n",
      "4  4  9  e\n",
      "\n",
      ">>> s.replace([1, 2], method='bfill')\n",
      "0    3\n",
      "1    3\n",
      "2    3\n",
      "3    4\n",
      "4    5\n",
      "dtype: int64\n",
      "\n",
      "**dict-like `to_replace`**\n",
      "\n",
      ">>> df.replace({0: 10, 1: 100})\n",
      "        A  B  C\n",
      "0   10  5  a\n",
      "1  100  6  b\n",
      "2    2  7  c\n",
      "3    3  8  d\n",
      "4    4  9  e\n",
      "\n",
      ">>> df.replace({'A': 0, 'B': 5}, 100)\n",
      "        A    B  C\n",
      "0  100  100  a\n",
      "1    1    6  b\n",
      "2    2    7  c\n",
      "3    3    8  d\n",
      "4    4    9  e\n",
      "\n",
      ">>> df.replace({'A': {0: 100, 4: 400}})\n",
      "        A  B  C\n",
      "0  100  5  a\n",
      "1    1  6  b\n",
      "2    2  7  c\n",
      "3    3  8  d\n",
      "4  400  9  e\n",
      "\n",
      "**Regular expression `to_replace`**\n",
      "\n",
      ">>> df = pd.DataFrame({'A': ['bat', 'foo', 'bait'],\n",
      "...                    'B': ['abc', 'bar', 'xyz']})\n",
      ">>> df.replace(to_replace=r'^ba.$', value='new', regex=True)\n",
      "        A    B\n",
      "0   new  abc\n",
      "1   foo  new\n",
      "2  bait  xyz\n",
      "\n",
      ">>> df.replace({'A': r'^ba.$'}, {'A': 'new'}, regex=True)\n",
      "        A    B\n",
      "0   new  abc\n",
      "1   foo  bar\n",
      "2  bait  xyz\n",
      "\n",
      ">>> df.replace(regex=r'^ba.$', value='new')\n",
      "        A    B\n",
      "0   new  abc\n",
      "1   foo  new\n",
      "2  bait  xyz\n",
      "\n",
      ">>> df.replace(regex={r'^ba.$': 'new', 'foo': 'xyz'})\n",
      "        A    B\n",
      "0   new  abc\n",
      "1   xyz  new\n",
      "2  bait  xyz\n",
      "\n",
      ">>> df.replace(regex=[r'^ba.$', 'foo'], value='new')\n",
      "        A    B\n",
      "0   new  abc\n",
      "1   new  new\n",
      "2  bait  xyz\n",
      "\n",
      "Compare the behavior of ``s.replace({'a': None})`` and\n",
      "``s.replace('a', None)`` to understand the peculiarities\n",
      "of the `to_replace` parameter:\n",
      "\n",
      ">>> s = pd.Series([10, 'a', 'a', 'b', 'a'])\n",
      "\n",
      "When one uses a dict as the `to_replace` value, it is like the\n",
      "value(s) in the dict are equal to the `value` parameter.\n",
      "``s.replace({'a': None})`` is equivalent to\n",
      "``s.replace(to_replace={'a': None}, value=None, method=None)``:\n",
      "\n",
      ">>> s.replace({'a': None})\n",
      "0      10\n",
      "1    None\n",
      "2    None\n",
      "3       b\n",
      "4    None\n",
      "dtype: object\n",
      "\n",
      "When ``value`` is not explicitly passed and `to_replace` is a scalar, list\n",
      "or tuple, `replace` uses the method parameter (default 'pad') to do the\n",
      "replacement. So this is why the 'a' values are being replaced by 10\n",
      "in rows 1 and 2 and 'b' in row 4 in this case.\n",
      "\n",
      ">>> s.replace('a')\n",
      "0    10\n",
      "1    10\n",
      "2    10\n",
      "3     b\n",
      "4     b\n",
      "dtype: object\n",
      "\n",
      "On the other hand, if ``None`` is explicitly passed for ``value``, it will\n",
      "be respected:\n",
      "\n",
      ">>> s.replace('a', None)\n",
      "0      10\n",
      "1    None\n",
      "2    None\n",
      "3       b\n",
      "4    None\n",
      "dtype: object\n",
      "\n",
      "    .. versionchanged:: 1.4.0\n",
      "        Previously the explicit ``None`` was silently ignored.\n",
      "\u001b[0;31mFile:\u001b[0m      ~/.pyenv/versions/3.10.5/lib/python3.10/site-packages/pandas/core/frame.py\n",
      "\u001b[0;31mType:\u001b[0m      function\n"
     ]
    }
   ],
   "source": [
    "pd.DataFrame.replace?"
   ]
  },
  {
   "cell_type": "markdown",
   "metadata": {},
   "source": [
    "## df.replace() method ##"
   ]
  },
  {
   "cell_type": "code",
   "execution_count": 487,
   "metadata": {},
   "outputs": [
    {
     "name": "stdout",
     "output_type": "stream",
     "text": [
      "type of s: <class 'pandas.core.series.Series'>\n",
      "0    1\n",
      "1    2\n",
      "2    3\n",
      "3    4\n",
      "4    5\n",
      "dtype: int64\n"
     ]
    }
   ],
   "source": [
    "s = pd.Series([1, 2, 3, 4, 5])  # initialize a series class\n",
    "print(\"type of s:\", type(s))\n",
    "print(s)"
   ]
  },
  {
   "cell_type": "code",
   "execution_count": 488,
   "metadata": {},
   "outputs": [
    {
     "data": {
      "text/plain": [
       "0     1\n",
       "1    22\n",
       "2     3\n",
       "3     4\n",
       "4     5\n",
       "dtype: int64"
      ]
     },
     "execution_count": 488,
     "metadata": {},
     "output_type": "execute_result"
    }
   ],
   "source": [
    "k = s.replace(2, 22)  # replace all 2 values with 22, returns a new copy of s, does NOT mutate s.\n",
    "k"
   ]
  },
  {
   "cell_type": "code",
   "execution_count": 489,
   "metadata": {},
   "outputs": [
    {
     "data": {
      "text/plain": [
       "0    1\n",
       "1    2\n",
       "2    3\n",
       "3    4\n",
       "4    5\n",
       "dtype: int64"
      ]
     },
     "execution_count": 489,
     "metadata": {},
     "output_type": "execute_result"
    }
   ],
   "source": [
    "s  # s stays the same because inplace=False argument was given as default to above method. s is NOT mutated."
   ]
  },
  {
   "cell_type": "code",
   "execution_count": 490,
   "metadata": {},
   "outputs": [
    {
     "data": {
      "text/html": [
       "<div>\n",
       "<style scoped>\n",
       "    .dataframe tbody tr th:only-of-type {\n",
       "        vertical-align: middle;\n",
       "    }\n",
       "\n",
       "    .dataframe tbody tr th {\n",
       "        vertical-align: top;\n",
       "    }\n",
       "\n",
       "    .dataframe thead th {\n",
       "        text-align: right;\n",
       "    }\n",
       "</style>\n",
       "<table border=\"1\" class=\"dataframe\">\n",
       "  <thead>\n",
       "    <tr style=\"text-align: right;\">\n",
       "      <th></th>\n",
       "      <th>A</th>\n",
       "      <th>B</th>\n",
       "      <th>C</th>\n",
       "    </tr>\n",
       "  </thead>\n",
       "  <tbody>\n",
       "    <tr>\n",
       "      <th>0</th>\n",
       "      <td>0</td>\n",
       "      <td>5</td>\n",
       "      <td>a</td>\n",
       "    </tr>\n",
       "    <tr>\n",
       "      <th>1</th>\n",
       "      <td>1</td>\n",
       "      <td>6</td>\n",
       "      <td>b</td>\n",
       "    </tr>\n",
       "    <tr>\n",
       "      <th>2</th>\n",
       "      <td>2</td>\n",
       "      <td>7</td>\n",
       "      <td>c</td>\n",
       "    </tr>\n",
       "    <tr>\n",
       "      <th>3</th>\n",
       "      <td>3</td>\n",
       "      <td>8</td>\n",
       "      <td>d</td>\n",
       "    </tr>\n",
       "    <tr>\n",
       "      <th>4</th>\n",
       "      <td>4</td>\n",
       "      <td>9</td>\n",
       "      <td>e</td>\n",
       "    </tr>\n",
       "    <tr>\n",
       "      <th>5</th>\n",
       "      <td>5</td>\n",
       "      <td>10</td>\n",
       "      <td>1</td>\n",
       "    </tr>\n",
       "    <tr>\n",
       "      <th>6</th>\n",
       "      <td>6</td>\n",
       "      <td>11</td>\n",
       "      <td>2</td>\n",
       "    </tr>\n",
       "    <tr>\n",
       "      <th>7</th>\n",
       "      <td>7</td>\n",
       "      <td>12</td>\n",
       "      <td>3</td>\n",
       "    </tr>\n",
       "  </tbody>\n",
       "</table>\n",
       "</div>"
      ],
      "text/plain": [
       "   A   B  C\n",
       "0  0   5  a\n",
       "1  1   6  b\n",
       "2  2   7  c\n",
       "3  3   8  d\n",
       "4  4   9  e\n",
       "5  5  10  1\n",
       "6  6  11  2\n",
       "7  7  12  3"
      ]
     },
     "execution_count": 490,
     "metadata": {},
     "output_type": "execute_result"
    }
   ],
   "source": [
    "df = pd.DataFrame({'A': [0, 1, 2, 3, 4, 5, 6, 7],\n",
    "                   'B': [5, 6, 7, 8, 9, 10, 11, 12],\n",
    "                   'C': ['a', 'b', 'c', 'd', 'e', 1, 2, 3]})\n",
    "df"
   ]
  },
  {
   "cell_type": "code",
   "execution_count": 491,
   "metadata": {},
   "outputs": [
    {
     "data": {
      "text/html": [
       "<div>\n",
       "<style scoped>\n",
       "    .dataframe tbody tr th:only-of-type {\n",
       "        vertical-align: middle;\n",
       "    }\n",
       "\n",
       "    .dataframe tbody tr th {\n",
       "        vertical-align: top;\n",
       "    }\n",
       "\n",
       "    .dataframe thead th {\n",
       "        text-align: right;\n",
       "    }\n",
       "</style>\n",
       "<table border=\"1\" class=\"dataframe\">\n",
       "  <thead>\n",
       "    <tr style=\"text-align: right;\">\n",
       "      <th></th>\n",
       "      <th>A</th>\n",
       "      <th>B</th>\n",
       "      <th>C</th>\n",
       "    </tr>\n",
       "  </thead>\n",
       "  <tbody>\n",
       "    <tr>\n",
       "      <th>0</th>\n",
       "      <td>0</td>\n",
       "      <td>55</td>\n",
       "      <td>a</td>\n",
       "    </tr>\n",
       "    <tr>\n",
       "      <th>1</th>\n",
       "      <td>1</td>\n",
       "      <td>66</td>\n",
       "      <td>b</td>\n",
       "    </tr>\n",
       "    <tr>\n",
       "      <th>2</th>\n",
       "      <td>2</td>\n",
       "      <td>7</td>\n",
       "      <td>c</td>\n",
       "    </tr>\n",
       "    <tr>\n",
       "      <th>3</th>\n",
       "      <td>3</td>\n",
       "      <td>8</td>\n",
       "      <td>d</td>\n",
       "    </tr>\n",
       "    <tr>\n",
       "      <th>4</th>\n",
       "      <td>4</td>\n",
       "      <td>9</td>\n",
       "      <td>e</td>\n",
       "    </tr>\n",
       "    <tr>\n",
       "      <th>5</th>\n",
       "      <td>55</td>\n",
       "      <td>10</td>\n",
       "      <td>1</td>\n",
       "    </tr>\n",
       "    <tr>\n",
       "      <th>6</th>\n",
       "      <td>66</td>\n",
       "      <td>11</td>\n",
       "      <td>2</td>\n",
       "    </tr>\n",
       "    <tr>\n",
       "      <th>7</th>\n",
       "      <td>7</td>\n",
       "      <td>12</td>\n",
       "      <td>3</td>\n",
       "    </tr>\n",
       "  </tbody>\n",
       "</table>\n",
       "</div>"
      ],
      "text/plain": [
       "    A   B  C\n",
       "0   0  55  a\n",
       "1   1  66  b\n",
       "2   2   7  c\n",
       "3   3   8  d\n",
       "4   4   9  e\n",
       "5  55  10  1\n",
       "6  66  11  2\n",
       "7   7  12  3"
      ]
     },
     "execution_count": 491,
     "metadata": {},
     "output_type": "execute_result"
    }
   ],
   "source": [
    "df.replace((5, 6), (55, 66))  # replace values 5 -> 55 and 6 -> 66. We can use 2 arraylike as values for to_replace and value arguments."
   ]
  },
  {
   "cell_type": "code",
   "execution_count": 492,
   "metadata": {},
   "outputs": [
    {
     "data": {
      "text/html": [
       "<div>\n",
       "<style scoped>\n",
       "    .dataframe tbody tr th:only-of-type {\n",
       "        vertical-align: middle;\n",
       "    }\n",
       "\n",
       "    .dataframe tbody tr th {\n",
       "        vertical-align: top;\n",
       "    }\n",
       "\n",
       "    .dataframe thead th {\n",
       "        text-align: right;\n",
       "    }\n",
       "</style>\n",
       "<table border=\"1\" class=\"dataframe\">\n",
       "  <thead>\n",
       "    <tr style=\"text-align: right;\">\n",
       "      <th></th>\n",
       "      <th>A</th>\n",
       "      <th>B</th>\n",
       "      <th>C</th>\n",
       "    </tr>\n",
       "  </thead>\n",
       "  <tbody>\n",
       "    <tr>\n",
       "      <th>0</th>\n",
       "      <td>0</td>\n",
       "      <td>5</td>\n",
       "      <td>a</td>\n",
       "    </tr>\n",
       "    <tr>\n",
       "      <th>1</th>\n",
       "      <td>1</td>\n",
       "      <td>100</td>\n",
       "      <td>b</td>\n",
       "    </tr>\n",
       "    <tr>\n",
       "      <th>2</th>\n",
       "      <td>2</td>\n",
       "      <td>7</td>\n",
       "      <td>c</td>\n",
       "    </tr>\n",
       "    <tr>\n",
       "      <th>3</th>\n",
       "      <td>3</td>\n",
       "      <td>8</td>\n",
       "      <td>d</td>\n",
       "    </tr>\n",
       "    <tr>\n",
       "      <th>4</th>\n",
       "      <td>4</td>\n",
       "      <td>9</td>\n",
       "      <td>e</td>\n",
       "    </tr>\n",
       "    <tr>\n",
       "      <th>5</th>\n",
       "      <td>100</td>\n",
       "      <td>10</td>\n",
       "      <td>1</td>\n",
       "    </tr>\n",
       "    <tr>\n",
       "      <th>6</th>\n",
       "      <td>6</td>\n",
       "      <td>11</td>\n",
       "      <td>2</td>\n",
       "    </tr>\n",
       "    <tr>\n",
       "      <th>7</th>\n",
       "      <td>7</td>\n",
       "      <td>12</td>\n",
       "      <td>3</td>\n",
       "    </tr>\n",
       "  </tbody>\n",
       "</table>\n",
       "</div>"
      ],
      "text/plain": [
       "     A    B  C\n",
       "0    0    5  a\n",
       "1    1  100  b\n",
       "2    2    7  c\n",
       "3    3    8  d\n",
       "4    4    9  e\n",
       "5  100   10  1\n",
       "6    6   11  2\n",
       "7    7   12  3"
      ]
     },
     "execution_count": 492,
     "metadata": {},
     "output_type": "execute_result"
    }
   ],
   "source": [
    "# We can also use a dict in the first argument (to_replace) to specify which columns to look for to replace values\n",
    "df.replace({\"A\":5, \"B\":6}, 100)  # replace the 5 values of A and 6 values of B to 100."
   ]
  },
  {
   "cell_type": "code",
   "execution_count": 493,
   "metadata": {},
   "outputs": [
    {
     "data": {
      "text/html": [
       "<div>\n",
       "<style scoped>\n",
       "    .dataframe tbody tr th:only-of-type {\n",
       "        vertical-align: middle;\n",
       "    }\n",
       "\n",
       "    .dataframe tbody tr th {\n",
       "        vertical-align: top;\n",
       "    }\n",
       "\n",
       "    .dataframe thead th {\n",
       "        text-align: right;\n",
       "    }\n",
       "</style>\n",
       "<table border=\"1\" class=\"dataframe\">\n",
       "  <thead>\n",
       "    <tr style=\"text-align: right;\">\n",
       "      <th></th>\n",
       "      <th>A</th>\n",
       "      <th>B</th>\n",
       "      <th>C</th>\n",
       "    </tr>\n",
       "  </thead>\n",
       "  <tbody>\n",
       "    <tr>\n",
       "      <th>0</th>\n",
       "      <td>0</td>\n",
       "      <td>555</td>\n",
       "      <td>a</td>\n",
       "    </tr>\n",
       "    <tr>\n",
       "      <th>1</th>\n",
       "      <td>1</td>\n",
       "      <td>6</td>\n",
       "      <td>b</td>\n",
       "    </tr>\n",
       "    <tr>\n",
       "      <th>2</th>\n",
       "      <td>2</td>\n",
       "      <td>7</td>\n",
       "      <td>c</td>\n",
       "    </tr>\n",
       "    <tr>\n",
       "      <th>3</th>\n",
       "      <td>3</td>\n",
       "      <td>8</td>\n",
       "      <td>d</td>\n",
       "    </tr>\n",
       "    <tr>\n",
       "      <th>4</th>\n",
       "      <td>4</td>\n",
       "      <td>9</td>\n",
       "      <td>e</td>\n",
       "    </tr>\n",
       "    <tr>\n",
       "      <th>5</th>\n",
       "      <td>55</td>\n",
       "      <td>10</td>\n",
       "      <td>1</td>\n",
       "    </tr>\n",
       "    <tr>\n",
       "      <th>6</th>\n",
       "      <td>6</td>\n",
       "      <td>11</td>\n",
       "      <td>2</td>\n",
       "    </tr>\n",
       "    <tr>\n",
       "      <th>7</th>\n",
       "      <td>7</td>\n",
       "      <td>12</td>\n",
       "      <td>3</td>\n",
       "    </tr>\n",
       "  </tbody>\n",
       "</table>\n",
       "</div>"
      ],
      "text/plain": [
       "    A    B  C\n",
       "0   0  555  a\n",
       "1   1    6  b\n",
       "2   2    7  c\n",
       "3   3    8  d\n",
       "4   4    9  e\n",
       "5  55   10  1\n",
       "6   6   11  2\n",
       "7   7   12  3"
      ]
     },
     "execution_count": 493,
     "metadata": {},
     "output_type": "execute_result"
    }
   ],
   "source": [
    "df.replace(5, {\"A\":55, \"B\":555})  # Replace the values of 5 to 55 if in column A, to 555 if in column B"
   ]
  },
  {
   "cell_type": "markdown",
   "metadata": {},
   "source": [
    "## df.astype() method ##"
   ]
  },
  {
   "cell_type": "code",
   "execution_count": 494,
   "metadata": {},
   "outputs": [
    {
     "name": "stdout",
     "output_type": "stream",
     "text": [
      "   A   B  C\n",
      "0  0   5  a\n",
      "1  1   6  b\n",
      "2  2   7  c\n",
      "3  3   8  d\n",
      "4  4   9  e\n",
      "5  5  10  1\n",
      "6  6  11  2\n",
      "7  7  12  3\n"
     ]
    }
   ],
   "source": [
    "# pd.df.astype() method:\n",
    "print(df)  # our original dataframe"
   ]
  },
  {
   "cell_type": "code",
   "execution_count": 495,
   "metadata": {},
   "outputs": [
    {
     "data": {
      "text/plain": [
       "A     int64\n",
       "B     int64\n",
       "C    object\n",
       "dtype: object"
      ]
     },
     "execution_count": 495,
     "metadata": {},
     "output_type": "execute_result"
    }
   ],
   "source": [
    "df.dtypes  # values in columns A and B are type int64, values in column C is type object"
   ]
  },
  {
   "cell_type": "code",
   "execution_count": 496,
   "metadata": {},
   "outputs": [
    {
     "data": {
      "text/html": [
       "<div>\n",
       "<style scoped>\n",
       "    .dataframe tbody tr th:only-of-type {\n",
       "        vertical-align: middle;\n",
       "    }\n",
       "\n",
       "    .dataframe tbody tr th {\n",
       "        vertical-align: top;\n",
       "    }\n",
       "\n",
       "    .dataframe thead th {\n",
       "        text-align: right;\n",
       "    }\n",
       "</style>\n",
       "<table border=\"1\" class=\"dataframe\">\n",
       "  <thead>\n",
       "    <tr style=\"text-align: right;\">\n",
       "      <th></th>\n",
       "      <th>A</th>\n",
       "      <th>B</th>\n",
       "      <th>C</th>\n",
       "    </tr>\n",
       "  </thead>\n",
       "  <tbody>\n",
       "    <tr>\n",
       "      <th>0</th>\n",
       "      <td>0.0</td>\n",
       "      <td>5</td>\n",
       "      <td>a</td>\n",
       "    </tr>\n",
       "    <tr>\n",
       "      <th>1</th>\n",
       "      <td>1.0</td>\n",
       "      <td>6</td>\n",
       "      <td>b</td>\n",
       "    </tr>\n",
       "    <tr>\n",
       "      <th>2</th>\n",
       "      <td>2.0</td>\n",
       "      <td>7</td>\n",
       "      <td>c</td>\n",
       "    </tr>\n",
       "    <tr>\n",
       "      <th>3</th>\n",
       "      <td>3.0</td>\n",
       "      <td>8</td>\n",
       "      <td>d</td>\n",
       "    </tr>\n",
       "    <tr>\n",
       "      <th>4</th>\n",
       "      <td>4.0</td>\n",
       "      <td>9</td>\n",
       "      <td>e</td>\n",
       "    </tr>\n",
       "    <tr>\n",
       "      <th>5</th>\n",
       "      <td>5.0</td>\n",
       "      <td>10</td>\n",
       "      <td>1</td>\n",
       "    </tr>\n",
       "    <tr>\n",
       "      <th>6</th>\n",
       "      <td>6.0</td>\n",
       "      <td>11</td>\n",
       "      <td>2</td>\n",
       "    </tr>\n",
       "    <tr>\n",
       "      <th>7</th>\n",
       "      <td>7.0</td>\n",
       "      <td>12</td>\n",
       "      <td>3</td>\n",
       "    </tr>\n",
       "  </tbody>\n",
       "</table>\n",
       "</div>"
      ],
      "text/plain": [
       "     A   B  C\n",
       "0  0.0   5  a\n",
       "1  1.0   6  b\n",
       "2  2.0   7  c\n",
       "3  3.0   8  d\n",
       "4  4.0   9  e\n",
       "5  5.0  10  1\n",
       "6  6.0  11  2\n",
       "7  7.0  12  3"
      ]
     },
     "execution_count": 496,
     "metadata": {},
     "output_type": "execute_result"
    }
   ],
   "source": [
    "# We can cast the types of values in individual columns using df.astype(). Returns a copy of df as default (does not mutate).\n",
    "df_cast = df.astype({\"A\":\"float64\", \"B\":str})\n",
    "df_cast"
   ]
  },
  {
   "cell_type": "code",
   "execution_count": 497,
   "metadata": {},
   "outputs": [
    {
     "data": {
      "text/plain": [
       "A    float64\n",
       "B     object\n",
       "C     object\n",
       "dtype: object"
      ]
     },
     "execution_count": 497,
     "metadata": {},
     "output_type": "execute_result"
    }
   ],
   "source": [
    "df_cast.dtypes  # column A turned to float. And also because we cast the values in B to string, column B turned to object."
   ]
  },
  {
   "cell_type": "markdown",
   "metadata": {},
   "source": [
    "## pandas.to_datetime ##"
   ]
  },
  {
   "cell_type": "code",
   "execution_count": 498,
   "metadata": {},
   "outputs": [
    {
     "data": {
      "text/html": [
       "<div>\n",
       "<style scoped>\n",
       "    .dataframe tbody tr th:only-of-type {\n",
       "        vertical-align: middle;\n",
       "    }\n",
       "\n",
       "    .dataframe tbody tr th {\n",
       "        vertical-align: top;\n",
       "    }\n",
       "\n",
       "    .dataframe thead th {\n",
       "        text-align: right;\n",
       "    }\n",
       "</style>\n",
       "<table border=\"1\" class=\"dataframe\">\n",
       "  <thead>\n",
       "    <tr style=\"text-align: right;\">\n",
       "      <th></th>\n",
       "      <th>year</th>\n",
       "      <th>month</th>\n",
       "      <th>day</th>\n",
       "    </tr>\n",
       "  </thead>\n",
       "  <tbody>\n",
       "    <tr>\n",
       "      <th>0</th>\n",
       "      <td>2015</td>\n",
       "      <td>2</td>\n",
       "      <td>4</td>\n",
       "    </tr>\n",
       "    <tr>\n",
       "      <th>1</th>\n",
       "      <td>2016</td>\n",
       "      <td>3</td>\n",
       "      <td>5</td>\n",
       "    </tr>\n",
       "  </tbody>\n",
       "</table>\n",
       "</div>"
      ],
      "text/plain": [
       "   year  month  day\n",
       "0  2015      2    4\n",
       "1  2016      3    5"
      ]
     },
     "execution_count": 498,
     "metadata": {},
     "output_type": "execute_result"
    }
   ],
   "source": [
    "df = pd.DataFrame({'year': [2015, 2016],\n",
    "                   'month': [2, 3],\n",
    "                   'day': [4, 5]})\n",
    "df"
   ]
  },
  {
   "cell_type": "code",
   "execution_count": 499,
   "metadata": {},
   "outputs": [
    {
     "data": {
      "text/plain": [
       "0   2015-02-04\n",
       "1   2016-03-05\n",
       "dtype: datetime64[ns]"
      ]
     },
     "execution_count": 499,
     "metadata": {},
     "output_type": "execute_result"
    }
   ],
   "source": [
    "df_datetime = pd.to_datetime(df)  # whole dataframe converted to datetime\n",
    "df_datetime"
   ]
  },
  {
   "cell_type": "code",
   "execution_count": 500,
   "metadata": {},
   "outputs": [
    {
     "data": {
      "text/html": [
       "<div>\n",
       "<style scoped>\n",
       "    .dataframe tbody tr th:only-of-type {\n",
       "        vertical-align: middle;\n",
       "    }\n",
       "\n",
       "    .dataframe tbody tr th {\n",
       "        vertical-align: top;\n",
       "    }\n",
       "\n",
       "    .dataframe thead th {\n",
       "        text-align: right;\n",
       "    }\n",
       "</style>\n",
       "<table border=\"1\" class=\"dataframe\">\n",
       "  <thead>\n",
       "    <tr style=\"text-align: right;\">\n",
       "      <th></th>\n",
       "      <th>A</th>\n",
       "      <th>B</th>\n",
       "    </tr>\n",
       "  </thead>\n",
       "  <tbody>\n",
       "    <tr>\n",
       "      <th>0</th>\n",
       "      <td>2019-01-01</td>\n",
       "      <td>100</td>\n",
       "    </tr>\n",
       "    <tr>\n",
       "      <th>1</th>\n",
       "      <td>2020-01-01</td>\n",
       "      <td>110</td>\n",
       "    </tr>\n",
       "    <tr>\n",
       "      <th>2</th>\n",
       "      <td>2021-01-01</td>\n",
       "      <td>80</td>\n",
       "    </tr>\n",
       "  </tbody>\n",
       "</table>\n",
       "</div>"
      ],
      "text/plain": [
       "            A    B\n",
       "0  2019-01-01  100\n",
       "1  2020-01-01  110\n",
       "2  2021-01-01   80"
      ]
     },
     "execution_count": 500,
     "metadata": {},
     "output_type": "execute_result"
    }
   ],
   "source": [
    "mydf = pd.DataFrame({\n",
    "    \"A\":[\"2019-01-01\", \"2020-01-01\", \"2021-01-01\"],\n",
    "    \"B\":[100, 110, 80]\n",
    "})\n",
    "\n",
    "mydf"
   ]
  },
  {
   "cell_type": "code",
   "execution_count": 501,
   "metadata": {},
   "outputs": [
    {
     "data": {
      "text/plain": [
       "A    object\n",
       "B     int64\n",
       "dtype: object"
      ]
     },
     "execution_count": 501,
     "metadata": {},
     "output_type": "execute_result"
    }
   ],
   "source": [
    "mydf.dtypes"
   ]
  },
  {
   "cell_type": "code",
   "execution_count": 502,
   "metadata": {},
   "outputs": [
    {
     "data": {
      "text/plain": [
       "0   2019-01-01\n",
       "1   2020-01-01\n",
       "2   2021-01-01\n",
       "Name: A, dtype: datetime64[ns]"
      ]
     },
     "execution_count": 502,
     "metadata": {},
     "output_type": "execute_result"
    }
   ],
   "source": [
    "mydf = pd.to_datetime(mydf.A, yearfirst=True)\n",
    "mydf"
   ]
  },
  {
   "cell_type": "markdown",
   "metadata": {},
   "source": [
    "## pandas.Series.dt.strftime()  ##"
   ]
  },
  {
   "cell_type": "code",
   "execution_count": 503,
   "metadata": {},
   "outputs": [
    {
     "data": {
      "text/plain": [
       "DatetimeIndex(['2018-03-10 09:00:00', '2018-03-10 09:00:01',\n",
       "               '2018-03-10 09:00:02'],\n",
       "              dtype='datetime64[ns]', freq='S')"
      ]
     },
     "execution_count": 503,
     "metadata": {},
     "output_type": "execute_result"
    }
   ],
   "source": [
    "# Generate 3 timestamps with 1 second frequency\n",
    "\n",
    "rng = pd.date_range(pd.Timestamp(\"2018-03-10 09:00\"),\n",
    "                    periods=3, freq='s')\n",
    "rng"
   ]
  },
  {
   "cell_type": "code",
   "execution_count": 504,
   "metadata": {},
   "outputs": [
    {
     "data": {
      "text/plain": [
       "Index(['March 10, 2018, 09:00:00 AM', 'March 10, 2018, 09:00:01 AM',\n",
       "       'March 10, 2018, 09:00:02 AM'],\n",
       "      dtype='object')"
      ]
     },
     "execution_count": 504,
     "metadata": {},
     "output_type": "execute_result"
    }
   ],
   "source": [
    "rng.strftime('%B %d, %Y, %r')"
   ]
  },
  {
   "cell_type": "markdown",
   "metadata": {},
   "source": [
    "## pandas.DataFrame.values ##\n",
    "We recommend using **DataFrame.to_numpy()** instead."
   ]
  },
  {
   "cell_type": "code",
   "execution_count": 505,
   "metadata": {},
   "outputs": [
    {
     "data": {
      "text/html": [
       "<div>\n",
       "<style scoped>\n",
       "    .dataframe tbody tr th:only-of-type {\n",
       "        vertical-align: middle;\n",
       "    }\n",
       "\n",
       "    .dataframe tbody tr th {\n",
       "        vertical-align: top;\n",
       "    }\n",
       "\n",
       "    .dataframe thead th {\n",
       "        text-align: right;\n",
       "    }\n",
       "</style>\n",
       "<table border=\"1\" class=\"dataframe\">\n",
       "  <thead>\n",
       "    <tr style=\"text-align: right;\">\n",
       "      <th></th>\n",
       "      <th>age</th>\n",
       "      <th>height</th>\n",
       "      <th>weight</th>\n",
       "    </tr>\n",
       "  </thead>\n",
       "  <tbody>\n",
       "    <tr>\n",
       "      <th>0</th>\n",
       "      <td>3</td>\n",
       "      <td>94</td>\n",
       "      <td>31</td>\n",
       "    </tr>\n",
       "    <tr>\n",
       "      <th>1</th>\n",
       "      <td>29</td>\n",
       "      <td>170</td>\n",
       "      <td>115</td>\n",
       "    </tr>\n",
       "  </tbody>\n",
       "</table>\n",
       "</div>"
      ],
      "text/plain": [
       "   age  height  weight\n",
       "0    3      94      31\n",
       "1   29     170     115"
      ]
     },
     "execution_count": 505,
     "metadata": {},
     "output_type": "execute_result"
    }
   ],
   "source": [
    "df = pd.DataFrame({'age':    [ 3,  29],\n",
    "                   'height': [94, 170],\n",
    "                   'weight': [31, 115]})\n",
    "df"
   ]
  },
  {
   "cell_type": "code",
   "execution_count": 506,
   "metadata": {},
   "outputs": [
    {
     "data": {
      "text/plain": [
       "array([[  3,  94,  31],\n",
       "       [ 29, 170, 115]])"
      ]
     },
     "execution_count": 506,
     "metadata": {},
     "output_type": "execute_result"
    }
   ],
   "source": [
    "df_np = df.to_numpy()  # converts the dataframe to numpy array (notice column names and indexes are gone)\n",
    "df_np"
   ]
  },
  {
   "cell_type": "markdown",
   "metadata": {},
   "source": [
    "## pandas.Series.tolist() ##"
   ]
  },
  {
   "cell_type": "code",
   "execution_count": 507,
   "metadata": {},
   "outputs": [
    {
     "data": {
      "text/plain": [
       "0    a\n",
       "1    b\n",
       "2    c\n",
       "dtype: object"
      ]
     },
     "execution_count": 507,
     "metadata": {},
     "output_type": "execute_result"
    }
   ],
   "source": [
    "s = pd.Series([\"a\", \"b\", \"c\"], (0, 1, 2))  # first argument is values, second argument is indexes\n",
    "s"
   ]
  },
  {
   "cell_type": "code",
   "execution_count": 508,
   "metadata": {},
   "outputs": [
    {
     "data": {
      "text/plain": [
       "['a', 'b', 'c']"
      ]
     },
     "execution_count": 508,
     "metadata": {},
     "output_type": "execute_result"
    }
   ],
   "source": [
    "s_list = s.tolist()  # notice indexes are gone.\n",
    "s_list"
   ]
  },
  {
   "cell_type": "markdown",
   "metadata": {},
   "source": [
    "## 1. The Risk Adjusted Discount Rate ##"
   ]
  },
  {
   "cell_type": "markdown",
   "metadata": {},
   "source": [
    "We discount cash flows using risk-free interest rate:\n",
    "\n",
    "$$\\text{Bond price} = \\frac{\\text{ECF}_1}{1+i} + \\frac{\\text{ECF}_2}{(1+i)^2} + \\frac{\\text{ECF}_3}{(1+i)^3}$$\n",
    "\n",
    "$\\text{ECF}$ = Expected Cash Flow  <br>\n",
    "$i$ = interest rate  <br>"
   ]
  },
  {
   "cell_type": "markdown",
   "metadata": {},
   "source": [
    "## 2. Estimating Expected Cash Flows\n",
    "The first step in valuing the bond is to find the expected cash flow at each period. This is done by adding the product of the default payout and the probability of default ($p$) with the product of the promised payment (coupon payments and repayment of principal) and the probability of not defaulting ($1-p$), which is also referred to as the probability of survival. \\\n",
    "Let's say our bond has 3 cash flows: 2 coupon payments and one principal payment at the end:\n",
    "\n",
    "_________________________\n",
    "\n",
    "$\\text{ECF}_1 = p\\ (\\text{Default Payout}) + (1-p)\\ (\\text{Coupon Payment})$\n",
    "\n",
    "with probability $p$ the borrower defaults on the first payment and pays the default payout or w.p. $(1-p)$ the borrower does **not** default and pays the coupon value.\n",
    "\n",
    "------------------\n",
    "\n",
    "$\\text{ECF}_2 = (1-p)\\ \\big( p\\ (\\text{Default Payout}) + (1-p)\\ (\\text{Coupon Payment}) \\big)$\n",
    "\n",
    "------------------\n",
    "\n",
    "$\\text{ECF}_3 = (1-p)^2\\ \\big( p\\ (\\text{Default Payout}) + (1-p)\\ (\\text{Coupon Payment} + \\text{Principal}) \\big)$\n",
    "\n",
    "--------------------------------\n",
    "\n",
    "$\\text{ECF}$ = Expected Cash Flow  <br>\n",
    "$p = \\text{Probability of Default}$ <br>\n",
    "$\\text{Default Payout} = \\text{Principal} \\times \\text{Recovery Rate}$"
   ]
  },
  {
   "cell_type": "markdown",
   "metadata": {},
   "source": [
    "## 3. Expected Risk Premium\n",
    "\n",
    "$$r_{_m} = r_{_f} + \\beta \\cdot \\text{MRP}$$\n",
    "\n",
    "$r_{_m}$ = Market Rate of Return  <br>\n",
    "$r_{_f}$ = Risk-free Rate  <br>\n",
    "$\\beta$ = Beta  <br>\n",
    "$\\text{MRP}$ = Market Risk Premium  <br>"
   ]
  },
  {
   "cell_type": "code",
   "execution_count": 509,
   "metadata": {},
   "outputs": [
    {
     "name": "stdout",
     "output_type": "stream",
     "text": [
      "[*********************100%%**********************]  1 of 1 completed\n"
     ]
    },
    {
     "data": {
      "text/html": [
       "<div>\n",
       "<style scoped>\n",
       "    .dataframe tbody tr th:only-of-type {\n",
       "        vertical-align: middle;\n",
       "    }\n",
       "\n",
       "    .dataframe tbody tr th {\n",
       "        vertical-align: top;\n",
       "    }\n",
       "\n",
       "    .dataframe thead th {\n",
       "        text-align: right;\n",
       "    }\n",
       "</style>\n",
       "<table border=\"1\" class=\"dataframe\">\n",
       "  <thead>\n",
       "    <tr style=\"text-align: right;\">\n",
       "      <th></th>\n",
       "      <th>Open</th>\n",
       "      <th>High</th>\n",
       "      <th>Low</th>\n",
       "      <th>Close</th>\n",
       "      <th>Adj Close</th>\n",
       "      <th>Volume</th>\n",
       "    </tr>\n",
       "    <tr>\n",
       "      <th>Date</th>\n",
       "      <th></th>\n",
       "      <th></th>\n",
       "      <th></th>\n",
       "      <th></th>\n",
       "      <th></th>\n",
       "      <th></th>\n",
       "    </tr>\n",
       "  </thead>\n",
       "  <tbody>\n",
       "    <tr>\n",
       "      <th>2023-06-26</th>\n",
       "      <td>3.702</td>\n",
       "      <td>3.737</td>\n",
       "      <td>3.679</td>\n",
       "      <td>3.719</td>\n",
       "      <td>3.719</td>\n",
       "      <td>0</td>\n",
       "    </tr>\n",
       "    <tr>\n",
       "      <th>2023-06-27</th>\n",
       "      <td>3.714</td>\n",
       "      <td>3.776</td>\n",
       "      <td>3.692</td>\n",
       "      <td>3.768</td>\n",
       "      <td>3.768</td>\n",
       "      <td>0</td>\n",
       "    </tr>\n",
       "    <tr>\n",
       "      <th>2023-06-28</th>\n",
       "      <td>3.735</td>\n",
       "      <td>3.766</td>\n",
       "      <td>3.704</td>\n",
       "      <td>3.710</td>\n",
       "      <td>3.710</td>\n",
       "      <td>0</td>\n",
       "    </tr>\n",
       "    <tr>\n",
       "      <th>2023-06-29</th>\n",
       "      <td>3.747</td>\n",
       "      <td>3.868</td>\n",
       "      <td>3.747</td>\n",
       "      <td>3.854</td>\n",
       "      <td>3.854</td>\n",
       "      <td>0</td>\n",
       "    </tr>\n",
       "    <tr>\n",
       "      <th>2023-06-30</th>\n",
       "      <td>3.860</td>\n",
       "      <td>3.872</td>\n",
       "      <td>3.807</td>\n",
       "      <td>3.819</td>\n",
       "      <td>3.819</td>\n",
       "      <td>0</td>\n",
       "    </tr>\n",
       "    <tr>\n",
       "      <th>...</th>\n",
       "      <td>...</td>\n",
       "      <td>...</td>\n",
       "      <td>...</td>\n",
       "      <td>...</td>\n",
       "      <td>...</td>\n",
       "      <td>...</td>\n",
       "    </tr>\n",
       "    <tr>\n",
       "      <th>2023-09-26</th>\n",
       "      <td>4.485</td>\n",
       "      <td>4.564</td>\n",
       "      <td>4.483</td>\n",
       "      <td>4.558</td>\n",
       "      <td>4.558</td>\n",
       "      <td>0</td>\n",
       "    </tr>\n",
       "    <tr>\n",
       "      <th>2023-09-27</th>\n",
       "      <td>4.507</td>\n",
       "      <td>4.643</td>\n",
       "      <td>4.491</td>\n",
       "      <td>4.626</td>\n",
       "      <td>4.626</td>\n",
       "      <td>0</td>\n",
       "    </tr>\n",
       "    <tr>\n",
       "      <th>2023-09-28</th>\n",
       "      <td>4.624</td>\n",
       "      <td>4.688</td>\n",
       "      <td>4.597</td>\n",
       "      <td>4.597</td>\n",
       "      <td>4.597</td>\n",
       "      <td>0</td>\n",
       "    </tr>\n",
       "    <tr>\n",
       "      <th>2023-09-29</th>\n",
       "      <td>4.549</td>\n",
       "      <td>4.575</td>\n",
       "      <td>4.508</td>\n",
       "      <td>4.573</td>\n",
       "      <td>4.573</td>\n",
       "      <td>0</td>\n",
       "    </tr>\n",
       "    <tr>\n",
       "      <th>2023-10-02</th>\n",
       "      <td>0.000</td>\n",
       "      <td>4.683</td>\n",
       "      <td>4.683</td>\n",
       "      <td>4.683</td>\n",
       "      <td>4.683</td>\n",
       "      <td>0</td>\n",
       "    </tr>\n",
       "  </tbody>\n",
       "</table>\n",
       "<p>69 rows × 6 columns</p>\n",
       "</div>"
      ],
      "text/plain": [
       "             Open   High    Low  Close  Adj Close  Volume\n",
       "Date                                                     \n",
       "2023-06-26  3.702  3.737  3.679  3.719      3.719       0\n",
       "2023-06-27  3.714  3.776  3.692  3.768      3.768       0\n",
       "2023-06-28  3.735  3.766  3.704  3.710      3.710       0\n",
       "2023-06-29  3.747  3.868  3.747  3.854      3.854       0\n",
       "2023-06-30  3.860  3.872  3.807  3.819      3.819       0\n",
       "...           ...    ...    ...    ...        ...     ...\n",
       "2023-09-26  4.485  4.564  4.483  4.558      4.558       0\n",
       "2023-09-27  4.507  4.643  4.491  4.626      4.626       0\n",
       "2023-09-28  4.624  4.688  4.597  4.597      4.597       0\n",
       "2023-09-29  4.549  4.575  4.508  4.573      4.573       0\n",
       "2023-10-02  0.000  4.683  4.683  4.683      4.683       0\n",
       "\n",
       "[69 rows x 6 columns]"
      ]
     },
     "execution_count": 509,
     "metadata": {},
     "output_type": "execute_result"
    }
   ],
   "source": [
    "# Ten-Year Risk-free Rate\n",
    "timespan = 100\n",
    "current_date = date.today()\n",
    "past_date = current_date - timedelta(days=timespan)\n",
    "ten_year_risk_free_rate_df = yfin.download(\"^TNX\", past_date, current_date)\n",
    "ten_year_risk_free_rate_df"
   ]
  },
  {
   "cell_type": "code",
   "execution_count": 510,
   "metadata": {},
   "outputs": [
    {
     "data": {
      "text/plain": [
       "0.04683000087738037"
      ]
     },
     "execution_count": 510,
     "metadata": {},
     "output_type": "execute_result"
    }
   ],
   "source": [
    "ten_year_risk_free_rate = ten_year_risk_free_rate_df.iloc[-1, 4] / 100\n",
    "ten_year_risk_free_rate"
   ]
  },
  {
   "cell_type": "markdown",
   "metadata": {},
   "source": [
    "The market risk premium should be the expected return on the market index (such as S&P 500) less the expected return (or yield) on the long-term government bond. For our purposes, we use the annual [market risk premium](http://pages.stern.nyu.edu/~adamodar/New_Home_Page/datafile/ctryprem.html) provided by Aswath Damodaran, a professor at the Stern School of Business at New York University.\n",
    "\n",
    "MRP $= E[r_S] - E[r_B] = \\mu_S - i$\n",
    "\n",
    "where\n",
    "\n",
    "MRP $:$ Market Risk Premium\n",
    "\n",
    "$E[r_S] = \\mu_S:$ Expected rate of return of a market index such as *S&P 500*\n",
    "\n",
    "$E[r_B] = i:$ Expected rate of return of the bond which is equal to $i: $ risk-free interest rate"
   ]
  },
  {
   "cell_type": "markdown",
   "metadata": {},
   "source": [
    "$r_{S} = r_{B} + \\beta \\cdot \\text{MRP}$"
   ]
  },
  {
   "cell_type": "markdown",
   "metadata": {},
   "source": [
    "According to asset pricing theory, beta represents the type of risk, systematic risk, that cannot be diversified away. By definition, the market itself has a beta of 1. As a result, beta will be equal to 1 when calculating the market rate of return."
   ]
  },
  {
   "cell_type": "code",
   "execution_count": 511,
   "metadata": {},
   "outputs": [
    {
     "data": {
      "text/plain": [
       "0.09403000087738037"
      ]
     },
     "execution_count": 511,
     "metadata": {},
     "output_type": "execute_result"
    }
   ],
   "source": [
    "# Market Risk Premium\n",
    "MRP = 0.0472\n",
    "\n",
    "# Market Equity Beta\n",
    "beta = 1\n",
    "\n",
    "# Market Rate of Return\n",
    "market_rate_of_return = ten_year_risk_free_rate + (beta * MRP)\n",
    "market_rate_of_return"
   ]
  },
  {
   "cell_type": "markdown",
   "metadata": {},
   "source": [
    "Now that we have calculated the market rate of return, we can determine the expected risk premium by subtracting the risk-free rate from the market rate of return and multiplying the result by the beta for the bond."
   ]
  },
  {
   "cell_type": "code",
   "execution_count": 512,
   "metadata": {},
   "outputs": [
    {
     "data": {
      "text/plain": [
       "0.004587143968210139"
      ]
     },
     "execution_count": 512,
     "metadata": {},
     "output_type": "execute_result"
    }
   ],
   "source": [
    "# One-Year Risk-free Rate\n",
    "one_year_risk_free_rate = (1 + ten_year_risk_free_rate) ** (1 / 10) - 1\n",
    "one_year_risk_free_rate"
   ]
  },
  {
   "cell_type": "markdown",
   "metadata": {},
   "source": [
    "A bond's beta is the sensitivity of that bond's return to the return of the market index. It is a measure of undiversifiable, systematic risk. As you see below, it can be calculated in (at least) two ways."
   ]
  },
  {
   "cell_type": "code",
   "execution_count": 513,
   "metadata": {},
   "outputs": [
    {
     "name": "stdout",
     "output_type": "stream",
     "text": [
      "[*********************100%%**********************]  1 of 1 completed\n",
      "[*********************100%%**********************]  1 of 1 completed\n"
     ]
    }
   ],
   "source": [
    "# Vanguard Short-Term Corporate Bond Index Fund ETF Shares\n",
    "bond_fund_ticker = \"VCSH\"\n",
    "\n",
    "# Download data for the bond fund and the market\n",
    "market_data = yfin.download(\"SPY\", past_date, current_date)  # the market S&P 500\n",
    "fund_data = yfin.download(\"VCSH\", past_date, current_date)  # the bond fund VCSH"
   ]
  },
  {
   "cell_type": "markdown",
   "metadata": {},
   "source": [
    "## Capital Asset Pricing Model (CAPM) ##"
   ]
  },
  {
   "cell_type": "markdown",
   "metadata": {},
   "source": [
    "**CAPM** relates the expected rate of return and volatility of a **risky asset** $T$ to the expected rate of return and volatility of a **market portfolio** $S$. \\\n",
    "\\\n",
    "According to **CAPM**, $\\mu_T$ and $\\sigma_T$ of an arbitrary asset or portfolio depends only on the asset's correlation to market portfolio $\\rho_{ST}$"
   ]
  },
  {
   "cell_type": "markdown",
   "metadata": {},
   "source": [
    "Consider the financial asset $T$, which has a non-zero correlation to the market portfolio $S$. \\\n",
    "The expected rate of return of the asset $T$ is: \\\n",
    "\\\n",
    "$\\mu_T = i + \\Large\\frac{(\\mu_S - i) \\cdot \\rho_{ST}}{\\sigma_S} \\cdot \\normalsize \\sigma_T$"
   ]
  },
  {
   "cell_type": "markdown",
   "metadata": {},
   "source": [
    "The *covariance* between $T$ and $S$ is defined as $\\sigma_{ST} = \\rho_{ST} \\cdot \\sigma_S \\cdot \\sigma_T$ \\\n",
    "\\\n",
    "then, \\\n",
    "\\\n",
    "$\\large\\mu_T = i + \\Large\\frac{(\\mu_S - i) \\cdot \\sigma_{ST}}{\\sigma_S ^2} \\large = i + \\beta_T \\cdot (\\mu_S - i) $ \\\n",
    "\\\n",
    "where, \\\n",
    "\\\n",
    "$\\beta_T \\equiv \\Large\\frac{\\sigma_{ST}}{\\sigma_S ^2} $ and $\\sigma_{ST}$ is the **covariance** between $S$ and $T$ \\\n",
    "\\\n",
    "$(\\mu_S - i) :$ Excess return of the market portfolio."
   ]
  },
  {
   "cell_type": "markdown",
   "metadata": {},
   "source": [
    "With the expected risk premium now in hand, we revisit the (risk-adjusted) discount rate equation:\n",
    "\n",
    "**_Discount Rate = Risk-free Rate  + Expected Risk Premium_**\n",
    "\n",
    "The final input required for the risk-adjusted discount rate is the risk-free interest rate, which we define next.\n",
    "\n",
    "*Estimating the Risk-Free Rate*<br>\n",
    "We will again use a one-year risk-free rate so that it matches the duration we want for the risk-adjusted discount rate, which we will use to discount expected cash flows to determine the probability of default."
   ]
  },
  {
   "cell_type": "markdown",
   "metadata": {},
   "source": [
    "Expected Risk Premium = (Market Rate of Return - Risk-free Rate of Return) * Beta"
   ]
  },
  {
   "cell_type": "code",
   "execution_count": 514,
   "metadata": {},
   "outputs": [
    {
     "name": "stdout",
     "output_type": "stream",
     "text": [
      "[*********************100%%**********************]  1 of 1 completed\n",
      "[*********************100%%**********************]  1 of 1 completed\n"
     ]
    },
    {
     "data": {
      "text/html": [
       "<div>\n",
       "<style scoped>\n",
       "    .dataframe tbody tr th:only-of-type {\n",
       "        vertical-align: middle;\n",
       "    }\n",
       "\n",
       "    .dataframe tbody tr th {\n",
       "        vertical-align: top;\n",
       "    }\n",
       "\n",
       "    .dataframe thead th {\n",
       "        text-align: right;\n",
       "    }\n",
       "</style>\n",
       "<table border=\"1\" class=\"dataframe\">\n",
       "  <thead>\n",
       "    <tr style=\"text-align: right;\">\n",
       "      <th></th>\n",
       "      <th>Open</th>\n",
       "      <th>High</th>\n",
       "      <th>Low</th>\n",
       "      <th>Close</th>\n",
       "      <th>Adj Close</th>\n",
       "      <th>Volume</th>\n",
       "    </tr>\n",
       "    <tr>\n",
       "      <th>Date</th>\n",
       "      <th></th>\n",
       "      <th></th>\n",
       "      <th></th>\n",
       "      <th></th>\n",
       "      <th></th>\n",
       "      <th></th>\n",
       "    </tr>\n",
       "  </thead>\n",
       "  <tbody>\n",
       "    <tr>\n",
       "      <th>2013-10-07</th>\n",
       "      <td>79.610001</td>\n",
       "      <td>79.620003</td>\n",
       "      <td>79.510002</td>\n",
       "      <td>79.540001</td>\n",
       "      <td>63.339527</td>\n",
       "      <td>333400</td>\n",
       "    </tr>\n",
       "    <tr>\n",
       "      <th>2013-10-08</th>\n",
       "      <td>79.500000</td>\n",
       "      <td>79.550003</td>\n",
       "      <td>79.459999</td>\n",
       "      <td>79.500000</td>\n",
       "      <td>63.307648</td>\n",
       "      <td>484900</td>\n",
       "    </tr>\n",
       "    <tr>\n",
       "      <th>2013-10-09</th>\n",
       "      <td>79.570000</td>\n",
       "      <td>79.580002</td>\n",
       "      <td>79.480003</td>\n",
       "      <td>79.500000</td>\n",
       "      <td>63.307648</td>\n",
       "      <td>448500</td>\n",
       "    </tr>\n",
       "    <tr>\n",
       "      <th>2013-10-10</th>\n",
       "      <td>79.500000</td>\n",
       "      <td>79.589996</td>\n",
       "      <td>79.449997</td>\n",
       "      <td>79.580002</td>\n",
       "      <td>63.371380</td>\n",
       "      <td>550400</td>\n",
       "    </tr>\n",
       "    <tr>\n",
       "      <th>2013-10-11</th>\n",
       "      <td>79.570000</td>\n",
       "      <td>79.650002</td>\n",
       "      <td>79.519997</td>\n",
       "      <td>79.650002</td>\n",
       "      <td>63.427105</td>\n",
       "      <td>536400</td>\n",
       "    </tr>\n",
       "  </tbody>\n",
       "</table>\n",
       "</div>"
      ],
      "text/plain": [
       "                 Open       High        Low      Close  Adj Close  Volume\n",
       "Date                                                                     \n",
       "2013-10-07  79.610001  79.620003  79.510002  79.540001  63.339527  333400\n",
       "2013-10-08  79.500000  79.550003  79.459999  79.500000  63.307648  484900\n",
       "2013-10-09  79.570000  79.580002  79.480003  79.500000  63.307648  448500\n",
       "2013-10-10  79.500000  79.589996  79.449997  79.580002  63.371380  550400\n",
       "2013-10-11  79.570000  79.650002  79.519997  79.650002  63.427105  536400"
      ]
     },
     "execution_count": 514,
     "metadata": {},
     "output_type": "execute_result"
    }
   ],
   "source": [
    "# Vanguard Short-Term Corporate Bond Index Fund ETF Shares\n",
    "bond_fund_ticker = \"VCSH\"\n",
    "\n",
    "# Look at 10 years of data\n",
    "current_date = dt.today()\n",
    "past_date = dt.today() - timedelta(365 * 10)\n",
    "# Download data for the bond fund and the market\n",
    "market_data = yfin.download(\"SPY\", past_date, current_date)  # the market S&P 500\n",
    "fund_data = yfin.download(\"VCSH\", past_date, current_date)  # the bond fund VCSH\n",
    "\n",
    "fund_data.head()  # first few rows of the bond fund data"
   ]
  },
  {
   "cell_type": "code",
   "execution_count": 515,
   "metadata": {},
   "outputs": [
    {
     "data": {
      "text/html": [
       "<div>\n",
       "<style scoped>\n",
       "    .dataframe tbody tr th:only-of-type {\n",
       "        vertical-align: middle;\n",
       "    }\n",
       "\n",
       "    .dataframe tbody tr th {\n",
       "        vertical-align: top;\n",
       "    }\n",
       "\n",
       "    .dataframe thead th {\n",
       "        text-align: right;\n",
       "    }\n",
       "</style>\n",
       "<table border=\"1\" class=\"dataframe\">\n",
       "  <thead>\n",
       "    <tr style=\"text-align: right;\">\n",
       "      <th></th>\n",
       "      <th>Open</th>\n",
       "      <th>High</th>\n",
       "      <th>Low</th>\n",
       "      <th>Close</th>\n",
       "      <th>Adj Close</th>\n",
       "      <th>Volume</th>\n",
       "    </tr>\n",
       "    <tr>\n",
       "      <th>Date</th>\n",
       "      <th></th>\n",
       "      <th></th>\n",
       "      <th></th>\n",
       "      <th></th>\n",
       "      <th></th>\n",
       "      <th></th>\n",
       "    </tr>\n",
       "  </thead>\n",
       "  <tbody>\n",
       "    <tr>\n",
       "      <th>2013-10-07</th>\n",
       "      <td>167.419998</td>\n",
       "      <td>168.449997</td>\n",
       "      <td>167.250000</td>\n",
       "      <td>167.429993</td>\n",
       "      <td>139.549774</td>\n",
       "      <td>96295000</td>\n",
       "    </tr>\n",
       "    <tr>\n",
       "      <th>2013-10-08</th>\n",
       "      <td>167.399994</td>\n",
       "      <td>167.619995</td>\n",
       "      <td>165.360001</td>\n",
       "      <td>165.479996</td>\n",
       "      <td>137.924454</td>\n",
       "      <td>178015000</td>\n",
       "    </tr>\n",
       "    <tr>\n",
       "      <th>2013-10-09</th>\n",
       "      <td>165.800003</td>\n",
       "      <td>166.199997</td>\n",
       "      <td>164.529999</td>\n",
       "      <td>165.600006</td>\n",
       "      <td>138.024536</td>\n",
       "      <td>168973000</td>\n",
       "    </tr>\n",
       "    <tr>\n",
       "      <th>2013-10-10</th>\n",
       "      <td>167.289993</td>\n",
       "      <td>169.259995</td>\n",
       "      <td>167.229996</td>\n",
       "      <td>169.169998</td>\n",
       "      <td>141.000015</td>\n",
       "      <td>195955000</td>\n",
       "    </tr>\n",
       "    <tr>\n",
       "      <th>2013-10-11</th>\n",
       "      <td>168.910004</td>\n",
       "      <td>170.320007</td>\n",
       "      <td>168.770004</td>\n",
       "      <td>170.259995</td>\n",
       "      <td>141.908569</td>\n",
       "      <td>105040000</td>\n",
       "    </tr>\n",
       "    <tr>\n",
       "      <th>...</th>\n",
       "      <td>...</td>\n",
       "      <td>...</td>\n",
       "      <td>...</td>\n",
       "      <td>...</td>\n",
       "      <td>...</td>\n",
       "      <td>...</td>\n",
       "    </tr>\n",
       "    <tr>\n",
       "      <th>2023-09-26</th>\n",
       "      <td>429.089996</td>\n",
       "      <td>429.820007</td>\n",
       "      <td>425.019989</td>\n",
       "      <td>425.880005</td>\n",
       "      <td>425.880005</td>\n",
       "      <td>96168400</td>\n",
       "    </tr>\n",
       "    <tr>\n",
       "      <th>2023-09-27</th>\n",
       "      <td>427.089996</td>\n",
       "      <td>427.670013</td>\n",
       "      <td>422.290009</td>\n",
       "      <td>426.049988</td>\n",
       "      <td>426.049988</td>\n",
       "      <td>104705800</td>\n",
       "    </tr>\n",
       "    <tr>\n",
       "      <th>2023-09-28</th>\n",
       "      <td>425.480011</td>\n",
       "      <td>430.250000</td>\n",
       "      <td>424.869995</td>\n",
       "      <td>428.519989</td>\n",
       "      <td>428.519989</td>\n",
       "      <td>92258300</td>\n",
       "    </tr>\n",
       "    <tr>\n",
       "      <th>2023-09-29</th>\n",
       "      <td>431.670013</td>\n",
       "      <td>431.850006</td>\n",
       "      <td>425.910004</td>\n",
       "      <td>427.480011</td>\n",
       "      <td>427.480011</td>\n",
       "      <td>115078500</td>\n",
       "    </tr>\n",
       "    <tr>\n",
       "      <th>2023-10-02</th>\n",
       "      <td>426.619995</td>\n",
       "      <td>428.600006</td>\n",
       "      <td>424.459991</td>\n",
       "      <td>427.309998</td>\n",
       "      <td>427.309998</td>\n",
       "      <td>83649100</td>\n",
       "    </tr>\n",
       "  </tbody>\n",
       "</table>\n",
       "<p>2514 rows × 6 columns</p>\n",
       "</div>"
      ],
      "text/plain": [
       "                  Open        High         Low       Close   Adj Close  \\\n",
       "Date                                                                     \n",
       "2013-10-07  167.419998  168.449997  167.250000  167.429993  139.549774   \n",
       "2013-10-08  167.399994  167.619995  165.360001  165.479996  137.924454   \n",
       "2013-10-09  165.800003  166.199997  164.529999  165.600006  138.024536   \n",
       "2013-10-10  167.289993  169.259995  167.229996  169.169998  141.000015   \n",
       "2013-10-11  168.910004  170.320007  168.770004  170.259995  141.908569   \n",
       "...                ...         ...         ...         ...         ...   \n",
       "2023-09-26  429.089996  429.820007  425.019989  425.880005  425.880005   \n",
       "2023-09-27  427.089996  427.670013  422.290009  426.049988  426.049988   \n",
       "2023-09-28  425.480011  430.250000  424.869995  428.519989  428.519989   \n",
       "2023-09-29  431.670013  431.850006  425.910004  427.480011  427.480011   \n",
       "2023-10-02  426.619995  428.600006  424.459991  427.309998  427.309998   \n",
       "\n",
       "               Volume  \n",
       "Date                   \n",
       "2013-10-07   96295000  \n",
       "2013-10-08  178015000  \n",
       "2013-10-09  168973000  \n",
       "2013-10-10  195955000  \n",
       "2013-10-11  105040000  \n",
       "...               ...  \n",
       "2023-09-26   96168400  \n",
       "2023-09-27  104705800  \n",
       "2023-09-28   92258300  \n",
       "2023-09-29  115078500  \n",
       "2023-10-02   83649100  \n",
       "\n",
       "[2514 rows x 6 columns]"
      ]
     },
     "execution_count": 515,
     "metadata": {},
     "output_type": "execute_result"
    }
   ],
   "source": [
    "market_data  # first few rows of the SP500 data"
   ]
  },
  {
   "cell_type": "markdown",
   "metadata": {},
   "source": [
    "### Calculate risk-adjusted discounted rate for VCSH bond, assuming SPY as market portfolio (my method) :"
   ]
  },
  {
   "cell_type": "markdown",
   "metadata": {},
   "source": [
    "$ d_T = 2i + \\Large\\frac{\\sigma_{ST}^2}{\\sigma_S^2} \\small (\\mu_S - i) $\n",
    "\n",
    "where\n",
    "\n",
    "$d_T:$ Risk-adjusted discounted rate of asset T\n",
    "\n",
    "$i:$ Risk-free interest rate\n",
    "\n",
    "$\\Large\\frac{\\sigma_{ST}^2}{\\sigma_S^2} = \\beta:$ Beta value of the asset $T$ against market portfolio $S$\n",
    "\n",
    "$\\sigma_S^2:$ Variance of market portfolio $S$\n",
    "\n",
    "$\\mu_S:$ Expected rate of return of market portfolio $S$"
   ]
  },
  {
   "cell_type": "code",
   "execution_count": 516,
   "metadata": {},
   "outputs": [
    {
     "data": {
      "text/plain": [
       "0.04389557617109811"
      ]
     },
     "execution_count": 516,
     "metadata": {},
     "output_type": "execute_result"
    }
   ],
   "source": [
    "# First get pct change as returns dataframes\n",
    "market_data = market_data[\"Adj Close\"].pct_change()\n",
    "fund_data = fund_data[\"Adj Close\"].pct_change()\n",
    "\n",
    "# Mutate dataframes to drop NaN values\n",
    "market_data.dropna(inplace=True)\n",
    "fund_data.dropna(inplace=True)\n",
    "\n",
    "i = one_year_risk_free_rate  # assign the ANNUAL risk free rate\n",
    "cov_ST = fund_data.cov(market_data)  # covariance between the asset and market portfolio\n",
    "var_S = market_data.var()  # variance of market portfolio\n",
    "\n",
    "# Calculate beta\n",
    "beta = cov_ST / var_S\n",
    "beta"
   ]
  },
  {
   "cell_type": "code",
   "execution_count": 517,
   "metadata": {},
   "outputs": [
    {
     "data": {
      "text/plain": [
       "0.18484914402141536"
      ]
     },
     "execution_count": 517,
     "metadata": {},
     "output_type": "execute_result"
    }
   ],
   "source": [
    "# Calculate expected ANNUAL rate of return for the market portfolio S (SP500)\n",
    "mu_S = market_data.mean() * 365\n",
    "mu_S"
   ]
  },
  {
   "cell_type": "code",
   "execution_count": 518,
   "metadata": {},
   "outputs": [
    {
     "data": {
      "text/plain": [
       "0.012499848322300099"
      ]
     },
     "execution_count": 518,
     "metadata": {},
     "output_type": "execute_result"
    }
   ],
   "source": [
    "# Finally, calculate risk-adjusted discount rate for the bond\n",
    "d = i + beta * (mu_S - i)\n",
    "d"
   ]
  },
  {
   "cell_type": "code",
   "execution_count": 519,
   "metadata": {},
   "outputs": [
    {
     "data": {
      "text/plain": [
       "0.00791270435408996"
      ]
     },
     "execution_count": 519,
     "metadata": {},
     "output_type": "execute_result"
    }
   ],
   "source": [
    "# Also calculate expected risk premium for the bond. ERP = (mu_S - i) * beta_T\n",
    "ERP = (mu_S - i) * beta\n",
    "ERP"
   ]
  },
  {
   "cell_type": "code",
   "execution_count": 520,
   "metadata": {},
   "outputs": [
    {
     "data": {
      "text/plain": [
       "0.012499848322300099"
      ]
     },
     "execution_count": 520,
     "metadata": {},
     "output_type": "execute_result"
    }
   ],
   "source": [
    "# Then this bond should have an annual interest rate of:\n",
    "i_bond = i + ERP\n",
    "i_bond  # same as mu_T and d"
   ]
  }
 ],
 "metadata": {
  "kernelspec": {
   "display_name": "Python 3",
   "language": "python",
   "name": "python3"
  },
  "language_info": {
   "codemirror_mode": {
    "name": "ipython",
    "version": 3
   },
   "file_extension": ".py",
   "mimetype": "text/x-python",
   "name": "python",
   "nbconvert_exporter": "python",
   "pygments_lexer": "ipython3",
   "version": "3.10.5"
  },
  "orig_nbformat": 4
 },
 "nbformat": 4,
 "nbformat_minor": 2
}
