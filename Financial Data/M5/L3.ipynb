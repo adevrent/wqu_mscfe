{
 "cells": [
  {
   "cell_type": "markdown",
   "metadata": {},
   "source": [
    "## SymPy\n",
    "\n",
    "SymPy is used for finding roots of functions in the form of:\n",
    "\n",
    "$f(x) = 0$ ; solve for $x$"
   ]
  },
  {
   "cell_type": "code",
   "execution_count": 1,
   "metadata": {},
   "outputs": [
    {
     "data": {
      "text/plain": [
       "[-sqrt(2), sqrt(2)]"
      ]
     },
     "execution_count": 1,
     "metadata": {},
     "output_type": "execute_result"
    }
   ],
   "source": [
    "import sympy as sp\n",
    "x = sp.Symbol('x')  # Initialize x as a SymPy symbol.\n",
    "\n",
    "roots = sp.solve(x**2 - 2, x)  # solves for x, returns a list object containing the two roots.\n",
    "roots"
   ]
  },
  {
   "cell_type": "code",
   "execution_count": 2,
   "metadata": {},
   "outputs": [
    {
     "name": "stdout",
     "output_type": "stream",
     "text": [
      "type of x = <class 'sympy.core.symbol.Symbol'>\n",
      "type of roots = <class 'list'>\n"
     ]
    }
   ],
   "source": [
    "print(\"type of x =\", type(x))\n",
    "print(\"type of roots =\", type(roots))"
   ]
  },
  {
   "cell_type": "markdown",
   "metadata": {},
   "source": [
    "Find the root(s) of the function $f(y) = y^4 - y^2 - 1$"
   ]
  },
  {
   "cell_type": "code",
   "execution_count": 3,
   "metadata": {},
   "outputs": [
    {
     "name": "stdout",
     "output_type": "stream",
     "text": [
      "[-I*sqrt(-1/2 + sqrt(5)/2), I*sqrt(-1/2 + sqrt(5)/2), -sqrt(1/2 + sqrt(5)/2), sqrt(1/2 + sqrt(5)/2)]\n",
      "<class 'list'>\n"
     ]
    }
   ],
   "source": [
    "# Solve for y\n",
    "y = sp.Symbol(\"y\")\n",
    "roots_y = sp.solve(y**4 - y**2 - 1, y)\n",
    "print(roots_y)\n",
    "print(type(roots_y))"
   ]
  },
  {
   "cell_type": "code",
   "execution_count": 4,
   "metadata": {},
   "outputs": [
    {
     "name": "stdout",
     "output_type": "stream",
     "text": [
      "-I*sqrt(-1/2 + sqrt(5)/2)\n",
      "<class 'sympy.core.mul.Mul'>\n"
     ]
    }
   ],
   "source": [
    "print(roots_y[0])  # first element is an imaginary number\n",
    "print(type(roots_y[0]))  # type of the first element"
   ]
  },
  {
   "cell_type": "code",
   "execution_count": 5,
   "metadata": {},
   "outputs": [
    {
     "name": "stdout",
     "output_type": "stream",
     "text": [
      "-0.786151377757423*I\n",
      "0.786151377757423*I\n",
      "-1.27201964951407\n",
      "1.27201964951407\n"
     ]
    }
   ],
   "source": [
    "x = sp.Symbol('x')\n",
    "soln = sp.solve( x**4 - x**2 - 1, x)\n",
    "for j in range(0, len(soln)):\n",
    "    print(sp.N(soln[j]))  # sp.N converts from symbolic to numerical."
   ]
  },
  {
   "cell_type": "code",
   "execution_count": 6,
   "metadata": {},
   "outputs": [
    {
     "name": "stdout",
     "output_type": "stream",
     "text": [
      "[1/3 + (-1/2 - sqrt(3)*I/2)*(sqrt(87)/9 + 28/27)**(1/3) + 1/(9*(-1/2 - sqrt(3)*I/2)*(sqrt(87)/9 + 28/27)**(1/3)), 1/3 + 1/(9*(-1/2 + sqrt(3)*I/2)*(sqrt(87)/9 + 28/27)**(1/3)) + (-1/2 + sqrt(3)*I/2)*(sqrt(87)/9 + 28/27)**(1/3), 1/(9*(sqrt(87)/9 + 28/27)**(1/3)) + 1/3 + (sqrt(87)/9 + 28/27)**(1/3)]\n"
     ]
    }
   ],
   "source": [
    "x = sp.Symbol('x')\n",
    "ExactSoln = sp.solve(x**3 - x**2 - 2, x) # symbolic solution\n",
    "print(ExactSoln)"
   ]
  },
  {
   "cell_type": "code",
   "execution_count": 7,
   "metadata": {},
   "outputs": [
    {
     "name": "stdout",
     "output_type": "stream",
     "text": [
      "First Solution:  -0.347810384779931 - 1.02885225413669*I\n",
      "Second Solution:  -0.347810384779931 + 1.02885225413669*I\n",
      "Third Solution:  1.69562076955986\n"
     ]
    }
   ],
   "source": [
    "x = sp.Symbol('x')\n",
    "ExactSoln = sp.solve(x**3 - x**2 - 2, x) # symbolic solution\n",
    "print(\"First Solution: \",sp.N(ExactSoln[0]))\n",
    "print(\"Second Solution: \",sp.N(ExactSoln[1]))\n",
    "print(\"Third Solution: \",sp.N(ExactSoln[2]))"
   ]
  },
  {
   "cell_type": "code",
   "execution_count": 8,
   "metadata": {},
   "outputs": [
    {
     "name": "stdout",
     "output_type": "stream",
     "text": [
      "1.69562076955986\n"
     ]
    }
   ],
   "source": [
    "x = sp.Symbol('x')\n",
    "NumericalSoln = sp.nsolve(x**3 - x**2 - 2, x, 1) # root near x=1 with numerical method. (Newton-Raphson algorithm)\n",
    "print(NumericalSoln)"
   ]
  },
  {
   "cell_type": "markdown",
   "metadata": {},
   "source": [
    "Exercise A.25: Solve the equation\n",
    "\n",
    "$x^3 ln(x) = 7$\n",
    "\n",
    "both symbolically and numerically"
   ]
  },
  {
   "cell_type": "code",
   "execution_count": 9,
   "metadata": {},
   "outputs": [
    {
     "data": {
      "text/latex": [
       "$\\displaystyle e^{\\frac{W\\left(21\\right)}{3}}$"
      ],
      "text/plain": [
       "exp(LambertW(21)/3)"
      ]
     },
     "execution_count": 9,
     "metadata": {},
     "output_type": "execute_result"
    }
   ],
   "source": [
    "import sympy as sp\n",
    "\n",
    "x = sp.Symbol(\"x\")\n",
    "\n",
    "anSol = sp.solve(x**3 * sp.log(x) - 7, x)  # solve analitically\n",
    "anSol[0]  # indexing the solution list makes it latex, cool :)"
   ]
  },
  {
   "cell_type": "code",
   "execution_count": 10,
   "metadata": {},
   "outputs": [
    {
     "data": {
      "text/latex": [
       "$\\displaystyle 2.10900555579451$"
      ],
      "text/plain": [
       "2.10900555579451"
      ]
     },
     "execution_count": 10,
     "metadata": {},
     "output_type": "execute_result"
    }
   ],
   "source": [
    "sp.N(anSol[0])  # using sp.N returns a latex form number"
   ]
  },
  {
   "cell_type": "code",
   "execution_count": 11,
   "metadata": {},
   "outputs": [
    {
     "name": "stdout",
     "output_type": "stream",
     "text": [
      "2.10900555579451\n"
     ]
    }
   ],
   "source": [
    "print(sp.N(anSol[0]))  # using print on top of it returns normal python form number"
   ]
  },
  {
   "cell_type": "code",
   "execution_count": 12,
   "metadata": {},
   "outputs": [
    {
     "data": {
      "text/latex": [
       "$\\displaystyle 2.10900555579451$"
      ],
      "text/plain": [
       "2.10900555579451"
      ]
     },
     "execution_count": 12,
     "metadata": {},
     "output_type": "execute_result"
    }
   ],
   "source": [
    "numSol = sp.nsolve(x**3 * sp.log(x) - 7, x, 2)  # solve numerically, initial x_0 = 2\n",
    "numSol"
   ]
  },
  {
   "cell_type": "code",
   "execution_count": 13,
   "metadata": {},
   "outputs": [
    {
     "name": "stdout",
     "output_type": "stream",
     "text": [
      "Analytic solution = 2.10900555579451\n",
      "Numerical solution = 2.10900555579451\n"
     ]
    }
   ],
   "source": [
    "# Give answers\n",
    "print(\"Analytic solution =\", sp.N(anSol[0]))\n",
    "print(\"Numerical solution =\", numSol)"
   ]
  },
  {
   "cell_type": "markdown",
   "metadata": {},
   "source": [
    "## Plotting in SymPy"
   ]
  },
  {
   "cell_type": "code",
   "execution_count": 14,
   "metadata": {},
   "outputs": [
    {
     "data": {
      "image/png": "[encoded data removed]",
      "text/plain": [
       "<Figure size 432x288 with 1 Axes>"
      ]
     },
     "metadata": {
      "needs_background": "light"
     },
     "output_type": "display_data"
    },
    {
     "data": {
      "text/plain": [
       "<sympy.plotting.plot.Plot at 0x7fb1c4a1d2a0>"
      ]
     },
     "execution_count": 14,
     "metadata": {},
     "output_type": "execute_result"
    }
   ],
   "source": [
    "x = sp.Symbol('x')\n",
    "f = (x+2)**3\n",
    "sp.plot(f,(x,-5,2))"
   ]
  },
  {
   "cell_type": "code",
   "execution_count": 15,
   "metadata": {},
   "outputs": [
    {
     "name": "stdout",
     "output_type": "stream",
     "text": [
      "type of x = <class 'sympy.core.symbol.Symbol'>\n",
      "type of f = <class 'sympy.core.power.Pow'>\n"
     ]
    }
   ],
   "source": [
    "# SymPy data types are unique\n",
    "print(\"type of x =\", type(x))\n",
    "print(\"type of f =\", type(f))"
   ]
  },
  {
   "cell_type": "markdown",
   "metadata": {},
   "source": [
    "Plot $f(x) = (x+2)^3$ and $g(x) = 20 cos(x)$ on the same axes on the domain $x \\in [-5, 2]$"
   ]
  },
  {
   "cell_type": "code",
   "execution_count": 16,
   "metadata": {},
   "outputs": [
    {
     "data": {
      "image/png": "[encoded data removed]",
      "text/plain": [
       "<Figure size 432x288 with 1 Axes>"
      ]
     },
     "metadata": {
      "needs_background": "light"
     },
     "output_type": "display_data"
    },
    {
     "data": {
      "text/plain": [
       "<sympy.plotting.plot.Plot at 0x7fb1c4a1d0c0>"
      ]
     },
     "execution_count": 16,
     "metadata": {},
     "output_type": "execute_result"
    }
   ],
   "source": [
    "x = sp.Symbol(\"x\")\n",
    "f = (x + 2) ** 3\n",
    "g = 20 * sp.cos(x)\n",
    "\n",
    "sp.plot(f, g, (x, -5, 2))"
   ]
  },
  {
   "cell_type": "markdown",
   "metadata": {},
   "source": [
    "Exercise A.26: Make a symbolic plot of the function $f(x) = x^3 ln(x) - 7$ on the domain $[0, 3]$"
   ]
  },
  {
   "cell_type": "code",
   "execution_count": 17,
   "metadata": {},
   "outputs": [
    {
     "data": {
      "image/png": "[encoded data removed]",
      "text/plain": [
       "<Figure size 432x288 with 1 Axes>"
      ]
     },
     "metadata": {
      "needs_background": "light"
     },
     "output_type": "display_data"
    },
    {
     "data": {
      "text/plain": [
       "<sympy.plotting.plot.Plot at 0x7fb1c49d7520>"
      ]
     },
     "execution_count": 17,
     "metadata": {},
     "output_type": "execute_result"
    }
   ],
   "source": [
    "import sympy as sp\n",
    "x = sp.Symbol(\"x\")\n",
    "f = x**3 * sp.log(x) - 7\n",
    "\n",
    "sp.plot(f, (x, 0.1, 3))"
   ]
  },
  {
   "cell_type": "markdown",
   "metadata": {},
   "source": [
    "## Functions in Python with star arguments\n",
    "\n",
    "When a final formal parameter of the form **name is present, it receives a dictionary containing all keyword arguments except for those corresponding to a formal parameter. This may be combined with a formal parameter of the form *name (described in the next subsection) which receives a tuple containing the positional arguments beyond the formal parameter list. (*name must occur before **name.) For example, if we define a function like this:"
   ]
  },
  {
   "cell_type": "code",
   "execution_count": 18,
   "metadata": {},
   "outputs": [],
   "source": [
    "def cheeseshop(kind, *arguments, **keywords):\n",
    "    print(\"args =\", arguments)\n",
    "    print(\"kwargs =\", keywords)\n",
    "    \n",
    "    print(\"-- Do you have any\", kind, \"?\")\n",
    "    print(\"-- I'm sorry, we're all out of\", kind)\n",
    "    for arg in arguments:\n",
    "        print(arg)\n",
    "    print(\"-\" * 40)\n",
    "    for kw in keywords:\n",
    "        print(kw, \":\", keywords[kw])"
   ]
  },
  {
   "cell_type": "code",
   "execution_count": 19,
   "metadata": {},
   "outputs": [
    {
     "name": "stdout",
     "output_type": "stream",
     "text": [
      "args = (\"It's very runny, sir.\", \"It's really very, VERY runny, sir.\")\n",
      "kwargs = {'shopkeeper': 'Michael Palin', 'client': 'John Cleese', 'sketch': 'Cheese Shop Sketch'}\n",
      "-- Do you have any Limburger ?\n",
      "-- I'm sorry, we're all out of Limburger\n",
      "It's very runny, sir.\n",
      "It's really very, VERY runny, sir.\n",
      "----------------------------------------\n",
      "shopkeeper : Michael Palin\n",
      "client : John Cleese\n",
      "sketch : Cheese Shop Sketch\n"
     ]
    }
   ],
   "source": [
    "cheeseshop(\"Limburger\", \"It's very runny, sir.\",\n",
    "           \"It's really very, VERY runny, sir.\",\n",
    "           shopkeeper=\"Michael Palin\",\n",
    "           client=\"John Cleese\",\n",
    "           sketch=\"Cheese Shop Sketch\")\n"
   ]
  },
  {
   "cell_type": "markdown",
   "metadata": {},
   "source": [
    "* Notice **kind** is assigned to *\"Limburger\"*, and all **positional** arguments after that form the elements of an arg **tuple**.\n",
    "\n",
    "* The keyword arguments after the positional arguments are then formed into a **dict** where the keys are **formal** arguments and the values are **actual** arguments.\n",
    "\n",
    "Note that the keyword arguments formed into a dict this way keep their relative **positions**."
   ]
  },
  {
   "cell_type": "code",
   "execution_count": 20,
   "metadata": {},
   "outputs": [],
   "source": [
    "def make_incrementor(n):  # by calling make_incremenator, we create a new function\n",
    "    return lambda x: x + n  # returns a function which is akin to f(x) = n + x"
   ]
  },
  {
   "cell_type": "code",
   "execution_count": 21,
   "metadata": {},
   "outputs": [
    {
     "data": {
      "text/plain": [
       "47"
      ]
     },
     "execution_count": 21,
     "metadata": {},
     "output_type": "execute_result"
    }
   ],
   "source": [
    "f = make_incrementor(42)\n",
    "f(5)"
   ]
  },
  {
   "cell_type": "code",
   "execution_count": 22,
   "metadata": {},
   "outputs": [
    {
     "data": {
      "text/plain": [
       "65"
      ]
     },
     "execution_count": 22,
     "metadata": {},
     "output_type": "execute_result"
    }
   ],
   "source": [
    "g = make_incrementor(10)\n",
    "\n",
    "f(8) + g(5)"
   ]
  },
  {
   "cell_type": "markdown",
   "metadata": {},
   "source": [
    "## pd.DataFrame.apply()\n",
    "\n",
    "DataFrame.**apply**(func, axis=0, raw=False, result_type=None, args=(), by_row='compat', **kwargs)\n",
    "\n",
    "**axis:** {0 or ‘index’, 1 or ‘columns’}, default 0\n",
    "Axis along which the function is applied:\n",
    "\n",
    "0 or ‘index’: apply function to each column.\n",
    "\n",
    "1 or ‘columns’: apply function to each row."
   ]
  },
  {
   "cell_type": "code",
   "execution_count": 23,
   "metadata": {},
   "outputs": [
    {
     "data": {
      "text/html": [
       "<div>\n",
       "<style scoped>\n",
       "    .dataframe tbody tr th:only-of-type {\n",
       "        vertical-align: middle;\n",
       "    }\n",
       "\n",
       "    .dataframe tbody tr th {\n",
       "        vertical-align: top;\n",
       "    }\n",
       "\n",
       "    .dataframe thead th {\n",
       "        text-align: right;\n",
       "    }\n",
       "</style>\n",
       "<table border=\"1\" class=\"dataframe\">\n",
       "  <thead>\n",
       "    <tr style=\"text-align: right;\">\n",
       "      <th></th>\n",
       "      <th>A</th>\n",
       "      <th>B</th>\n",
       "    </tr>\n",
       "  </thead>\n",
       "  <tbody>\n",
       "    <tr>\n",
       "      <th>0</th>\n",
       "      <td>1</td>\n",
       "      <td>4</td>\n",
       "    </tr>\n",
       "    <tr>\n",
       "      <th>1</th>\n",
       "      <td>2</td>\n",
       "      <td>5</td>\n",
       "    </tr>\n",
       "    <tr>\n",
       "      <th>2</th>\n",
       "      <td>3</td>\n",
       "      <td>6</td>\n",
       "    </tr>\n",
       "  </tbody>\n",
       "</table>\n",
       "</div>"
      ],
      "text/plain": [
       "   A  B\n",
       "0  1  4\n",
       "1  2  5\n",
       "2  3  6"
      ]
     },
     "execution_count": 23,
     "metadata": {},
     "output_type": "execute_result"
    }
   ],
   "source": [
    "import pandas as pd\n",
    "\n",
    "df = pd.DataFrame({\"A\":[1, 2, 3], \"B\":[4, 5, 6]})\n",
    "df"
   ]
  },
  {
   "cell_type": "code",
   "execution_count": 24,
   "metadata": {},
   "outputs": [
    {
     "data": {
      "text/html": [
       "<div>\n",
       "<style scoped>\n",
       "    .dataframe tbody tr th:only-of-type {\n",
       "        vertical-align: middle;\n",
       "    }\n",
       "\n",
       "    .dataframe tbody tr th {\n",
       "        vertical-align: top;\n",
       "    }\n",
       "\n",
       "    .dataframe thead th {\n",
       "        text-align: right;\n",
       "    }\n",
       "</style>\n",
       "<table border=\"1\" class=\"dataframe\">\n",
       "  <thead>\n",
       "    <tr style=\"text-align: right;\">\n",
       "      <th></th>\n",
       "      <th>A</th>\n",
       "      <th>B</th>\n",
       "    </tr>\n",
       "  </thead>\n",
       "  <tbody>\n",
       "    <tr>\n",
       "      <th>0</th>\n",
       "      <td>2</td>\n",
       "      <td>8</td>\n",
       "    </tr>\n",
       "    <tr>\n",
       "      <th>1</th>\n",
       "      <td>4</td>\n",
       "      <td>10</td>\n",
       "    </tr>\n",
       "    <tr>\n",
       "      <th>2</th>\n",
       "      <td>6</td>\n",
       "      <td>12</td>\n",
       "    </tr>\n",
       "  </tbody>\n",
       "</table>\n",
       "</div>"
      ],
      "text/plain": [
       "   A   B\n",
       "0  2   8\n",
       "1  4  10\n",
       "2  6  12"
      ]
     },
     "execution_count": 24,
     "metadata": {},
     "output_type": "execute_result"
    }
   ],
   "source": [
    "# Let's use a lambda function for df.apply()\n",
    "df.apply(lambda col: col * 2)"
   ]
  },
  {
   "cell_type": "code",
   "execution_count": 25,
   "metadata": {},
   "outputs": [
    {
     "data": {
      "text/plain": [
       "A     6\n",
       "B    15\n",
       "dtype: int64"
      ]
     },
     "execution_count": 25,
     "metadata": {},
     "output_type": "execute_result"
    }
   ],
   "source": [
    "# act on columns\n",
    "df.apply(sum, axis=0)  # notice the indexes of the series are column names"
   ]
  },
  {
   "cell_type": "code",
   "execution_count": 26,
   "metadata": {},
   "outputs": [
    {
     "data": {
      "text/plain": [
       "0    5\n",
       "1    7\n",
       "2    9\n",
       "dtype: int64"
      ]
     },
     "execution_count": 26,
     "metadata": {},
     "output_type": "execute_result"
    }
   ],
   "source": [
    "# we can use .apply() on rows too\n",
    "df.apply(sum, axis=1)  # notice the indexes of the series are row indexes (index of the dataframe)"
   ]
  },
  {
   "cell_type": "markdown",
   "metadata": {},
   "source": [
    "## datetime.strptime()\n",
    "Syntax: datetime.strptime(time_data, format_data)\n",
    "\n",
    "* datetime.strptime() converts from **string** to **datetime** object."
   ]
  },
  {
   "cell_type": "code",
   "execution_count": 27,
   "metadata": {},
   "outputs": [
    {
     "name": "stdout",
     "output_type": "stream",
     "text": [
      "date_string = 21 June, 2018\n",
      "type of date_string = <class 'str'>\n",
      "date_object = 2018-06-21 00:00:00\n",
      "type of date_object = <class 'datetime.datetime'>\n"
     ]
    }
   ],
   "source": [
    "from datetime import datetime\n",
    "\n",
    "date_string = \"21 June, 2018\"\n",
    "\n",
    "print(\"date_string =\", date_string)\n",
    "print(\"type of date_string =\", type(date_string))\n",
    "\n",
    "date_object = datetime.strptime(date_string, \"%d %B, %Y\")\n",
    "\n",
    "print(\"date_object =\", date_object)\n",
    "print(\"type of date_object =\", type(date_object))"
   ]
  },
  {
   "cell_type": "code",
   "execution_count": 28,
   "metadata": {},
   "outputs": [
    {
     "name": "stdout",
     "output_type": "stream",
     "text": [
      "523000\n",
      "2\n",
      "35\n",
      "5\n",
      "1999-05-25 02:35:05.523000\n"
     ]
    }
   ],
   "source": [
    "# import datetime module from datetime\n",
    "from datetime import datetime\n",
    " \n",
    "# consider the time stamp in string format \n",
    "# DD/MM/YY H:M:S.micros\n",
    "time_data = \"25/05/99 02:35:5.523\"\n",
    " \n",
    "# format the string in the given format : \n",
    "# day/month/year hours/minutes/seconds-micro \n",
    "# seconds\n",
    "format_data = \"%d/%m/%y %H:%M:%S.%f\"\n",
    " \n",
    "# Using strptime with datetime we will format \n",
    "# string into datetime\n",
    "date = datetime.strptime(time_data, format_data)\n",
    " \n",
    "# display milli second\n",
    "print(date.microsecond)\n",
    " \n",
    "# display hour\n",
    "print(date.hour)\n",
    " \n",
    "# display minute\n",
    "print(date.minute)\n",
    " \n",
    "# display second\n",
    "print(date.second)\n",
    " \n",
    "# display date\n",
    "print(date)"
   ]
  },
  {
   "cell_type": "markdown",
   "metadata": {},
   "source": [
    "## datetime.strftime()\n",
    "\n",
    "Syntax: obj.datetime.strftime(format_data)\n",
    "\n",
    "* datetime.strftime() converts from **datetime** object to **string**"
   ]
  },
  {
   "cell_type": "code",
   "execution_count": 29,
   "metadata": {},
   "outputs": [
    {
     "name": "stdout",
     "output_type": "stream",
     "text": [
      "year: 2023\n",
      "month: 10\n",
      "day: 06\n",
      "time: 20:17:06\n",
      "date and time: 10/06/2023, 20:17:06\n",
      "<class 'str'>\n"
     ]
    }
   ],
   "source": [
    "from datetime import datetime\n",
    "\n",
    "now = datetime.now() # current date and time\n",
    "\n",
    "year = now.strftime(\"%Y\")\n",
    "print(\"year:\", year)\n",
    "\n",
    "month = now.strftime(\"%m\")\n",
    "print(\"month:\", month)\n",
    "\n",
    "day = now.strftime(\"%d\")\n",
    "print(\"day:\", day)\n",
    "\n",
    "time = now.strftime(\"%H:%M:%S\")\n",
    "print(\"time:\", time)\n",
    "\n",
    "date_time = now.strftime(\"%m/%d/%Y, %H:%M:%S\")\n",
    "print(\"date and time:\",date_time)\n",
    "\n",
    "print(type(date_time))"
   ]
  },
  {
   "cell_type": "code",
   "execution_count": 30,
   "metadata": {},
   "outputs": [
    {
     "data": {
      "text/html": [
       "<div>\n",
       "<style scoped>\n",
       "    .dataframe tbody tr th:only-of-type {\n",
       "        vertical-align: middle;\n",
       "    }\n",
       "\n",
       "    .dataframe tbody tr th {\n",
       "        vertical-align: top;\n",
       "    }\n",
       "\n",
       "    .dataframe thead th {\n",
       "        text-align: right;\n",
       "    }\n",
       "</style>\n",
       "<table border=\"1\" class=\"dataframe\">\n",
       "  <thead>\n",
       "    <tr style=\"text-align: right;\">\n",
       "      <th></th>\n",
       "      <th>Symbol</th>\n",
       "      <th>Coupon</th>\n",
       "      <th>Maturity</th>\n",
       "      <th>Moody's</th>\n",
       "      <th>S&amp;P</th>\n",
       "      <th>Price</th>\n",
       "      <th>Yield</th>\n",
       "    </tr>\n",
       "  </thead>\n",
       "  <tbody>\n",
       "    <tr>\n",
       "      <th>0</th>\n",
       "      <td>HES.GH</td>\n",
       "      <td>6.0</td>\n",
       "      <td>01/15/2040</td>\n",
       "      <td>Ba1</td>\n",
       "      <td>BBB-</td>\n",
       "      <td>107.168</td>\n",
       "      <td>5.365</td>\n",
       "    </tr>\n",
       "    <tr>\n",
       "      <th>1</th>\n",
       "      <td>HES.GI</td>\n",
       "      <td>5.6</td>\n",
       "      <td>02/15/2041</td>\n",
       "      <td>Ba1</td>\n",
       "      <td>BBB-</td>\n",
       "      <td>102.172</td>\n",
       "      <td>5.413</td>\n",
       "    </tr>\n",
       "    <tr>\n",
       "      <th>2</th>\n",
       "      <td>HES4136877</td>\n",
       "      <td>3.5</td>\n",
       "      <td>07/15/2024</td>\n",
       "      <td>Ba1</td>\n",
       "      <td>BBB-</td>\n",
       "      <td>100.089</td>\n",
       "      <td>3.451</td>\n",
       "    </tr>\n",
       "  </tbody>\n",
       "</table>\n",
       "</div>"
      ],
      "text/plain": [
       "       Symbol  Coupon    Maturity Moody's   S&P    Price  Yield\n",
       "0      HES.GH     6.0  01/15/2040     Ba1  BBB-  107.168  5.365\n",
       "1      HES.GI     5.6  02/15/2041     Ba1  BBB-  102.172  5.413\n",
       "2  HES4136877     3.5  07/15/2024     Ba1  BBB-  100.089  3.451"
      ]
     },
     "execution_count": 30,
     "metadata": {},
     "output_type": "execute_result"
    }
   ],
   "source": [
    "# my try\n",
    "symbol_array = [\"HES.GH\", \"HES.GI\", \"HES4136877\"]\n",
    "coupon_array = [6.000, 5.600, 3.500]\n",
    "time_array = [\"01/15/2040\", \"02/15/2041\", \"07/15/2024\"]\n",
    "price_array = [107.168, 102.172, 100.089]\n",
    "yield_array = [5.365, 5.413, 3.451]\n",
    "moodys_array = [\"Ba1\", \"Ba1\", \"Ba1\"]\n",
    "sp_array = [\"BBB-\", \"BBB-\", \"BBB-\"]\n",
    "\n",
    "df = pd.DataFrame({\"Symbol\":symbol_array, \"Coupon\":coupon_array, \"Maturity\":time_array, \"Moody's\":moodys_array, \"S&P\":sp_array, \"Price\":price_array, \"Yield\":yield_array})\n",
    "df"
   ]
  },
  {
   "cell_type": "code",
   "execution_count": 31,
   "metadata": {},
   "outputs": [
    {
     "data": {
      "text/plain": [
       "Symbol       object\n",
       "Coupon      float64\n",
       "Maturity     object\n",
       "Moody's      object\n",
       "S&P          object\n",
       "Price       float64\n",
       "Yield       float64\n",
       "dtype: object"
      ]
     },
     "execution_count": 31,
     "metadata": {},
     "output_type": "execute_result"
    }
   ],
   "source": [
    "df.dtypes  # values in Maturity are str dtypes"
   ]
  },
  {
   "cell_type": "code",
   "execution_count": 32,
   "metadata": {},
   "outputs": [
    {
     "data": {
      "text/html": [
       "<div>\n",
       "<style scoped>\n",
       "    .dataframe tbody tr th:only-of-type {\n",
       "        vertical-align: middle;\n",
       "    }\n",
       "\n",
       "    .dataframe tbody tr th {\n",
       "        vertical-align: top;\n",
       "    }\n",
       "\n",
       "    .dataframe thead th {\n",
       "        text-align: right;\n",
       "    }\n",
       "</style>\n",
       "<table border=\"1\" class=\"dataframe\">\n",
       "  <thead>\n",
       "    <tr style=\"text-align: right;\">\n",
       "      <th></th>\n",
       "      <th>Symbol</th>\n",
       "      <th>Coupon</th>\n",
       "      <th>Maturity</th>\n",
       "      <th>Moody's</th>\n",
       "      <th>S&amp;P</th>\n",
       "      <th>Price</th>\n",
       "      <th>Yield</th>\n",
       "    </tr>\n",
       "  </thead>\n",
       "  <tbody>\n",
       "    <tr>\n",
       "      <th>0</th>\n",
       "      <td>HES.GH</td>\n",
       "      <td>6.0</td>\n",
       "      <td>01/15/2040</td>\n",
       "      <td>Ba1</td>\n",
       "      <td>BBB-</td>\n",
       "      <td>107.168</td>\n",
       "      <td>5.365</td>\n",
       "    </tr>\n",
       "    <tr>\n",
       "      <th>1</th>\n",
       "      <td>HES.GI</td>\n",
       "      <td>5.6</td>\n",
       "      <td>02/15/2041</td>\n",
       "      <td>Ba1</td>\n",
       "      <td>BBB-</td>\n",
       "      <td>102.172</td>\n",
       "      <td>5.413</td>\n",
       "    </tr>\n",
       "    <tr>\n",
       "      <th>2</th>\n",
       "      <td>HES4136877</td>\n",
       "      <td>3.5</td>\n",
       "      <td>07/15/2024</td>\n",
       "      <td>Ba1</td>\n",
       "      <td>BBB-</td>\n",
       "      <td>100.089</td>\n",
       "      <td>3.451</td>\n",
       "    </tr>\n",
       "  </tbody>\n",
       "</table>\n",
       "</div>"
      ],
      "text/plain": [
       "       Symbol  Coupon    Maturity Moody's   S&P    Price  Yield\n",
       "0      HES.GH     6.0  01/15/2040     Ba1  BBB-  107.168  5.365\n",
       "1      HES.GI     5.6  02/15/2041     Ba1  BBB-  102.172  5.413\n",
       "2  HES4136877     3.5  07/15/2024     Ba1  BBB-  100.089  3.451"
      ]
     },
     "execution_count": 32,
     "metadata": {},
     "output_type": "execute_result"
    }
   ],
   "source": [
    "dfcopy = df.copy()\n",
    "dfcopy"
   ]
  },
  {
   "cell_type": "code",
   "execution_count": 33,
   "metadata": {},
   "outputs": [
    {
     "data": {
      "text/html": [
       "<div>\n",
       "<style scoped>\n",
       "    .dataframe tbody tr th:only-of-type {\n",
       "        vertical-align: middle;\n",
       "    }\n",
       "\n",
       "    .dataframe tbody tr th {\n",
       "        vertical-align: top;\n",
       "    }\n",
       "\n",
       "    .dataframe thead th {\n",
       "        text-align: right;\n",
       "    }\n",
       "</style>\n",
       "<table border=\"1\" class=\"dataframe\">\n",
       "  <thead>\n",
       "    <tr style=\"text-align: right;\">\n",
       "      <th></th>\n",
       "      <th>Symbol</th>\n",
       "      <th>Coupon</th>\n",
       "      <th>Maturity</th>\n",
       "      <th>Moody's</th>\n",
       "      <th>S&amp;P</th>\n",
       "      <th>Price</th>\n",
       "      <th>Yield</th>\n",
       "    </tr>\n",
       "  </thead>\n",
       "  <tbody>\n",
       "    <tr>\n",
       "      <th>0</th>\n",
       "      <td>HES.GH</td>\n",
       "      <td>6.0</td>\n",
       "      <td>2040-01-15</td>\n",
       "      <td>Ba1</td>\n",
       "      <td>BBB-</td>\n",
       "      <td>107.168</td>\n",
       "      <td>5.365</td>\n",
       "    </tr>\n",
       "    <tr>\n",
       "      <th>1</th>\n",
       "      <td>HES.GI</td>\n",
       "      <td>5.6</td>\n",
       "      <td>2041-02-15</td>\n",
       "      <td>Ba1</td>\n",
       "      <td>BBB-</td>\n",
       "      <td>102.172</td>\n",
       "      <td>5.413</td>\n",
       "    </tr>\n",
       "    <tr>\n",
       "      <th>2</th>\n",
       "      <td>HES4136877</td>\n",
       "      <td>3.5</td>\n",
       "      <td>2024-07-15</td>\n",
       "      <td>Ba1</td>\n",
       "      <td>BBB-</td>\n",
       "      <td>100.089</td>\n",
       "      <td>3.451</td>\n",
       "    </tr>\n",
       "  </tbody>\n",
       "</table>\n",
       "</div>"
      ],
      "text/plain": [
       "       Symbol  Coupon   Maturity Moody's   S&P    Price  Yield\n",
       "0      HES.GH     6.0 2040-01-15     Ba1  BBB-  107.168  5.365\n",
       "1      HES.GI     5.6 2041-02-15     Ba1  BBB-  102.172  5.413\n",
       "2  HES4136877     3.5 2024-07-15     Ba1  BBB-  100.089  3.451"
      ]
     },
     "execution_count": 33,
     "metadata": {},
     "output_type": "execute_result"
    }
   ],
   "source": [
    "# convert from str to datetime, pd.to_datetime() method:\n",
    "df[\"Maturity\"] = pd.to_datetime(df[\"Maturity\"])\n",
    "df"
   ]
  },
  {
   "cell_type": "code",
   "execution_count": 34,
   "metadata": {},
   "outputs": [
    {
     "name": "stderr",
     "output_type": "stream",
     "text": [
      "/tmp/ipykernel_452/706946909.py:5: SettingWithCopyWarning: \n",
      "A value is trying to be set on a copy of a slice from a DataFrame\n",
      "\n",
      "See the caveats in the documentation: https://pandas.pydata.org/pandas-docs/stable/user_guide/indexing.html#returning-a-view-versus-a-copy\n",
      "  dfcopy[\"Maturity\"][i] = datetime.strptime(dfcopy[\"Maturity\"][i], format_data)\n"
     ]
    },
    {
     "data": {
      "text/html": [
       "<div>\n",
       "<style scoped>\n",
       "    .dataframe tbody tr th:only-of-type {\n",
       "        vertical-align: middle;\n",
       "    }\n",
       "\n",
       "    .dataframe tbody tr th {\n",
       "        vertical-align: top;\n",
       "    }\n",
       "\n",
       "    .dataframe thead th {\n",
       "        text-align: right;\n",
       "    }\n",
       "</style>\n",
       "<table border=\"1\" class=\"dataframe\">\n",
       "  <thead>\n",
       "    <tr style=\"text-align: right;\">\n",
       "      <th></th>\n",
       "      <th>Symbol</th>\n",
       "      <th>Coupon</th>\n",
       "      <th>Maturity</th>\n",
       "      <th>Moody's</th>\n",
       "      <th>S&amp;P</th>\n",
       "      <th>Price</th>\n",
       "      <th>Yield</th>\n",
       "    </tr>\n",
       "  </thead>\n",
       "  <tbody>\n",
       "    <tr>\n",
       "      <th>0</th>\n",
       "      <td>HES.GH</td>\n",
       "      <td>6.0</td>\n",
       "      <td>2040-01-15 00:00:00</td>\n",
       "      <td>Ba1</td>\n",
       "      <td>BBB-</td>\n",
       "      <td>107.168</td>\n",
       "      <td>5.365</td>\n",
       "    </tr>\n",
       "    <tr>\n",
       "      <th>1</th>\n",
       "      <td>HES.GI</td>\n",
       "      <td>5.6</td>\n",
       "      <td>2041-02-15 00:00:00</td>\n",
       "      <td>Ba1</td>\n",
       "      <td>BBB-</td>\n",
       "      <td>102.172</td>\n",
       "      <td>5.413</td>\n",
       "    </tr>\n",
       "    <tr>\n",
       "      <th>2</th>\n",
       "      <td>HES4136877</td>\n",
       "      <td>3.5</td>\n",
       "      <td>2024-07-15 00:00:00</td>\n",
       "      <td>Ba1</td>\n",
       "      <td>BBB-</td>\n",
       "      <td>100.089</td>\n",
       "      <td>3.451</td>\n",
       "    </tr>\n",
       "  </tbody>\n",
       "</table>\n",
       "</div>"
      ],
      "text/plain": [
       "       Symbol  Coupon             Maturity Moody's   S&P    Price  Yield\n",
       "0      HES.GH     6.0  2040-01-15 00:00:00     Ba1  BBB-  107.168  5.365\n",
       "1      HES.GI     5.6  2041-02-15 00:00:00     Ba1  BBB-  102.172  5.413\n",
       "2  HES4136877     3.5  2024-07-15 00:00:00     Ba1  BBB-  100.089  3.451"
      ]
     },
     "execution_count": 34,
     "metadata": {},
     "output_type": "execute_result"
    }
   ],
   "source": [
    "# convert from str to datetime, datetime.strptime() method:\n",
    "format_data = \"%m/%d/%Y\"\n",
    "\n",
    "for i in range(len(dfcopy[\"Maturity\"])):\n",
    "    dfcopy[\"Maturity\"][i] = datetime.strptime(dfcopy[\"Maturity\"][i], format_data)\n",
    "\n",
    "dfcopy"
   ]
  },
  {
   "cell_type": "code",
   "execution_count": 35,
   "metadata": {},
   "outputs": [
    {
     "data": {
      "text/plain": [
       "Symbol       object\n",
       "Coupon      float64\n",
       "Maturity     object\n",
       "Moody's      object\n",
       "S&P          object\n",
       "Price       float64\n",
       "Yield       float64\n",
       "dtype: object"
      ]
     },
     "execution_count": 35,
     "metadata": {},
     "output_type": "execute_result"
    }
   ],
   "source": [
    "dfcopy.dtypes"
   ]
  },
  {
   "cell_type": "code",
   "execution_count": 36,
   "metadata": {},
   "outputs": [],
   "source": [
    "import numpy as np\n",
    "import pandas as pd\n",
    "import sympy as sp"
   ]
  },
  {
   "cell_type": "code",
   "execution_count": 37,
   "metadata": {},
   "outputs": [
    {
     "data": {
      "text/html": [
       "<div>\n",
       "<style scoped>\n",
       "    .dataframe tbody tr th:only-of-type {\n",
       "        vertical-align: middle;\n",
       "    }\n",
       "\n",
       "    .dataframe tbody tr th {\n",
       "        vertical-align: top;\n",
       "    }\n",
       "\n",
       "    .dataframe thead th {\n",
       "        text-align: right;\n",
       "    }\n",
       "</style>\n",
       "<table border=\"1\" class=\"dataframe\">\n",
       "  <thead>\n",
       "    <tr style=\"text-align: right;\">\n",
       "      <th></th>\n",
       "      <th>Symbol</th>\n",
       "      <th>Coupon</th>\n",
       "      <th>Maturity</th>\n",
       "      <th>Moody's</th>\n",
       "      <th>S&amp;P</th>\n",
       "      <th>Price</th>\n",
       "      <th>Yield</th>\n",
       "    </tr>\n",
       "  </thead>\n",
       "  <tbody>\n",
       "    <tr>\n",
       "      <th>0</th>\n",
       "      <td>HES.GH</td>\n",
       "      <td>6.0</td>\n",
       "      <td>2040-01-15</td>\n",
       "      <td>Ba1</td>\n",
       "      <td>BBB-</td>\n",
       "      <td>107.168</td>\n",
       "      <td>5.365</td>\n",
       "    </tr>\n",
       "    <tr>\n",
       "      <th>1</th>\n",
       "      <td>HES.GI</td>\n",
       "      <td>5.6</td>\n",
       "      <td>2041-02-15</td>\n",
       "      <td>Ba1</td>\n",
       "      <td>BBB-</td>\n",
       "      <td>102.172</td>\n",
       "      <td>5.413</td>\n",
       "    </tr>\n",
       "    <tr>\n",
       "      <th>2</th>\n",
       "      <td>HES4136877</td>\n",
       "      <td>3.5</td>\n",
       "      <td>2024-07-15</td>\n",
       "      <td>Ba1</td>\n",
       "      <td>BBB-</td>\n",
       "      <td>100.089</td>\n",
       "      <td>3.451</td>\n",
       "    </tr>\n",
       "  </tbody>\n",
       "</table>\n",
       "</div>"
      ],
      "text/plain": [
       "       Symbol  Coupon   Maturity Moody's   S&P    Price  Yield\n",
       "0      HES.GH     6.0 2040-01-15     Ba1  BBB-  107.168  5.365\n",
       "1      HES.GI     5.6 2041-02-15     Ba1  BBB-  102.172  5.413\n",
       "2  HES4136877     3.5 2024-07-15     Ba1  BBB-  100.089  3.451"
      ]
     },
     "execution_count": 37,
     "metadata": {},
     "output_type": "execute_result"
    }
   ],
   "source": [
    "# Re-visit our df\n",
    "df"
   ]
  },
  {
   "cell_type": "code",
   "execution_count": 38,
   "metadata": {},
   "outputs": [
    {
     "data": {
      "text/plain": [
       "0.04"
      ]
     },
     "execution_count": 38,
     "metadata": {},
     "output_type": "execute_result"
    }
   ],
   "source": [
    "principal_payment = 100\n",
    "recovery_rate = 0.40\n",
    "P = sp.Symbol(\"P\")\n",
    "# WQU's function\n",
    "def bonds_probability_of_default(\n",
    "    coupon, maturity_years, bond_price, principal_payment, risk_adjusted_discount_rate\n",
    "):\n",
    "    price = bond_price\n",
    "    prob_default_exp = 0\n",
    "\n",
    "    #     `times = np.arange(1, maturity_years+1)` # For Annual Cashflows\n",
    "    #     annual_coupon = coupon # For Annual Cashflows\n",
    "    times = np.arange(0.5, (maturity_years - 0.5) + 1, 0.5)  # For Semi-Annual Cashflows\n",
    "    semi_annual_coupon = coupon / 2  # For Semi-Annual Cashflows\n",
    "\n",
    "    # Calculation of Expected Cash Flow\n",
    "    cashflows = np.array([])\n",
    "    for i in times[:-1]:\n",
    "        #         cashflows = np.append(cashflows, annual_coupon) # For Annual Cashflows\n",
    "        #     cashflows = np.append(cashflows, annual_coupon+principal_payment)#  For Annual Cashflows\n",
    "        cashflows = np.append(\n",
    "            cashflows, semi_annual_coupon\n",
    "        )  # For Semi-Annual Cashflows\n",
    "    cashflows = np.append(\n",
    "        cashflows, semi_annual_coupon + principal_payment\n",
    "    )  # For Semi-Annual Cashflows\n",
    "\n",
    "    for i in range(len(times)):\n",
    "        #         This code block is used if there is only one payment remaining\n",
    "        if len(times) == 1:\n",
    "            prob_default_exp += (\n",
    "                cashflows[i] * (1 - P) + cashflows[i] * recovery_rate * P\n",
    "            ) / np.power((1 + risk_adjusted_discount_rate), times[i])\n",
    "        #         This code block is used if there are multiple payments remaining\n",
    "        else:\n",
    "            #             For Annual Cashflows\n",
    "            #             if times[i] == 1:\n",
    "            #                 prob_default_exp += ((cashflows[i]*(1-P) + principal_payment*recovery_rate*P) / \\\n",
    "            #                                     np.power((1 + risk_adjusted_discount_rate), times[i]))\n",
    "            #             For Semi-Annual Cashflows\n",
    "            if times[i] == 0.5:\n",
    "                prob_default_exp += (\n",
    "                    cashflows[i] * (1 - P) + principal_payment * recovery_rate * P\n",
    "                ) / np.power((1 + risk_adjusted_discount_rate), times[i])\n",
    "            #             Used for either Annual or Semi-Annual Cashflows\n",
    "            else:\n",
    "                prob_default_exp += (\n",
    "                    np.power((1 - P), times[i - 1])\n",
    "                    * (cashflows[i] * (1 - P) + principal_payment * recovery_rate * P)\n",
    "                ) / np.power((1 + risk_adjusted_discount_rate), times[i])\n",
    "\n",
    "    prob_default_exp = prob_default_exp - price\n",
    "    implied_prob_default = sp.solve(prob_default_exp, P)\n",
    "    implied_prob_default = round(float(implied_prob_default[0]), 2)\n",
    "\n",
    "    if implied_prob_default < 0:\n",
    "        return 0.0\n",
    "    else:\n",
    "        return implied_prob_default\n",
    "\n",
    "\n",
    "bonds_probability_of_default(coupon=3.5, maturity_years=1.0, bond_price=100.089, principal_payment=100, risk_adjusted_discount_rate=0.0061547985972957246)"
   ]
  },
  {
   "cell_type": "code",
   "execution_count": 39,
   "metadata": {},
   "outputs": [],
   "source": [
    "\n",
    "# My solution\n",
    "def bonds_probability_of_default(coupon, maturity_years, bond_price, principal_payment, d, recovery_rate=0.4):\n",
    "    time_array = np.arange(0.5, maturity_years + 0.5, 0.5)  # Times of each cash flow as an array, assuming semi-annual payments.\n",
    "    n = len(time_array)  # number of payments\n",
    "    semiAnnualCoupon = coupon / 2  # value of each semi-annual coupon payment in $\n",
    "    \n",
    "    cashflow_array = [semiAnnualCoupon] * (n - 1) + [semiAnnualCoupon + principal_payment]  # coupon for first n-1 cash flows, coupon + principal for n'th cash flow\n",
    "    \n",
    "    # Calculate expected cash flow\n",
    "    p = sp.Symbol(\"p\", real=True)\n",
    "    \n",
    "    discECF = 0  # start with discounted sum of expected cash flows = 0\n",
    "    for i, time in enumerate(time_array):\n",
    "        if i != n:\n",
    "            discECF += ((1 - p)**i * (p * recovery_rate * principal_payment + (1-p) * semiAnnualCoupon)) / (1 + d)**time  # discount all Expected value of cash flows until the last one\n",
    "        else:\n",
    "            discECF += ((1 - p)**i * (p * recovery_rate * principal_payment + (1-p) * (semiAnnualCoupon + principal_payment))) / (1 + d)**time  # discount the last expected cash flow\n",
    "\n",
    "        \n",
    "    p = sp.solve(discECF - bond_price, p)\n",
    "    \n",
    "    return p  # default probability for 6 months (semi-annual default probability)"
   ]
  },
  {
   "cell_type": "code",
   "execution_count": 40,
   "metadata": {},
   "outputs": [
    {
     "name": "stdout",
     "output_type": "stream",
     "text": [
      "Iteration 0: discECF = 38.1328300682646*p + 1.74463928416897\n",
      "Iteration 1: discECF = 38.1328300682646*p + 0.993882851221426*(1 - p)*(38.25*p + 1.75) + 1.74463928416897\n",
      "Iteration 2: discECF = 38.1328300682646*p + 0.990838323487294*(1 - p)**2*(38.25*p + 1.75) + 0.993882851221426*(1 - p)*(38.25*p + 1.75) + 1.74463928416897\n"
     ]
    },
    {
     "data": {
      "text/latex": [
       "$\\displaystyle 38.1328300682646 p + 0.990838323487294 \\left(1 - p\\right)^{2} \\cdot \\left(38.25 p + 1.75\\right) + 0.993882851221426 \\cdot \\left(1 - p\\right) \\left(38.25 p + 1.75\\right) + 1.74463928416897$"
      ],
      "text/plain": [
       "38.1328300682646*p + 0.990838323487294*(1 - p)**2*(38.25*p + 1.75) + 0.993882851221426*(1 - p)*(38.25*p + 1.75) + 1.74463928416897"
      ]
     },
     "execution_count": 40,
     "metadata": {},
     "output_type": "execute_result"
    }
   ],
   "source": [
    "p = sp.Symbol(\"p\", real=True)\n",
    "\n",
    "bond_price = 100.089\n",
    "time_array = np.arange(0.5, 2, 0.5)\n",
    "n = len(time_array)\n",
    "semiAnnualCoupon = 1.75\n",
    "principal_payment = 100\n",
    "discECF = 0\n",
    "recovery_rate = 0.4\n",
    "d = 0.0061547985972957246\n",
    "\n",
    "for i, time in enumerate(time_array):\n",
    "    if i != n:\n",
    "        discECF += ((1 - p)**i * (p * recovery_rate * principal_payment + (1-p) * semiAnnualCoupon)) / (1 + d)**time  # discount all Expected value of cash flows until the last one\n",
    "        print(f\"Iteration {i}: discECF = {discECF}\")\n",
    "    else:\n",
    "        discECF += ((1 - p)**i * (p * recovery_rate * principal_payment + (1-p) * (semiAnnualCoupon + principal_payment))) / (1 + d)**time  # discount the last expected cash flow\n",
    "        print(f\"Iteration {i}: discECF = {discECF}\")\n",
    "\n",
    "discECF"
   ]
  },
  {
   "cell_type": "code",
   "execution_count": 41,
   "metadata": {},
   "outputs": [
    {
     "data": {
      "text/plain": [
       "[2.16487757072445]"
      ]
     },
     "execution_count": 41,
     "metadata": {},
     "output_type": "execute_result"
    }
   ],
   "source": [
    "p_solution = sp.solve(discECF - bond_price, p)\n",
    "p_solution"
   ]
  },
  {
   "cell_type": "code",
   "execution_count": 42,
   "metadata": {},
   "outputs": [
    {
     "name": "stdout",
     "output_type": "stream",
     "text": [
      "[]\n",
      "[]\n"
     ]
    },
    {
     "ename": "KeyboardInterrupt",
     "evalue": "",
     "output_type": "error",
     "traceback": [
      "\u001b[0;31m---------------------------------------------------------------------------\u001b[0m",
      "\u001b[0;31mKeyError\u001b[0m                                  Traceback (most recent call last)",
      "File \u001b[0;32m~/.pyenv/versions/3.10.5/lib/python3.10/site-packages/sympy/core/evalf.py:1481\u001b[0m, in \u001b[0;36mevalf\u001b[0;34m(x, prec, options)\u001b[0m\n\u001b[1;32m   1480\u001b[0m \u001b[39mtry\u001b[39;00m:\n\u001b[0;32m-> 1481\u001b[0m     rf \u001b[39m=\u001b[39m evalf_table[\u001b[39mtype\u001b[39;49m(x)]\n\u001b[1;32m   1482\u001b[0m     r \u001b[39m=\u001b[39m rf(x, prec, options)\n",
      "\u001b[0;31mKeyError\u001b[0m: <class 'sympy.polys.rootoftools.ComplexRootOf'>",
      "\nDuring handling of the above exception, another exception occurred:\n",
      "\u001b[0;31mKeyboardInterrupt\u001b[0m                         Traceback (most recent call last)",
      "\u001b[1;32m/home/sscf/wqu_mscfe/Financial Data/M5/L3.ipynb Cell 53\u001b[0m line \u001b[0;36m<cell line: 1>\u001b[0;34m()\u001b[0m\n\u001b[1;32m      <a href='vscode-notebook-cell://wsl%2Bubuntu-20.04/home/sscf/wqu_mscfe/Financial%20Data/M5/L3.ipynb#Y103sdnNjb2RlLXJlbW90ZQ%3D%3D?line=0'>1</a>\u001b[0m \u001b[39mfor\u001b[39;00m i \u001b[39min\u001b[39;00m df\u001b[39m.\u001b[39mindex:\n\u001b[0;32m----> <a href='vscode-notebook-cell://wsl%2Bubuntu-20.04/home/sscf/wqu_mscfe/Financial%20Data/M5/L3.ipynb#Y103sdnNjb2RlLXJlbW90ZQ%3D%3D?line=1'>2</a>\u001b[0m     \u001b[39mprint\u001b[39m(bonds_probability_of_default(df[\u001b[39m\"\u001b[39;49m\u001b[39mCoupon\u001b[39;49m\u001b[39m\"\u001b[39;49m][i], \u001b[39m3\u001b[39;49m, df[\u001b[39m\"\u001b[39;49m\u001b[39mPrice\u001b[39;49m\u001b[39m\"\u001b[39;49m][i], \u001b[39m100\u001b[39;49m, \u001b[39m0.05\u001b[39;49m))\n",
      "\u001b[1;32m/home/sscf/wqu_mscfe/Financial Data/M5/L3.ipynb Cell 53\u001b[0m line \u001b[0;36mbonds_probability_of_default\u001b[0;34m(coupon, maturity_years, bond_price, principal_payment, d, recovery_rate)\u001b[0m\n\u001b[1;32m     <a href='vscode-notebook-cell://wsl%2Bubuntu-20.04/home/sscf/wqu_mscfe/Financial%20Data/M5/L3.ipynb#Y103sdnNjb2RlLXJlbW90ZQ%3D%3D?line=15'>16</a>\u001b[0m     \u001b[39melse\u001b[39;00m:\n\u001b[1;32m     <a href='vscode-notebook-cell://wsl%2Bubuntu-20.04/home/sscf/wqu_mscfe/Financial%20Data/M5/L3.ipynb#Y103sdnNjb2RlLXJlbW90ZQ%3D%3D?line=16'>17</a>\u001b[0m         discECF \u001b[39m+\u001b[39m\u001b[39m=\u001b[39m ((\u001b[39m1\u001b[39m \u001b[39m-\u001b[39m p)\u001b[39m*\u001b[39m\u001b[39m*\u001b[39mi \u001b[39m*\u001b[39m (p \u001b[39m*\u001b[39m recovery_rate \u001b[39m*\u001b[39m principal_payment \u001b[39m+\u001b[39m (\u001b[39m1\u001b[39m\u001b[39m-\u001b[39mp) \u001b[39m*\u001b[39m (semiAnnualCoupon \u001b[39m+\u001b[39m principal_payment))) \u001b[39m/\u001b[39m (\u001b[39m1\u001b[39m \u001b[39m+\u001b[39m d)\u001b[39m*\u001b[39m\u001b[39m*\u001b[39mtime  \u001b[39m# discount the last expected cash flow\u001b[39;00m\n\u001b[0;32m---> <a href='vscode-notebook-cell://wsl%2Bubuntu-20.04/home/sscf/wqu_mscfe/Financial%20Data/M5/L3.ipynb#Y103sdnNjb2RlLXJlbW90ZQ%3D%3D?line=19'>20</a>\u001b[0m p \u001b[39m=\u001b[39m sp\u001b[39m.\u001b[39;49msolve(discECF \u001b[39m-\u001b[39;49m bond_price, p)\n\u001b[1;32m     <a href='vscode-notebook-cell://wsl%2Bubuntu-20.04/home/sscf/wqu_mscfe/Financial%20Data/M5/L3.ipynb#Y103sdnNjb2RlLXJlbW90ZQ%3D%3D?line=21'>22</a>\u001b[0m \u001b[39mreturn\u001b[39;00m p\n",
      "File \u001b[0;32m~/.pyenv/versions/3.10.5/lib/python3.10/site-packages/sympy/solvers/solvers.py:1210\u001b[0m, in \u001b[0;36msolve\u001b[0;34m(f, *symbols, **flags)\u001b[0m\n\u001b[1;32m   1208\u001b[0m \u001b[39m# restore floats\u001b[39;00m\n\u001b[1;32m   1209\u001b[0m \u001b[39mif\u001b[39;00m floats \u001b[39mand\u001b[39;00m solution \u001b[39mand\u001b[39;00m flags\u001b[39m.\u001b[39mget(\u001b[39m'\u001b[39m\u001b[39mrational\u001b[39m\u001b[39m'\u001b[39m, \u001b[39mNone\u001b[39;00m) \u001b[39mis\u001b[39;00m \u001b[39mNone\u001b[39;00m:\n\u001b[0;32m-> 1210\u001b[0m     solution \u001b[39m=\u001b[39m nfloat(solution, exponent\u001b[39m=\u001b[39;49m\u001b[39mFalse\u001b[39;49;00m)\n\u001b[1;32m   1211\u001b[0m     \u001b[39m# nfloat might reveal more duplicates\u001b[39;00m\n\u001b[1;32m   1212\u001b[0m     solution \u001b[39m=\u001b[39m _remove_duplicate_solutions(solution)\n",
      "File \u001b[0;32m~/.pyenv/versions/3.10.5/lib/python3.10/site-packages/sympy/core/function.py:3339\u001b[0m, in \u001b[0;36mnfloat\u001b[0;34m(expr, n, exponent, dkeys)\u001b[0m\n\u001b[1;32m   3337\u001b[0m     \u001b[39melif\u001b[39;00m \u001b[39misinstance\u001b[39m(expr, Basic):\n\u001b[1;32m   3338\u001b[0m         \u001b[39mreturn\u001b[39;00m expr\u001b[39m.\u001b[39mfunc(\u001b[39m*\u001b[39m[nfloat(a, \u001b[39m*\u001b[39m\u001b[39m*\u001b[39mkw) \u001b[39mfor\u001b[39;00m a \u001b[39min\u001b[39;00m expr\u001b[39m.\u001b[39margs])\n\u001b[0;32m-> 3339\u001b[0m     \u001b[39mreturn\u001b[39;00m \u001b[39mtype\u001b[39m(expr)([nfloat(a, \u001b[39m*\u001b[39m\u001b[39m*\u001b[39mkw) \u001b[39mfor\u001b[39;00m a \u001b[39min\u001b[39;00m expr])\n\u001b[1;32m   3341\u001b[0m rv \u001b[39m=\u001b[39m sympify(expr)\n\u001b[1;32m   3343\u001b[0m \u001b[39mif\u001b[39;00m rv\u001b[39m.\u001b[39mis_Number:\n",
      "File \u001b[0;32m~/.pyenv/versions/3.10.5/lib/python3.10/site-packages/sympy/core/function.py:3339\u001b[0m, in \u001b[0;36m<listcomp>\u001b[0;34m(.0)\u001b[0m\n\u001b[1;32m   3337\u001b[0m     \u001b[39melif\u001b[39;00m \u001b[39misinstance\u001b[39m(expr, Basic):\n\u001b[1;32m   3338\u001b[0m         \u001b[39mreturn\u001b[39;00m expr\u001b[39m.\u001b[39mfunc(\u001b[39m*\u001b[39m[nfloat(a, \u001b[39m*\u001b[39m\u001b[39m*\u001b[39mkw) \u001b[39mfor\u001b[39;00m a \u001b[39min\u001b[39;00m expr\u001b[39m.\u001b[39margs])\n\u001b[0;32m-> 3339\u001b[0m     \u001b[39mreturn\u001b[39;00m \u001b[39mtype\u001b[39m(expr)([nfloat(a, \u001b[39m*\u001b[39;49m\u001b[39m*\u001b[39;49mkw) \u001b[39mfor\u001b[39;00m a \u001b[39min\u001b[39;00m expr])\n\u001b[1;32m   3341\u001b[0m rv \u001b[39m=\u001b[39m sympify(expr)\n\u001b[1;32m   3343\u001b[0m \u001b[39mif\u001b[39;00m rv\u001b[39m.\u001b[39mis_Number:\n",
      "File \u001b[0;32m~/.pyenv/versions/3.10.5/lib/python3.10/site-packages/sympy/core/function.py:3332\u001b[0m, in \u001b[0;36mnfloat\u001b[0;34m(expr, n, exponent, dkeys)\u001b[0m\n\u001b[1;32m   3329\u001b[0m     args \u001b[39m=\u001b[39m [\u001b[39mtuple\u001b[39m((nfloat(i, \u001b[39m*\u001b[39m\u001b[39m*\u001b[39mkw) \u001b[39mfor\u001b[39;00m i \u001b[39min\u001b[39;00m a))\n\u001b[1;32m   3330\u001b[0m         \u001b[39mfor\u001b[39;00m a \u001b[39min\u001b[39;00m expr\u001b[39m.\u001b[39mitems()]\n\u001b[1;32m   3331\u001b[0m \u001b[39melse\u001b[39;00m:\n\u001b[0;32m-> 3332\u001b[0m     args \u001b[39m=\u001b[39m [(k, nfloat(v, \u001b[39m*\u001b[39m\u001b[39m*\u001b[39mkw)) \u001b[39mfor\u001b[39;00m k, v \u001b[39min\u001b[39;00m expr\u001b[39m.\u001b[39mitems()]\n\u001b[1;32m   3333\u001b[0m \u001b[39mif\u001b[39;00m \u001b[39misinstance\u001b[39m(expr, \u001b[39mdict\u001b[39m):\n\u001b[1;32m   3334\u001b[0m     \u001b[39mreturn\u001b[39;00m \u001b[39mtype\u001b[39m(expr)(args)\n",
      "File \u001b[0;32m~/.pyenv/versions/3.10.5/lib/python3.10/site-packages/sympy/core/function.py:3332\u001b[0m, in \u001b[0;36m<listcomp>\u001b[0;34m(.0)\u001b[0m\n\u001b[1;32m   3329\u001b[0m     args \u001b[39m=\u001b[39m [\u001b[39mtuple\u001b[39m((nfloat(i, \u001b[39m*\u001b[39m\u001b[39m*\u001b[39mkw) \u001b[39mfor\u001b[39;00m i \u001b[39min\u001b[39;00m a))\n\u001b[1;32m   3330\u001b[0m         \u001b[39mfor\u001b[39;00m a \u001b[39min\u001b[39;00m expr\u001b[39m.\u001b[39mitems()]\n\u001b[1;32m   3331\u001b[0m \u001b[39melse\u001b[39;00m:\n\u001b[0;32m-> 3332\u001b[0m     args \u001b[39m=\u001b[39m [(k, nfloat(v, \u001b[39m*\u001b[39;49m\u001b[39m*\u001b[39;49mkw)) \u001b[39mfor\u001b[39;00m k, v \u001b[39min\u001b[39;00m expr\u001b[39m.\u001b[39mitems()]\n\u001b[1;32m   3333\u001b[0m \u001b[39mif\u001b[39;00m \u001b[39misinstance\u001b[39m(expr, \u001b[39mdict\u001b[39m):\n\u001b[1;32m   3334\u001b[0m     \u001b[39mreturn\u001b[39;00m \u001b[39mtype\u001b[39m(expr)(args)\n",
      "File \u001b[0;32m~/.pyenv/versions/3.10.5/lib/python3.10/site-packages/sympy/core/function.py:3347\u001b[0m, in \u001b[0;36mnfloat\u001b[0;34m(expr, n, exponent, dkeys)\u001b[0m\n\u001b[1;32m   3344\u001b[0m     \u001b[39mreturn\u001b[39;00m Float(rv, n)\n\u001b[1;32m   3345\u001b[0m \u001b[39melif\u001b[39;00m rv\u001b[39m.\u001b[39mis_number:\n\u001b[1;32m   3346\u001b[0m     \u001b[39m# evalf doesn't always set the precision\u001b[39;00m\n\u001b[0;32m-> 3347\u001b[0m     rv \u001b[39m=\u001b[39m rv\u001b[39m.\u001b[39;49mn(n)\n\u001b[1;32m   3348\u001b[0m     \u001b[39mif\u001b[39;00m rv\u001b[39m.\u001b[39mis_Number:\n\u001b[1;32m   3349\u001b[0m         rv \u001b[39m=\u001b[39m Float(rv\u001b[39m.\u001b[39mn(n), n)\n",
      "File \u001b[0;32m~/.pyenv/versions/3.10.5/lib/python3.10/site-packages/sympy/core/evalf.py:1647\u001b[0m, in \u001b[0;36mEvalfMixin.evalf\u001b[0;34m(self, n, subs, maxn, chop, strict, quad, verbose)\u001b[0m\n\u001b[1;32m   1645\u001b[0m     options[\u001b[39m'\u001b[39m\u001b[39mquad\u001b[39m\u001b[39m'\u001b[39m] \u001b[39m=\u001b[39m quad\n\u001b[1;32m   1646\u001b[0m \u001b[39mtry\u001b[39;00m:\n\u001b[0;32m-> 1647\u001b[0m     result \u001b[39m=\u001b[39m evalf(\u001b[39mself\u001b[39;49m, prec \u001b[39m+\u001b[39;49m \u001b[39m4\u001b[39;49m, options)\n\u001b[1;32m   1648\u001b[0m \u001b[39mexcept\u001b[39;00m \u001b[39mNotImplementedError\u001b[39;00m:\n\u001b[1;32m   1649\u001b[0m     \u001b[39m# Fall back to the ordinary evalf\u001b[39;00m\n\u001b[1;32m   1650\u001b[0m     \u001b[39mif\u001b[39;00m \u001b[39mhasattr\u001b[39m(\u001b[39mself\u001b[39m, \u001b[39m'\u001b[39m\u001b[39msubs\u001b[39m\u001b[39m'\u001b[39m) \u001b[39mand\u001b[39;00m subs \u001b[39mis\u001b[39;00m \u001b[39mnot\u001b[39;00m \u001b[39mNone\u001b[39;00m:  \u001b[39m# issue 20291\u001b[39;00m\n",
      "File \u001b[0;32m~/.pyenv/versions/3.10.5/lib/python3.10/site-packages/sympy/core/evalf.py:1487\u001b[0m, in \u001b[0;36mevalf\u001b[0;34m(x, prec, options)\u001b[0m\n\u001b[1;32m   1485\u001b[0m \u001b[39mif\u001b[39;00m \u001b[39m'\u001b[39m\u001b[39msubs\u001b[39m\u001b[39m'\u001b[39m \u001b[39min\u001b[39;00m options:\n\u001b[1;32m   1486\u001b[0m     x \u001b[39m=\u001b[39m x\u001b[39m.\u001b[39msubs(evalf_subs(prec, options[\u001b[39m'\u001b[39m\u001b[39msubs\u001b[39m\u001b[39m'\u001b[39m]))\n\u001b[0;32m-> 1487\u001b[0m xe \u001b[39m=\u001b[39m x\u001b[39m.\u001b[39;49m_eval_evalf(prec)\n\u001b[1;32m   1488\u001b[0m \u001b[39mif\u001b[39;00m xe \u001b[39mis\u001b[39;00m \u001b[39mNone\u001b[39;00m:\n\u001b[1;32m   1489\u001b[0m     \u001b[39mraise\u001b[39;00m \u001b[39mNotImplementedError\u001b[39;00m\n",
      "File \u001b[0;32m~/.pyenv/versions/3.10.5/lib/python3.10/site-packages/sympy/polys/rootoftools.py:919\u001b[0m, in \u001b[0;36mComplexRootOf._eval_evalf\u001b[0;34m(self, prec, **kwargs)\u001b[0m\n\u001b[1;32m    917\u001b[0m \u001b[39m\"\"\"Evaluate this complex root to the given precision.\"\"\"\u001b[39;00m\n\u001b[1;32m    918\u001b[0m \u001b[39m# all kwargs are ignored\u001b[39;00m\n\u001b[0;32m--> 919\u001b[0m \u001b[39mreturn\u001b[39;00m \u001b[39mself\u001b[39;49m\u001b[39m.\u001b[39;49meval_rational(n\u001b[39m=\u001b[39;49mprec_to_dps(prec))\u001b[39m.\u001b[39m_evalf(prec)\n",
      "File \u001b[0;32m~/.pyenv/versions/3.10.5/lib/python3.10/site-packages/sympy/polys/rootoftools.py:990\u001b[0m, in \u001b[0;36mComplexRootOf.eval_rational\u001b[0;34m(self, dx, dy, n)\u001b[0m\n\u001b[1;32m    988\u001b[0m     dx \u001b[39m=\u001b[39m \u001b[39mabs\u001b[39m(interval\u001b[39m.\u001b[39mcenter[\u001b[39m0\u001b[39m]\u001b[39m*\u001b[39mrtol)\n\u001b[1;32m    989\u001b[0m     dy \u001b[39m=\u001b[39m \u001b[39mabs\u001b[39m(interval\u001b[39m.\u001b[39mcenter[\u001b[39m1\u001b[39m]\u001b[39m*\u001b[39mrtol)\n\u001b[0;32m--> 990\u001b[0m interval \u001b[39m=\u001b[39m interval\u001b[39m.\u001b[39;49mrefine_size(dx, dy)\n\u001b[1;32m    991\u001b[0m c \u001b[39m=\u001b[39m interval\u001b[39m.\u001b[39mcenter\n\u001b[1;32m    992\u001b[0m real, imag \u001b[39m=\u001b[39m \u001b[39mmap\u001b[39m(Rational, c)\n",
      "File \u001b[0;32m~/.pyenv/versions/3.10.5/lib/python3.10/site-packages/sympy/polys/rootisolation.py:2183\u001b[0m, in \u001b[0;36mComplexInterval.refine_size\u001b[0;34m(self, dx, dy)\u001b[0m\n\u001b[1;32m   2181\u001b[0m expr \u001b[39m=\u001b[39m \u001b[39mself\u001b[39m\n\u001b[1;32m   2182\u001b[0m \u001b[39mwhile\u001b[39;00m \u001b[39mnot\u001b[39;00m (expr\u001b[39m.\u001b[39mdx \u001b[39m<\u001b[39m dx \u001b[39mand\u001b[39;00m expr\u001b[39m.\u001b[39mdy \u001b[39m<\u001b[39m dy):\n\u001b[0;32m-> 2183\u001b[0m     expr \u001b[39m=\u001b[39m expr\u001b[39m.\u001b[39;49m_inner_refine()\n\u001b[1;32m   2185\u001b[0m \u001b[39mreturn\u001b[39;00m expr\n",
      "File \u001b[0;32m~/.pyenv/versions/3.10.5/lib/python3.10/site-packages/sympy/polys/rootisolation.py:2160\u001b[0m, in \u001b[0;36mComplexInterval._inner_refine\u001b[0;34m(self)\u001b[0m\n\u001b[1;32m   2158\u001b[0m         _, a, b, I, Q, F1, F2 \u001b[39m=\u001b[39m D_R\n\u001b[1;32m   2159\u001b[0m \u001b[39melse\u001b[39;00m:\n\u001b[0;32m-> 2160\u001b[0m     D_B, D_U \u001b[39m=\u001b[39m _horizontal_bisection(\u001b[39m1\u001b[39;49m, (u, v), (s, t), I, Q, F1, F2, f1, f2, dom)\n\u001b[1;32m   2162\u001b[0m     \u001b[39mif\u001b[39;00m D_B[\u001b[39m0\u001b[39m] \u001b[39m==\u001b[39m \u001b[39m1\u001b[39m:\n\u001b[1;32m   2163\u001b[0m         _, a, b, I, Q, F1, F2 \u001b[39m=\u001b[39m D_B\n",
      "File \u001b[0;32m~/.pyenv/versions/3.10.5/lib/python3.10/site-packages/sympy/polys/rootisolation.py:1472\u001b[0m, in \u001b[0;36m_horizontal_bisection\u001b[0;34m(N, a, b, I, Q, F1, F2, f1, f2, F)\u001b[0m\n\u001b[1;32m   1469\u001b[0m f1H \u001b[39m=\u001b[39m dmp_eval_in(f1, y, \u001b[39m1\u001b[39m, \u001b[39m1\u001b[39m, F)\n\u001b[1;32m   1470\u001b[0m f2H \u001b[39m=\u001b[39m dmp_eval_in(f2, y, \u001b[39m1\u001b[39m, \u001b[39m1\u001b[39m, F)\n\u001b[0;32m-> 1472\u001b[0m I_H \u001b[39m=\u001b[39m dup_isolate_real_roots_list([f1H, f2H], F, inf\u001b[39m=\u001b[39;49mu, sup\u001b[39m=\u001b[39;49ms, fast\u001b[39m=\u001b[39;49m\u001b[39mTrue\u001b[39;49;00m, strict\u001b[39m=\u001b[39;49m\u001b[39mTrue\u001b[39;49;00m, basis\u001b[39m=\u001b[39;49m\u001b[39mTrue\u001b[39;49;00m)\n\u001b[1;32m   1474\u001b[0m I_L1_B, I_L1_U \u001b[39m=\u001b[39m I_L1, I_H\n\u001b[1;32m   1475\u001b[0m I_L2_B, I_L2_U \u001b[39m=\u001b[39m [], []\n",
      "File \u001b[0;32m~/.pyenv/versions/3.10.5/lib/python3.10/site-packages/sympy/polys/rootisolation.py:667\u001b[0m, in \u001b[0;36mdup_isolate_real_roots_list\u001b[0;34m(polys, K, eps, inf, sup, strict, basis, fast)\u001b[0m\n\u001b[1;32m    664\u001b[0m \u001b[39mif\u001b[39;00m zeros \u001b[39mand\u001b[39;00m j \u001b[39m>\u001b[39m \u001b[39m0\u001b[39m:\n\u001b[1;32m    665\u001b[0m     zero_indices[i] \u001b[39m=\u001b[39m j\n\u001b[0;32m--> 667\u001b[0m \u001b[39mfor\u001b[39;00m f, k \u001b[39min\u001b[39;00m dup_factor_list(p, K)[\u001b[39m1\u001b[39m]:\n\u001b[1;32m    668\u001b[0m     f \u001b[39m=\u001b[39m \u001b[39mtuple\u001b[39m(f)\n\u001b[1;32m    670\u001b[0m     \u001b[39mif\u001b[39;00m f \u001b[39mnot\u001b[39;00m \u001b[39min\u001b[39;00m factors_dict:\n",
      "File \u001b[0;32m~/.pyenv/versions/3.10.5/lib/python3.10/site-packages/sympy/polys/factortools.py:1342\u001b[0m, in \u001b[0;36mdup_factor_list\u001b[0;34m(f, K0)\u001b[0m\n\u001b[1;32m   1339\u001b[0m     K \u001b[39m=\u001b[39m K0\n\u001b[1;32m   1341\u001b[0m \u001b[39mif\u001b[39;00m K\u001b[39m.\u001b[39mis_ZZ:\n\u001b[0;32m-> 1342\u001b[0m     coeff, factors \u001b[39m=\u001b[39m dup_zz_factor(f, K)\n\u001b[1;32m   1343\u001b[0m \u001b[39melif\u001b[39;00m K\u001b[39m.\u001b[39mis_Poly:\n\u001b[1;32m   1344\u001b[0m     f, u \u001b[39m=\u001b[39m dmp_inject(f, \u001b[39m0\u001b[39m, K)\n",
      "File \u001b[0;32m~/.pyenv/versions/3.10.5/lib/python3.10/site-packages/sympy/polys/factortools.py:688\u001b[0m, in \u001b[0;36mdup_zz_factor\u001b[0;34m(f, K)\u001b[0m\n\u001b[1;32m    685\u001b[0m     H \u001b[39m=\u001b[39m dup_zz_cyclotomic_factor(g, K)\n\u001b[1;32m    687\u001b[0m \u001b[39mif\u001b[39;00m H \u001b[39mis\u001b[39;00m \u001b[39mNone\u001b[39;00m:\n\u001b[0;32m--> 688\u001b[0m     H \u001b[39m=\u001b[39m dup_zz_zassenhaus(g, K)\n\u001b[1;32m    690\u001b[0m factors \u001b[39m=\u001b[39m dup_trial_division(f, H, K)\n\u001b[1;32m    691\u001b[0m \u001b[39mreturn\u001b[39;00m cont, factors\n",
      "File \u001b[0;32m~/.pyenv/versions/3.10.5/lib/python3.10/site-packages/sympy/polys/factortools.py:354\u001b[0m, in \u001b[0;36mdup_zz_zassenhaus\u001b[0;34m(f, K)\u001b[0m\n\u001b[1;32m    350\u001b[0m l \u001b[39m=\u001b[39m \u001b[39mint\u001b[39m(_ceil(_log(\u001b[39m2\u001b[39m\u001b[39m*\u001b[39mB \u001b[39m+\u001b[39m \u001b[39m1\u001b[39m, p)))\n\u001b[1;32m    352\u001b[0m modular \u001b[39m=\u001b[39m [gf_to_int_poly(ff, p) \u001b[39mfor\u001b[39;00m ff \u001b[39min\u001b[39;00m fsqf]\n\u001b[0;32m--> 354\u001b[0m g \u001b[39m=\u001b[39m dup_zz_hensel_lift(p, f, modular, l, K)\n\u001b[1;32m    356\u001b[0m sorted_T \u001b[39m=\u001b[39m \u001b[39mrange\u001b[39m(\u001b[39mlen\u001b[39m(g))\n\u001b[1;32m    357\u001b[0m T \u001b[39m=\u001b[39m \u001b[39mset\u001b[39m(sorted_T)\n",
      "File \u001b[0;32m~/.pyenv/versions/3.10.5/lib/python3.10/site-packages/sympy/polys/factortools.py:305\u001b[0m, in \u001b[0;36mdup_zz_hensel_lift\u001b[0;34m(p, f, f_list, l, K)\u001b[0m\n\u001b[1;32m    301\u001b[0m \u001b[39mfor\u001b[39;00m _ \u001b[39min\u001b[39;00m \u001b[39mrange\u001b[39m(\u001b[39m1\u001b[39m, d \u001b[39m+\u001b[39m \u001b[39m1\u001b[39m):\n\u001b[1;32m    302\u001b[0m     (g, h, s, t), m \u001b[39m=\u001b[39m dup_zz_hensel_step(m, f, g, h, s, t, K), m\u001b[39m*\u001b[39m\u001b[39m*\u001b[39m\u001b[39m2\u001b[39m\n\u001b[1;32m    304\u001b[0m \u001b[39mreturn\u001b[39;00m dup_zz_hensel_lift(p, g, f_list[:k], l, K) \\\n\u001b[0;32m--> 305\u001b[0m     \u001b[39m+\u001b[39m dup_zz_hensel_lift(p, h, f_list[k:], l, K)\n",
      "File \u001b[0;32m~/.pyenv/versions/3.10.5/lib/python3.10/site-packages/sympy/polys/factortools.py:302\u001b[0m, in \u001b[0;36mdup_zz_hensel_lift\u001b[0;34m(p, f, f_list, l, K)\u001b[0m\n\u001b[1;32m    299\u001b[0m t \u001b[39m=\u001b[39m gf_to_int_poly(t, p)\n\u001b[1;32m    301\u001b[0m \u001b[39mfor\u001b[39;00m _ \u001b[39min\u001b[39;00m \u001b[39mrange\u001b[39m(\u001b[39m1\u001b[39m, d \u001b[39m+\u001b[39m \u001b[39m1\u001b[39m):\n\u001b[0;32m--> 302\u001b[0m     (g, h, s, t), m \u001b[39m=\u001b[39m dup_zz_hensel_step(m, f, g, h, s, t, K), m\u001b[39m*\u001b[39m\u001b[39m*\u001b[39m\u001b[39m2\u001b[39m\n\u001b[1;32m    304\u001b[0m \u001b[39mreturn\u001b[39;00m dup_zz_hensel_lift(p, g, f_list[:k], l, K) \\\n\u001b[1;32m    305\u001b[0m     \u001b[39m+\u001b[39m dup_zz_hensel_lift(p, h, f_list[k:], l, K)\n",
      "File \u001b[0;32m~/.pyenv/versions/3.10.5/lib/python3.10/site-packages/sympy/polys/factortools.py:229\u001b[0m, in \u001b[0;36mdup_zz_hensel_step\u001b[0;34m(m, f, g, h, s, t, K)\u001b[0m\n\u001b[1;32m    226\u001b[0m q, r \u001b[39m=\u001b[39m dup_div(dup_mul(s, e, K), h, K)\n\u001b[1;32m    228\u001b[0m q \u001b[39m=\u001b[39m dup_trunc(q, M, K)\n\u001b[0;32m--> 229\u001b[0m r \u001b[39m=\u001b[39m dup_trunc(r, M, K)\n\u001b[1;32m    231\u001b[0m u \u001b[39m=\u001b[39m dup_add(dup_mul(t, e, K), dup_mul(q, g, K), K)\n\u001b[1;32m    232\u001b[0m G \u001b[39m=\u001b[39m dup_trunc(dup_add(g, u, K), M, K)\n",
      "File \u001b[0;32m~/.pyenv/versions/3.10.5/lib/python3.10/site-packages/sympy/polys/densetools.py:450\u001b[0m, in \u001b[0;36mdup_trunc\u001b[0;34m(f, p, K)\u001b[0m\n\u001b[1;32m    447\u001b[0m g \u001b[39m=\u001b[39m []\n\u001b[1;32m    449\u001b[0m \u001b[39mfor\u001b[39;00m c \u001b[39min\u001b[39;00m f:\n\u001b[0;32m--> 450\u001b[0m     c \u001b[39m=\u001b[39m c \u001b[39m%\u001b[39;49m p\n\u001b[1;32m    452\u001b[0m     \u001b[39mif\u001b[39;00m c \u001b[39m>\u001b[39m p \u001b[39m/\u001b[39m\u001b[39m/\u001b[39m \u001b[39m2\u001b[39m:\n\u001b[1;32m    453\u001b[0m         g\u001b[39m.\u001b[39mappend(c \u001b[39m-\u001b[39m p)\n",
      "\u001b[0;31mKeyboardInterrupt\u001b[0m: "
     ]
    }
   ],
   "source": [
    "for i in df.index:\n",
    "    print(bonds_probability_of_default(df[\"Coupon\"][i], 3, df[\"Price\"][i], 100, 0.05))"
   ]
  }
 ],
 "metadata": {
  "kernelspec": {
   "display_name": "Python 3",
   "language": "python",
   "name": "python3"
  },
  "language_info": {
   "codemirror_mode": {
    "name": "ipython",
    "version": 3
   },
   "file_extension": ".py",
   "mimetype": "text/x-python",
   "name": "python",
   "nbconvert_exporter": "python",
   "pygments_lexer": "ipython3",
   "version": "3.10.5"
  },
  "orig_nbformat": 4
 },
 "nbformat": 4,
 "nbformat_minor": 2
}
