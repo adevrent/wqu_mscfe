{
 "cells": [
  {
   "cell_type": "markdown",
   "metadata": {},
   "source": [
    "## SymPy\n",
    "\n",
    "SymPy is used for finding roots of functions in the form of:\n",
    "\n",
    "$f(x) = 0$ ; solve for $x$"
   ]
  },
  {
   "cell_type": "code",
   "execution_count": 139,
   "metadata": {},
   "outputs": [
    {
     "data": {
      "text/plain": [
       "[-sqrt(2), sqrt(2)]"
      ]
     },
     "execution_count": 139,
     "metadata": {},
     "output_type": "execute_result"
    }
   ],
   "source": [
    "import sympy as sp\n",
    "x = sp.Symbol('x')  # Initialize x as a SymPy symbol.\n",
    "\n",
    "roots = sp.solve(x**2 - 2, x)  # solves for x, returns a list object containing the two roots.\n",
    "roots"
   ]
  },
  {
   "cell_type": "code",
   "execution_count": 140,
   "metadata": {},
   "outputs": [
    {
     "name": "stdout",
     "output_type": "stream",
     "text": [
      "type of x = <class 'sympy.core.symbol.Symbol'>\n",
      "type of roots = <class 'list'>\n"
     ]
    }
   ],
   "source": [
    "print(\"type of x =\", type(x))\n",
    "print(\"type of roots =\", type(roots))"
   ]
  },
  {
   "cell_type": "markdown",
   "metadata": {},
   "source": [
    "Find the root(s) of the function $f(y) = y^4 - y^2 - 1$"
   ]
  },
  {
   "cell_type": "code",
   "execution_count": 141,
   "metadata": {},
   "outputs": [
    {
     "name": "stdout",
     "output_type": "stream",
     "text": [
      "[-I*sqrt(-1/2 + sqrt(5)/2), I*sqrt(-1/2 + sqrt(5)/2), -sqrt(1/2 + sqrt(5)/2), sqrt(1/2 + sqrt(5)/2)]\n",
      "<class 'list'>\n"
     ]
    }
   ],
   "source": [
    "# Solve for y\n",
    "y = sp.Symbol(\"y\")\n",
    "roots_y = sp.solve(y**4 - y**2 - 1, y)\n",
    "print(roots_y)\n",
    "print(type(roots_y))"
   ]
  },
  {
   "cell_type": "code",
   "execution_count": 142,
   "metadata": {},
   "outputs": [
    {
     "name": "stdout",
     "output_type": "stream",
     "text": [
      "-I*sqrt(-1/2 + sqrt(5)/2)\n",
      "<class 'sympy.core.mul.Mul'>\n"
     ]
    }
   ],
   "source": [
    "print(roots_y[0])  # first element is an imaginary number\n",
    "print(type(roots_y[0]))  # type of the first element"
   ]
  },
  {
   "cell_type": "code",
   "execution_count": 143,
   "metadata": {},
   "outputs": [
    {
     "name": "stdout",
     "output_type": "stream",
     "text": [
      "-0.786151377757423*I\n",
      "0.786151377757423*I\n",
      "-1.27201964951407\n",
      "1.27201964951407\n"
     ]
    }
   ],
   "source": [
    "x = sp.Symbol('x')\n",
    "soln = sp.solve( x**4 - x**2 - 1, x)\n",
    "for j in range(0, len(soln)):\n",
    "    print(sp.N(soln[j]))  # sp.N converts from symbolic to numerical."
   ]
  },
  {
   "cell_type": "code",
   "execution_count": 144,
   "metadata": {},
   "outputs": [
    {
     "name": "stdout",
     "output_type": "stream",
     "text": [
      "[1/3 + (-1/2 - sqrt(3)*I/2)*(sqrt(87)/9 + 28/27)**(1/3) + 1/(9*(-1/2 - sqrt(3)*I/2)*(sqrt(87)/9 + 28/27)**(1/3)), 1/3 + 1/(9*(-1/2 + sqrt(3)*I/2)*(sqrt(87)/9 + 28/27)**(1/3)) + (-1/2 + sqrt(3)*I/2)*(sqrt(87)/9 + 28/27)**(1/3), 1/(9*(sqrt(87)/9 + 28/27)**(1/3)) + 1/3 + (sqrt(87)/9 + 28/27)**(1/3)]\n"
     ]
    }
   ],
   "source": [
    "x = sp.Symbol('x')\n",
    "ExactSoln = sp.solve(x**3 - x**2 - 2, x) # symbolic solution\n",
    "print(ExactSoln)"
   ]
  },
  {
   "cell_type": "code",
   "execution_count": 145,
   "metadata": {},
   "outputs": [
    {
     "name": "stdout",
     "output_type": "stream",
     "text": [
      "First Solution:  -0.347810384779931 - 1.02885225413669*I\n",
      "Second Solution:  -0.347810384779931 + 1.02885225413669*I\n",
      "Third Solution:  1.69562076955986\n"
     ]
    }
   ],
   "source": [
    "x = sp.Symbol('x')\n",
    "ExactSoln = sp.solve(x**3 - x**2 - 2, x) # symbolic solution\n",
    "print(\"First Solution: \",sp.N(ExactSoln[0]))\n",
    "print(\"Second Solution: \",sp.N(ExactSoln[1]))\n",
    "print(\"Third Solution: \",sp.N(ExactSoln[2]))"
   ]
  },
  {
   "cell_type": "code",
   "execution_count": 146,
   "metadata": {},
   "outputs": [
    {
     "name": "stdout",
     "output_type": "stream",
     "text": [
      "1.69562076955986\n"
     ]
    }
   ],
   "source": [
    "x = sp.Symbol('x')\n",
    "NumericalSoln = sp.nsolve(x**3 - x**2 - 2, x, 1) # root near x=1 with numerical method. (Newton-Raphson algorithm)\n",
    "print(NumericalSoln)"
   ]
  },
  {
   "cell_type": "markdown",
   "metadata": {},
   "source": [
    "Exercise A.25: Solve the equation\n",
    "\n",
    "$x^3 ln(x) = 7$\n",
    "\n",
    "both symbolically and numerically"
   ]
  },
  {
   "cell_type": "code",
   "execution_count": 147,
   "metadata": {},
   "outputs": [
    {
     "data": {
      "text/latex": [
       "$\\displaystyle e^{\\frac{W\\left(21\\right)}{3}}$"
      ],
      "text/plain": [
       "exp(LambertW(21)/3)"
      ]
     },
     "execution_count": 147,
     "metadata": {},
     "output_type": "execute_result"
    }
   ],
   "source": [
    "import sympy as sp\n",
    "\n",
    "x = sp.Symbol(\"x\")\n",
    "\n",
    "anSol = sp.solve(x**3 * sp.log(x) - 7, x)  # solve analitically\n",
    "anSol[0]  # indexing the solution list makes it latex, cool :)"
   ]
  },
  {
   "cell_type": "code",
   "execution_count": 148,
   "metadata": {},
   "outputs": [
    {
     "data": {
      "text/latex": [
       "$\\displaystyle 2.10900555579451$"
      ],
      "text/plain": [
       "2.10900555579451"
      ]
     },
     "execution_count": 148,
     "metadata": {},
     "output_type": "execute_result"
    }
   ],
   "source": [
    "sp.N(anSol[0])  # using sp.N returns a latex form number"
   ]
  },
  {
   "cell_type": "code",
   "execution_count": 149,
   "metadata": {},
   "outputs": [
    {
     "name": "stdout",
     "output_type": "stream",
     "text": [
      "2.10900555579451\n"
     ]
    }
   ],
   "source": [
    "print(sp.N(anSol[0]))  # using print on top of it returns normal python form number"
   ]
  },
  {
   "cell_type": "code",
   "execution_count": 150,
   "metadata": {},
   "outputs": [
    {
     "data": {
      "text/latex": [
       "$\\displaystyle 2.10900555579451$"
      ],
      "text/plain": [
       "2.10900555579451"
      ]
     },
     "execution_count": 150,
     "metadata": {},
     "output_type": "execute_result"
    }
   ],
   "source": [
    "numSol = sp.nsolve(x**3 * sp.log(x) - 7, x, 2)  # solve numerically, initial x_0 = 2\n",
    "numSol"
   ]
  },
  {
   "cell_type": "code",
   "execution_count": 151,
   "metadata": {},
   "outputs": [
    {
     "name": "stdout",
     "output_type": "stream",
     "text": [
      "Analytic solution = 2.10900555579451\n",
      "Numerical solution = 2.10900555579451\n"
     ]
    }
   ],
   "source": [
    "# Give answers\n",
    "print(\"Analytic solution =\", sp.N(anSol[0]))\n",
    "print(\"Numerical solution =\", numSol)"
   ]
  },
  {
   "cell_type": "markdown",
   "metadata": {},
   "source": [
    "## Plotting in SymPy"
   ]
  },
  {
   "cell_type": "code",
   "execution_count": 152,
   "metadata": {},
   "outputs": [
    {
     "data": {
      "image/png": "[encoded data removed]",
      "text/plain": [
       "<Figure size 432x288 with 1 Axes>"
      ]
     },
     "metadata": {
      "needs_background": "light"
     },
     "output_type": "display_data"
    },
    {
     "data": {
      "text/plain": [
       "<sympy.plotting.plot.Plot at 0x7fa2adad30d0>"
      ]
     },
     "execution_count": 152,
     "metadata": {},
     "output_type": "execute_result"
    }
   ],
   "source": [
    "x = sp.Symbol('x')\n",
    "f = (x+2)**3\n",
    "sp.plot(f,(x,-5,2))"
   ]
  },
  {
   "cell_type": "code",
   "execution_count": 153,
   "metadata": {},
   "outputs": [
    {
     "name": "stdout",
     "output_type": "stream",
     "text": [
      "type of x = <class 'sympy.core.symbol.Symbol'>\n",
      "type of f = <class 'sympy.core.power.Pow'>\n"
     ]
    }
   ],
   "source": [
    "# SymPy data types are unique\n",
    "print(\"type of x =\", type(x))\n",
    "print(\"type of f =\", type(f))"
   ]
  },
  {
   "cell_type": "markdown",
   "metadata": {},
   "source": [
    "Plot $f(x) = (x+2)^3$ and $g(x) = 20 cos(x)$ on the same axes on the domain $x \\in [-5, 2]$"
   ]
  },
  {
   "cell_type": "code",
   "execution_count": 154,
   "metadata": {},
   "outputs": [
    {
     "data": {
      "image/png": "[encoded data removed]",
      "text/plain": [
       "<Figure size 432x288 with 1 Axes>"
      ]
     },
     "metadata": {
      "needs_background": "light"
     },
     "output_type": "display_data"
    },
    {
     "data": {
      "text/plain": [
       "<sympy.plotting.plot.Plot at 0x7fa2adbb57e0>"
      ]
     },
     "execution_count": 154,
     "metadata": {},
     "output_type": "execute_result"
    }
   ],
   "source": [
    "x = sp.Symbol(\"x\")\n",
    "f = (x + 2) ** 3\n",
    "g = 20 * sp.cos(x)\n",
    "\n",
    "sp.plot(f, g, (x, -5, 2))"
   ]
  },
  {
   "cell_type": "markdown",
   "metadata": {},
   "source": [
    "Exercise A.26: Make a symbolic plot of the function $f(x) = x^3 ln(x) - 7$ on the domain $[0, 3]$"
   ]
  },
  {
   "cell_type": "code",
   "execution_count": 155,
   "metadata": {},
   "outputs": [
    {
     "data": {
      "image/png": "[encoded data removed]",
      "text/plain": [
       "<Figure size 432x288 with 1 Axes>"
      ]
     },
     "metadata": {
      "needs_background": "light"
     },
     "output_type": "display_data"
    },
    {
     "data": {
      "text/plain": [
       "<sympy.plotting.plot.Plot at 0x7fa2adc50b80>"
      ]
     },
     "execution_count": 155,
     "metadata": {},
     "output_type": "execute_result"
    }
   ],
   "source": [
    "import sympy as sp\n",
    "x = sp.Symbol(\"x\")\n",
    "f = x**3 * sp.log(x) - 7\n",
    "\n",
    "sp.plot(f, (x, 0.1, 3))"
   ]
  },
  {
   "cell_type": "markdown",
   "metadata": {},
   "source": [
    "## Functions in Python with star arguments\n",
    "\n",
    "When a final formal parameter of the form **name is present, it receives a dictionary containing all keyword arguments except for those corresponding to a formal parameter. This may be combined with a formal parameter of the form *name (described in the next subsection) which receives a tuple containing the positional arguments beyond the formal parameter list. (*name must occur before **name.) For example, if we define a function like this:"
   ]
  },
  {
   "cell_type": "code",
   "execution_count": 156,
   "metadata": {},
   "outputs": [],
   "source": [
    "def cheeseshop(kind, *arguments, **keywords):\n",
    "    print(\"args =\", arguments)\n",
    "    print(\"kwargs =\", keywords)\n",
    "    \n",
    "    print(\"-- Do you have any\", kind, \"?\")\n",
    "    print(\"-- I'm sorry, we're all out of\", kind)\n",
    "    for arg in arguments:\n",
    "        print(arg)\n",
    "    print(\"-\" * 40)\n",
    "    for kw in keywords:\n",
    "        print(kw, \":\", keywords[kw])"
   ]
  },
  {
   "cell_type": "code",
   "execution_count": 157,
   "metadata": {},
   "outputs": [
    {
     "name": "stdout",
     "output_type": "stream",
     "text": [
      "args = (\"It's very runny, sir.\", \"It's really very, VERY runny, sir.\")\n",
      "kwargs = {'shopkeeper': 'Michael Palin', 'client': 'John Cleese', 'sketch': 'Cheese Shop Sketch'}\n",
      "-- Do you have any Limburger ?\n",
      "-- I'm sorry, we're all out of Limburger\n",
      "It's very runny, sir.\n",
      "It's really very, VERY runny, sir.\n",
      "----------------------------------------\n",
      "shopkeeper : Michael Palin\n",
      "client : John Cleese\n",
      "sketch : Cheese Shop Sketch\n"
     ]
    }
   ],
   "source": [
    "cheeseshop(\"Limburger\", \"It's very runny, sir.\",\n",
    "           \"It's really very, VERY runny, sir.\",\n",
    "           shopkeeper=\"Michael Palin\",\n",
    "           client=\"John Cleese\",\n",
    "           sketch=\"Cheese Shop Sketch\")\n"
   ]
  },
  {
   "cell_type": "markdown",
   "metadata": {},
   "source": [
    "* Notice **kind** is assigned to *\"Limburger\"*, and all **positional** arguments after that form the elements of an arg **tuple**.\n",
    "\n",
    "* The keyword arguments after the positional arguments are then formed into a **dict** where the keys are **formal** arguments and the values are **actual** arguments.\n",
    "\n",
    "Note that the keyword arguments formed into a dict this way keep their relative **positions**."
   ]
  },
  {
   "cell_type": "code",
   "execution_count": 158,
   "metadata": {},
   "outputs": [],
   "source": [
    "def make_incrementor(n):  # by calling make_incremenator, we create a new function\n",
    "    return lambda x: x + n  # returns a function which is akin to f(x) = n + x"
   ]
  },
  {
   "cell_type": "code",
   "execution_count": 159,
   "metadata": {},
   "outputs": [
    {
     "data": {
      "text/plain": [
       "47"
      ]
     },
     "execution_count": 159,
     "metadata": {},
     "output_type": "execute_result"
    }
   ],
   "source": [
    "f = make_incrementor(42)\n",
    "f(5)"
   ]
  },
  {
   "cell_type": "code",
   "execution_count": 160,
   "metadata": {},
   "outputs": [
    {
     "data": {
      "text/plain": [
       "65"
      ]
     },
     "execution_count": 160,
     "metadata": {},
     "output_type": "execute_result"
    }
   ],
   "source": [
    "g = make_incrementor(10)\n",
    "\n",
    "f(8) + g(5)"
   ]
  },
  {
   "cell_type": "markdown",
   "metadata": {},
   "source": [
    "## pd.DataFrame.apply()\n",
    "\n",
    "DataFrame.**apply**(func, axis=0, raw=False, result_type=None, args=(), by_row='compat', **kwargs)\n",
    "\n",
    "**axis:** {0 or ‘index’, 1 or ‘columns’}, default 0\n",
    "Axis along which the function is applied:\n",
    "\n",
    "0 or ‘index’: apply function to each column.\n",
    "\n",
    "1 or ‘columns’: apply function to each row."
   ]
  },
  {
   "cell_type": "code",
   "execution_count": 161,
   "metadata": {},
   "outputs": [
    {
     "data": {
      "text/html": [
       "<div>\n",
       "<style scoped>\n",
       "    .dataframe tbody tr th:only-of-type {\n",
       "        vertical-align: middle;\n",
       "    }\n",
       "\n",
       "    .dataframe tbody tr th {\n",
       "        vertical-align: top;\n",
       "    }\n",
       "\n",
       "    .dataframe thead th {\n",
       "        text-align: right;\n",
       "    }\n",
       "</style>\n",
       "<table border=\"1\" class=\"dataframe\">\n",
       "  <thead>\n",
       "    <tr style=\"text-align: right;\">\n",
       "      <th></th>\n",
       "      <th>A</th>\n",
       "      <th>B</th>\n",
       "    </tr>\n",
       "  </thead>\n",
       "  <tbody>\n",
       "    <tr>\n",
       "      <th>0</th>\n",
       "      <td>1</td>\n",
       "      <td>4</td>\n",
       "    </tr>\n",
       "    <tr>\n",
       "      <th>1</th>\n",
       "      <td>2</td>\n",
       "      <td>5</td>\n",
       "    </tr>\n",
       "    <tr>\n",
       "      <th>2</th>\n",
       "      <td>3</td>\n",
       "      <td>6</td>\n",
       "    </tr>\n",
       "  </tbody>\n",
       "</table>\n",
       "</div>"
      ],
      "text/plain": [
       "   A  B\n",
       "0  1  4\n",
       "1  2  5\n",
       "2  3  6"
      ]
     },
     "execution_count": 161,
     "metadata": {},
     "output_type": "execute_result"
    }
   ],
   "source": [
    "import pandas as pd\n",
    "\n",
    "df = pd.DataFrame({\"A\":[1, 2, 3], \"B\":[4, 5, 6]})\n",
    "df"
   ]
  },
  {
   "cell_type": "code",
   "execution_count": 162,
   "metadata": {},
   "outputs": [
    {
     "data": {
      "text/html": [
       "<div>\n",
       "<style scoped>\n",
       "    .dataframe tbody tr th:only-of-type {\n",
       "        vertical-align: middle;\n",
       "    }\n",
       "\n",
       "    .dataframe tbody tr th {\n",
       "        vertical-align: top;\n",
       "    }\n",
       "\n",
       "    .dataframe thead th {\n",
       "        text-align: right;\n",
       "    }\n",
       "</style>\n",
       "<table border=\"1\" class=\"dataframe\">\n",
       "  <thead>\n",
       "    <tr style=\"text-align: right;\">\n",
       "      <th></th>\n",
       "      <th>A</th>\n",
       "      <th>B</th>\n",
       "    </tr>\n",
       "  </thead>\n",
       "  <tbody>\n",
       "    <tr>\n",
       "      <th>0</th>\n",
       "      <td>2</td>\n",
       "      <td>8</td>\n",
       "    </tr>\n",
       "    <tr>\n",
       "      <th>1</th>\n",
       "      <td>4</td>\n",
       "      <td>10</td>\n",
       "    </tr>\n",
       "    <tr>\n",
       "      <th>2</th>\n",
       "      <td>6</td>\n",
       "      <td>12</td>\n",
       "    </tr>\n",
       "  </tbody>\n",
       "</table>\n",
       "</div>"
      ],
      "text/plain": [
       "   A   B\n",
       "0  2   8\n",
       "1  4  10\n",
       "2  6  12"
      ]
     },
     "execution_count": 162,
     "metadata": {},
     "output_type": "execute_result"
    }
   ],
   "source": [
    "# Let's use a lambda function for df.apply()\n",
    "df.apply(lambda col: col * 2)"
   ]
  },
  {
   "cell_type": "code",
   "execution_count": 163,
   "metadata": {},
   "outputs": [
    {
     "data": {
      "text/plain": [
       "A     6\n",
       "B    15\n",
       "dtype: int64"
      ]
     },
     "execution_count": 163,
     "metadata": {},
     "output_type": "execute_result"
    }
   ],
   "source": [
    "# act on columns\n",
    "df.apply(sum, axis=0)  # notice the indexes of the series are column names"
   ]
  },
  {
   "cell_type": "code",
   "execution_count": 164,
   "metadata": {},
   "outputs": [
    {
     "data": {
      "text/plain": [
       "0    5\n",
       "1    7\n",
       "2    9\n",
       "dtype: int64"
      ]
     },
     "execution_count": 164,
     "metadata": {},
     "output_type": "execute_result"
    }
   ],
   "source": [
    "# we can use .apply() on rows too\n",
    "df.apply(sum, axis=1)  # notice the indexes of the series are row indexes (index of the dataframe)"
   ]
  },
  {
   "cell_type": "markdown",
   "metadata": {},
   "source": [
    "## datetime.strptime()\n",
    "Syntax: datetime.strptime(time_data, format_data)\n",
    "\n",
    "* datetime.strptime() converts from **string** to **datetime** object."
   ]
  },
  {
   "cell_type": "code",
   "execution_count": 165,
   "metadata": {},
   "outputs": [
    {
     "name": "stdout",
     "output_type": "stream",
     "text": [
      "date_string = 21 June, 2018\n",
      "type of date_string = <class 'str'>\n",
      "date_object = 2018-06-21 00:00:00\n",
      "type of date_object = <class 'datetime.datetime'>\n"
     ]
    }
   ],
   "source": [
    "from datetime import datetime\n",
    "\n",
    "date_string = \"21 June, 2018\"\n",
    "\n",
    "print(\"date_string =\", date_string)\n",
    "print(\"type of date_string =\", type(date_string))\n",
    "\n",
    "date_object = datetime.strptime(date_string, \"%d %B, %Y\")\n",
    "\n",
    "print(\"date_object =\", date_object)\n",
    "print(\"type of date_object =\", type(date_object))"
   ]
  },
  {
   "cell_type": "code",
   "execution_count": 166,
   "metadata": {},
   "outputs": [
    {
     "name": "stdout",
     "output_type": "stream",
     "text": [
      "523000\n",
      "2\n",
      "35\n",
      "5\n",
      "1999-05-25 02:35:05.523000\n"
     ]
    }
   ],
   "source": [
    "# import datetime module from datetime\n",
    "from datetime import datetime\n",
    " \n",
    "# consider the time stamp in string format \n",
    "# DD/MM/YY H:M:S.micros\n",
    "time_data = \"25/05/99 02:35:5.523\"\n",
    " \n",
    "# format the string in the given format : \n",
    "# day/month/year hours/minutes/seconds-micro \n",
    "# seconds\n",
    "format_data = \"%d/%m/%y %H:%M:%S.%f\"\n",
    " \n",
    "# Using strptime with datetime we will format \n",
    "# string into datetime\n",
    "date = datetime.strptime(time_data, format_data)\n",
    " \n",
    "# display milli second\n",
    "print(date.microsecond)\n",
    " \n",
    "# display hour\n",
    "print(date.hour)\n",
    " \n",
    "# display minute\n",
    "print(date.minute)\n",
    " \n",
    "# display second\n",
    "print(date.second)\n",
    " \n",
    "# display date\n",
    "print(date)"
   ]
  },
  {
   "cell_type": "markdown",
   "metadata": {},
   "source": [
    "## datetime.strftime()\n",
    "\n",
    "Syntax: obj.datetime.strftime(format_data)\n",
    "\n",
    "* datetime.strftime() converts from **datetime** object to **string**"
   ]
  },
  {
   "cell_type": "code",
   "execution_count": 167,
   "metadata": {},
   "outputs": [
    {
     "name": "stdout",
     "output_type": "stream",
     "text": [
      "year: 2023\n",
      "month: 10\n",
      "day: 06\n",
      "time: 12:26:03\n",
      "date and time: 10/06/2023, 12:26:03\n",
      "<class 'str'>\n"
     ]
    }
   ],
   "source": [
    "from datetime import datetime\n",
    "\n",
    "now = datetime.now() # current date and time\n",
    "\n",
    "year = now.strftime(\"%Y\")\n",
    "print(\"year:\", year)\n",
    "\n",
    "month = now.strftime(\"%m\")\n",
    "print(\"month:\", month)\n",
    "\n",
    "day = now.strftime(\"%d\")\n",
    "print(\"day:\", day)\n",
    "\n",
    "time = now.strftime(\"%H:%M:%S\")\n",
    "print(\"time:\", time)\n",
    "\n",
    "date_time = now.strftime(\"%m/%d/%Y, %H:%M:%S\")\n",
    "print(\"date and time:\",date_time)\n",
    "\n",
    "print(type(date_time))"
   ]
  },
  {
   "cell_type": "code",
   "execution_count": 168,
   "metadata": {},
   "outputs": [
    {
     "data": {
      "text/html": [
       "<div>\n",
       "<style scoped>\n",
       "    .dataframe tbody tr th:only-of-type {\n",
       "        vertical-align: middle;\n",
       "    }\n",
       "\n",
       "    .dataframe tbody tr th {\n",
       "        vertical-align: top;\n",
       "    }\n",
       "\n",
       "    .dataframe thead th {\n",
       "        text-align: right;\n",
       "    }\n",
       "</style>\n",
       "<table border=\"1\" class=\"dataframe\">\n",
       "  <thead>\n",
       "    <tr style=\"text-align: right;\">\n",
       "      <th></th>\n",
       "      <th>Symbol</th>\n",
       "      <th>Coupon</th>\n",
       "      <th>Maturity</th>\n",
       "      <th>Moody's</th>\n",
       "      <th>S&amp;P</th>\n",
       "      <th>Price</th>\n",
       "      <th>Yield</th>\n",
       "    </tr>\n",
       "  </thead>\n",
       "  <tbody>\n",
       "    <tr>\n",
       "      <th>0</th>\n",
       "      <td>HES.GH</td>\n",
       "      <td>6.0</td>\n",
       "      <td>01/15/2040</td>\n",
       "      <td>Ba1</td>\n",
       "      <td>BBB-</td>\n",
       "      <td>107.168</td>\n",
       "      <td>5.365</td>\n",
       "    </tr>\n",
       "    <tr>\n",
       "      <th>1</th>\n",
       "      <td>HES.GI</td>\n",
       "      <td>5.6</td>\n",
       "      <td>02/15/2041</td>\n",
       "      <td>Ba1</td>\n",
       "      <td>BBB-</td>\n",
       "      <td>102.172</td>\n",
       "      <td>5.413</td>\n",
       "    </tr>\n",
       "    <tr>\n",
       "      <th>2</th>\n",
       "      <td>HES4136877</td>\n",
       "      <td>3.5</td>\n",
       "      <td>07/15/2024</td>\n",
       "      <td>Ba1</td>\n",
       "      <td>BBB-</td>\n",
       "      <td>100.089</td>\n",
       "      <td>3.451</td>\n",
       "    </tr>\n",
       "  </tbody>\n",
       "</table>\n",
       "</div>"
      ],
      "text/plain": [
       "       Symbol  Coupon    Maturity Moody's   S&P    Price  Yield\n",
       "0      HES.GH     6.0  01/15/2040     Ba1  BBB-  107.168  5.365\n",
       "1      HES.GI     5.6  02/15/2041     Ba1  BBB-  102.172  5.413\n",
       "2  HES4136877     3.5  07/15/2024     Ba1  BBB-  100.089  3.451"
      ]
     },
     "execution_count": 168,
     "metadata": {},
     "output_type": "execute_result"
    }
   ],
   "source": [
    "# my try\n",
    "symbol_array = [\"HES.GH\", \"HES.GI\", \"HES4136877\"]\n",
    "coupon_array = [6.000, 5.600, 3.500]\n",
    "time_array = [\"01/15/2040\", \"02/15/2041\", \"07/15/2024\"]\n",
    "price_array = [107.168, 102.172, 100.089]\n",
    "yield_array = [5.365, 5.413, 3.451]\n",
    "moodys_array = [\"Ba1\", \"Ba1\", \"Ba1\"]\n",
    "sp_array = [\"BBB-\", \"BBB-\", \"BBB-\"]\n",
    "\n",
    "df = pd.DataFrame({\"Symbol\":symbol_array, \"Coupon\":coupon_array, \"Maturity\":time_array, \"Moody's\":moodys_array, \"S&P\":sp_array, \"Price\":price_array, \"Yield\":yield_array})\n",
    "df"
   ]
  },
  {
   "cell_type": "code",
   "execution_count": 169,
   "metadata": {},
   "outputs": [
    {
     "data": {
      "text/plain": [
       "Symbol       object\n",
       "Coupon      float64\n",
       "Maturity     object\n",
       "Moody's      object\n",
       "S&P          object\n",
       "Price       float64\n",
       "Yield       float64\n",
       "dtype: object"
      ]
     },
     "execution_count": 169,
     "metadata": {},
     "output_type": "execute_result"
    }
   ],
   "source": [
    "df.dtypes  # values in Maturity are str dtypes"
   ]
  },
  {
   "cell_type": "code",
   "execution_count": 170,
   "metadata": {},
   "outputs": [
    {
     "data": {
      "text/html": [
       "<div>\n",
       "<style scoped>\n",
       "    .dataframe tbody tr th:only-of-type {\n",
       "        vertical-align: middle;\n",
       "    }\n",
       "\n",
       "    .dataframe tbody tr th {\n",
       "        vertical-align: top;\n",
       "    }\n",
       "\n",
       "    .dataframe thead th {\n",
       "        text-align: right;\n",
       "    }\n",
       "</style>\n",
       "<table border=\"1\" class=\"dataframe\">\n",
       "  <thead>\n",
       "    <tr style=\"text-align: right;\">\n",
       "      <th></th>\n",
       "      <th>Symbol</th>\n",
       "      <th>Coupon</th>\n",
       "      <th>Maturity</th>\n",
       "      <th>Moody's</th>\n",
       "      <th>S&amp;P</th>\n",
       "      <th>Price</th>\n",
       "      <th>Yield</th>\n",
       "    </tr>\n",
       "  </thead>\n",
       "  <tbody>\n",
       "    <tr>\n",
       "      <th>0</th>\n",
       "      <td>HES.GH</td>\n",
       "      <td>6.0</td>\n",
       "      <td>01/15/2040</td>\n",
       "      <td>Ba1</td>\n",
       "      <td>BBB-</td>\n",
       "      <td>107.168</td>\n",
       "      <td>5.365</td>\n",
       "    </tr>\n",
       "    <tr>\n",
       "      <th>1</th>\n",
       "      <td>HES.GI</td>\n",
       "      <td>5.6</td>\n",
       "      <td>02/15/2041</td>\n",
       "      <td>Ba1</td>\n",
       "      <td>BBB-</td>\n",
       "      <td>102.172</td>\n",
       "      <td>5.413</td>\n",
       "    </tr>\n",
       "    <tr>\n",
       "      <th>2</th>\n",
       "      <td>HES4136877</td>\n",
       "      <td>3.5</td>\n",
       "      <td>07/15/2024</td>\n",
       "      <td>Ba1</td>\n",
       "      <td>BBB-</td>\n",
       "      <td>100.089</td>\n",
       "      <td>3.451</td>\n",
       "    </tr>\n",
       "  </tbody>\n",
       "</table>\n",
       "</div>"
      ],
      "text/plain": [
       "       Symbol  Coupon    Maturity Moody's   S&P    Price  Yield\n",
       "0      HES.GH     6.0  01/15/2040     Ba1  BBB-  107.168  5.365\n",
       "1      HES.GI     5.6  02/15/2041     Ba1  BBB-  102.172  5.413\n",
       "2  HES4136877     3.5  07/15/2024     Ba1  BBB-  100.089  3.451"
      ]
     },
     "execution_count": 170,
     "metadata": {},
     "output_type": "execute_result"
    }
   ],
   "source": [
    "dfcopy = df.copy()\n",
    "dfcopy"
   ]
  },
  {
   "cell_type": "code",
   "execution_count": 171,
   "metadata": {},
   "outputs": [
    {
     "data": {
      "text/html": [
       "<div>\n",
       "<style scoped>\n",
       "    .dataframe tbody tr th:only-of-type {\n",
       "        vertical-align: middle;\n",
       "    }\n",
       "\n",
       "    .dataframe tbody tr th {\n",
       "        vertical-align: top;\n",
       "    }\n",
       "\n",
       "    .dataframe thead th {\n",
       "        text-align: right;\n",
       "    }\n",
       "</style>\n",
       "<table border=\"1\" class=\"dataframe\">\n",
       "  <thead>\n",
       "    <tr style=\"text-align: right;\">\n",
       "      <th></th>\n",
       "      <th>Symbol</th>\n",
       "      <th>Coupon</th>\n",
       "      <th>Maturity</th>\n",
       "      <th>Moody's</th>\n",
       "      <th>S&amp;P</th>\n",
       "      <th>Price</th>\n",
       "      <th>Yield</th>\n",
       "    </tr>\n",
       "  </thead>\n",
       "  <tbody>\n",
       "    <tr>\n",
       "      <th>0</th>\n",
       "      <td>HES.GH</td>\n",
       "      <td>6.0</td>\n",
       "      <td>2040-01-15</td>\n",
       "      <td>Ba1</td>\n",
       "      <td>BBB-</td>\n",
       "      <td>107.168</td>\n",
       "      <td>5.365</td>\n",
       "    </tr>\n",
       "    <tr>\n",
       "      <th>1</th>\n",
       "      <td>HES.GI</td>\n",
       "      <td>5.6</td>\n",
       "      <td>2041-02-15</td>\n",
       "      <td>Ba1</td>\n",
       "      <td>BBB-</td>\n",
       "      <td>102.172</td>\n",
       "      <td>5.413</td>\n",
       "    </tr>\n",
       "    <tr>\n",
       "      <th>2</th>\n",
       "      <td>HES4136877</td>\n",
       "      <td>3.5</td>\n",
       "      <td>2024-07-15</td>\n",
       "      <td>Ba1</td>\n",
       "      <td>BBB-</td>\n",
       "      <td>100.089</td>\n",
       "      <td>3.451</td>\n",
       "    </tr>\n",
       "  </tbody>\n",
       "</table>\n",
       "</div>"
      ],
      "text/plain": [
       "       Symbol  Coupon   Maturity Moody's   S&P    Price  Yield\n",
       "0      HES.GH     6.0 2040-01-15     Ba1  BBB-  107.168  5.365\n",
       "1      HES.GI     5.6 2041-02-15     Ba1  BBB-  102.172  5.413\n",
       "2  HES4136877     3.5 2024-07-15     Ba1  BBB-  100.089  3.451"
      ]
     },
     "execution_count": 171,
     "metadata": {},
     "output_type": "execute_result"
    }
   ],
   "source": [
    "# convert from str to datetime, pd.to_datetime() method:\n",
    "df[\"Maturity\"] = pd.to_datetime(df[\"Maturity\"])\n",
    "df"
   ]
  },
  {
   "cell_type": "code",
   "execution_count": 172,
   "metadata": {},
   "outputs": [
    {
     "name": "stderr",
     "output_type": "stream",
     "text": [
      "/tmp/ipykernel_14450/706946909.py:5: SettingWithCopyWarning: \n",
      "A value is trying to be set on a copy of a slice from a DataFrame\n",
      "\n",
      "See the caveats in the documentation: https://pandas.pydata.org/pandas-docs/stable/user_guide/indexing.html#returning-a-view-versus-a-copy\n",
      "  dfcopy[\"Maturity\"][i] = datetime.strptime(dfcopy[\"Maturity\"][i], format_data)\n"
     ]
    },
    {
     "data": {
      "text/html": [
       "<div>\n",
       "<style scoped>\n",
       "    .dataframe tbody tr th:only-of-type {\n",
       "        vertical-align: middle;\n",
       "    }\n",
       "\n",
       "    .dataframe tbody tr th {\n",
       "        vertical-align: top;\n",
       "    }\n",
       "\n",
       "    .dataframe thead th {\n",
       "        text-align: right;\n",
       "    }\n",
       "</style>\n",
       "<table border=\"1\" class=\"dataframe\">\n",
       "  <thead>\n",
       "    <tr style=\"text-align: right;\">\n",
       "      <th></th>\n",
       "      <th>Symbol</th>\n",
       "      <th>Coupon</th>\n",
       "      <th>Maturity</th>\n",
       "      <th>Moody's</th>\n",
       "      <th>S&amp;P</th>\n",
       "      <th>Price</th>\n",
       "      <th>Yield</th>\n",
       "    </tr>\n",
       "  </thead>\n",
       "  <tbody>\n",
       "    <tr>\n",
       "      <th>0</th>\n",
       "      <td>HES.GH</td>\n",
       "      <td>6.0</td>\n",
       "      <td>2040-01-15 00:00:00</td>\n",
       "      <td>Ba1</td>\n",
       "      <td>BBB-</td>\n",
       "      <td>107.168</td>\n",
       "      <td>5.365</td>\n",
       "    </tr>\n",
       "    <tr>\n",
       "      <th>1</th>\n",
       "      <td>HES.GI</td>\n",
       "      <td>5.6</td>\n",
       "      <td>2041-02-15 00:00:00</td>\n",
       "      <td>Ba1</td>\n",
       "      <td>BBB-</td>\n",
       "      <td>102.172</td>\n",
       "      <td>5.413</td>\n",
       "    </tr>\n",
       "    <tr>\n",
       "      <th>2</th>\n",
       "      <td>HES4136877</td>\n",
       "      <td>3.5</td>\n",
       "      <td>2024-07-15 00:00:00</td>\n",
       "      <td>Ba1</td>\n",
       "      <td>BBB-</td>\n",
       "      <td>100.089</td>\n",
       "      <td>3.451</td>\n",
       "    </tr>\n",
       "  </tbody>\n",
       "</table>\n",
       "</div>"
      ],
      "text/plain": [
       "       Symbol  Coupon             Maturity Moody's   S&P    Price  Yield\n",
       "0      HES.GH     6.0  2040-01-15 00:00:00     Ba1  BBB-  107.168  5.365\n",
       "1      HES.GI     5.6  2041-02-15 00:00:00     Ba1  BBB-  102.172  5.413\n",
       "2  HES4136877     3.5  2024-07-15 00:00:00     Ba1  BBB-  100.089  3.451"
      ]
     },
     "execution_count": 172,
     "metadata": {},
     "output_type": "execute_result"
    }
   ],
   "source": [
    "# convert from str to datetime, datetime.strptime() method:\n",
    "format_data = \"%m/%d/%Y\"\n",
    "\n",
    "for i in range(len(dfcopy[\"Maturity\"])):\n",
    "    dfcopy[\"Maturity\"][i] = datetime.strptime(dfcopy[\"Maturity\"][i], format_data)\n",
    "\n",
    "dfcopy"
   ]
  },
  {
   "cell_type": "code",
   "execution_count": 173,
   "metadata": {},
   "outputs": [
    {
     "data": {
      "text/plain": [
       "Symbol       object\n",
       "Coupon      float64\n",
       "Maturity     object\n",
       "Moody's      object\n",
       "S&P          object\n",
       "Price       float64\n",
       "Yield       float64\n",
       "dtype: object"
      ]
     },
     "execution_count": 173,
     "metadata": {},
     "output_type": "execute_result"
    }
   ],
   "source": [
    "dfcopy.dtypes"
   ]
  },
  {
   "cell_type": "code",
   "execution_count": 174,
   "metadata": {},
   "outputs": [],
   "source": [
    "import numpy as np\n",
    "import pandas as pd\n",
    "import sympy as sp"
   ]
  },
  {
   "cell_type": "code",
   "execution_count": 175,
   "metadata": {},
   "outputs": [
    {
     "data": {
      "text/html": [
       "<div>\n",
       "<style scoped>\n",
       "    .dataframe tbody tr th:only-of-type {\n",
       "        vertical-align: middle;\n",
       "    }\n",
       "\n",
       "    .dataframe tbody tr th {\n",
       "        vertical-align: top;\n",
       "    }\n",
       "\n",
       "    .dataframe thead th {\n",
       "        text-align: right;\n",
       "    }\n",
       "</style>\n",
       "<table border=\"1\" class=\"dataframe\">\n",
       "  <thead>\n",
       "    <tr style=\"text-align: right;\">\n",
       "      <th></th>\n",
       "      <th>Symbol</th>\n",
       "      <th>Coupon</th>\n",
       "      <th>Maturity</th>\n",
       "      <th>Moody's</th>\n",
       "      <th>S&amp;P</th>\n",
       "      <th>Price</th>\n",
       "      <th>Yield</th>\n",
       "    </tr>\n",
       "  </thead>\n",
       "  <tbody>\n",
       "    <tr>\n",
       "      <th>0</th>\n",
       "      <td>HES.GH</td>\n",
       "      <td>6.0</td>\n",
       "      <td>2040-01-15</td>\n",
       "      <td>Ba1</td>\n",
       "      <td>BBB-</td>\n",
       "      <td>107.168</td>\n",
       "      <td>5.365</td>\n",
       "    </tr>\n",
       "    <tr>\n",
       "      <th>1</th>\n",
       "      <td>HES.GI</td>\n",
       "      <td>5.6</td>\n",
       "      <td>2041-02-15</td>\n",
       "      <td>Ba1</td>\n",
       "      <td>BBB-</td>\n",
       "      <td>102.172</td>\n",
       "      <td>5.413</td>\n",
       "    </tr>\n",
       "    <tr>\n",
       "      <th>2</th>\n",
       "      <td>HES4136877</td>\n",
       "      <td>3.5</td>\n",
       "      <td>2024-07-15</td>\n",
       "      <td>Ba1</td>\n",
       "      <td>BBB-</td>\n",
       "      <td>100.089</td>\n",
       "      <td>3.451</td>\n",
       "    </tr>\n",
       "  </tbody>\n",
       "</table>\n",
       "</div>"
      ],
      "text/plain": [
       "       Symbol  Coupon   Maturity Moody's   S&P    Price  Yield\n",
       "0      HES.GH     6.0 2040-01-15     Ba1  BBB-  107.168  5.365\n",
       "1      HES.GI     5.6 2041-02-15     Ba1  BBB-  102.172  5.413\n",
       "2  HES4136877     3.5 2024-07-15     Ba1  BBB-  100.089  3.451"
      ]
     },
     "execution_count": 175,
     "metadata": {},
     "output_type": "execute_result"
    }
   ],
   "source": [
    "# Re-visit our df\n",
    "df"
   ]
  },
  {
   "cell_type": "code",
   "execution_count": 203,
   "metadata": {},
   "outputs": [
    {
     "data": {
      "text/plain": [
       "3.81"
      ]
     },
     "execution_count": 203,
     "metadata": {},
     "output_type": "execute_result"
    }
   ],
   "source": [
    "principal_payment = 100\n",
    "recovery_rate = 0.40\n",
    "P = sp.Symbol(\"P\")\n",
    "# WQU's function\n",
    "def bonds_probability_of_default(\n",
    "    coupon, maturity_years, bond_price, principal_payment, risk_adjusted_discount_rate\n",
    "):\n",
    "    price = bond_price\n",
    "    prob_default_exp = 0\n",
    "\n",
    "    #     `times = np.arange(1, maturity_years+1)` # For Annual Cashflows\n",
    "    #     annual_coupon = coupon # For Annual Cashflows\n",
    "    times = np.arange(0.5, (maturity_years - 0.5) + 1, 0.5)  # For Semi-Annual Cashflows\n",
    "    semi_annual_coupon = coupon / 2  # For Semi-Annual Cashflows\n",
    "\n",
    "    # Calculation of Expected Cash Flow\n",
    "    cashflows = np.array([])\n",
    "    for i in times[:-1]:\n",
    "        #         cashflows = np.append(cashflows, annual_coupon) # For Annual Cashflows\n",
    "        #     cashflows = np.append(cashflows, annual_coupon+principal_payment)#  For Annual Cashflows\n",
    "        cashflows = np.append(\n",
    "            cashflows, semi_annual_coupon\n",
    "        )  # For Semi-Annual Cashflows\n",
    "    cashflows = np.append(\n",
    "        cashflows, semi_annual_coupon + principal_payment\n",
    "    )  # For Semi-Annual Cashflows\n",
    "\n",
    "    for i in range(len(times)):\n",
    "        #         This code block is used if there is only one payment remaining\n",
    "        if len(times) == 1:\n",
    "            prob_default_exp += (\n",
    "                cashflows[i] * (1 - P) + cashflows[i] * recovery_rate * P\n",
    "            ) / np.power((1 + risk_adjusted_discount_rate), times[i])\n",
    "        #         This code block is used if there are multiple payments remaining\n",
    "        else:\n",
    "            #             For Annual Cashflows\n",
    "            #             if times[i] == 1:\n",
    "            #                 prob_default_exp += ((cashflows[i]*(1-P) + principal_payment*recovery_rate*P) / \\\n",
    "            #                                     np.power((1 + risk_adjusted_discount_rate), times[i]))\n",
    "            #             For Semi-Annual Cashflows\n",
    "            if times[i] == 0.5:\n",
    "                prob_default_exp += (\n",
    "                    cashflows[i] * (1 - P) + principal_payment * recovery_rate * P\n",
    "                ) / np.power((1 + risk_adjusted_discount_rate), times[i])\n",
    "            #             Used for either Annual or Semi-Annual Cashflows\n",
    "            else:\n",
    "                prob_default_exp += (\n",
    "                    np.power((1 - P), times[i - 1])\n",
    "                    * (cashflows[i] * (1 - P) + principal_payment * recovery_rate * P)\n",
    "                ) / np.power((1 + risk_adjusted_discount_rate), times[i])\n",
    "\n",
    "    prob_default_exp = prob_default_exp - price\n",
    "    implied_prob_default = sp.solve(prob_default_exp, P)\n",
    "    implied_prob_default = round(float(implied_prob_default[0]) * 100, 2)\n",
    "\n",
    "    if implied_prob_default < 0:\n",
    "        return 0.0\n",
    "    else:\n",
    "        return implied_prob_default\n",
    "\n",
    "\n",
    "bonds_probability_of_default(coupon=3.5, maturity_years=1.0, bond_price=100.089, principal_payment=100, risk_adjusted_discount_rate=0.0061547985972957246)"
   ]
  },
  {
   "cell_type": "code",
   "execution_count": 199,
   "metadata": {},
   "outputs": [],
   "source": [
    "\n",
    "# My solution\n",
    "def bonds_probability_of_default(coupon, maturity_years, bond_price, principal_payment, d, recovery_rate=0.4):\n",
    "    time_array = np.arange(0.5, maturity_years + 0.5, 0.5)  # Times of each cash flow as an array, assuming semi-annual payments.\n",
    "    n = len(time_array)  # number of payments\n",
    "    semiAnnualCoupon = coupon / 2  # value of each semi-annual coupon payment in $\n",
    "    \n",
    "    cashflow_array = [semiAnnualCoupon] * (n - 1) + [semiAnnualCoupon + principal_payment]  # coupon for first n-1 cash flows, coupon + principal for n'th cash flow\n",
    "    \n",
    "    # Calculate expected cash flow\n",
    "    p = sp.Symbol(\"p\", real=True)\n",
    "    \n",
    "    discECF = 0  # start with discounted sum of expected cash flows = 0\n",
    "    for i, time in enumerate(time_array):\n",
    "        if i != n:\n",
    "            discECF += ((1 - p)**i * (p * recovery_rate * principal_payment + (1-p) * semiAnnualCoupon)) / (1 + d)**time  # discount all Expected value of cash flows until the last one\n",
    "        else:\n",
    "            discECF += ((1 - p)**i * (p * recovery_rate * principal_payment + (1-p) * (semiAnnualCoupon + principal_payment))) / (1 + d)**time  # discount the last expected cash flow\n",
    "\n",
    "        \n",
    "    p = sp.solve(discECF - bond_price, p)\n",
    "    \n",
    "    return p  # default probability for 6 months (semi-annual default probability)"
   ]
  },
  {
   "cell_type": "code",
   "execution_count": 200,
   "metadata": {},
   "outputs": [
    {
     "name": "stdout",
     "output_type": "stream",
     "text": [
      "Iteration 0: discECF = 38.1328300682646*p + 1.74463928416897\n",
      "Iteration 1: discECF = 38.1328300682646*p + 0.993882851221426*(1 - p)*(38.25*p + 1.75) + 1.74463928416897\n",
      "Iteration 2: discECF = 38.1328300682646*p + 0.990838323487294*(1 - p)**2*(38.25*p + 1.75) + 0.993882851221426*(1 - p)*(38.25*p + 1.75) + 1.74463928416897\n"
     ]
    },
    {
     "data": {
      "text/latex": [
       "$\\displaystyle 38.1328300682646 p + 0.990838323487294 \\left(1 - p\\right)^{2} \\cdot \\left(38.25 p + 1.75\\right) + 0.993882851221426 \\cdot \\left(1 - p\\right) \\left(38.25 p + 1.75\\right) + 1.74463928416897$"
      ],
      "text/plain": [
       "38.1328300682646*p + 0.990838323487294*(1 - p)**2*(38.25*p + 1.75) + 0.993882851221426*(1 - p)*(38.25*p + 1.75) + 1.74463928416897"
      ]
     },
     "execution_count": 200,
     "metadata": {},
     "output_type": "execute_result"
    }
   ],
   "source": [
    "p = sp.Symbol(\"p\", real=True)\n",
    "\n",
    "bond_price = 100.089\n",
    "time_array = np.arange(0.5, 2, 0.5)\n",
    "n = len(time_array)\n",
    "semiAnnualCoupon = 1.75\n",
    "principal_payment = 100\n",
    "discECF = 0\n",
    "recovery_rate = 0.4\n",
    "d = 0.0061547985972957246\n",
    "\n",
    "for i, time in enumerate(time_array):\n",
    "    if i != n:\n",
    "        discECF += ((1 - p)**i * (p * recovery_rate * principal_payment + (1-p) * semiAnnualCoupon)) / (1 + d)**time  # discount all Expected value of cash flows until the last one\n",
    "        print(f\"Iteration {i}: discECF = {discECF}\")\n",
    "    else:\n",
    "        discECF += ((1 - p)**i * (p * recovery_rate * principal_payment + (1-p) * (semiAnnualCoupon + principal_payment))) / (1 + d)**time  # discount the last expected cash flow\n",
    "        print(f\"Iteration {i}: discECF = {discECF}\")\n",
    "\n",
    "discECF"
   ]
  },
  {
   "cell_type": "code",
   "execution_count": 198,
   "metadata": {},
   "outputs": [
    {
     "data": {
      "text/plain": [
       "[2.16487757072445]"
      ]
     },
     "execution_count": 198,
     "metadata": {},
     "output_type": "execute_result"
    }
   ],
   "source": [
    "p_solution = sp.solve(discECF - bond_price, p)\n",
    "p_solution"
   ]
  },
  {
   "cell_type": "code",
   "execution_count": null,
   "metadata": {},
   "outputs": [
    {
     "name": "stdout",
     "output_type": "stream",
     "text": [
      "[]\n",
      "[]\n",
      "[]\n"
     ]
    }
   ],
   "source": [
    "for i in df.index:\n",
    "    print(bonds_probability_of_default(df[\"Coupon\"][i], 3, df[\"Price\"][i], 100, 0.05))"
   ]
  }
 ],
 "metadata": {
  "kernelspec": {
   "display_name": "Python 3",
   "language": "python",
   "name": "python3"
  },
  "language_info": {
   "codemirror_mode": {
    "name": "ipython",
    "version": 3
   },
   "file_extension": ".py",
   "mimetype": "text/x-python",
   "name": "python",
   "nbconvert_exporter": "python",
   "pygments_lexer": "ipython3",
   "version": "3.10.5"
  },
  "orig_nbformat": 4
 },
 "nbformat": 4,
 "nbformat_minor": 2
}
