{
 "cells": [
  {
   "cell_type": "code",
   "execution_count": 2,
   "metadata": {},
   "outputs": [
    {
     "name": "stdout",
     "output_type": "stream",
     "text": [
      "This is JSON <class 'str'>\n",
      "\n",
      "Now convert from JSON to Python\n",
      "Converted to Python <class 'dict'>\n",
      "{'id': '09', 'name': 'Nitin', 'department': 'Finance'}\n"
     ]
    }
   ],
   "source": [
    "import json \n",
    "\n",
    "# JSON string \n",
    "employee = '{\"id\":\"09\", \"name\": \"Nitin\", \"department\":\"Finance\"}'  # Notice that this is a string object !!\n",
    "print(\"This is JSON\", type(employee)) \n",
    "\n",
    "print(\"\\nNow convert from JSON to Python\") \n",
    "\n",
    "# Convert string to Python dict \n",
    "employee_dict = json.loads(employee) # JSON strings can be converted to dict with json.loads() method !!\n",
    "print(\"Converted to Python\", type(employee_dict)) \n",
    "print(employee_dict) "
   ]
  },
  {
   "cell_type": "code",
   "execution_count": 3,
   "metadata": {},
   "outputs": [
    {
     "name": "stdout",
     "output_type": "stream",
     "text": [
      "This is Python <class 'dict'>\n",
      "\n",
      "Now Convert from Python to JSON\n",
      "Converted to JSON <class 'str'>\n",
      "{\n",
      "    \"id\": \"09\",\n",
      "    \"name\": \"Nitin\",\n",
      "    \"department\": \"Finance\"\n",
      "}\n"
     ]
    }
   ],
   "source": [
    "import json \n",
    "\n",
    "# JSON string \n",
    "employee_dict = {'id': '09', 'name': 'Nitin', 'department': 'Finance'} \n",
    "print(\"This is Python\", type(employee_dict)) \n",
    "\n",
    "print(\"\\nNow Convert from Python to JSON\") \n",
    "\n",
    "# Convert Python dict to JSON \n",
    "json_object = json.dumps(employee_dict, indent=4)  # Dicts can be converted to JSON strings with json.dumps() method !!\n",
    "print(\"Converted to JSON\", type(json_object))   # Notice it is str type !\n",
    "print(json_object) "
   ]
  },
  {
   "cell_type": "code",
   "execution_count": 4,
   "metadata": {},
   "outputs": [
    {
     "name": "stdout",
     "output_type": "stream",
     "text": [
      "type of a = <class 'dict'>\n",
      "{\"name\": \"John\", \"age\": 31, \"Salary\": 25000}\n",
      "type of b = <class 'str'>\n"
     ]
    }
   ],
   "source": [
    "# Python program showing \n",
    "# use of json package\n",
    "\n",
    "import json\n",
    "\n",
    "# {key:value mapping}\n",
    "a = {\"name\":\"John\", \"age\":31, \"Salary\":25000}\n",
    "print(\"type of a =\", type(a))\n",
    "\n",
    "# conversion to JSON done by dumps() function\n",
    "b = json.dumps(a)  # convert from dict to JSON string\n",
    "\n",
    "# printing the output\n",
    "print(b)\n",
    "print(\"type of b =\", type(b))  # b is a JSON string"
   ]
  },
  {
   "cell_type": "code",
   "execution_count": 5,
   "metadata": {},
   "outputs": [
    {
     "name": "stdout",
     "output_type": "stream",
     "text": [
      "{'name': 'John', 'age': 31, 'Salary': 25000}\n",
      "Type of c = <class 'dict'>\n"
     ]
    }
   ],
   "source": [
    "c = json.loads(b)  # convert JSON string to dict\n",
    "print(c)\n",
    "print(\"Type of c =\", type(c))"
   ]
  },
  {
   "cell_type": "code",
   "execution_count": 6,
   "metadata": {},
   "outputs": [
    {
     "name": "stdout",
     "output_type": "stream",
     "text": [
      "[\"Welcome\", \"to\", \"GeeksforGeeks\"]\n",
      "[\"Welcome\", \"to\", \"GeeksforGeeks\"]\n",
      "\"Hi\"\n",
      "123\n",
      "23.572\n",
      "true\n",
      "false\n",
      "null\n"
     ]
    }
   ],
   "source": [
    "# Python program showing that\n",
    "# json support different primitive\n",
    "# types\n",
    "\n",
    "import json\n",
    "\n",
    "# list conversion to Array\n",
    "print(json.dumps(['Welcome', \"to\", \"GeeksforGeeks\"]))\n",
    "\n",
    "# tuple conversion to Array\n",
    "print(json.dumps((\"Welcome\", \"to\", \"GeeksforGeeks\")))\n",
    "\n",
    "# string conversion to String\n",
    "print(json.dumps(\"Hi\"))\n",
    "\n",
    "# int conversion to Number\n",
    "print(json.dumps(123))\n",
    "\n",
    "# float conversion to Number\n",
    "print(json.dumps(23.572))\n",
    "\n",
    "# Boolean conversion to their respective values\n",
    "print(json.dumps(True))\n",
    "print(json.dumps(False))\n",
    "\n",
    "# None value to null\n",
    "print(json.dumps(None))"
   ]
  },
  {
   "cell_type": "code",
   "execution_count": 7,
   "metadata": {},
   "outputs": [
    {
     "name": "stdout",
     "output_type": "stream",
     "text": [
      "<class 'dict'>\n"
     ]
    }
   ],
   "source": [
    "var = { \n",
    "\t\"Subjects\": {\n",
    "\t\t\t\t\"Maths\":85,\n",
    "\t\t\t\t\"Physics\":90\n",
    "\t\t\t\t}\n",
    "\t}\n",
    "\n",
    "print(type(var))  # it is dict type."
   ]
  },
  {
   "cell_type": "code",
   "execution_count": 8,
   "metadata": {},
   "outputs": [
    {
     "name": "stdout",
     "output_type": "stream",
     "text": [
      "<class 'str'>\n",
      "{\"Subjects\": {\"Maths\": 85, \"Physics\": 90}}\n"
     ]
    }
   ],
   "source": [
    "var_json = json.dumps(var)  # convert to JSON string\n",
    "print(type(var_json))\n",
    "print(var_json)"
   ]
  },
  {
   "cell_type": "code",
   "execution_count": 9,
   "metadata": {},
   "outputs": [
    {
     "name": "stdout",
     "output_type": "stream",
     "text": [
      "{\"organization\": \"GeeksForGeeks\", \"city\": \"Noida\", \"country\": \"India\", \"pin\": 110096}\n"
     ]
    }
   ],
   "source": [
    "# Python program to update\n",
    "# JSON\n",
    "\n",
    "import json\n",
    "\n",
    "# JSON data:\n",
    "x = '{\"organization\":\"GeeksForGeeks\", \"city\":\"Noida\", \"country\":\"India\"}'\n",
    "\n",
    "# python object to be appended\n",
    "y = {\"pin\":110096}\n",
    "\n",
    "# parsing JSON string:\n",
    "z = json.loads(x)\n",
    "\n",
    "# appending the data\n",
    "z.update(y)\n",
    "\n",
    "# the result is a JSON string:\n",
    "print(json.dumps(z))"
   ]
  },
  {
   "cell_type": "markdown",
   "metadata": {},
   "source": [
    "* **dump()**  used to write to a file in JSON format.\n",
    "* **dumps()** used to convert a dict to JSON string.\n",
    "* **load()**  used to read from a JSON file.\n",
    "* **loads()**  used to convert a JSON string to a dict object.\n",
    "* **.update()** used to append a dict to a JSON string."
   ]
  },
  {
   "cell_type": "code",
   "execution_count": 10,
   "metadata": {},
   "outputs": [
    {
     "name": "stdout",
     "output_type": "stream",
     "text": [
      "Datatype before deserialization : <class 'str'>\n",
      "{'Name': 'Romy', 'Gender': 'Female'}\n",
      "Datatype after deserialization = <class 'dict'>\n"
     ]
    }
   ],
   "source": [
    "\n",
    "\n",
    "# importing the module\n",
    "import json\n",
    " \n",
    "# creating the JSON data as a string\n",
    "data = '{\"Name\" : \"Romy\", \"Gender\" : \"Female\"}'\n",
    " \n",
    "print(\"Datatype before deserialization : \"\n",
    "      + str(type(data)))\n",
    "  \n",
    "# deserializing the data\n",
    "data_dict = json.loads(data)\n",
    "print(data_dict)\n",
    "print(\"Datatype after deserialization =\", type(data_dict))"
   ]
  }
 ],
 "metadata": {
  "kernelspec": {
   "display_name": "Python 3",
   "language": "python",
   "name": "python3"
  },
  "language_info": {
   "codemirror_mode": {
    "name": "ipython",
    "version": 3
   },
   "file_extension": ".py",
   "mimetype": "text/x-python",
   "name": "python",
   "nbconvert_exporter": "python",
   "pygments_lexer": "ipython3",
   "version": "3.10.5"
  }
 },
 "nbformat": 4,
 "nbformat_minor": 2
}
