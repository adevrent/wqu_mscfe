{
 "cells": [
  {
   "cell_type": "code",
   "execution_count": 1,
   "metadata": {},
   "outputs": [
    {
     "name": "stdout",
     "output_type": "stream",
     "text": [
      "This is JSON <class 'str'>\n",
      "\n",
      "Now convert from JSON to Python\n",
      "Converted to Python <class 'dict'>\n",
      "{'id': '09', 'name': 'Nitin', 'department': 'Finance'}\n"
     ]
    }
   ],
   "source": [
    "import json \n",
    "\n",
    "# JSON string \n",
    "employee = '{\"id\":\"09\", \"name\": \"Nitin\", \"department\":\"Finance\"}'  # Notice that this is a string object !!\n",
    "print(\"This is JSON\", type(employee)) \n",
    "\n",
    "print(\"\\nNow convert from JSON to Python\") \n",
    "\n",
    "# Convert string to Python dict \n",
    "employee_dict = json.loads(employee) # JSON strings can be converted to dict with json.loads() method !!\n",
    "print(\"Converted to Python\", type(employee_dict)) \n",
    "print(employee_dict) "
   ]
  },
  {
   "cell_type": "code",
   "execution_count": 2,
   "metadata": {},
   "outputs": [
    {
     "name": "stdout",
     "output_type": "stream",
     "text": [
      "This is Python <class 'dict'>\n",
      "\n",
      "Now Convert from Python to JSON\n",
      "Converted to JSON <class 'str'>\n",
      "{\n",
      "    \"id\": \"09\",\n",
      "    \"name\": \"Nitin\",\n",
      "    \"department\": \"Finance\"\n",
      "}\n"
     ]
    }
   ],
   "source": [
    "import json \n",
    "\n",
    "# JSON string \n",
    "employee_dict = {'id': '09', 'name': 'Nitin', 'department': 'Finance'} \n",
    "print(\"This is Python\", type(employee_dict)) \n",
    "\n",
    "print(\"\\nNow Convert from Python to JSON\") \n",
    "\n",
    "# Convert Python dict to JSON \n",
    "json_object = json.dumps(employee_dict, indent=4)  # Dicts can be converted to JSON strings with json.dumps() method !!\n",
    "print(\"Converted to JSON\", type(json_object))   # Notice it is str type !\n",
    "print(json_object) "
   ]
  },
  {
   "cell_type": "code",
   "execution_count": null,
   "metadata": {},
   "outputs": [],
   "source": []
  }
 ],
 "metadata": {
  "kernelspec": {
   "display_name": "Python 3",
   "language": "python",
   "name": "python3"
  },
  "language_info": {
   "codemirror_mode": {
    "name": "ipython",
    "version": 3
   },
   "file_extension": ".py",
   "mimetype": "text/x-python",
   "name": "python",
   "nbconvert_exporter": "python",
   "pygments_lexer": "ipython3",
   "version": "3.10.5"
  }
 },
 "nbformat": 4,
 "nbformat_minor": 2
}
