{
 "cells": [
  {
   "cell_type": "markdown",
   "metadata": {},
   "source": [
    "# **Over-reliance on the Gaussian Distribution**"
   ]
  },
  {
   "cell_type": "markdown",
   "metadata": {},
   "source": [
    "## Definition and Description"
   ]
  },
  {
   "cell_type": "markdown",
   "metadata": {},
   "source": [
    "Over-reliance on Gaussian distribution in the financial context means **wrongly assuming** a distribution, such as asset returns, to be normally distributed. If the real distribution shows non-normal qualities such as skewness, kurtosis or hetereoscedasticity; this might lead to underestimation of extreme events, misleading tail risk and improper risk management practices. Instead of wrongly using normal distribution, a financial practitioner should always use an appropriate model for non-normal distributions such as skew-normal distribution or Student's t distribution."
   ]
  }
 ],
 "metadata": {
  "kernelspec": {
   "display_name": "Python 3",
   "language": "python",
   "name": "python3"
  },
  "language_info": {
   "name": "python",
   "version": "3.10.5"
  }
 },
 "nbformat": 4,
 "nbformat_minor": 2
}
