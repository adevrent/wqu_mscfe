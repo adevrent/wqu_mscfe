{
 "cells": [
  {
   "cell_type": "markdown",
   "metadata": {},
   "source": [
    "# **Heteroscedasticity**"
   ]
  },
  {
   "cell_type": "markdown",
   "metadata": {},
   "source": [
    "## Definition"
   ]
  },
  {
   "cell_type": "markdown",
   "metadata": {},
   "source": [
    "Let $\\epsilon_1, \\epsilon_2, \\ldots, \\epsilon_n$ a sequence of random variables where variance of each term is $Var(\\epsilon_i) = \\sigma_i^2$\n",
    "\n",
    "if $\\sigma_i^2 \\neq \\sigma_j^2$ for *some* $(i, j) : i \\neq j$ we conclude this sequence of random variables does not have constant variance and therefore the sequence is **heteroscedastic**."
   ]
  },
  {
   "cell_type": "markdown",
   "metadata": {},
   "source": [
    "## Description"
   ]
  },
  {
   "cell_type": "markdown",
   "metadata": {},
   "source": [
    "In an OLS regression model where\n",
    "\n",
    "$Y_i = \\beta_0 + \\beta_1 X_i + \\epsilon_i$ for $i = 0, 1, \\ldots, n$\n",
    "\n",
    "we assume the error terms $\\epsilon_1, \\epsilon_2, \\ldots, \\epsilon_n$ are iid and normally distributed with a mean of 0 and have constant variance, $\\epsilon_i$ ~ $N(0, \\sigma^2)$ for all $i$\n",
    "\n",
    "If the assumption is true, then we say this sequence of error terms are **homoscedastic**. However, if the empirical data shows us that the variance of error terms are **not** constant, then we decide the sequence is **heteroscedastic**."
   ]
  },
  {
   "cell_type": "markdown",
   "metadata": {},
   "source": [
    "## Demonstration and Diagram"
   ]
  },
  {
   "cell_type": "code",
   "execution_count": 15,
   "metadata": {},
   "outputs": [],
   "source": [
    "# Define our functions to create simulated values\n",
    "\n",
    "import random\n",
    "import matplotlib.pyplot as plt\n",
    "random.seed(314)  # fix seed for reproducibility purposes\n",
    "\n",
    "def genHetEpsilon(f, x):\n",
    "    \"\"\"Generates a normally distributed error term with mean 0 and variance a function of x,\n",
    "    var(epsilon) = f(x)\n",
    "\n",
    "    Args:\n",
    "        f (function): a function to be applied on x\n",
    "        x (float): represents an observation of a predictor variable X\n",
    "    \"\"\"\n",
    "    var = f(x)\n",
    "    return random.normalvariate(0, f(x)**0.5)\n",
    "\n",
    "x_arr = [random.uniform(0, 50) for i in range(100)]\n",
    "\n",
    "def genyValues(x_arr, f, beta_0, beta_1):\n",
    "    \"\"\"Generates y values as a linear function of x values \n",
    "    from x_arr with heteroscedastic error terms.\n",
    "    \n",
    "    y = beta_0 + beta_1 * x + epsilon\n",
    "\n",
    "    Args:\n",
    "        x_arr (list): a list of values, representing draws from a predictor variable X\n",
    "        f (function): a function to be applied on x to generate variance of error terms\n",
    "        beta_0 (float): intercept coefficient\n",
    "        beta_1 (float): slope coefficient\n",
    "    \"\"\"\n",
    "    return [beta_0 + beta_1*x + genHetEpsilon(f, x) for x in x_arr]\n",
    "\n",
    "def plotOLS(x_arr):\n",
    "    \"\"\"Create a scatterplot of x_arr and fitted values\n",
    "\n",
    "    Args:\n",
    "        x_arr (list): an array of numbers\n",
    "    \"\"\"\n",
    "    fig, ax = plt.subplots(figsize=(10, 6))\n",
    "    ax.scatter(x_arr, genyValues(x_arr, lambda x: 20*x, 10, 1), label=r\"$(x_i, y_i): y_i = \\beta_0 + \\beta_1 x_i + \\epsilon_i$\")\n",
    "    ax.set(title=\"OLS Scatterplot with Heteroscedasticity\")\n",
    "    ax.set_xlabel(r\"$x_i$\", fontsize=16)\n",
    "    ax.set_ylabel(r\"$y_i$\", fontsize=16)\n",
    "    ax.legend()\n",
    "    return fig, ax"
   ]
  },
  {
   "cell_type": "code",
   "execution_count": 24,
   "metadata": {},
   "outputs": [
    {
     "data": {
      "text/plain": [
       "(<Figure size 720x432 with 1 Axes>,\n",
       " <Axes: title={'center': 'OLS Scatterplot with Heteroscedasticity'}, xlabel='$x_i$', ylabel='$y_i$'>)"
      ]
     },
     "execution_count": 24,
     "metadata": {},
     "output_type": "execute_result"
    },
    {
     "data": {
      "image/png": "[encoded data removed]",
      "text/plain": [
       "<Figure size 720x432 with 1 Axes>"
      ]
     },
     "metadata": {
      "needs_background": "light"
     },
     "output_type": "display_data"
    }
   ],
   "source": [
    "random.seed(314)  # fix seed for reproducibility purposes\n",
    "\n",
    "# Generate an array of uniform draws between 0 and 50, of length 100 to simulate data; then print\n",
    "x_arr = [random.uniform(0, 50) for i in range(100)]\n",
    "\n",
    "# Plot our values where x values are draws from an independent standard uniform variable X\n",
    "# and y values are draws from a random variable Y where Y_i = beta_0 + beta_1 X_i + epsilon_i\n",
    "plotOLS(x_arr)"
   ]
  },
  {
   "cell_type": "markdown",
   "metadata": {},
   "source": [
    "As we can see, because we defined the variance of simulated error terms as $Var(\\epsilon_i) = 20 x_i$, our data has **heteroscedasticity**, showing increasing $Y_i$ variance with increasing $x_i$ values.\n",
    "\n",
    "Therefore, $Var(Y_i)$ has a **monotonic** relationship with $x_i^2$"
   ]
  },
  {
   "cell_type": "markdown",
   "metadata": {},
   "source": [
    "## Diagnosis"
   ]
  },
  {
   "cell_type": "markdown",
   "metadata": {},
   "source": [
    "To decide whether our sequence of random variables is homoscedastic or **heteroscedastic**, we have several options available.\n",
    "\n",
    "* **Scatterplot inspection:** First, while doing an exploratory data analysis, we can just scatterplot the $y$ values against $x$ values and generate a visual. By inspecting the plot, if we observe a cone-like distribution of points, that is spread between points increases with increasing $x$ values, we decide that this distribution of $y$ values show **heteroscedasticity**. However, this method is a little bit subjective and informal.\n",
    "\n",
    "* **Breusch-Pagan Test:** The Breusch-Pagan test is used in statistics to test for **heteroscedasticity** in a linear regression model. This is a chi-square test which assumes variance of error terms $\\sigma^2_i$ have a **linear** relationship with independent variable values $x_i$. Its testing the hypotheses where:\n",
    "\n",
    "$\\qquad H_0:$ The sequence of error terms is **homoscedastic**\n",
    "\n",
    "$\\qquad H_1:$ The sequence of error terms is **heteroscedastic**\n",
    "\n",
    "$\\qquad$ Therefore after conducting the test, if $p < 0.05$, we reject the null hypothesis and decide the sequence of error terms is **heteroscedastic**."
   ]
  },
  {
   "cell_type": "code",
   "execution_count": 35,
   "metadata": {},
   "outputs": [
    {
     "data": {
      "text/html": [
       "<div>\n",
       "<style scoped>\n",
       "    .dataframe tbody tr th:only-of-type {\n",
       "        vertical-align: middle;\n",
       "    }\n",
       "\n",
       "    .dataframe tbody tr th {\n",
       "        vertical-align: top;\n",
       "    }\n",
       "\n",
       "    .dataframe thead th {\n",
       "        text-align: right;\n",
       "    }\n",
       "</style>\n",
       "<table border=\"1\" class=\"dataframe\">\n",
       "  <thead>\n",
       "    <tr style=\"text-align: right;\">\n",
       "      <th></th>\n",
       "      <th>x</th>\n",
       "      <th>y</th>\n",
       "    </tr>\n",
       "  </thead>\n",
       "  <tbody>\n",
       "    <tr>\n",
       "      <th>0</th>\n",
       "      <td>9.821564</td>\n",
       "      <td>22.309842</td>\n",
       "    </tr>\n",
       "    <tr>\n",
       "      <th>1</th>\n",
       "      <td>5.573288</td>\n",
       "      <td>28.537098</td>\n",
       "    </tr>\n",
       "    <tr>\n",
       "      <th>2</th>\n",
       "      <td>0.131938</td>\n",
       "      <td>10.072717</td>\n",
       "    </tr>\n",
       "    <tr>\n",
       "      <th>3</th>\n",
       "      <td>31.406804</td>\n",
       "      <td>0.377447</td>\n",
       "    </tr>\n",
       "    <tr>\n",
       "      <th>4</th>\n",
       "      <td>11.711581</td>\n",
       "      <td>21.540031</td>\n",
       "    </tr>\n",
       "  </tbody>\n",
       "</table>\n",
       "</div>"
      ],
      "text/plain": [
       "           x          y\n",
       "0   9.821564  22.309842\n",
       "1   5.573288  28.537098\n",
       "2   0.131938  10.072717\n",
       "3  31.406804   0.377447\n",
       "4  11.711581  21.540031"
      ]
     },
     "execution_count": 35,
     "metadata": {},
     "output_type": "execute_result"
    }
   ],
   "source": [
    "# Import libraries\n",
    "import statsmodels.formula.api as smf\n",
    "import statsmodels.stats.api as sms\n",
    "import pandas as pd\n",
    "import numpy as np\n",
    "random.seed(314)  # fix seed for reproducibility purposes\n",
    "\n",
    "# Generate an array of uniform draws between 0 and 50, of length 100 to simulate data; then print\n",
    "x_arr = [random.uniform(0, 50) for i in range(100)]\n",
    "\n",
    "# Generate simulated y values with beta_0 = 10 and beta_1 = 1, just like above plot\n",
    "y_arr = genyValues(x_arr, lambda x: 20*x, 10, 1)\n",
    "\n",
    "# Combine them into a dataframe\n",
    "df = pd.DataFrame(np.array([x_arr, y_arr]).transpose(), columns=[\"x\", \"y\"])\n",
    "df.head()"
   ]
  },
  {
   "cell_type": "code",
   "execution_count": 32,
   "metadata": {},
   "outputs": [
    {
     "data": {
      "text/html": [
       "<table class=\"simpletable\">\n",
       "<caption>OLS Regression Results</caption>\n",
       "<tr>\n",
       "  <th>Dep. Variable:</th>            <td>y</td>        <th>  R-squared:         </th> <td>   0.289</td>\n",
       "</tr>\n",
       "<tr>\n",
       "  <th>Model:</th>                   <td>OLS</td>       <th>  Adj. R-squared:    </th> <td>   0.281</td>\n",
       "</tr>\n",
       "<tr>\n",
       "  <th>Method:</th>             <td>Least Squares</td>  <th>  F-statistic:       </th> <td>   39.76</td>\n",
       "</tr>\n",
       "<tr>\n",
       "  <th>Date:</th>             <td>Mon, 27 Nov 2023</td> <th>  Prob (F-statistic):</th> <td>8.27e-09</td>\n",
       "</tr>\n",
       "<tr>\n",
       "  <th>Time:</th>                 <td>15:22:39</td>     <th>  Log-Likelihood:    </th> <td> -442.81</td>\n",
       "</tr>\n",
       "<tr>\n",
       "  <th>No. Observations:</th>      <td>   100</td>      <th>  AIC:               </th> <td>   889.6</td>\n",
       "</tr>\n",
       "<tr>\n",
       "  <th>Df Residuals:</th>          <td>    98</td>      <th>  BIC:               </th> <td>   894.8</td>\n",
       "</tr>\n",
       "<tr>\n",
       "  <th>Df Model:</th>              <td>     1</td>      <th>                     </th>     <td> </td>   \n",
       "</tr>\n",
       "<tr>\n",
       "  <th>Covariance Type:</th>      <td>nonrobust</td>    <th>                     </th>     <td> </td>   \n",
       "</tr>\n",
       "</table>\n",
       "<table class=\"simpletable\">\n",
       "<tr>\n",
       "      <td></td>         <th>coef</th>     <th>std err</th>      <th>t</th>      <th>P>|t|</th>  <th>[0.025</th>    <th>0.975]</th>  \n",
       "</tr>\n",
       "<tr>\n",
       "  <th>Intercept</th> <td>    9.6048</td> <td>    3.689</td> <td>    2.603</td> <td> 0.011</td> <td>    2.283</td> <td>   16.926</td>\n",
       "</tr>\n",
       "<tr>\n",
       "  <th>x</th>         <td>    0.9761</td> <td>    0.155</td> <td>    6.306</td> <td> 0.000</td> <td>    0.669</td> <td>    1.283</td>\n",
       "</tr>\n",
       "</table>\n",
       "<table class=\"simpletable\">\n",
       "<tr>\n",
       "  <th>Omnibus:</th>       <td>11.576</td> <th>  Durbin-Watson:     </th> <td>   1.930</td>\n",
       "</tr>\n",
       "<tr>\n",
       "  <th>Prob(Omnibus):</th> <td> 0.003</td> <th>  Jarque-Bera (JB):  </th> <td>  13.900</td>\n",
       "</tr>\n",
       "<tr>\n",
       "  <th>Skew:</th>          <td> 0.626</td> <th>  Prob(JB):          </th> <td>0.000959</td>\n",
       "</tr>\n",
       "<tr>\n",
       "  <th>Kurtosis:</th>      <td> 4.329</td> <th>  Cond. No.          </th> <td>    43.0</td>\n",
       "</tr>\n",
       "</table><br/><br/>Notes:<br/>[1] Standard Errors assume that the covariance matrix of the errors is correctly specified."
      ],
      "text/latex": [
       "\\begin{center}\n",
       "\\begin{tabular}{lclc}\n",
       "\\toprule\n",
       "\\textbf{Dep. Variable:}    &        y         & \\textbf{  R-squared:         } &     0.289   \\\\\n",
       "\\textbf{Model:}            &       OLS        & \\textbf{  Adj. R-squared:    } &     0.281   \\\\\n",
       "\\textbf{Method:}           &  Least Squares   & \\textbf{  F-statistic:       } &     39.76   \\\\\n",
       "\\textbf{Date:}             & Mon, 27 Nov 2023 & \\textbf{  Prob (F-statistic):} &  8.27e-09   \\\\\n",
       "\\textbf{Time:}             &     15:22:39     & \\textbf{  Log-Likelihood:    } &   -442.81   \\\\\n",
       "\\textbf{No. Observations:} &         100      & \\textbf{  AIC:               } &     889.6   \\\\\n",
       "\\textbf{Df Residuals:}     &          98      & \\textbf{  BIC:               } &     894.8   \\\\\n",
       "\\textbf{Df Model:}         &           1      & \\textbf{                     } &             \\\\\n",
       "\\textbf{Covariance Type:}  &    nonrobust     & \\textbf{                     } &             \\\\\n",
       "\\bottomrule\n",
       "\\end{tabular}\n",
       "\\begin{tabular}{lcccccc}\n",
       "                   & \\textbf{coef} & \\textbf{std err} & \\textbf{t} & \\textbf{P$> |$t$|$} & \\textbf{[0.025} & \\textbf{0.975]}  \\\\\n",
       "\\midrule\n",
       "\\textbf{Intercept} &       9.6048  &        3.689     &     2.603  &         0.011        &        2.283    &       16.926     \\\\\n",
       "\\textbf{x}         &       0.9761  &        0.155     &     6.306  &         0.000        &        0.669    &        1.283     \\\\\n",
       "\\bottomrule\n",
       "\\end{tabular}\n",
       "\\begin{tabular}{lclc}\n",
       "\\textbf{Omnibus:}       & 11.576 & \\textbf{  Durbin-Watson:     } &    1.930  \\\\\n",
       "\\textbf{Prob(Omnibus):} &  0.003 & \\textbf{  Jarque-Bera (JB):  } &   13.900  \\\\\n",
       "\\textbf{Skew:}          &  0.626 & \\textbf{  Prob(JB):          } & 0.000959  \\\\\n",
       "\\textbf{Kurtosis:}      &  4.329 & \\textbf{  Cond. No.          } &     43.0  \\\\\n",
       "\\bottomrule\n",
       "\\end{tabular}\n",
       "%\\caption{OLS Regression Results}\n",
       "\\end{center}\n",
       "\n",
       "Notes: \\newline\n",
       " [1] Standard Errors assume that the covariance matrix of the errors is correctly specified."
      ],
      "text/plain": [
       "<class 'statsmodels.iolib.summary.Summary'>\n",
       "\"\"\"\n",
       "                            OLS Regression Results                            \n",
       "==============================================================================\n",
       "Dep. Variable:                      y   R-squared:                       0.289\n",
       "Model:                            OLS   Adj. R-squared:                  0.281\n",
       "Method:                 Least Squares   F-statistic:                     39.76\n",
       "Date:                Mon, 27 Nov 2023   Prob (F-statistic):           8.27e-09\n",
       "Time:                        15:22:39   Log-Likelihood:                -442.81\n",
       "No. Observations:                 100   AIC:                             889.6\n",
       "Df Residuals:                      98   BIC:                             894.8\n",
       "Df Model:                           1                                         \n",
       "Covariance Type:            nonrobust                                         \n",
       "==============================================================================\n",
       "                 coef    std err          t      P>|t|      [0.025      0.975]\n",
       "------------------------------------------------------------------------------\n",
       "Intercept      9.6048      3.689      2.603      0.011       2.283      16.926\n",
       "x              0.9761      0.155      6.306      0.000       0.669       1.283\n",
       "==============================================================================\n",
       "Omnibus:                       11.576   Durbin-Watson:                   1.930\n",
       "Prob(Omnibus):                  0.003   Jarque-Bera (JB):               13.900\n",
       "Skew:                           0.626   Prob(JB):                     0.000959\n",
       "Kurtosis:                       4.329   Cond. No.                         43.0\n",
       "==============================================================================\n",
       "\n",
       "Notes:\n",
       "[1] Standard Errors assume that the covariance matrix of the errors is correctly specified.\n",
       "\"\"\""
      ]
     },
     "execution_count": 32,
     "metadata": {},
     "output_type": "execute_result"
    }
   ],
   "source": [
    "# Fit an OLS model to our dataframe\n",
    "model = smf.ols(\"y ~ x\", df).fit()\n",
    "model.summary()"
   ]
  },
  {
   "cell_type": "code",
   "execution_count": 36,
   "metadata": {},
   "outputs": [
    {
     "data": {
      "text/html": [
       "<div>\n",
       "<style scoped>\n",
       "    .dataframe tbody tr th:only-of-type {\n",
       "        vertical-align: middle;\n",
       "    }\n",
       "\n",
       "    .dataframe tbody tr th {\n",
       "        vertical-align: top;\n",
       "    }\n",
       "\n",
       "    .dataframe thead th {\n",
       "        text-align: right;\n",
       "    }\n",
       "</style>\n",
       "<table border=\"1\" class=\"dataframe\">\n",
       "  <thead>\n",
       "    <tr style=\"text-align: right;\">\n",
       "      <th></th>\n",
       "      <th>Values</th>\n",
       "    </tr>\n",
       "  </thead>\n",
       "  <tbody>\n",
       "    <tr>\n",
       "      <th>Lagrange multiplier statistic</th>\n",
       "      <td>2.305367e+01</td>\n",
       "    </tr>\n",
       "    <tr>\n",
       "      <th>p-value</th>\n",
       "      <td>1.575411e-06</td>\n",
       "    </tr>\n",
       "    <tr>\n",
       "      <th>f-value</th>\n",
       "      <td>2.936151e+01</td>\n",
       "    </tr>\n",
       "    <tr>\n",
       "      <th>f p-value</th>\n",
       "      <td>4.301180e-07</td>\n",
       "    </tr>\n",
       "  </tbody>\n",
       "</table>\n",
       "</div>"
      ],
      "text/plain": [
       "                                     Values\n",
       "Lagrange multiplier statistic  2.305367e+01\n",
       "p-value                        1.575411e-06\n",
       "f-value                        2.936151e+01\n",
       "f p-value                      4.301180e-07"
      ]
     },
     "execution_count": 36,
     "metadata": {},
     "output_type": "execute_result"
    }
   ],
   "source": [
    "# Breusch-Pagan test\n",
    "\n",
    "# Name our result parameters for the test\n",
    "name = [\"Lagrange multiplier statistic\", \"p-value\", \"f-value\", \"f p-value\"]\n",
    "\n",
    "# Fit residuals (random draws of epsilon) against our exogenous variable x values with Breusch-Pagan\n",
    "test = sms.het_breuschpagan(model.resid, model.model.exog)\n",
    "\n",
    "# Construct a dataframe of results\n",
    "pd.DataFrame(test, index=name, columns=[\"Values\"])"
   ]
  },
  {
   "cell_type": "markdown",
   "metadata": {},
   "source": [
    "Because $p << 0.05$, we decide with significant confidence that our error terms **does not** have equal variances and our data shows **heteroscedasticity**."
   ]
  },
  {
   "cell_type": "markdown",
   "metadata": {},
   "source": [
    "## Damage"
   ]
  },
  {
   "cell_type": "markdown",
   "metadata": {},
   "source": [
    "Not accounting for **heteroscedastic** error terms and wrongly assuming all of them have the same variance may result in significant problems:\n",
    "\n",
    "* **Poor Model Fit and Predictive Power:** A model that assumes homoscedasticity when the data is heteroscedastic may have poor explanatory and predictive power. This is because it may fail to capture the underlying structure and variability in the data.\n",
    "\n",
    "* **Misleading Statistical Inference:** Standard statistical tests (like t-tests or F-tests) rely on assumptions of constant variance. Heteroscedasticity can lead to an underestimation or overestimation of the standard errors of coefficient estimates, resulting in misleading conclusions about the statistical significance of variables.\n",
    "\n",
    "* **Inaccurate Estimations:** Models assuming homoscedasticity, such as OLS regression, may produce inefficient, biased, or inconsistent estimations of parameters. This inaccuracy can be particularly problematic in regression models, where heteroscedasticity can lead to biased and inconsistent estimates of regression coefficients.\n",
    "\n",
    "* **Compromised Risk Assessment:** In financial contexts, where assessing and managing risk is crucial, heteroscedasticity often indicates that the risk (variance) changes over time or across different levels of an explanatory variable. Ignoring this can lead to underestimating or overestimating risk, which can have significant financial implications."
   ]
  },
  {
   "cell_type": "markdown",
   "metadata": {},
   "source": [
    "## Directions"
   ]
  },
  {
   "cell_type": "markdown",
   "metadata": {},
   "source": [
    "After conducting a heteroscedasticity test such as **Breusch-Pagan** or **White** and deciding our data shows heteroscedasticity; we can move on to solve the problem.\n",
    "\n",
    "A good way to handle heteroscedasticity is conducting a **Weighted Least Squares (WLS)** regression. In **WLS**, we can assign smaller weights to points where absolute value of the residuals are large (meaning error terms should have high variance) and assign larger weights to points where absolute value of the residuals are small. This means that the <u> weight $w_{i}$ will be inversely proportional to the variance of error term $Var(\\epsilon_i)$ </u>:\n",
    "\n",
    "$ \\mathrm{Var}(\\epsilon_{i}) = \\sigma_{i}^{2} = \\Large\\frac{\\sigma ^{2}}{w_{i}} $\n",
    "\n",
    "\n",
    "\n",
    "Moreover, if we have a statistically significant $p$ value from a Breusch-Pagan test, we can estimate the variance of error terms $\\hat{Var(\\epsilon_i)} = \\hat{\\sigma_i^2}$ as a **linear function** of observed exogenous variable values where:\n",
    "\n",
    "$\\hat{\\sigma_i^2} = \\gamma_0 + \\gamma_1 x_i$"
   ]
  },
  {
   "cell_type": "markdown",
   "metadata": {},
   "source": [
    "To calculate our weight estimates, we first conduct an OLS regression and calculate our coefficient estimates $\\beta_0, \\beta_1$. We then fit our model and get residual values such that:\n",
    "\n",
    "$r_i = y_i - \\hat{y_i} = y_i - (\\hat{\\beta_0} + \\hat{\\beta_1} x_i) $\n",
    "\n",
    "where $r_i$ is the residual value and $\\hat{\\beta_0}, \\hat{\\beta_1}$ are our coefficient estimates. Because we can think of $r_i^2$ as the observed value of the true variance $\\sigma_i^2$, we can model residual values as a linear function of $x_i$ by using observed $r_i$ values from sample:\n",
    "\n",
    "$ Var(\\epsilon_i) = \\sigma_i^2 = r_i^2 = \\gamma_0 + \\gamma_1 x_i + u_i$\n",
    "\n",
    "where the objective function to be minimized is RSS: the residual sum of squares but here the residuals are $k_i = r_i^2 - \\hat{r_i^2}$ and **not** the same with $r_i$.\n",
    "\n",
    "$RSS(\\beta_0, \\beta_1) = \\sum_{i=1}^n k_i^2 = \\sum_{i=1}^n (r_i^2 - \\hat{r_i^2})^2 = \\sum_{i=1}^n (r_i^2 - (\\gamma_0 + \\gamma_1 x_i))^2 $"
   ]
  },
  {
   "cell_type": "markdown",
   "metadata": {},
   "source": [
    "After we solve the minimization problem by setting the gradient to $\\bm{0}$, we get $\\hat{\\gamma_0}, \\hat{\\gamma_1}$ coefficient estimates. Then:\n",
    "\n",
    "$ \\hat{r_i^2} = \\hat{\\gamma_0} + \\hat{\\gamma_1} x_i = \\hat{\\sigma_i^2} $\n",
    "\n",
    "And thus we have our estimated $\\sigma_i^2$ values. After this, we can choose a constant $\\sigma_2$ such as $\\sigma_2 = 1$ and calculate our weights $w_i$:\n",
    "\n",
    "$w_i = \\Large\\frac{1}{\\hat{\\sigma_i^2}}$"
   ]
  },
  {
   "cell_type": "markdown",
   "metadata": {},
   "source": [
    "After we have our weights, we fit our WLS regression model such that our objective function to minimize is the following weighted residual sum of squares:\n",
    "\n",
    "$ RSS(\\beta_0, \\beta_1) = \\sum_{i=1}^n w_i r_i^2 = \\sum_{i=1}^n w_i (y_i - (\\beta_0 + \\beta_1 x_i))^2 $"
   ]
  },
  {
   "cell_type": "markdown",
   "metadata": {},
   "source": [
    "Solving the minimization problem, we get new $\\hat{\\beta_0}, \\hat{\\beta_1}$ coefficient estimates for our WLS model and complete our fitting with the linear regression function:\n",
    "\n",
    "$\\hat{y_i} = \\hat{\\beta_0} + \\hat{\\beta_1} x_i $"
   ]
  },
  {
   "cell_type": "markdown",
   "metadata": {},
   "source": [
    "We can do all of these steps in Python using statsmodels module:"
   ]
  },
  {
   "cell_type": "code",
   "execution_count": 37,
   "metadata": {},
   "outputs": [],
   "source": [
    "# Libraries\n",
    "import matplotlib.pyplot as plt\n",
    "import numpy as np\n",
    "import pandas as pd\n",
    "import statsmodels.api as sm\n",
    "import statsmodels.formula.api as smf\n",
    "import statsmodels.stats.api as sms"
   ]
  }
 ],
 "metadata": {
  "kernelspec": {
   "display_name": "Python 3",
   "language": "python",
   "name": "python3"
  },
  "language_info": {
   "codemirror_mode": {
    "name": "ipython",
    "version": 3
   },
   "file_extension": ".py",
   "mimetype": "text/x-python",
   "name": "python",
   "nbconvert_exporter": "python",
   "pygments_lexer": "ipython3",
   "version": "3.10.5"
  }
 },
 "nbformat": 4,
 "nbformat_minor": 2
}
