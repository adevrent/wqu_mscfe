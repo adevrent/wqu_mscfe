{
 "cells": [
  {
   "cell_type": "markdown",
   "metadata": {},
   "source": [
    "# **Heteroscedasticity**"
   ]
  },
  {
   "cell_type": "markdown",
   "metadata": {},
   "source": [
    "## Definition"
   ]
  },
  {
   "cell_type": "markdown",
   "metadata": {},
   "source": [
    "Let $\\epsilon_1, \\epsilon_2, \\ldots, \\epsilon_n$ a sequence of random variables where variance of each term is $Var(\\epsilon_i) = \\sigma_i^2$\n",
    "\n",
    "if $\\sigma_i^2 \\neq \\sigma_j^2$ for *some* $(i, j) : i \\neq j$ we conclude this sequence of random variables does not have constant variance and therefore the sequence is **heteroscedastic**."
   ]
  },
  {
   "cell_type": "markdown",
   "metadata": {},
   "source": [
    "## Description"
   ]
  },
  {
   "cell_type": "markdown",
   "metadata": {},
   "source": [
    "In an OLS regression model where\n",
    "\n",
    "$Y_i = \\beta_0 + \\beta_1 X_i + \\epsilon_i$ for $i = 0, 1, \\ldots, n$\n",
    "\n",
    "we assume the error terms $\\epsilon_1, \\epsilon_2, \\ldots, \\epsilon_n$ are iid and normally distributed with a mean of 0 and have constant variance, $\\epsilon_i$ ~ $N(0, \\sigma^2)$ for all $i$\n",
    "\n",
    "If the assumption is true, then we say this sequence of error terms are **homoscedastic**. However, if the empirical data shows us that the variance of error terms are **not** constant, then we decide the sequence is **heteroscedastic**."
   ]
  },
  {
   "cell_type": "markdown",
   "metadata": {},
   "source": [
    "## Demonstration and Diagram"
   ]
  },
  {
   "cell_type": "code",
   "execution_count": 114,
   "metadata": {},
   "outputs": [],
   "source": [
    "# Define our functions to create simulated values\n",
    "\n",
    "import random\n",
    "import matplotlib.pyplot as plt\n",
    "random.seed(314)  # fix seed for reproducibility purposes\n",
    "\n",
    "def genHetEpsilon(f, x):\n",
    "    \"\"\"Generates a normally distributed error term with mean 0 and variance a function of x,\n",
    "    var(epsilon) = f(x)\n",
    "\n",
    "    Args:\n",
    "        f (function): a function to be applied on x\n",
    "        x (float): represents an observation of a predictor variable X\n",
    "    \"\"\"\n",
    "    var = f(x)\n",
    "    return random.normalvariate(0, f(x)**0.5)\n",
    "\n",
    "x_arr = [random.uniform(0, 100) for i in range(100)]\n",
    "\n",
    "def genyValues(x_arr, f, beta_0, beta_1):\n",
    "    \"\"\"Generates y values as a linear function of x values \n",
    "    from x_arr with heteroscedastic error terms.\n",
    "    \n",
    "    y = beta_0 + beta_1 * x + epsilon\n",
    "\n",
    "    Args:\n",
    "        x_arr (list): a list of values, representing draws from a predictor variable X\n",
    "        f (function): a function to be applied on x to generate variance of error terms\n",
    "        beta_0 (float): intercept coefficient\n",
    "        beta_1 (float): slope coefficient\n",
    "    \"\"\"\n",
    "    return [beta_0 + beta_1*x + genHetEpsilon(f, x) for x in x_arr]\n",
    "\n",
    "def plotOLS(x_arr):\n",
    "    \"\"\"Create a scatterplot of x_arr and fitted values\n",
    "\n",
    "    Args:\n",
    "        x_arr (list): an array of numbers\n",
    "    \"\"\"\n",
    "    fig, ax = plt.subplots(figsize=(10, 6))\n",
    "    ax.scatter(x_arr, genyValues(x_arr, lambda x: x**2, 10, 1), label=r\"$(x_i, y_i): y_i = \\beta_0 + \\beta_1 x_i + \\epsilon_i$\")\n",
    "    ax.set(title=\"OLS Scatterplot with Heteroscedasticity\")\n",
    "    ax.set_xlabel(r\"$x_i$\", fontsize=16)\n",
    "    ax.set_ylabel(r\"$y_i$\", fontsize=16)\n",
    "    ax.legend()\n",
    "    return fig, ax"
   ]
  },
  {
   "cell_type": "code",
   "execution_count": 115,
   "metadata": {},
   "outputs": [
    {
     "data": {
      "text/plain": [
       "(<Figure size 720x432 with 1 Axes>,\n",
       " <Axes: title={'center': 'OLS Scatterplot with Heteroscedasticity'}, xlabel='$x_i$', ylabel='$y_i$'>)"
      ]
     },
     "execution_count": 115,
     "metadata": {},
     "output_type": "execute_result"
    },
    {
     "data": {
      "image/png": "[encoded data removed]",
      "text/plain": [
       "<Figure size 720x432 with 1 Axes>"
      ]
     },
     "metadata": {
      "needs_background": "light"
     },
     "output_type": "display_data"
    }
   ],
   "source": [
    "random.seed(314)  # fix seed for reproducibility purposes\n",
    "\n",
    "# Generate an array of uniform draws between 0 and 100, of length 100 to simulate data; then print\n",
    "x_arr = [random.uniform(0, 100) for i in range(100)]\n",
    "\n",
    "# Plot our values where x values are draws from an independent standard uniform variable X\n",
    "# and y values are draws from a random variable Y where Y_i = beta_0 + beta_1 X_i + epsilon_i\n",
    "plotOLS(x_arr)"
   ]
  },
  {
   "cell_type": "markdown",
   "metadata": {},
   "source": [
    "As we can see, because we defined the variance of simulated error terms as $Var(\\epsilon_i) = x_i^2$, our data has **heteroscedasticity**, showing increasing $Y_i$ variance with increasing $x_i$ values.\n",
    "\n",
    "Therefore, $Var(Y_i)$ has a **monotonic** relationship with $x_i^2$"
   ]
  },
  {
   "cell_type": "markdown",
   "metadata": {},
   "source": [
    "## Diagnosis"
   ]
  },
  {
   "cell_type": "markdown",
   "metadata": {},
   "source": [
    "To decide whether our sequence of random variables is homoscedastic or **heteroscedastic**, we have several options available.\n",
    "\n",
    "* **Scatterplot inspection:** First, while doing an exploratory data analysis, we can just scatterplot the $y$ values against $x$ values and generate a visual. By inspecting the plot, if we observe a cone-like distribution of points, that is spread between points increases with increasing $x$ values, we decide that this distribution of $y$ values show **heteroscedasticity**. However, this method is a little bit subjective and informal.\n",
    "\n",
    "* **Breusch-Pagan Test:** The Breusch-Pagan test is used in statistics to test for **heteroscedasticity** in a linear regression model. This is a chi-square test which assumes variance of error terms $\\sigma^2_i$ have a **linear** relationship with independent variable values $x_i$. Its testing the hypotheses where:\n",
    "\n",
    "$\\qquad H_0:$ The sequence of error terms is **homoscedastic**\n",
    "\n",
    "$\\qquad H_1:$ The sequence of error terms is **heteroscedastic**\n",
    "\n",
    "$\\qquad$ Therefore after conducting the test, if $p < 0.05$, we reject the null hypothesis and decide the sequence of error terms is **heteroscedastic**."
   ]
  },
  {
   "cell_type": "code",
   "execution_count": 116,
   "metadata": {},
   "outputs": [
    {
     "data": {
      "text/html": [
       "<div>\n",
       "<style scoped>\n",
       "    .dataframe tbody tr th:only-of-type {\n",
       "        vertical-align: middle;\n",
       "    }\n",
       "\n",
       "    .dataframe tbody tr th {\n",
       "        vertical-align: top;\n",
       "    }\n",
       "\n",
       "    .dataframe thead th {\n",
       "        text-align: right;\n",
       "    }\n",
       "</style>\n",
       "<table border=\"1\" class=\"dataframe\">\n",
       "  <thead>\n",
       "    <tr style=\"text-align: right;\">\n",
       "      <th></th>\n",
       "      <th>x</th>\n",
       "      <th>y</th>\n",
       "    </tr>\n",
       "  </thead>\n",
       "  <tbody>\n",
       "    <tr>\n",
       "      <th>0</th>\n",
       "      <td>19.643128</td>\n",
       "      <td>33.130547</td>\n",
       "    </tr>\n",
       "    <tr>\n",
       "      <th>1</th>\n",
       "      <td>11.146576</td>\n",
       "      <td>34.833423</td>\n",
       "    </tr>\n",
       "    <tr>\n",
       "      <th>2</th>\n",
       "      <td>0.263876</td>\n",
       "      <td>10.254256</td>\n",
       "    </tr>\n",
       "    <tr>\n",
       "      <th>3</th>\n",
       "      <td>62.813608</td>\n",
       "      <td>-30.016804</td>\n",
       "    </tr>\n",
       "    <tr>\n",
       "      <th>4</th>\n",
       "      <td>23.423162</td>\n",
       "      <td>33.160611</td>\n",
       "    </tr>\n",
       "  </tbody>\n",
       "</table>\n",
       "</div>"
      ],
      "text/plain": [
       "           x          y\n",
       "0  19.643128  33.130547\n",
       "1  11.146576  34.833423\n",
       "2   0.263876  10.254256\n",
       "3  62.813608 -30.016804\n",
       "4  23.423162  33.160611"
      ]
     },
     "execution_count": 116,
     "metadata": {},
     "output_type": "execute_result"
    }
   ],
   "source": [
    "# Import libraries\n",
    "import statsmodels.formula.api as smf\n",
    "import statsmodels.stats.api as sms\n",
    "import pandas as pd\n",
    "import numpy as np\n",
    "random.seed(314)  # fix seed for reproducibility purposes\n",
    "\n",
    "# Generate an array of uniform draws between 0 and 100, of length 50 to simulate data; then print\n",
    "x_arr = [random.uniform(0, 100) for i in range(100)]\n",
    "\n",
    "# Generate simulated y values with beta_0 = 10 and beta_1 = 1, just like above plot\n",
    "y_arr = genyValues(x_arr, lambda x: x**2, 10, 1)\n",
    "\n",
    "# Combine them into a dataframe\n",
    "df = pd.DataFrame(np.array([x_arr, y_arr]).transpose(), columns=[\"x\", \"y\"])\n",
    "df.head()"
   ]
  },
  {
   "cell_type": "code",
   "execution_count": 117,
   "metadata": {},
   "outputs": [
    {
     "data": {
      "text/html": [
       "<table class=\"simpletable\">\n",
       "<caption>OLS Regression Results</caption>\n",
       "<tr>\n",
       "  <th>Dep. Variable:</th>            <td>y</td>        <th>  R-squared:         </th> <td>   0.206</td>\n",
       "</tr>\n",
       "<tr>\n",
       "  <th>Model:</th>                   <td>OLS</td>       <th>  Adj. R-squared:    </th> <td>   0.198</td>\n",
       "</tr>\n",
       "<tr>\n",
       "  <th>Method:</th>             <td>Least Squares</td>  <th>  F-statistic:       </th> <td>   25.38</td>\n",
       "</tr>\n",
       "<tr>\n",
       "  <th>Date:</th>             <td>Tue, 28 Nov 2023</td> <th>  Prob (F-statistic):</th> <td>2.15e-06</td>\n",
       "</tr>\n",
       "<tr>\n",
       "  <th>Time:</th>                 <td>11:58:41</td>     <th>  Log-Likelihood:    </th> <td> -534.67</td>\n",
       "</tr>\n",
       "<tr>\n",
       "  <th>No. Observations:</th>      <td>   100</td>      <th>  AIC:               </th> <td>   1073.</td>\n",
       "</tr>\n",
       "<tr>\n",
       "  <th>Df Residuals:</th>          <td>    98</td>      <th>  BIC:               </th> <td>   1079.</td>\n",
       "</tr>\n",
       "<tr>\n",
       "  <th>Df Model:</th>              <td>     1</td>      <th>                     </th>     <td> </td>   \n",
       "</tr>\n",
       "<tr>\n",
       "  <th>Covariance Type:</th>      <td>nonrobust</td>    <th>                     </th>     <td> </td>   \n",
       "</tr>\n",
       "</table>\n",
       "<table class=\"simpletable\">\n",
       "<tr>\n",
       "      <td></td>         <th>coef</th>     <th>std err</th>      <th>t</th>      <th>P>|t|</th>  <th>[0.025</th>    <th>0.975]</th>  \n",
       "</tr>\n",
       "<tr>\n",
       "  <th>Intercept</th> <td>    9.0287</td> <td>    9.245</td> <td>    0.977</td> <td> 0.331</td> <td>   -9.318</td> <td>   27.375</td>\n",
       "</tr>\n",
       "<tr>\n",
       "  <th>x</th>         <td>    0.9770</td> <td>    0.194</td> <td>    5.038</td> <td> 0.000</td> <td>    0.592</td> <td>    1.362</td>\n",
       "</tr>\n",
       "</table>\n",
       "<table class=\"simpletable\">\n",
       "<tr>\n",
       "  <th>Omnibus:</th>       <td>31.222</td> <th>  Durbin-Watson:     </th> <td>   2.035</td>\n",
       "</tr>\n",
       "<tr>\n",
       "  <th>Prob(Omnibus):</th> <td> 0.000</td> <th>  Jarque-Bera (JB):  </th> <td>  82.790</td>\n",
       "</tr>\n",
       "<tr>\n",
       "  <th>Skew:</th>          <td> 1.083</td> <th>  Prob(JB):          </th> <td>1.05e-18</td>\n",
       "</tr>\n",
       "<tr>\n",
       "  <th>Kurtosis:</th>      <td> 6.896</td> <th>  Cond. No.          </th> <td>    85.9</td>\n",
       "</tr>\n",
       "</table><br/><br/>Notes:<br/>[1] Standard Errors assume that the covariance matrix of the errors is correctly specified."
      ],
      "text/latex": [
       "\\begin{center}\n",
       "\\begin{tabular}{lclc}\n",
       "\\toprule\n",
       "\\textbf{Dep. Variable:}    &        y         & \\textbf{  R-squared:         } &     0.206   \\\\\n",
       "\\textbf{Model:}            &       OLS        & \\textbf{  Adj. R-squared:    } &     0.198   \\\\\n",
       "\\textbf{Method:}           &  Least Squares   & \\textbf{  F-statistic:       } &     25.38   \\\\\n",
       "\\textbf{Date:}             & Tue, 28 Nov 2023 & \\textbf{  Prob (F-statistic):} &  2.15e-06   \\\\\n",
       "\\textbf{Time:}             &     11:58:41     & \\textbf{  Log-Likelihood:    } &   -534.67   \\\\\n",
       "\\textbf{No. Observations:} &         100      & \\textbf{  AIC:               } &     1073.   \\\\\n",
       "\\textbf{Df Residuals:}     &          98      & \\textbf{  BIC:               } &     1079.   \\\\\n",
       "\\textbf{Df Model:}         &           1      & \\textbf{                     } &             \\\\\n",
       "\\textbf{Covariance Type:}  &    nonrobust     & \\textbf{                     } &             \\\\\n",
       "\\bottomrule\n",
       "\\end{tabular}\n",
       "\\begin{tabular}{lcccccc}\n",
       "                   & \\textbf{coef} & \\textbf{std err} & \\textbf{t} & \\textbf{P$> |$t$|$} & \\textbf{[0.025} & \\textbf{0.975]}  \\\\\n",
       "\\midrule\n",
       "\\textbf{Intercept} &       9.0287  &        9.245     &     0.977  &         0.331        &       -9.318    &       27.375     \\\\\n",
       "\\textbf{x}         &       0.9770  &        0.194     &     5.038  &         0.000        &        0.592    &        1.362     \\\\\n",
       "\\bottomrule\n",
       "\\end{tabular}\n",
       "\\begin{tabular}{lclc}\n",
       "\\textbf{Omnibus:}       & 31.222 & \\textbf{  Durbin-Watson:     } &    2.035  \\\\\n",
       "\\textbf{Prob(Omnibus):} &  0.000 & \\textbf{  Jarque-Bera (JB):  } &   82.790  \\\\\n",
       "\\textbf{Skew:}          &  1.083 & \\textbf{  Prob(JB):          } & 1.05e-18  \\\\\n",
       "\\textbf{Kurtosis:}      &  6.896 & \\textbf{  Cond. No.          } &     85.9  \\\\\n",
       "\\bottomrule\n",
       "\\end{tabular}\n",
       "%\\caption{OLS Regression Results}\n",
       "\\end{center}\n",
       "\n",
       "Notes: \\newline\n",
       " [1] Standard Errors assume that the covariance matrix of the errors is correctly specified."
      ],
      "text/plain": [
       "<class 'statsmodels.iolib.summary.Summary'>\n",
       "\"\"\"\n",
       "                            OLS Regression Results                            \n",
       "==============================================================================\n",
       "Dep. Variable:                      y   R-squared:                       0.206\n",
       "Model:                            OLS   Adj. R-squared:                  0.198\n",
       "Method:                 Least Squares   F-statistic:                     25.38\n",
       "Date:                Tue, 28 Nov 2023   Prob (F-statistic):           2.15e-06\n",
       "Time:                        11:58:41   Log-Likelihood:                -534.67\n",
       "No. Observations:                 100   AIC:                             1073.\n",
       "Df Residuals:                      98   BIC:                             1079.\n",
       "Df Model:                           1                                         \n",
       "Covariance Type:            nonrobust                                         \n",
       "==============================================================================\n",
       "                 coef    std err          t      P>|t|      [0.025      0.975]\n",
       "------------------------------------------------------------------------------\n",
       "Intercept      9.0287      9.245      0.977      0.331      -9.318      27.375\n",
       "x              0.9770      0.194      5.038      0.000       0.592       1.362\n",
       "==============================================================================\n",
       "Omnibus:                       31.222   Durbin-Watson:                   2.035\n",
       "Prob(Omnibus):                  0.000   Jarque-Bera (JB):               82.790\n",
       "Skew:                           1.083   Prob(JB):                     1.05e-18\n",
       "Kurtosis:                       6.896   Cond. No.                         85.9\n",
       "==============================================================================\n",
       "\n",
       "Notes:\n",
       "[1] Standard Errors assume that the covariance matrix of the errors is correctly specified.\n",
       "\"\"\""
      ]
     },
     "execution_count": 117,
     "metadata": {},
     "output_type": "execute_result"
    }
   ],
   "source": [
    "# Fit an OLS model to our dataframe\n",
    "model = smf.ols(\"y ~ x\", df).fit()\n",
    "model.summary()"
   ]
  },
  {
   "cell_type": "code",
   "execution_count": 118,
   "metadata": {},
   "outputs": [
    {
     "data": {
      "text/html": [
       "<div>\n",
       "<style scoped>\n",
       "    .dataframe tbody tr th:only-of-type {\n",
       "        vertical-align: middle;\n",
       "    }\n",
       "\n",
       "    .dataframe tbody tr th {\n",
       "        vertical-align: top;\n",
       "    }\n",
       "\n",
       "    .dataframe thead th {\n",
       "        text-align: right;\n",
       "    }\n",
       "</style>\n",
       "<table border=\"1\" class=\"dataframe\">\n",
       "  <thead>\n",
       "    <tr style=\"text-align: right;\">\n",
       "      <th></th>\n",
       "      <th>Values</th>\n",
       "    </tr>\n",
       "  </thead>\n",
       "  <tbody>\n",
       "    <tr>\n",
       "      <th>Lagrange multiplier statistic</th>\n",
       "      <td>2.688072e+01</td>\n",
       "    </tr>\n",
       "    <tr>\n",
       "      <th>p-value</th>\n",
       "      <td>2.164071e-07</td>\n",
       "    </tr>\n",
       "    <tr>\n",
       "      <th>f-value</th>\n",
       "      <td>3.602758e+01</td>\n",
       "    </tr>\n",
       "    <tr>\n",
       "      <th>f p-value</th>\n",
       "      <td>3.288120e-08</td>\n",
       "    </tr>\n",
       "  </tbody>\n",
       "</table>\n",
       "</div>"
      ],
      "text/plain": [
       "                                     Values\n",
       "Lagrange multiplier statistic  2.688072e+01\n",
       "p-value                        2.164071e-07\n",
       "f-value                        3.602758e+01\n",
       "f p-value                      3.288120e-08"
      ]
     },
     "execution_count": 118,
     "metadata": {},
     "output_type": "execute_result"
    }
   ],
   "source": [
    "# Breusch-Pagan test\n",
    "\n",
    "# Name our result parameters for the test\n",
    "name = [\"Lagrange multiplier statistic\", \"p-value\", \"f-value\", \"f p-value\"]\n",
    "\n",
    "# Fit residuals (random draws of epsilon) against our exogenous variable x values with Breusch-Pagan\n",
    "test = sms.het_breuschpagan(model.resid, model.model.exog)\n",
    "\n",
    "# Construct a dataframe of results\n",
    "pd.DataFrame(test, index=name, columns=[\"Values\"])"
   ]
  },
  {
   "cell_type": "markdown",
   "metadata": {},
   "source": [
    "Because $p << 0.05$, we decide with significant confidence that our error terms **does not** have equal variances and our data shows **heteroscedasticity**."
   ]
  },
  {
   "cell_type": "markdown",
   "metadata": {},
   "source": [
    "## Damage"
   ]
  },
  {
   "cell_type": "markdown",
   "metadata": {},
   "source": [
    "Not accounting for **heteroscedastic** error terms and wrongly assuming all of them have the same variance may result in significant problems:\n",
    "\n",
    "* **Poor Model Fit and Predictive Power:** A model that assumes homoscedasticity when the data is heteroscedastic may have poor explanatory and predictive power. This is because it may fail to capture the underlying structure and variability in the data.\n",
    "\n",
    "* **Misleading Statistical Inference:** Standard statistical tests (like t-tests or F-tests) rely on assumptions of constant variance. Heteroscedasticity can lead to an underestimation or overestimation of the standard errors of coefficient estimates, resulting in misleading conclusions about the statistical significance of variables.\n",
    "\n",
    "* **Inaccurate Estimations:** Models assuming homoscedasticity, such as OLS regression, may produce inefficient, biased, or inconsistent estimations of parameters. This inaccuracy can be particularly problematic in regression models, where heteroscedasticity can lead to biased and inconsistent estimates of regression coefficients.\n",
    "\n",
    "* **Compromised Risk Assessment:** In financial contexts, where assessing and managing risk is crucial, heteroscedasticity often indicates that the risk (variance) changes over time or across different levels of an explanatory variable. Ignoring this can lead to underestimating or overestimating risk, which can have significant financial implications."
   ]
  },
  {
   "cell_type": "markdown",
   "metadata": {},
   "source": [
    "## Directions"
   ]
  },
  {
   "cell_type": "markdown",
   "metadata": {},
   "source": [
    "After conducting a heteroscedasticity test such as **Breusch-Pagan** or **White** and deciding our data shows heteroscedasticity; we can move on to solve the problem.\n",
    "\n",
    "A good way to handle heteroscedasticity is conducting a **Weighted Least Squares (WLS)** regression. In **WLS**, we can assign smaller weights to points where absolute value of the residuals are large (meaning error terms should have high variance) and assign larger weights to points where absolute value of the residuals are small. This means that the <u> weight $w_{i}$ will be inversely proportional to the variance of error term $Var(\\epsilon_i)$ </u>:\n",
    "\n",
    "$ \\mathrm{Var}(\\epsilon_{i}) = \\sigma_{i}^{2} = \\Large\\frac{\\sigma ^{2}}{w_{i}} $\n",
    "\n",
    "\n",
    "\n",
    "Moreover, if we have a statistically significant $p$ value from a Breusch-Pagan test, we can estimate the variance of error terms $\\hat{Var(\\epsilon_i)} = \\hat{\\sigma_i^2}$ as a **linear function** of observed exogenous variable values where:\n",
    "\n",
    "$\\hat{\\sigma_i^2} = \\gamma_0 + \\gamma_1 x_i$"
   ]
  },
  {
   "cell_type": "markdown",
   "metadata": {},
   "source": [
    "To calculate our weight estimates, we first conduct an OLS regression and calculate our coefficient estimates $\\beta_0, \\beta_1$. We then fit our model and get residual values such that:\n",
    "\n",
    "$r_i = y_i - \\hat{y_i} = y_i - (\\hat{\\beta_0} + \\hat{\\beta_1} x_i) $\n",
    "\n",
    "where $r_i$ is the residual value and $\\hat{\\beta_0}, \\hat{\\beta_1}$ are our coefficient estimates. Because we can think of $r_i^2$ as the observed value of the true variance $\\sigma_i^2$, we can model residual values as a linear function of $x_i$ by using observed $r_i$ values from sample:\n",
    "\n",
    "$ Var(\\epsilon_i) = \\sigma_i^2 = r_i^2 = \\gamma_0 + \\gamma_1 x_i + u_i$\n",
    "\n",
    "where the objective function to be minimized is RSS: the residual sum of squares but here the residuals are $k_i = r_i^2 - \\hat{r_i^2}$ and **not** the same with $r_i$.\n",
    "\n",
    "$RSS(\\beta_0, \\beta_1) = \\sum_{i=1}^n k_i^2 = \\sum_{i=1}^n (r_i^2 - \\hat{r_i^2})^2 = \\sum_{i=1}^n (r_i^2 - (\\gamma_0 + \\gamma_1 x_i))^2 $"
   ]
  },
  {
   "cell_type": "markdown",
   "metadata": {},
   "source": [
    "After we solve the minimization problem by setting the gradient to $\\bm{0}$, we get $\\hat{\\gamma_0}, \\hat{\\gamma_1}$ coefficient estimates. Then:\n",
    "\n",
    "$ \\hat{r_i^2} = \\hat{\\gamma_0} + \\hat{\\gamma_1} x_i = \\hat{\\sigma_i^2} $\n",
    "\n",
    "And thus we have our estimated $\\sigma_i^2$ values. After this, we can choose a constant $\\sigma_2$ such as $\\sigma_2 = 1$ and calculate our weights $w_i$:\n",
    "\n",
    "$w_i = \\Large\\frac{1}{\\hat{\\sigma_i^2}}$"
   ]
  },
  {
   "cell_type": "markdown",
   "metadata": {},
   "source": [
    "After we have our weights, we fit our WLS regression model such that our objective function to minimize is the following weighted residual sum of squares:\n",
    "\n",
    "$ RSS(\\beta_0, \\beta_1) = \\sum_{i=1}^n w_i r_i^2 = \\sum_{i=1}^n w_i (y_i - (\\beta_0 + \\beta_1 x_i))^2 $"
   ]
  },
  {
   "cell_type": "markdown",
   "metadata": {},
   "source": [
    "Solving the minimization problem, we get new $\\hat{\\beta_0}, \\hat{\\beta_1}$ coefficient estimates for our WLS model and complete our fitting with the linear regression function:\n",
    "\n",
    "$\\hat{y_i} = \\hat{\\beta_0} + \\hat{\\beta_1} x_i $"
   ]
  },
  {
   "cell_type": "markdown",
   "metadata": {},
   "source": [
    "We can do all of these steps in Python using statsmodels module:"
   ]
  },
  {
   "cell_type": "code",
   "execution_count": 119,
   "metadata": {},
   "outputs": [],
   "source": [
    "# Libraries\n",
    "import matplotlib.pyplot as plt\n",
    "import numpy as np\n",
    "import pandas as pd\n",
    "import statsmodels.api as sm\n",
    "import statsmodels.formula.api as smf\n",
    "import statsmodels.stats.api as sms\n",
    "import random"
   ]
  },
  {
   "cell_type": "code",
   "execution_count": 120,
   "metadata": {},
   "outputs": [
    {
     "data": {
      "text/html": [
       "<div>\n",
       "<style scoped>\n",
       "    .dataframe tbody tr th:only-of-type {\n",
       "        vertical-align: middle;\n",
       "    }\n",
       "\n",
       "    .dataframe tbody tr th {\n",
       "        vertical-align: top;\n",
       "    }\n",
       "\n",
       "    .dataframe thead th {\n",
       "        text-align: right;\n",
       "    }\n",
       "</style>\n",
       "<table border=\"1\" class=\"dataframe\">\n",
       "  <thead>\n",
       "    <tr style=\"text-align: right;\">\n",
       "      <th></th>\n",
       "      <th>x</th>\n",
       "      <th>y</th>\n",
       "    </tr>\n",
       "  </thead>\n",
       "  <tbody>\n",
       "    <tr>\n",
       "      <th>0</th>\n",
       "      <td>19.643128</td>\n",
       "      <td>33.130547</td>\n",
       "    </tr>\n",
       "    <tr>\n",
       "      <th>1</th>\n",
       "      <td>11.146576</td>\n",
       "      <td>34.833423</td>\n",
       "    </tr>\n",
       "    <tr>\n",
       "      <th>2</th>\n",
       "      <td>0.263876</td>\n",
       "      <td>10.254256</td>\n",
       "    </tr>\n",
       "    <tr>\n",
       "      <th>3</th>\n",
       "      <td>62.813608</td>\n",
       "      <td>-30.016804</td>\n",
       "    </tr>\n",
       "    <tr>\n",
       "      <th>4</th>\n",
       "      <td>23.423162</td>\n",
       "      <td>33.160611</td>\n",
       "    </tr>\n",
       "  </tbody>\n",
       "</table>\n",
       "</div>"
      ],
      "text/plain": [
       "           x          y\n",
       "0  19.643128  33.130547\n",
       "1  11.146576  34.833423\n",
       "2   0.263876  10.254256\n",
       "3  62.813608 -30.016804\n",
       "4  23.423162  33.160611"
      ]
     },
     "execution_count": 120,
     "metadata": {},
     "output_type": "execute_result"
    }
   ],
   "source": [
    "random.seed(314)  # fix seed for reproducibility purposes\n",
    "# Generate the same x and y values we used for Breusch-Pagan test\n",
    "x_arr = [random.uniform(0, 100) for i in range(100)]\n",
    "y_arr = genyValues(x_arr, lambda x: x**2, 10, 1)\n",
    "\n",
    "# Combine them into a dataframe\n",
    "df = pd.DataFrame(np.array([x_arr, y_arr]).transpose(), columns=[\"x\", \"y\"])\n",
    "df.head()"
   ]
  },
  {
   "cell_type": "code",
   "execution_count": 121,
   "metadata": {},
   "outputs": [
    {
     "data": {
      "text/html": [
       "<table class=\"simpletable\">\n",
       "<caption>OLS Regression Results</caption>\n",
       "<tr>\n",
       "  <th>Dep. Variable:</th>            <td>y</td>        <th>  R-squared:         </th> <td>   0.206</td>\n",
       "</tr>\n",
       "<tr>\n",
       "  <th>Model:</th>                   <td>OLS</td>       <th>  Adj. R-squared:    </th> <td>   0.198</td>\n",
       "</tr>\n",
       "<tr>\n",
       "  <th>Method:</th>             <td>Least Squares</td>  <th>  F-statistic:       </th> <td>   25.38</td>\n",
       "</tr>\n",
       "<tr>\n",
       "  <th>Date:</th>             <td>Tue, 28 Nov 2023</td> <th>  Prob (F-statistic):</th> <td>2.15e-06</td>\n",
       "</tr>\n",
       "<tr>\n",
       "  <th>Time:</th>                 <td>11:58:41</td>     <th>  Log-Likelihood:    </th> <td> -534.67</td>\n",
       "</tr>\n",
       "<tr>\n",
       "  <th>No. Observations:</th>      <td>   100</td>      <th>  AIC:               </th> <td>   1073.</td>\n",
       "</tr>\n",
       "<tr>\n",
       "  <th>Df Residuals:</th>          <td>    98</td>      <th>  BIC:               </th> <td>   1079.</td>\n",
       "</tr>\n",
       "<tr>\n",
       "  <th>Df Model:</th>              <td>     1</td>      <th>                     </th>     <td> </td>   \n",
       "</tr>\n",
       "<tr>\n",
       "  <th>Covariance Type:</th>      <td>nonrobust</td>    <th>                     </th>     <td> </td>   \n",
       "</tr>\n",
       "</table>\n",
       "<table class=\"simpletable\">\n",
       "<tr>\n",
       "      <td></td>         <th>coef</th>     <th>std err</th>      <th>t</th>      <th>P>|t|</th>  <th>[0.025</th>    <th>0.975]</th>  \n",
       "</tr>\n",
       "<tr>\n",
       "  <th>Intercept</th> <td>    9.0287</td> <td>    9.245</td> <td>    0.977</td> <td> 0.331</td> <td>   -9.318</td> <td>   27.375</td>\n",
       "</tr>\n",
       "<tr>\n",
       "  <th>x</th>         <td>    0.9770</td> <td>    0.194</td> <td>    5.038</td> <td> 0.000</td> <td>    0.592</td> <td>    1.362</td>\n",
       "</tr>\n",
       "</table>\n",
       "<table class=\"simpletable\">\n",
       "<tr>\n",
       "  <th>Omnibus:</th>       <td>31.222</td> <th>  Durbin-Watson:     </th> <td>   2.035</td>\n",
       "</tr>\n",
       "<tr>\n",
       "  <th>Prob(Omnibus):</th> <td> 0.000</td> <th>  Jarque-Bera (JB):  </th> <td>  82.790</td>\n",
       "</tr>\n",
       "<tr>\n",
       "  <th>Skew:</th>          <td> 1.083</td> <th>  Prob(JB):          </th> <td>1.05e-18</td>\n",
       "</tr>\n",
       "<tr>\n",
       "  <th>Kurtosis:</th>      <td> 6.896</td> <th>  Cond. No.          </th> <td>    85.9</td>\n",
       "</tr>\n",
       "</table><br/><br/>Notes:<br/>[1] Standard Errors assume that the covariance matrix of the errors is correctly specified."
      ],
      "text/latex": [
       "\\begin{center}\n",
       "\\begin{tabular}{lclc}\n",
       "\\toprule\n",
       "\\textbf{Dep. Variable:}    &        y         & \\textbf{  R-squared:         } &     0.206   \\\\\n",
       "\\textbf{Model:}            &       OLS        & \\textbf{  Adj. R-squared:    } &     0.198   \\\\\n",
       "\\textbf{Method:}           &  Least Squares   & \\textbf{  F-statistic:       } &     25.38   \\\\\n",
       "\\textbf{Date:}             & Tue, 28 Nov 2023 & \\textbf{  Prob (F-statistic):} &  2.15e-06   \\\\\n",
       "\\textbf{Time:}             &     11:58:41     & \\textbf{  Log-Likelihood:    } &   -534.67   \\\\\n",
       "\\textbf{No. Observations:} &         100      & \\textbf{  AIC:               } &     1073.   \\\\\n",
       "\\textbf{Df Residuals:}     &          98      & \\textbf{  BIC:               } &     1079.   \\\\\n",
       "\\textbf{Df Model:}         &           1      & \\textbf{                     } &             \\\\\n",
       "\\textbf{Covariance Type:}  &    nonrobust     & \\textbf{                     } &             \\\\\n",
       "\\bottomrule\n",
       "\\end{tabular}\n",
       "\\begin{tabular}{lcccccc}\n",
       "                   & \\textbf{coef} & \\textbf{std err} & \\textbf{t} & \\textbf{P$> |$t$|$} & \\textbf{[0.025} & \\textbf{0.975]}  \\\\\n",
       "\\midrule\n",
       "\\textbf{Intercept} &       9.0287  &        9.245     &     0.977  &         0.331        &       -9.318    &       27.375     \\\\\n",
       "\\textbf{x}         &       0.9770  &        0.194     &     5.038  &         0.000        &        0.592    &        1.362     \\\\\n",
       "\\bottomrule\n",
       "\\end{tabular}\n",
       "\\begin{tabular}{lclc}\n",
       "\\textbf{Omnibus:}       & 31.222 & \\textbf{  Durbin-Watson:     } &    2.035  \\\\\n",
       "\\textbf{Prob(Omnibus):} &  0.000 & \\textbf{  Jarque-Bera (JB):  } &   82.790  \\\\\n",
       "\\textbf{Skew:}          &  1.083 & \\textbf{  Prob(JB):          } & 1.05e-18  \\\\\n",
       "\\textbf{Kurtosis:}      &  6.896 & \\textbf{  Cond. No.          } &     85.9  \\\\\n",
       "\\bottomrule\n",
       "\\end{tabular}\n",
       "%\\caption{OLS Regression Results}\n",
       "\\end{center}\n",
       "\n",
       "Notes: \\newline\n",
       " [1] Standard Errors assume that the covariance matrix of the errors is correctly specified."
      ],
      "text/plain": [
       "<class 'statsmodels.iolib.summary.Summary'>\n",
       "\"\"\"\n",
       "                            OLS Regression Results                            \n",
       "==============================================================================\n",
       "Dep. Variable:                      y   R-squared:                       0.206\n",
       "Model:                            OLS   Adj. R-squared:                  0.198\n",
       "Method:                 Least Squares   F-statistic:                     25.38\n",
       "Date:                Tue, 28 Nov 2023   Prob (F-statistic):           2.15e-06\n",
       "Time:                        11:58:41   Log-Likelihood:                -534.67\n",
       "No. Observations:                 100   AIC:                             1073.\n",
       "Df Residuals:                      98   BIC:                             1079.\n",
       "Df Model:                           1                                         \n",
       "Covariance Type:            nonrobust                                         \n",
       "==============================================================================\n",
       "                 coef    std err          t      P>|t|      [0.025      0.975]\n",
       "------------------------------------------------------------------------------\n",
       "Intercept      9.0287      9.245      0.977      0.331      -9.318      27.375\n",
       "x              0.9770      0.194      5.038      0.000       0.592       1.362\n",
       "==============================================================================\n",
       "Omnibus:                       31.222   Durbin-Watson:                   2.035\n",
       "Prob(Omnibus):                  0.000   Jarque-Bera (JB):               82.790\n",
       "Skew:                           1.083   Prob(JB):                     1.05e-18\n",
       "Kurtosis:                       6.896   Cond. No.                         85.9\n",
       "==============================================================================\n",
       "\n",
       "Notes:\n",
       "[1] Standard Errors assume that the covariance matrix of the errors is correctly specified.\n",
       "\"\"\""
      ]
     },
     "execution_count": 121,
     "metadata": {},
     "output_type": "execute_result"
    }
   ],
   "source": [
    "# Preliminary OLS regression to get residuals for weights\n",
    "model_ols = smf.ols(\"y ~ x\", df).fit()\n",
    "model_ols.summary()  # Note that R^2 = 0.206"
   ]
  },
  {
   "cell_type": "code",
   "execution_count": 122,
   "metadata": {},
   "outputs": [
    {
     "data": {
      "text/html": [
       "<div>\n",
       "<style scoped>\n",
       "    .dataframe tbody tr th:only-of-type {\n",
       "        vertical-align: middle;\n",
       "    }\n",
       "\n",
       "    .dataframe tbody tr th {\n",
       "        vertical-align: top;\n",
       "    }\n",
       "\n",
       "    .dataframe thead th {\n",
       "        text-align: right;\n",
       "    }\n",
       "</style>\n",
       "<table border=\"1\" class=\"dataframe\">\n",
       "  <thead>\n",
       "    <tr style=\"text-align: right;\">\n",
       "      <th></th>\n",
       "      <th>x</th>\n",
       "      <th>y</th>\n",
       "      <th>logresid2</th>\n",
       "      <th>estimated_sigma2</th>\n",
       "      <th>weights</th>\n",
       "    </tr>\n",
       "  </thead>\n",
       "  <tbody>\n",
       "    <tr>\n",
       "      <th>0</th>\n",
       "      <td>19.643128</td>\n",
       "      <td>33.130547</td>\n",
       "      <td>3.183057</td>\n",
       "      <td>25.727369</td>\n",
       "      <td>0.038869</td>\n",
       "    </tr>\n",
       "    <tr>\n",
       "      <th>1</th>\n",
       "      <td>11.146576</td>\n",
       "      <td>34.833423</td>\n",
       "      <td>5.404721</td>\n",
       "      <td>11.740868</td>\n",
       "      <td>0.085173</td>\n",
       "    </tr>\n",
       "    <tr>\n",
       "      <th>2</th>\n",
       "      <td>0.263876</td>\n",
       "      <td>10.254256</td>\n",
       "      <td>-0.064553</td>\n",
       "      <td>4.298581</td>\n",
       "      <td>0.232635</td>\n",
       "    </tr>\n",
       "    <tr>\n",
       "      <th>3</th>\n",
       "      <td>62.813608</td>\n",
       "      <td>-30.016804</td>\n",
       "      <td>9.218569</td>\n",
       "      <td>1384.993086</td>\n",
       "      <td>0.000722</td>\n",
       "    </tr>\n",
       "    <tr>\n",
       "      <th>4</th>\n",
       "      <td>23.423162</td>\n",
       "      <td>33.160611</td>\n",
       "      <td>0.444124</td>\n",
       "      <td>36.472655</td>\n",
       "      <td>0.027418</td>\n",
       "    </tr>\n",
       "  </tbody>\n",
       "</table>\n",
       "</div>"
      ],
      "text/plain": [
       "           x          y  logresid2  estimated_sigma2   weights\n",
       "0  19.643128  33.130547   3.183057         25.727369  0.038869\n",
       "1  11.146576  34.833423   5.404721         11.740868  0.085173\n",
       "2   0.263876  10.254256  -0.064553          4.298581  0.232635\n",
       "3  62.813608 -30.016804   9.218569       1384.993086  0.000722\n",
       "4  23.423162  33.160611   0.444124         36.472655  0.027418"
      ]
     },
     "execution_count": 122,
     "metadata": {},
     "output_type": "execute_result"
    }
   ],
   "source": [
    "# Add our newly created residuals to dataframe\n",
    "\n",
    "# transforming by adding small constant (to avoid log of zero) and taking log\n",
    "df[\"logresid2\"] = np.log(model_ols.resid ** 2 + 0.001)\n",
    "\n",
    "# Fit squared residuals against x values to estimate error term variance sigma^2\n",
    "model_estsigma2 = smf.ols(\"logresid2 ~ x\", df).fit()\n",
    "\n",
    "# Get predicted var(e_i) values\n",
    "df[\"estimated_sigma2\"] = np.exp(model_estsigma2.fittedvalues)\n",
    "\n",
    "# Create weights array with w_i = 1/r_i^2, \n",
    "# where r_i^2 is our estimate of error term variance sigma_i^2\n",
    "df[\"weights\"] = df[\"estimated_sigma2\"] ** -1\n",
    "\n",
    "# Print dataframe\n",
    "df.head()"
   ]
  },
  {
   "cell_type": "code",
   "execution_count": 123,
   "metadata": {},
   "outputs": [
    {
     "data": {
      "text/html": [
       "<table class=\"simpletable\">\n",
       "<caption>WLS Regression Results</caption>\n",
       "<tr>\n",
       "  <th>Dep. Variable:</th>            <td>y</td>        <th>  R-squared:         </th> <td>   0.406</td>\n",
       "</tr>\n",
       "<tr>\n",
       "  <th>Model:</th>                   <td>WLS</td>       <th>  Adj. R-squared:    </th> <td>   0.399</td>\n",
       "</tr>\n",
       "<tr>\n",
       "  <th>Method:</th>             <td>Least Squares</td>  <th>  F-statistic:       </th> <td>   66.85</td>\n",
       "</tr>\n",
       "<tr>\n",
       "  <th>Date:</th>             <td>Tue, 28 Nov 2023</td> <th>  Prob (F-statistic):</th> <td>1.06e-12</td>\n",
       "</tr>\n",
       "<tr>\n",
       "  <th>Time:</th>                 <td>11:58:41</td>     <th>  Log-Likelihood:    </th> <td> -488.36</td>\n",
       "</tr>\n",
       "<tr>\n",
       "  <th>No. Observations:</th>      <td>   100</td>      <th>  AIC:               </th> <td>   980.7</td>\n",
       "</tr>\n",
       "<tr>\n",
       "  <th>Df Residuals:</th>          <td>    98</td>      <th>  BIC:               </th> <td>   985.9</td>\n",
       "</tr>\n",
       "<tr>\n",
       "  <th>Df Model:</th>              <td>     1</td>      <th>                     </th>     <td> </td>   \n",
       "</tr>\n",
       "<tr>\n",
       "  <th>Covariance Type:</th>      <td>nonrobust</td>    <th>                     </th>     <td> </td>   \n",
       "</tr>\n",
       "</table>\n",
       "<table class=\"simpletable\">\n",
       "<tr>\n",
       "    <td></td>       <th>coef</th>     <th>std err</th>      <th>t</th>      <th>P>|t|</th>  <th>[0.025</th>    <th>0.975]</th>  \n",
       "</tr>\n",
       "<tr>\n",
       "  <th>const</th> <td>    9.6326</td> <td>    1.751</td> <td>    5.500</td> <td> 0.000</td> <td>    6.157</td> <td>   13.108</td>\n",
       "</tr>\n",
       "<tr>\n",
       "  <th>x</th>     <td>    1.0041</td> <td>    0.123</td> <td>    8.176</td> <td> 0.000</td> <td>    0.760</td> <td>    1.248</td>\n",
       "</tr>\n",
       "</table>\n",
       "<table class=\"simpletable\">\n",
       "<tr>\n",
       "  <th>Omnibus:</th>       <td> 6.742</td> <th>  Durbin-Watson:     </th> <td>   1.671</td>\n",
       "</tr>\n",
       "<tr>\n",
       "  <th>Prob(Omnibus):</th> <td> 0.034</td> <th>  Jarque-Bera (JB):  </th> <td>   7.369</td>\n",
       "</tr>\n",
       "<tr>\n",
       "  <th>Skew:</th>          <td>-0.397</td> <th>  Prob(JB):          </th> <td>  0.0251</td>\n",
       "</tr>\n",
       "<tr>\n",
       "  <th>Kurtosis:</th>      <td> 4.067</td> <th>  Cond. No.          </th> <td>    19.2</td>\n",
       "</tr>\n",
       "</table><br/><br/>Notes:<br/>[1] Standard Errors assume that the covariance matrix of the errors is correctly specified."
      ],
      "text/latex": [
       "\\begin{center}\n",
       "\\begin{tabular}{lclc}\n",
       "\\toprule\n",
       "\\textbf{Dep. Variable:}    &        y         & \\textbf{  R-squared:         } &     0.406   \\\\\n",
       "\\textbf{Model:}            &       WLS        & \\textbf{  Adj. R-squared:    } &     0.399   \\\\\n",
       "\\textbf{Method:}           &  Least Squares   & \\textbf{  F-statistic:       } &     66.85   \\\\\n",
       "\\textbf{Date:}             & Tue, 28 Nov 2023 & \\textbf{  Prob (F-statistic):} &  1.06e-12   \\\\\n",
       "\\textbf{Time:}             &     11:58:41     & \\textbf{  Log-Likelihood:    } &   -488.36   \\\\\n",
       "\\textbf{No. Observations:} &         100      & \\textbf{  AIC:               } &     980.7   \\\\\n",
       "\\textbf{Df Residuals:}     &          98      & \\textbf{  BIC:               } &     985.9   \\\\\n",
       "\\textbf{Df Model:}         &           1      & \\textbf{                     } &             \\\\\n",
       "\\textbf{Covariance Type:}  &    nonrobust     & \\textbf{                     } &             \\\\\n",
       "\\bottomrule\n",
       "\\end{tabular}\n",
       "\\begin{tabular}{lcccccc}\n",
       "               & \\textbf{coef} & \\textbf{std err} & \\textbf{t} & \\textbf{P$> |$t$|$} & \\textbf{[0.025} & \\textbf{0.975]}  \\\\\n",
       "\\midrule\n",
       "\\textbf{const} &       9.6326  &        1.751     &     5.500  &         0.000        &        6.157    &       13.108     \\\\\n",
       "\\textbf{x}     &       1.0041  &        0.123     &     8.176  &         0.000        &        0.760    &        1.248     \\\\\n",
       "\\bottomrule\n",
       "\\end{tabular}\n",
       "\\begin{tabular}{lclc}\n",
       "\\textbf{Omnibus:}       &  6.742 & \\textbf{  Durbin-Watson:     } &    1.671  \\\\\n",
       "\\textbf{Prob(Omnibus):} &  0.034 & \\textbf{  Jarque-Bera (JB):  } &    7.369  \\\\\n",
       "\\textbf{Skew:}          & -0.397 & \\textbf{  Prob(JB):          } &   0.0251  \\\\\n",
       "\\textbf{Kurtosis:}      &  4.067 & \\textbf{  Cond. No.          } &     19.2  \\\\\n",
       "\\bottomrule\n",
       "\\end{tabular}\n",
       "%\\caption{WLS Regression Results}\n",
       "\\end{center}\n",
       "\n",
       "Notes: \\newline\n",
       " [1] Standard Errors assume that the covariance matrix of the errors is correctly specified."
      ],
      "text/plain": [
       "<class 'statsmodels.iolib.summary.Summary'>\n",
       "\"\"\"\n",
       "                            WLS Regression Results                            \n",
       "==============================================================================\n",
       "Dep. Variable:                      y   R-squared:                       0.406\n",
       "Model:                            WLS   Adj. R-squared:                  0.399\n",
       "Method:                 Least Squares   F-statistic:                     66.85\n",
       "Date:                Tue, 28 Nov 2023   Prob (F-statistic):           1.06e-12\n",
       "Time:                        11:58:41   Log-Likelihood:                -488.36\n",
       "No. Observations:                 100   AIC:                             980.7\n",
       "Df Residuals:                      98   BIC:                             985.9\n",
       "Df Model:                           1                                         \n",
       "Covariance Type:            nonrobust                                         \n",
       "==============================================================================\n",
       "                 coef    std err          t      P>|t|      [0.025      0.975]\n",
       "------------------------------------------------------------------------------\n",
       "const          9.6326      1.751      5.500      0.000       6.157      13.108\n",
       "x              1.0041      0.123      8.176      0.000       0.760       1.248\n",
       "==============================================================================\n",
       "Omnibus:                        6.742   Durbin-Watson:                   1.671\n",
       "Prob(Omnibus):                  0.034   Jarque-Bera (JB):                7.369\n",
       "Skew:                          -0.397   Prob(JB):                       0.0251\n",
       "Kurtosis:                       4.067   Cond. No.                         19.2\n",
       "==============================================================================\n",
       "\n",
       "Notes:\n",
       "[1] Standard Errors assume that the covariance matrix of the errors is correctly specified.\n",
       "\"\"\""
      ]
     },
     "execution_count": 123,
     "metadata": {},
     "output_type": "execute_result"
    }
   ],
   "source": [
    "# Fit a WLS regression with our newly calculated weights\n",
    "model_wls = sm.WLS(df[\"y\"], sm.add_constant(df[\"x\"]), df[\"weights\"]).fit()\n",
    "model_wls.summary()  # Note improved R^2 = 0.406"
   ]
  },
  {
   "cell_type": "code",
   "execution_count": 124,
   "metadata": {},
   "outputs": [
    {
     "data": {
      "text/plain": [
       "<matplotlib.legend.Legend at 0x7ff2d21830d0>"
      ]
     },
     "execution_count": 124,
     "metadata": {},
     "output_type": "execute_result"
    },
    {
     "data": {
      "image/png": "[encoded data removed]",
      "text/plain": [
       "<Figure size 720x432 with 1 Axes>"
      ]
     },
     "metadata": {
      "needs_background": "light"
     },
     "output_type": "display_data"
    }
   ],
   "source": [
    "# Plot results\n",
    "fig, ax = plt.subplots(figsize=(10, 6))\n",
    "ax.scatter(df[\"x\"], df[\"y\"])\n",
    "ax.plot(df[\"x\"], model_ols.params[\"Intercept\"] + model_ols.params[\"x\"]*df[\"x\"], \"r-\", label=\"OLS line, $R^2 = 0.206$\")\n",
    "ax.plot(df[\"x\"], model_wls.params[\"const\"] + model_wls.params[\"x\"]*df[\"x\"], \"g-\", label=\"WLS line, $R^2 = 0.406$\")\n",
    "ax.set_title(\"OLS vs WLS regression with heteroscedastic data\")\n",
    "ax.set_xlabel(\"$x_i$\", fontsize=16)\n",
    "ax.set_ylabel(\"$y_i$\", fontsize=16)\n",
    "ax.legend()\n"
   ]
  },
  {
   "cell_type": "markdown",
   "metadata": {},
   "source": [
    "As we can see, by using **WLS** instead of **OLS**, we managed to improve our $R^2$ value significantly; thus handling the problem of heteroscedasticity."
   ]
  }
 ],
 "metadata": {
  "kernelspec": {
   "display_name": "Python 3",
   "language": "python",
   "name": "python3"
  },
  "language_info": {
   "codemirror_mode": {
    "name": "ipython",
    "version": 3
   },
   "file_extension": ".py",
   "mimetype": "text/x-python",
   "name": "python",
   "nbconvert_exporter": "python",
   "pygments_lexer": "ipython3",
   "version": "3.10.5"
  }
 },
 "nbformat": 4,
 "nbformat_minor": 2
}
