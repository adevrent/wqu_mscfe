{
 "cells": [
  {
   "cell_type": "markdown",
   "metadata": {},
   "source": [
    "# **Heteroscedasticity**"
   ]
  },
  {
   "cell_type": "markdown",
   "metadata": {},
   "source": [
    "## Definition"
   ]
  },
  {
   "cell_type": "markdown",
   "metadata": {},
   "source": [
    "Let $\\epsilon_1, \\epsilon_2, \\ldots, \\epsilon_n$ a sequence of random variables where variance of each term is $Var(\\epsilon_i) = \\sigma_i^2$\n",
    "\n",
    "if $\\sigma_i^2 \\neq \\sigma_j^2$ for *some* $(i, j) : i \\neq j$ we say this sequence of random variables does not have constant variance and therefore the sequence is **heteroscedastic**."
   ]
  },
  {
   "cell_type": "markdown",
   "metadata": {},
   "source": [
    "## Description"
   ]
  },
  {
   "cell_type": "markdown",
   "metadata": {},
   "source": [
    "In an OLS regression model where\n",
    "\n",
    "$Y_i = \\beta_0 + \\beta_1 X_i + \\epsilon_i$ for $i = 0, 1, \\ldots, n$\n",
    "\n",
    "we assume the error terms $\\epsilon_1, \\epsilon_2, \\ldots, \\epsilon_n$ are iid and normally distributed with a mean of 0 and have constant variance, $\\epsilon_i$ ~ $N(0, \\sigma^2)$ for all $i$\n",
    "\n",
    "If the assumption is true, then we say this sequence of error terms are **homoscedastic**. However, if the empirical data shows us that the variance of error terms are **not** constant, then we decide the sequence is **heteroscedastic**."
   ]
  },
  {
   "cell_type": "markdown",
   "metadata": {},
   "source": [
    "## Demonstration and Diagram"
   ]
  },
  {
   "cell_type": "code",
   "execution_count": 73,
   "metadata": {},
   "outputs": [],
   "source": [
    "# Define our functions to create simulated values\n",
    "\n",
    "import random\n",
    "import matplotlib.pyplot as plt\n",
    "\n",
    "def genHetEpsilon(f, x):\n",
    "    \"\"\"Generates a normally distributed error term with mean 0 and variance a function of x,\n",
    "    var(epsilon) = f(x)\n",
    "\n",
    "    Args:\n",
    "        f (function): a function to be applied on x\n",
    "        x (float): represents an observation of a predictor variable X\n",
    "    \"\"\"\n",
    "    var = f(x)\n",
    "    return random.normalvariate(0, f(x)**0.5)\n",
    "\n",
    "x_arr = [random.uniform(0, 50) for i in range(100)]\n",
    "\n",
    "def genyValues(x_arr, f, beta_0, beta_1):\n",
    "    \"\"\"Generates y values as a linear function of x values \n",
    "    from x_arr with heteroscedastic error terms.\n",
    "    \n",
    "    y = beta_0 + beta_1 * x + epsilon\n",
    "\n",
    "    Args:\n",
    "        x_arr (list): a list of values, representing draws from a predictor variable X\n",
    "        f (function): a function to be applied on x to generate variance of error terms\n",
    "        beta_0 (float): intercept coefficient\n",
    "        beta_1 (float): slope coefficient\n",
    "    \"\"\"\n",
    "    return [beta_0 + beta_1*x + genHetEpsilon(f, x) for x in x_arr]\n",
    "\n",
    "def plotOLS(x_arr):\n",
    "    \"\"\"Create a scatterplot of x_arr and fitted values\n",
    "\n",
    "    Args:\n",
    "        x_arr (list): an array of numbers\n",
    "    \"\"\"\n",
    "    fig, ax = plt.subplots(figsize=(10, 6))\n",
    "    ax.scatter(x_arr, genyValues(x_arr, lambda x: x**2, 10, 1), label=r\"$(x_i, y_i): y_i = \\beta_0 + \\beta_1 x_i + \\epsilon_i$\")\n",
    "    ax.set(title=\"OLS Scatterplot with Heteroscedasticity\")\n",
    "    ax.set_xlabel(r\"$x_i$\", fontsize=16)\n",
    "    ax.set_ylabel(r\"$y_i$\", fontsize=16)\n",
    "    ax.legend()\n",
    "    return fig, ax"
   ]
  },
  {
   "cell_type": "code",
   "execution_count": 75,
   "metadata": {},
   "outputs": [
    {
     "data": {
      "text/plain": [
       "(<Figure size 720x432 with 1 Axes>,\n",
       " <Axes: title={'center': 'OLS Scatterplot with Heteroscedasticity'}, xlabel='$x_i$', ylabel='$y_i$'>)"
      ]
     },
     "execution_count": 75,
     "metadata": {},
     "output_type": "execute_result"
    },
    {
     "data": {
      "image/png": "[encoded data removed]",
      "text/plain": [
       "<Figure size 720x432 with 1 Axes>"
      ]
     },
     "metadata": {
      "needs_background": "light"
     },
     "output_type": "display_data"
    }
   ],
   "source": [
    "# Generate an array of uniform draws between 0 and 50, of length 100 to simulate data\n",
    "x_arr = [random.uniform(0, 50) for i in range(100)]\n",
    "\n",
    "# Plot our values\n",
    "plotOLS(x_arr)"
   ]
  },
  {
   "cell_type": "markdown",
   "metadata": {},
   "source": [
    "As we can see, because we defined the variance of error terms as $Var(\\epsilon_i) = x_i^2$, our data has **heteroscedasticity**, showing increasing $y_i$ variance with increasing $x_i$ values."
   ]
  }
 ],
 "metadata": {
  "kernelspec": {
   "display_name": "Python 3",
   "language": "python",
   "name": "python3"
  },
  "language_info": {
   "codemirror_mode": {
    "name": "ipython",
    "version": 3
   },
   "file_extension": ".py",
   "mimetype": "text/x-python",
   "name": "python",
   "nbconvert_exporter": "python",
   "pygments_lexer": "ipython3",
   "version": "3.10.5"
  }
 },
 "nbformat": 4,
 "nbformat_minor": 2
}
