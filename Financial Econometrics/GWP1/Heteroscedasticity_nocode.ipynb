{
 "cells": [
  {
   "cell_type": "markdown",
   "metadata": {},
   "source": [
    "# **Heteroscedasticity**"
   ]
  },
  {
   "cell_type": "markdown",
   "metadata": {},
   "source": [
    "## Definition"
   ]
  },
  {
   "cell_type": "markdown",
   "metadata": {},
   "source": [
    "Let $\\epsilon_1, \\epsilon_2, \\ldots, \\epsilon_n$ a sequence of random variables where variance of each term is $Var(\\epsilon_i) = \\sigma_i^2$\n",
    "\n",
    "if $\\sigma_i^2 \\neq \\sigma_j^2$ for *some* $(i, j) : i \\neq j$ we conclude this sequence of random variables does not have constant variance and therefore the sequence is **heteroscedastic**."
   ]
  },
  {
   "cell_type": "markdown",
   "metadata": {},
   "source": [
    "## Description"
   ]
  },
  {
   "cell_type": "markdown",
   "metadata": {},
   "source": [
    "In an OLS regression model where\n",
    "\n",
    "$Y_i = \\beta_0 + \\beta_1 X_i + \\epsilon_i$ for $i = 0, 1, \\ldots, n$\n",
    "\n",
    "we assume the error terms $\\epsilon_1, \\epsilon_2, \\ldots, \\epsilon_n$ are iid and normally distributed with a mean of 0 and have constant variance, $\\epsilon_i$ ~ $N(0, \\sigma^2)$ for all $i$\n",
    "\n",
    "If the assumption is true, then we say this sequence of error terms are **homoscedastic**. However, if the empirical data shows us that the variance of error terms are **not** constant, then we decide the sequence is **heteroscedastic**."
   ]
  },
  {
   "cell_type": "markdown",
   "metadata": {},
   "source": [
    "## Demonstration and Diagram"
   ]
  },
  {
   "attachments": {
    "scatterplot.png": {
     "image/png": "[encoded data removed]"
    }
   },
   "cell_type": "markdown",
   "metadata": {},
   "source": [
    "![scatterplot.png](attachment:scatterplot.png)"
   ]
  },
  {
   "cell_type": "markdown",
   "metadata": {},
   "source": [
    "As we can see, because we defined the variance of simulated error terms as $Var(\\epsilon_i) = x_i^2$, our data has **heteroscedasticity**, showing increasing $Y_i$ variance with increasing $x_i$ values.\n",
    "\n",
    "Therefore, $Var(Y_i)$ has a **monotonic** relationship with $x_i^2$"
   ]
  },
  {
   "cell_type": "markdown",
   "metadata": {},
   "source": [
    "## Diagnosis"
   ]
  },
  {
   "cell_type": "markdown",
   "metadata": {},
   "source": [
    "To decide whether our sequence of random variables is homoscedastic or **heteroscedastic**, we have several options available.\n",
    "\n",
    "* **Scatterplot inspection:** First, while doing an exploratory data analysis, we can just scatterplot the $y$ values against $x$ values and generate a visual. By inspecting the plot, if we observe a cone-like distribution of points, that is spread between points increases with increasing $x$ values, we decide that this distribution of $y$ values show **heteroscedasticity**. However, this method is a little bit subjective and informal.\n",
    "\n",
    "* **Breusch-Pagan Test:** The Breusch-Pagan test is used in statistics to test for **heteroscedasticity** in a linear regression model. This is a chi-square test which assumes variance of error terms $\\sigma^2_i$ have a **linear** relationship with independent variable values $x_i$. Its testing the hypotheses where:\n",
    "\n",
    "$\\qquad H_0:$ The sequence of error terms is **homoscedastic**\n",
    "\n",
    "$\\qquad H_1:$ The sequence of error terms is **heteroscedastic**\n",
    "\n",
    "$\\qquad$ Therefore after conducting the test, if $p < 0.05$, we reject the null hypothesis and decide the sequence of error terms is **heteroscedastic**."
   ]
  },
  {
   "cell_type": "markdown",
   "metadata": {},
   "source": [
    "Because $p << 0.05$, we decide with significant confidence that our error terms **does not** have equal variances and our data shows **heteroscedasticity**."
   ]
  },
  {
   "cell_type": "markdown",
   "metadata": {},
   "source": [
    "## Damage"
   ]
  },
  {
   "cell_type": "markdown",
   "metadata": {},
   "source": [
    "Not accounting for **heteroscedastic** error terms and wrongly assuming all of them have the same variance may result in significant problems:\n",
    "\n",
    "* **Poor Model Fit and Predictive Power:** A model that assumes homoscedasticity when the data is heteroscedastic may have poor explanatory and predictive power. This is because it may fail to capture the underlying structure and variability in the data.\n",
    "\n",
    "* **Misleading Statistical Inference:** Standard statistical tests (like t-tests or F-tests) rely on assumptions of constant variance. Heteroscedasticity can lead to an underestimation or overestimation of the standard errors of coefficient estimates, resulting in misleading conclusions about the statistical significance of variables.\n",
    "\n",
    "* **Inaccurate Estimations:** Models assuming homoscedasticity, such as OLS regression, may produce inefficient, biased, or inconsistent estimations of parameters. This inaccuracy can be particularly problematic in regression models, where heteroscedasticity can lead to biased and inconsistent estimates of regression coefficients.\n",
    "\n",
    "* **Compromised Risk Assessment:** In financial contexts, where assessing and managing risk is crucial, heteroscedasticity often indicates that the risk (variance) changes over time or across different levels of an explanatory variable. Ignoring this can lead to underestimating or overestimating risk, which can have significant financial implications."
   ]
  },
  {
   "cell_type": "markdown",
   "metadata": {},
   "source": [
    "## Directions"
   ]
  },
  {
   "cell_type": "markdown",
   "metadata": {},
   "source": [
    "After conducting a heteroscedasticity test such as **Breusch-Pagan** or **White** and deciding our data shows heteroscedasticity; we can move on to solve the problem.\n",
    "\n",
    "A good way to handle heteroscedasticity is conducting a **Weighted Least Squares (WLS)** regression. In **WLS**, we can assign smaller weights to points where absolute value of the residuals are large (meaning error terms should have high variance) and assign larger weights to points where absolute value of the residuals are small. This means that the <u> weight $w_{i}$ will be inversely proportional to the variance of error term $Var(\\epsilon_i)$ </u>:\n",
    "\n",
    "$ \\mathrm{Var}(\\epsilon_{i}) = \\sigma_{i}^{2} = \\Large\\frac{\\sigma ^{2}}{w_{i}} $\n",
    "\n",
    "\n",
    "\n",
    "Moreover, if we have a statistically significant $p$ value from a Breusch-Pagan test, we can estimate the variance of error terms $\\hat{Var(\\epsilon_i)} = \\hat{\\sigma_i^2}$ as a **linear function** of observed exogenous variable values where:\n",
    "\n",
    "$\\hat{\\sigma_i^2} = \\gamma_0 + \\gamma_1 x_i$"
   ]
  },
  {
   "cell_type": "markdown",
   "metadata": {},
   "source": [
    "To calculate our weight estimates, we first conduct an OLS regression and calculate our coefficient estimates $\\beta_0, \\beta_1$. We then fit our model and get residual values such that:\n",
    "\n",
    "$r_i = y_i - \\hat{y_i} = y_i - (\\hat{\\beta_0} + \\hat{\\beta_1} x_i) $\n",
    "\n",
    "where $r_i$ is the residual value and $\\hat{\\beta_0}, \\hat{\\beta_1}$ are our coefficient estimates. Because we can think of $r_i^2$ as the observed value of the true variance $\\sigma_i^2$, we can model residual values as a linear function of $x_i$ by using observed $r_i$ values from sample:\n",
    "\n",
    "$ Var(\\epsilon_i) = \\sigma_i^2 = r_i^2 = \\gamma_0 + \\gamma_1 x_i + u_i$\n",
    "\n",
    "where the objective function to be minimized is RSS: the residual sum of squares but here the residuals are $k_i = r_i^2 - \\hat{r_i^2}$ and **not** the same with $r_i$.\n",
    "\n",
    "$RSS(\\beta_0, \\beta_1) = \\sum_{i=1}^n k_i^2 = \\sum_{i=1}^n (r_i^2 - \\hat{r_i^2})^2 = \\sum_{i=1}^n (r_i^2 - (\\gamma_0 + \\gamma_1 x_i))^2 $"
   ]
  },
  {
   "cell_type": "markdown",
   "metadata": {},
   "source": [
    "After we solve the minimization problem by setting the gradient to $\\bm{0}$, we get $\\hat{\\gamma_0}, \\hat{\\gamma_1}$ coefficient estimates. Then:\n",
    "\n",
    "$ \\hat{r_i^2} = \\hat{\\gamma_0} + \\hat{\\gamma_1} x_i = \\hat{\\sigma_i^2} $\n",
    "\n",
    "And thus we have our estimated $\\sigma_i^2$ values. After this, we can choose a constant $\\sigma_2$ such as $\\sigma_2 = 1$ and calculate our weights $w_i$:\n",
    "\n",
    "$w_i = \\Large\\frac{1}{\\hat{\\sigma_i^2}}$"
   ]
  },
  {
   "cell_type": "markdown",
   "metadata": {},
   "source": [
    "After we have our weights, we fit our WLS regression model such that our objective function to minimize is the following weighted residual sum of squares:\n",
    "\n",
    "$ RSS(\\beta_0, \\beta_1) = \\sum_{i=1}^n w_i r_i^2 = \\sum_{i=1}^n w_i (y_i - (\\beta_0 + \\beta_1 x_i))^2 $"
   ]
  },
  {
   "cell_type": "markdown",
   "metadata": {},
   "source": [
    "Solving the minimization problem, we get new $\\hat{\\beta_0}, \\hat{\\beta_1}$ coefficient estimates for our WLS model and complete our fitting with the linear regression function:\n",
    "\n",
    "$\\hat{y_i} = \\hat{\\beta_0} + \\hat{\\beta_1} x_i $"
   ]
  },
  {
   "cell_type": "markdown",
   "metadata": {},
   "source": [
    "We can do all of these steps in Python using statsmodels module:"
   ]
  },
  {
   "attachments": {
    "OLS vs WLS.png": {
     "image/png": "[encoded data removed]"
    }
   },
   "cell_type": "markdown",
   "metadata": {},
   "source": [
    "![OLS vs WLS.png](<attachment:OLS vs WLS.png>)"
   ]
  },
  {
   "cell_type": "markdown",
   "metadata": {},
   "source": [
    "As we can see, by using **WLS** instead of **OLS**, we managed to improve our $R^2$ value significantly; thus handling the problem of heteroscedasticity."
   ]
  }
 ],
 "metadata": {
  "kernelspec": {
   "display_name": "Python 3",
   "language": "python",
   "name": "python3"
  },
  "language_info": {
   "codemirror_mode": {
    "name": "ipython",
    "version": 3
   },
   "file_extension": ".py",
   "mimetype": "text/x-python",
   "name": "python",
   "nbconvert_exporter": "python",
   "pygments_lexer": "ipython3",
   "version": "3.10.5"
  }
 },
 "nbformat": 4,
 "nbformat_minor": 2
}
