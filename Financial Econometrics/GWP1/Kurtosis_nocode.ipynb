{
 "cells": [
  {
   "cell_type": "markdown",
   "metadata": {},
   "source": [
    "# **Kurtosis**"
   ]
  },
  {
   "cell_type": "markdown",
   "metadata": {},
   "source": [
    "## Definition"
   ]
  },
  {
   "cell_type": "markdown",
   "metadata": {},
   "source": [
    "**Kurtosis** is a statistical measure used to determine whether the tails of a given distribution are heavier or lighter compared to those of a normal distribution."
   ]
  },
  {
   "cell_type": "markdown",
   "metadata": {},
   "source": [
    "## Description"
   ]
  },
  {
   "cell_type": "markdown",
   "metadata": {},
   "source": [
    "A distribution is said to have a heavy tail if its tails are fatter than those of a normal distribution. This indicates a higher likelihood of extreme values occurring in the dataset.\n",
    "\n",
    "Symmetric distributions are classified based on the shape of their tails. A normal distribution is termed **mesokurtic**. Distributions with fatter tails are known as **leptokurtic**, while those with lighter tails are called **platykurtic**.\n",
    "\n",
    "The formula for kurtosis is :\n",
    "\n",
    "$  \\text{Kurtosis} = \\sum_{i=1}^{n} \\frac{(X_{i}-\\bar{X})^{4}/N}{s^{4}}$\n",
    "\n",
    "Thus, kurtosis is also called the fourth moment of a distribution.\n",
    "\n",
    "In this context, a normal distribution exhibits a kurtosis value of $3$. Distributions with kurtosis greater than $3$ are considered to have fat tails, whereas those with kurtosis less than $3$ have thin tails"
   ]
  },
  {
   "cell_type": "markdown",
   "metadata": {},
   "source": [
    "## Demonstration and Diagram"
   ]
  },
  {
   "attachments": {
    "image.png": {
     "image/png": "[encoded data removed]"
    }
   },
   "cell_type": "markdown",
   "metadata": {},
   "source": [
    "![image.png](attachment:image.png)"
   ]
  },
  {
   "cell_type": "markdown",
   "metadata": {},
   "source": [
    "As can be seen visually, Bitcoin daily log returns show heavier tails compared to normal distribution and thus can be considered a **leptokurtic** distribution."
   ]
  },
  {
   "cell_type": "markdown",
   "metadata": {},
   "source": [
    "## Diagnosis"
   ]
  },
  {
   "cell_type": "markdown",
   "metadata": {},
   "source": [
    "There are several ways for diagnosing kurtosis in a distribution:\n",
    "\n",
    "* **Visual Inspection:** One of the simplest methods is to create a histogram or a density plot of the data. This visual representation can give an immediate sense of whether the distribution has fatter or thinner tails than a normal distribution.\n",
    "\n",
    "* **Kurtosis Coefficient Calculation:** The kurtosis coefficient can be calculated using the fourth moment formula (described above): A kurtosis value of 3 indicates a normal distribution (mesokurtic). Values greater than 3 suggest heavy tails (leptokurtic), and values less than 3 indicate light tails (platykurtic).\n",
    "\n",
    "* **Normality Tests:** While kurtosis is a measure of tail heaviness, it does not solely determine normality. Using normality tests like the Shapiro-Wilk test in conjunction with kurtosis analysis gives a more complete picture of the distribution's characteristics.\n",
    "\n",
    "* **Q-Q Plot:** We can scatterplot our distribution against a normal distribution with same mean and variance, both ordered by quantiles, to check for normality and also whether kurtosis exists or not.\n",
    "\n",
    "Let's use a Q-Q plot to diagnose kurtosis in BTC log returns in Python using statsmodels:"
   ]
  },
  {
   "attachments": {
    "image.png": {
     "image/png": "[encoded data removed]"
    }
   },
   "cell_type": "markdown",
   "metadata": {},
   "source": [
    "![image.png](attachment:image.png)"
   ]
  },
  {
   "cell_type": "markdown",
   "metadata": {},
   "source": [
    "As we can see, our quantiles are not distributed linearly but instead curved on the edges. This means our distribution (BTC daily log returns) have heavy tails and has excess kurtosis."
   ]
  },
  {
   "cell_type": "markdown",
   "metadata": {},
   "source": [
    "## Damage"
   ]
  },
  {
   "cell_type": "markdown",
   "metadata": {},
   "source": [
    "Kurtosis, particularly high kurtosis, can have significant implications in financial analysis and risk management:\n",
    "\n",
    "* **Risk Management:** Standard risk management models often assume normal distributions. When the actual distribution of returns has high kurtosis, these models may not accurately capture the risk, leading to inadequate hedging strategies and potential unexpected losses.\n",
    "\n",
    "* **Portfolio Optimization:** In portfolio optimization, the assumption of normality in return distributions can lead to misaligned risk-return trade-offs. High kurtosis might cause a portfolio to be more prone to extreme losses than anticipated, thereby affecting investment decisions.\n",
    "\n",
    "* **Underestimation of Extreme Events:** High kurtosis, indicative of heavy tails, means that extreme values are more likely than what would be predicted by a normal distribution. In financial contexts, this can lead to the underestimation of the probability and potential impact of rare, extreme events, like market crashes or black swan events.\n",
    "\n",
    "* **Stress Testing and Scenario Analysis:** Financial institutions use stress testing and scenario analyses to gauge potential losses under extreme conditions. If the actual distribution of returns has high kurtosis, these tests might not fully capture the extent of potential extreme outcomes."
   ]
  },
  {
   "cell_type": "markdown",
   "metadata": {},
   "source": [
    "## Directions"
   ]
  },
  {
   "cell_type": "markdown",
   "metadata": {},
   "source": [
    "Addressing the problem of high kurtosis in financial data, especially when modeling financial returns or risks, requires the use of models other than normal distribution based models. These models can better accommodate the heavy tails often observed in financial data. Some of these include:\n",
    "\n",
    "* **Student's t distribution:** Because it has heavier tails than the normal distribution (especially with lower degrees of freedom), Student's t distribution is useful to model usually heavy tailed financial data.\n",
    "\n",
    "* **Copulas:** Useful in modeling the dependence structure between different financial instruments or markets, also allows for different marginal distributions, thus accommodating heavy tails."
   ]
  }
 ],
 "metadata": {
  "kernelspec": {
   "display_name": "Python 3",
   "language": "python",
   "name": "python3"
  },
  "language_info": {
   "codemirror_mode": {
    "name": "ipython",
    "version": 3
   },
   "file_extension": ".py",
   "mimetype": "text/x-python",
   "name": "python",
   "nbconvert_exporter": "python",
   "pygments_lexer": "ipython3",
   "version": "3.10.5"
  }
 },
 "nbformat": 4,
 "nbformat_minor": 2
}
