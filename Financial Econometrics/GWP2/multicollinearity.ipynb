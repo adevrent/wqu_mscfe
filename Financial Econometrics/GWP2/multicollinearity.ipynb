{
 "cells": [
  {
   "cell_type": "markdown",
   "metadata": {},
   "source": [
    "# Multicollinearity"
   ]
  },
  {
   "cell_type": "markdown",
   "metadata": {},
   "source": [
    "## 1) Definition:\n",
    "\n",
    "Define a multivariate linear regression model such that\n",
    "\n",
    "$Y_i = \\beta_0 + \\beta_1 X_{1i} + \\beta_2 X_{2i} + \\cdots + \\beta_p X_{pi} + \\varepsilon_i$ for $i = 1, 2, \\cdots, n$ and $\\varepsilon_i$ ~ $N(0, \\sigma^2)$ for any $i$\n",
    "\n",
    "if $Cov(X_i, X_j) >> 0$ for any $i \\neq j$, we can say that some of the predictor variables are **linearly correlated** and this regression model has **multicolinearity**."
   ]
  },
  {
   "cell_type": "markdown",
   "metadata": {},
   "source": [
    "## 2) Description:\n",
    "\n",
    "Multicollinearity occurs in regression analysis when several predictor variables within a multiple regression model exhibit **strong correlations** with each other. This means that the value of one predictor can be expressed as a linear combination of other predictor variables. This instability hinders the accurate determination of the individual relationships between each predictor and the dependent variable and leads to a decrease in statistical significance of each predictor variable."
   ]
  },
  {
   "cell_type": "markdown",
   "metadata": {},
   "source": [
    "## 3) Demonstration:"
   ]
  },
  {
   "cell_type": "code",
   "execution_count": 12,
   "metadata": {},
   "outputs": [
    {
     "name": "stdout",
     "output_type": "stream",
     "text": [
      "[*********************100%%**********************]  5 of 5 completed\n"
     ]
    },
    {
     "data": {
      "text/html": [
       "<div>\n",
       "<style scoped>\n",
       "    .dataframe tbody tr th:only-of-type {\n",
       "        vertical-align: middle;\n",
       "    }\n",
       "\n",
       "    .dataframe tbody tr th {\n",
       "        vertical-align: top;\n",
       "    }\n",
       "\n",
       "    .dataframe thead th {\n",
       "        text-align: right;\n",
       "    }\n",
       "</style>\n",
       "<table border=\"1\" class=\"dataframe\">\n",
       "  <thead>\n",
       "    <tr style=\"text-align: right;\">\n",
       "      <th></th>\n",
       "      <th>AAPL</th>\n",
       "      <th>GOOG</th>\n",
       "      <th>MSFT</th>\n",
       "      <th>TLT</th>\n",
       "      <th>TSLA</th>\n",
       "    </tr>\n",
       "    <tr>\n",
       "      <th>Date</th>\n",
       "      <th></th>\n",
       "      <th></th>\n",
       "      <th></th>\n",
       "      <th></th>\n",
       "      <th></th>\n",
       "    </tr>\n",
       "  </thead>\n",
       "  <tbody>\n",
       "    <tr>\n",
       "      <th>2018-12-10</th>\n",
       "      <td>40.695980</td>\n",
       "      <td>51.977501</td>\n",
       "      <td>102.167168</td>\n",
       "      <td>106.529106</td>\n",
       "      <td>24.343332</td>\n",
       "    </tr>\n",
       "    <tr>\n",
       "      <th>2018-12-11</th>\n",
       "      <td>40.463226</td>\n",
       "      <td>52.587502</td>\n",
       "      <td>103.116737</td>\n",
       "      <td>106.511147</td>\n",
       "      <td>24.450666</td>\n",
       "    </tr>\n",
       "    <tr>\n",
       "      <th>2018-12-12</th>\n",
       "      <td>40.576008</td>\n",
       "      <td>53.183998</td>\n",
       "      <td>103.582062</td>\n",
       "      <td>106.036293</td>\n",
       "      <td>24.440001</td>\n",
       "    </tr>\n",
       "    <tr>\n",
       "      <th>2018-12-13</th>\n",
       "      <td>41.019917</td>\n",
       "      <td>53.095001</td>\n",
       "      <td>103.933388</td>\n",
       "      <td>105.785431</td>\n",
       "      <td>25.119333</td>\n",
       "    </tr>\n",
       "    <tr>\n",
       "      <th>2018-12-14</th>\n",
       "      <td>39.707382</td>\n",
       "      <td>52.105000</td>\n",
       "      <td>100.685783</td>\n",
       "      <td>106.152779</td>\n",
       "      <td>24.380667</td>\n",
       "    </tr>\n",
       "  </tbody>\n",
       "</table>\n",
       "</div>"
      ],
      "text/plain": [
       "                 AAPL       GOOG        MSFT         TLT       TSLA\n",
       "Date                                                               \n",
       "2018-12-10  40.695980  51.977501  102.167168  106.529106  24.343332\n",
       "2018-12-11  40.463226  52.587502  103.116737  106.511147  24.450666\n",
       "2018-12-12  40.576008  53.183998  103.582062  106.036293  24.440001\n",
       "2018-12-13  41.019917  53.095001  103.933388  105.785431  25.119333\n",
       "2018-12-14  39.707382  52.105000  100.685783  106.152779  24.380667"
      ]
     },
     "execution_count": 12,
     "metadata": {},
     "output_type": "execute_result"
    }
   ],
   "source": [
    "# Libraries\n",
    "import datetime\n",
    "import yfinance as yf\n",
    "import numpy as np\n",
    "import matplotlib.pyplot as plt\n",
    "import statsmodels.api as sm\n",
    "import statsmodels.formula.api as smf\n",
    "import seaborn as sns\n",
    "from sklearn.decomposition import PCA\n",
    "\n",
    "# Download real world data where some of the exog variables are correlated\n",
    "# We will use AAPL, GOOG, MSFT, TLT as exogenous (predictor) variables\n",
    "# to fit a multivariate regression model to predict TSLA values as endogenous (dependent) variables\n",
    "# We will look at the data for the last 5 years\n",
    "end = datetime.datetime.now()\n",
    "timedelta = datetime.timedelta(5 * 365)  # last 5 years\n",
    "start = end - timedelta\n",
    "df = yf.download([\"AAPL\", \"GOOG\", \"MSFT\", \"TLT\", \"TSLA\"], start, end)[\"Adj Close\"]  # use adjusted close column\n",
    "# Show first few rows of dataframe\n",
    "df.head()"
   ]
  },
  {
   "cell_type": "code",
   "execution_count": 18,
   "metadata": {},
   "outputs": [
    {
     "name": "stdout",
     "output_type": "stream",
     "text": [
      "          AAPL      GOOG      MSFT       TLT\n",
      "AAPL  1.000000  0.903306  0.972498 -0.324846\n",
      "GOOG  0.903306  1.000000  0.943218 -0.195439\n",
      "MSFT  0.972498  0.943218  1.000000 -0.274009\n",
      "TLT  -0.324846 -0.195439 -0.274009  1.000000\n"
     ]
    },
    {
     "data": {
      "text/plain": [
       "<Axes: >"
      ]
     },
     "execution_count": 18,
     "metadata": {},
     "output_type": "execute_result"
    },
    {
     "data": {
      "image/png": "[encoded data removed]",
      "text/plain": [
       "<Figure size 432x288 with 2 Axes>"
      ]
     },
     "metadata": {
      "needs_background": "light"
     },
     "output_type": "display_data"
    }
   ],
   "source": [
    "# Look at the correlation matrix for exog variables\n",
    "exog_corr = df.iloc[:, :4].corr()\n",
    "# Print the exogenous correlation matrix\n",
    "print(exog_corr)\n",
    "# Plot the exogenous correlation matrix\n",
    "sns.heatmap(exog_corr, annot=True, cmap='coolwarm')\n"
   ]
  },
  {
   "cell_type": "markdown",
   "metadata": {},
   "source": [
    "As we can see in the correlation matrix and the plot, because **AAPL, GOOG, MSFT** all show <u> very high </u> correlations with each other, we can say this group of exogenous variables have a **multicolinearity** issue. Therefore, we can expect to reduce the dimensionality of our data after we apply **dimensionality reduction methods** to our dataframe, because some of them will be **statistically insignificant** to explain the variation in **TSLA** values."
   ]
  },
  {
   "cell_type": "code",
   "execution_count": null,
   "metadata": {},
   "outputs": [],
   "source": []
  }
 ],
 "metadata": {
  "kernelspec": {
   "display_name": "Python 3",
   "language": "python",
   "name": "python3"
  },
  "language_info": {
   "codemirror_mode": {
    "name": "ipython",
    "version": 3
   },
   "file_extension": ".py",
   "mimetype": "text/x-python",
   "name": "python",
   "nbconvert_exporter": "python",
   "pygments_lexer": "ipython3",
   "version": "3.10.5"
  }
 },
 "nbformat": 4,
 "nbformat_minor": 2
}
