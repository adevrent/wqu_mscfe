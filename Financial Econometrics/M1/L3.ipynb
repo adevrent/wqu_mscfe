{
 "cells": [
  {
   "cell_type": "code",
   "execution_count": 1,
   "metadata": {},
   "outputs": [],
   "source": [
    "# Libraries\n",
    "import matplotlib.pyplot as plt\n",
    "import numpy as np\n",
    "import pandas as pd\n",
    "import seaborn as sns\n",
    "import statsmodels.formula.api as smf\n",
    "from scipy.stats import boxcox\n",
    "from sklearn import preprocessing\n",
    "from sklearn.decomposition import PCA"
   ]
  },
  {
   "cell_type": "code",
   "execution_count": 2,
   "metadata": {},
   "outputs": [
    {
     "data": {
      "text/html": [
       "<style>#sk-container-id-1 {color: black;}#sk-container-id-1 pre{padding: 0;}#sk-container-id-1 div.sk-toggleable {background-color: white;}#sk-container-id-1 label.sk-toggleable__label {cursor: pointer;display: block;width: 100%;margin-bottom: 0;padding: 0.3em;box-sizing: border-box;text-align: center;}#sk-container-id-1 label.sk-toggleable__label-arrow:before {content: \"▸\";float: left;margin-right: 0.25em;color: #696969;}#sk-container-id-1 label.sk-toggleable__label-arrow:hover:before {color: black;}#sk-container-id-1 div.sk-estimator:hover label.sk-toggleable__label-arrow:before {color: black;}#sk-container-id-1 div.sk-toggleable__content {max-height: 0;max-width: 0;overflow: hidden;text-align: left;background-color: #f0f8ff;}#sk-container-id-1 div.sk-toggleable__content pre {margin: 0.2em;color: black;border-radius: 0.25em;background-color: #f0f8ff;}#sk-container-id-1 input.sk-toggleable__control:checked~div.sk-toggleable__content {max-height: 200px;max-width: 100%;overflow: auto;}#sk-container-id-1 input.sk-toggleable__control:checked~label.sk-toggleable__label-arrow:before {content: \"▾\";}#sk-container-id-1 div.sk-estimator input.sk-toggleable__control:checked~label.sk-toggleable__label {background-color: #d4ebff;}#sk-container-id-1 div.sk-label input.sk-toggleable__control:checked~label.sk-toggleable__label {background-color: #d4ebff;}#sk-container-id-1 input.sk-hidden--visually {border: 0;clip: rect(1px 1px 1px 1px);clip: rect(1px, 1px, 1px, 1px);height: 1px;margin: -1px;overflow: hidden;padding: 0;position: absolute;width: 1px;}#sk-container-id-1 div.sk-estimator {font-family: monospace;background-color: #f0f8ff;border: 1px dotted black;border-radius: 0.25em;box-sizing: border-box;margin-bottom: 0.5em;}#sk-container-id-1 div.sk-estimator:hover {background-color: #d4ebff;}#sk-container-id-1 div.sk-parallel-item::after {content: \"\";width: 100%;border-bottom: 1px solid gray;flex-grow: 1;}#sk-container-id-1 div.sk-label:hover label.sk-toggleable__label {background-color: #d4ebff;}#sk-container-id-1 div.sk-serial::before {content: \"\";position: absolute;border-left: 1px solid gray;box-sizing: border-box;top: 0;bottom: 0;left: 50%;z-index: 0;}#sk-container-id-1 div.sk-serial {display: flex;flex-direction: column;align-items: center;background-color: white;padding-right: 0.2em;padding-left: 0.2em;position: relative;}#sk-container-id-1 div.sk-item {position: relative;z-index: 1;}#sk-container-id-1 div.sk-parallel {display: flex;align-items: stretch;justify-content: center;background-color: white;position: relative;}#sk-container-id-1 div.sk-item::before, #sk-container-id-1 div.sk-parallel-item::before {content: \"\";position: absolute;border-left: 1px solid gray;box-sizing: border-box;top: 0;bottom: 0;left: 50%;z-index: -1;}#sk-container-id-1 div.sk-parallel-item {display: flex;flex-direction: column;z-index: 1;position: relative;background-color: white;}#sk-container-id-1 div.sk-parallel-item:first-child::after {align-self: flex-end;width: 50%;}#sk-container-id-1 div.sk-parallel-item:last-child::after {align-self: flex-start;width: 50%;}#sk-container-id-1 div.sk-parallel-item:only-child::after {width: 0;}#sk-container-id-1 div.sk-dashed-wrapped {border: 1px dashed gray;margin: 0 0.4em 0.5em 0.4em;box-sizing: border-box;padding-bottom: 0.4em;background-color: white;}#sk-container-id-1 div.sk-label label {font-family: monospace;font-weight: bold;display: inline-block;line-height: 1.2em;}#sk-container-id-1 div.sk-label-container {text-align: center;}#sk-container-id-1 div.sk-container {/* jupyter's `normalize.less` sets `[hidden] { display: none; }` but bootstrap.min.css set `[hidden] { display: none !important; }` so we also need the `!important` here to be able to override the default hidden behavior on the sphinx rendered scikit-learn.org. See: https://github.com/scikit-learn/scikit-learn/issues/21755 */display: inline-block !important;position: relative;}#sk-container-id-1 div.sk-text-repr-fallback {display: none;}</style><div id=\"sk-container-id-1\" class=\"sk-top-container\"><div class=\"sk-text-repr-fallback\"><pre>PCA(n_components=8)</pre><b>In a Jupyter environment, please rerun this cell to show the HTML representation or trust the notebook. <br />On GitHub, the HTML representation is unable to render, please try loading this page with nbviewer.org.</b></div><div class=\"sk-container\" hidden><div class=\"sk-item\"><div class=\"sk-estimator sk-toggleable\"><input class=\"sk-toggleable__control sk-hidden--visually\" id=\"sk-estimator-id-1\" type=\"checkbox\" checked><label for=\"sk-estimator-id-1\" class=\"sk-toggleable__label sk-toggleable__label-arrow\">PCA</label><div class=\"sk-toggleable__content\"><pre>PCA(n_components=8)</pre></div></div></div></div></div>"
      ],
      "text/plain": [
       "PCA(n_components=8)"
      ]
     },
     "execution_count": 2,
     "metadata": {},
     "output_type": "execute_result"
    }
   ],
   "source": [
    "# Download the dataset\n",
    "data_set = pd.read_csv(\"/home/sscf/wqu_mscfe/Financial Econometrics/M1/fin_data_set.csv\")\n",
    "\n",
    "# Select 8 variables and standardise\n",
    "pc = data_set[\n",
    "    [\n",
    "        \"Dow_Q_EX_R\",\n",
    "        \"Pepsi_Q_EX_R\",\n",
    "        \"REV_Q_R\",\n",
    "        \"GOOG_Q_EX_R\",\n",
    "        \"BAC_Q_EX_R\",\n",
    "        \"WMT_Q_EX_R\",\n",
    "        \"GE_Q_EX_R\",\n",
    "        \"SBUX_Q_EX_R\",\n",
    "    ]\n",
    "]\n",
    "pca_data = preprocessing.scale(pc)  # scale all variables to standard normal N~(0, 1)\n",
    "pca = PCA(n_components=8)\n",
    "pca.fit(pca_data)"
   ]
  },
  {
   "cell_type": "code",
   "execution_count": 3,
   "metadata": {},
   "outputs": [
    {
     "data": {
      "text/html": [
       "<div>\n",
       "<style scoped>\n",
       "    .dataframe tbody tr th:only-of-type {\n",
       "        vertical-align: middle;\n",
       "    }\n",
       "\n",
       "    .dataframe tbody tr th {\n",
       "        vertical-align: top;\n",
       "    }\n",
       "\n",
       "    .dataframe thead th {\n",
       "        text-align: right;\n",
       "    }\n",
       "</style>\n",
       "<table border=\"1\" class=\"dataframe\">\n",
       "  <thead>\n",
       "    <tr style=\"text-align: right;\">\n",
       "      <th></th>\n",
       "      <th>PC1</th>\n",
       "      <th>PC2</th>\n",
       "      <th>PC3</th>\n",
       "      <th>PC4</th>\n",
       "      <th>PC5</th>\n",
       "      <th>PC6</th>\n",
       "      <th>PC7</th>\n",
       "      <th>PC8</th>\n",
       "    </tr>\n",
       "  </thead>\n",
       "  <tbody>\n",
       "    <tr>\n",
       "      <th>Proportion of variance</th>\n",
       "      <td>0.417539</td>\n",
       "      <td>0.193287</td>\n",
       "      <td>0.171490</td>\n",
       "      <td>0.108867</td>\n",
       "      <td>0.042000</td>\n",
       "      <td>0.028306</td>\n",
       "      <td>0.026893</td>\n",
       "      <td>0.011619</td>\n",
       "    </tr>\n",
       "    <tr>\n",
       "      <th>Cumulative proportion of variance</th>\n",
       "      <td>0.417539</td>\n",
       "      <td>0.610826</td>\n",
       "      <td>0.782316</td>\n",
       "      <td>0.891183</td>\n",
       "      <td>0.933183</td>\n",
       "      <td>0.961489</td>\n",
       "      <td>0.988381</td>\n",
       "      <td>1.000000</td>\n",
       "    </tr>\n",
       "  </tbody>\n",
       "</table>\n",
       "</div>"
      ],
      "text/plain": [
       "                                        PC1       PC2       PC3       PC4  \\\n",
       "Proportion of variance             0.417539  0.193287  0.171490  0.108867   \n",
       "Cumulative proportion of variance  0.417539  0.610826  0.782316  0.891183   \n",
       "\n",
       "                                        PC5       PC6       PC7       PC8  \n",
       "Proportion of variance             0.042000  0.028306  0.026893  0.011619  \n",
       "Cumulative proportion of variance  0.933183  0.961489  0.988381  1.000000  "
      ]
     },
     "execution_count": 3,
     "metadata": {},
     "output_type": "execute_result"
    }
   ],
   "source": [
    "# Get proportions of variance and cumulative proportion of variance\n",
    "pr_var = pca.explained_variance_ratio_\n",
    "cum_pr = np.cumsum(pca.explained_variance_ratio_)\n",
    "ind = [\"Proportion of variance\", \"Cumulative proportion of variance\"]\n",
    "cols = [\"PC1\", \"PC2\", \"PC3\", \"PC4\", \"PC5\", \"PC6\", \"PC7\", \"PC8\"]\n",
    "pd.DataFrame(np.vstack((pr_var, cum_pr)), ind, columns=cols)"
   ]
  },
  {
   "cell_type": "markdown",
   "metadata": {},
   "source": [
    "Let's look at the proportion of variance and cumulative proportion in the above chart. According to the chart, we can see that the first principal component accounts for 42% of the total variance in the data. The first six principal components explain about 96% of the total variance.\n",
    "\n",
    "Next, we would like to see how PCA can help us reduce the number of independent variables in the model. We know <u> each principal component is a linear function of eight original independent variables. </u> We can choose the original variable with the highest absolute value of the coefficient in the linear combination as a proxy of that principal component."
   ]
  },
  {
   "cell_type": "code",
   "execution_count": 4,
   "metadata": {},
   "outputs": [
    {
     "data": {
      "text/html": [
       "<div>\n",
       "<style scoped>\n",
       "    .dataframe tbody tr th:only-of-type {\n",
       "        vertical-align: middle;\n",
       "    }\n",
       "\n",
       "    .dataframe tbody tr th {\n",
       "        vertical-align: top;\n",
       "    }\n",
       "\n",
       "    .dataframe thead th {\n",
       "        text-align: right;\n",
       "    }\n",
       "</style>\n",
       "<table border=\"1\" class=\"dataframe\">\n",
       "  <thead>\n",
       "    <tr style=\"text-align: right;\">\n",
       "      <th></th>\n",
       "      <th>PC1</th>\n",
       "      <th>PC2</th>\n",
       "      <th>PC3</th>\n",
       "      <th>PC4</th>\n",
       "      <th>PC5</th>\n",
       "      <th>PC6</th>\n",
       "      <th>PC7</th>\n",
       "      <th>PC8</th>\n",
       "    </tr>\n",
       "  </thead>\n",
       "  <tbody>\n",
       "    <tr>\n",
       "      <th>Dow_Q_EX_R</th>\n",
       "      <td>-0.501013</td>\n",
       "      <td>-0.081975</td>\n",
       "      <td>-0.201491</td>\n",
       "      <td>-0.151476</td>\n",
       "      <td>-0.172552</td>\n",
       "      <td>-0.161302</td>\n",
       "      <td>-0.116793</td>\n",
       "      <td>-0.780570</td>\n",
       "    </tr>\n",
       "    <tr>\n",
       "      <th>Pepsi_Q_EX_R</th>\n",
       "      <td>-0.370323</td>\n",
       "      <td>-0.416369</td>\n",
       "      <td>0.215351</td>\n",
       "      <td>0.267349</td>\n",
       "      <td>0.486188</td>\n",
       "      <td>-0.340799</td>\n",
       "      <td>-0.423131</td>\n",
       "      <td>0.200210</td>\n",
       "    </tr>\n",
       "    <tr>\n",
       "      <th>REV_Q_R</th>\n",
       "      <td>-0.089143</td>\n",
       "      <td>0.205496</td>\n",
       "      <td>0.723855</td>\n",
       "      <td>0.314653</td>\n",
       "      <td>-0.525310</td>\n",
       "      <td>0.024685</td>\n",
       "      <td>-0.213269</td>\n",
       "      <td>-0.069342</td>\n",
       "    </tr>\n",
       "    <tr>\n",
       "      <th>GOOG_Q_EX_R</th>\n",
       "      <td>-0.481635</td>\n",
       "      <td>-0.115076</td>\n",
       "      <td>0.033447</td>\n",
       "      <td>0.219037</td>\n",
       "      <td>0.147889</td>\n",
       "      <td>0.789841</td>\n",
       "      <td>0.241923</td>\n",
       "      <td>0.037978</td>\n",
       "    </tr>\n",
       "    <tr>\n",
       "      <th>BAC_Q_EX_R</th>\n",
       "      <td>-0.399072</td>\n",
       "      <td>0.169106</td>\n",
       "      <td>-0.470595</td>\n",
       "      <td>-0.014795</td>\n",
       "      <td>-0.462351</td>\n",
       "      <td>-0.034007</td>\n",
       "      <td>-0.323626</td>\n",
       "      <td>0.520391</td>\n",
       "    </tr>\n",
       "    <tr>\n",
       "      <th>WMT_Q_EX_R</th>\n",
       "      <td>-0.116011</td>\n",
       "      <td>-0.659655</td>\n",
       "      <td>0.213805</td>\n",
       "      <td>-0.389464</td>\n",
       "      <td>-0.370728</td>\n",
       "      <td>-0.129019</td>\n",
       "      <td>0.392582</td>\n",
       "      <td>0.214001</td>\n",
       "    </tr>\n",
       "    <tr>\n",
       "      <th>GE_Q_EX_R</th>\n",
       "      <td>-0.399918</td>\n",
       "      <td>0.444523</td>\n",
       "      <td>0.093024</td>\n",
       "      <td>0.117590</td>\n",
       "      <td>0.150220</td>\n",
       "      <td>-0.440478</td>\n",
       "      <td>0.622124</td>\n",
       "      <td>0.127903</td>\n",
       "    </tr>\n",
       "    <tr>\n",
       "      <th>SBUX_Q_EX_R</th>\n",
       "      <td>-0.198186</td>\n",
       "      <td>0.321096</td>\n",
       "      <td>0.334835</td>\n",
       "      <td>-0.769979</td>\n",
       "      <td>0.249503</td>\n",
       "      <td>0.146820</td>\n",
       "      <td>-0.239618</td>\n",
       "      <td>0.106832</td>\n",
       "    </tr>\n",
       "  </tbody>\n",
       "</table>\n",
       "</div>"
      ],
      "text/plain": [
       "                   PC1       PC2       PC3       PC4       PC5       PC6  \\\n",
       "Dow_Q_EX_R   -0.501013 -0.081975 -0.201491 -0.151476 -0.172552 -0.161302   \n",
       "Pepsi_Q_EX_R -0.370323 -0.416369  0.215351  0.267349  0.486188 -0.340799   \n",
       "REV_Q_R      -0.089143  0.205496  0.723855  0.314653 -0.525310  0.024685   \n",
       "GOOG_Q_EX_R  -0.481635 -0.115076  0.033447  0.219037  0.147889  0.789841   \n",
       "BAC_Q_EX_R   -0.399072  0.169106 -0.470595 -0.014795 -0.462351 -0.034007   \n",
       "WMT_Q_EX_R   -0.116011 -0.659655  0.213805 -0.389464 -0.370728 -0.129019   \n",
       "GE_Q_EX_R    -0.399918  0.444523  0.093024  0.117590  0.150220 -0.440478   \n",
       "SBUX_Q_EX_R  -0.198186  0.321096  0.334835 -0.769979  0.249503  0.146820   \n",
       "\n",
       "                   PC7       PC8  \n",
       "Dow_Q_EX_R   -0.116793 -0.780570  \n",
       "Pepsi_Q_EX_R -0.423131  0.200210  \n",
       "REV_Q_R      -0.213269 -0.069342  \n",
       "GOOG_Q_EX_R   0.241923  0.037978  \n",
       "BAC_Q_EX_R   -0.323626  0.520391  \n",
       "WMT_Q_EX_R    0.392582  0.214001  \n",
       "GE_Q_EX_R     0.622124  0.127903  \n",
       "SBUX_Q_EX_R  -0.239618  0.106832  "
      ]
     },
     "execution_count": 4,
     "metadata": {},
     "output_type": "execute_result"
    }
   ],
   "source": [
    "# Coefficients (Loadings) of 8 Principal Components\n",
    "pc_res = pd.DataFrame(pca.components_.T, index=list(pc.columns), columns=cols)\n",
    "pc_res"
   ]
  },
  {
   "cell_type": "markdown",
   "metadata": {},
   "source": [
    "This shows the coefficients of eight independent variables for each principal component. The coefficients here can also be called **loadings**. For $PC_1$, the Dow 30 Index excess return has the highest absolute value of the coefficient. This means that the Dow 30 Index excess return has the largest impact on $PC_1$. Therefore, we can use the Dow 30 Index excess return as a proxy for $PC_1$. Following the same logic, we can use Walmart's excess return as a proxy for $PC_2$. We also know that the first six principal components cover around 96% of the data variation. In this case, we can just choose *Dow 30* Index excess return, Walmart excess return, *KO*'s revenue growth, Starbucks excess return, and Google excess return to run a regression model."
   ]
  },
  {
   "cell_type": "markdown",
   "metadata": {},
   "source": [
    "Let's rerun to our revised regression model with fewer independent variables to see the result.\n",
    "\n",
    "**Figure 4: KO Excess Return Revised Model Result Applying PCA Information**"
   ]
  },
  {
   "cell_type": "code",
   "execution_count": 5,
   "metadata": {},
   "outputs": [
    {
     "data": {
      "text/html": [
       "<table class=\"simpletable\">\n",
       "<caption>OLS Regression Results</caption>\n",
       "<tr>\n",
       "  <th>Dep. Variable:</th>       <td>Coke_Q_EX_R</td>   <th>  R-squared:         </th> <td>   0.584</td>\n",
       "</tr>\n",
       "<tr>\n",
       "  <th>Model:</th>                   <td>OLS</td>       <th>  Adj. R-squared:    </th> <td>   0.454</td>\n",
       "</tr>\n",
       "<tr>\n",
       "  <th>Method:</th>             <td>Least Squares</td>  <th>  F-statistic:       </th> <td>   4.493</td>\n",
       "</tr>\n",
       "<tr>\n",
       "  <th>Date:</th>             <td>Mon, 13 Nov 2023</td> <th>  Prob (F-statistic):</th>  <td>0.00950</td>\n",
       "</tr>\n",
       "<tr>\n",
       "  <th>Time:</th>                 <td>16:40:13</td>     <th>  Log-Likelihood:    </th> <td>  38.030</td>\n",
       "</tr>\n",
       "<tr>\n",
       "  <th>No. Observations:</th>      <td>    22</td>      <th>  AIC:               </th> <td>  -64.06</td>\n",
       "</tr>\n",
       "<tr>\n",
       "  <th>Df Residuals:</th>          <td>    16</td>      <th>  BIC:               </th> <td>  -57.51</td>\n",
       "</tr>\n",
       "<tr>\n",
       "  <th>Df Model:</th>              <td>     5</td>      <th>                     </th>     <td> </td>   \n",
       "</tr>\n",
       "<tr>\n",
       "  <th>Covariance Type:</th>      <td>nonrobust</td>    <th>                     </th>     <td> </td>   \n",
       "</tr>\n",
       "</table>\n",
       "<table class=\"simpletable\">\n",
       "<tr>\n",
       "       <td></td>          <th>coef</th>     <th>std err</th>      <th>t</th>      <th>P>|t|</th>  <th>[0.025</th>    <th>0.975]</th>  \n",
       "</tr>\n",
       "<tr>\n",
       "  <th>Intercept</th>   <td>   -0.0109</td> <td>    0.014</td> <td>   -0.757</td> <td> 0.460</td> <td>   -0.042</td> <td>    0.020</td>\n",
       "</tr>\n",
       "<tr>\n",
       "  <th>Dow_Q_EX_R</th>  <td>    0.6091</td> <td>    0.286</td> <td>    2.133</td> <td> 0.049</td> <td>    0.004</td> <td>    1.214</td>\n",
       "</tr>\n",
       "<tr>\n",
       "  <th>REV_Q_R</th>     <td>    0.1418</td> <td>    0.103</td> <td>    1.380</td> <td> 0.186</td> <td>   -0.076</td> <td>    0.359</td>\n",
       "</tr>\n",
       "<tr>\n",
       "  <th>GOOG_Q_EX_R</th> <td>    0.1060</td> <td>    0.177</td> <td>    0.600</td> <td> 0.557</td> <td>   -0.268</td> <td>    0.480</td>\n",
       "</tr>\n",
       "<tr>\n",
       "  <th>WMT_Q_EX_R</th>  <td>   -0.0004</td> <td>    0.144</td> <td>   -0.003</td> <td> 0.998</td> <td>   -0.305</td> <td>    0.304</td>\n",
       "</tr>\n",
       "<tr>\n",
       "  <th>SBUX_Q_EX_R</th> <td>    0.0551</td> <td>    0.117</td> <td>    0.472</td> <td> 0.644</td> <td>   -0.193</td> <td>    0.303</td>\n",
       "</tr>\n",
       "</table>\n",
       "<table class=\"simpletable\">\n",
       "<tr>\n",
       "  <th>Omnibus:</th>       <td> 1.148</td> <th>  Durbin-Watson:     </th> <td>   1.998</td>\n",
       "</tr>\n",
       "<tr>\n",
       "  <th>Prob(Omnibus):</th> <td> 0.563</td> <th>  Jarque-Bera (JB):  </th> <td>   1.031</td>\n",
       "</tr>\n",
       "<tr>\n",
       "  <th>Skew:</th>          <td>-0.466</td> <th>  Prob(JB):          </th> <td>   0.597</td>\n",
       "</tr>\n",
       "<tr>\n",
       "  <th>Kurtosis:</th>      <td> 2.493</td> <th>  Cond. No.          </th> <td>    30.4</td>\n",
       "</tr>\n",
       "</table><br/><br/>Notes:<br/>[1] Standard Errors assume that the covariance matrix of the errors is correctly specified."
      ],
      "text/latex": [
       "\\begin{center}\n",
       "\\begin{tabular}{lclc}\n",
       "\\toprule\n",
       "\\textbf{Dep. Variable:}    &  Coke\\_Q\\_EX\\_R  & \\textbf{  R-squared:         } &     0.584   \\\\\n",
       "\\textbf{Model:}            &       OLS        & \\textbf{  Adj. R-squared:    } &     0.454   \\\\\n",
       "\\textbf{Method:}           &  Least Squares   & \\textbf{  F-statistic:       } &     4.493   \\\\\n",
       "\\textbf{Date:}             & Mon, 13 Nov 2023 & \\textbf{  Prob (F-statistic):} &  0.00950    \\\\\n",
       "\\textbf{Time:}             &     16:40:13     & \\textbf{  Log-Likelihood:    } &    38.030   \\\\\n",
       "\\textbf{No. Observations:} &          22      & \\textbf{  AIC:               } &    -64.06   \\\\\n",
       "\\textbf{Df Residuals:}     &          16      & \\textbf{  BIC:               } &    -57.51   \\\\\n",
       "\\textbf{Df Model:}         &           5      & \\textbf{                     } &             \\\\\n",
       "\\textbf{Covariance Type:}  &    nonrobust     & \\textbf{                     } &             \\\\\n",
       "\\bottomrule\n",
       "\\end{tabular}\n",
       "\\begin{tabular}{lcccccc}\n",
       "                        & \\textbf{coef} & \\textbf{std err} & \\textbf{t} & \\textbf{P$> |$t$|$} & \\textbf{[0.025} & \\textbf{0.975]}  \\\\\n",
       "\\midrule\n",
       "\\textbf{Intercept}      &      -0.0109  &        0.014     &    -0.757  &         0.460        &       -0.042    &        0.020     \\\\\n",
       "\\textbf{Dow\\_Q\\_EX\\_R}  &       0.6091  &        0.286     &     2.133  &         0.049        &        0.004    &        1.214     \\\\\n",
       "\\textbf{REV\\_Q\\_R}      &       0.1418  &        0.103     &     1.380  &         0.186        &       -0.076    &        0.359     \\\\\n",
       "\\textbf{GOOG\\_Q\\_EX\\_R} &       0.1060  &        0.177     &     0.600  &         0.557        &       -0.268    &        0.480     \\\\\n",
       "\\textbf{WMT\\_Q\\_EX\\_R}  &      -0.0004  &        0.144     &    -0.003  &         0.998        &       -0.305    &        0.304     \\\\\n",
       "\\textbf{SBUX\\_Q\\_EX\\_R} &       0.0551  &        0.117     &     0.472  &         0.644        &       -0.193    &        0.303     \\\\\n",
       "\\bottomrule\n",
       "\\end{tabular}\n",
       "\\begin{tabular}{lclc}\n",
       "\\textbf{Omnibus:}       &  1.148 & \\textbf{  Durbin-Watson:     } &    1.998  \\\\\n",
       "\\textbf{Prob(Omnibus):} &  0.563 & \\textbf{  Jarque-Bera (JB):  } &    1.031  \\\\\n",
       "\\textbf{Skew:}          & -0.466 & \\textbf{  Prob(JB):          } &    0.597  \\\\\n",
       "\\textbf{Kurtosis:}      &  2.493 & \\textbf{  Cond. No.          } &     30.4  \\\\\n",
       "\\bottomrule\n",
       "\\end{tabular}\n",
       "%\\caption{OLS Regression Results}\n",
       "\\end{center}\n",
       "\n",
       "Notes: \\newline\n",
       " [1] Standard Errors assume that the covariance matrix of the errors is correctly specified."
      ],
      "text/plain": [
       "<class 'statsmodels.iolib.summary.Summary'>\n",
       "\"\"\"\n",
       "                            OLS Regression Results                            \n",
       "==============================================================================\n",
       "Dep. Variable:            Coke_Q_EX_R   R-squared:                       0.584\n",
       "Model:                            OLS   Adj. R-squared:                  0.454\n",
       "Method:                 Least Squares   F-statistic:                     4.493\n",
       "Date:                Mon, 13 Nov 2023   Prob (F-statistic):            0.00950\n",
       "Time:                        16:40:13   Log-Likelihood:                 38.030\n",
       "No. Observations:                  22   AIC:                            -64.06\n",
       "Df Residuals:                      16   BIC:                            -57.51\n",
       "Df Model:                           5                                         \n",
       "Covariance Type:            nonrobust                                         \n",
       "===============================================================================\n",
       "                  coef    std err          t      P>|t|      [0.025      0.975]\n",
       "-------------------------------------------------------------------------------\n",
       "Intercept      -0.0109      0.014     -0.757      0.460      -0.042       0.020\n",
       "Dow_Q_EX_R      0.6091      0.286      2.133      0.049       0.004       1.214\n",
       "REV_Q_R         0.1418      0.103      1.380      0.186      -0.076       0.359\n",
       "GOOG_Q_EX_R     0.1060      0.177      0.600      0.557      -0.268       0.480\n",
       "WMT_Q_EX_R     -0.0004      0.144     -0.003      0.998      -0.305       0.304\n",
       "SBUX_Q_EX_R     0.0551      0.117      0.472      0.644      -0.193       0.303\n",
       "==============================================================================\n",
       "Omnibus:                        1.148   Durbin-Watson:                   1.998\n",
       "Prob(Omnibus):                  0.563   Jarque-Bera (JB):                1.031\n",
       "Skew:                          -0.466   Prob(JB):                        0.597\n",
       "Kurtosis:                       2.493   Cond. No.                         30.4\n",
       "==============================================================================\n",
       "\n",
       "Notes:\n",
       "[1] Standard Errors assume that the covariance matrix of the errors is correctly specified.\n",
       "\"\"\""
      ]
     },
     "execution_count": 5,
     "metadata": {},
     "output_type": "execute_result"
    }
   ],
   "source": [
    "# OLS for revised model\n",
    "model_4 = smf.ols(\n",
    "    \"Coke_Q_EX_R ~ Dow_Q_EX_R + REV_Q_R + GOOG_Q_EX_R + WMT_Q_EX_R + SBUX_Q_EX_R\",\n",
    "    data=data_set,\n",
    ").fit()\n",
    "model_4.summary()"
   ]
  },
  {
   "cell_type": "markdown",
   "metadata": {},
   "source": [
    "From the result in Figure 4, we can see that the *Dow 30* Index has become significant, and the adjusted $R^2$ has improved from 0.406 at the beginning of this lesson to 0.454. By using the information provided by PCA, we can reduce the impact of multicollinearity among independent variables.<span style='color: transparent; font-size:1%'>All rights reserved WQU WorldQuant University QQQQ</span>"
   ]
  },
  {
   "cell_type": "markdown",
   "metadata": {},
   "source": [
    "## Transforming Variables"
   ]
  },
  {
   "cell_type": "markdown",
   "metadata": {},
   "source": [
    "**Method 1: Independent Variables Only**\n",
    "\n",
    "When the linear relationship assumption between the dependent variable and independent variable(s) doesn't exist, we need to transform the independent variable(s) so that the linear relationship is present. The methods to try are log transformation, square root transformation, or cube root transformation. These methods have two things in common:\n",
    "\n",
    "* They preserve the order of the data points\n",
    "* They \"tame\" outliers by making them less extreme. Note the change in the scales between the two graphs.\n",
    "\n",
    "Following up from the example in Figure 5, we can do a log transformation on $X$. In Figure 6, we can see the original scatter plot from Figure 5 on the left and the transformed $X$ in the scatter plot on the right. You can see that there is a linear relationship between $Y$ and $\\ln(X)$."
   ]
  },
  {
   "cell_type": "markdown",
   "metadata": {},
   "source": [
    "**Method 2: Dependent Variable Only**\n",
    "\n",
    "When the dependent variable doesn't exhibit normal distribution, we need to transform the dependent variable to normal. We can use log transformation, square root transformation, or cube root transformation. One more thing to consider is the outliers for dependent variables with skewed distribution. If you drop the outliers on the tail, it may bring the dependent variable back to normal distribution.\n",
    "\n",
    "Another method to consider is the **Box and Cox method**. Box and Cox method is a variable transformation method that can transform a non-normally distributed variable to a normally distributed variable. Assume we have a dependent variable $Y$ and an independent variable $X$. The Box and Cox method will try to find a $\\lambda$ satisfying the following rules and converting $Y$ to a normally distributed variable.\n",
    "\n",
    "$$\n",
    "\\text{new} Y = \\begin{cases} \n",
    "  \\frac{ (Y^{\\lambda} - 1)}{\\lambda },  & \\ \\text{ if }  \\lambda \\neq 0 \\\\ \n",
    "  \\log(Y),  &  \\ \\text{ if } \\lambda = 0\n",
    "\\end{cases} $$"
   ]
  },
  {
   "cell_type": "code",
   "execution_count": 6,
   "metadata": {},
   "outputs": [
    {
     "data": {
      "image/png": "[encoded data removed]",
      "text/plain": [
       "<Figure size 504x504 with 1 Axes>"
      ]
     },
     "metadata": {
      "needs_background": "light"
     },
     "output_type": "display_data"
    }
   ],
   "source": [
    "# Generate random dataset\n",
    "np.random.seed(0)  # to make reproducible example\n",
    "Y = np.random.exponential(size=500)\n",
    "\n",
    "# Plot distribution of data\n",
    "plt.figure(figsize=(7, 7))\n",
    "plt.title(\"Histogram of Y\")\n",
    "sns.histplot(Y, kde=True)\n",
    "plt.show()"
   ]
  },
  {
   "cell_type": "code",
   "execution_count": 7,
   "metadata": {},
   "outputs": [
    {
     "name": "stdout",
     "output_type": "stream",
     "text": [
      "Optimal Box-Cox transformation lambda: 0.23254413038935326\n"
     ]
    },
    {
     "data": {
      "image/png": "[encoded data removed]",
      "text/plain": [
       "<Figure size 1008x360 with 2 Axes>"
      ]
     },
     "metadata": {
      "needs_background": "light"
     },
     "output_type": "display_data"
    }
   ],
   "source": [
    "# Apply Box-Cox transformation on original data\n",
    "new_Y, best_lambda = boxcox(Y)\n",
    "print(\"Optimal Box-Cox transformation lambda:\", best_lambda)\n",
    "\n",
    "# Plot distributions of original data\n",
    "plt.figure(figsize=(14, 5))\n",
    "ax1 = plt.subplot(121)\n",
    "sns.histplot(Y, kde=True, ax=ax1)\n",
    "plt.title(\"Histogram of $Y$\")\n",
    "\n",
    "# Plot distribution of transformed data\n",
    "ax2 = plt.subplot(122)\n",
    "sns.histplot(new_Y, kde=True, ax=ax2)\n",
    "plt.title(\"Histogram of $newY$\")\n",
    "plt.show()"
   ]
  },
  {
   "cell_type": "markdown",
   "metadata": {},
   "source": [
    "**Method 3: Both Dependent Variable and Independent Variables**\n",
    "\n",
    "When the dependent variable and independent variable(s) don't exhibit a linear relationship and when the dependent variable is not normally distributed, we need to transform both the dependent variable and independent variables. Like last section, we can use log, square root, or cube root transformations on these variables."
   ]
  }
 ],
 "metadata": {
  "kernelspec": {
   "display_name": "Python 3",
   "language": "python",
   "name": "python3"
  },
  "language_info": {
   "codemirror_mode": {
    "name": "ipython",
    "version": 3
   },
   "file_extension": ".py",
   "mimetype": "text/x-python",
   "name": "python",
   "nbconvert_exporter": "python",
   "pygments_lexer": "ipython3",
   "version": "3.10.5"
  }
 },
 "nbformat": 4,
 "nbformat_minor": 2
}
