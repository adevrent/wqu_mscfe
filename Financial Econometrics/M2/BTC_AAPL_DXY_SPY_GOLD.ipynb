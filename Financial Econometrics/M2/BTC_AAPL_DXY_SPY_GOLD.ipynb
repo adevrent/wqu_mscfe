{
 "cells": [
  {
   "cell_type": "markdown",
   "metadata": {},
   "source": [
    "We are going to fit 3 models to estimate daily log returns of **BTC**: **OLS, Ridge, Lasso** regressions.\n",
    "\n",
    "* Dependent (endogenous) variable: daily log returns of **BTC**\n",
    "\n",
    "* Independent (exogenous / predictor) variables: daily log returns of **(AAPL, DXY, SPY, GOLD)**"
   ]
  },
  {
   "cell_type": "code",
   "execution_count": 238,
   "metadata": {},
   "outputs": [],
   "source": [
    "# Libraries\n",
    "import datetime\n",
    "import numpy as np\n",
    "import pandas as pd\n",
    "import statsmodels.api as sm\n",
    "import yfinance as yf\n",
    "from matplotlib import pyplot as plt\n",
    "from sklearn.linear_model import Lasso, LassoCV, Ridge, RidgeCV"
   ]
  },
  {
   "cell_type": "code",
   "execution_count": 239,
   "metadata": {},
   "outputs": [
    {
     "name": "stdout",
     "output_type": "stream",
     "text": [
      "[*********************100%%**********************]  1 of 1 completed\n",
      "[*********************100%%**********************]  1 of 1 completed\n",
      "[*********************100%%**********************]  1 of 1 completed\n",
      "[*********************100%%**********************]  1 of 1 completed\n",
      "[*********************100%%**********************]  1 of 1 completed\n"
     ]
    }
   ],
   "source": [
    "# Download last 5 years of daily closing prices\n",
    "end = datetime.datetime.now()\n",
    "timedelta = datetime.timedelta(365 * 5)\n",
    "start = end - timedelta\n",
    "\n",
    "series_btc = yf.download(\"BTC-USD\", start, end)[\"Adj Close\"]\n",
    "series_btc.name = \"BTC\"\n",
    "series_aapl = yf.download(\"AAPL\", start, end)[\"Adj Close\"]\n",
    "series_aapl.name = \"AAPL\"\n",
    "series_dxy = yf.download(\"DX-Y.NYB\", start, end)[\"Adj Close\"]\n",
    "series_dxy.name = \"DXY\"\n",
    "series_spy = yf.download(\"SPY\", start, end)[\"Adj Close\"]\n",
    "series_spy.name = \"SPY\"\n",
    "series_gold = yf.download(\"GC=F\", start, end)[\"Adj Close\"]\n",
    "series_gold.name = \"GOLD\""
   ]
  },
  {
   "cell_type": "code",
   "execution_count": 240,
   "metadata": {},
   "outputs": [
    {
     "data": {
      "text/html": [
       "<div>\n",
       "<style scoped>\n",
       "    .dataframe tbody tr th:only-of-type {\n",
       "        vertical-align: middle;\n",
       "    }\n",
       "\n",
       "    .dataframe tbody tr th {\n",
       "        vertical-align: top;\n",
       "    }\n",
       "\n",
       "    .dataframe thead th {\n",
       "        text-align: right;\n",
       "    }\n",
       "</style>\n",
       "<table border=\"1\" class=\"dataframe\">\n",
       "  <thead>\n",
       "    <tr style=\"text-align: right;\">\n",
       "      <th></th>\n",
       "      <th>BTC</th>\n",
       "      <th>AAPL</th>\n",
       "      <th>DXY</th>\n",
       "      <th>SPY</th>\n",
       "      <th>GOLD</th>\n",
       "    </tr>\n",
       "    <tr>\n",
       "      <th>Date</th>\n",
       "      <th></th>\n",
       "      <th></th>\n",
       "      <th></th>\n",
       "      <th></th>\n",
       "      <th></th>\n",
       "    </tr>\n",
       "  </thead>\n",
       "  <tbody>\n",
       "    <tr>\n",
       "      <th>2018-11-20</th>\n",
       "      <td>-0.090076</td>\n",
       "      <td>-0.048957</td>\n",
       "      <td>0.006425</td>\n",
       "      <td>-0.018680</td>\n",
       "      <td>-0.003358</td>\n",
       "    </tr>\n",
       "    <tr>\n",
       "      <th>2018-11-21</th>\n",
       "      <td>0.033204</td>\n",
       "      <td>-0.001131</td>\n",
       "      <td>-0.001033</td>\n",
       "      <td>0.003402</td>\n",
       "      <td>0.005563</td>\n",
       "    </tr>\n",
       "    <tr>\n",
       "      <th>2018-11-23</th>\n",
       "      <td>-0.004322</td>\n",
       "      <td>-0.025727</td>\n",
       "      <td>0.002169</td>\n",
       "      <td>-0.006701</td>\n",
       "      <td>-0.003924</td>\n",
       "    </tr>\n",
       "    <tr>\n",
       "      <th>2018-11-26</th>\n",
       "      <td>-0.059290</td>\n",
       "      <td>0.013433</td>\n",
       "      <td>0.001546</td>\n",
       "      <td>0.016015</td>\n",
       "      <td>-0.000655</td>\n",
       "    </tr>\n",
       "    <tr>\n",
       "      <th>2018-11-27</th>\n",
       "      <td>0.010945</td>\n",
       "      <td>-0.002179</td>\n",
       "      <td>0.003086</td>\n",
       "      <td>0.003359</td>\n",
       "      <td>-0.007403</td>\n",
       "    </tr>\n",
       "    <tr>\n",
       "      <th>...</th>\n",
       "      <td>...</td>\n",
       "      <td>...</td>\n",
       "      <td>...</td>\n",
       "      <td>...</td>\n",
       "      <td>...</td>\n",
       "    </tr>\n",
       "    <tr>\n",
       "      <th>2023-11-10</th>\n",
       "      <td>0.016778</td>\n",
       "      <td>0.022955</td>\n",
       "      <td>-0.000472</td>\n",
       "      <td>0.015484</td>\n",
       "      <td>-0.016219</td>\n",
       "    </tr>\n",
       "    <tr>\n",
       "      <th>2023-11-13</th>\n",
       "      <td>-0.015014</td>\n",
       "      <td>-0.008621</td>\n",
       "      <td>-0.001891</td>\n",
       "      <td>-0.000954</td>\n",
       "      <td>0.006653</td>\n",
       "    </tr>\n",
       "    <tr>\n",
       "      <th>2023-11-14</th>\n",
       "      <td>-0.026784</td>\n",
       "      <td>0.014185</td>\n",
       "      <td>-0.014778</td>\n",
       "      <td>0.019215</td>\n",
       "      <td>0.008343</td>\n",
       "    </tr>\n",
       "    <tr>\n",
       "      <th>2023-11-15</th>\n",
       "      <td>0.063846</td>\n",
       "      <td>0.003036</td>\n",
       "      <td>0.002686</td>\n",
       "      <td>0.002115</td>\n",
       "      <td>-0.000867</td>\n",
       "    </tr>\n",
       "    <tr>\n",
       "      <th>2023-11-16</th>\n",
       "      <td>-0.046630</td>\n",
       "      <td>0.009002</td>\n",
       "      <td>-0.000192</td>\n",
       "      <td>0.001222</td>\n",
       "      <td>0.012069</td>\n",
       "    </tr>\n",
       "  </tbody>\n",
       "</table>\n",
       "<p>1256 rows × 5 columns</p>\n",
       "</div>"
      ],
      "text/plain": [
       "                 BTC      AAPL       DXY       SPY      GOLD\n",
       "Date                                                        \n",
       "2018-11-20 -0.090076 -0.048957  0.006425 -0.018680 -0.003358\n",
       "2018-11-21  0.033204 -0.001131 -0.001033  0.003402  0.005563\n",
       "2018-11-23 -0.004322 -0.025727  0.002169 -0.006701 -0.003924\n",
       "2018-11-26 -0.059290  0.013433  0.001546  0.016015 -0.000655\n",
       "2018-11-27  0.010945 -0.002179  0.003086  0.003359 -0.007403\n",
       "...              ...       ...       ...       ...       ...\n",
       "2023-11-10  0.016778  0.022955 -0.000472  0.015484 -0.016219\n",
       "2023-11-13 -0.015014 -0.008621 -0.001891 -0.000954  0.006653\n",
       "2023-11-14 -0.026784  0.014185 -0.014778  0.019215  0.008343\n",
       "2023-11-15  0.063846  0.003036  0.002686  0.002115 -0.000867\n",
       "2023-11-16 -0.046630  0.009002 -0.000192  0.001222  0.012069\n",
       "\n",
       "[1256 rows x 5 columns]"
      ]
     },
     "execution_count": 240,
     "metadata": {},
     "output_type": "execute_result"
    }
   ],
   "source": [
    "asset_series = [series_btc, series_aapl, series_dxy, series_spy, series_gold]\n",
    "dfdict = {}\n",
    "\n",
    "# Calculate log returns and store them in a list where keys are tickers\n",
    "for series in asset_series:\n",
    "    dfdict[series.name] = np.log(series / series.shift(1))\n",
    "    # print(\"series name =\", series.name)\n",
    "\n",
    "df = pd.DataFrame(dfdict)\n",
    "df = df.dropna()  # drop NaN values\n",
    "\n",
    "df"
   ]
  },
  {
   "cell_type": "markdown",
   "metadata": {},
   "source": [
    "We take first 4 years as the **training set** and the last year as the **test set**"
   ]
  },
  {
   "cell_type": "code",
   "execution_count": 241,
   "metadata": {},
   "outputs": [
    {
     "name": "stdout",
     "output_type": "stream",
     "text": [
      "                 BTC      AAPL       DXY       SPY      GOLD\n",
      "Date                                                        \n",
      "2018-11-20 -0.090076 -0.048957  0.006425 -0.018680 -0.003358\n",
      "2018-11-21  0.033204 -0.001131 -0.001033  0.003402  0.005563\n",
      "2018-11-23 -0.004322 -0.025727  0.002169 -0.006701 -0.003924\n",
      "2018-11-26 -0.059290  0.013433  0.001546  0.016015 -0.000655\n",
      "2018-11-27  0.010945 -0.002179  0.003086  0.003359 -0.007403\n",
      "...              ...       ...       ...       ...       ...\n",
      "2022-11-09 -0.154890 -0.033753  0.008448 -0.020817 -0.001169\n",
      "2022-11-10  0.102037  0.085236 -0.021394  0.053497  0.023235\n",
      "2022-11-11 -0.031918  0.019085 -0.017903  0.009632  0.008930\n",
      "2022-11-14  0.016065 -0.009531  0.003475 -0.008543  0.004294\n",
      "2022-11-15  0.015904  0.011800 -0.002441  0.008493  0.000113\n",
      "\n",
      "[1004 rows x 5 columns]\n",
      "                 BTC      AAPL       DXY       SPY      GOLD\n",
      "Date                                                        \n",
      "2022-11-16 -0.012826 -0.008366 -0.001128 -0.007658 -0.000451\n",
      "2022-11-17  0.001084  0.012888  0.003850 -0.003065 -0.006905\n",
      "2022-11-18  0.000615  0.003775  0.002247  0.004530 -0.005067\n",
      "2022-11-21 -0.031459 -0.021919  0.008474 -0.003643 -0.008311\n",
      "2022-11-22  0.025175  0.014555 -0.005766  0.013367  0.000518\n",
      "...              ...       ...       ...       ...       ...\n",
      "2023-11-10  0.016778  0.022955 -0.000472  0.015484 -0.016219\n",
      "2023-11-13 -0.015014 -0.008621 -0.001891 -0.000954  0.006653\n",
      "2023-11-14 -0.026784  0.014185 -0.014778  0.019215  0.008343\n",
      "2023-11-15  0.063846  0.003036  0.002686  0.002115 -0.000867\n",
      "2023-11-16 -0.046630  0.009002 -0.000192  0.001222  0.012069\n",
      "\n",
      "[252 rows x 5 columns]\n"
     ]
    }
   ],
   "source": [
    "nrows = len(df.index)\n",
    "train_df = df.iloc[0:int(nrows * 0.8), :]\n",
    "test_df = df.iloc[int(nrows * 0.8):, :]\n",
    "\n",
    "print(train_df)\n",
    "print(test_df)"
   ]
  },
  {
   "cell_type": "markdown",
   "metadata": {},
   "source": [
    "As we can see, \n",
    "\n",
    "* **training data** spans from 2018-11-20 to 2022-11-15\n",
    "* **test data** spans from 2022-11-16 to 2023-11-16 (today)\n",
    "\n",
    "Then we can split **dependent** and **independent** variables to different dataframes:"
   ]
  },
  {
   "cell_type": "code",
   "execution_count": 242,
   "metadata": {},
   "outputs": [
    {
     "name": "stdout",
     "output_type": "stream",
     "text": [
      "                AAPL       DXY       SPY      GOLD\n",
      "Date                                              \n",
      "2018-11-20 -0.048957  0.006425 -0.018680 -0.003358\n",
      "2018-11-21 -0.001131 -0.001033  0.003402  0.005563\n",
      "2018-11-23 -0.025727  0.002169 -0.006701 -0.003924\n",
      "2018-11-26  0.013433  0.001546  0.016015 -0.000655\n",
      "2018-11-27 -0.002179  0.003086  0.003359 -0.007403\n",
      "...              ...       ...       ...       ...\n",
      "2022-11-09 -0.033753  0.008448 -0.020817 -0.001169\n",
      "2022-11-10  0.085236 -0.021394  0.053497  0.023235\n",
      "2022-11-11  0.019085 -0.017903  0.009632  0.008930\n",
      "2022-11-14 -0.009531  0.003475 -0.008543  0.004294\n",
      "2022-11-15  0.011800 -0.002441  0.008493  0.000113\n",
      "\n",
      "[1004 rows x 4 columns]\n",
      "Date\n",
      "2018-11-20   -0.090076\n",
      "2018-11-21    0.033204\n",
      "2018-11-23   -0.004322\n",
      "2018-11-26   -0.059290\n",
      "2018-11-27    0.010945\n",
      "                ...   \n",
      "2022-11-09   -0.154890\n",
      "2022-11-10    0.102037\n",
      "2022-11-11   -0.031918\n",
      "2022-11-14    0.016065\n",
      "2022-11-15    0.015904\n",
      "Name: BTC, Length: 1004, dtype: float64\n",
      "                AAPL       DXY       SPY      GOLD\n",
      "Date                                              \n",
      "2022-11-16 -0.008366 -0.001128 -0.007658 -0.000451\n",
      "2022-11-17  0.012888  0.003850 -0.003065 -0.006905\n",
      "2022-11-18  0.003775  0.002247  0.004530 -0.005067\n",
      "2022-11-21 -0.021919  0.008474 -0.003643 -0.008311\n",
      "2022-11-22  0.014555 -0.005766  0.013367  0.000518\n",
      "...              ...       ...       ...       ...\n",
      "2023-11-10  0.022955 -0.000472  0.015484 -0.016219\n",
      "2023-11-13 -0.008621 -0.001891 -0.000954  0.006653\n",
      "2023-11-14  0.014185 -0.014778  0.019215  0.008343\n",
      "2023-11-15  0.003036  0.002686  0.002115 -0.000867\n",
      "2023-11-16  0.009002 -0.000192  0.001222  0.012069\n",
      "\n",
      "[252 rows x 4 columns]\n",
      "Date\n",
      "2022-11-16   -0.012826\n",
      "2022-11-17    0.001084\n",
      "2022-11-18    0.000615\n",
      "2022-11-21   -0.031459\n",
      "2022-11-22    0.025175\n",
      "                ...   \n",
      "2023-11-10    0.016778\n",
      "2023-11-13   -0.015014\n",
      "2023-11-14   -0.026784\n",
      "2023-11-15    0.063846\n",
      "2023-11-16   -0.046630\n",
      "Name: BTC, Length: 252, dtype: float64\n"
     ]
    }
   ],
   "source": [
    "# x dataframes are dataframes of predictor variables,\n",
    "# y dataframes are dataframes of dependent variables.\n",
    "\n",
    "train_x = train_df.iloc[:, 1:]\n",
    "train_y = train_df.iloc[:, 0]\n",
    "\n",
    "test_x = test_df.iloc[:, 1:]\n",
    "test_y = test_df.iloc[:, 0]\n",
    "\n",
    "print(train_x)\n",
    "print(train_y)\n",
    "print(test_x)\n",
    "print(test_y)"
   ]
  },
  {
   "cell_type": "markdown",
   "metadata": {},
   "source": [
    "## OLS regression:"
   ]
  },
  {
   "attachments": {
    "image-2.png": {
     "image/png": "[encoded data removed]"
    },
    "image.png": {
     "image/png": "[encoded data removed]"
    }
   },
   "cell_type": "markdown",
   "metadata": {},
   "source": [
    "**REMINDER**: Don't forget to add **intercept** !\n",
    "\n",
    "![image-2.png](attachment:image-2.png)\n",
    "![image.png](attachment:image.png)"
   ]
  },
  {
   "cell_type": "code",
   "execution_count": 243,
   "metadata": {},
   "outputs": [],
   "source": [
    "# Create beta (coefficients) and R^2 dicts to store model values\n",
    "beta_dict = {}\n",
    "rsquared_dict = {}"
   ]
  },
  {
   "cell_type": "code",
   "execution_count": 244,
   "metadata": {},
   "outputs": [
    {
     "name": "stdout",
     "output_type": "stream",
     "text": [
      "                            OLS Regression Results                            \n",
      "==============================================================================\n",
      "Dep. Variable:                    BTC   R-squared:                       0.132\n",
      "Model:                            OLS   Adj. R-squared:                  0.128\n",
      "Method:                 Least Squares   F-statistic:                     37.96\n",
      "Date:                Fri, 17 Nov 2023   Prob (F-statistic):           1.34e-29\n",
      "Time:                        16:23:22   Log-Likelihood:                 1816.5\n",
      "No. Observations:                1004   AIC:                            -3623.\n",
      "Df Residuals:                     999   BIC:                            -3598.\n",
      "Df Model:                           4                                         \n",
      "Covariance Type:            nonrobust                                         \n",
      "==============================================================================\n",
      "                 coef    std err          t      P>|t|      [0.025      0.975]\n",
      "------------------------------------------------------------------------------\n",
      "const          0.0007      0.001      0.549      0.583      -0.002       0.003\n",
      "AAPL           0.0168      0.099      0.170      0.865      -0.177       0.211\n",
      "DXY           -0.8291      0.322     -2.573      0.010      -1.462      -0.197\n",
      "SPY            0.9074      0.152      5.964      0.000       0.609       1.206\n",
      "GOLD           0.3451      0.133      2.590      0.010       0.084       0.606\n",
      "==============================================================================\n",
      "Omnibus:                      209.499   Durbin-Watson:                   2.048\n",
      "Prob(Omnibus):                  0.000   Jarque-Bera (JB):             2695.071\n",
      "Skew:                          -0.559   Prob(JB):                         0.00\n",
      "Kurtosis:                      10.948   Cond. No.                         261.\n",
      "==============================================================================\n",
      "\n",
      "Notes:\n",
      "[1] Standard Errors assume that the covariance matrix of the errors is correctly specified.\n",
      "__________________________________________________\n",
      "Coefficients beta:\n",
      "const    0.000691\n",
      "AAPL     0.016765\n",
      "DXY     -0.829134\n",
      "SPY      0.907398\n",
      "GOLD     0.345068\n",
      "dtype: float64\n",
      "<class 'pandas.core.series.Series'>\n"
     ]
    }
   ],
   "source": [
    "# Fit an OLS model, noticce this is the training set.\n",
    "model_ols = sm.OLS(train_y, sm.add_constant(train_x)).fit()\n",
    "\n",
    "# Store the coefficients beta\n",
    "beta_dict[\"OLS\"] = model_ols.params\n",
    "\n",
    "# Print our results\n",
    "print(model_ols.summary())\n",
    "print(\"_\" * 50)\n",
    "print(\"Coefficients beta:\")\n",
    "print(model_ols.params)\n",
    "print(type(model_ols.params))  # params is a pd.Series object\n"
   ]
  },
  {
   "cell_type": "markdown",
   "metadata": {},
   "source": [
    "After we get coefficients $\\beta$ from the training set, we run our **OLS** model with the **test set**:"
   ]
  },
  {
   "cell_type": "code",
   "execution_count": 245,
   "metadata": {},
   "outputs": [
    {
     "name": "stdout",
     "output_type": "stream",
     "text": [
      "R^2 = 0.05903617433580233\n"
     ]
    }
   ],
   "source": [
    "# Get y^ (fitted values) values\n",
    "yhat_ols = model_ols.predict(sm.add_constant(test_x))\n",
    "\n",
    "# Get actual values\n",
    "y = test_y\n",
    "\n",
    "# Calculate residual sum of squares (RSS)\n",
    "rss_ols = np.sum(np.power((y - yhat_ols), 2))\n",
    "\n",
    "# Calculate sample variance\n",
    "samplevar_ols = np.var(y)\n",
    "\n",
    "# Calculate R^2 from RSS and sample variance\n",
    "rsquared_ols = 1 - (rss_ols / (samplevar_ols * len(y)))\n",
    "\n",
    "# Store the R^2 value\n",
    "rsquared_dict[\"OLS\"] = rsquared_ols\n",
    "\n",
    "print(\"R^2 =\", rsquared_ols)"
   ]
  },
  {
   "cell_type": "markdown",
   "metadata": {},
   "source": [
    "## Standardize variables for Ridge and Lasso regressions"
   ]
  },
  {
   "cell_type": "code",
   "execution_count": 246,
   "metadata": {},
   "outputs": [
    {
     "name": "stdout",
     "output_type": "stream",
     "text": [
      "                AAPL       DXY       SPY      GOLD\n",
      "Date                                              \n",
      "2018-11-20 -2.226247  1.508728 -1.295932 -0.330882\n",
      "2018-11-21 -0.051436 -0.242687  0.236006  0.548182\n",
      "2018-11-23 -1.169892  0.509358 -0.464893 -0.386636\n",
      "2018-11-26  0.610865  0.363157  1.111075 -0.064590\n",
      "2018-11-27 -0.099071  0.724634  0.233034 -0.729529\n",
      "...              ...       ...       ...       ...\n",
      "2022-11-09 -1.534891  1.983837 -1.444223 -0.115181\n",
      "2022-11-10  3.876018 -5.023932  3.711442  2.289680\n",
      "2022-11-11  0.867887 -4.204009  0.668235  0.879974\n",
      "2022-11-14 -0.433407  0.816030 -0.592698  0.423168\n",
      "2022-11-15  0.536573 -0.573131  0.589212  0.011116\n",
      "\n",
      "[1004 rows x 4 columns]\n",
      "Date\n",
      "2018-11-20   -2.116708\n",
      "2018-11-21    0.780260\n",
      "2018-11-23   -0.101570\n",
      "2018-11-26   -1.393268\n",
      "2018-11-27    0.257201\n",
      "                ...   \n",
      "2022-11-09   -3.639784\n",
      "2022-11-10    2.397800\n",
      "2022-11-11   -0.750059\n",
      "2022-11-14    0.377509\n",
      "2022-11-15    0.373739\n",
      "Name: BTC, Length: 1004, dtype: float64\n"
     ]
    },
    {
     "name": "stderr",
     "output_type": "stream",
     "text": [
      "/tmp/ipykernel_249/3877719660.py:6: FutureWarning: Series.__getitem__ treating keys as positions is deprecated. In a future version, integer keys will always be treated as labels (consistent with DataFrame behavior). To access a value by position, use `ser.iloc[pos]`\n",
      "  train_x_std.iloc[:, i] = train_x_std.iloc[:, i] / trainxstds[i]\n"
     ]
    }
   ],
   "source": [
    "# Standardize variables\n",
    "train_x_std = train_x\n",
    "trainxstds = train_x.apply(lambda s: s.std(), axis=0)\n",
    "\n",
    "for i in range(len(train_x_std.columns)):\n",
    "    train_x_std.iloc[:, i] = train_x_std.iloc[:, i] / trainxstds[i]\n",
    "\n",
    "train_y_std = train_y / train_y.std()\n",
    "\n",
    "print(train_x_std)\n",
    "print(train_y_std)"
   ]
  },
  {
   "cell_type": "markdown",
   "metadata": {},
   "source": [
    "## Ridge Regression:"
   ]
  },
  {
   "cell_type": "code",
   "execution_count": 247,
   "metadata": {},
   "outputs": [
    {
     "name": "stdout",
     "output_type": "stream",
     "text": [
      "lambdas = [1000000.0, 794328.2347242822, 630957.3444801943, 501187.2336272735, 398107.17055349855, 316227.76601683925, 251188.64315095925, 199526.23149688912, 158489.3192461124, 125892.54117941765, 100000.00000000081, 79432.82347242886, 63095.734448019946, 50118.72336272776, 39810.71705535018, 31622.77660168418, 25118.86431509613, 19952.623149689072, 15848.931924611368, 12589.254117941868, 10000.000000000164, 7943.282347242952, 6309.573444802046, 5011.872336272817, 3981.0717055350506, 3162.277660168444, 2511.8864315096334, 1995.2623149689236, 1584.8931924611497, 1258.925411794197, 1000.0000000000246, 794.3282347243016, 630.9573444802097, 501.1872336272858, 398.1071705535083, 316.227766016847, 251.18864315096542, 199.526231496894, 158.48931924611628, 125.89254117942073, 100.00000000000327, 79.43282347243081, 63.095734448021496, 50.11872336272899, 39.810717055351155, 31.622776601684958, 25.118864315096747, 19.952623149689565, 15.848931924611756, 12.589254117942177, 10.000000000000409, 7.943282347243146, 6.309573444802201, 5.0118723362729405, 3.9810717055351486, 3.1622776601685216, 2.511886431509695, 1.9952623149689726, 1.5848931924611886, 1.258925411794228, 1.000000000000049, 0.7943282347243211, 0.6309573444802252, 0.5011872336272981, 0.3981071705535181, 0.31622776601685476, 0.25118864315097156, 0.1995262314968989, 0.15848931924612017, 0.12589254117942383, 0.10000000000000572, 0.07943282347243276, 0.06309573444802304, 0.050118723362730225, 0.039810717055352135, 0.031622776601685734, 0.025118864315097363, 0.01995262314969005, 0.015848931924612147, 0.012589254117942485, 0.010000000000000654, 0.007943282347243341, 0.006309573444802356, 0.005011872336273063, 0.003981071705535246, 0.0031622776601685993, 0.002511886431509757, 0.0019952623149690216, 0.0015848931924612275, 0.0012589254117942588, 0.0010000000000000735, 0.0007943282347243406, 0.0006309573444802407, 0.0005011872336273104, 0.00039810717055352787, 0.0003162277660168625, 0.00025118864315097774, 0.00019952623149690379, 0.00015848931924612405, 0.0001258925411794269, 0.00010000000000000818, 7.943282347243471e-05, 6.309573444802459e-05, 5.011872336273145e-05, 3.981071705535311e-05, 3.162277660168651e-05, 2.511886431509798e-05, 1.995262314969054e-05, 1.5848931924612534e-05, 1.2589254117942794e-05, 1.00000000000009e-05, 7.943282347243537e-06, 6.309573444802511e-06, 5.011872336273186e-06, 3.9810717055353435e-06, 3.162277660168677e-06, 2.5118864315098186e-06, 1.9952623149690706e-06, 1.5848931924612665e-06, 1.2589254117942898e-06]\n"
     ]
    },
    {
     "name": "stdout",
     "output_type": "stream",
     "text": [
      "optimal lambda = 19.952623149689565\n"
     ]
    }
   ],
   "source": [
    "# Generate a sequence of lambdas to try\n",
    "lambdas = [np.power(10, i) for i in np.arange(6, -6, -0.1)]\n",
    "alphas = lambdas\n",
    "print(\"lambdas =\", lambdas)\n",
    "\n",
    "# Use 10-fold Cross Validation to find optimal lambda\n",
    "# using training set\n",
    "model_ridge_cv = RidgeCV(alphas=alphas, cv=10, scoring=\"neg_mean_squared_error\").fit(train_x, train_y)\n",
    "print(\"optimal lambda =\", model_ridge_cv.alpha_)"
   ]
  },
  {
   "cell_type": "code",
   "execution_count": 248,
   "metadata": {},
   "outputs": [],
   "source": [
    "# Using optimal lambda, fit ridge model with training data\n",
    "model_ridge = Ridge(alpha=model_ridge_cv.alpha_, fit_intercept=True).fit(train_x, train_y)\n",
    "\n",
    "# Create result coefficients beta to a Series and store it\n",
    "myzip = zip(model_ridge.feature_names_in_, model_ridge.coef_)\n",
    "\n",
    "coefdict_ridge = {\"const\":model_ridge.intercept_}\n",
    "for name, coef in myzip:\n",
    "    coefdict_ridge[name] = coef\n",
    "\n",
    "# Store the coefficients\n",
    "beta_dict[\"Ridge\"] = pd.Series(coefdict_ridge)"
   ]
  },
  {
   "cell_type": "code",
   "execution_count": 249,
   "metadata": {},
   "outputs": [
    {
     "name": "stdout",
     "output_type": "stream",
     "text": [
      "R^2 = 0.0007458450756282486\n"
     ]
    }
   ],
   "source": [
    "# Get y^ (fitted values) values\n",
    "yhat_ridge = model_ridge.predict(test_x)\n",
    "\n",
    "# Get actual values\n",
    "y = test_y\n",
    "\n",
    "# Calculate residual sum of squares (RSS)\n",
    "rss_ridge = np.sum(np.power(y - yhat_ridge, 2))\n",
    "\n",
    "# Calculate denominator of R^2\n",
    "denom_r2 = np.sum(np.power(y - np.mean(y), 2))\n",
    "\n",
    "# Calculate R^2 from RSS and sample variance\n",
    "rsquared_ridge = 1 - (rss_ridge / denom_r2)\n",
    "\n",
    "# Store the R^2 value\n",
    "rsquared_dict[\"Ridge\"] = rsquared_ridge\n",
    "\n",
    "print(\"R^2 =\", rsquared_ridge)"
   ]
  },
  {
   "cell_type": "markdown",
   "metadata": {},
   "source": [
    "## Lasso regression:"
   ]
  },
  {
   "cell_type": "code",
   "execution_count": 250,
   "metadata": {},
   "outputs": [
    {
     "name": "stdout",
     "output_type": "stream",
     "text": [
      "lambdas = [1000000.0, 794328.2347242822, 630957.3444801943, 501187.2336272735, 398107.17055349855, 316227.76601683925, 251188.64315095925, 199526.23149688912, 158489.3192461124, 125892.54117941765, 100000.00000000081, 79432.82347242886, 63095.734448019946, 50118.72336272776, 39810.71705535018, 31622.77660168418, 25118.86431509613, 19952.623149689072, 15848.931924611368, 12589.254117941868, 10000.000000000164, 7943.282347242952, 6309.573444802046, 5011.872336272817, 3981.0717055350506, 3162.277660168444, 2511.8864315096334, 1995.2623149689236, 1584.8931924611497, 1258.925411794197, 1000.0000000000246, 794.3282347243016, 630.9573444802097, 501.1872336272858, 398.1071705535083, 316.227766016847, 251.18864315096542, 199.526231496894, 158.48931924611628, 125.89254117942073, 100.00000000000327, 79.43282347243081, 63.095734448021496, 50.11872336272899, 39.810717055351155, 31.622776601684958, 25.118864315096747, 19.952623149689565, 15.848931924611756, 12.589254117942177, 10.000000000000409, 7.943282347243146, 6.309573444802201, 5.0118723362729405, 3.9810717055351486, 3.1622776601685216, 2.511886431509695, 1.9952623149689726, 1.5848931924611886, 1.258925411794228, 1.000000000000049, 0.7943282347243211, 0.6309573444802252, 0.5011872336272981, 0.3981071705535181, 0.31622776601685476, 0.25118864315097156, 0.1995262314968989, 0.15848931924612017, 0.12589254117942383, 0.10000000000000572, 0.07943282347243276, 0.06309573444802304, 0.050118723362730225, 0.039810717055352135, 0.031622776601685734, 0.025118864315097363, 0.01995262314969005, 0.015848931924612147, 0.012589254117942485, 0.010000000000000654, 0.007943282347243341, 0.006309573444802356, 0.005011872336273063, 0.003981071705535246, 0.0031622776601685993, 0.002511886431509757, 0.0019952623149690216, 0.0015848931924612275, 0.0012589254117942588, 0.0010000000000000735, 0.0007943282347243406, 0.0006309573444802407, 0.0005011872336273104, 0.00039810717055352787, 0.0003162277660168625, 0.00025118864315097774, 0.00019952623149690379, 0.00015848931924612405, 0.0001258925411794269, 0.00010000000000000818, 7.943282347243471e-05, 6.309573444802459e-05, 5.011872336273145e-05, 3.981071705535311e-05, 3.162277660168651e-05, 2.511886431509798e-05, 1.995262314969054e-05, 1.5848931924612534e-05, 1.2589254117942794e-05, 1.00000000000009e-05, 7.943282347243537e-06, 6.309573444802511e-06, 5.011872336273186e-06, 3.9810717055353435e-06, 3.162277660168677e-06, 2.5118864315098186e-06, 1.9952623149690706e-06, 1.5848931924612665e-06, 1.2589254117942898e-06]\n",
      "optimal lambda = 0.00015848931924612405\n"
     ]
    }
   ],
   "source": [
    "# Generate a sequence of lambdas to try\n",
    "lambdas = [np.power(10, i) for i in np.arange(6, -6, -0.1)]\n",
    "alphas = lambdas\n",
    "print(\"lambdas =\", lambdas)\n",
    "\n",
    "# Use 10-fold Cross Validation to find optimal lambda\n",
    "# using training set\n",
    "model_lasso_cv = LassoCV(alphas=alphas, cv=10).fit(train_x, train_y)\n",
    "print(\"optimal lambda =\", model_lasso_cv.alpha_)"
   ]
  },
  {
   "cell_type": "code",
   "execution_count": 251,
   "metadata": {},
   "outputs": [],
   "source": [
    "# Fit a Lasso model with optimal lambda\n",
    "model_lasso = Lasso(model_lasso_cv.alpha_, fit_intercept=True).fit(train_x, train_y)\n",
    "coefdict_lasso = {\"const\":model_lasso.intercept_}\n",
    "\n",
    "for name, coef in zip(model_lasso.feature_names_in_, model_lasso.coef_):\n",
    "    coefdict_lasso[name] = coef\n",
    "    \n",
    "# Store coefficients beta\n",
    "beta_dict[\"Lasso\"] = pd.Series(coefdict_lasso)"
   ]
  },
  {
   "cell_type": "code",
   "execution_count": 252,
   "metadata": {},
   "outputs": [
    {
     "name": "stdout",
     "output_type": "stream",
     "text": [
      "R^2 = 0.0007605667191709076\n"
     ]
    }
   ],
   "source": [
    "# Now test our Lasso model with test data\n",
    "\n",
    "# Get y^ (fitted values) values\n",
    "yhat_lasso = model_lasso.predict(test_x)\n",
    "\n",
    "# Get actual values\n",
    "y = test_y\n",
    "\n",
    "# Calculate residual sum of squares (RSS)\n",
    "rss_lasso = np.sum(np.power(y - yhat_lasso, 2))\n",
    "\n",
    "# Calculate denominator of R^2\n",
    "denom_r2 = np.sum(np.power(y - np.mean(y), 2))\n",
    "\n",
    "# Calculate R^2 from RSS and sample variance\n",
    "rsquared_lasso = 1 - (rss_lasso / denom_r2)\n",
    "\n",
    "# Store the R^2 value\n",
    "rsquared_dict[\"Lasso\"] = rsquared_lasso\n",
    "\n",
    "print(\"R^2 =\", rsquared_lasso)"
   ]
  },
  {
   "cell_type": "code",
   "execution_count": 253,
   "metadata": {},
   "outputs": [
    {
     "data": {
      "text/html": [
       "<div>\n",
       "<style scoped>\n",
       "    .dataframe tbody tr th:only-of-type {\n",
       "        vertical-align: middle;\n",
       "    }\n",
       "\n",
       "    .dataframe tbody tr th {\n",
       "        vertical-align: top;\n",
       "    }\n",
       "\n",
       "    .dataframe thead th {\n",
       "        text-align: right;\n",
       "    }\n",
       "</style>\n",
       "<table border=\"1\" class=\"dataframe\">\n",
       "  <thead>\n",
       "    <tr style=\"text-align: right;\">\n",
       "      <th></th>\n",
       "      <th>OLS</th>\n",
       "      <th>Ridge</th>\n",
       "      <th>Lasso</th>\n",
       "    </tr>\n",
       "  </thead>\n",
       "  <tbody>\n",
       "    <tr>\n",
       "      <th>const</th>\n",
       "      <td>0.000691</td>\n",
       "      <td>0.000684</td>\n",
       "      <td>0.000699</td>\n",
       "    </tr>\n",
       "    <tr>\n",
       "      <th>AAPL</th>\n",
       "      <td>0.016765</td>\n",
       "      <td>0.000916</td>\n",
       "      <td>0.000276</td>\n",
       "    </tr>\n",
       "    <tr>\n",
       "      <th>DXY</th>\n",
       "      <td>-0.829134</td>\n",
       "      <td>-0.003538</td>\n",
       "      <td>-0.003437</td>\n",
       "    </tr>\n",
       "    <tr>\n",
       "      <th>SPY</th>\n",
       "      <td>0.907398</td>\n",
       "      <td>0.012389</td>\n",
       "      <td>0.013024</td>\n",
       "    </tr>\n",
       "    <tr>\n",
       "      <th>GOLD</th>\n",
       "      <td>0.345068</td>\n",
       "      <td>0.003453</td>\n",
       "      <td>0.003389</td>\n",
       "    </tr>\n",
       "    <tr>\n",
       "      <th>R squared</th>\n",
       "      <td>0.059036</td>\n",
       "      <td>0.000746</td>\n",
       "      <td>0.000761</td>\n",
       "    </tr>\n",
       "  </tbody>\n",
       "</table>\n",
       "</div>"
      ],
      "text/plain": [
       "                OLS     Ridge     Lasso\n",
       "const      0.000691  0.000684  0.000699\n",
       "AAPL       0.016765  0.000916  0.000276\n",
       "DXY       -0.829134 -0.003538 -0.003437\n",
       "SPY        0.907398  0.012389  0.013024\n",
       "GOLD       0.345068  0.003453  0.003389\n",
       "R squared  0.059036  0.000746  0.000761"
      ]
     },
     "execution_count": 253,
     "metadata": {},
     "output_type": "execute_result"
    }
   ],
   "source": [
    "r2_series = pd.Series(rsquared_dict, name=\"R squared\")\n",
    "coef_df = pd.DataFrame(beta_dict)\n",
    "# results_df = pd.concat([coef_df, r2_series], axis=1)\n",
    "coef_df.loc[\"R squared\", :] = r2_series\n",
    "coef_df"
   ]
  }
 ],
 "metadata": {
  "kernelspec": {
   "display_name": "Python 3",
   "language": "python",
   "name": "python3"
  },
  "language_info": {
   "codemirror_mode": {
    "name": "ipython",
    "version": 3
   },
   "file_extension": ".py",
   "mimetype": "text/x-python",
   "name": "python",
   "nbconvert_exporter": "python",
   "pygments_lexer": "ipython3",
   "version": "3.10.5"
  }
 },
 "nbformat": 4,
 "nbformat_minor": 2
}
