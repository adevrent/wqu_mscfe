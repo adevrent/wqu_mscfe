{
 "cells": [
  {
   "cell_type": "code",
   "execution_count": 6,
   "metadata": {},
   "outputs": [
    {
     "data": {
      "text/html": [
       "<div>\n",
       "<style scoped>\n",
       "    .dataframe tbody tr th:only-of-type {\n",
       "        vertical-align: middle;\n",
       "    }\n",
       "\n",
       "    .dataframe tbody tr th {\n",
       "        vertical-align: top;\n",
       "    }\n",
       "\n",
       "    .dataframe thead th {\n",
       "        text-align: right;\n",
       "    }\n",
       "</style>\n",
       "<table border=\"1\" class=\"dataframe\">\n",
       "  <thead>\n",
       "    <tr style=\"text-align: right;\">\n",
       "      <th></th>\n",
       "      <th>Date</th>\n",
       "      <th>13W_TB</th>\n",
       "      <th>5Y_TBY</th>\n",
       "      <th>10Y_TBY</th>\n",
       "      <th>30Y_TBY</th>\n",
       "      <th>DWJ</th>\n",
       "      <th>Year</th>\n",
       "    </tr>\n",
       "  </thead>\n",
       "  <tbody>\n",
       "    <tr>\n",
       "      <th>0</th>\n",
       "      <td>1/5/2016</td>\n",
       "      <td>0.322581</td>\n",
       "      <td>-0.006340</td>\n",
       "      <td>0.001336</td>\n",
       "      <td>0.007023</td>\n",
       "      <td>0.000567</td>\n",
       "      <td>2016</td>\n",
       "    </tr>\n",
       "    <tr>\n",
       "      <th>1</th>\n",
       "      <td>1/6/2016</td>\n",
       "      <td>0.000000</td>\n",
       "      <td>-0.042923</td>\n",
       "      <td>-0.031584</td>\n",
       "      <td>-0.023580</td>\n",
       "      <td>-0.014695</td>\n",
       "      <td>2016</td>\n",
       "    </tr>\n",
       "    <tr>\n",
       "      <th>2</th>\n",
       "      <td>1/7/2016</td>\n",
       "      <td>-0.073171</td>\n",
       "      <td>-0.023030</td>\n",
       "      <td>-0.011024</td>\n",
       "      <td>-0.004762</td>\n",
       "      <td>-0.023211</td>\n",
       "      <td>2016</td>\n",
       "    </tr>\n",
       "    <tr>\n",
       "      <th>3</th>\n",
       "      <td>1/8/2016</td>\n",
       "      <td>0.000000</td>\n",
       "      <td>-0.021092</td>\n",
       "      <td>-0.010683</td>\n",
       "      <td>-0.002051</td>\n",
       "      <td>-0.010152</td>\n",
       "      <td>2016</td>\n",
       "    </tr>\n",
       "    <tr>\n",
       "      <th>4</th>\n",
       "      <td>1/11/2016</td>\n",
       "      <td>-0.078947</td>\n",
       "      <td>-0.001267</td>\n",
       "      <td>0.013146</td>\n",
       "      <td>0.012329</td>\n",
       "      <td>0.003188</td>\n",
       "      <td>2016</td>\n",
       "    </tr>\n",
       "  </tbody>\n",
       "</table>\n",
       "</div>"
      ],
      "text/plain": [
       "        Date    13W_TB    5Y_TBY   10Y_TBY   30Y_TBY       DWJ  Year\n",
       "0   1/5/2016  0.322581 -0.006340  0.001336  0.007023  0.000567  2016\n",
       "1   1/6/2016  0.000000 -0.042923 -0.031584 -0.023580 -0.014695  2016\n",
       "2   1/7/2016 -0.073171 -0.023030 -0.011024 -0.004762 -0.023211  2016\n",
       "3   1/8/2016  0.000000 -0.021092 -0.010683 -0.002051 -0.010152  2016\n",
       "4  1/11/2016 -0.078947 -0.001267  0.013146  0.012329  0.003188  2016"
      ]
     },
     "execution_count": 6,
     "metadata": {},
     "output_type": "execute_result"
    }
   ],
   "source": [
    "# Load libraries\n",
    "import matplotlib.pyplot as plt\n",
    "import pandas as pd\n",
    "from scipy.stats import kendalltau, pearsonr, spearmanr\n",
    "\n",
    "plt.rcParams[\"figure.figsize\"] = (12, 9)  # Figure size and width\n",
    "\n",
    "# Import dataset\n",
    "data_set = pd.read_csv(\"/home/sscf/wqu_mscfe/Financial Econometrics/M3/M3. bond_and_stock_data.csv\")\n",
    "data_set.head(5)"
   ]
  },
  {
   "cell_type": "markdown",
   "metadata": {},
   "source": [
    "# Pearson Correlation"
   ]
  },
  {
   "cell_type": "markdown",
   "metadata": {},
   "source": [
    "The Pearson correlation is the most used correlation measure. The formula for Pearson Correlation is:\n",
    "\n",
    "$$ \\rho_{X,Y} = \\frac{cov(X,Y)}{\\sigma_{_{X}} \\sigma_{_{Y}}} $$\n",
    "\n",
    "Where $cov(X,Y)$ is the covariance of $X$ and $Y$, $\\sigma_{_{X}}$ is the standard deviation of $X$ and $\\sigma_{_{Y}}$  is the standard deviation of $Y$\n",
    "\n",
    "With some math, we can also write the Pearson correlation as follows:\n",
    "\n",
    "$$ \\rho_{X,Y} = \\frac{E(XY)-E(X)E(Y)}{ \\sqrt{E(X^{2})-(E(X))^{2}} \\sqrt{E(Y^{2})-(E(Y))^{2}}} $$\n",
    "\n",
    "Pearson correlation is a measure of the linear relationship that exists between two random variables. For example, we can calculate the Pearson correlation of hours of studying and test grades for 50 students to see if there is a linear correlation. In order to calculate Pearson correlation, you must have paired values from each observation. The value of Pearson Correlation is between $-1$ and $1$. In general, if the absolute value of the Pearson correlation for two random variables is over 0.7, we would say the two variables are highly correlated. If the absolute value of the Pearson correlation for two random variables is between 0.5 and 0.7, we would say the two variables are moderately correlated. If the Pearson correlation is between 0.3 and 0.5, we would say the two variables are low correlated. However, we would say the two variables are not correlated when the Pearson correlation is below 0.3. Because the Pearson Correlation only measures the \"linear relationship\" of two variables, a low Pearson Correlation only says that the two variables are not linearly correlated, but they may be correlated in a non-linear way. <u> The Pearson correlation also assumes that the two variables come from normal distribution and are continuous variables. </u>\n",
    "\n",
    "One problem with the Pearson correlation is that it can change significantly when outliers are present. <u> A measure whose value does not change significantly with the existence of outliers is called a **robust** measure. </u> For example, the median is a **robust measure**. In a dataset $\\{2, 2, 2, 3, 5, 6, 6, 7, 8, 9, 10, 5000 \\}$, 5,000 is the outlier. The median is six if you keep the outlier. The median is still six if you drop the outlier. The story is different for the mean. The mean is 421.67 with the outlier. The mean is 5.45 without the outlier. The mean decreases significantly without the outlier while the median does not change without the outlier.\n",
    "\n"
   ]
  },
  {
   "cell_type": "markdown",
   "metadata": {},
   "source": [
    "# Spearman Correlation"
   ]
  },
  {
   "cell_type": "markdown",
   "metadata": {},
   "source": [
    "Spearman correlation is less sensitive to outliers. This is because the Spearman correlation is calculated on ranked values of the data, not actual values of the data.\n",
    "\n",
    "Spearman correlation is the ranked version of the Pearson correlation and that the Spearman correlation is less sensitive to outliers. Let's look at other properties of the Spearman correlation.\n",
    "\n",
    "> **a. The value of the Spearman correlation is between -1 and 1.** <br>\n",
    ">  This conclusion is the result of using the Pearson correlation formula on ranked values of the data.\n",
    ">\n",
    "> **b. The Spearman correlation is a ranked data correlation.** <br>\n",
    ">  As demonstrated above, if the data is ranked data, you should use the Spearman correlation.\n",
    ">\n",
    "> **c. The Spearman correlation is resistant to outliers.** <br>\n",
    ">  We mentioned this point above.\n",
    ">\n",
    "> **d. The Spearman correlation is a non-parametric method.** <br>\n",
    ">  Since Spearman correlation does not require the data to be normal, it is considered a non-parametric method. \n",
    ">\n",
    "> **e. The Spearman correlation is a measure of the strength of the <u> monotonic relationship between two random variables.** </u> <br>\n",
    ">  What is a monotonic relationship? We can use the following examples to explain.\n"
   ]
  },
  {
   "cell_type": "markdown",
   "metadata": {},
   "source": [
    "**Figure 5: Monotonic Relationship**\n",
    "\n",
    "![image.png](data:image/png;base64,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)\n"
   ]
  },
  {
   "cell_type": "markdown",
   "metadata": {},
   "source": [
    "# Kendall Correlation"
   ]
  },
  {
   "cell_type": "markdown",
   "metadata": {},
   "source": [
    "Kendall Correlation or Kendall's tau Correlation $\\tau$ is another non-parametric rank-based correlation. To calculate Kendall's tau Correlation, we first need to determine concordant numbers and discordant numbers. Concordant observations mean the values of two variables are moving in the same direction. Discordant observations mean the values of two variables are moving in the opposite direction. It is best to use an example to illustrate how to get the numbers.\n"
   ]
  },
  {
   "cell_type": "markdown",
   "metadata": {},
   "source": [
    "In figure 7, we show the same example of a student's study hours and their test grades. We first ordered the table with the student who has the highest \"Hours of Study\" on top and the least on the bottom. Then, we added a few more columns. For \"Ranked Hours,\" we use 1 for the student who has the highest \"Hours of Study\" and 2 for the second highest \"Hours of Study.\" We repeat this process with the \"Ranked Grade\" column. Because the table is ordered by \"Hours of Study,\" you can see \"Ranked Hours\" has a starting value of 1 and an ending value of 12.\n",
    "\n",
    "Now we'll examine how to get the value under the \"Concordant\" column. First, we start with the first row for Student I. Remember the table is already ordered by the first variable \"Hours of Study.\" Let's focus on the \"Ranked Grade\" column. For student I, the \"Ranked Grade\" is 3. We need to count how many numbers are larger than 3 below the row where 3 sits. In this case, there are 9 numbers {12, 4, 7, 5, 8, 6, 9, 11, 10} that are larger than 3. We put 9 in the \"Concordant\" cell in the row where 3 sits. We then move to the next row for student A. The number for \"Ranked Grade\" is 2. We need to calculate how many numbers are greater than 2 below this row. There are 9 numbers {12, 4, 7, 5, 8, 6, 9, 11, 10}. We put 9 in the \"Concordant\" cell to the row where 2 sits. We keep doing it until we reach the row of student C. Since there are no numbers under student C, the \"Concordant\" cell is left empty.\n",
    "\n",
    "Now let's move to the \"Discordant\" column. We also start from the first row for student I. We still focus on the \"Ranked Grade\" column. We need to count how many numbers are smaller than 3. In this case, there are 2 numbers {1, 2}. We put 2 in the \"Discordant\" cell to the row where 3 sits. Then, we keep doing the same for the following row until the last row. Then, sum up all the numbers in both the \"Concordant\" column and \"Discordant\" column.\n",
    "\n",
    "Kendall's tau Correlation is defined as follows:\n",
    "\n",
    "$$ \\tau = \\frac{\\text{Number of Concordant} - \\text{Number of Discordant}}{\\binom{n}{2}} $$\n",
    "\n",
    "Where $n$ is number of observations\n",
    "\n",
    "Apply our example to the formula:\n",
    "\n",
    "$$ \\tau = \\frac{51-15}{\\binom{12}{2}} = \\frac{36}{66} = 0.54545 $$\n",
    "\n",
    "The above Kendall's tau is also called Kendall's tau-a. There are alternative definitions, like Kendall's tau-b, which adjusts for tied ranks. \n",
    "\n",
    "Here are some other properties for Kendall's tau:\n",
    "\n",
    "> 1. The value of Kendall's tau is between $-1$ and $1$. \n",
    "> 2. Kendall's tau is also a non-parametric statistic since it does not require the variables to be normally distributed. \n",
    "> 3. Kendall's tau does not require the two variables to have a linear relationship.\n",
    "> 4. Kendall's tau is also resistant to outliers.\n",
    "\n",
    "Both Kendall's tau and the Spearman correlation are rank correlations. In general, the Spearman correlation tends to be larger than Kendall's tau in large sample sizes. The Spearman correlation is also more sensitive to data error or discrepancy. Hence, Kendall's tau is generally preferred over the Spearman correlation because Kendall's tau is more robust and more efficient. Kendall's tau is also easier to explain using the difference between concordance and discordance. Given both methods are in most statistical applications, you can run both and compare the results. "
   ]
  },
  {
   "cell_type": "markdown",
   "metadata": {},
   "source": [
    "### **4.2 Basics of Concordance Correlation**"
   ]
  },
  {
   "cell_type": "markdown",
   "metadata": {},
   "source": [
    "Lawrence Lin proposes how to use the concordance correlation coefficient. Let's see how it works. If we have two random variables $X$ and $Y$, here is the formula for concordance correlation:\n",
    "\n",
    "$$ P_{ccc} = \\frac{2 \\sigma_{XY}}{\\sigma_{X}^{2} + \\sigma_{Y}^{2} + (\\mu_{X} - \\mu_{Y})^{2}} $$\n",
    "\n",
    "Where $\\sigma_{XY}$ is the covariance, $\\sigma_{X}^2$ and $\\sigma_{Y}^2$ are variances for $X$ and $Y$, and $\\mu_{X}$ and $\\mu_{Y}$ are expected values (means) for $X$ and $Y$.\n",
    "\n",
    "We can decompose the above formula as follows:\n",
    "\n",
    "$$ P_{ccc} = \\rho \\times C_{b} $$\n",
    "\n",
    "Where \n",
    "\n",
    "$$ C_{b} = \\frac{2}{\\Large\\frac{\\sigma_{X}}{\\sigma_{Y}} + \\frac{\\sigma_{Y}}{\\sigma_{X}} + \\frac{(\\mu_{X}-\\mu_{Y})^{2}}{\\sigma_{X}\\sigma_{Y}}} $$ \n",
    "\n",
    "is bias correction factor and $\\rho$ is Pearson Correlation.\n",
    "\n",
    "Here are some properties of Concordance Correlation:\n",
    "\n",
    "> 1. If $\\rho = 1$, $\\mu_{x} = \\mu_{y}$ and $\\sigma_{x} = \\sigma_{y}$, then $ P_{ccc} = 1$ and $x$ and $y$ are perfectly positively in agreement.\n",
    "> 2. Concordance correlation is between $-1$ and $1$.\n",
    "> 3. $C_{b}$ bias correction factor is between $0$ and $1$.\n",
    "> 4. The smaller the $C_{b}$ bias correction factor, the larger the bias is. From the bias correction factor formula, we can see that as the two variables get a higher degree of disagreement, the denominator of the bias correction factor will get bigger, but the numerator will stay the same. Hence, the bias correction factor will get smaller as the disagreement gets worse.\n",
    "> 5. A low agreement between two variables can stem from low correlation (low $\\rho$) and/or high bias (low bias correction factor).\n"
   ]
  },
  {
   "cell_type": "markdown",
   "metadata": {},
   "source": [
    "## **5. Asset Returns and Correlations**"
   ]
  },
  {
   "cell_type": "code",
   "execution_count": 7,
   "metadata": {},
   "outputs": [
    {
     "data": {
      "image/png": "[encoded data removed]",
      "text/plain": [
       "<Figure size 864x648 with 1 Axes>"
      ]
     },
     "metadata": {
      "needs_background": "light"
     },
     "output_type": "display_data"
    },
    {
     "name": "stdout",
     "output_type": "stream",
     "text": [
      "Correlation Pearson     :  0.4042 \n",
      "Correlation Spearman    :  0.3386 \n",
      "Correlation kendalltau  :  0.2399\n"
     ]
    }
   ],
   "source": [
    "# Scatter plot for DWJ and 10Y_TBY\n",
    "scatt = data_set.plot.scatter(x=\"10Y_TBY\", y=\"DWJ\")\n",
    "scatt.set(xlabel=\"10Y_TBY\", ylabel=\"DWJ\")\n",
    "plt.show()\n",
    "\n",
    "# Pearson, Spearman and Kendal tau correlation coefficients\n",
    "corr_pearson = pearsonr(data_set[\"10Y_TBY\"], data_set[\"DWJ\"])\n",
    "corr_spearman = spearmanr(data_set[\"10Y_TBY\"], data_set[\"DWJ\"])\n",
    "corr_kendall = kendalltau(data_set[\"10Y_TBY\"], data_set[\"DWJ\"])\n",
    "print(\n",
    "    \"Correlation Pearson     : \",\n",
    "    corr_pearson[0].round(4),\n",
    "    \"\\nCorrelation Spearman    : \",\n",
    "    corr_spearman.correlation.round(4),\n",
    "    \"\\nCorrelation kendalltau  : \",\n",
    "    corr_kendall.correlation.round(4),\n",
    ")"
   ]
  }
 ],
 "metadata": {
  "kernelspec": {
   "display_name": "Python 3",
   "language": "python",
   "name": "python3"
  },
  "language_info": {
   "codemirror_mode": {
    "name": "ipython",
    "version": 3
   },
   "file_extension": ".py",
   "mimetype": "text/x-python",
   "name": "python",
   "nbconvert_exporter": "python",
   "pygments_lexer": "ipython3",
   "version": "3.10.5"
  }
 },
 "nbformat": 4,
 "nbformat_minor": 2
}
