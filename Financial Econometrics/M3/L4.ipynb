{
 "cells": [
  {
   "cell_type": "markdown",
   "metadata": {},
   "source": [
    "# Change of Variable formula for One-to-One Transformations"
   ]
  },
  {
   "cell_type": "markdown",
   "metadata": {},
   "source": [
    "$X$ and $Y$ random variables.\n",
    "\n",
    "let $ Y = a X$,\n",
    "\n",
    "\n",
    "$\\large F_Y(y) = \\bm{P}(Y \\leq y) = \\bm{P}(a X \\leq y) = \\bm{P}(X \\leq \\frac{y}{a}) $\n",
    "\n",
    "$ \\large \\Rightarrow F_Y(y) = F_X(\\frac{y}{a}) $\n",
    "\n",
    "Then,\n",
    "\n",
    "$ \\large f_Y(y) = \\frac{d}{dy} F_Y(y) = \\frac{d}{dy} F_X(\\frac{y}{a}) = \\large \\frac{1}{a} \\frac{d}{dy} F_X(y) = \\large \\frac{1}{a} \\frac{d}{dx} F_X(x) $"
   ]
  }
 ],
 "metadata": {
  "language_info": {
   "name": "python"
  }
 },
 "nbformat": 4,
 "nbformat_minor": 2
}
