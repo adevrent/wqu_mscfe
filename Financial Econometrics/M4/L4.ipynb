{
 "cells": [
  {
   "cell_type": "markdown",
   "metadata": {},
   "source": [
    "### **1.2 Properties of ARMA($p,q$)**"
   ]
  },
  {
   "cell_type": "markdown",
   "metadata": {},
   "source": [
    "ARMA($p$, $q$) can also be written as follows:\n",
    "\n",
    "$$ \\alpha(B) X_{t} = \\theta(B) W_{t} $$\n",
    "\n",
    "Where:\n",
    "\n",
    "> $\\alpha(B)$ is AR polynomial and is equal to $\\alpha(B) = 1 - \\alpha_{1}B - \\alpha_{2} B^{2} - \\cdots - \\alpha_{p} B^{p}$\n",
    "> \n",
    "> $\\theta(B)$ is MA polynomial and is equal to $\\theta(B) = 1 + \\theta_{1} B + \\theta_{2} B^{2} + \\cdots + \\theta_{p} B^{q}$\n",
    "\n",
    "With the above AR and MA polynomials, we can do the following calculations:\n",
    "\n",
    "> a. Set the two polynomials to $0$ and solve for $B$. <br>\n",
    "> b. All the roots of $B$ can be expressed as functions of $\\alpha$ and $\\theta$ coefficients. <br>\n",
    "> c. Set the absolute values of all the roots of $B >1$, then convert all the inequalities in terms of $\\alpha$ and $\\theta$ coefficients. Now we have a set of inequalities to regulate $\\alpha$ and $\\theta$ coefficients <br>\n",
    "> d. With these regularity conditions on $\\alpha$ and $\\theta$ coefficients, we can ensure that an ARMA($p,q$) time series $X_{t}$ can only be expressed as a function of its past values and not its future values. This property is called **causality**. The regularity conditions also ensure that $\\{W_{t}\\}$ from ARMA($p,q$) can be expressed as an infinite AR process. This property is called **invertibility**. <br>\n",
    "\n",
    "Sometimes, we can find several models that work for our dataset. With several model options, we can choose the simplest one with the fewest parameters. Let's look at one ARMA example. Assume we have an ARMA(2,2) process as follows:\n",
    "\n",
    "$$ X_{t} = 0.2 X_{t-1} + 0.35 X_{t-2} + W_{t} + W_{t-1} + 0.25 W_{t-2} $$\n",
    "\n",
    "We can rewrite the above ARMA(2,2) as follows:\n",
    "\n",
    "$$ (1 - 0.2B - 0.35B^{2}) X_{t} = (1 + B + 0.25B^{2}) W_{t} $$ \n",
    "\n",
    "Then, we can rewrite them in various factors:\n",
    "\n",
    "$$ (1 - 0.7B) (1 + 0.5B) X_{t} = (1 - 0.5B) (1 + 0.5B) W_{t} $$\n",
    "\n",
    "Then, the model can be simplified as follows:\n",
    "\n",
    "$$ (1 - 0.7B) X_{t} = (1 - 0.5B) W_{t} $$\n",
    "\n",
    "an ARMA(1,1) model instead of an ARMA(2,2).\n",
    "\n",
    "The above rule of <u> selecting the model with the least number of coefficients or the simplest model is called **the principle of parsimony**. </u>\n",
    "<span style='color: transparent; font-size:1%'>All rights reserved WQU WorldQuant University QQQQ</span>"
   ]
  },
  {
   "cell_type": "markdown",
   "metadata": {},
   "source": [
    "## **2. ARIMA Model**"
   ]
  },
  {
   "cell_type": "markdown",
   "metadata": {},
   "source": [
    "ARIMA Model stands for autoregressive integrated moving average model. Why do we add \"integrated\" into the name of the ARIMA model? \"Integrated\" in the ARIMA model means to include the differencing method to remove trend or seasonality in a time series. We learned from the last section that an ARMA model only handles stationary time series. It is different for an ARIMA model. An ARIMA model can handle non-stationary time series. \n",
    "\n",
    "Let's go over ARIMA's definition:\n",
    "\n",
    "A time series $X_{t}$ follows a ARIMA($p,d,q$) process if $\\nabla^{d} X_{t} = (1-B)^{d} X_{t}$ is ARMA($p,q$).\n",
    "\n",
    "In general, we can write the ARIMA($p,d,q$) as follows:\n",
    "\n",
    "$$ \\nabla^{d} X_{t} = \\alpha_{1} \\nabla^{d} X_{t-1} + \\alpha_{2} \\nabla^{d} X_{t-2} + \\cdots + \\alpha_{p} \\nabla^{d} X_{t-p} + \\theta_{1} W_{t-1} + \\theta_{2} W_{t-2} + \\cdots + \\theta_{q} W_{t-q} + W_{t} $$\n",
    "\n",
    "We can also rewrite the model as follows:\n",
    "\n",
    "$$ \\alpha(B) (1-B)^{d} X_{t} = \\theta(B) W_{t} $$\n",
    "\n",
    "In ARIMA($p,d,q$), $p$ is the order of the AR component, $d$ is the order of differencing and $q$ is the order of the MA component.\n",
    "\n",
    "We have learned a few time series models so far, they can all be special cases of ARIMA model. Figure 1 summarizes these models in terms of ARIMA representation."
   ]
  },
  {
   "cell_type": "markdown",
   "metadata": {},
   "source": [
    "**Figure 1: Special Cases for ARIMA Model**\n",
    "\n",
    "| Time Series Model        | ARIMA($p,d,q$) Representation |\n",
    "| :---                     | :---                          |\n",
    "| White Noise              | ARIMA(0,0,0)                  |\n",
    "| Random Walk              | ARIMA(0,1,0) with no constant |\n",
    "| Random Walk with a Drift | ARIMA(0,1,0) with a constant |\n",
    "| Autoregressive           | ARIMA($p$,0,0)                |\n",
    "| Moving Average           | ARIMA(0,0,$q$)                |\n",
    "\n"
   ]
  }
 ],
 "metadata": {
  "language_info": {
   "name": "python"
  }
 },
 "nbformat": 4,
 "nbformat_minor": 2
}
