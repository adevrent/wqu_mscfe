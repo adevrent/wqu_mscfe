{
 "cells": [
  {
   "cell_type": "markdown",
   "metadata": {},
   "source": [
    "## 1. Fetching Financial Data"
   ]
  },
  {
   "cell_type": "code",
   "execution_count": 16,
   "metadata": {},
   "outputs": [
    {
     "name": "stdout",
     "output_type": "stream",
     "text": [
      "[*********************100%%**********************]  1 of 1 completed\n"
     ]
    },
    {
     "data": {
      "text/plain": [
       "Date\n",
       "2020-01-03   -0.009722\n",
       "2020-01-06    0.007968\n",
       "2020-01-07   -0.004703\n",
       "2020-01-08    0.016086\n",
       "2020-01-09    0.021241\n",
       "                ...   \n",
       "2020-12-24    0.007712\n",
       "2020-12-28    0.035766\n",
       "2020-12-29   -0.013315\n",
       "2020-12-30   -0.008527\n",
       "2020-12-31   -0.007702\n",
       "Name: Adj Close, Length: 252, dtype: float64"
      ]
     },
     "execution_count": 16,
     "metadata": {},
     "output_type": "execute_result"
    }
   ],
   "source": [
    "import yfinance as yf\n",
    "import numpy as np\n",
    "\n",
    "# Fetching stock data for Apple Inc. from Jan 1, 2020, to Jan 1, 2021.\n",
    "data = yf.download('AAPL', start='2020-01-01', end='2021-01-01')\n",
    "\n",
    "# Extracting the Adjusted Close Prices\n",
    "prices = data['Adj Close']\n",
    "\n",
    "# Calculating daily returns as percentage change in prices\n",
    "returns = prices.pct_change().dropna()  # Remove NaN values that arise from pct_change()"
   ]
  },
  {
   "cell_type": "markdown",
   "metadata": {},
   "source": [
    "## 2. Defining the Likelihood Function\n"
   ]
  },
  {
   "cell_type": "code",
   "execution_count": 18,
   "metadata": {},
   "outputs": [],
   "source": [
    "def log_likelihood(theta, data):\n",
    "    # theta contains our parameters. In this case, mu (mean) and sigma (standard deviation)\n",
    "    mu, sigma = theta\n",
    "\n",
    "    # The number of data points\n",
    "    n = len(data)\n",
    "\n",
    "    # The log-likelihood of the data under a normal distribution assumption\n",
    "    return -0.5 * np.sum(((data - mu) / sigma) ** 2 + np.log(2 * np.pi * sigma ** 2))"
   ]
  },
  {
   "cell_type": "markdown",
   "metadata": {},
   "source": [
    "## 3. Setting Up and Running MCMC with \"emcee\"\n"
   ]
  },
  {
   "cell_type": "code",
   "execution_count": 19,
   "metadata": {},
   "outputs": [
    {
     "name": "stderr",
     "output_type": "stream",
     "text": [
      "100%|██████████| 1000/1000 [00:18<00:00, 54.23it/s]\n"
     ]
    },
    {
     "data": {
      "text/plain": [
       "State([[ 2.87489330e-03  2.94415243e-02]\n",
       " [ 2.12860521e-03  2.98801179e-02]\n",
       " [ 2.33099266e-03  2.92328021e-02]\n",
       " [ 2.63129095e-03  2.90884007e-02]\n",
       " [-4.53612159e-04  3.11860194e-02]\n",
       " [ 1.10270716e-03  2.97525217e-02]\n",
       " [ 2.85894121e-04  2.83331918e-02]\n",
       " [ 2.09405227e-03  2.88222607e-02]\n",
       " [ 1.07119529e-03  2.82347253e-02]\n",
       " [ 4.54971435e-04  2.80233446e-02]\n",
       " [ 3.79098940e-03  2.84996714e-02]\n",
       " [ 1.57682862e-03  2.72641942e-02]\n",
       " [ 6.32233029e-03  2.92400131e-02]\n",
       " [ 2.37811750e-03  2.79103259e-02]\n",
       " [ 2.32945803e-03  3.12339863e-02]\n",
       " [ 5.70886558e-03  3.11715768e-02]\n",
       " [ 2.09703444e-03  2.99259267e-02]\n",
       " [ 3.11894144e-03  2.88749795e-02]\n",
       " [ 4.34085823e-04  3.01069625e-02]\n",
       " [ 1.16030041e-03  3.16847127e-02]\n",
       " [-7.10340150e-05  2.91733430e-02]\n",
       " [ 3.98676496e-03  3.37599358e-02]\n",
       " [ 2.37349415e-03  3.14101868e-02]\n",
       " [ 1.49330137e-04  2.80797432e-02]\n",
       " [ 4.71140280e-03  2.87361652e-02]\n",
       " [ 3.76158375e-03  2.77792967e-02]\n",
       " [ 2.97979249e-03  2.83879929e-02]\n",
       " [ 2.90792311e-03  2.85513975e-02]\n",
       " [ 2.77041362e-03  2.71468658e-02]\n",
       " [ 2.34699329e-03  3.08815526e-02]\n",
       " [ 9.80559016e-04  3.09993321e-02]\n",
       " [ 3.36659484e-03  2.83806721e-02]\n",
       " [ 4.40523586e-03  3.03018632e-02]\n",
       " [ 1.64851395e-03  2.88879005e-02]\n",
       " [ 2.19497722e-03  2.97647406e-02]\n",
       " [ 3.72632626e-03  3.09785438e-02]\n",
       " [ 6.03219209e-03  3.03419713e-02]\n",
       " [ 2.29728990e-03  2.97792108e-02]\n",
       " [ 5.14243234e-03  3.12253832e-02]\n",
       " [ 1.72981326e-03  2.64401116e-02]\n",
       " [ 2.76943812e-03  2.94212726e-02]\n",
       " [ 4.19527261e-03  3.14206942e-02]\n",
       " [-6.58965703e-04  3.10418192e-02]\n",
       " [ 6.79335303e-03  3.33500423e-02]\n",
       " [ 4.30951171e-03  2.88704441e-02]\n",
       " [ 8.78311321e-04  2.90876235e-02]\n",
       " [ 2.22706796e-03  2.80987041e-02]\n",
       " [ 3.20099977e-03  2.89571469e-02]\n",
       " [ 5.87311306e-04  3.02763233e-02]\n",
       " [ 6.42616859e-04  2.74228118e-02]], log_prob=[531.5143745  531.39188834 531.49159316 531.49631269 529.32627167\n",
       " 531.09952591 530.2571039  531.37164833 530.69121287 530.12686371\n",
       " 531.11698877 529.84289647 529.61085719 530.83178987 530.57227058\n",
       " 529.49793056 531.37267401 531.42581039 530.63165885 529.81880649\n",
       " 530.34978377 526.85619737 530.40465144 529.94161356 530.80126149\n",
       " 530.54441957 531.2177564  531.31451064 529.88811774 530.87767307\n",
       " 530.40111857 531.15927499 530.88687414 531.27694043 531.43220959\n",
       " 530.68760498 529.75764634 531.44287331 529.84717078 528.37251604\n",
       " 531.51812335 530.13504118 529.26570456 525.88030256 531.06928614\n",
       " 530.98832273 530.97959389 531.43740476 530.65635393 529.5625407 ], blobs=None, random_state=('MT19937', array([ 915112838,  721612590, 3642242669, 1296561872, 3373723167,\n",
       "        813379852, 3301627925, 2088625941, 3648642474,  730026680,\n",
       "       1218317346, 1049360663, 1447965809, 3892130306, 1730662700,\n",
       "       3102188710,  642152584, 2579105487, 3309132104, 2027041572,\n",
       "       3948516223,  615185909, 1978879326, 3481167410, 1934075032,\n",
       "       1814195984, 2570334685, 2500789919, 1469127281, 4115882161,\n",
       "       2774580035, 3615924652, 1109947368, 1339873931, 2190747360,\n",
       "       3360988672, 2218872795, 2618975055, 3841070245, 4251063895,\n",
       "        318231423,  403118748,  415241591, 2051397256,  260738401,\n",
       "        874878236, 2123527496, 2344799871, 2607529057, 1941623134,\n",
       "        746808344, 3757551448,  378598389, 3966457210, 2251853647,\n",
       "       3439095934, 1669860671, 3475296152,   17873023, 2365100826,\n",
       "       3000375152, 4198855040, 2906625063, 3702544550, 1706470117,\n",
       "       2808016471,  414670543,  998778423, 2639613718,  875354659,\n",
       "       1806295069,  407752092,  979268942, 1129767597, 1891485092,\n",
       "       1705996633, 3783859253, 1792015226, 3625326641,  837881154,\n",
       "       3846258988, 2332133354, 2045198812, 1233197377, 3495045037,\n",
       "        378963411,  796055092, 3388421676, 2074496163,  338564812,\n",
       "       1857195427,  381052525, 3450872514,  400129003, 3553673032,\n",
       "       2373587929, 3307607828, 2900153515,  726406551, 3493366230,\n",
       "       1964598712, 1979049718, 1617479929, 4039735447, 4049657709,\n",
       "       1208719217, 3253764470, 3820834204,  882457192,  199969195,\n",
       "        996142702, 4222194758, 4076624258, 3698046722,  127605261,\n",
       "       2359571472,  736584589, 2301898622, 2247183905, 1097348308,\n",
       "       2229323121, 1600535580,  164473703, 2334836650, 3435346830,\n",
       "        873627286, 3531600938, 3665975718, 3758830445, 3086326058,\n",
       "       3425293640, 1621633483, 2636267983, 3062387465, 2923597906,\n",
       "        429402572, 2313517684, 2959265193, 2843460227, 2539791001,\n",
       "       2067476414, 2636580147, 4078585979,  151079640, 1248847180,\n",
       "        458176466, 2948066037,  625940864, 3699999060, 1419535244,\n",
       "       2892700390, 2407461571, 3812863322, 4212243723,  163408712,\n",
       "       3776284179, 3761400437,  365509861, 3982930271, 1077659438,\n",
       "       3892977507, 2525032968, 1423456697, 3291123561, 2440180819,\n",
       "        125043566, 2355520365, 2615832573, 1066786874, 2392367255,\n",
       "       3715000646, 3155734099, 2567836799, 4253331248, 2678546929,\n",
       "       1662336429, 3843373097, 2056308484, 2103205645, 1492808428,\n",
       "       2726563492, 2389562643,  773801329, 1318963761, 2444466240,\n",
       "       3713412153, 1207492426,  650682859, 2763510994, 2791020458,\n",
       "       2737883843, 2826803166, 2412643706, 1545866414, 1694703442,\n",
       "       3498822663,  957628672, 2682636791,  243186413, 3654919388,\n",
       "       2754958339, 3496397313, 2545253038, 3955601813, 3334573944,\n",
       "       3500152996, 1197695727, 3614413506, 3791662990, 1422406093,\n",
       "        741050644,  102499140, 2618981445, 3802148716, 3657310259,\n",
       "       1746891939,  931174743, 2872757324, 2014525435, 3384951855,\n",
       "       1581856554,  389365084, 2722509177, 3480638964, 1635479694,\n",
       "       3517437718, 3876855218, 3865863046, 3521758250, 3234136264,\n",
       "        279651469,  629516338,  713899495, 3377143823,  483347919,\n",
       "       3970843148, 4147239776, 2414078995, 2030688176,   17980690,\n",
       "       2507015754, 2980179484, 2484512419,  308402040, 2394680389,\n",
       "       2387009608,  240293481, 4045743092, 3328254055, 1635528000,\n",
       "       1532412849,  671088134, 1657164336, 1865008420,  789005974,\n",
       "       3241587089, 3393065845, 4087595711,  827899497, 2541622706,\n",
       "       4131860907, 3944778192, 3287798258, 1131351998, 3049931342,\n",
       "       2960314783,  825834965, 2043454461, 2380731793, 1238877225,\n",
       "       2963282349, 3225224874, 3389812328, 3697053854, 3539889068,\n",
       "       3685470023, 1242563776, 1251249380,  234247867, 2593621935,\n",
       "       3233725826, 3886947172, 4008636385,  852660283,  752336724,\n",
       "        537586112, 2602996416, 1573744656, 1282511196,  158104263,\n",
       "       4125664188, 3171066349,  313688400, 3881211054, 1190467069,\n",
       "       1275228010, 2072789374, 3996803964, 4055294760,  360554050,\n",
       "       1020922958, 3977380561,  107120778, 2567592190, 3143865320,\n",
       "       3553142339,  511504726, 2634545418, 3857589397, 3285321867,\n",
       "        944038362,  280178300,  865725491, 2900845366, 2646897079,\n",
       "        305942838,  520291799, 4035676428, 2981705637,  607093688,\n",
       "       3648013756,  711460169, 3693571707,   89958246, 1770241378,\n",
       "       1436626671, 1555973888, 4193619795, 3072797579, 2271832885,\n",
       "       4179986792, 1501410035,  215688363, 1852231867,  100567944,\n",
       "        395305087, 3636054902, 1761340300, 2300452204, 2902276890,\n",
       "        531489532, 2946446923, 2863772391, 1057426904,  149819436,\n",
       "        107131240, 1813579184, 1833914736, 1608771883, 2880333942,\n",
       "        622378642,  386380230, 2559321625, 3681822921, 1097218910,\n",
       "       1827083883, 2322608483, 3009404554, 2015315830,  360948425,\n",
       "       4180232396, 3605886669, 2845906106, 3762106714, 1356374278,\n",
       "       3374229545, 3230588153, 1426246620, 3477945397, 3029830817,\n",
       "       2742100613, 3932846761, 1652317843, 4225716897, 2870080993,\n",
       "       1490602401, 1598358874,  274446681, 3666055868, 2260456348,\n",
       "       4008173618, 1346350148, 1638931178, 4237990653, 3813636617,\n",
       "       1016028518, 2633496304, 1186278425,  896548324,  571584818,\n",
       "       2509503145, 1843835779, 3614985494,  758825791, 3199936861,\n",
       "        802826833,  891779184, 2984223211,  409011023,  186865667,\n",
       "       2509727024, 3783925351,   41632576, 1741390358, 4142923073,\n",
       "        948366157, 4112544541, 2072710772, 2950662269,  489775318,\n",
       "        319036650, 2141429063, 2802517946,  992947935, 3063588515,\n",
       "       2225564803, 1302411385,  610984305, 2436214983,  296899796,\n",
       "       3770495967, 1176641981, 3197567758,  688436775, 1659592459,\n",
       "       2044652175, 3193524554,  464397442, 2499851579, 1574460189,\n",
       "         68619405, 3519395548, 3143759084,   82658476, 3059585844,\n",
       "       4073048531,  326764297, 3461269438, 3658093018, 2955830622,\n",
       "       1705708424,  678367458, 3715820644,  379248236, 2052756319,\n",
       "       4290158887, 3760578104, 4290675398, 2124707352, 1606088307,\n",
       "       2262034945, 1312241253, 3678589094, 1339103856,  191303630,\n",
       "       3579581891, 2348906513,  798623400, 3300781385,  941575144,\n",
       "       4072125920, 2846959702, 1493480681,  898744491, 3977485744,\n",
       "       4031564776, 3744623062, 1855722538, 2139598482, 2992119357,\n",
       "       4282129462,  605986974, 3715907993,  433465304,  415057176,\n",
       "       3331868504, 2556309859, 2929060001,  492016621, 2148837861,\n",
       "       1513961320, 2537797709, 1210702263, 3650692971, 1820589926,\n",
       "        495017713, 3695883475, 1534012250, 1977617027, 3723408586,\n",
       "       4155014152,  597187048, 1304592759, 3258874916, 1084719880,\n",
       "       3753714225, 3961894217, 1844626441, 2771467809, 2542975685,\n",
       "       3443710091, 1509648436, 2202380573,  407499854, 2994357252,\n",
       "       2830552294, 1249212236, 3545223361, 1500879031, 3795991525,\n",
       "       1628376109, 2796693536, 3991903941, 2769829163, 1591933646,\n",
       "       2105677236, 4168819415,  159488816, 3986107465, 4127597506,\n",
       "       4239720648, 4126433665, 1023455132,  822245894, 4145487396,\n",
       "       3976662237, 1977930679, 1883269793, 3757785364,   92104205,\n",
       "       3277055047, 1484090160,  636890639, 1277058623,  996725962,\n",
       "        844759472, 2775707314, 3442747422,  753938041, 1072824561,\n",
       "       2049491744, 3643531653, 1675644874, 2419602263, 2533918392,\n",
       "        894769288,  660421219, 1874169027, 1801992391, 2967032609,\n",
       "       1313738360,  780450036, 3702439316, 2216440046,  118782063,\n",
       "        174225101,  619650236, 2443251354, 3241824521, 1829638676,\n",
       "       2393074275,  846779162, 3156586259, 3612813508,  832634444,\n",
       "       2243569928, 3229476862, 3432351767, 4113175341, 4264355376,\n",
       "       2731172546, 1584056758,  569033516, 2334910169, 1442161698,\n",
       "       3466011084, 1080223598,  362422006,  511590497, 2822891723,\n",
       "        230212091, 2592047076, 2201246462, 3304480595, 1073103812,\n",
       "       1979883281, 3885800840, 2774982583, 1944744507, 3510924553,\n",
       "       1943200852,  151976409, 2946042152,  147590929, 3793346583,\n",
       "       3604631469, 3447919994,  899805120, 4229867862, 1408131513,\n",
       "        943173293, 3544193389, 2503942623, 2853873773, 2066845921,\n",
       "       2343813339, 3664772691, 2068320938, 1634817266, 3089526865,\n",
       "       3185051009,   98968651, 1245545944,  651801810, 2251718625,\n",
       "       1500773867, 1218463182, 1571332646, 1756606512, 2510642069,\n",
       "       3091795655,  353909421, 1323929942,  778222003], dtype=uint32), 109, 0, 0.0))"
      ]
     },
     "execution_count": 19,
     "metadata": {},
     "output_type": "execute_result"
    }
   ],
   "source": [
    "import emcee\n",
    "\n",
    "# Initial estimates for mu and sigma based on data\n",
    "mu_init = np.mean(returns)\n",
    "sigma_init = np.std(returns)\n",
    "\n",
    "# Number of walkers - should be more than twice the number of parameters\n",
    "nwalkers = 50\n",
    "\n",
    "# Number of steps each walker will take\n",
    "nsteps = 1000\n",
    "\n",
    "# Initial positions of the walkers (slightly perturbed from the initial estimates)\n",
    "pos = [np.array([mu_init, sigma_init]) + 1e-4*np.random.randn(2) for i in range(nwalkers)]\n",
    "\n",
    "# Initialize the sampler\n",
    "sampler = emcee.EnsembleSampler(nwalkers, 2, log_likelihood, args=[returns])\n",
    "\n",
    "# Run the MCMC for a specified number of steps\n",
    "sampler.run_mcmc(pos, nsteps, progress=True)"
   ]
  },
  {
   "cell_type": "markdown",
   "metadata": {},
   "source": [
    "**Mathematical Background:** *emcee* uses an affine-invariant ensemble sampler. It involves multiple \"walkers\" that explore the parameter space. Each walker moves around in the parameter space, and their positions over time give us an approximation of the posterior distribution."
   ]
  },
  {
   "cell_type": "markdown",
   "metadata": {},
   "source": [
    "## 4. Analyzing the Results\n"
   ]
  },
  {
   "cell_type": "code",
   "execution_count": 20,
   "metadata": {},
   "outputs": [
    {
     "data": {
      "image/png": "[encoded data removed]",
      "text/plain": [
       "<Figure size 432x288 with 1 Axes>"
      ]
     },
     "metadata": {
      "needs_background": "light"
     },
     "output_type": "display_data"
    }
   ],
   "source": [
    "import matplotlib.pyplot as plt\n",
    "\n",
    "# Extracting the samples\n",
    "samples = sampler.get_chain(flat=True)\n",
    "\n",
    "# Plotting histograms of the parameter distributions\n",
    "plt.hist(samples[:, 0], bins=50, alpha=0.5, label=\"mu\")\n",
    "plt.hist(samples[:, 1], bins=50, alpha=0.5, label=\"sigma\")\n",
    "plt.legend()\n",
    "plt.show()\n"
   ]
  },
  {
   "cell_type": "markdown",
   "metadata": {},
   "source": [
    "**Mathematical Background:** After running the MCMC simulation, we get a distribution of values for $\\mu$ and $\\sigma$. These distributions are approximations of the posterior distributions of the parameters given the data. The histograms of these samples give us insight into the likely values of $\\mu$ and $\\sigma$, including their uncertainty."
   ]
  }
 ],
 "metadata": {
  "kernelspec": {
   "display_name": "Python 3",
   "language": "python",
   "name": "python3"
  },
  "language_info": {
   "codemirror_mode": {
    "name": "ipython",
    "version": 3
   },
   "file_extension": ".py",
   "mimetype": "text/x-python",
   "name": "python",
   "nbconvert_exporter": "python",
   "pygments_lexer": "ipython3",
   "version": "3.10.5"
  }
 },
 "nbformat": 4,
 "nbformat_minor": 2
}
