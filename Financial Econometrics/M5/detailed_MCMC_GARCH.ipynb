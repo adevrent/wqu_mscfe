{
 "cells": [
  {
   "cell_type": "markdown",
   "metadata": {},
   "source": [
    "## Step 1: Fetching Financial Data\n"
   ]
  },
  {
   "cell_type": "code",
   "execution_count": 30,
   "metadata": {},
   "outputs": [
    {
     "name": "stdout",
     "output_type": "stream",
     "text": [
      "[*********************100%%**********************]  1 of 1 completed\n"
     ]
    }
   ],
   "source": [
    "import yfinance as yf\n",
    "import numpy as np\n",
    "\n",
    "# Fetching stock data for Apple Inc. from Jan 1, 2020, to Jan 1, 2021.\n",
    "data = yf.download('AAPL', start='2020-01-01', end='2021-01-01')\n",
    "\n",
    "# Extracting the Adjusted Close Prices\n",
    "prices = data['Adj Close']\n",
    "\n",
    "# Calculating daily returns as percentage change in prices\n",
    "returns = prices.pct_change().dropna()  # Remove NaN values that arise from pct_change()"
   ]
  },
  {
   "cell_type": "markdown",
   "metadata": {},
   "source": [
    "## Step 2: Defining the Log-Likelihood Function for GARCH(1, 1)\n"
   ]
  },
  {
   "cell_type": "markdown",
   "metadata": {},
   "source": [
    "$R_t = \\mu + \\varepsilon_t$\n",
    "\n",
    "where\n",
    "\n",
    "$R_t:$ Rate of return of a financial asset at time $t$, a **random variable**.\n",
    "\n",
    "$\\mu:$ Mean rate of return of a financial asset, a **constant**.\n",
    "\n",
    "$\\varepsilon_t:$ An **autoregressive** error term such that $\\varepsilon_t = \\sigma Z_t$, $Var(\\varepsilon_t) = \\sigma^2_t$ and $Z_t \\sim iid N(0, 1)$\n",
    "\n",
    "and\n",
    "\n",
    "$\\sigma^2_t = \\alpha_0 + \\alpha_1 \\varepsilon_{t-1} + \\beta_1 \\sigma_{t-1}^2$\n",
    "\n",
    "> We'll assume $\\mu$ = 0"
   ]
  },
  {
   "cell_type": "code",
   "execution_count": 31,
   "metadata": {},
   "outputs": [],
   "source": [
    "# def garch_log_likelihood(theta, epsilons):\n",
    "#     \"\"\"Calculates the log likelihood function for the list of parameters in theta\n",
    "#     where theta = (alpha_0, alpha_1, beta_1)\n",
    "#     This is equal to all epsilon random variables equalling to values in epsilons,\n",
    "#     because epsilons are conditionally indipendent in GARCH,\n",
    "#     we can assume iid normal distribution for any epsilon_i\n",
    "\n",
    "#     Args:\n",
    "#         theta (listlike): an array of 3 parameters: (alpha_0, alpha_1, beta_1)\n",
    "#         epsilons (numpy array): an array of n epsilon values\n",
    "\n",
    "#     Returns:\n",
    "#         Log likelihood function for parameters alpha_0, alpha_1, beta_1\n",
    "#     \"\"\"\n",
    "#     alpha0, alpha1, beta1 = theta\n",
    "\n",
    "#     # Check for stationarity condition\n",
    "#     if alpha1 + beta1 >= 1:\n",
    "#         return -np.inf  # Return a very large negative number\n",
    "\n",
    "#     n = len(epsilons)\n",
    "#     omega = alpha0 / (1 - alpha1 - beta1)\n",
    "#     variances = np.full(n, omega)\n",
    "\n",
    "#     for t in range(1, n):\n",
    "#         variances[t] = alpha0 + alpha1 * epsilons[t-1]**2 + beta1 * variances[t-1]\n",
    "\n",
    "#         # Check for non-negative variance\n",
    "#         if variances[t] <= 0:\n",
    "#             return -np.inf\n",
    "\n",
    "#     # Compute log-likelihood with numerical stability\n",
    "#     logL = (-n/2) * np.log(2*np.pi) - np.sum(np.log(variances**0.5 + 1e-6)) - 0.5 * np.sum((epsilons**2)/(variances + 1e-6))\n",
    "#     return logL"
   ]
  },
  {
   "cell_type": "code",
   "execution_count": 32,
   "metadata": {},
   "outputs": [],
   "source": [
    "def garch_log_likelihood(theta, data):\n",
    "    alpha0, alpha1, beta1 = theta\n",
    "    n = len(data)\n",
    "    omega = alpha0 / (1 - alpha1 - beta1)  # Ensure stationarity\n",
    "    variance = np.full(n, omega)\n",
    "    for t in range(1, n):\n",
    "        variance[t] = alpha0 + alpha1 * data[t-1]**2 + beta1 * variance[t-1]\n",
    "\n",
    "    # Log-likelihood of GARCH(1,1)\n",
    "    return -np.sum(np.log(variance) + data**2 / variance)\n"
   ]
  },
  {
   "cell_type": "markdown",
   "metadata": {},
   "source": [
    "## Step 3: Setting Up and Running MCMC with emcee\n"
   ]
  },
  {
   "cell_type": "code",
   "execution_count": 33,
   "metadata": {},
   "outputs": [
    {
     "name": "stderr",
     "output_type": "stream",
     "text": [
      "  0%|          | 2/1000 [00:00<01:15, 13.20it/s]"
     ]
    },
    {
     "name": "stderr",
     "output_type": "stream",
     "text": [
      " 16%|█▌        | 156/1000 [00:07<00:37, 22.75it/s]/tmp/ipykernel_12084/3631451988.py:33: RuntimeWarning: invalid value encountered in sqrt\n",
      "  logL = (-n/2) * np.log(2*np.pi) - np.sum(np.log(variances**0.5 + 1e-6)) - 0.5 * np.sum((epsilons**2)/(variances + 1e-6))\n",
      " 16%|█▌        | 157/1000 [00:07<00:40, 20.94it/s]\n"
     ]
    },
    {
     "ename": "ValueError",
     "evalue": "Probability function returned NaN",
     "output_type": "error",
     "traceback": [
      "\u001b[0;31m---------------------------------------------------------------------------\u001b[0m",
      "\u001b[0;31mValueError\u001b[0m                                Traceback (most recent call last)",
      "\u001b[1;32m/home/sscf/wqu_mscfe/Financial Econometrics/M5/detailed_MCMC_GARCH.ipynb Cell 8\u001b[0m line \u001b[0;36m<cell line: 16>\u001b[0;34m()\u001b[0m\n\u001b[1;32m     <a href='vscode-notebook-cell://wsl%2Bubuntu-20.04/home/sscf/wqu_mscfe/Financial%20Econometrics/M5/detailed_MCMC_GARCH.ipynb#X10sdnNjb2RlLXJlbW90ZQ%3D%3D?line=12'>13</a>\u001b[0m sampler \u001b[39m=\u001b[39m emcee\u001b[39m.\u001b[39mEnsembleSampler(nwalkers, \u001b[39m3\u001b[39m, garch_log_likelihood, args\u001b[39m=\u001b[39m[returns])\n\u001b[1;32m     <a href='vscode-notebook-cell://wsl%2Bubuntu-20.04/home/sscf/wqu_mscfe/Financial%20Econometrics/M5/detailed_MCMC_GARCH.ipynb#X10sdnNjb2RlLXJlbW90ZQ%3D%3D?line=14'>15</a>\u001b[0m \u001b[39m# Running the MCMC\u001b[39;00m\n\u001b[0;32m---> <a href='vscode-notebook-cell://wsl%2Bubuntu-20.04/home/sscf/wqu_mscfe/Financial%20Econometrics/M5/detailed_MCMC_GARCH.ipynb#X10sdnNjb2RlLXJlbW90ZQ%3D%3D?line=15'>16</a>\u001b[0m sampler\u001b[39m.\u001b[39;49mrun_mcmc(pos, nsteps, progress\u001b[39m=\u001b[39;49m\u001b[39mTrue\u001b[39;49;00m)\n",
      "File \u001b[0;32m~/.pyenv/versions/3.10.5/lib/python3.10/site-packages/emcee/ensemble.py:443\u001b[0m, in \u001b[0;36mEnsembleSampler.run_mcmc\u001b[0;34m(self, initial_state, nsteps, **kwargs)\u001b[0m\n\u001b[1;32m    440\u001b[0m     initial_state \u001b[39m=\u001b[39m \u001b[39mself\u001b[39m\u001b[39m.\u001b[39m_previous_state\n\u001b[1;32m    442\u001b[0m results \u001b[39m=\u001b[39m \u001b[39mNone\u001b[39;00m\n\u001b[0;32m--> 443\u001b[0m \u001b[39mfor\u001b[39;00m results \u001b[39min\u001b[39;00m \u001b[39mself\u001b[39m\u001b[39m.\u001b[39msample(initial_state, iterations\u001b[39m=\u001b[39mnsteps, \u001b[39m*\u001b[39m\u001b[39m*\u001b[39mkwargs):\n\u001b[1;32m    444\u001b[0m     \u001b[39mpass\u001b[39;00m\n\u001b[1;32m    446\u001b[0m \u001b[39m# Store so that the ``initial_state=None`` case will work\u001b[39;00m\n",
      "File \u001b[0;32m~/.pyenv/versions/3.10.5/lib/python3.10/site-packages/emcee/ensemble.py:402\u001b[0m, in \u001b[0;36mEnsembleSampler.sample\u001b[0;34m(self, initial_state, log_prob0, rstate0, blobs0, iterations, tune, skip_initial_state_check, thin_by, thin, store, progress, progress_kwargs)\u001b[0m\n\u001b[1;32m    399\u001b[0m move \u001b[39m=\u001b[39m \u001b[39mself\u001b[39m\u001b[39m.\u001b[39m_random\u001b[39m.\u001b[39mchoice(\u001b[39mself\u001b[39m\u001b[39m.\u001b[39m_moves, p\u001b[39m=\u001b[39m\u001b[39mself\u001b[39m\u001b[39m.\u001b[39m_weights)\n\u001b[1;32m    401\u001b[0m \u001b[39m# Propose\u001b[39;00m\n\u001b[0;32m--> 402\u001b[0m state, accepted \u001b[39m=\u001b[39m move\u001b[39m.\u001b[39;49mpropose(model, state)\n\u001b[1;32m    403\u001b[0m state\u001b[39m.\u001b[39mrandom_state \u001b[39m=\u001b[39m \u001b[39mself\u001b[39m\u001b[39m.\u001b[39mrandom_state\n\u001b[1;32m    405\u001b[0m \u001b[39mif\u001b[39;00m tune:\n",
      "File \u001b[0;32m~/.pyenv/versions/3.10.5/lib/python3.10/site-packages/emcee/moves/red_blue.py:93\u001b[0m, in \u001b[0;36mRedBlueMove.propose\u001b[0;34m(self, model, state)\u001b[0m\n\u001b[1;32m     90\u001b[0m q, factors \u001b[39m=\u001b[39m \u001b[39mself\u001b[39m\u001b[39m.\u001b[39mget_proposal(s, c, model\u001b[39m.\u001b[39mrandom)\n\u001b[1;32m     92\u001b[0m \u001b[39m# Compute the lnprobs of the proposed position.\u001b[39;00m\n\u001b[0;32m---> 93\u001b[0m new_log_probs, new_blobs \u001b[39m=\u001b[39m model\u001b[39m.\u001b[39;49mcompute_log_prob_fn(q)\n\u001b[1;32m     95\u001b[0m \u001b[39m# Loop over the walkers and update them accordingly.\u001b[39;00m\n\u001b[1;32m     96\u001b[0m \u001b[39mfor\u001b[39;00m i, (j, f, nlp) \u001b[39min\u001b[39;00m \u001b[39menumerate\u001b[39m(\n\u001b[1;32m     97\u001b[0m     \u001b[39mzip\u001b[39m(all_inds[S1], factors, new_log_probs)\n\u001b[1;32m     98\u001b[0m ):\n",
      "File \u001b[0;32m~/.pyenv/versions/3.10.5/lib/python3.10/site-packages/emcee/ensemble.py:535\u001b[0m, in \u001b[0;36mEnsembleSampler.compute_log_prob\u001b[0;34m(self, coords)\u001b[0m\n\u001b[1;32m    533\u001b[0m \u001b[39m# Check for log_prob returning NaN.\u001b[39;00m\n\u001b[1;32m    534\u001b[0m \u001b[39mif\u001b[39;00m np\u001b[39m.\u001b[39many(np\u001b[39m.\u001b[39misnan(log_prob)):\n\u001b[0;32m--> 535\u001b[0m     \u001b[39mraise\u001b[39;00m \u001b[39mValueError\u001b[39;00m(\u001b[39m\"\u001b[39m\u001b[39mProbability function returned NaN\u001b[39m\u001b[39m\"\u001b[39m)\n\u001b[1;32m    537\u001b[0m \u001b[39mreturn\u001b[39;00m log_prob, blob\n",
      "\u001b[0;31mValueError\u001b[0m: Probability function returned NaN"
     ]
    }
   ],
   "source": [
    "import emcee\n",
    "\n",
    "# Initial estimates for alpha0, alpha1, and beta1\n",
    "initial_estimates = np.array([0.01, 0.05, 0.9])\n",
    "\n",
    "# Number of walkers and steps\n",
    "nwalkers, nsteps = 50, 1000\n",
    "\n",
    "# Initial positions of the walkers\n",
    "pos = initial_estimates + 1e-4 * np.random.randn(nwalkers, 3)\n",
    "\n",
    "# Setting up the MCMC sampler\n",
    "sampler = emcee.EnsembleSampler(nwalkers, 3, garch_log_likelihood, args=[returns])\n",
    "\n",
    "# Running the MCMC\n",
    "sampler.run_mcmc(pos, nsteps, progress=True)\n"
   ]
  },
  {
   "cell_type": "markdown",
   "metadata": {},
   "source": [
    "**Mathematical Background:** MCMC methods, such as the one implemented in emcee, allow us to sample from the posterior distribution of the parameters \n",
    "$\\alpha_0, \\alpha_1, \\beta_1$\n",
    "\n",
    "The EnsembleSampler is particularly effective for exploring high-dimensional parameter spaces."
   ]
  },
  {
   "cell_type": "markdown",
   "metadata": {},
   "source": [
    "## Step 4: Analyzing the Results"
   ]
  },
  {
   "cell_type": "code",
   "execution_count": null,
   "metadata": {},
   "outputs": [
    {
     "data": {
      "text/plain": [
       "array([[9.92550798e-03, 4.98497543e-02, 8.99981026e-01],\n",
       "       [1.02202606e-02, 4.99775963e-02, 8.99962553e-01],\n",
       "       [9.99673260e-03, 4.99203728e-02, 8.99949918e-01],\n",
       "       ...,\n",
       "       [6.72699932e-05, 2.04286419e-01, 7.16599824e-01],\n",
       "       [7.33297680e-05, 2.00829157e-01, 7.23487660e-01],\n",
       "       [6.31135187e-05, 1.35736602e-01, 7.62110460e-01]])"
      ]
     },
     "execution_count": 28,
     "metadata": {},
     "output_type": "execute_result"
    }
   ],
   "source": [
    "import matplotlib.pyplot as plt\n",
    "\n",
    "# Extracting the samples\n",
    "samples = sampler.get_chain(flat=True)\n",
    "samples"
   ]
  },
  {
   "cell_type": "code",
   "execution_count": null,
   "metadata": {},
   "outputs": [
    {
     "data": {
      "image/png": "[encoded data removed]",
      "text/plain": [
       "<Figure size 432x288 with 1 Axes>"
      ]
     },
     "metadata": {
      "needs_background": "light"
     },
     "output_type": "display_data"
    }
   ],
   "source": [
    "# Plotting histograms of the parameter distributions\n",
    "plt.hist(samples[:, 0], bins=50, alpha=0.5, label=r\"$\\alpha_0$\")\n",
    "plt.hist(samples[:, 1], bins=50, alpha=0.5, label=r\"$\\alpha_1$\")\n",
    "plt.hist(samples[:, 2], bins=50, alpha=0.5, label=r\"$\\beta_1$\")\n",
    "plt.legend()\n",
    "plt.show()"
   ]
  },
  {
   "cell_type": "markdown",
   "metadata": {},
   "source": [
    "**Mathematical Background:** The histograms represent the posterior distributions of the GARCH(1, 1) model parameters. These distributions provide insights into the likely values of the parameters, including their uncertainty. The peaks of the histograms indicate the most probable values for each parameter."
   ]
  }
 ],
 "metadata": {
  "kernelspec": {
   "display_name": "Python 3",
   "language": "python",
   "name": "python3"
  },
  "language_info": {
   "codemirror_mode": {
    "name": "ipython",
    "version": 3
   },
   "file_extension": ".py",
   "mimetype": "text/x-python",
   "name": "python",
   "nbconvert_exporter": "python",
   "pygments_lexer": "ipython3",
   "version": "3.10.5"
  }
 },
 "nbformat": 4,
 "nbformat_minor": 2
}
