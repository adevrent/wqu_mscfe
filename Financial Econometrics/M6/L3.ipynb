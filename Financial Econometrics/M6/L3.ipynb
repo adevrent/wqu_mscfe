{
 "cells": [
  {
   "cell_type": "code",
   "execution_count": 1,
   "metadata": {},
   "outputs": [],
   "source": [
    "# Load packages\n",
    "import matplotlib.pyplot as plt\n",
    "import pandas as pd\n",
    "from arch.unitroot import ADF\n",
    "from arch.unitroot.cointegration import phillips_ouliaris\n",
    "from statsmodels.stats.stattools import durbin_watson\n",
    "from statsmodels.tsa.ardl import UECM\n",
    "\n",
    "plt.rcParams[\"figure.figsize\"] = (16, 9)  # Figure size and width"
   ]
  },
  {
   "cell_type": "markdown",
   "metadata": {},
   "source": [
    "## **2. Cointegration**"
   ]
  },
  {
   "cell_type": "markdown",
   "metadata": {},
   "source": [
    "Time series $x_t$ and $y_t$ are cointegrated if they have the following properties:\n",
    "\n",
    "> a. $x_t$ and $y_t$ are non-stationary. <br>\n",
    "> b. A stationary linear combination of $x_t$ and $y_t$ exists.\n",
    "\n",
    "We can rephrase the above definition as follows: Assume $x_t\\sim I(1)$ and $y_t\\sim I(1)$. If we run an OLS regression of $y$ on $x$ or an OLS regression of $x$ on $y$ and **the residual is stationary or $I(0)$**, then <u> $x_t$ and $y_t$ have the same stochastic trend and are **cointegrated**. </u>\n",
    "\n",
    "If $x_t$ and $y_t$ are cointegrated, then $x_t$ and $y_t$ have a long-term stable relationship even though they are non-stationary. We say that $x_t$ and $y_t$ have long-term equilibrium. It means in the short-term, $x_t$ and $y_t$ might deviate from each other, but they will ultimately revert back to their long-term relationship. We call it the **mean reversion property**. This property happens to many financial variables. One common example is the difference between long-term interest rates and short-term interest rates. In general, long-term interest rates and short-term interest rates are not stationary. However, <u> their difference can be **stationary**. </u> Let's look at one example between the Australian Dollar/U.S. Dollar (AUDUSD) and New Zealand Dollar/U.S. Dollar (NZDUSD) foreign exchange (forex) rates time series.\n"
   ]
  },
  {
   "cell_type": "markdown",
   "metadata": {},
   "source": [
    "### **2.2 Engle-Granger Two-Step Procedure (EG Test) to Test for Cointegration**"
   ]
  },
  {
   "cell_type": "markdown",
   "metadata": {},
   "source": [
    "In the last section, we talked about the definition of two time series cointegrating with each other. In this section, we are going to introduce methods to test for two time series to see if they are cointegrated. First, we will introduce the **Engle-Granger two-step procedure**. We'll call it the EG test for short in this lesson. This is a popular method to test for cointegration. In the next lesson, we will introduce another method.\n",
    "\n",
    "Engle and Granger (1987) proposed a method to test for cointegration of two time series. The EG test is based on the definition of cointegration we discussed in the previous section.\n",
    "\n",
    "The idea of EG test is as follows. Assume $x_t$ and $y_t$ are two $I(1)$  time series. We first run the following OLS regression:\n",
    "\n",
    "$$ y_t = \\beta_0 + \\beta_1 x_t + u_t $$ \n",
    "\n",
    "where $u_t$ is the residuals and $\\beta_1$ is the cointegration coefficient.\n",
    "\n",
    "Sometimes, we call $u_t$ an equilibrium error since it measures the deviation of the actions of $x_t$ and $y_t$ from long-term equilibrium. Then, we run an **Augmented Dickey-Fuller** test on $u_t$ to see if it has a unit root. If $u_t$ has a unit root, it means that $x_t$ and $y_t$ are not cointegrated. If $u_t$ has no unit root, then $x_t$ and $y_t$ are cointegrated. However, there is a twist. Since $u_t$ is a residual from an OLS regression of two time series, we cannot use the regular Dickey-Fuller table to decide the critical values for testing. Phillips and Ouliaris (1990) (**PO Test**) provided a method and tables for critical values to check for unit roots for residuals. Instead of the ADF test, Phillips and Ouliaris use another popular unit root test, the **Phillips-Perron Test**, to check for unit root and generate the tables. In general, these types of tests we are using are **residual-based tests for cointegration** since we check residuals for unit root to decide cointegration. We also call it a **single equation approach** as we only run one OLS regression. The $H_0$ and $H_1$ of the test is as follows:\n",
    "\n",
    "> $H_0$: $u_t$ has unit root (non-stationary) / $x_t$ and $y_t$ are not cointegrated <br>\n",
    "> $H_1$: $u_t$ does not have unit root (stationary) / $x_t$ and $y_t$ are cointegrated\n",
    "\n",
    "If we reject $H_0$ and confirm $x_t$ and $y_t$ are cointegrated, we say the estimate of $\\beta_1$ from the OLS regression is **super-consistent**. Super-consistent means the sample estimate converges to the true population parameter. We do not need to take the difference of $x_t$ and $y_t$ before running an OLS regression. We do not have to worry about the spurious regression issue when $x_t$ and $y_t$ are cointegrated.\n",
    "\n",
    "Let's summarize the steps to run an EG test.\n",
    "\n",
    "> a. Check if $x_t$ and $y_t$ are $I(1)$. <br>\n",
    "> b. Run an OLS regression of $x_t$ on $y_t$ or $y_t$ on $x_t$ and obtain the residual $u_t$. <br>\n",
    "> c. Test $u_t$ for a unit root by using Phillips and Ouliaris method or tables. If $u_t$ has a unit root, then $x_t$ and $y_t$ are not cointegrated. If $u_t$ does not have a unit root, then $x_t$ and $y_t$ are cointegrated. <br>\n"
   ]
  },
  {
   "cell_type": "markdown",
   "metadata": {},
   "source": [
    "## **5. ECM Proof**"
   ]
  },
  {
   "cell_type": "markdown",
   "metadata": {},
   "source": [
    "Assume we have two cointegrated $I(1)$ time series $x_t$ and $y_t$. We can write the long-term equilibrium as follows:\n",
    "\n",
    "$$ y_t = \\beta_0 + \\beta_1 x_t + \\epsilon_t $$\n",
    "\n",
    "We would like to build a regression model for $x_t$ and $y_t$ that can account for their long-term relationship and short-term dynamics. We can write the model as the following regression:\n",
    "\n",
    "$$ y_t = \\theta_0 + \\theta_1 x_t + \\theta_2 x_{t-1} + \\phi y_{t-1} + u_t $$\n",
    "\n",
    "Where $u_t$ is serially uncorrelated white noise\n",
    "\n",
    "First, we add lag term $y_{t-1}$ to both side of the regression.\n",
    "\n",
    "$$ y_t - y_{t-1} = \\theta_0 + \\theta_1 x_t + \\theta x_{t-1} + \\phi y_{t-1} - y_{t-1} + u_t $$\n",
    "\n",
    "$$ \\Rightarrow \\Delta y_t = \\theta_0 + \\theta_1 x_t + \\theta x_{t-1} - (1 - \\phi) y_{t-1} + u_t $$\n",
    "\n",
    "\n",
    "We then add these two terms into the right-hand side of the regression $-\\theta_1 x_{t-1}$ and $\\theta_1 x_{t-1}$.\n",
    "\n",
    "$$ \\Delta y_t = \\theta_0 + \\theta_1 x_t - \\theta_1 x_{t-1} + \\theta_1 x_{t-1} + \\theta_2 x_{t-1} - (1-\\phi) y_{t-1} + u_t $$\n",
    "\n",
    "$$ \\Rightarrow \\Delta y_t = \\theta_0 + \\theta_1 \\Delta x_t + (\\theta_1 + \\theta_2) x_{t-1} - (1 - \\phi) y_{t-1} + u_t $$\n",
    "\n",
    "$$ \\Rightarrow \\Delta y_t = \\theta_0 + \\theta_1 \\Delta x_t - (1 - \\phi) [y_{t-1} - \\frac{\\theta_1+\\theta_2}{1-\\phi} x_{t-1}] + u_t $$\n",
    "\n",
    "\n",
    "Then, we add these two terms into the right-hand side of the regression $-(1-\\phi) \\beta_0$ and $(1-\\phi) \\beta_0$.\n",
    "\n",
    "$$ \\Delta y_t = \\theta_0 - (1-\\phi) \\beta_0 + \\theta_1 \\Delta x_t - (1-\\phi) [y_{t-1} - \\beta_0 - \\frac{\\theta_1+\\theta_2}{1-\\phi} x_{t-1}] + u_t $$\n",
    "\n",
    "We can rewrite the above regression as follows:\n",
    "\n",
    "$$ \\Delta y_t = \\alpha_0 + \\alpha_1 \\Delta x_t + \\lambda [y_{t-1} - \\beta_0 - \\beta_1 x_{t-1}] + u_t $$\n",
    "\n",
    "Where\n",
    "\n",
    "> $\\alpha_0 = \\theta_0 - (1 - \\phi) \\beta_0$ <br>\n",
    "> $\\alpha_1 = \\theta_1$  <br>\n",
    "> $\\lambda = -(1 - \\phi)$  <br>\n",
    "> $\\beta_1 = \\frac{\\theta_1+\\theta_2}{1-\\phi}$ <br>\n",
    "\n",
    "\n",
    "We can also replace the formula in the $[ \\ ]$ with the error term in $t-1$ from the long-term equilibrium equation.\n",
    "\n",
    "$$ \\Delta y_t = \\alpha_0 + \\alpha_1 \\Delta x_t + \\lambda [\\epsilon_{t-1}] + u_t $$\n"
   ]
  },
  {
   "cell_type": "markdown",
   "metadata": {},
   "source": [
    "In section 1, we talked about the fact that if we run a regression on non-stationary time series, we might run into a spurious regression issue. In section 2, we went through the situation when two time series are cointegrated, the residuals of their regression will be stationary. We also discussed the fact that when time series are cointegrated, there exists a long-term equilibrium among them. We have already seen many different financial data moving in different directions in short term but in the long run they display a consistent relationship. How can we use what we have learned about cointegration to build a financial model and analyze the behavior of cointegrated non-stationary time series? The error correction model provides an answer for us. \n",
    "\n",
    "**Error correction model (ECM)** is actually a continuation of cointegration analysis. Let's use an example to understand what ECM is. Assume we have two cointegrated non-stationary time series $x_t$ and $y_t$. \n",
    "\n",
    "Since $x_t$ and $y_t$ are cointegrated, they exist in a long-term relationship as follows:\n",
    "\n",
    "$$ y_t = \\beta_0 + \\beta_1 x_t + \\epsilon_t $$\n",
    "\n",
    "We can rewrite the relationship as follows:\n",
    "\n",
    "$$ \\epsilon_t = y_t - \\beta_0 - \\beta_1 x_t $$\n",
    "\n",
    "However, we would like to build a model that can include both long-term relationships and short-term fluctuations. We still want $y_t$ to be the dependent time series and $x_t$ to be an independent time series. We also will include lag terms $x_{t-1}$ and $y_{t-1}$ so the model can account for the impact of time series in the previous time points. Now, we can write a new regression model as follows: \n",
    "\n",
    "$$ y_t = \\theta_0 + \\theta_1 x_t + \\theta_2 x_{t-1} + \\phi y_{t-1} + u_t $$\n",
    "\n",
    "Where $u_t$ is serially uncorrelated white noise.\n",
    "\n",
    "With some manipulation and substitutions from the long-term equilibrium (cointegration) equation, we can rewrite the above regression model as follows: (proof is in the ECM Proof section)\n",
    "\n",
    "$$ \\Delta y_t = \\alpha_0 + \\alpha_1 \\Delta x_t + \\lambda[y_{t-1} - \\beta_0 - \\beta_1 x_{t-1}] + u_t $$\n",
    "\n",
    "Where\n",
    "\n",
    "> $\\alpha_0 = \\theta_0 - (1-\\phi) \\beta_0$ <br>\n",
    "> $\\alpha_1 = \\theta_1$  <br>\n",
    "> $\\lambda = -(1 - \\phi)$  <br>\n",
    "> $\\beta_1 = \\frac{\\theta_1+\\theta_2}{1-\\phi}$ <br>\n",
    "\n",
    "If we replace the formula inside the square brackets in the equation above with the long-term equilibrium equation, we get:\n",
    "\n",
    "$$ \\Delta y_t = \\alpha_0 + \\alpha_1 \\Delta x_t + \\lambda [\\epsilon_{t-1}] + u_t $$\n",
    "\n",
    "This is the basic setup for an error correction model. This is a very powerful model that combines the short-term behavior and long-term behavior of $x_t$ and $y_t$. \n",
    "\n",
    "> **a)** $\\alpha_1\\Delta x_t $: This part captures the short-term impact of the movement of $x_t$ on $y_t$. <br>\n",
    ">\n",
    ">**b)** We know both $x_t$ and $y_t$ are $I(1)$, so $\\Delta x_t$ and $\\Delta y_t$ are $I(0)$ and stationary. Also, since $x_t$ and $y_t$ are cointegrated, the residuals $\\epsilon_t$ from their regression will be $I(0)$ too. Therefore, in ECM regression, all our terms are stationary. We will not have the spurious regression issue. <br>\n",
    ">\n",
    ">**c)** $\\lambda[\\epsilon_{t-1}]$: This is the error correction term in the regression. This is the part of the regression that captures the long-term dynamics of $x_t$ and $y_t$. What does it mean? Say at time $t-1$, $\\ \\epsilon_{t-1}$ is positive. It means $y_{t-1}\\gt \\beta_0+\\beta_1 x_{t-1}$. Hence, there is a disequilibrium happening for $x$ and $y$ at $t-1$. Assume $\\lambda$ is negative. At time $t$, according to the regression model, $\\lambda$ is negative, $\\epsilon_{t-1}$ is positive, and $\\Delta y_t$ will be negative at time $t$. It means that at time $t$, $\\ y$ will decrease in order to return to a long-term equilibrium state. This is why this term is called the error correction term and why this model is called error correction model. This term provides the ability to model the force to bring short-term data deviation back to a long-term equilibrium state. $\\lambda$ is called the **error correction coefficient**. It adjusts the speed at which the data will go back to its long-term equilibrium state. In order to have the error correction function work, we need to make sure that $\\lambda$ is negative. Some literature will say $\\lambda$ needs to be positive because they separate the negative sign out from $\\lambda$. Be careful when you read other ECM materials. We usually require $\\lambda$ to be between $0$ and $-1$ since in most cases the full adjustment does not happen right away. <br>\n",
    "\n",
    "Before we conclude the theory of this lesson, let's recap what we have learned.\n",
    "\n",
    "> **a.** When all time series are stationary -> Run OLS regression or VAR model <br>\n",
    ">\n",
    "> **b.** When two time series are not stationary: <br>\n",
    "> -  If non-stationary time series are not cointegrated -> Take the first difference of non-stationary time series and check for stationarity before running an OLS regression. <br>\n",
    "> - If non-stationary time series are cointegrated -> Error correction model <br>\n",
    ">\n",
    "> **c.** When one time series is not stationary and the other one is stationary -> Take the first difference of the non-stationary time series and check for stationarity before running an OLS regression. <br>\n",
    ">\n",
    "> **d.** When there are more than two non-stationary time series -> We will discuss this situation in the next lesson. <br>\n"
   ]
  }
 ],
 "metadata": {
  "kernelspec": {
   "display_name": "Python 3",
   "language": "python",
   "name": "python3"
  },
  "language_info": {
   "codemirror_mode": {
    "name": "ipython",
    "version": 3
   },
   "file_extension": ".py",
   "mimetype": "text/x-python",
   "name": "python",
   "nbconvert_exporter": "python",
   "pygments_lexer": "ipython3",
   "version": "3.10.5"
  }
 },
 "nbformat": 4,
 "nbformat_minor": 2
}
