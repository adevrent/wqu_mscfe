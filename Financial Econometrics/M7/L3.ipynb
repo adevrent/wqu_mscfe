{
 "cells": [
  {
   "cell_type": "code",
   "execution_count": 2,
   "metadata": {},
   "outputs": [],
   "source": [
    "import copy\n",
    "import itertools\n",
    "\n",
    "import matplotlib.pyplot as plt\n",
    "import numpy as np\n",
    "from matplotlib.colors import ListedColormap"
   ]
  },
  {
   "cell_type": "code",
   "execution_count": 3,
   "metadata": {},
   "outputs": [],
   "source": [
    "# Agent class\n",
    "\n",
    "\n",
    "class Agent:\n",
    "    # Initialize object\n",
    "    def __init__(self, x, y, kind, preference, world):\n",
    "        self.x = x\n",
    "        self.y = y\n",
    "        self.kind = kind\n",
    "        self.preference = preference  # satisfaction benchmark\n",
    "        self.world = world\n",
    "\n",
    "    # Method to gather array of neighbors' coordinates\n",
    "    def know_neighbors(self):\n",
    "        self.neighbors = [self.world.coords[x % self.world.size, y % self.world.size] for x, y in itertools.product(range(self.x - 1, self.x + 2), range(self.y - 1, self.y + 2))]\n",
    "\n",
    "    # Method to define if cell is empty\n",
    "    def vacant(self):\n",
    "        return self.kind == 0\n",
    "\n",
    "    # Method to measure happiness level\n",
    "    def happiness(self):\n",
    "        neighbor_kinds = [n.kind for n in self.neighbors]\n",
    "        numsame = neighbor_kinds.count(self.kind)\n",
    "        numvacant = neighbor_kinds.count(0)\n",
    "        if numvacant == 8:\n",
    "            if self.vacant():\n",
    "                return 1.0\n",
    "            return 0.0\n",
    "        return (numsame - 1) / (8 - numvacant)  # Subtract 1 from the count of similar neighbors to exclude the agent itself.\n",
    "\n",
    "    # Method to check if agent is dissatisfied\n",
    "    def dissatisfied(self):\n",
    "        return self.happiness() < self.preference\n",
    "\n",
    "    # Method to swap places with another cell\n",
    "    def swap(self, partner):\n",
    "        self.kind, partner.kind = partner.kind, self.kind"
   ]
  },
  {
   "cell_type": "code",
   "execution_count": 4,
   "metadata": {},
   "outputs": [],
   "source": [
    "# World class (grid of squares to represent world)\n",
    "\n",
    "\n",
    "class World:\n",
    "    # Initialize object, a square world with edges connected to each other like a torus\n",
    "    def __init__(self, size, kinds, probs, preference):\n",
    "        self.size = size  # length of one edge\n",
    "        self.preference = preference  # satisfaction benchmark for agents\n",
    "        self.coords = self.populate_world(kinds, probs, preference)\n",
    "        [a.know_neighbors() for row in self.coords for a in row]\n",
    "        self.num_dissatisfied = size**2\n",
    "        self.num_vacant = sum([a.vacant() for row in self.coords for a in row])\n",
    "\n",
    "    # Method to fill the world object grid with randomly placed vacant, red and blue cells\n",
    "    def populate_world(self, kinds, probs, preference):\n",
    "        return np.array(\n",
    "            [\n",
    "                [\n",
    "                    Agent(x, y, np.random.choice(kinds, p=probs), preference, self)\n",
    "                    for y in range(self.size)\n",
    "                ]\n",
    "                for x in range(self.size)\n",
    "            ]\n",
    "        )\n",
    "\n",
    "    # Method to form array corresponding to the world object\n",
    "    def atlas(self):\n",
    "        return np.array([[a.kind for a in row] for row in self.coords])\n",
    "\n",
    "    # Method to move unhappy agents to vacant plots\n",
    "    def advance_turn(self):\n",
    "        dissatisfied = []\n",
    "        vacant = []\n",
    "        for row in self.coords:\n",
    "            for a in row:\n",
    "                if a.vacant():\n",
    "                    vacant.append(a)\n",
    "                elif a.dissatisfied():\n",
    "                    dissatisfied.append(a)\n",
    "        self.num_dissatisfied = len(dissatisfied)\n",
    "        np.random.shuffle(dissatisfied)\n",
    "        np.random.shuffle(vacant)\n",
    "        num_swap = min(self.num_dissatisfied, self.num_vacant)\n",
    "        for indx in range(num_swap):\n",
    "            dissatisfied[indx].swap(vacant[indx])\n",
    "\n",
    "    # Method to measure happiness for each of the cell in the world grid and form array\n",
    "    def happiness_distribution(self):\n",
    "        return [a.happiness() for row in self.coords for a in row if not a.vacant()]"
   ]
  },
  {
   "cell_type": "code",
   "execution_count": 5,
   "metadata": {},
   "outputs": [],
   "source": [
    "# WorldArchiving class to preserve/archive the deep copy images of the world at each turn\n",
    "\n",
    "\n",
    "class WorldArchiving(World):\n",
    "    # Initialize objects\n",
    "    def __init__(self, size, kinds, probs, preference):\n",
    "        super(WorldArchiving, self).__init__(size, kinds, probs, preference)\n",
    "        self.archived_atlases = []\n",
    "        self.mean_happiness = [np.mean(self.happiness_distribution())]\n",
    "\n",
    "    # Method that saves the deep copy image in archived_atlases array\n",
    "    def archive(self):\n",
    "        self.archived_atlases.append(copy.deepcopy(self.atlas()))\n",
    "\n",
    "    # Method that moves unhappy agents, then saves the deep copy image of world grid\n",
    "    # and mean happiness for each iteration until percent of unhappy agents is below threshold\n",
    "    def play(self, threshold=0.01):\n",
    "        self.archive()\n",
    "        while self.num_dissatisfied / (self.size**2) > threshold:\n",
    "            self.advance_turn()\n",
    "            self.archive()\n",
    "            self.mean_happiness.append(np.mean(self.happiness_distribution()))"
   ]
  },
  {
   "cell_type": "code",
   "execution_count": 6,
   "metadata": {},
   "outputs": [],
   "source": [
    "# Function that plots world atlas along with mean happiness for iteration level (turn)\n",
    "\n",
    "\n",
    "def plot_atlas_happiness(worlds, turn):\n",
    "    fig, ax = plt.subplots(1, 2, figsize=(10, 5))\n",
    "    plt.style.use(\"ggplot\")\n",
    "\n",
    "    # Plot world atlas on left-hand-side\n",
    "    cmap = ListedColormap([\"white\", \"red\", \"blue\"])\n",
    "    ax[0].grid(False)\n",
    "    ax[0].pcolor(worlds.archived_atlases[turn], cmap=cmap)\n",
    "\n",
    "    # Plot happiness percent on right-hand-side\n",
    "    ax[1].plot(\n",
    "        range(1, len(worlds.archived_atlases[:turn]) + 1), worlds.mean_happiness[:turn]\n",
    "    )\n",
    "    plt.xlim([0, len(worlds.archived_atlases)])\n",
    "    plt.ylim([0, 1])\n",
    "    plt.xlabel(\"Time\")\n",
    "    plt.ylabel(\"Percent satisfied\")\n",
    "    plt.tight_layout()\n",
    "\n",
    "    return fig"
   ]
  },
  {
   "cell_type": "code",
   "execution_count": 7,
   "metadata": {},
   "outputs": [
    {
     "data": {
      "image/png": "[encoded data removed]",
      "text/plain": [
       "<Figure size 720x360 with 2 Axes>"
      ]
     },
     "metadata": {
      "needs_background": "light"
     },
     "output_type": "display_data"
    }
   ],
   "source": [
    "# Create 51x51 world grid with satisfaction benchmark 0.6 and\n",
    "# randomly filled cells with:\n",
    "#    0.2 portion of vacant cells,\n",
    "#    0.4 portion of red cells and\n",
    "#    0.4 portion of blue cells\n",
    "\n",
    "\n",
    "np.random.seed(123)\n",
    "worlds06 = WorldArchiving(51, [0, 1, 2], [0.2, 0.4, 0.4], 0.6)\n",
    "\n",
    "# Apply play() method with zero threshold i.e until all agents are happy\n",
    "worlds06.play(threshold=0.00)\n",
    "\n",
    "# Plot world atlas and happiness level at the initial stage (turn=0)\n",
    "plot_atlas_happiness(worlds06, turn=0)\n",
    "plt.show()"
   ]
  },
  {
   "cell_type": "markdown",
   "metadata": {},
   "source": [
    "In this piece of code above we have applied `worlds06.play(threshold=0.00)`. The processes involved in this operation can be summarized as follows: \n",
    "\n",
    "> a. Populate world with different kind of agents from Group 1 and Group 2 and vacant plots => <br>\n",
    "> b. Take a snapshot image of the atlas => <br>\n",
    "> b. Check each agent's neighbors => <br>\n",
    "> b. Decide if each agent is dissatisfied with their neighborhood => <br>\n",
    "> c. Repeat the process until all agents are checked => <br>\n",
    "> d. Calculate the percentage of unhappy agents among all agents => <br>\n",
    "> e. Move unhappy agents to a new location =>  <br>\n",
    "\n",
    "These steps complete a round. Then, the code will continue with the next round until all agents have happiness level above *threshold=0.00*. The zero threshold in this case means that we leave no dissatisfied agents in the world grid. We can now plot the results of the final turn"
   ]
  },
  {
   "cell_type": "code",
   "execution_count": 8,
   "metadata": {},
   "outputs": [
    {
     "data": {
      "image/png": "[encoded data removed]",
      "text/plain": [
       "<Figure size 720x360 with 2 Axes>"
      ]
     },
     "metadata": {},
     "output_type": "display_data"
    }
   ],
   "source": [
    "# Plot world atlas and happiness level at the final stage\n",
    "\n",
    "plot_atlas_happiness(worlds06, len(worlds06.archived_atlases) - 1)\n",
    "plt.show()"
   ]
  }
 ],
 "metadata": {
  "kernelspec": {
   "display_name": "Python 3",
   "language": "python",
   "name": "python3"
  },
  "language_info": {
   "codemirror_mode": {
    "name": "ipython",
    "version": 3
   },
   "file_extension": ".py",
   "mimetype": "text/x-python",
   "name": "python",
   "nbconvert_exporter": "python",
   "pygments_lexer": "ipython3",
   "version": "3.10.5"
  }
 },
 "nbformat": 4,
 "nbformat_minor": 2
}
